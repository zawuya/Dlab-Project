{
  "nbformat": 4,
  "nbformat_minor": 0,
  "metadata": {
    "colab": {
      "private_outputs": true,
      "provenance": [],
      "include_colab_link": true
    },
    "kernelspec": {
      "name": "python3",
      "display_name": "Python 3"
    },
    "language_info": {
      "name": "python"
    }
  },
  "cells": [
    {
      "cell_type": "markdown",
      "metadata": {
        "id": "view-in-github",
        "colab_type": "text"
      },
      "source": [
        "<a href=\"https://colab.research.google.com/github/zawuya/Dlab-Project/blob/master/model_topic_option_analysed.ipynb\" target=\"_parent\"><img src=\"https://colab.research.google.com/assets/colab-badge.svg\" alt=\"Open In Colab\"/></a>"
      ]
    },
    {
      "cell_type": "code",
      "execution_count": null,
      "metadata": {
        "id": "tis1SA1NtQQH"
      },
      "outputs": [],
      "source": [
        "# For measuring classification performance\n",
        "from sklearn.metrics import accuracy_score, f1_score \n",
        "\n",
        "# For plotting bar graphs and charts.\n",
        "import seaborn as sns\n",
        "\n",
        " # Manipulation of big data sets\n",
        "import pandas as pd\n",
        "\n",
        "# For  multidimensional array object mathematical, logical, shape manipulation\n",
        "import numpy as np \n",
        "\n",
        "# Regular expression operations\n",
        "import re\n",
        "\n",
        "#OS for file operations\n",
        "import os\n"
      ]
    },
    {
      "cell_type": "code",
      "source": [
        "#load dataset from a file\n",
        "f1score_data=pd.read_excel(\"F1score_topic_final.xlsx\", dtype=str)"
      ],
      "metadata": {
        "id": "T4Mu1gxOVyh9"
      },
      "execution_count": null,
      "outputs": []
    },
    {
      "cell_type": "code",
      "source": [
        "import altair as alt\n",
        "from vega_datasets import data\n",
        "\n",
        "source = f1score_data\n",
        "\n",
        "alt.Chart(source).mark_bar().encode(\n",
        "    x='classifier',\n",
        "    y=\"f1score:Q\",\n",
        "    # The highlight will be set on the result of a conditional statement\n",
        "    color=alt.condition(\n",
        "        alt.datum.classifier == 'Logistic Regression_Bal_under',\n",
        "        alt.value('orange'),     # which sets the bar orange.\n",
        "        alt.value('steelblue')   # And if it's not true it sets the bar steelblue.\n",
        "    )\n",
        ").properties(width=600)"
      ],
      "metadata": {
        "id": "EAQAbkIhhSAF"
      },
      "execution_count": null,
      "outputs": []
    }
  ]
}