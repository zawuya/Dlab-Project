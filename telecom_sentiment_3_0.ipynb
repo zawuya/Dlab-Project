{
  "cells": [
    {
      "cell_type": "markdown",
      "metadata": {
        "id": "view-in-github",
        "colab_type": "text"
      },
      "source": [
        "<a href=\"https://colab.research.google.com/github/zawuya/Exploratory-Data-Analysis-/blob/Dlab-Project/telecom_sentiment_3_0.ipynb\" target=\"_parent\"><img src=\"https://colab.research.google.com/assets/colab-badge.svg\" alt=\"Open In Colab\"/></a>"
      ]
    },
    {
      "cell_type": "markdown",
      "id": "9408c957-7d4e-4410-ae1c-fcb737015953",
      "metadata": {
        "id": "9408c957-7d4e-4410-ae1c-fcb737015953"
      },
      "source": [
        "## Version 3.1"
      ]
    },
    {
      "cell_type": "markdown",
      "id": "b39beb5a",
      "metadata": {
        "id": "b39beb5a"
      },
      "source": [
        "## 1. Import dataset"
      ]
    },
    {
      "cell_type": "code",
      "execution_count": 178,
      "id": "5fba1c93",
      "metadata": {
        "id": "5fba1c93"
      },
      "outputs": [],
      "source": [
        "#import useful libraries\n",
        "import pandas as pd\n",
        "import numpy as np\n",
        "import seaborn as sns\n",
        "import re \n",
        "import joblib\n",
        "import matplotlib.pyplot as plt\n",
        "import warnings\n",
        "import xgboost as xgb\n",
        "import catboost as ctb\n",
        "import lightgbm as ltb\n",
        "from sklearn.metrics import accuracy_score, f1_score\n",
        "from sklearn.metrics import confusion_matrix, ConfusionMatrixDisplay \n",
        "from sklearn.pipeline import Pipeline\n",
        "from sklearn.model_selection import train_test_split\n",
        "from sklearn.feature_extraction.text import CountVectorizer, TfidfTransformer\n",
        "from sklearn.ensemble import RandomForestClassifier\n",
        "from sklearn.ensemble import GradientBoostingClassifier\n",
        "from sklearn.neighbors import KNeighborsClassifier\n",
        "from sklearn.tree import DecisionTreeClassifier\n",
        "from sklearn.linear_model import LogisticRegression\n",
        "from sklearn.naive_bayes import MultinomialNB\n",
        "from sklearn.svm import SVC\n",
        "#from sklearn.xgboost import XGBClassifier\n",
        "#from sklearn.catboost import CatBoostClassifier\n",
        "#from sklearn.lightgbm import LGBMClassifier\n"
      ]
    },
    {
      "cell_type": "code",
      "execution_count": 179,
      "id": "15b58087-ac00-49b0-b48c-527ef1a7418e",
      "metadata": {
        "tags": [],
        "id": "15b58087-ac00-49b0-b48c-527ef1a7418e"
      },
      "outputs": [],
      "source": [
        "warnings.filterwarnings(\"ignore\")"
      ]
    },
    {
      "cell_type": "code",
      "execution_count": 180,
      "id": "e228f74a",
      "metadata": {
        "id": "e228f74a"
      },
      "outputs": [],
      "source": [
        "telecom_data=pd.read_csv(\"telecom_TZ_sentiment_data2.csv\", dtype=str)"
      ]
    },
    {
      "cell_type": "code",
      "execution_count": 181,
      "id": "e10f9d5d",
      "metadata": {
        "colab": {
          "base_uri": "https://localhost:8080/",
          "height": 206
        },
        "id": "e10f9d5d",
        "outputId": "401508b8-85ab-4dad-98f4-e2df604c228a"
      },
      "outputs": [
        {
          "output_type": "execute_result",
          "data": {
            "text/plain": [
              "                        date  \\\n",
              "0  2021-10-23 14:36:34+00:00   \n",
              "1  2021-09-28 15:37:16+00:00   \n",
              "2  2022-09-18 13:37:06+00:00   \n",
              "3  2021-04-08 18:34:13+00:00   \n",
              "4  2022-09-24 05:03:32+00:00   \n",
              "\n",
              "                                             comment platform sentiment  \n",
              "0        Chezea songesha wew https://t.co/FfnSsIkZGU  Twitter         1  \n",
              "1  Tafuta hela sana ili usilalamikie mabadiliko y...  Twitter         1  \n",
              "2  Hivi huu mtandao wa Tigo una tatizo au simu ya...  Twitter        -1  \n",
              "3  @DaktariWaWatoto Tamtam bando ni ðŸ”¥ ila kuin...  Twitter         1  \n",
              "4  @VodacomTanzania @ImranHussein84 Tatizo kifuru...  Twitter        -1  "
            ],
            "text/html": [
              "\n",
              "  <div id=\"df-492bde4e-3031-40c1-9da3-9c3762b12e89\">\n",
              "    <div class=\"colab-df-container\">\n",
              "      <div>\n",
              "<style scoped>\n",
              "    .dataframe tbody tr th:only-of-type {\n",
              "        vertical-align: middle;\n",
              "    }\n",
              "\n",
              "    .dataframe tbody tr th {\n",
              "        vertical-align: top;\n",
              "    }\n",
              "\n",
              "    .dataframe thead th {\n",
              "        text-align: right;\n",
              "    }\n",
              "</style>\n",
              "<table border=\"1\" class=\"dataframe\">\n",
              "  <thead>\n",
              "    <tr style=\"text-align: right;\">\n",
              "      <th></th>\n",
              "      <th>date</th>\n",
              "      <th>comment</th>\n",
              "      <th>platform</th>\n",
              "      <th>sentiment</th>\n",
              "    </tr>\n",
              "  </thead>\n",
              "  <tbody>\n",
              "    <tr>\n",
              "      <th>0</th>\n",
              "      <td>2021-10-23 14:36:34+00:00</td>\n",
              "      <td>Chezea songesha wew https://t.co/FfnSsIkZGU</td>\n",
              "      <td>Twitter</td>\n",
              "      <td>1</td>\n",
              "    </tr>\n",
              "    <tr>\n",
              "      <th>1</th>\n",
              "      <td>2021-09-28 15:37:16+00:00</td>\n",
              "      <td>Tafuta hela sana ili usilalamikie mabadiliko y...</td>\n",
              "      <td>Twitter</td>\n",
              "      <td>1</td>\n",
              "    </tr>\n",
              "    <tr>\n",
              "      <th>2</th>\n",
              "      <td>2022-09-18 13:37:06+00:00</td>\n",
              "      <td>Hivi huu mtandao wa Tigo una tatizo au simu ya...</td>\n",
              "      <td>Twitter</td>\n",
              "      <td>-1</td>\n",
              "    </tr>\n",
              "    <tr>\n",
              "      <th>3</th>\n",
              "      <td>2021-04-08 18:34:13+00:00</td>\n",
              "      <td>@DaktariWaWatoto Tamtam bando ni ðŸ”¥ ila kuin...</td>\n",
              "      <td>Twitter</td>\n",
              "      <td>1</td>\n",
              "    </tr>\n",
              "    <tr>\n",
              "      <th>4</th>\n",
              "      <td>2022-09-24 05:03:32+00:00</td>\n",
              "      <td>@VodacomTanzania @ImranHussein84 Tatizo kifuru...</td>\n",
              "      <td>Twitter</td>\n",
              "      <td>-1</td>\n",
              "    </tr>\n",
              "  </tbody>\n",
              "</table>\n",
              "</div>\n",
              "      <button class=\"colab-df-convert\" onclick=\"convertToInteractive('df-492bde4e-3031-40c1-9da3-9c3762b12e89')\"\n",
              "              title=\"Convert this dataframe to an interactive table.\"\n",
              "              style=\"display:none;\">\n",
              "        \n",
              "  <svg xmlns=\"http://www.w3.org/2000/svg\" height=\"24px\"viewBox=\"0 0 24 24\"\n",
              "       width=\"24px\">\n",
              "    <path d=\"M0 0h24v24H0V0z\" fill=\"none\"/>\n",
              "    <path d=\"M18.56 5.44l.94 2.06.94-2.06 2.06-.94-2.06-.94-.94-2.06-.94 2.06-2.06.94zm-11 1L8.5 8.5l.94-2.06 2.06-.94-2.06-.94L8.5 2.5l-.94 2.06-2.06.94zm10 10l.94 2.06.94-2.06 2.06-.94-2.06-.94-.94-2.06-.94 2.06-2.06.94z\"/><path d=\"M17.41 7.96l-1.37-1.37c-.4-.4-.92-.59-1.43-.59-.52 0-1.04.2-1.43.59L10.3 9.45l-7.72 7.72c-.78.78-.78 2.05 0 2.83L4 21.41c.39.39.9.59 1.41.59.51 0 1.02-.2 1.41-.59l7.78-7.78 2.81-2.81c.8-.78.8-2.07 0-2.86zM5.41 20L4 18.59l7.72-7.72 1.47 1.35L5.41 20z\"/>\n",
              "  </svg>\n",
              "      </button>\n",
              "      \n",
              "  <style>\n",
              "    .colab-df-container {\n",
              "      display:flex;\n",
              "      flex-wrap:wrap;\n",
              "      gap: 12px;\n",
              "    }\n",
              "\n",
              "    .colab-df-convert {\n",
              "      background-color: #E8F0FE;\n",
              "      border: none;\n",
              "      border-radius: 50%;\n",
              "      cursor: pointer;\n",
              "      display: none;\n",
              "      fill: #1967D2;\n",
              "      height: 32px;\n",
              "      padding: 0 0 0 0;\n",
              "      width: 32px;\n",
              "    }\n",
              "\n",
              "    .colab-df-convert:hover {\n",
              "      background-color: #E2EBFA;\n",
              "      box-shadow: 0px 1px 2px rgba(60, 64, 67, 0.3), 0px 1px 3px 1px rgba(60, 64, 67, 0.15);\n",
              "      fill: #174EA6;\n",
              "    }\n",
              "\n",
              "    [theme=dark] .colab-df-convert {\n",
              "      background-color: #3B4455;\n",
              "      fill: #D2E3FC;\n",
              "    }\n",
              "\n",
              "    [theme=dark] .colab-df-convert:hover {\n",
              "      background-color: #434B5C;\n",
              "      box-shadow: 0px 1px 3px 1px rgba(0, 0, 0, 0.15);\n",
              "      filter: drop-shadow(0px 1px 2px rgba(0, 0, 0, 0.3));\n",
              "      fill: #FFFFFF;\n",
              "    }\n",
              "  </style>\n",
              "\n",
              "      <script>\n",
              "        const buttonEl =\n",
              "          document.querySelector('#df-492bde4e-3031-40c1-9da3-9c3762b12e89 button.colab-df-convert');\n",
              "        buttonEl.style.display =\n",
              "          google.colab.kernel.accessAllowed ? 'block' : 'none';\n",
              "\n",
              "        async function convertToInteractive(key) {\n",
              "          const element = document.querySelector('#df-492bde4e-3031-40c1-9da3-9c3762b12e89');\n",
              "          const dataTable =\n",
              "            await google.colab.kernel.invokeFunction('convertToInteractive',\n",
              "                                                     [key], {});\n",
              "          if (!dataTable) return;\n",
              "\n",
              "          const docLinkHtml = 'Like what you see? Visit the ' +\n",
              "            '<a target=\"_blank\" href=https://colab.research.google.com/notebooks/data_table.ipynb>data table notebook</a>'\n",
              "            + ' to learn more about interactive tables.';\n",
              "          element.innerHTML = '';\n",
              "          dataTable['output_type'] = 'display_data';\n",
              "          await google.colab.output.renderOutput(dataTable, element);\n",
              "          const docLink = document.createElement('div');\n",
              "          docLink.innerHTML = docLinkHtml;\n",
              "          element.appendChild(docLink);\n",
              "        }\n",
              "      </script>\n",
              "    </div>\n",
              "  </div>\n",
              "  "
            ]
          },
          "metadata": {},
          "execution_count": 181
        }
      ],
      "source": [
        "telecom_data.head()"
      ]
    },
    {
      "cell_type": "markdown",
      "id": "649b7893",
      "metadata": {
        "id": "649b7893"
      },
      "source": [
        "# 2. Exploratory Data Analysis"
      ]
    },
    {
      "cell_type": "code",
      "execution_count": 182,
      "id": "15b077e9",
      "metadata": {
        "colab": {
          "base_uri": "https://localhost:8080/"
        },
        "id": "15b077e9",
        "outputId": "d451fbdf-8121-4e96-ae37-6dcb154637cb"
      },
      "outputs": [
        {
          "output_type": "stream",
          "name": "stdout",
          "text": [
            "<class 'pandas.core.frame.DataFrame'>\n",
            "RangeIndex: 8790 entries, 0 to 8789\n",
            "Data columns (total 4 columns):\n",
            " #   Column     Non-Null Count  Dtype \n",
            "---  ------     --------------  ----- \n",
            " 0   date       8789 non-null   object\n",
            " 1   comment    8789 non-null   object\n",
            " 2   platform   8788 non-null   object\n",
            " 3   sentiment  8782 non-null   object\n",
            "dtypes: object(4)\n",
            "memory usage: 274.8+ KB\n"
          ]
        }
      ],
      "source": [
        "telecom_data.info()"
      ]
    },
    {
      "cell_type": "code",
      "source": [
        "telecom_data.describe()"
      ],
      "metadata": {
        "colab": {
          "base_uri": "https://localhost:8080/",
          "height": 175
        },
        "id": "2QgtKWLm69lS",
        "outputId": "53749177-900a-479f-ddfc-f2f394184b30"
      },
      "id": "2QgtKWLm69lS",
      "execution_count": 194,
      "outputs": [
        {
          "output_type": "execute_result",
          "data": {
            "text/plain": [
              "                             date  \\\n",
              "count                        8789   \n",
              "unique                       8578   \n",
              "top     2022-01-07 16:34:48+00:00   \n",
              "freq                            2   \n",
              "\n",
              "                                                  comment platform sentiment  \n",
              "count                                                8789     8788      8782  \n",
              "unique                                               8775        3         4  \n",
              "top     @airtel_tanzania nawapenda sana huduma hii ya ...  Twitter        -1  \n",
              "freq                                                    2     8786      4649  "
            ],
            "text/html": [
              "\n",
              "  <div id=\"df-e3f512ec-5fff-4616-a0ad-f9b6930517a2\">\n",
              "    <div class=\"colab-df-container\">\n",
              "      <div>\n",
              "<style scoped>\n",
              "    .dataframe tbody tr th:only-of-type {\n",
              "        vertical-align: middle;\n",
              "    }\n",
              "\n",
              "    .dataframe tbody tr th {\n",
              "        vertical-align: top;\n",
              "    }\n",
              "\n",
              "    .dataframe thead th {\n",
              "        text-align: right;\n",
              "    }\n",
              "</style>\n",
              "<table border=\"1\" class=\"dataframe\">\n",
              "  <thead>\n",
              "    <tr style=\"text-align: right;\">\n",
              "      <th></th>\n",
              "      <th>date</th>\n",
              "      <th>comment</th>\n",
              "      <th>platform</th>\n",
              "      <th>sentiment</th>\n",
              "    </tr>\n",
              "  </thead>\n",
              "  <tbody>\n",
              "    <tr>\n",
              "      <th>count</th>\n",
              "      <td>8789</td>\n",
              "      <td>8789</td>\n",
              "      <td>8788</td>\n",
              "      <td>8782</td>\n",
              "    </tr>\n",
              "    <tr>\n",
              "      <th>unique</th>\n",
              "      <td>8578</td>\n",
              "      <td>8775</td>\n",
              "      <td>3</td>\n",
              "      <td>4</td>\n",
              "    </tr>\n",
              "    <tr>\n",
              "      <th>top</th>\n",
              "      <td>2022-01-07 16:34:48+00:00</td>\n",
              "      <td>@airtel_tanzania nawapenda sana huduma hii ya ...</td>\n",
              "      <td>Twitter</td>\n",
              "      <td>-1</td>\n",
              "    </tr>\n",
              "    <tr>\n",
              "      <th>freq</th>\n",
              "      <td>2</td>\n",
              "      <td>2</td>\n",
              "      <td>8786</td>\n",
              "      <td>4649</td>\n",
              "    </tr>\n",
              "  </tbody>\n",
              "</table>\n",
              "</div>\n",
              "      <button class=\"colab-df-convert\" onclick=\"convertToInteractive('df-e3f512ec-5fff-4616-a0ad-f9b6930517a2')\"\n",
              "              title=\"Convert this dataframe to an interactive table.\"\n",
              "              style=\"display:none;\">\n",
              "        \n",
              "  <svg xmlns=\"http://www.w3.org/2000/svg\" height=\"24px\"viewBox=\"0 0 24 24\"\n",
              "       width=\"24px\">\n",
              "    <path d=\"M0 0h24v24H0V0z\" fill=\"none\"/>\n",
              "    <path d=\"M18.56 5.44l.94 2.06.94-2.06 2.06-.94-2.06-.94-.94-2.06-.94 2.06-2.06.94zm-11 1L8.5 8.5l.94-2.06 2.06-.94-2.06-.94L8.5 2.5l-.94 2.06-2.06.94zm10 10l.94 2.06.94-2.06 2.06-.94-2.06-.94-.94-2.06-.94 2.06-2.06.94z\"/><path d=\"M17.41 7.96l-1.37-1.37c-.4-.4-.92-.59-1.43-.59-.52 0-1.04.2-1.43.59L10.3 9.45l-7.72 7.72c-.78.78-.78 2.05 0 2.83L4 21.41c.39.39.9.59 1.41.59.51 0 1.02-.2 1.41-.59l7.78-7.78 2.81-2.81c.8-.78.8-2.07 0-2.86zM5.41 20L4 18.59l7.72-7.72 1.47 1.35L5.41 20z\"/>\n",
              "  </svg>\n",
              "      </button>\n",
              "      \n",
              "  <style>\n",
              "    .colab-df-container {\n",
              "      display:flex;\n",
              "      flex-wrap:wrap;\n",
              "      gap: 12px;\n",
              "    }\n",
              "\n",
              "    .colab-df-convert {\n",
              "      background-color: #E8F0FE;\n",
              "      border: none;\n",
              "      border-radius: 50%;\n",
              "      cursor: pointer;\n",
              "      display: none;\n",
              "      fill: #1967D2;\n",
              "      height: 32px;\n",
              "      padding: 0 0 0 0;\n",
              "      width: 32px;\n",
              "    }\n",
              "\n",
              "    .colab-df-convert:hover {\n",
              "      background-color: #E2EBFA;\n",
              "      box-shadow: 0px 1px 2px rgba(60, 64, 67, 0.3), 0px 1px 3px 1px rgba(60, 64, 67, 0.15);\n",
              "      fill: #174EA6;\n",
              "    }\n",
              "\n",
              "    [theme=dark] .colab-df-convert {\n",
              "      background-color: #3B4455;\n",
              "      fill: #D2E3FC;\n",
              "    }\n",
              "\n",
              "    [theme=dark] .colab-df-convert:hover {\n",
              "      background-color: #434B5C;\n",
              "      box-shadow: 0px 1px 3px 1px rgba(0, 0, 0, 0.15);\n",
              "      filter: drop-shadow(0px 1px 2px rgba(0, 0, 0, 0.3));\n",
              "      fill: #FFFFFF;\n",
              "    }\n",
              "  </style>\n",
              "\n",
              "      <script>\n",
              "        const buttonEl =\n",
              "          document.querySelector('#df-e3f512ec-5fff-4616-a0ad-f9b6930517a2 button.colab-df-convert');\n",
              "        buttonEl.style.display =\n",
              "          google.colab.kernel.accessAllowed ? 'block' : 'none';\n",
              "\n",
              "        async function convertToInteractive(key) {\n",
              "          const element = document.querySelector('#df-e3f512ec-5fff-4616-a0ad-f9b6930517a2');\n",
              "          const dataTable =\n",
              "            await google.colab.kernel.invokeFunction('convertToInteractive',\n",
              "                                                     [key], {});\n",
              "          if (!dataTable) return;\n",
              "\n",
              "          const docLinkHtml = 'Like what you see? Visit the ' +\n",
              "            '<a target=\"_blank\" href=https://colab.research.google.com/notebooks/data_table.ipynb>data table notebook</a>'\n",
              "            + ' to learn more about interactive tables.';\n",
              "          element.innerHTML = '';\n",
              "          dataTable['output_type'] = 'display_data';\n",
              "          await google.colab.output.renderOutput(dataTable, element);\n",
              "          const docLink = document.createElement('div');\n",
              "          docLink.innerHTML = docLinkHtml;\n",
              "          element.appendChild(docLink);\n",
              "        }\n",
              "      </script>\n",
              "    </div>\n",
              "  </div>\n",
              "  "
            ]
          },
          "metadata": {},
          "execution_count": 194
        }
      ]
    },
    {
      "cell_type": "code",
      "execution_count": 195,
      "id": "f1af075a",
      "metadata": {
        "scrolled": true,
        "colab": {
          "base_uri": "https://localhost:8080/"
        },
        "id": "f1af075a",
        "outputId": "cf4232eb-ce4f-4635-f373-d7305bd6bfcc"
      },
      "outputs": [
        {
          "output_type": "execute_result",
          "data": {
            "text/plain": [
              "date         1\n",
              "comment      1\n",
              "platform     2\n",
              "sentiment    8\n",
              "dtype: int64"
            ]
          },
          "metadata": {},
          "execution_count": 195
        }
      ],
      "source": [
        "telecom_data.isna().sum()"
      ]
    },
    {
      "cell_type": "code",
      "execution_count": 196,
      "id": "8a7c231f-cd01-4db0-809f-d98a1bf99aff",
      "metadata": {
        "tags": [],
        "colab": {
          "base_uri": "https://localhost:8080/"
        },
        "id": "8a7c231f-cd01-4db0-809f-d98a1bf99aff",
        "outputId": "c30f9908-40cb-4d9e-da9f-7ec8b6f1e422"
      },
      "outputs": [
        {
          "output_type": "execute_result",
          "data": {
            "text/plain": [
              "-1           4649\n",
              "0            3567\n",
              "1             565\n",
              "complains       1\n",
              "Name: sentiment, dtype: int64"
            ]
          },
          "metadata": {},
          "execution_count": 196
        }
      ],
      "source": [
        "telecom_data['sentiment'].value_counts()"
      ]
    },
    {
      "cell_type": "code",
      "execution_count": 197,
      "id": "a31719f0",
      "metadata": {
        "colab": {
          "base_uri": "https://localhost:8080/"
        },
        "id": "a31719f0",
        "outputId": "ab3ef395-5dae-46d7-e375-c5cddd45b9e1"
      },
      "outputs": [
        {
          "output_type": "execute_result",
          "data": {
            "text/plain": [
              "11"
            ]
          },
          "metadata": {},
          "execution_count": 197
        }
      ],
      "source": [
        "telecom_data.duplicated().sum()"
      ]
    },
    {
      "cell_type": "markdown",
      "id": "8e404be6",
      "metadata": {
        "id": "8e404be6"
      },
      "source": [
        "# 3. Data Processing"
      ]
    },
    {
      "cell_type": "markdown",
      "id": "9477d5a2-beed-415c-918e-f654cc4d8b6a",
      "metadata": {
        "id": "9477d5a2-beed-415c-918e-f654cc4d8b6a"
      },
      "source": [
        "## 3.1 Remove duplicate"
      ]
    },
    {
      "cell_type": "code",
      "execution_count": 198,
      "id": "f77c54ce-2747-4fb8-b313-b71d089dfda8",
      "metadata": {
        "id": "f77c54ce-2747-4fb8-b313-b71d089dfda8"
      },
      "outputs": [],
      "source": [
        "telecom_data.drop_duplicates(subset=['comment'], keep='first', inplace=True)"
      ]
    },
    {
      "cell_type": "markdown",
      "id": "25f007f0-8e54-4d09-9e36-b961734e21c2",
      "metadata": {
        "id": "25f007f0-8e54-4d09-9e36-b961734e21c2"
      },
      "source": [
        "## 3.2 Remove null values"
      ]
    },
    {
      "cell_type": "code",
      "execution_count": 199,
      "id": "c5400514-a45c-4c03-b87e-d7b78d8ea862",
      "metadata": {
        "id": "c5400514-a45c-4c03-b87e-d7b78d8ea862"
      },
      "outputs": [],
      "source": [
        "telecom_data.dropna(subset=['sentiment', 'comment'], inplace=True)"
      ]
    },
    {
      "cell_type": "markdown",
      "id": "09794f53-b209-4962-8596-0fed6e7d5368",
      "metadata": {
        "id": "09794f53-b209-4962-8596-0fed6e7d5368"
      },
      "source": [
        "## check the dataset status"
      ]
    },
    {
      "cell_type": "code",
      "execution_count": 200,
      "id": "ab33ff06-817b-46e5-a1a2-0f3e7cb50753",
      "metadata": {
        "tags": [],
        "colab": {
          "base_uri": "https://localhost:8080/"
        },
        "id": "ab33ff06-817b-46e5-a1a2-0f3e7cb50753",
        "outputId": "54ce2d1b-92fa-46f3-c0ec-9efcf4016934"
      },
      "outputs": [
        {
          "output_type": "execute_result",
          "data": {
            "text/plain": [
              "0"
            ]
          },
          "metadata": {},
          "execution_count": 200
        }
      ],
      "source": [
        "telecom_data.duplicated().sum()"
      ]
    },
    {
      "cell_type": "code",
      "execution_count": 201,
      "id": "7e482bf4-f690-4122-b743-de6a80f8980f",
      "metadata": {
        "colab": {
          "base_uri": "https://localhost:8080/"
        },
        "id": "7e482bf4-f690-4122-b743-de6a80f8980f",
        "outputId": "a4837bdd-7b95-4d61-d454-f9d264d595b2"
      },
      "outputs": [
        {
          "output_type": "execute_result",
          "data": {
            "text/plain": [
              "date         0\n",
              "comment      0\n",
              "platform     0\n",
              "sentiment    0\n",
              "dtype: int64"
            ]
          },
          "metadata": {},
          "execution_count": 201
        }
      ],
      "source": [
        "telecom_data.isna().sum()"
      ]
    },
    {
      "cell_type": "code",
      "execution_count": 44,
      "id": "896115c1-1386-4f8a-9149-82a7a3ae404a",
      "metadata": {
        "tags": [],
        "colab": {
          "base_uri": "https://localhost:8080/"
        },
        "id": "896115c1-1386-4f8a-9149-82a7a3ae404a",
        "outputId": "126c1510-21f3-4741-95dc-2c60fc6d6960"
      },
      "outputs": [
        {
          "output_type": "execute_result",
          "data": {
            "text/plain": [
              "date         8768\n",
              "comment      8768\n",
              "platform     8768\n",
              "sentiment    8768\n",
              "dtype: int64"
            ]
          },
          "metadata": {},
          "execution_count": 44
        }
      ],
      "source": [
        "telecom_data.count()"
      ]
    },
    {
      "cell_type": "code",
      "execution_count": 202,
      "id": "40787d2d-738b-490c-98d2-f1e25a664d77",
      "metadata": {
        "tags": [],
        "colab": {
          "base_uri": "https://localhost:8080/",
          "height": 296
        },
        "id": "40787d2d-738b-490c-98d2-f1e25a664d77",
        "outputId": "ca225563-ff73-4207-dd64-6498edea126f"
      },
      "outputs": [
        {
          "output_type": "execute_result",
          "data": {
            "text/plain": [
              "<AxesSubplot:xlabel='sentiment', ylabel='count'>"
            ]
          },
          "metadata": {},
          "execution_count": 202
        },
        {
          "output_type": "display_data",
          "data": {
            "text/plain": [
              "<Figure size 432x288 with 1 Axes>"
            ],
            "image/png": "[encoded data removed]"
          },
          "metadata": {
            "needs_background": "light"
          }
        }
      ],
      "source": [
        "sns.countplot(x=\"sentiment\", data=telecom_data)"
      ]
    },
    {
      "cell_type": "code",
      "execution_count": 203,
      "id": "c049013f-6dc5-4aad-8077-ff3ac7c59168",
      "metadata": {
        "tags": [],
        "colab": {
          "base_uri": "https://localhost:8080/"
        },
        "id": "c049013f-6dc5-4aad-8077-ff3ac7c59168",
        "outputId": "59cb6da2-ea85-4c5b-a635-9e5e1987f12c"
      },
      "outputs": [
        {
          "output_type": "stream",
          "name": "stdout",
          "text": [
            "<class 'pandas.core.frame.DataFrame'>\n",
            "Int64Index: 8768 entries, 0 to 8789\n",
            "Data columns (total 4 columns):\n",
            " #   Column     Non-Null Count  Dtype \n",
            "---  ------     --------------  ----- \n",
            " 0   date       8768 non-null   object\n",
            " 1   comment    8768 non-null   object\n",
            " 2   platform   8768 non-null   object\n",
            " 3   sentiment  8768 non-null   object\n",
            "dtypes: object(4)\n",
            "memory usage: 600.5+ KB\n"
          ]
        }
      ],
      "source": [
        "telecom_data.info()"
      ]
    },
    {
      "cell_type": "markdown",
      "id": "1504836d-3e15-4ab9-a821-9f3675da8ba7",
      "metadata": {
        "id": "1504836d-3e15-4ab9-a821-9f3675da8ba7"
      },
      "source": [
        "# 3.3 Cleaning"
      ]
    },
    {
      "cell_type": "code",
      "execution_count": 204,
      "id": "502df416",
      "metadata": {
        "id": "502df416"
      },
      "outputs": [],
      "source": [
        "def clean_data_set(list_text):\n",
        "    new_list = []\n",
        "    stopwords_df = pd.read_csv(\"swahili_stopwords.csv\", dtype=str, low_memory=False, encoding=\"utf-8\")\n",
        "    stopwords_list = list(stopwords_df['StopWords'])\n",
        "    \n",
        "    for x in list_text:\n",
        "        x = re.sub(r'@[\\w]+','', str(x)) # remove twitter handle\n",
        "        x = re.sub(r'\\w+:\\/{2}[\\d\\w-]+(\\.[\\d\\w-]+)*(?:(?:\\/[^\\s/]*))*', '', str(x)) # removes Url\n",
        "        x = re.sub(r'[^\\w\\s]',' ', str(x))    # Remove Panctuations /?!. \n",
        "        x = x.strip()                   # Remove leading and trailing spaces\n",
        "        x = re.sub(' +', ' ', x)        # Remove extra white spaces\n",
        "        x = re.sub('[^A-Za-z0-9]+', ' ', x)  # Remove special characters\n",
        "        x = x.lower()                   # Converts to lower case\n",
        "        x = ' '.join([word for word in x.split() if word not in stopwords_list]) # Removes stopwords\n",
        "        new_list.append(x)\n",
        "    return new_list"
      ]
    },
    {
      "cell_type": "code",
      "execution_count": 205,
      "id": "18371097",
      "metadata": {
        "id": "18371097"
      },
      "outputs": [],
      "source": [
        "telecom_data[\"clean_comment\"] = clean_data_set(telecom_data.comment.to_list())"
      ]
    },
    {
      "cell_type": "code",
      "execution_count": 210,
      "id": "f091dd4b",
      "metadata": {
        "colab": {
          "base_uri": "https://localhost:8080/",
          "height": 424
        },
        "id": "f091dd4b",
        "outputId": "0939ab09-451e-47e6-9eb6-e6359d55aede"
      },
      "outputs": [
        {
          "output_type": "execute_result",
          "data": {
            "text/plain": [
              "                                                comment  \\\n",
              "0           Chezea songesha wew https://t.co/FfnSsIkZGU   \n",
              "1     Tafuta hela sana ili usilalamikie mabadiliko y...   \n",
              "2     Hivi huu mtandao wa Tigo una tatizo au simu ya...   \n",
              "3     @DaktariWaWatoto Tamtam bando ni ðŸ”¥ ila kuin...   \n",
              "4     @VodacomTanzania @ImranHussein84 Tatizo kifuru...   \n",
              "...                                                 ...   \n",
              "8785  @LuisaUhuru Unastream kutumia mtandao gani\\nÃ°...   \n",
              "8786  Sasa mnasema mmebadilisha vifurushi naomba mni...   \n",
              "8787  @George_Ambangil @Tigo_TZ Sasa kama ad ww unal...   \n",
              "8788  @mafolebaraka @Haloteltz Bora wewe mi nikitumi...   \n",
              "8789  @beth_kasinga Weuh sivyo situation zina ni cha...   \n",
              "\n",
              "                                          clean_comment  \n",
              "0                                   chezea songesha wew  \n",
              "1     tafuta hela usilalamikie mabadiliko vifurushi ...  \n",
              "2     mtandao tigo una tatizo simu siku tatu leo mam...  \n",
              "3                     tamtam bando kuinunulia mpk tpesa  \n",
              "4     tatizo kifurushi internet nw akikai awali una ...  \n",
              "...                                                 ...  \n",
              "8785                     unastream kutumia mtandao gani  \n",
              "8786  mnasema mmebadilisha vifurushi naomba mnitajie...  \n",
              "8787  ad ww unalalamika vo mm nan niendelee kutumia ...  \n",
              "8788  bora mi nikitumiwa pesa halopesa haiingii wala...  \n",
              "8789  weuh sivyo situation zina chapa but haziru tun...  \n",
              "\n",
              "[8768 rows x 2 columns]"
            ],
            "text/html": [
              "\n",
              "  <div id=\"df-373c109c-7fed-4ad9-9673-3f8c55a517a2\">\n",
              "    <div class=\"colab-df-container\">\n",
              "      <div>\n",
              "<style scoped>\n",
              "    .dataframe tbody tr th:only-of-type {\n",
              "        vertical-align: middle;\n",
              "    }\n",
              "\n",
              "    .dataframe tbody tr th {\n",
              "        vertical-align: top;\n",
              "    }\n",
              "\n",
              "    .dataframe thead th {\n",
              "        text-align: right;\n",
              "    }\n",
              "</style>\n",
              "<table border=\"1\" class=\"dataframe\">\n",
              "  <thead>\n",
              "    <tr style=\"text-align: right;\">\n",
              "      <th></th>\n",
              "      <th>comment</th>\n",
              "      <th>clean_comment</th>\n",
              "    </tr>\n",
              "  </thead>\n",
              "  <tbody>\n",
              "    <tr>\n",
              "      <th>0</th>\n",
              "      <td>Chezea songesha wew https://t.co/FfnSsIkZGU</td>\n",
              "      <td>chezea songesha wew</td>\n",
              "    </tr>\n",
              "    <tr>\n",
              "      <th>1</th>\n",
              "      <td>Tafuta hela sana ili usilalamikie mabadiliko y...</td>\n",
              "      <td>tafuta hela usilalamikie mabadiliko vifurushi ...</td>\n",
              "    </tr>\n",
              "    <tr>\n",
              "      <th>2</th>\n",
              "      <td>Hivi huu mtandao wa Tigo una tatizo au simu ya...</td>\n",
              "      <td>mtandao tigo una tatizo simu siku tatu leo mam...</td>\n",
              "    </tr>\n",
              "    <tr>\n",
              "      <th>3</th>\n",
              "      <td>@DaktariWaWatoto Tamtam bando ni ðŸ”¥ ila kuin...</td>\n",
              "      <td>tamtam bando kuinunulia mpk tpesa</td>\n",
              "    </tr>\n",
              "    <tr>\n",
              "      <th>4</th>\n",
              "      <td>@VodacomTanzania @ImranHussein84 Tatizo kifuru...</td>\n",
              "      <td>tatizo kifurushi internet nw akikai awali una ...</td>\n",
              "    </tr>\n",
              "    <tr>\n",
              "      <th>...</th>\n",
              "      <td>...</td>\n",
              "      <td>...</td>\n",
              "    </tr>\n",
              "    <tr>\n",
              "      <th>8785</th>\n",
              "      <td>@LuisaUhuru Unastream kutumia mtandao gani\\nÃ°...</td>\n",
              "      <td>unastream kutumia mtandao gani</td>\n",
              "    </tr>\n",
              "    <tr>\n",
              "      <th>8786</th>\n",
              "      <td>Sasa mnasema mmebadilisha vifurushi naomba mni...</td>\n",
              "      <td>mnasema mmebadilisha vifurushi naomba mnitajie...</td>\n",
              "    </tr>\n",
              "    <tr>\n",
              "      <th>8787</th>\n",
              "      <td>@George_Ambangil @Tigo_TZ Sasa kama ad ww unal...</td>\n",
              "      <td>ad ww unalalamika vo mm nan niendelee kutumia ...</td>\n",
              "    </tr>\n",
              "    <tr>\n",
              "      <th>8788</th>\n",
              "      <td>@mafolebaraka @Haloteltz Bora wewe mi nikitumi...</td>\n",
              "      <td>bora mi nikitumiwa pesa halopesa haiingii wala...</td>\n",
              "    </tr>\n",
              "    <tr>\n",
              "      <th>8789</th>\n",
              "      <td>@beth_kasinga Weuh sivyo situation zina ni cha...</td>\n",
              "      <td>weuh sivyo situation zina chapa but haziru tun...</td>\n",
              "    </tr>\n",
              "  </tbody>\n",
              "</table>\n",
              "<p>8768 rows × 2 columns</p>\n",
              "</div>\n",
              "      <button class=\"colab-df-convert\" onclick=\"convertToInteractive('df-373c109c-7fed-4ad9-9673-3f8c55a517a2')\"\n",
              "              title=\"Convert this dataframe to an interactive table.\"\n",
              "              style=\"display:none;\">\n",
              "        \n",
              "  <svg xmlns=\"http://www.w3.org/2000/svg\" height=\"24px\"viewBox=\"0 0 24 24\"\n",
              "       width=\"24px\">\n",
              "    <path d=\"M0 0h24v24H0V0z\" fill=\"none\"/>\n",
              "    <path d=\"M18.56 5.44l.94 2.06.94-2.06 2.06-.94-2.06-.94-.94-2.06-.94 2.06-2.06.94zm-11 1L8.5 8.5l.94-2.06 2.06-.94-2.06-.94L8.5 2.5l-.94 2.06-2.06.94zm10 10l.94 2.06.94-2.06 2.06-.94-2.06-.94-.94-2.06-.94 2.06-2.06.94z\"/><path d=\"M17.41 7.96l-1.37-1.37c-.4-.4-.92-.59-1.43-.59-.52 0-1.04.2-1.43.59L10.3 9.45l-7.72 7.72c-.78.78-.78 2.05 0 2.83L4 21.41c.39.39.9.59 1.41.59.51 0 1.02-.2 1.41-.59l7.78-7.78 2.81-2.81c.8-.78.8-2.07 0-2.86zM5.41 20L4 18.59l7.72-7.72 1.47 1.35L5.41 20z\"/>\n",
              "  </svg>\n",
              "      </button>\n",
              "      \n",
              "  <style>\n",
              "    .colab-df-container {\n",
              "      display:flex;\n",
              "      flex-wrap:wrap;\n",
              "      gap: 12px;\n",
              "    }\n",
              "\n",
              "    .colab-df-convert {\n",
              "      background-color: #E8F0FE;\n",
              "      border: none;\n",
              "      border-radius: 50%;\n",
              "      cursor: pointer;\n",
              "      display: none;\n",
              "      fill: #1967D2;\n",
              "      height: 32px;\n",
              "      padding: 0 0 0 0;\n",
              "      width: 32px;\n",
              "    }\n",
              "\n",
              "    .colab-df-convert:hover {\n",
              "      background-color: #E2EBFA;\n",
              "      box-shadow: 0px 1px 2px rgba(60, 64, 67, 0.3), 0px 1px 3px 1px rgba(60, 64, 67, 0.15);\n",
              "      fill: #174EA6;\n",
              "    }\n",
              "\n",
              "    [theme=dark] .colab-df-convert {\n",
              "      background-color: #3B4455;\n",
              "      fill: #D2E3FC;\n",
              "    }\n",
              "\n",
              "    [theme=dark] .colab-df-convert:hover {\n",
              "      background-color: #434B5C;\n",
              "      box-shadow: 0px 1px 3px 1px rgba(0, 0, 0, 0.15);\n",
              "      filter: drop-shadow(0px 1px 2px rgba(0, 0, 0, 0.3));\n",
              "      fill: #FFFFFF;\n",
              "    }\n",
              "  </style>\n",
              "\n",
              "      <script>\n",
              "        const buttonEl =\n",
              "          document.querySelector('#df-373c109c-7fed-4ad9-9673-3f8c55a517a2 button.colab-df-convert');\n",
              "        buttonEl.style.display =\n",
              "          google.colab.kernel.accessAllowed ? 'block' : 'none';\n",
              "\n",
              "        async function convertToInteractive(key) {\n",
              "          const element = document.querySelector('#df-373c109c-7fed-4ad9-9673-3f8c55a517a2');\n",
              "          const dataTable =\n",
              "            await google.colab.kernel.invokeFunction('convertToInteractive',\n",
              "                                                     [key], {});\n",
              "          if (!dataTable) return;\n",
              "\n",
              "          const docLinkHtml = 'Like what you see? Visit the ' +\n",
              "            '<a target=\"_blank\" href=https://colab.research.google.com/notebooks/data_table.ipynb>data table notebook</a>'\n",
              "            + ' to learn more about interactive tables.';\n",
              "          element.innerHTML = '';\n",
              "          dataTable['output_type'] = 'display_data';\n",
              "          await google.colab.output.renderOutput(dataTable, element);\n",
              "          const docLink = document.createElement('div');\n",
              "          docLink.innerHTML = docLinkHtml;\n",
              "          element.appendChild(docLink);\n",
              "        }\n",
              "      </script>\n",
              "    </div>\n",
              "  </div>\n",
              "  "
            ]
          },
          "metadata": {},
          "execution_count": 210
        }
      ],
      "source": [
        "telecom_data[['comment', 'clean_comment']]"
      ]
    },
    {
      "cell_type": "code",
      "execution_count": 211,
      "id": "741fcaff-a255-4550-b67a-66c4f98ee554",
      "metadata": {
        "id": "741fcaff-a255-4550-b67a-66c4f98ee554"
      },
      "outputs": [],
      "source": [
        "telecom_data.to_csv(\"clean_telecom_data.csv\", index=False)"
      ]
    },
    {
      "cell_type": "markdown",
      "id": "9a6832cc-0073-4961-a61b-849ab161be0d",
      "metadata": {
        "id": "9a6832cc-0073-4961-a61b-849ab161be0d"
      },
      "source": [
        "# 4 Modeling"
      ]
    },
    {
      "cell_type": "code",
      "execution_count": 212,
      "id": "9704a336-7ffb-4d4f-887b-3b330467b6d8",
      "metadata": {
        "id": "9704a336-7ffb-4d4f-887b-3b330467b6d8"
      },
      "outputs": [],
      "source": [
        "clean_telecom_data = pd.read_csv(\"clean_telecom_data.csv\")"
      ]
    },
    {
      "cell_type": "code",
      "execution_count": 213,
      "id": "3ae365d4-3fab-42df-b324-8925143e4b5c",
      "metadata": {
        "tags": [],
        "colab": {
          "base_uri": "https://localhost:8080/"
        },
        "id": "3ae365d4-3fab-42df-b324-8925143e4b5c",
        "outputId": "8a3b65f9-1a45-4f09-9ac5-3b6cc2e1271b"
      },
      "outputs": [
        {
          "output_type": "execute_result",
          "data": {
            "text/plain": [
              "0                                     chezea songesha wew\n",
              "1       tafuta hela usilalamikie mabadiliko vifurushi ...\n",
              "2       mtandao tigo una tatizo simu siku tatu leo mam...\n",
              "3                       tamtam bando kuinunulia mpk tpesa\n",
              "4       tatizo kifurushi internet nw akikai awali una ...\n",
              "                              ...                        \n",
              "8785                       unastream kutumia mtandao gani\n",
              "8786    mnasema mmebadilisha vifurushi naomba mnitajie...\n",
              "8787    ad ww unalalamika vo mm nan niendelee kutumia ...\n",
              "8788    bora mi nikitumiwa pesa halopesa haiingii wala...\n",
              "8789    weuh sivyo situation zina chapa but haziru tun...\n",
              "Name: clean_comment, Length: 8768, dtype: object"
            ]
          },
          "metadata": {},
          "execution_count": 213
        }
      ],
      "source": [
        "telecom_data[\"clean_comment\"]"
      ]
    },
    {
      "cell_type": "code",
      "execution_count": 214,
      "id": "d1904e89-92f5-4f53-87a3-a5a2e2dc2e97",
      "metadata": {
        "id": "d1904e89-92f5-4f53-87a3-a5a2e2dc2e97"
      },
      "outputs": [],
      "source": [
        "# Split datasate into training and test chunks with a ratio of 8:0 respective\n",
        "X_train, X_test, y_train, y_test = train_test_split(clean_telecom_data[\"clean_comment\"], clean_telecom_data[\"sentiment\"], test_size=0.2, random_state=42, shuffle=True)"
      ]
    },
    {
      "cell_type": "code",
      "execution_count": 215,
      "id": "2016dfa9-7e8c-4108-be71-d73dcea5416f",
      "metadata": {
        "colab": {
          "base_uri": "https://localhost:8080/"
        },
        "id": "2016dfa9-7e8c-4108-be71-d73dcea5416f",
        "outputId": "8ffab867-722f-4220-ec9f-87f425e17626"
      },
      "outputs": [
        {
          "output_type": "stream",
          "name": "stdout",
          "text": [
            "Training sample size =  7014\n"
          ]
        }
      ],
      "source": [
        "print(\"Training sample size = \", X_train.shape[0])"
      ]
    },
    {
      "cell_type": "code",
      "execution_count": 216,
      "id": "8b05cc4e-0b2f-4c0e-9b7d-b6ce5a62e189",
      "metadata": {
        "colab": {
          "base_uri": "https://localhost:8080/"
        },
        "id": "8b05cc4e-0b2f-4c0e-9b7d-b6ce5a62e189",
        "outputId": "e862e47b-39c0-4642-fd25-fbab39d0ec79"
      },
      "outputs": [
        {
          "output_type": "stream",
          "name": "stdout",
          "text": [
            "Testing sample size =  1754\n"
          ]
        }
      ],
      "source": [
        "print(\"Testing sample size = \", X_test.shape[0])"
      ]
    },
    {
      "cell_type": "markdown",
      "id": "1691e079-5b0b-4738-adbe-bb4c93a1f8be",
      "metadata": {
        "id": "1691e079-5b0b-4738-adbe-bb4c93a1f8be"
      },
      "source": [
        "# 4.1 SUPPORT VECTOR MACHINE (SVM)"
      ]
    },
    {
      "cell_type": "code",
      "execution_count": 219,
      "id": "909fa7e5-6a58-4e14-be1c-bc08040d3337",
      "metadata": {
        "id": "909fa7e5-6a58-4e14-be1c-bc08040d3337"
      },
      "outputs": [],
      "source": [
        "# Initialize a vectorization and modelling pipeline\n",
        "svm_pipeline = Pipeline([\n",
        "     ('vect', CountVectorizer(ngram_range=(1,1))),\n",
        "     ('tfidf', TfidfTransformer()),\n",
        "     ('clf', SVC(kernel = 'sigmoid', random_state=0, gamma='scale', C=1.2, probability=True)), #tunned svm\n",
        " ])"
      ]
    },
    {
      "cell_type": "code",
      "execution_count": 220,
      "id": "b049b5ff-62b9-44ef-8ced-4bd34ed9ae8a",
      "metadata": {
        "colab": {
          "base_uri": "https://localhost:8080/",
          "height": 161
        },
        "id": "b049b5ff-62b9-44ef-8ced-4bd34ed9ae8a",
        "outputId": "db32548a-c870-4bcc-8e33-3bd9bbe790fa"
      },
      "outputs": [
        {
          "output_type": "execute_result",
          "data": {
            "text/plain": [
              "Pipeline(steps=[('vect', CountVectorizer()), ('tfidf', TfidfTransformer()),\n",
              "                ('clf',\n",
              "                 SVC(C=1.2, kernel='sigmoid', probability=True,\n",
              "                     random_state=0))])"
            ],
            "text/html": [
              "<style>#sk-container-id-11 {color: black;background-color: white;}#sk-container-id-11 pre{padding: 0;}#sk-container-id-11 div.sk-toggleable {background-color: white;}#sk-container-id-11 label.sk-toggleable__label {cursor: pointer;display: block;width: 100%;margin-bottom: 0;padding: 0.3em;box-sizing: border-box;text-align: center;}#sk-container-id-11 label.sk-toggleable__label-arrow:before {content: \"▸\";float: left;margin-right: 0.25em;color: #696969;}#sk-container-id-11 label.sk-toggleable__label-arrow:hover:before {color: black;}#sk-container-id-11 div.sk-estimator:hover label.sk-toggleable__label-arrow:before {color: black;}#sk-container-id-11 div.sk-toggleable__content {max-height: 0;max-width: 0;overflow: hidden;text-align: left;background-color: #f0f8ff;}#sk-container-id-11 div.sk-toggleable__content pre {margin: 0.2em;color: black;border-radius: 0.25em;background-color: #f0f8ff;}#sk-container-id-11 input.sk-toggleable__control:checked~div.sk-toggleable__content {max-height: 200px;max-width: 100%;overflow: auto;}#sk-container-id-11 input.sk-toggleable__control:checked~label.sk-toggleable__label-arrow:before {content: \"▾\";}#sk-container-id-11 div.sk-estimator input.sk-toggleable__control:checked~label.sk-toggleable__label {background-color: #d4ebff;}#sk-container-id-11 div.sk-label input.sk-toggleable__control:checked~label.sk-toggleable__label {background-color: #d4ebff;}#sk-container-id-11 input.sk-hidden--visually {border: 0;clip: rect(1px 1px 1px 1px);clip: rect(1px, 1px, 1px, 1px);height: 1px;margin: -1px;overflow: hidden;padding: 0;position: absolute;width: 1px;}#sk-container-id-11 div.sk-estimator {font-family: monospace;background-color: #f0f8ff;border: 1px dotted black;border-radius: 0.25em;box-sizing: border-box;margin-bottom: 0.5em;}#sk-container-id-11 div.sk-estimator:hover {background-color: #d4ebff;}#sk-container-id-11 div.sk-parallel-item::after {content: \"\";width: 100%;border-bottom: 1px solid gray;flex-grow: 1;}#sk-container-id-11 div.sk-label:hover label.sk-toggleable__label {background-color: #d4ebff;}#sk-container-id-11 div.sk-serial::before {content: \"\";position: absolute;border-left: 1px solid gray;box-sizing: border-box;top: 0;bottom: 0;left: 50%;z-index: 0;}#sk-container-id-11 div.sk-serial {display: flex;flex-direction: column;align-items: center;background-color: white;padding-right: 0.2em;padding-left: 0.2em;position: relative;}#sk-container-id-11 div.sk-item {position: relative;z-index: 1;}#sk-container-id-11 div.sk-parallel {display: flex;align-items: stretch;justify-content: center;background-color: white;position: relative;}#sk-container-id-11 div.sk-item::before, #sk-container-id-11 div.sk-parallel-item::before {content: \"\";position: absolute;border-left: 1px solid gray;box-sizing: border-box;top: 0;bottom: 0;left: 50%;z-index: -1;}#sk-container-id-11 div.sk-parallel-item {display: flex;flex-direction: column;z-index: 1;position: relative;background-color: white;}#sk-container-id-11 div.sk-parallel-item:first-child::after {align-self: flex-end;width: 50%;}#sk-container-id-11 div.sk-parallel-item:last-child::after {align-self: flex-start;width: 50%;}#sk-container-id-11 div.sk-parallel-item:only-child::after {width: 0;}#sk-container-id-11 div.sk-dashed-wrapped {border: 1px dashed gray;margin: 0 0.4em 0.5em 0.4em;box-sizing: border-box;padding-bottom: 0.4em;background-color: white;}#sk-container-id-11 div.sk-label label {font-family: monospace;font-weight: bold;display: inline-block;line-height: 1.2em;}#sk-container-id-11 div.sk-label-container {text-align: center;}#sk-container-id-11 div.sk-container {/* jupyter's `normalize.less` sets `[hidden] { display: none; }` but bootstrap.min.css set `[hidden] { display: none !important; }` so we also need the `!important` here to be able to override the default hidden behavior on the sphinx rendered scikit-learn.org. See: https://github.com/scikit-learn/scikit-learn/issues/21755 */display: inline-block !important;position: relative;}#sk-container-id-11 div.sk-text-repr-fallback {display: none;}</style><div id=\"sk-container-id-11\" class=\"sk-top-container\"><div class=\"sk-text-repr-fallback\"><pre>Pipeline(steps=[(&#x27;vect&#x27;, CountVectorizer()), (&#x27;tfidf&#x27;, TfidfTransformer()),\n",
              "                (&#x27;clf&#x27;,\n",
              "                 SVC(C=1.2, kernel=&#x27;sigmoid&#x27;, probability=True,\n",
              "                     random_state=0))])</pre><b>In a Jupyter environment, please rerun this cell to show the HTML representation or trust the notebook. <br />On GitHub, the HTML representation is unable to render, please try loading this page with nbviewer.org.</b></div><div class=\"sk-container\" hidden><div class=\"sk-item sk-dashed-wrapped\"><div class=\"sk-label-container\"><div class=\"sk-label sk-toggleable\"><input class=\"sk-toggleable__control sk-hidden--visually\" id=\"sk-estimator-id-41\" type=\"checkbox\" ><label for=\"sk-estimator-id-41\" class=\"sk-toggleable__label sk-toggleable__label-arrow\">Pipeline</label><div class=\"sk-toggleable__content\"><pre>Pipeline(steps=[(&#x27;vect&#x27;, CountVectorizer()), (&#x27;tfidf&#x27;, TfidfTransformer()),\n",
              "                (&#x27;clf&#x27;,\n",
              "                 SVC(C=1.2, kernel=&#x27;sigmoid&#x27;, probability=True,\n",
              "                     random_state=0))])</pre></div></div></div><div class=\"sk-serial\"><div class=\"sk-item\"><div class=\"sk-estimator sk-toggleable\"><input class=\"sk-toggleable__control sk-hidden--visually\" id=\"sk-estimator-id-42\" type=\"checkbox\" ><label for=\"sk-estimator-id-42\" class=\"sk-toggleable__label sk-toggleable__label-arrow\">CountVectorizer</label><div class=\"sk-toggleable__content\"><pre>CountVectorizer()</pre></div></div></div><div class=\"sk-item\"><div class=\"sk-estimator sk-toggleable\"><input class=\"sk-toggleable__control sk-hidden--visually\" id=\"sk-estimator-id-43\" type=\"checkbox\" ><label for=\"sk-estimator-id-43\" class=\"sk-toggleable__label sk-toggleable__label-arrow\">TfidfTransformer</label><div class=\"sk-toggleable__content\"><pre>TfidfTransformer()</pre></div></div></div><div class=\"sk-item\"><div class=\"sk-estimator sk-toggleable\"><input class=\"sk-toggleable__control sk-hidden--visually\" id=\"sk-estimator-id-44\" type=\"checkbox\" ><label for=\"sk-estimator-id-44\" class=\"sk-toggleable__label sk-toggleable__label-arrow\">SVC</label><div class=\"sk-toggleable__content\"><pre>SVC(C=1.2, kernel=&#x27;sigmoid&#x27;, probability=True, random_state=0)</pre></div></div></div></div></div></div></div>"
            ]
          },
          "metadata": {},
          "execution_count": 220
        }
      ],
      "source": [
        "# SVM Algorithm training X_train, X_test, y_train, y_test\n",
        "svm_model = svm_pipeline.fit(X_train.values.astype('U'), y_train.values.astype('U'))\n",
        "svm_model"
      ]
    },
    {
      "cell_type": "code",
      "execution_count": 221,
      "id": "0d5fd729-7cda-46d2-8ac1-5887552da82d",
      "metadata": {
        "tags": [],
        "colab": {
          "base_uri": "https://localhost:8080/"
        },
        "id": "0d5fd729-7cda-46d2-8ac1-5887552da82d",
        "outputId": "6b2f0dfa-d19e-44a7-da57-513913003952"
      },
      "outputs": [
        {
          "output_type": "execute_result",
          "data": {
            "text/plain": [
              "array(['-1', '0', '1', 'complains'], dtype='<U9')"
            ]
          },
          "metadata": {},
          "execution_count": 221
        }
      ],
      "source": [
        "y_pred = svm_model.predict(X_test.values.astype('U'))\n",
        "svm_model.classes_"
      ]
    },
    {
      "cell_type": "code",
      "execution_count": 222,
      "id": "a6a70991-ba0a-4902-aea8-a90c96782a69",
      "metadata": {
        "tags": [],
        "colab": {
          "base_uri": "https://localhost:8080/"
        },
        "id": "a6a70991-ba0a-4902-aea8-a90c96782a69",
        "outputId": "a5222e04-354e-4a39-e8dd-80fe810e857f"
      },
      "outputs": [
        {
          "output_type": "stream",
          "name": "stdout",
          "text": [
            "[[722 226   4   0]\n",
            " [294 404   0   0]\n",
            " [ 53  51   0   0]\n",
            " [  0   0   0   0]]\n"
          ]
        }
      ],
      "source": [
        "cm = confusion_matrix(y_test, y_pred, labels=svm_model.classes_)\n",
        "print(cm)"
      ]
    },
    {
      "cell_type": "code",
      "execution_count": 223,
      "id": "717a475c-4695-423a-b02e-536085d007a9",
      "metadata": {
        "tags": [],
        "colab": {
          "base_uri": "https://localhost:8080/",
          "height": 296
        },
        "id": "717a475c-4695-423a-b02e-536085d007a9",
        "outputId": "a1ca84f4-d639-4387-c960-ffd4b0401122"
      },
      "outputs": [
        {
          "output_type": "execute_result",
          "data": {
            "text/plain": [
              "<sklearn.metrics._plot.confusion_matrix.ConfusionMatrixDisplay at 0x7fb9264ebd60>"
            ]
          },
          "metadata": {},
          "execution_count": 223
        },
        {
          "output_type": "display_data",
          "data": {
            "text/plain": [
              "<Figure size 432x288 with 2 Axes>"
            ],
            "image/png": "[encoded data removed]"
          },
          "metadata": {
            "needs_background": "light"
          }
        }
      ],
      "source": [
        "cm_dsp=ConfusionMatrixDisplay(confusion_matrix=cm, display_labels=['Negatives', 'Neutral', 'Positive', 'Complains'])\n",
        "cm_dsp.plot()"
      ]
    },
    {
      "cell_type": "code",
      "execution_count": 224,
      "id": "c9351292-53b9-499c-92af-d155a3c22aca",
      "metadata": {
        "tags": [],
        "colab": {
          "base_uri": "https://localhost:8080/"
        },
        "id": "c9351292-53b9-499c-92af-d155a3c22aca",
        "outputId": "deea0bc2-9d7c-41b2-98ee-fa720cb921ba"
      },
      "outputs": [
        {
          "output_type": "stream",
          "name": "stdout",
          "text": [
            "Model Score: 0.6419612314709237\n",
            "Model Score: 64.20%\n",
            "\n",
            "Accuracy: 0.6419612314709237\n",
            "Accuracy: 64.20%\n",
            "\n",
            "F1-score: 0.6209705250011016\n",
            "F1-score: 62.10%\n",
            "\n",
            "CPU times and Wall time: \n",
            "CPU times: user 1.86 s, sys: 5.9 ms, total: 1.87 s\n",
            "Wall time: 1.88 s\n"
          ]
        }
      ],
      "source": [
        "%%time\n",
        "\n",
        "#predicting \n",
        "y_pred = svm_model.predict(X_test.values.astype('U'))\n",
        "\n",
        "model_score = svm_model.score(X_test.values.astype('U'), y_test.values.astype('U'))\n",
        "print(f'Model Score: {model_score}')\n",
        "print(f'Model Score: {model_score*100:.2f}%')\n",
        "accuracy = accuracy_score(y_test, y_pred)\n",
        "print()\n",
        "print(f\"Accuracy: {accuracy}\")\n",
        "print(f\"Accuracy: {accuracy*100:.2f}%\")\n",
        "print()\n",
        "f1 = f1_score(y_test, y_pred, average='weighted')\n",
        "print(f\"F1-score: {f1}\")\n",
        "print(f\"F1-score: {f1*100:.2f}%\")\n",
        "print()\n",
        "print(\"CPU times and Wall time: \")"
      ]
    },
    {
      "cell_type": "code",
      "execution_count": 225,
      "id": "3f69f227-fe8f-4713-9648-f517c517ad8b",
      "metadata": {
        "colab": {
          "base_uri": "https://localhost:8080/"
        },
        "id": "3f69f227-fe8f-4713-9648-f517c517ad8b",
        "outputId": "6ac77a95-8672-4a60-d2aa-d4ac5e21fc6f"
      },
      "outputs": [
        {
          "output_type": "execute_result",
          "data": {
            "text/plain": [
              "['models/SVM_model_score_64.2.pkl']"
            ]
          },
          "metadata": {},
          "execution_count": 225
        }
      ],
      "source": [
        "# Save to file / directory\n",
        "joblib_file = \"models/SVM_model_score_\"+ str(round(accuracy*100,2))+\".pkl\"\n",
        "joblib.dump(svm_model, joblib_file)"
      ]
    },
    {
      "cell_type": "markdown",
      "id": "c2634a08-ffe0-4637-9271-cf8c89dc9482",
      "metadata": {
        "id": "c2634a08-ffe0-4637-9271-cf8c89dc9482"
      },
      "source": [
        "## 4.2 RANDOM FOREST"
      ]
    },
    {
      "cell_type": "code",
      "execution_count": 226,
      "id": "11d1e899-afab-4bf6-b8f0-0f12851f8aeb",
      "metadata": {
        "id": "11d1e899-afab-4bf6-b8f0-0f12851f8aeb"
      },
      "outputs": [],
      "source": [
        "# Initialize a vectorization and modelling pipeline\n",
        "rf_pipeline = Pipeline([\n",
        "     ('vect', CountVectorizer(ngram_range=(1,1))),\n",
        "     ('tfidf', TfidfTransformer()),\n",
        "     ('clf', RandomForestClassifier()), #tunned svm\n",
        " ])"
      ]
    },
    {
      "cell_type": "code",
      "execution_count": 227,
      "id": "5b119691-4c4f-4fc8-b57a-a57ebfd4b774",
      "metadata": {
        "colab": {
          "base_uri": "https://localhost:8080/",
          "height": 161
        },
        "id": "5b119691-4c4f-4fc8-b57a-a57ebfd4b774",
        "outputId": "e2a602c7-5669-4faa-a15b-adf2e24a36f0"
      },
      "outputs": [
        {
          "output_type": "execute_result",
          "data": {
            "text/plain": [
              "Pipeline(steps=[('vect', CountVectorizer()), ('tfidf', TfidfTransformer()),\n",
              "                ('clf', RandomForestClassifier())])"
            ],
            "text/html": [
              "<style>#sk-container-id-12 {color: black;background-color: white;}#sk-container-id-12 pre{padding: 0;}#sk-container-id-12 div.sk-toggleable {background-color: white;}#sk-container-id-12 label.sk-toggleable__label {cursor: pointer;display: block;width: 100%;margin-bottom: 0;padding: 0.3em;box-sizing: border-box;text-align: center;}#sk-container-id-12 label.sk-toggleable__label-arrow:before {content: \"▸\";float: left;margin-right: 0.25em;color: #696969;}#sk-container-id-12 label.sk-toggleable__label-arrow:hover:before {color: black;}#sk-container-id-12 div.sk-estimator:hover label.sk-toggleable__label-arrow:before {color: black;}#sk-container-id-12 div.sk-toggleable__content {max-height: 0;max-width: 0;overflow: hidden;text-align: left;background-color: #f0f8ff;}#sk-container-id-12 div.sk-toggleable__content pre {margin: 0.2em;color: black;border-radius: 0.25em;background-color: #f0f8ff;}#sk-container-id-12 input.sk-toggleable__control:checked~div.sk-toggleable__content {max-height: 200px;max-width: 100%;overflow: auto;}#sk-container-id-12 input.sk-toggleable__control:checked~label.sk-toggleable__label-arrow:before {content: \"▾\";}#sk-container-id-12 div.sk-estimator input.sk-toggleable__control:checked~label.sk-toggleable__label {background-color: #d4ebff;}#sk-container-id-12 div.sk-label input.sk-toggleable__control:checked~label.sk-toggleable__label {background-color: #d4ebff;}#sk-container-id-12 input.sk-hidden--visually {border: 0;clip: rect(1px 1px 1px 1px);clip: rect(1px, 1px, 1px, 1px);height: 1px;margin: -1px;overflow: hidden;padding: 0;position: absolute;width: 1px;}#sk-container-id-12 div.sk-estimator {font-family: monospace;background-color: #f0f8ff;border: 1px dotted black;border-radius: 0.25em;box-sizing: border-box;margin-bottom: 0.5em;}#sk-container-id-12 div.sk-estimator:hover {background-color: #d4ebff;}#sk-container-id-12 div.sk-parallel-item::after {content: \"\";width: 100%;border-bottom: 1px solid gray;flex-grow: 1;}#sk-container-id-12 div.sk-label:hover label.sk-toggleable__label {background-color: #d4ebff;}#sk-container-id-12 div.sk-serial::before {content: \"\";position: absolute;border-left: 1px solid gray;box-sizing: border-box;top: 0;bottom: 0;left: 50%;z-index: 0;}#sk-container-id-12 div.sk-serial {display: flex;flex-direction: column;align-items: center;background-color: white;padding-right: 0.2em;padding-left: 0.2em;position: relative;}#sk-container-id-12 div.sk-item {position: relative;z-index: 1;}#sk-container-id-12 div.sk-parallel {display: flex;align-items: stretch;justify-content: center;background-color: white;position: relative;}#sk-container-id-12 div.sk-item::before, #sk-container-id-12 div.sk-parallel-item::before {content: \"\";position: absolute;border-left: 1px solid gray;box-sizing: border-box;top: 0;bottom: 0;left: 50%;z-index: -1;}#sk-container-id-12 div.sk-parallel-item {display: flex;flex-direction: column;z-index: 1;position: relative;background-color: white;}#sk-container-id-12 div.sk-parallel-item:first-child::after {align-self: flex-end;width: 50%;}#sk-container-id-12 div.sk-parallel-item:last-child::after {align-self: flex-start;width: 50%;}#sk-container-id-12 div.sk-parallel-item:only-child::after {width: 0;}#sk-container-id-12 div.sk-dashed-wrapped {border: 1px dashed gray;margin: 0 0.4em 0.5em 0.4em;box-sizing: border-box;padding-bottom: 0.4em;background-color: white;}#sk-container-id-12 div.sk-label label {font-family: monospace;font-weight: bold;display: inline-block;line-height: 1.2em;}#sk-container-id-12 div.sk-label-container {text-align: center;}#sk-container-id-12 div.sk-container {/* jupyter's `normalize.less` sets `[hidden] { display: none; }` but bootstrap.min.css set `[hidden] { display: none !important; }` so we also need the `!important` here to be able to override the default hidden behavior on the sphinx rendered scikit-learn.org. See: https://github.com/scikit-learn/scikit-learn/issues/21755 */display: inline-block !important;position: relative;}#sk-container-id-12 div.sk-text-repr-fallback {display: none;}</style><div id=\"sk-container-id-12\" class=\"sk-top-container\"><div class=\"sk-text-repr-fallback\"><pre>Pipeline(steps=[(&#x27;vect&#x27;, CountVectorizer()), (&#x27;tfidf&#x27;, TfidfTransformer()),\n",
              "                (&#x27;clf&#x27;, RandomForestClassifier())])</pre><b>In a Jupyter environment, please rerun this cell to show the HTML representation or trust the notebook. <br />On GitHub, the HTML representation is unable to render, please try loading this page with nbviewer.org.</b></div><div class=\"sk-container\" hidden><div class=\"sk-item sk-dashed-wrapped\"><div class=\"sk-label-container\"><div class=\"sk-label sk-toggleable\"><input class=\"sk-toggleable__control sk-hidden--visually\" id=\"sk-estimator-id-45\" type=\"checkbox\" ><label for=\"sk-estimator-id-45\" class=\"sk-toggleable__label sk-toggleable__label-arrow\">Pipeline</label><div class=\"sk-toggleable__content\"><pre>Pipeline(steps=[(&#x27;vect&#x27;, CountVectorizer()), (&#x27;tfidf&#x27;, TfidfTransformer()),\n",
              "                (&#x27;clf&#x27;, RandomForestClassifier())])</pre></div></div></div><div class=\"sk-serial\"><div class=\"sk-item\"><div class=\"sk-estimator sk-toggleable\"><input class=\"sk-toggleable__control sk-hidden--visually\" id=\"sk-estimator-id-46\" type=\"checkbox\" ><label for=\"sk-estimator-id-46\" class=\"sk-toggleable__label sk-toggleable__label-arrow\">CountVectorizer</label><div class=\"sk-toggleable__content\"><pre>CountVectorizer()</pre></div></div></div><div class=\"sk-item\"><div class=\"sk-estimator sk-toggleable\"><input class=\"sk-toggleable__control sk-hidden--visually\" id=\"sk-estimator-id-47\" type=\"checkbox\" ><label for=\"sk-estimator-id-47\" class=\"sk-toggleable__label sk-toggleable__label-arrow\">TfidfTransformer</label><div class=\"sk-toggleable__content\"><pre>TfidfTransformer()</pre></div></div></div><div class=\"sk-item\"><div class=\"sk-estimator sk-toggleable\"><input class=\"sk-toggleable__control sk-hidden--visually\" id=\"sk-estimator-id-48\" type=\"checkbox\" ><label for=\"sk-estimator-id-48\" class=\"sk-toggleable__label sk-toggleable__label-arrow\">RandomForestClassifier</label><div class=\"sk-toggleable__content\"><pre>RandomForestClassifier()</pre></div></div></div></div></div></div></div>"
            ]
          },
          "metadata": {},
          "execution_count": 227
        }
      ],
      "source": [
        "# RANDOM FOREST Algorithm training X_train, X_test, y_train, y_test\n",
        "rf_model = rf_pipeline.fit(X_train.values.astype('U'), y_train.values.astype('U'))\n",
        "rf_model"
      ]
    },
    {
      "cell_type": "code",
      "execution_count": 228,
      "id": "5391641b-0a41-4586-abed-43888d19aa79",
      "metadata": {
        "tags": [],
        "colab": {
          "base_uri": "https://localhost:8080/"
        },
        "id": "5391641b-0a41-4586-abed-43888d19aa79",
        "outputId": "fe5b57cc-0f3d-48bc-cb08-c0d1c9c989d8"
      },
      "outputs": [
        {
          "output_type": "execute_result",
          "data": {
            "text/plain": [
              "array(['-1', '0', '1', 'complains'], dtype='<U9')"
            ]
          },
          "metadata": {},
          "execution_count": 228
        }
      ],
      "source": [
        "y_pred = rf_model.predict(X_test.values.astype('U'))\n",
        "rf_model.classes_"
      ]
    },
    {
      "cell_type": "code",
      "execution_count": 229,
      "id": "0b0f795b-29a3-4964-877b-5be5ece0afea",
      "metadata": {
        "tags": [],
        "colab": {
          "base_uri": "https://localhost:8080/"
        },
        "id": "0b0f795b-29a3-4964-877b-5be5ece0afea",
        "outputId": "d5d5d298-8f30-4a21-d8ba-a6b2d3724d2e"
      },
      "outputs": [
        {
          "output_type": "stream",
          "name": "stdout",
          "text": [
            "[[731 214   1   6]\n",
            " [317 375   1   5]\n",
            " [ 53  46   4   1]\n",
            " [  0   0   0   0]]\n"
          ]
        }
      ],
      "source": [
        "cm = confusion_matrix(y_test, y_pred, labels=rf_model.classes_)\n",
        "print(cm)"
      ]
    },
    {
      "cell_type": "code",
      "execution_count": 230,
      "id": "4f55fa3c-f3ea-46d5-b19c-a31daf880e47",
      "metadata": {
        "tags": [],
        "colab": {
          "base_uri": "https://localhost:8080/",
          "height": 296
        },
        "id": "4f55fa3c-f3ea-46d5-b19c-a31daf880e47",
        "outputId": "b85e10d0-90fa-4c12-f38d-3798cf5f8c47"
      },
      "outputs": [
        {
          "output_type": "execute_result",
          "data": {
            "text/plain": [
              "<sklearn.metrics._plot.confusion_matrix.ConfusionMatrixDisplay at 0x7fb92f84b9a0>"
            ]
          },
          "metadata": {},
          "execution_count": 230
        },
        {
          "output_type": "display_data",
          "data": {
            "text/plain": [
              "<Figure size 432x288 with 2 Axes>"
            ],
            "image/png": "[encoded data removed]"
          },
          "metadata": {
            "needs_background": "light"
          }
        }
      ],
      "source": [
        "cm_dsp=ConfusionMatrixDisplay(confusion_matrix=cm, display_labels=['Negatives', 'Neutral', 'Positive', 'Complains'])\n",
        "cm_dsp.plot()"
      ]
    },
    {
      "cell_type": "code",
      "execution_count": 231,
      "id": "aac0325f-5ca9-4562-bd85-66b322aad82a",
      "metadata": {
        "colab": {
          "base_uri": "https://localhost:8080/"
        },
        "id": "aac0325f-5ca9-4562-bd85-66b322aad82a",
        "outputId": "3c803d9c-a13c-4cd9-a429-148db1a0a8b4"
      },
      "outputs": [
        {
          "output_type": "stream",
          "name": "stdout",
          "text": [
            "Model Score: 0.6328392246294184\n",
            "Model Score: 63.28%\n",
            "\n",
            "Accuracy: 0.6328392246294184\n",
            "Accuracy: 63.28%\n",
            "\n",
            "F1-score: 0.6147281853091169\n",
            "F1-score: 61.47%\n",
            "\n",
            "CPU times and Wall time: \n",
            "CPU times: user 349 ms, sys: 805 µs, total: 350 ms\n",
            "Wall time: 375 ms\n"
          ]
        }
      ],
      "source": [
        "%%time\n",
        "\n",
        "#predicting \n",
        "y_pred = rf_model.predict(X_test.values.astype('U'))\n",
        "\n",
        "model_score = rf_model.score(X_test.values.astype('U'), y_test.values.astype('U'))\n",
        "print(f'Model Score: {model_score}')\n",
        "print(f'Model Score: {model_score*100:.2f}%')\n",
        "accuracy = accuracy_score(y_test, y_pred)\n",
        "print()\n",
        "print(f\"Accuracy: {accuracy}\")\n",
        "print(f\"Accuracy: {accuracy*100:.2f}%\")\n",
        "print()\n",
        "f1 = f1_score(y_test, y_pred, average='weighted')\n",
        "print(f\"F1-score: {f1}\")\n",
        "print(f\"F1-score: {f1*100:.2f}%\")\n",
        "print()\n",
        "print(\"CPU times and Wall time: \")"
      ]
    },
    {
      "cell_type": "code",
      "execution_count": 233,
      "id": "3f1f9c66-134b-402e-8eae-e8e08a286904",
      "metadata": {
        "colab": {
          "base_uri": "https://localhost:8080/"
        },
        "id": "3f1f9c66-134b-402e-8eae-e8e08a286904",
        "outputId": "f28bef2f-3f68-4a7e-967a-ab7ad709edfa"
      },
      "outputs": [
        {
          "output_type": "execute_result",
          "data": {
            "text/plain": [
              "['models/Randomforest_model_score_63.28.pkl']"
            ]
          },
          "metadata": {},
          "execution_count": 233
        }
      ],
      "source": [
        "# Save to file / directory\n",
        "joblib_file = \"models/Randomforest_model_score_\"+ str(round(accuracy*100,2))+\".pkl\"\n",
        "joblib.dump(rf_model, joblib_file)"
      ]
    },
    {
      "cell_type": "markdown",
      "id": "d40724ff-ac2d-49ca-8e6f-2e993fbc4540",
      "metadata": {
        "id": "d40724ff-ac2d-49ca-8e6f-2e993fbc4540"
      },
      "source": [
        "# 4.3 DECISION TREE CLASSIFIER"
      ]
    },
    {
      "cell_type": "code",
      "execution_count": 234,
      "id": "c2458729-8dd9-4ff1-b03a-2c8eb91c6c0d",
      "metadata": {
        "id": "c2458729-8dd9-4ff1-b03a-2c8eb91c6c0d"
      },
      "outputs": [],
      "source": [
        "# Initialize a vectorization and modelling pipeline\n",
        "dt_pipeline = Pipeline([\n",
        "     ('vect', CountVectorizer(ngram_range=(1,1))),\n",
        "     ('tfidf', TfidfTransformer()),\n",
        "     ('clf', DecisionTreeClassifier()),\n",
        " ])"
      ]
    },
    {
      "cell_type": "code",
      "execution_count": 260,
      "id": "c8ea1f6f-3613-46b7-a78f-824c14699ed9",
      "metadata": {
        "colab": {
          "base_uri": "https://localhost:8080/",
          "height": 161
        },
        "id": "c8ea1f6f-3613-46b7-a78f-824c14699ed9",
        "outputId": "6412b98e-4616-4d9b-ab2a-edb31544f56a"
      },
      "outputs": [
        {
          "output_type": "execute_result",
          "data": {
            "text/plain": [
              "Pipeline(steps=[('vect', CountVectorizer()), ('tfidf', TfidfTransformer()),\n",
              "                ('clf', DecisionTreeClassifier())])"
            ],
            "text/html": [
              "<style>#sk-container-id-19 {color: black;background-color: white;}#sk-container-id-19 pre{padding: 0;}#sk-container-id-19 div.sk-toggleable {background-color: white;}#sk-container-id-19 label.sk-toggleable__label {cursor: pointer;display: block;width: 100%;margin-bottom: 0;padding: 0.3em;box-sizing: border-box;text-align: center;}#sk-container-id-19 label.sk-toggleable__label-arrow:before {content: \"▸\";float: left;margin-right: 0.25em;color: #696969;}#sk-container-id-19 label.sk-toggleable__label-arrow:hover:before {color: black;}#sk-container-id-19 div.sk-estimator:hover label.sk-toggleable__label-arrow:before {color: black;}#sk-container-id-19 div.sk-toggleable__content {max-height: 0;max-width: 0;overflow: hidden;text-align: left;background-color: #f0f8ff;}#sk-container-id-19 div.sk-toggleable__content pre {margin: 0.2em;color: black;border-radius: 0.25em;background-color: #f0f8ff;}#sk-container-id-19 input.sk-toggleable__control:checked~div.sk-toggleable__content {max-height: 200px;max-width: 100%;overflow: auto;}#sk-container-id-19 input.sk-toggleable__control:checked~label.sk-toggleable__label-arrow:before {content: \"▾\";}#sk-container-id-19 div.sk-estimator input.sk-toggleable__control:checked~label.sk-toggleable__label {background-color: #d4ebff;}#sk-container-id-19 div.sk-label input.sk-toggleable__control:checked~label.sk-toggleable__label {background-color: #d4ebff;}#sk-container-id-19 input.sk-hidden--visually {border: 0;clip: rect(1px 1px 1px 1px);clip: rect(1px, 1px, 1px, 1px);height: 1px;margin: -1px;overflow: hidden;padding: 0;position: absolute;width: 1px;}#sk-container-id-19 div.sk-estimator {font-family: monospace;background-color: #f0f8ff;border: 1px dotted black;border-radius: 0.25em;box-sizing: border-box;margin-bottom: 0.5em;}#sk-container-id-19 div.sk-estimator:hover {background-color: #d4ebff;}#sk-container-id-19 div.sk-parallel-item::after {content: \"\";width: 100%;border-bottom: 1px solid gray;flex-grow: 1;}#sk-container-id-19 div.sk-label:hover label.sk-toggleable__label {background-color: #d4ebff;}#sk-container-id-19 div.sk-serial::before {content: \"\";position: absolute;border-left: 1px solid gray;box-sizing: border-box;top: 0;bottom: 0;left: 50%;z-index: 0;}#sk-container-id-19 div.sk-serial {display: flex;flex-direction: column;align-items: center;background-color: white;padding-right: 0.2em;padding-left: 0.2em;position: relative;}#sk-container-id-19 div.sk-item {position: relative;z-index: 1;}#sk-container-id-19 div.sk-parallel {display: flex;align-items: stretch;justify-content: center;background-color: white;position: relative;}#sk-container-id-19 div.sk-item::before, #sk-container-id-19 div.sk-parallel-item::before {content: \"\";position: absolute;border-left: 1px solid gray;box-sizing: border-box;top: 0;bottom: 0;left: 50%;z-index: -1;}#sk-container-id-19 div.sk-parallel-item {display: flex;flex-direction: column;z-index: 1;position: relative;background-color: white;}#sk-container-id-19 div.sk-parallel-item:first-child::after {align-self: flex-end;width: 50%;}#sk-container-id-19 div.sk-parallel-item:last-child::after {align-self: flex-start;width: 50%;}#sk-container-id-19 div.sk-parallel-item:only-child::after {width: 0;}#sk-container-id-19 div.sk-dashed-wrapped {border: 1px dashed gray;margin: 0 0.4em 0.5em 0.4em;box-sizing: border-box;padding-bottom: 0.4em;background-color: white;}#sk-container-id-19 div.sk-label label {font-family: monospace;font-weight: bold;display: inline-block;line-height: 1.2em;}#sk-container-id-19 div.sk-label-container {text-align: center;}#sk-container-id-19 div.sk-container {/* jupyter's `normalize.less` sets `[hidden] { display: none; }` but bootstrap.min.css set `[hidden] { display: none !important; }` so we also need the `!important` here to be able to override the default hidden behavior on the sphinx rendered scikit-learn.org. See: https://github.com/scikit-learn/scikit-learn/issues/21755 */display: inline-block !important;position: relative;}#sk-container-id-19 div.sk-text-repr-fallback {display: none;}</style><div id=\"sk-container-id-19\" class=\"sk-top-container\"><div class=\"sk-text-repr-fallback\"><pre>Pipeline(steps=[(&#x27;vect&#x27;, CountVectorizer()), (&#x27;tfidf&#x27;, TfidfTransformer()),\n",
              "                (&#x27;clf&#x27;, DecisionTreeClassifier())])</pre><b>In a Jupyter environment, please rerun this cell to show the HTML representation or trust the notebook. <br />On GitHub, the HTML representation is unable to render, please try loading this page with nbviewer.org.</b></div><div class=\"sk-container\" hidden><div class=\"sk-item sk-dashed-wrapped\"><div class=\"sk-label-container\"><div class=\"sk-label sk-toggleable\"><input class=\"sk-toggleable__control sk-hidden--visually\" id=\"sk-estimator-id-73\" type=\"checkbox\" ><label for=\"sk-estimator-id-73\" class=\"sk-toggleable__label sk-toggleable__label-arrow\">Pipeline</label><div class=\"sk-toggleable__content\"><pre>Pipeline(steps=[(&#x27;vect&#x27;, CountVectorizer()), (&#x27;tfidf&#x27;, TfidfTransformer()),\n",
              "                (&#x27;clf&#x27;, DecisionTreeClassifier())])</pre></div></div></div><div class=\"sk-serial\"><div class=\"sk-item\"><div class=\"sk-estimator sk-toggleable\"><input class=\"sk-toggleable__control sk-hidden--visually\" id=\"sk-estimator-id-74\" type=\"checkbox\" ><label for=\"sk-estimator-id-74\" class=\"sk-toggleable__label sk-toggleable__label-arrow\">CountVectorizer</label><div class=\"sk-toggleable__content\"><pre>CountVectorizer()</pre></div></div></div><div class=\"sk-item\"><div class=\"sk-estimator sk-toggleable\"><input class=\"sk-toggleable__control sk-hidden--visually\" id=\"sk-estimator-id-75\" type=\"checkbox\" ><label for=\"sk-estimator-id-75\" class=\"sk-toggleable__label sk-toggleable__label-arrow\">TfidfTransformer</label><div class=\"sk-toggleable__content\"><pre>TfidfTransformer()</pre></div></div></div><div class=\"sk-item\"><div class=\"sk-estimator sk-toggleable\"><input class=\"sk-toggleable__control sk-hidden--visually\" id=\"sk-estimator-id-76\" type=\"checkbox\" ><label for=\"sk-estimator-id-76\" class=\"sk-toggleable__label sk-toggleable__label-arrow\">DecisionTreeClassifier</label><div class=\"sk-toggleable__content\"><pre>DecisionTreeClassifier()</pre></div></div></div></div></div></div></div>"
            ]
          },
          "metadata": {},
          "execution_count": 260
        }
      ],
      "source": [
        "# Algorithm training X_train, X_test, y_train, y_test\n",
        "dt_model = dt_pipeline.fit(X_train.values.astype('U'), y_train.values.astype('U'))\n",
        "dt_model"
      ]
    },
    {
      "cell_type": "code",
      "execution_count": 236,
      "id": "642dd071-dc7f-42f3-8775-f133e1417b24",
      "metadata": {
        "tags": [],
        "colab": {
          "base_uri": "https://localhost:8080/"
        },
        "id": "642dd071-dc7f-42f3-8775-f133e1417b24",
        "outputId": "2affedb1-a118-484f-f0fe-c5cf1991740d"
      },
      "outputs": [
        {
          "output_type": "execute_result",
          "data": {
            "text/plain": [
              "array(['-1', '0', '1', 'complains'], dtype='<U9')"
            ]
          },
          "metadata": {},
          "execution_count": 236
        }
      ],
      "source": [
        "y_pred = dt_model.predict(X_test.values.astype('U'))\n",
        "dt_model.classes_"
      ]
    },
    {
      "cell_type": "code",
      "execution_count": 237,
      "id": "c516ab2a-4bb9-4f95-92c3-8c69e539af9f",
      "metadata": {
        "tags": [],
        "colab": {
          "base_uri": "https://localhost:8080/"
        },
        "id": "c516ab2a-4bb9-4f95-92c3-8c69e539af9f",
        "outputId": "f5b31815-8b05-4747-eaa1-5570feb94f86"
      },
      "outputs": [
        {
          "output_type": "stream",
          "name": "stdout",
          "text": [
            "[[608 316  22   6]\n",
            " [285 380  25   8]\n",
            " [ 55  36  11   2]\n",
            " [  0   0   0   0]]\n"
          ]
        }
      ],
      "source": [
        "cm = confusion_matrix(y_test, y_pred, labels=dt_model.classes_)\n",
        "print(cm)"
      ]
    },
    {
      "cell_type": "code",
      "execution_count": 238,
      "id": "f2870031-8ae3-430b-a96d-5dc442357ff5",
      "metadata": {
        "tags": [],
        "colab": {
          "base_uri": "https://localhost:8080/",
          "height": 297
        },
        "id": "f2870031-8ae3-430b-a96d-5dc442357ff5",
        "outputId": "8e3b64a0-acb3-4693-f764-1c8739d25997"
      },
      "outputs": [
        {
          "output_type": "execute_result",
          "data": {
            "text/plain": [
              "<sklearn.metrics._plot.confusion_matrix.ConfusionMatrixDisplay at 0x7fb9264ebb20>"
            ]
          },
          "metadata": {},
          "execution_count": 238
        },
        {
          "output_type": "display_data",
          "data": {
            "text/plain": [
              "<Figure size 432x288 with 2 Axes>"
            ],
            "image/png": "[encoded data removed]"
          },
          "metadata": {
            "needs_background": "light"
          }
        }
      ],
      "source": [
        "cm_dsp=ConfusionMatrixDisplay(confusion_matrix=cm, display_labels=['Negatives', 'Neutral', 'Positive', 'Complains'])\n",
        "cm_dsp.plot()"
      ]
    },
    {
      "cell_type": "code",
      "execution_count": 239,
      "id": "f3fac5a9-e0d7-4f9b-95bf-0b7654577b14",
      "metadata": {
        "tags": [],
        "colab": {
          "base_uri": "https://localhost:8080/"
        },
        "id": "f3fac5a9-e0d7-4f9b-95bf-0b7654577b14",
        "outputId": "d36f01e6-33a2-4f5e-d621-dd36dbcce8b8"
      },
      "outputs": [
        {
          "output_type": "stream",
          "name": "stdout",
          "text": [
            "Model Score: 0.5695553021664767\n",
            "Model Score: 56.96%\n",
            "\n",
            "Accuracy: 0.5695553021664767\n",
            "Accuracy: 56.96%\n",
            "\n",
            "F1-score: 0.5669147615479808\n",
            "F1-score: 56.69%\n",
            "\n",
            "CPU times and Wall time: \n",
            "CPU times: user 82.7 ms, sys: 904 µs, total: 83.6 ms\n",
            "Wall time: 91.7 ms\n"
          ]
        }
      ],
      "source": [
        "%%time\n",
        "\n",
        "#predicting \n",
        "y_pred = dt_model.predict(X_test.values.astype('U'))\n",
        "\n",
        "model_score = dt_model.score(X_test.values.astype('U'), y_test.values.astype('U'))\n",
        "print(f'Model Score: {model_score}')\n",
        "print(f'Model Score: {model_score*100:.2f}%')\n",
        "accuracy = accuracy_score(y_test, y_pred)\n",
        "print()\n",
        "print(f\"Accuracy: {accuracy}\")\n",
        "print(f\"Accuracy: {accuracy*100:.2f}%\")\n",
        "print()\n",
        "f1 = f1_score(y_test, y_pred, average='weighted')\n",
        "print(f\"F1-score: {f1}\")\n",
        "print(f\"F1-score: {f1*100:.2f}%\")\n",
        "print()\n",
        "print(\"CPU times and Wall time: \")"
      ]
    },
    {
      "cell_type": "code",
      "execution_count": 240,
      "id": "3ceaae73-dcb2-4f0e-b525-dcd753896cbc",
      "metadata": {
        "colab": {
          "base_uri": "https://localhost:8080/"
        },
        "id": "3ceaae73-dcb2-4f0e-b525-dcd753896cbc",
        "outputId": "fc680918-4568-4398-e64d-3015a7fcf16a"
      },
      "outputs": [
        {
          "output_type": "execute_result",
          "data": {
            "text/plain": [
              "['models/DecisionTreeClassifier_model_score_56.96.pkl']"
            ]
          },
          "metadata": {},
          "execution_count": 240
        }
      ],
      "source": [
        "# Save to file / directory\n",
        "joblib_file = \"models/DecisionTreeClassifier_model_score_\"+ str(round(accuracy*100,2))+\".pkl\"\n",
        "joblib.dump(dt_model, joblib_file)"
      ]
    },
    {
      "cell_type": "markdown",
      "id": "4042fb67-1afd-47de-9ca2-fe20ae287819",
      "metadata": {
        "id": "4042fb67-1afd-47de-9ca2-fe20ae287819"
      },
      "source": [
        "# 4.4 KNEIGHBORS CLASSIFIER"
      ]
    },
    {
      "cell_type": "code",
      "execution_count": 241,
      "id": "801fbd7b-d730-4809-a7b6-f909cfaf07e0",
      "metadata": {
        "id": "801fbd7b-d730-4809-a7b6-f909cfaf07e0"
      },
      "outputs": [],
      "source": [
        "# Initialize a vectorization and modelling pipeline\n",
        "kn_pipeline = Pipeline([\n",
        "     ('vect', CountVectorizer(ngram_range=(1,1))),\n",
        "     ('tfidf', TfidfTransformer()),\n",
        "     ('clf', KNeighborsClassifier()), \n",
        " ])"
      ]
    },
    {
      "cell_type": "code",
      "execution_count": 259,
      "id": "9c1877bb-f512-4b4b-9d07-3513a033d20c",
      "metadata": {
        "colab": {
          "base_uri": "https://localhost:8080/",
          "height": 161
        },
        "id": "9c1877bb-f512-4b4b-9d07-3513a033d20c",
        "outputId": "8bb42f38-be14-401d-ce8c-cb53f5987d8b"
      },
      "outputs": [
        {
          "output_type": "execute_result",
          "data": {
            "text/plain": [
              "Pipeline(steps=[('vect', CountVectorizer()), ('tfidf', TfidfTransformer()),\n",
              "                ('clf', KNeighborsClassifier())])"
            ],
            "text/html": [
              "<style>#sk-container-id-18 {color: black;background-color: white;}#sk-container-id-18 pre{padding: 0;}#sk-container-id-18 div.sk-toggleable {background-color: white;}#sk-container-id-18 label.sk-toggleable__label {cursor: pointer;display: block;width: 100%;margin-bottom: 0;padding: 0.3em;box-sizing: border-box;text-align: center;}#sk-container-id-18 label.sk-toggleable__label-arrow:before {content: \"▸\";float: left;margin-right: 0.25em;color: #696969;}#sk-container-id-18 label.sk-toggleable__label-arrow:hover:before {color: black;}#sk-container-id-18 div.sk-estimator:hover label.sk-toggleable__label-arrow:before {color: black;}#sk-container-id-18 div.sk-toggleable__content {max-height: 0;max-width: 0;overflow: hidden;text-align: left;background-color: #f0f8ff;}#sk-container-id-18 div.sk-toggleable__content pre {margin: 0.2em;color: black;border-radius: 0.25em;background-color: #f0f8ff;}#sk-container-id-18 input.sk-toggleable__control:checked~div.sk-toggleable__content {max-height: 200px;max-width: 100%;overflow: auto;}#sk-container-id-18 input.sk-toggleable__control:checked~label.sk-toggleable__label-arrow:before {content: \"▾\";}#sk-container-id-18 div.sk-estimator input.sk-toggleable__control:checked~label.sk-toggleable__label {background-color: #d4ebff;}#sk-container-id-18 div.sk-label input.sk-toggleable__control:checked~label.sk-toggleable__label {background-color: #d4ebff;}#sk-container-id-18 input.sk-hidden--visually {border: 0;clip: rect(1px 1px 1px 1px);clip: rect(1px, 1px, 1px, 1px);height: 1px;margin: -1px;overflow: hidden;padding: 0;position: absolute;width: 1px;}#sk-container-id-18 div.sk-estimator {font-family: monospace;background-color: #f0f8ff;border: 1px dotted black;border-radius: 0.25em;box-sizing: border-box;margin-bottom: 0.5em;}#sk-container-id-18 div.sk-estimator:hover {background-color: #d4ebff;}#sk-container-id-18 div.sk-parallel-item::after {content: \"\";width: 100%;border-bottom: 1px solid gray;flex-grow: 1;}#sk-container-id-18 div.sk-label:hover label.sk-toggleable__label {background-color: #d4ebff;}#sk-container-id-18 div.sk-serial::before {content: \"\";position: absolute;border-left: 1px solid gray;box-sizing: border-box;top: 0;bottom: 0;left: 50%;z-index: 0;}#sk-container-id-18 div.sk-serial {display: flex;flex-direction: column;align-items: center;background-color: white;padding-right: 0.2em;padding-left: 0.2em;position: relative;}#sk-container-id-18 div.sk-item {position: relative;z-index: 1;}#sk-container-id-18 div.sk-parallel {display: flex;align-items: stretch;justify-content: center;background-color: white;position: relative;}#sk-container-id-18 div.sk-item::before, #sk-container-id-18 div.sk-parallel-item::before {content: \"\";position: absolute;border-left: 1px solid gray;box-sizing: border-box;top: 0;bottom: 0;left: 50%;z-index: -1;}#sk-container-id-18 div.sk-parallel-item {display: flex;flex-direction: column;z-index: 1;position: relative;background-color: white;}#sk-container-id-18 div.sk-parallel-item:first-child::after {align-self: flex-end;width: 50%;}#sk-container-id-18 div.sk-parallel-item:last-child::after {align-self: flex-start;width: 50%;}#sk-container-id-18 div.sk-parallel-item:only-child::after {width: 0;}#sk-container-id-18 div.sk-dashed-wrapped {border: 1px dashed gray;margin: 0 0.4em 0.5em 0.4em;box-sizing: border-box;padding-bottom: 0.4em;background-color: white;}#sk-container-id-18 div.sk-label label {font-family: monospace;font-weight: bold;display: inline-block;line-height: 1.2em;}#sk-container-id-18 div.sk-label-container {text-align: center;}#sk-container-id-18 div.sk-container {/* jupyter's `normalize.less` sets `[hidden] { display: none; }` but bootstrap.min.css set `[hidden] { display: none !important; }` so we also need the `!important` here to be able to override the default hidden behavior on the sphinx rendered scikit-learn.org. See: https://github.com/scikit-learn/scikit-learn/issues/21755 */display: inline-block !important;position: relative;}#sk-container-id-18 div.sk-text-repr-fallback {display: none;}</style><div id=\"sk-container-id-18\" class=\"sk-top-container\"><div class=\"sk-text-repr-fallback\"><pre>Pipeline(steps=[(&#x27;vect&#x27;, CountVectorizer()), (&#x27;tfidf&#x27;, TfidfTransformer()),\n",
              "                (&#x27;clf&#x27;, KNeighborsClassifier())])</pre><b>In a Jupyter environment, please rerun this cell to show the HTML representation or trust the notebook. <br />On GitHub, the HTML representation is unable to render, please try loading this page with nbviewer.org.</b></div><div class=\"sk-container\" hidden><div class=\"sk-item sk-dashed-wrapped\"><div class=\"sk-label-container\"><div class=\"sk-label sk-toggleable\"><input class=\"sk-toggleable__control sk-hidden--visually\" id=\"sk-estimator-id-69\" type=\"checkbox\" ><label for=\"sk-estimator-id-69\" class=\"sk-toggleable__label sk-toggleable__label-arrow\">Pipeline</label><div class=\"sk-toggleable__content\"><pre>Pipeline(steps=[(&#x27;vect&#x27;, CountVectorizer()), (&#x27;tfidf&#x27;, TfidfTransformer()),\n",
              "                (&#x27;clf&#x27;, KNeighborsClassifier())])</pre></div></div></div><div class=\"sk-serial\"><div class=\"sk-item\"><div class=\"sk-estimator sk-toggleable\"><input class=\"sk-toggleable__control sk-hidden--visually\" id=\"sk-estimator-id-70\" type=\"checkbox\" ><label for=\"sk-estimator-id-70\" class=\"sk-toggleable__label sk-toggleable__label-arrow\">CountVectorizer</label><div class=\"sk-toggleable__content\"><pre>CountVectorizer()</pre></div></div></div><div class=\"sk-item\"><div class=\"sk-estimator sk-toggleable\"><input class=\"sk-toggleable__control sk-hidden--visually\" id=\"sk-estimator-id-71\" type=\"checkbox\" ><label for=\"sk-estimator-id-71\" class=\"sk-toggleable__label sk-toggleable__label-arrow\">TfidfTransformer</label><div class=\"sk-toggleable__content\"><pre>TfidfTransformer()</pre></div></div></div><div class=\"sk-item\"><div class=\"sk-estimator sk-toggleable\"><input class=\"sk-toggleable__control sk-hidden--visually\" id=\"sk-estimator-id-72\" type=\"checkbox\" ><label for=\"sk-estimator-id-72\" class=\"sk-toggleable__label sk-toggleable__label-arrow\">KNeighborsClassifier</label><div class=\"sk-toggleable__content\"><pre>KNeighborsClassifier()</pre></div></div></div></div></div></div></div>"
            ]
          },
          "metadata": {},
          "execution_count": 259
        }
      ],
      "source": [
        "# Algorithm training X_train, X_test, y_train, y_test\n",
        "kn_model = kn_pipeline.fit(X_train.values.astype('U'), y_train.values.astype('U'))\n",
        "kn_model"
      ]
    },
    {
      "cell_type": "code",
      "execution_count": 243,
      "id": "a0caeba5-6674-4e06-82f7-81fc199f0e75",
      "metadata": {
        "tags": [],
        "colab": {
          "base_uri": "https://localhost:8080/"
        },
        "id": "a0caeba5-6674-4e06-82f7-81fc199f0e75",
        "outputId": "ed38bbb5-67a2-4b4c-c57a-2992575c97fb"
      },
      "outputs": [
        {
          "output_type": "execute_result",
          "data": {
            "text/plain": [
              "array(['-1', '0', '1', 'complains'], dtype='<U9')"
            ]
          },
          "metadata": {},
          "execution_count": 243
        }
      ],
      "source": [
        "y_pred = kn_model.predict(X_test.values.astype('U'))\n",
        "kn_model.classes_"
      ]
    },
    {
      "cell_type": "code",
      "execution_count": 244,
      "id": "e64de012-a9ef-4b92-bf1a-5dd7d72ce4f3",
      "metadata": {
        "tags": [],
        "colab": {
          "base_uri": "https://localhost:8080/"
        },
        "id": "e64de012-a9ef-4b92-bf1a-5dd7d72ce4f3",
        "outputId": "c466fd46-dcc9-4f35-f238-82188d06a557"
      },
      "outputs": [
        {
          "output_type": "stream",
          "name": "stdout",
          "text": [
            "[[654 285  13   0]\n",
            " [304 382  12   0]\n",
            " [ 48  48   8   0]\n",
            " [  0   0   0   0]]\n"
          ]
        }
      ],
      "source": [
        "cm = confusion_matrix(y_test, y_pred, labels=kn_model.classes_)\n",
        "print(cm)"
      ]
    },
    {
      "cell_type": "code",
      "execution_count": 245,
      "id": "8a6e17da-90f0-44e5-a488-4710405d3dc7",
      "metadata": {
        "tags": [],
        "colab": {
          "base_uri": "https://localhost:8080/",
          "height": 296
        },
        "id": "8a6e17da-90f0-44e5-a488-4710405d3dc7",
        "outputId": "815c065e-c383-435a-afb5-d45a1f190424"
      },
      "outputs": [
        {
          "output_type": "execute_result",
          "data": {
            "text/plain": [
              "<sklearn.metrics._plot.confusion_matrix.ConfusionMatrixDisplay at 0x7fb925d5e160>"
            ]
          },
          "metadata": {},
          "execution_count": 245
        },
        {
          "output_type": "display_data",
          "data": {
            "text/plain": [
              "<Figure size 432x288 with 2 Axes>"
            ],
            "image/png": "[encoded data removed]"
          },
          "metadata": {
            "needs_background": "light"
          }
        }
      ],
      "source": [
        "cm_dsp=ConfusionMatrixDisplay(confusion_matrix=cm, display_labels=['Negatives', 'Neutral', 'Positive', 'Complains'])\n",
        "cm_dsp.plot()"
      ]
    },
    {
      "cell_type": "code",
      "execution_count": 246,
      "id": "2fc917b0-4651-44d4-945d-ba7ec803e476",
      "metadata": {
        "tags": [],
        "colab": {
          "base_uri": "https://localhost:8080/"
        },
        "id": "2fc917b0-4651-44d4-945d-ba7ec803e476",
        "outputId": "4ec0826d-0824-4d15-f139-1c95507f48b7"
      },
      "outputs": [
        {
          "output_type": "stream",
          "name": "stdout",
          "text": [
            "Model Score: 0.5952109464082098\n",
            "Model Score: 59.52%\n",
            "\n",
            "Accuracy: 0.5952109464082098\n",
            "Accuracy: 59.52%\n",
            "\n",
            "F1-score: 0.5846712188863151\n",
            "F1-score: 58.47%\n",
            "\n",
            "CPU times and Wall time: \n",
            "CPU times: user 5.98 s, sys: 19.1 ms, total: 6 s\n",
            "Wall time: 5.86 s\n"
          ]
        }
      ],
      "source": [
        "%%time\n",
        "\n",
        "#predicting \n",
        "y_pred = kn_model.predict(X_test.values.astype('U'))\n",
        "\n",
        "model_score = kn_model.score(X_test.values.astype('U'), y_test.values.astype('U'))\n",
        "print(f'Model Score: {model_score}')\n",
        "print(f'Model Score: {model_score*100:.2f}%')\n",
        "accuracy = accuracy_score(y_test, y_pred)\n",
        "print()\n",
        "print(f\"Accuracy: {accuracy}\")\n",
        "print(f\"Accuracy: {accuracy*100:.2f}%\")\n",
        "print()\n",
        "f1 = f1_score(y_test, y_pred, average='weighted')\n",
        "print(f\"F1-score: {f1}\")\n",
        "print(f\"F1-score: {f1*100:.2f}%\")\n",
        "print()\n",
        "print(\"CPU times and Wall time: \")"
      ]
    },
    {
      "cell_type": "code",
      "execution_count": 247,
      "id": "311caeee-63a8-41e6-9fa5-ffc65c10a83f",
      "metadata": {
        "colab": {
          "base_uri": "https://localhost:8080/"
        },
        "id": "311caeee-63a8-41e6-9fa5-ffc65c10a83f",
        "outputId": "58404e56-4c53-401a-e717-55eed9ab2215"
      },
      "outputs": [
        {
          "output_type": "execute_result",
          "data": {
            "text/plain": [
              "['models/KNeighborsClassifier_model_score_59.52.pkl']"
            ]
          },
          "metadata": {},
          "execution_count": 247
        }
      ],
      "source": [
        "# Save to file / directory\n",
        "joblib_file = \"models/KNeighborsClassifier_model_score_\"+ str(round(accuracy*100,2))+\".pkl\"\n",
        "joblib.dump(kn_model, joblib_file)"
      ]
    },
    {
      "cell_type": "markdown",
      "id": "c7e1b176-06c5-4d4b-acf1-a7444721a029",
      "metadata": {
        "id": "c7e1b176-06c5-4d4b-acf1-a7444721a029"
      },
      "source": [
        "# 4.5 LOGISTIC REGRESSION "
      ]
    },
    {
      "cell_type": "code",
      "execution_count": 248,
      "id": "3d78a162-5fca-4e8f-b7f4-9b7ad0def044",
      "metadata": {
        "id": "3d78a162-5fca-4e8f-b7f4-9b7ad0def044"
      },
      "outputs": [],
      "source": [
        "# Initialize a vectorization and modelling pipeline\n",
        "lr_pipeline = Pipeline([\n",
        "     ('vect', CountVectorizer(ngram_range=(1,5))),\n",
        "     ('tfidf', TfidfTransformer()),\n",
        "     ('clf', LogisticRegression()), \n",
        " ])"
      ]
    },
    {
      "cell_type": "code",
      "execution_count": 249,
      "id": "cb85080c-7c8c-4fee-83f4-9a769d2730ca",
      "metadata": {
        "colab": {
          "base_uri": "https://localhost:8080/",
          "height": 161
        },
        "id": "cb85080c-7c8c-4fee-83f4-9a769d2730ca",
        "outputId": "4d2d871e-d9fc-4c3e-f30c-f2ef18ad4cd3"
      },
      "outputs": [
        {
          "output_type": "execute_result",
          "data": {
            "text/plain": [
              "Pipeline(steps=[('vect', CountVectorizer(ngram_range=(1, 5))),\n",
              "                ('tfidf', TfidfTransformer()), ('clf', LogisticRegression())])"
            ],
            "text/html": [
              "<style>#sk-container-id-15 {color: black;background-color: white;}#sk-container-id-15 pre{padding: 0;}#sk-container-id-15 div.sk-toggleable {background-color: white;}#sk-container-id-15 label.sk-toggleable__label {cursor: pointer;display: block;width: 100%;margin-bottom: 0;padding: 0.3em;box-sizing: border-box;text-align: center;}#sk-container-id-15 label.sk-toggleable__label-arrow:before {content: \"▸\";float: left;margin-right: 0.25em;color: #696969;}#sk-container-id-15 label.sk-toggleable__label-arrow:hover:before {color: black;}#sk-container-id-15 div.sk-estimator:hover label.sk-toggleable__label-arrow:before {color: black;}#sk-container-id-15 div.sk-toggleable__content {max-height: 0;max-width: 0;overflow: hidden;text-align: left;background-color: #f0f8ff;}#sk-container-id-15 div.sk-toggleable__content pre {margin: 0.2em;color: black;border-radius: 0.25em;background-color: #f0f8ff;}#sk-container-id-15 input.sk-toggleable__control:checked~div.sk-toggleable__content {max-height: 200px;max-width: 100%;overflow: auto;}#sk-container-id-15 input.sk-toggleable__control:checked~label.sk-toggleable__label-arrow:before {content: \"▾\";}#sk-container-id-15 div.sk-estimator input.sk-toggleable__control:checked~label.sk-toggleable__label {background-color: #d4ebff;}#sk-container-id-15 div.sk-label input.sk-toggleable__control:checked~label.sk-toggleable__label {background-color: #d4ebff;}#sk-container-id-15 input.sk-hidden--visually {border: 0;clip: rect(1px 1px 1px 1px);clip: rect(1px, 1px, 1px, 1px);height: 1px;margin: -1px;overflow: hidden;padding: 0;position: absolute;width: 1px;}#sk-container-id-15 div.sk-estimator {font-family: monospace;background-color: #f0f8ff;border: 1px dotted black;border-radius: 0.25em;box-sizing: border-box;margin-bottom: 0.5em;}#sk-container-id-15 div.sk-estimator:hover {background-color: #d4ebff;}#sk-container-id-15 div.sk-parallel-item::after {content: \"\";width: 100%;border-bottom: 1px solid gray;flex-grow: 1;}#sk-container-id-15 div.sk-label:hover label.sk-toggleable__label {background-color: #d4ebff;}#sk-container-id-15 div.sk-serial::before {content: \"\";position: absolute;border-left: 1px solid gray;box-sizing: border-box;top: 0;bottom: 0;left: 50%;z-index: 0;}#sk-container-id-15 div.sk-serial {display: flex;flex-direction: column;align-items: center;background-color: white;padding-right: 0.2em;padding-left: 0.2em;position: relative;}#sk-container-id-15 div.sk-item {position: relative;z-index: 1;}#sk-container-id-15 div.sk-parallel {display: flex;align-items: stretch;justify-content: center;background-color: white;position: relative;}#sk-container-id-15 div.sk-item::before, #sk-container-id-15 div.sk-parallel-item::before {content: \"\";position: absolute;border-left: 1px solid gray;box-sizing: border-box;top: 0;bottom: 0;left: 50%;z-index: -1;}#sk-container-id-15 div.sk-parallel-item {display: flex;flex-direction: column;z-index: 1;position: relative;background-color: white;}#sk-container-id-15 div.sk-parallel-item:first-child::after {align-self: flex-end;width: 50%;}#sk-container-id-15 div.sk-parallel-item:last-child::after {align-self: flex-start;width: 50%;}#sk-container-id-15 div.sk-parallel-item:only-child::after {width: 0;}#sk-container-id-15 div.sk-dashed-wrapped {border: 1px dashed gray;margin: 0 0.4em 0.5em 0.4em;box-sizing: border-box;padding-bottom: 0.4em;background-color: white;}#sk-container-id-15 div.sk-label label {font-family: monospace;font-weight: bold;display: inline-block;line-height: 1.2em;}#sk-container-id-15 div.sk-label-container {text-align: center;}#sk-container-id-15 div.sk-container {/* jupyter's `normalize.less` sets `[hidden] { display: none; }` but bootstrap.min.css set `[hidden] { display: none !important; }` so we also need the `!important` here to be able to override the default hidden behavior on the sphinx rendered scikit-learn.org. See: https://github.com/scikit-learn/scikit-learn/issues/21755 */display: inline-block !important;position: relative;}#sk-container-id-15 div.sk-text-repr-fallback {display: none;}</style><div id=\"sk-container-id-15\" class=\"sk-top-container\"><div class=\"sk-text-repr-fallback\"><pre>Pipeline(steps=[(&#x27;vect&#x27;, CountVectorizer(ngram_range=(1, 5))),\n",
              "                (&#x27;tfidf&#x27;, TfidfTransformer()), (&#x27;clf&#x27;, LogisticRegression())])</pre><b>In a Jupyter environment, please rerun this cell to show the HTML representation or trust the notebook. <br />On GitHub, the HTML representation is unable to render, please try loading this page with nbviewer.org.</b></div><div class=\"sk-container\" hidden><div class=\"sk-item sk-dashed-wrapped\"><div class=\"sk-label-container\"><div class=\"sk-label sk-toggleable\"><input class=\"sk-toggleable__control sk-hidden--visually\" id=\"sk-estimator-id-57\" type=\"checkbox\" ><label for=\"sk-estimator-id-57\" class=\"sk-toggleable__label sk-toggleable__label-arrow\">Pipeline</label><div class=\"sk-toggleable__content\"><pre>Pipeline(steps=[(&#x27;vect&#x27;, CountVectorizer(ngram_range=(1, 5))),\n",
              "                (&#x27;tfidf&#x27;, TfidfTransformer()), (&#x27;clf&#x27;, LogisticRegression())])</pre></div></div></div><div class=\"sk-serial\"><div class=\"sk-item\"><div class=\"sk-estimator sk-toggleable\"><input class=\"sk-toggleable__control sk-hidden--visually\" id=\"sk-estimator-id-58\" type=\"checkbox\" ><label for=\"sk-estimator-id-58\" class=\"sk-toggleable__label sk-toggleable__label-arrow\">CountVectorizer</label><div class=\"sk-toggleable__content\"><pre>CountVectorizer(ngram_range=(1, 5))</pre></div></div></div><div class=\"sk-item\"><div class=\"sk-estimator sk-toggleable\"><input class=\"sk-toggleable__control sk-hidden--visually\" id=\"sk-estimator-id-59\" type=\"checkbox\" ><label for=\"sk-estimator-id-59\" class=\"sk-toggleable__label sk-toggleable__label-arrow\">TfidfTransformer</label><div class=\"sk-toggleable__content\"><pre>TfidfTransformer()</pre></div></div></div><div class=\"sk-item\"><div class=\"sk-estimator sk-toggleable\"><input class=\"sk-toggleable__control sk-hidden--visually\" id=\"sk-estimator-id-60\" type=\"checkbox\" ><label for=\"sk-estimator-id-60\" class=\"sk-toggleable__label sk-toggleable__label-arrow\">LogisticRegression</label><div class=\"sk-toggleable__content\"><pre>LogisticRegression()</pre></div></div></div></div></div></div></div>"
            ]
          },
          "metadata": {},
          "execution_count": 249
        }
      ],
      "source": [
        "# Algorithm training X_train, X_test, y_train, y_test\n",
        "lr_model = lr_pipeline.fit(X_train.values.astype('U'), y_train.values.astype('U'))\n",
        "lr_model"
      ]
    },
    {
      "cell_type": "code",
      "execution_count": 250,
      "id": "fa8b27dc-2d1a-4a5e-be0e-48d5bf3701e0",
      "metadata": {
        "colab": {
          "base_uri": "https://localhost:8080/"
        },
        "id": "fa8b27dc-2d1a-4a5e-be0e-48d5bf3701e0",
        "outputId": "118d55ec-e8d0-48e7-dfa1-53a71d36fec6"
      },
      "outputs": [
        {
          "output_type": "execute_result",
          "data": {
            "text/plain": [
              "array(['-1', '0', '1', 'complains'], dtype='<U9')"
            ]
          },
          "metadata": {},
          "execution_count": 250
        }
      ],
      "source": [
        "y_pred = lr_model.predict(X_test.values.astype('U'))\n",
        "lr_model.classes_"
      ]
    },
    {
      "cell_type": "code",
      "execution_count": 252,
      "id": "535cde6c-3579-438e-bd10-432affb6b948",
      "metadata": {
        "tags": [],
        "colab": {
          "base_uri": "https://localhost:8080/"
        },
        "id": "535cde6c-3579-438e-bd10-432affb6b948",
        "outputId": "6b4c9006-9287-481e-e9ab-5a96a1aa81d8"
      },
      "outputs": [
        {
          "output_type": "stream",
          "name": "stdout",
          "text": [
            "[[772 180   0   0]\n",
            " [318 380   0   0]\n",
            " [ 63  41   0   0]\n",
            " [  0   0   0   0]]\n"
          ]
        }
      ],
      "source": [
        "cm = confusion_matrix(y_test, y_pred, labels=lr_model.classes_)\n",
        "print(cm)"
      ]
    },
    {
      "cell_type": "code",
      "execution_count": 253,
      "id": "82844cb8-dda7-4348-8a23-cbf8e5df33f6",
      "metadata": {
        "tags": [],
        "colab": {
          "base_uri": "https://localhost:8080/",
          "height": 296
        },
        "id": "82844cb8-dda7-4348-8a23-cbf8e5df33f6",
        "outputId": "1fb2f02f-f8a1-4a8a-bea4-4848fcefb86f"
      },
      "outputs": [
        {
          "output_type": "execute_result",
          "data": {
            "text/plain": [
              "<sklearn.metrics._plot.confusion_matrix.ConfusionMatrixDisplay at 0x7fb925e1e760>"
            ]
          },
          "metadata": {},
          "execution_count": 253
        },
        {
          "output_type": "display_data",
          "data": {
            "text/plain": [
              "<Figure size 432x288 with 2 Axes>"
            ],
            "image/png": "[encoded data removed]"
          },
          "metadata": {
            "needs_background": "light"
          }
        }
      ],
      "source": [
        "cm_dsp=ConfusionMatrixDisplay(confusion_matrix=cm, display_labels=['Negatives', 'Neutral', 'Positive', 'Complains'])\n",
        "cm_dsp.plot()"
      ]
    },
    {
      "cell_type": "code",
      "execution_count": 254,
      "id": "e69d986b-1336-4ab2-9750-8c490e6ee0bc",
      "metadata": {
        "tags": [],
        "colab": {
          "base_uri": "https://localhost:8080/"
        },
        "id": "e69d986b-1336-4ab2-9750-8c490e6ee0bc",
        "outputId": "cf094bbf-3ce3-4b03-c750-e84c732c4604"
      },
      "outputs": [
        {
          "output_type": "stream",
          "name": "stdout",
          "text": [
            "Model Score: 0.6567844925883695\n",
            "Model Score: 65.68%\n",
            "\n",
            "Accuracy: 0.6567844925883695\n",
            "Accuracy: 65.68%\n",
            "\n",
            "F1-score: 0.6309348683613238\n",
            "F1-score: 63.09%\n",
            "\n",
            "CPU times and Wall time: \n",
            "CPU times: user 324 ms, sys: 2.21 ms, total: 326 ms\n",
            "Wall time: 781 ms\n"
          ]
        }
      ],
      "source": [
        "%%time\n",
        "\n",
        "#predicting \n",
        "y_pred = lr_model.predict(X_test.values.astype('U'))\n",
        "\n",
        "model_score = lr_model.score(X_test.values.astype('U'), y_test.values.astype('U'))\n",
        "print(f'Model Score: {model_score}')\n",
        "print(f'Model Score: {model_score*100:.2f}%')\n",
        "accuracy = accuracy_score(y_test, y_pred)\n",
        "print()\n",
        "print(f\"Accuracy: {accuracy}\")\n",
        "print(f\"Accuracy: {accuracy*100:.2f}%\")\n",
        "print()\n",
        "f1 = f1_score(y_test, y_pred, average='weighted')\n",
        "print(f\"F1-score: {f1}\")\n",
        "print(f\"F1-score: {f1*100:.2f}%\")\n",
        "print()\n",
        "print(\"CPU times and Wall time: \")"
      ]
    },
    {
      "cell_type": "code",
      "execution_count": 255,
      "id": "c339c5a7-424f-4f4d-ae17-6321bd13a317",
      "metadata": {
        "colab": {
          "base_uri": "https://localhost:8080/"
        },
        "id": "c339c5a7-424f-4f4d-ae17-6321bd13a317",
        "outputId": "69e91761-eae7-4b64-9ffc-cb9694066e9e"
      },
      "outputs": [
        {
          "output_type": "execute_result",
          "data": {
            "text/plain": [
              "['models/Logistic regression_model_score_65.68.pkl']"
            ]
          },
          "metadata": {},
          "execution_count": 255
        }
      ],
      "source": [
        "# Save to file / directory\n",
        "joblib_file = \"models/Logistic regression_model_score_\"+ str(round(accuracy*100,2))+\".pkl\"\n",
        "joblib.dump(kn_model, joblib_file)"
      ]
    },
    {
      "cell_type": "markdown",
      "id": "0c97d430-6c91-41cb-91b0-e929668f38b3",
      "metadata": {
        "id": "0c97d430-6c91-41cb-91b0-e929668f38b3"
      },
      "source": [
        "# 4.6 GRADIENT BOOSTING CLASSIFIER"
      ]
    },
    {
      "cell_type": "code",
      "execution_count": 256,
      "id": "b6df35e1-bcf3-4397-badb-491f992f95c8",
      "metadata": {
        "id": "b6df35e1-bcf3-4397-badb-491f992f95c8"
      },
      "outputs": [],
      "source": [
        "# Initialize a vectorization and modelling pipeline\n",
        "gd_pipeline = Pipeline([\n",
        "     ('vect', CountVectorizer(ngram_range=(1,1))),\n",
        "     ('tfidf', TfidfTransformer()),\n",
        "     ('clf', GradientBoostingClassifier()), \n",
        " ])"
      ]
    },
    {
      "cell_type": "code",
      "execution_count": 261,
      "id": "00c75729-2b87-49a9-95d5-ea22932a36b3",
      "metadata": {
        "colab": {
          "base_uri": "https://localhost:8080/",
          "height": 161
        },
        "id": "00c75729-2b87-49a9-95d5-ea22932a36b3",
        "outputId": "a7e6ec33-3e50-432b-921b-16773622123f"
      },
      "outputs": [
        {
          "output_type": "execute_result",
          "data": {
            "text/plain": [
              "Pipeline(steps=[('vect', CountVectorizer()), ('tfidf', TfidfTransformer()),\n",
              "                ('clf', GradientBoostingClassifier())])"
            ],
            "text/html": [
              "<style>#sk-container-id-20 {color: black;background-color: white;}#sk-container-id-20 pre{padding: 0;}#sk-container-id-20 div.sk-toggleable {background-color: white;}#sk-container-id-20 label.sk-toggleable__label {cursor: pointer;display: block;width: 100%;margin-bottom: 0;padding: 0.3em;box-sizing: border-box;text-align: center;}#sk-container-id-20 label.sk-toggleable__label-arrow:before {content: \"▸\";float: left;margin-right: 0.25em;color: #696969;}#sk-container-id-20 label.sk-toggleable__label-arrow:hover:before {color: black;}#sk-container-id-20 div.sk-estimator:hover label.sk-toggleable__label-arrow:before {color: black;}#sk-container-id-20 div.sk-toggleable__content {max-height: 0;max-width: 0;overflow: hidden;text-align: left;background-color: #f0f8ff;}#sk-container-id-20 div.sk-toggleable__content pre {margin: 0.2em;color: black;border-radius: 0.25em;background-color: #f0f8ff;}#sk-container-id-20 input.sk-toggleable__control:checked~div.sk-toggleable__content {max-height: 200px;max-width: 100%;overflow: auto;}#sk-container-id-20 input.sk-toggleable__control:checked~label.sk-toggleable__label-arrow:before {content: \"▾\";}#sk-container-id-20 div.sk-estimator input.sk-toggleable__control:checked~label.sk-toggleable__label {background-color: #d4ebff;}#sk-container-id-20 div.sk-label input.sk-toggleable__control:checked~label.sk-toggleable__label {background-color: #d4ebff;}#sk-container-id-20 input.sk-hidden--visually {border: 0;clip: rect(1px 1px 1px 1px);clip: rect(1px, 1px, 1px, 1px);height: 1px;margin: -1px;overflow: hidden;padding: 0;position: absolute;width: 1px;}#sk-container-id-20 div.sk-estimator {font-family: monospace;background-color: #f0f8ff;border: 1px dotted black;border-radius: 0.25em;box-sizing: border-box;margin-bottom: 0.5em;}#sk-container-id-20 div.sk-estimator:hover {background-color: #d4ebff;}#sk-container-id-20 div.sk-parallel-item::after {content: \"\";width: 100%;border-bottom: 1px solid gray;flex-grow: 1;}#sk-container-id-20 div.sk-label:hover label.sk-toggleable__label {background-color: #d4ebff;}#sk-container-id-20 div.sk-serial::before {content: \"\";position: absolute;border-left: 1px solid gray;box-sizing: border-box;top: 0;bottom: 0;left: 50%;z-index: 0;}#sk-container-id-20 div.sk-serial {display: flex;flex-direction: column;align-items: center;background-color: white;padding-right: 0.2em;padding-left: 0.2em;position: relative;}#sk-container-id-20 div.sk-item {position: relative;z-index: 1;}#sk-container-id-20 div.sk-parallel {display: flex;align-items: stretch;justify-content: center;background-color: white;position: relative;}#sk-container-id-20 div.sk-item::before, #sk-container-id-20 div.sk-parallel-item::before {content: \"\";position: absolute;border-left: 1px solid gray;box-sizing: border-box;top: 0;bottom: 0;left: 50%;z-index: -1;}#sk-container-id-20 div.sk-parallel-item {display: flex;flex-direction: column;z-index: 1;position: relative;background-color: white;}#sk-container-id-20 div.sk-parallel-item:first-child::after {align-self: flex-end;width: 50%;}#sk-container-id-20 div.sk-parallel-item:last-child::after {align-self: flex-start;width: 50%;}#sk-container-id-20 div.sk-parallel-item:only-child::after {width: 0;}#sk-container-id-20 div.sk-dashed-wrapped {border: 1px dashed gray;margin: 0 0.4em 0.5em 0.4em;box-sizing: border-box;padding-bottom: 0.4em;background-color: white;}#sk-container-id-20 div.sk-label label {font-family: monospace;font-weight: bold;display: inline-block;line-height: 1.2em;}#sk-container-id-20 div.sk-label-container {text-align: center;}#sk-container-id-20 div.sk-container {/* jupyter's `normalize.less` sets `[hidden] { display: none; }` but bootstrap.min.css set `[hidden] { display: none !important; }` so we also need the `!important` here to be able to override the default hidden behavior on the sphinx rendered scikit-learn.org. See: https://github.com/scikit-learn/scikit-learn/issues/21755 */display: inline-block !important;position: relative;}#sk-container-id-20 div.sk-text-repr-fallback {display: none;}</style><div id=\"sk-container-id-20\" class=\"sk-top-container\"><div class=\"sk-text-repr-fallback\"><pre>Pipeline(steps=[(&#x27;vect&#x27;, CountVectorizer()), (&#x27;tfidf&#x27;, TfidfTransformer()),\n",
              "                (&#x27;clf&#x27;, GradientBoostingClassifier())])</pre><b>In a Jupyter environment, please rerun this cell to show the HTML representation or trust the notebook. <br />On GitHub, the HTML representation is unable to render, please try loading this page with nbviewer.org.</b></div><div class=\"sk-container\" hidden><div class=\"sk-item sk-dashed-wrapped\"><div class=\"sk-label-container\"><div class=\"sk-label sk-toggleable\"><input class=\"sk-toggleable__control sk-hidden--visually\" id=\"sk-estimator-id-77\" type=\"checkbox\" ><label for=\"sk-estimator-id-77\" class=\"sk-toggleable__label sk-toggleable__label-arrow\">Pipeline</label><div class=\"sk-toggleable__content\"><pre>Pipeline(steps=[(&#x27;vect&#x27;, CountVectorizer()), (&#x27;tfidf&#x27;, TfidfTransformer()),\n",
              "                (&#x27;clf&#x27;, GradientBoostingClassifier())])</pre></div></div></div><div class=\"sk-serial\"><div class=\"sk-item\"><div class=\"sk-estimator sk-toggleable\"><input class=\"sk-toggleable__control sk-hidden--visually\" id=\"sk-estimator-id-78\" type=\"checkbox\" ><label for=\"sk-estimator-id-78\" class=\"sk-toggleable__label sk-toggleable__label-arrow\">CountVectorizer</label><div class=\"sk-toggleable__content\"><pre>CountVectorizer()</pre></div></div></div><div class=\"sk-item\"><div class=\"sk-estimator sk-toggleable\"><input class=\"sk-toggleable__control sk-hidden--visually\" id=\"sk-estimator-id-79\" type=\"checkbox\" ><label for=\"sk-estimator-id-79\" class=\"sk-toggleable__label sk-toggleable__label-arrow\">TfidfTransformer</label><div class=\"sk-toggleable__content\"><pre>TfidfTransformer()</pre></div></div></div><div class=\"sk-item\"><div class=\"sk-estimator sk-toggleable\"><input class=\"sk-toggleable__control sk-hidden--visually\" id=\"sk-estimator-id-80\" type=\"checkbox\" ><label for=\"sk-estimator-id-80\" class=\"sk-toggleable__label sk-toggleable__label-arrow\">GradientBoostingClassifier</label><div class=\"sk-toggleable__content\"><pre>GradientBoostingClassifier()</pre></div></div></div></div></div></div></div>"
            ]
          },
          "metadata": {},
          "execution_count": 261
        }
      ],
      "source": [
        "# Algorithm training X_train, X_test, y_train, y_test\n",
        "gd_model = gd_pipeline.fit(X_train.values.astype('U'), y_train.values.astype('U'))\n",
        "gd_model"
      ]
    },
    {
      "cell_type": "code",
      "execution_count": 262,
      "id": "48bc3d8e-c29e-4ea2-8935-bb52c35c44df",
      "metadata": {
        "tags": [],
        "colab": {
          "base_uri": "https://localhost:8080/"
        },
        "id": "48bc3d8e-c29e-4ea2-8935-bb52c35c44df",
        "outputId": "6f07a6a5-ce23-41ae-fdd1-ed8ea3cca7e9"
      },
      "outputs": [
        {
          "output_type": "execute_result",
          "data": {
            "text/plain": [
              "array(['-1', '0', '1', 'complains'], dtype='<U9')"
            ]
          },
          "metadata": {},
          "execution_count": 262
        }
      ],
      "source": [
        "y_pred = gd_model.predict(X_test.values.astype('U'))\n",
        "gd_model.classes_"
      ]
    },
    {
      "cell_type": "code",
      "execution_count": 263,
      "id": "7f9e1ea1-b79a-4bb5-8fa4-e0aeda1650ef",
      "metadata": {
        "tags": [],
        "colab": {
          "base_uri": "https://localhost:8080/"
        },
        "id": "7f9e1ea1-b79a-4bb5-8fa4-e0aeda1650ef",
        "outputId": "4d9c0a3f-ce14-4d12-e354-aa0e06bf0be7"
      },
      "outputs": [
        {
          "output_type": "stream",
          "name": "stdout",
          "text": [
            "[[754 186  12   0]\n",
            " [378 318   2   0]\n",
            " [ 65  36   3   0]\n",
            " [  0   0   0   0]]\n"
          ]
        }
      ],
      "source": [
        "cm = confusion_matrix(y_test, y_pred, labels=gd_model.classes_)\n",
        "print(cm)"
      ]
    },
    {
      "cell_type": "code",
      "execution_count": 264,
      "id": "655ba664-3b1e-4b3c-9e4c-4c2274600797",
      "metadata": {
        "tags": [],
        "colab": {
          "base_uri": "https://localhost:8080/",
          "height": 296
        },
        "id": "655ba664-3b1e-4b3c-9e4c-4c2274600797",
        "outputId": "49fa1422-b256-4e73-f9d1-4fd2b3069174"
      },
      "outputs": [
        {
          "output_type": "execute_result",
          "data": {
            "text/plain": [
              "<sklearn.metrics._plot.confusion_matrix.ConfusionMatrixDisplay at 0x7fb91c9c7f70>"
            ]
          },
          "metadata": {},
          "execution_count": 264
        },
        {
          "output_type": "display_data",
          "data": {
            "text/plain": [
              "<Figure size 432x288 with 2 Axes>"
            ],
            "image/png": "[encoded data removed]"
          },
          "metadata": {
            "needs_background": "light"
          }
        }
      ],
      "source": [
        "cm_dsp=ConfusionMatrixDisplay(confusion_matrix=cm, display_labels=['Negatives', 'Neutral', 'Positive', 'Complains'])\n",
        "cm_dsp.plot()"
      ]
    },
    {
      "cell_type": "code",
      "execution_count": 265,
      "id": "abf2f754-8bfe-49ab-9af4-de6dcc5edb15",
      "metadata": {
        "tags": [],
        "colab": {
          "base_uri": "https://localhost:8080/"
        },
        "id": "abf2f754-8bfe-49ab-9af4-de6dcc5edb15",
        "outputId": "dd4c37db-4b1d-4deb-bf02-56f75920c447"
      },
      "outputs": [
        {
          "output_type": "stream",
          "name": "stdout",
          "text": [
            "Model Score: 0.612884834663626\n",
            "Model Score: 61.29%\n",
            "\n",
            "Accuracy: 0.612884834663626\n",
            "Accuracy: 61.29%\n",
            "\n",
            "F1-score: 0.5882445421651935\n",
            "F1-score: 58.82%\n",
            "\n",
            "CPU times and Wall time: \n",
            "CPU times: user 85.9 ms, sys: 0 ns, total: 85.9 ms\n",
            "Wall time: 88.8 ms\n"
          ]
        }
      ],
      "source": [
        "%%time\n",
        "\n",
        "#predicting \n",
        "y_pred = gd_model.predict(X_test.values.astype('U'))\n",
        "\n",
        "model_score = gd_model.score(X_test.values.astype('U'), y_test.values.astype('U'))\n",
        "print(f'Model Score: {model_score}')\n",
        "print(f'Model Score: {model_score*100:.2f}%')\n",
        "accuracy = accuracy_score(y_test, y_pred)\n",
        "print()\n",
        "print(f\"Accuracy: {accuracy}\")\n",
        "print(f\"Accuracy: {accuracy*100:.2f}%\")\n",
        "print()\n",
        "f1 = f1_score(y_test, y_pred, average='weighted')\n",
        "print(f\"F1-score: {f1}\")\n",
        "print(f\"F1-score: {f1*100:.2f}%\")\n",
        "print()\n",
        "print(\"CPU times and Wall time: \")"
      ]
    },
    {
      "cell_type": "code",
      "execution_count": 266,
      "id": "e64ad1f8-c324-44bc-9d33-0e1832f65fc2",
      "metadata": {
        "colab": {
          "base_uri": "https://localhost:8080/"
        },
        "id": "e64ad1f8-c324-44bc-9d33-0e1832f65fc2",
        "outputId": "8595a81b-ac58-4e01-cc45-6c73e5e242c6"
      },
      "outputs": [
        {
          "output_type": "execute_result",
          "data": {
            "text/plain": [
              "['models/GradientBoostingClassifier_model_score_61.29.pkl']"
            ]
          },
          "metadata": {},
          "execution_count": 266
        }
      ],
      "source": [
        "# Save to file / directory\n",
        "joblib_file = \"models/GradientBoostingClassifier_model_score_\"+ str(round(accuracy*100,2))+\".pkl\"\n",
        "joblib.dump(gd_model, joblib_file)"
      ]
    },
    {
      "cell_type": "markdown",
      "id": "f1279b11-ca8c-49f2-bc3a-5a06ba504561",
      "metadata": {
        "id": "f1279b11-ca8c-49f2-bc3a-5a06ba504561"
      },
      "source": [
        "# 4.7 MULTINOMIALNB"
      ]
    },
    {
      "cell_type": "code",
      "execution_count": 267,
      "id": "468d1350-14b9-4c4d-a658-41aa3d86958a",
      "metadata": {
        "id": "468d1350-14b9-4c4d-a658-41aa3d86958a"
      },
      "outputs": [],
      "source": [
        "# Initialize a vectorization and modelling pipeline\n",
        "mnb_pipeline = Pipeline([\n",
        "     ('vect', CountVectorizer(ngram_range=(1,1))),\n",
        "     ('tfidf', TfidfTransformer()),\n",
        "     ('clf', MultinomialNB()), \n",
        " ])"
      ]
    },
    {
      "cell_type": "code",
      "execution_count": 268,
      "id": "eafbdaca-81c0-49a0-aab9-aeeca501e44c",
      "metadata": {
        "colab": {
          "base_uri": "https://localhost:8080/",
          "height": 161
        },
        "id": "eafbdaca-81c0-49a0-aab9-aeeca501e44c",
        "outputId": "e224c37c-97f8-4e80-8a91-fa2bdce89a05"
      },
      "outputs": [
        {
          "output_type": "execute_result",
          "data": {
            "text/plain": [
              "Pipeline(steps=[('vect', CountVectorizer()), ('tfidf', TfidfTransformer()),\n",
              "                ('clf', MultinomialNB())])"
            ],
            "text/html": [
              "<style>#sk-container-id-21 {color: black;background-color: white;}#sk-container-id-21 pre{padding: 0;}#sk-container-id-21 div.sk-toggleable {background-color: white;}#sk-container-id-21 label.sk-toggleable__label {cursor: pointer;display: block;width: 100%;margin-bottom: 0;padding: 0.3em;box-sizing: border-box;text-align: center;}#sk-container-id-21 label.sk-toggleable__label-arrow:before {content: \"▸\";float: left;margin-right: 0.25em;color: #696969;}#sk-container-id-21 label.sk-toggleable__label-arrow:hover:before {color: black;}#sk-container-id-21 div.sk-estimator:hover label.sk-toggleable__label-arrow:before {color: black;}#sk-container-id-21 div.sk-toggleable__content {max-height: 0;max-width: 0;overflow: hidden;text-align: left;background-color: #f0f8ff;}#sk-container-id-21 div.sk-toggleable__content pre {margin: 0.2em;color: black;border-radius: 0.25em;background-color: #f0f8ff;}#sk-container-id-21 input.sk-toggleable__control:checked~div.sk-toggleable__content {max-height: 200px;max-width: 100%;overflow: auto;}#sk-container-id-21 input.sk-toggleable__control:checked~label.sk-toggleable__label-arrow:before {content: \"▾\";}#sk-container-id-21 div.sk-estimator input.sk-toggleable__control:checked~label.sk-toggleable__label {background-color: #d4ebff;}#sk-container-id-21 div.sk-label input.sk-toggleable__control:checked~label.sk-toggleable__label {background-color: #d4ebff;}#sk-container-id-21 input.sk-hidden--visually {border: 0;clip: rect(1px 1px 1px 1px);clip: rect(1px, 1px, 1px, 1px);height: 1px;margin: -1px;overflow: hidden;padding: 0;position: absolute;width: 1px;}#sk-container-id-21 div.sk-estimator {font-family: monospace;background-color: #f0f8ff;border: 1px dotted black;border-radius: 0.25em;box-sizing: border-box;margin-bottom: 0.5em;}#sk-container-id-21 div.sk-estimator:hover {background-color: #d4ebff;}#sk-container-id-21 div.sk-parallel-item::after {content: \"\";width: 100%;border-bottom: 1px solid gray;flex-grow: 1;}#sk-container-id-21 div.sk-label:hover label.sk-toggleable__label {background-color: #d4ebff;}#sk-container-id-21 div.sk-serial::before {content: \"\";position: absolute;border-left: 1px solid gray;box-sizing: border-box;top: 0;bottom: 0;left: 50%;z-index: 0;}#sk-container-id-21 div.sk-serial {display: flex;flex-direction: column;align-items: center;background-color: white;padding-right: 0.2em;padding-left: 0.2em;position: relative;}#sk-container-id-21 div.sk-item {position: relative;z-index: 1;}#sk-container-id-21 div.sk-parallel {display: flex;align-items: stretch;justify-content: center;background-color: white;position: relative;}#sk-container-id-21 div.sk-item::before, #sk-container-id-21 div.sk-parallel-item::before {content: \"\";position: absolute;border-left: 1px solid gray;box-sizing: border-box;top: 0;bottom: 0;left: 50%;z-index: -1;}#sk-container-id-21 div.sk-parallel-item {display: flex;flex-direction: column;z-index: 1;position: relative;background-color: white;}#sk-container-id-21 div.sk-parallel-item:first-child::after {align-self: flex-end;width: 50%;}#sk-container-id-21 div.sk-parallel-item:last-child::after {align-self: flex-start;width: 50%;}#sk-container-id-21 div.sk-parallel-item:only-child::after {width: 0;}#sk-container-id-21 div.sk-dashed-wrapped {border: 1px dashed gray;margin: 0 0.4em 0.5em 0.4em;box-sizing: border-box;padding-bottom: 0.4em;background-color: white;}#sk-container-id-21 div.sk-label label {font-family: monospace;font-weight: bold;display: inline-block;line-height: 1.2em;}#sk-container-id-21 div.sk-label-container {text-align: center;}#sk-container-id-21 div.sk-container {/* jupyter's `normalize.less` sets `[hidden] { display: none; }` but bootstrap.min.css set `[hidden] { display: none !important; }` so we also need the `!important` here to be able to override the default hidden behavior on the sphinx rendered scikit-learn.org. See: https://github.com/scikit-learn/scikit-learn/issues/21755 */display: inline-block !important;position: relative;}#sk-container-id-21 div.sk-text-repr-fallback {display: none;}</style><div id=\"sk-container-id-21\" class=\"sk-top-container\"><div class=\"sk-text-repr-fallback\"><pre>Pipeline(steps=[(&#x27;vect&#x27;, CountVectorizer()), (&#x27;tfidf&#x27;, TfidfTransformer()),\n",
              "                (&#x27;clf&#x27;, MultinomialNB())])</pre><b>In a Jupyter environment, please rerun this cell to show the HTML representation or trust the notebook. <br />On GitHub, the HTML representation is unable to render, please try loading this page with nbviewer.org.</b></div><div class=\"sk-container\" hidden><div class=\"sk-item sk-dashed-wrapped\"><div class=\"sk-label-container\"><div class=\"sk-label sk-toggleable\"><input class=\"sk-toggleable__control sk-hidden--visually\" id=\"sk-estimator-id-81\" type=\"checkbox\" ><label for=\"sk-estimator-id-81\" class=\"sk-toggleable__label sk-toggleable__label-arrow\">Pipeline</label><div class=\"sk-toggleable__content\"><pre>Pipeline(steps=[(&#x27;vect&#x27;, CountVectorizer()), (&#x27;tfidf&#x27;, TfidfTransformer()),\n",
              "                (&#x27;clf&#x27;, MultinomialNB())])</pre></div></div></div><div class=\"sk-serial\"><div class=\"sk-item\"><div class=\"sk-estimator sk-toggleable\"><input class=\"sk-toggleable__control sk-hidden--visually\" id=\"sk-estimator-id-82\" type=\"checkbox\" ><label for=\"sk-estimator-id-82\" class=\"sk-toggleable__label sk-toggleable__label-arrow\">CountVectorizer</label><div class=\"sk-toggleable__content\"><pre>CountVectorizer()</pre></div></div></div><div class=\"sk-item\"><div class=\"sk-estimator sk-toggleable\"><input class=\"sk-toggleable__control sk-hidden--visually\" id=\"sk-estimator-id-83\" type=\"checkbox\" ><label for=\"sk-estimator-id-83\" class=\"sk-toggleable__label sk-toggleable__label-arrow\">TfidfTransformer</label><div class=\"sk-toggleable__content\"><pre>TfidfTransformer()</pre></div></div></div><div class=\"sk-item\"><div class=\"sk-estimator sk-toggleable\"><input class=\"sk-toggleable__control sk-hidden--visually\" id=\"sk-estimator-id-84\" type=\"checkbox\" ><label for=\"sk-estimator-id-84\" class=\"sk-toggleable__label sk-toggleable__label-arrow\">MultinomialNB</label><div class=\"sk-toggleable__content\"><pre>MultinomialNB()</pre></div></div></div></div></div></div></div>"
            ]
          },
          "metadata": {},
          "execution_count": 268
        }
      ],
      "source": [
        "# Algorithm training X_train, X_test, y_train, y_test\n",
        "mnb_model = mnb_pipeline.fit(X_train.values.astype('U'), y_train.values.astype('U'))\n",
        "mnb_model"
      ]
    },
    {
      "cell_type": "code",
      "execution_count": 269,
      "id": "76d0eb39-cf85-487f-b645-af359d94885a",
      "metadata": {
        "tags": [],
        "colab": {
          "base_uri": "https://localhost:8080/"
        },
        "id": "76d0eb39-cf85-487f-b645-af359d94885a",
        "outputId": "483f29b1-118a-47e2-a01b-02448d8866e9"
      },
      "outputs": [
        {
          "output_type": "execute_result",
          "data": {
            "text/plain": [
              "array(['-1', '0', '1', 'complains'], dtype='<U9')"
            ]
          },
          "metadata": {},
          "execution_count": 269
        }
      ],
      "source": [
        "y_pred = mnb_model.predict(X_test.values.astype('U'))\n",
        "mnb_model.classes_"
      ]
    },
    {
      "cell_type": "code",
      "execution_count": 270,
      "id": "954f54b8-87e9-4562-b211-840aa018a6e5",
      "metadata": {
        "tags": [],
        "colab": {
          "base_uri": "https://localhost:8080/"
        },
        "id": "954f54b8-87e9-4562-b211-840aa018a6e5",
        "outputId": "fba0cbd2-0a8d-4dd8-d384-bc26d56c9e96"
      },
      "outputs": [
        {
          "output_type": "stream",
          "name": "stdout",
          "text": [
            "[[840 112   0   0]\n",
            " [421 277   0   0]\n",
            " [ 79  25   0   0]\n",
            " [  0   0   0   0]]\n"
          ]
        }
      ],
      "source": [
        "cm = confusion_matrix(y_test, y_pred, labels=mnb_model.classes_)\n",
        "print(cm)"
      ]
    },
    {
      "cell_type": "code",
      "execution_count": 271,
      "id": "c3fbd10b-374d-4b18-a80d-97177e004798",
      "metadata": {
        "tags": [],
        "colab": {
          "base_uri": "https://localhost:8080/",
          "height": 296
        },
        "id": "c3fbd10b-374d-4b18-a80d-97177e004798",
        "outputId": "0f0ebe31-a5c2-4341-91ce-5af5b9085a53"
      },
      "outputs": [
        {
          "output_type": "execute_result",
          "data": {
            "text/plain": [
              "<sklearn.metrics._plot.confusion_matrix.ConfusionMatrixDisplay at 0x7fb925e1e7f0>"
            ]
          },
          "metadata": {},
          "execution_count": 271
        },
        {
          "output_type": "display_data",
          "data": {
            "text/plain": [
              "<Figure size 432x288 with 2 Axes>"
            ],
            "image/png": "[encoded data removed]"
          },
          "metadata": {
            "needs_background": "light"
          }
        }
      ],
      "source": [
        "cm_dsp=ConfusionMatrixDisplay(confusion_matrix=cm, display_labels=['Negatives', 'Neutral', 'Positive', 'Complains'])\n",
        "cm_dsp.plot()"
      ]
    },
    {
      "cell_type": "code",
      "execution_count": 272,
      "id": "fed5fe5e-9f36-465e-9c03-e1101142e923",
      "metadata": {
        "tags": [],
        "colab": {
          "base_uri": "https://localhost:8080/"
        },
        "id": "fed5fe5e-9f36-465e-9c03-e1101142e923",
        "outputId": "7f5bc799-3029-4246-94cf-669211584205"
      },
      "outputs": [
        {
          "output_type": "stream",
          "name": "stdout",
          "text": [
            "Model Score: 0.636830102622577\n",
            "Model Score: 63.68%\n",
            "\n",
            "Accuracy: 0.636830102622577\n",
            "Accuracy: 63.68%\n",
            "\n",
            "F1-score: 0.5960921615946212\n",
            "F1-score: 59.61%\n",
            "\n",
            "CPU times and Wall time: \n",
            "CPU times: user 113 ms, sys: 1.85 ms, total: 115 ms\n",
            "Wall time: 146 ms\n"
          ]
        }
      ],
      "source": [
        "%%time\n",
        "\n",
        "#predicting \n",
        "y_pred = mnb_model.predict(X_test.values.astype('U'))\n",
        "\n",
        "model_score = mnb_model.score(X_test.values.astype('U'), y_test.values.astype('U'))\n",
        "print(f'Model Score: {model_score}')\n",
        "print(f'Model Score: {model_score*100:.2f}%')\n",
        "accuracy = accuracy_score(y_test, y_pred)\n",
        "print()\n",
        "print(f\"Accuracy: {accuracy}\")\n",
        "print(f\"Accuracy: {accuracy*100:.2f}%\")\n",
        "print()\n",
        "f1 = f1_score(y_test, y_pred, average='weighted')\n",
        "print(f\"F1-score: {f1}\")\n",
        "print(f\"F1-score: {f1*100:.2f}%\")\n",
        "print()\n",
        "print(\"CPU times and Wall time: \")"
      ]
    },
    {
      "cell_type": "code",
      "execution_count": 273,
      "id": "8de6463d-a132-4e7a-8f76-612a41ba7dda",
      "metadata": {
        "colab": {
          "base_uri": "https://localhost:8080/"
        },
        "id": "8de6463d-a132-4e7a-8f76-612a41ba7dda",
        "outputId": "b25f99a3-10ac-4480-fc4c-b8b492e66742"
      },
      "outputs": [
        {
          "output_type": "execute_result",
          "data": {
            "text/plain": [
              "['models/MultinomialNB_model_score_63.68.pkl']"
            ]
          },
          "metadata": {},
          "execution_count": 273
        }
      ],
      "source": [
        "# Save to file / directory\n",
        "joblib_file = \"models/MultinomialNB_model_score_\"+ str(round(accuracy*100,2))+\".pkl\"\n",
        "joblib.dump(mnb_model, joblib_file)"
      ]
    },
    {
      "cell_type": "markdown",
      "id": "72f4dc47-a243-454c-983f-dd0e1f229e1c",
      "metadata": {
        "id": "72f4dc47-a243-454c-983f-dd0e1f229e1c"
      },
      "source": [
        "# 4.8 XGBoost classifier"
      ]
    },
    {
      "cell_type": "code",
      "execution_count": 158,
      "id": "d49f4721-52ec-4b62-b452-177af8a9f8b1",
      "metadata": {
        "tags": [],
        "id": "d49f4721-52ec-4b62-b452-177af8a9f8b1"
      },
      "outputs": [],
      "source": [
        "xgb_pipeline = Pipeline([\n",
        "     ('vect', CountVectorizer(ngram_range=(1,1))),\n",
        "     ('tfidf', TfidfTransformer()),\n",
        "     ('clf', xgb.XGBClassifier()), \n",
        " ])"
      ]
    },
    {
      "cell_type": "code",
      "execution_count": 274,
      "id": "8cfe238e-dadd-4326-a78c-070ec16d1826",
      "metadata": {
        "tags": [],
        "colab": {
          "base_uri": "https://localhost:8080/",
          "height": 381
        },
        "id": "8cfe238e-dadd-4326-a78c-070ec16d1826",
        "outputId": "ef827666-d546-4346-9fd5-7391b7291409"
      },
      "outputs": [
        {
          "output_type": "error",
          "ename": "AttributeError",
          "evalue": "ignored",
          "traceback": [
            "\u001b[0;31m---------------------------------------------------------------------------\u001b[0m",
            "\u001b[0;31mAttributeError\u001b[0m                            Traceback (most recent call last)",
            "\u001b[0;32m<ipython-input-274-0f9550017535>\u001b[0m in \u001b[0;36m<module>\u001b[0;34m\u001b[0m\n\u001b[1;32m      1\u001b[0m \u001b[0;31m# Algorithm training X_train, X_test, y_train, y_test\u001b[0m\u001b[0;34m\u001b[0m\u001b[0;34m\u001b[0m\u001b[0m\n\u001b[0;32m----> 2\u001b[0;31m \u001b[0mxgb_model\u001b[0m \u001b[0;34m=\u001b[0m \u001b[0mxgb_pipeline\u001b[0m\u001b[0;34m.\u001b[0m\u001b[0mfit\u001b[0m\u001b[0;34m(\u001b[0m\u001b[0mX_train\u001b[0m\u001b[0;34m.\u001b[0m\u001b[0mvalues\u001b[0m\u001b[0;34m.\u001b[0m\u001b[0mastype\u001b[0m\u001b[0;34m(\u001b[0m\u001b[0;34m'U'\u001b[0m\u001b[0;34m)\u001b[0m\u001b[0;34m,\u001b[0m \u001b[0my_train\u001b[0m\u001b[0;34m.\u001b[0m\u001b[0mvalues\u001b[0m\u001b[0;34m.\u001b[0m\u001b[0mastype\u001b[0m\u001b[0;34m(\u001b[0m\u001b[0;34m'U'\u001b[0m\u001b[0;34m)\u001b[0m\u001b[0;34m)\u001b[0m\u001b[0;34m\u001b[0m\u001b[0;34m\u001b[0m\u001b[0m\n\u001b[0m\u001b[1;32m      3\u001b[0m \u001b[0mxgb_model\u001b[0m\u001b[0;34m\u001b[0m\u001b[0;34m\u001b[0m\u001b[0m\n",
            "\u001b[0;32m/usr/local/lib/python3.9/dist-packages/sklearn/pipeline.py\u001b[0m in \u001b[0;36mfit\u001b[0;34m(self, X, y, **fit_params)\u001b[0m\n\u001b[1;32m    403\u001b[0m             \u001b[0;32mif\u001b[0m \u001b[0mself\u001b[0m\u001b[0;34m.\u001b[0m\u001b[0m_final_estimator\u001b[0m \u001b[0;34m!=\u001b[0m \u001b[0;34m\"passthrough\"\u001b[0m\u001b[0;34m:\u001b[0m\u001b[0;34m\u001b[0m\u001b[0;34m\u001b[0m\u001b[0m\n\u001b[1;32m    404\u001b[0m                 \u001b[0mfit_params_last_step\u001b[0m \u001b[0;34m=\u001b[0m \u001b[0mfit_params_steps\u001b[0m\u001b[0;34m[\u001b[0m\u001b[0mself\u001b[0m\u001b[0;34m.\u001b[0m\u001b[0msteps\u001b[0m\u001b[0;34m[\u001b[0m\u001b[0;34m-\u001b[0m\u001b[0;36m1\u001b[0m\u001b[0;34m]\u001b[0m\u001b[0;34m[\u001b[0m\u001b[0;36m0\u001b[0m\u001b[0;34m]\u001b[0m\u001b[0;34m]\u001b[0m\u001b[0;34m\u001b[0m\u001b[0;34m\u001b[0m\u001b[0m\n\u001b[0;32m--> 405\u001b[0;31m                 \u001b[0mself\u001b[0m\u001b[0;34m.\u001b[0m\u001b[0m_final_estimator\u001b[0m\u001b[0;34m.\u001b[0m\u001b[0mfit\u001b[0m\u001b[0;34m(\u001b[0m\u001b[0mXt\u001b[0m\u001b[0;34m,\u001b[0m \u001b[0my\u001b[0m\u001b[0;34m,\u001b[0m \u001b[0;34m**\u001b[0m\u001b[0mfit_params_last_step\u001b[0m\u001b[0;34m)\u001b[0m\u001b[0;34m\u001b[0m\u001b[0;34m\u001b[0m\u001b[0m\n\u001b[0m\u001b[1;32m    406\u001b[0m \u001b[0;34m\u001b[0m\u001b[0m\n\u001b[1;32m    407\u001b[0m         \u001b[0;32mreturn\u001b[0m \u001b[0mself\u001b[0m\u001b[0;34m\u001b[0m\u001b[0;34m\u001b[0m\u001b[0m\n",
            "\u001b[0;32m/usr/local/lib/python3.9/dist-packages/xgboost/core.py\u001b[0m in \u001b[0;36minner_f\u001b[0;34m(*args, **kwargs)\u001b[0m\n\u001b[1;32m    618\u001b[0m             \u001b[0;32mfor\u001b[0m \u001b[0mk\u001b[0m\u001b[0;34m,\u001b[0m \u001b[0marg\u001b[0m \u001b[0;32min\u001b[0m \u001b[0mzip\u001b[0m\u001b[0;34m(\u001b[0m\u001b[0msig\u001b[0m\u001b[0;34m.\u001b[0m\u001b[0mparameters\u001b[0m\u001b[0;34m,\u001b[0m \u001b[0margs\u001b[0m\u001b[0;34m)\u001b[0m\u001b[0;34m:\u001b[0m\u001b[0;34m\u001b[0m\u001b[0;34m\u001b[0m\u001b[0m\n\u001b[1;32m    619\u001b[0m                 \u001b[0mkwargs\u001b[0m\u001b[0;34m[\u001b[0m\u001b[0mk\u001b[0m\u001b[0;34m]\u001b[0m \u001b[0;34m=\u001b[0m \u001b[0marg\u001b[0m\u001b[0;34m\u001b[0m\u001b[0;34m\u001b[0m\u001b[0m\n\u001b[0;32m--> 620\u001b[0;31m             \u001b[0;32mreturn\u001b[0m \u001b[0mfunc\u001b[0m\u001b[0;34m(\u001b[0m\u001b[0;34m**\u001b[0m\u001b[0mkwargs\u001b[0m\u001b[0;34m)\u001b[0m\u001b[0;34m\u001b[0m\u001b[0;34m\u001b[0m\u001b[0m\n\u001b[0m\u001b[1;32m    621\u001b[0m \u001b[0;34m\u001b[0m\u001b[0m\n\u001b[1;32m    622\u001b[0m         \u001b[0;32mreturn\u001b[0m \u001b[0minner_f\u001b[0m\u001b[0;34m\u001b[0m\u001b[0;34m\u001b[0m\u001b[0m\n",
            "\u001b[0;32m/usr/local/lib/python3.9/dist-packages/xgboost/sklearn.py\u001b[0m in \u001b[0;36mfit\u001b[0;34m(self, X, y, sample_weight, base_margin, eval_set, eval_metric, early_stopping_rounds, verbose, xgb_model, sample_weight_eval_set, base_margin_eval_set, feature_weights, callbacks)\u001b[0m\n\u001b[1;32m   1436\u001b[0m             if (\n\u001b[1;32m   1437\u001b[0m                 \u001b[0mself\u001b[0m\u001b[0;34m.\u001b[0m\u001b[0mclasses_\u001b[0m\u001b[0;34m.\u001b[0m\u001b[0mshape\u001b[0m \u001b[0;34m!=\u001b[0m \u001b[0mexpected_classes\u001b[0m\u001b[0;34m.\u001b[0m\u001b[0mshape\u001b[0m\u001b[0;34m\u001b[0m\u001b[0;34m\u001b[0m\u001b[0m\n\u001b[0;32m-> 1438\u001b[0;31m                 \u001b[0;32mor\u001b[0m \u001b[0;32mnot\u001b[0m \u001b[0;34m(\u001b[0m\u001b[0mself\u001b[0m\u001b[0;34m.\u001b[0m\u001b[0mclasses_\u001b[0m \u001b[0;34m==\u001b[0m \u001b[0mexpected_classes\u001b[0m\u001b[0;34m)\u001b[0m\u001b[0;34m.\u001b[0m\u001b[0mall\u001b[0m\u001b[0;34m(\u001b[0m\u001b[0;34m)\u001b[0m\u001b[0;34m\u001b[0m\u001b[0;34m\u001b[0m\u001b[0m\n\u001b[0m\u001b[1;32m   1439\u001b[0m             ):\n\u001b[1;32m   1440\u001b[0m                 raise ValueError(\n",
            "\u001b[0;31mAttributeError\u001b[0m: 'bool' object has no attribute 'all'"
          ]
        }
      ],
      "source": [
        "# Algorithm training X_train, X_test, y_train, y_test\n",
        "xgb_model = xgb_pipeline.fit(X_train.values.astype('U'), y_train.values.astype('U'))\n",
        "xgb_model"
      ]
    },
    {
      "cell_type": "code",
      "execution_count": 275,
      "id": "7bc716fb-4208-4caf-9b1f-a8244e332977",
      "metadata": {
        "tags": [],
        "colab": {
          "base_uri": "https://localhost:8080/",
          "height": 184
        },
        "id": "7bc716fb-4208-4caf-9b1f-a8244e332977",
        "outputId": "80bf27fe-349f-400f-e751-9bb1b1dfae4f"
      },
      "outputs": [
        {
          "output_type": "error",
          "ename": "NameError",
          "evalue": "ignored",
          "traceback": [
            "\u001b[0;31m---------------------------------------------------------------------------\u001b[0m",
            "\u001b[0;31mNameError\u001b[0m                                 Traceback (most recent call last)",
            "\u001b[0;32m<ipython-input-275-db5a2ae5775c>\u001b[0m in \u001b[0;36m<module>\u001b[0;34m\u001b[0m\n\u001b[0;32m----> 1\u001b[0;31m \u001b[0my_pred\u001b[0m \u001b[0;34m=\u001b[0m \u001b[0mxgb_model\u001b[0m\u001b[0;34m.\u001b[0m\u001b[0mpredict\u001b[0m\u001b[0;34m(\u001b[0m\u001b[0mX_test\u001b[0m\u001b[0;34m.\u001b[0m\u001b[0mvalues\u001b[0m\u001b[0;34m.\u001b[0m\u001b[0mastype\u001b[0m\u001b[0;34m(\u001b[0m\u001b[0;34m'U'\u001b[0m\u001b[0;34m)\u001b[0m\u001b[0;34m)\u001b[0m\u001b[0;34m\u001b[0m\u001b[0;34m\u001b[0m\u001b[0m\n\u001b[0m\u001b[1;32m      2\u001b[0m \u001b[0mxgb_model\u001b[0m\u001b[0;34m.\u001b[0m\u001b[0mclasses_\u001b[0m\u001b[0;34m\u001b[0m\u001b[0;34m\u001b[0m\u001b[0m\n",
            "\u001b[0;31mNameError\u001b[0m: name 'xgb_model' is not defined"
          ]
        }
      ],
      "source": [
        "y_pred = xgb_model.predict(X_test.values.astype('U'))\n",
        "xgb_model.classes_"
      ]
    },
    {
      "cell_type": "code",
      "execution_count": 276,
      "id": "1bdae267-5846-4a26-807b-278f6de0afe0",
      "metadata": {
        "tags": [],
        "colab": {
          "base_uri": "https://localhost:8080/",
          "height": 184
        },
        "id": "1bdae267-5846-4a26-807b-278f6de0afe0",
        "outputId": "b0520f49-280d-4b32-8a00-c3cd3c78ad19"
      },
      "outputs": [
        {
          "output_type": "error",
          "ename": "NameError",
          "evalue": "ignored",
          "traceback": [
            "\u001b[0;31m---------------------------------------------------------------------------\u001b[0m",
            "\u001b[0;31mNameError\u001b[0m                                 Traceback (most recent call last)",
            "\u001b[0;32m<ipython-input-276-51f37bb24d4f>\u001b[0m in \u001b[0;36m<module>\u001b[0;34m\u001b[0m\n\u001b[0;32m----> 1\u001b[0;31m \u001b[0mcm\u001b[0m \u001b[0;34m=\u001b[0m \u001b[0mconfusion_matrix\u001b[0m\u001b[0;34m(\u001b[0m\u001b[0my_test\u001b[0m\u001b[0;34m,\u001b[0m \u001b[0my_pred\u001b[0m\u001b[0;34m,\u001b[0m \u001b[0mlabels\u001b[0m\u001b[0;34m=\u001b[0m\u001b[0mxgb_model\u001b[0m\u001b[0;34m.\u001b[0m\u001b[0mclasses_\u001b[0m\u001b[0;34m)\u001b[0m\u001b[0;34m\u001b[0m\u001b[0;34m\u001b[0m\u001b[0m\n\u001b[0m\u001b[1;32m      2\u001b[0m \u001b[0mprint\u001b[0m\u001b[0;34m(\u001b[0m\u001b[0mcm\u001b[0m\u001b[0;34m)\u001b[0m\u001b[0;34m\u001b[0m\u001b[0;34m\u001b[0m\u001b[0m\n",
            "\u001b[0;31mNameError\u001b[0m: name 'xgb_model' is not defined"
          ]
        }
      ],
      "source": [
        "cm = confusion_matrix(y_test, y_pred, labels=xgb_model.classes_)\n",
        "print(cm)"
      ]
    },
    {
      "cell_type": "code",
      "execution_count": 277,
      "id": "3de4d607-f25d-4916-ba82-385063231354",
      "metadata": {
        "tags": [],
        "colab": {
          "base_uri": "https://localhost:8080/",
          "height": 296
        },
        "id": "3de4d607-f25d-4916-ba82-385063231354",
        "outputId": "b8cbd1b5-b0b6-4b15-bf39-7a15c8975a72"
      },
      "outputs": [
        {
          "output_type": "execute_result",
          "data": {
            "text/plain": [
              "<sklearn.metrics._plot.confusion_matrix.ConfusionMatrixDisplay at 0x7fb925a723d0>"
            ]
          },
          "metadata": {},
          "execution_count": 277
        },
        {
          "output_type": "display_data",
          "data": {
            "text/plain": [
              "<Figure size 432x288 with 2 Axes>"
            ],
            "image/png": "[encoded data removed]"
          },
          "metadata": {
            "needs_background": "light"
          }
        }
      ],
      "source": [
        "cm_dsp=ConfusionMatrixDisplay(confusion_matrix=cm, display_labels=['Negatives', 'Neutral', 'Positive', 'Complains'])\n",
        "cm_dsp.plot()"
      ]
    },
    {
      "cell_type": "code",
      "execution_count": 278,
      "id": "5d0612eb-7f71-4edd-898f-9ad7cb7a804a",
      "metadata": {
        "tags": [],
        "colab": {
          "base_uri": "https://localhost:8080/",
          "height": 149
        },
        "id": "5d0612eb-7f71-4edd-898f-9ad7cb7a804a",
        "outputId": "18197c40-5812-4402-9ca5-baa0a8fe9f64"
      },
      "outputs": [
        {
          "output_type": "error",
          "ename": "NameError",
          "evalue": "ignored",
          "traceback": [
            "\u001b[0;31m---------------------------------------------------------------------------\u001b[0m",
            "\u001b[0;31mNameError\u001b[0m                                 Traceback (most recent call last)",
            "\u001b[0;32m<timed exec>\u001b[0m in \u001b[0;36m<module>\u001b[0;34m\u001b[0m\n",
            "\u001b[0;31mNameError\u001b[0m: name 'xgb_model' is not defined"
          ]
        }
      ],
      "source": [
        "%%time\n",
        "\n",
        "#predicting \n",
        "y_pred = xgb_model.predict(X_test.values.astype('U'))\n",
        "\n",
        "model_score = xgb_model.score(X_test.values.astype('U'), y_test.values.astype('U'))\n",
        "print(f'Model Score: {model_score}')\n",
        "print(f'Model Score: {model_score*100:.2f}%')\n",
        "accuracy = accuracy_score(y_test, y_pred)\n",
        "print()\n",
        "print(f\"Accuracy: {accuracy}\")\n",
        "print(f\"Accuracy: {accuracy*100:.2f}%\")\n",
        "print()\n",
        "f1 = f1_score(y_test, y_pred, average='weighted')\n",
        "print(f\"F1-score: {f1}\")\n",
        "print(f\"F1-score: {f1*100:.2f}%\")\n",
        "print()\n",
        "print(\"CPU times and Wall time: \")"
      ]
    },
    {
      "cell_type": "code",
      "execution_count": 279,
      "id": "248d3d1e-bdc7-4431-8a40-262f037c8a5b",
      "metadata": {
        "tags": [],
        "colab": {
          "base_uri": "https://localhost:8080/",
          "height": 201
        },
        "id": "248d3d1e-bdc7-4431-8a40-262f037c8a5b",
        "outputId": "ededec77-2d91-47b8-b081-8d228666249f"
      },
      "outputs": [
        {
          "output_type": "error",
          "ename": "NameError",
          "evalue": "ignored",
          "traceback": [
            "\u001b[0;31m---------------------------------------------------------------------------\u001b[0m",
            "\u001b[0;31mNameError\u001b[0m                                 Traceback (most recent call last)",
            "\u001b[0;32m<ipython-input-279-6022a0d70103>\u001b[0m in \u001b[0;36m<module>\u001b[0;34m\u001b[0m\n\u001b[1;32m      1\u001b[0m \u001b[0;31m# Save to file / directory\u001b[0m\u001b[0;34m\u001b[0m\u001b[0;34m\u001b[0m\u001b[0m\n\u001b[1;32m      2\u001b[0m \u001b[0mjoblib_file\u001b[0m \u001b[0;34m=\u001b[0m \u001b[0;34m\"models/XGBClassifier_model_score_\"\u001b[0m\u001b[0;34m+\u001b[0m \u001b[0mstr\u001b[0m\u001b[0;34m(\u001b[0m\u001b[0mround\u001b[0m\u001b[0;34m(\u001b[0m\u001b[0maccuracy\u001b[0m\u001b[0;34m*\u001b[0m\u001b[0;36m100\u001b[0m\u001b[0;34m,\u001b[0m\u001b[0;36m2\u001b[0m\u001b[0;34m)\u001b[0m\u001b[0;34m)\u001b[0m\u001b[0;34m+\u001b[0m\u001b[0;34m\".pkl\"\u001b[0m\u001b[0;34m\u001b[0m\u001b[0;34m\u001b[0m\u001b[0m\n\u001b[0;32m----> 3\u001b[0;31m \u001b[0mjoblib\u001b[0m\u001b[0;34m.\u001b[0m\u001b[0mdump\u001b[0m\u001b[0;34m(\u001b[0m\u001b[0mxgb_model\u001b[0m\u001b[0;34m,\u001b[0m \u001b[0mjoblib_file\u001b[0m\u001b[0;34m)\u001b[0m\u001b[0;34m\u001b[0m\u001b[0;34m\u001b[0m\u001b[0m\n\u001b[0m",
            "\u001b[0;31mNameError\u001b[0m: name 'xgb_model' is not defined"
          ]
        }
      ],
      "source": [
        "# Save to file / directory\n",
        "joblib_file = \"models/XGBClassifier_model_score_\"+ str(round(accuracy*100,2))+\".pkl\"\n",
        "joblib.dump(xgb_model, joblib_file)"
      ]
    },
    {
      "cell_type": "markdown",
      "id": "d49d1454-1ec4-4993-b713-33d64a26b030",
      "metadata": {
        "id": "d49d1454-1ec4-4993-b713-33d64a26b030"
      },
      "source": [
        "# 4.9 LightGBM classifier"
      ]
    },
    {
      "cell_type": "code",
      "execution_count": 280,
      "id": "ac989ca7-f347-4ecc-85be-dd60fe859eb8",
      "metadata": {
        "tags": [],
        "id": "ac989ca7-f347-4ecc-85be-dd60fe859eb8"
      },
      "outputs": [],
      "source": [
        "lgbm_pipeline = Pipeline([\n",
        "     ('vect', CountVectorizer(ngram_range=(1,1))),\n",
        "     ('tfidf', TfidfTransformer()),\n",
        "     ('clf', ltb.LGBMClassifier()), \n",
        " ])"
      ]
    },
    {
      "cell_type": "code",
      "execution_count": 281,
      "id": "dd8fe1a4-98d3-4b99-a49c-dcd7aa192428",
      "metadata": {
        "tags": [],
        "colab": {
          "base_uri": "https://localhost:8080/",
          "height": 161
        },
        "id": "dd8fe1a4-98d3-4b99-a49c-dcd7aa192428",
        "outputId": "a410b559-6cd6-4cb8-dbb7-f48f15d84d70"
      },
      "outputs": [
        {
          "output_type": "execute_result",
          "data": {
            "text/plain": [
              "Pipeline(steps=[('vect', CountVectorizer()), ('tfidf', TfidfTransformer()),\n",
              "                ('clf', LGBMClassifier())])"
            ],
            "text/html": [
              "<style>#sk-container-id-22 {color: black;background-color: white;}#sk-container-id-22 pre{padding: 0;}#sk-container-id-22 div.sk-toggleable {background-color: white;}#sk-container-id-22 label.sk-toggleable__label {cursor: pointer;display: block;width: 100%;margin-bottom: 0;padding: 0.3em;box-sizing: border-box;text-align: center;}#sk-container-id-22 label.sk-toggleable__label-arrow:before {content: \"▸\";float: left;margin-right: 0.25em;color: #696969;}#sk-container-id-22 label.sk-toggleable__label-arrow:hover:before {color: black;}#sk-container-id-22 div.sk-estimator:hover label.sk-toggleable__label-arrow:before {color: black;}#sk-container-id-22 div.sk-toggleable__content {max-height: 0;max-width: 0;overflow: hidden;text-align: left;background-color: #f0f8ff;}#sk-container-id-22 div.sk-toggleable__content pre {margin: 0.2em;color: black;border-radius: 0.25em;background-color: #f0f8ff;}#sk-container-id-22 input.sk-toggleable__control:checked~div.sk-toggleable__content {max-height: 200px;max-width: 100%;overflow: auto;}#sk-container-id-22 input.sk-toggleable__control:checked~label.sk-toggleable__label-arrow:before {content: \"▾\";}#sk-container-id-22 div.sk-estimator input.sk-toggleable__control:checked~label.sk-toggleable__label {background-color: #d4ebff;}#sk-container-id-22 div.sk-label input.sk-toggleable__control:checked~label.sk-toggleable__label {background-color: #d4ebff;}#sk-container-id-22 input.sk-hidden--visually {border: 0;clip: rect(1px 1px 1px 1px);clip: rect(1px, 1px, 1px, 1px);height: 1px;margin: -1px;overflow: hidden;padding: 0;position: absolute;width: 1px;}#sk-container-id-22 div.sk-estimator {font-family: monospace;background-color: #f0f8ff;border: 1px dotted black;border-radius: 0.25em;box-sizing: border-box;margin-bottom: 0.5em;}#sk-container-id-22 div.sk-estimator:hover {background-color: #d4ebff;}#sk-container-id-22 div.sk-parallel-item::after {content: \"\";width: 100%;border-bottom: 1px solid gray;flex-grow: 1;}#sk-container-id-22 div.sk-label:hover label.sk-toggleable__label {background-color: #d4ebff;}#sk-container-id-22 div.sk-serial::before {content: \"\";position: absolute;border-left: 1px solid gray;box-sizing: border-box;top: 0;bottom: 0;left: 50%;z-index: 0;}#sk-container-id-22 div.sk-serial {display: flex;flex-direction: column;align-items: center;background-color: white;padding-right: 0.2em;padding-left: 0.2em;position: relative;}#sk-container-id-22 div.sk-item {position: relative;z-index: 1;}#sk-container-id-22 div.sk-parallel {display: flex;align-items: stretch;justify-content: center;background-color: white;position: relative;}#sk-container-id-22 div.sk-item::before, #sk-container-id-22 div.sk-parallel-item::before {content: \"\";position: absolute;border-left: 1px solid gray;box-sizing: border-box;top: 0;bottom: 0;left: 50%;z-index: -1;}#sk-container-id-22 div.sk-parallel-item {display: flex;flex-direction: column;z-index: 1;position: relative;background-color: white;}#sk-container-id-22 div.sk-parallel-item:first-child::after {align-self: flex-end;width: 50%;}#sk-container-id-22 div.sk-parallel-item:last-child::after {align-self: flex-start;width: 50%;}#sk-container-id-22 div.sk-parallel-item:only-child::after {width: 0;}#sk-container-id-22 div.sk-dashed-wrapped {border: 1px dashed gray;margin: 0 0.4em 0.5em 0.4em;box-sizing: border-box;padding-bottom: 0.4em;background-color: white;}#sk-container-id-22 div.sk-label label {font-family: monospace;font-weight: bold;display: inline-block;line-height: 1.2em;}#sk-container-id-22 div.sk-label-container {text-align: center;}#sk-container-id-22 div.sk-container {/* jupyter's `normalize.less` sets `[hidden] { display: none; }` but bootstrap.min.css set `[hidden] { display: none !important; }` so we also need the `!important` here to be able to override the default hidden behavior on the sphinx rendered scikit-learn.org. See: https://github.com/scikit-learn/scikit-learn/issues/21755 */display: inline-block !important;position: relative;}#sk-container-id-22 div.sk-text-repr-fallback {display: none;}</style><div id=\"sk-container-id-22\" class=\"sk-top-container\"><div class=\"sk-text-repr-fallback\"><pre>Pipeline(steps=[(&#x27;vect&#x27;, CountVectorizer()), (&#x27;tfidf&#x27;, TfidfTransformer()),\n",
              "                (&#x27;clf&#x27;, LGBMClassifier())])</pre><b>In a Jupyter environment, please rerun this cell to show the HTML representation or trust the notebook. <br />On GitHub, the HTML representation is unable to render, please try loading this page with nbviewer.org.</b></div><div class=\"sk-container\" hidden><div class=\"sk-item sk-dashed-wrapped\"><div class=\"sk-label-container\"><div class=\"sk-label sk-toggleable\"><input class=\"sk-toggleable__control sk-hidden--visually\" id=\"sk-estimator-id-85\" type=\"checkbox\" ><label for=\"sk-estimator-id-85\" class=\"sk-toggleable__label sk-toggleable__label-arrow\">Pipeline</label><div class=\"sk-toggleable__content\"><pre>Pipeline(steps=[(&#x27;vect&#x27;, CountVectorizer()), (&#x27;tfidf&#x27;, TfidfTransformer()),\n",
              "                (&#x27;clf&#x27;, LGBMClassifier())])</pre></div></div></div><div class=\"sk-serial\"><div class=\"sk-item\"><div class=\"sk-estimator sk-toggleable\"><input class=\"sk-toggleable__control sk-hidden--visually\" id=\"sk-estimator-id-86\" type=\"checkbox\" ><label for=\"sk-estimator-id-86\" class=\"sk-toggleable__label sk-toggleable__label-arrow\">CountVectorizer</label><div class=\"sk-toggleable__content\"><pre>CountVectorizer()</pre></div></div></div><div class=\"sk-item\"><div class=\"sk-estimator sk-toggleable\"><input class=\"sk-toggleable__control sk-hidden--visually\" id=\"sk-estimator-id-87\" type=\"checkbox\" ><label for=\"sk-estimator-id-87\" class=\"sk-toggleable__label sk-toggleable__label-arrow\">TfidfTransformer</label><div class=\"sk-toggleable__content\"><pre>TfidfTransformer()</pre></div></div></div><div class=\"sk-item\"><div class=\"sk-estimator sk-toggleable\"><input class=\"sk-toggleable__control sk-hidden--visually\" id=\"sk-estimator-id-88\" type=\"checkbox\" ><label for=\"sk-estimator-id-88\" class=\"sk-toggleable__label sk-toggleable__label-arrow\">LGBMClassifier</label><div class=\"sk-toggleable__content\"><pre>LGBMClassifier()</pre></div></div></div></div></div></div></div>"
            ]
          },
          "metadata": {},
          "execution_count": 281
        }
      ],
      "source": [
        "# Algorithm training X_train, X_test, y_train, y_test\n",
        "lgbm_model = lgbm_pipeline.fit(X_train.values.astype('U'), y_train.values.astype('U'))\n",
        "lgbm_model"
      ]
    },
    {
      "cell_type": "code",
      "execution_count": 282,
      "id": "6592d454-0ee5-4ee0-85bf-7d5d78c61d4f",
      "metadata": {
        "tags": [],
        "colab": {
          "base_uri": "https://localhost:8080/"
        },
        "id": "6592d454-0ee5-4ee0-85bf-7d5d78c61d4f",
        "outputId": "c9d846ec-de6a-4988-b54a-8226f1d67b2b"
      },
      "outputs": [
        {
          "output_type": "execute_result",
          "data": {
            "text/plain": [
              "array(['-1', '0', '1', 'complains'], dtype='<U9')"
            ]
          },
          "metadata": {},
          "execution_count": 282
        }
      ],
      "source": [
        "y_pred = lgbm_model.predict(X_test.values.astype('U'))\n",
        "lgbm_model.classes_"
      ]
    },
    {
      "cell_type": "code",
      "execution_count": 283,
      "id": "66982c9d-fc73-45a2-8397-f9f64445b3b3",
      "metadata": {
        "tags": [],
        "colab": {
          "base_uri": "https://localhost:8080/"
        },
        "id": "66982c9d-fc73-45a2-8397-f9f64445b3b3",
        "outputId": "c4c177c6-fa8a-4e80-ec64-33496f0eff99"
      },
      "outputs": [
        {
          "output_type": "stream",
          "name": "stdout",
          "text": [
            "[[688 262   2   0]\n",
            " [288 405   5   0]\n",
            " [ 54  44   6   0]\n",
            " [  0   0   0   0]]\n"
          ]
        }
      ],
      "source": [
        "cm = confusion_matrix(y_test, y_pred, labels=lgbm_model.classes_)\n",
        "print(cm)"
      ]
    },
    {
      "cell_type": "code",
      "execution_count": 284,
      "id": "43113ca4-4520-4681-8b2a-a6b1cef6d740",
      "metadata": {
        "tags": [],
        "colab": {
          "base_uri": "https://localhost:8080/",
          "height": 296
        },
        "id": "43113ca4-4520-4681-8b2a-a6b1cef6d740",
        "outputId": "ef2d2ca0-bedd-47dd-fecc-874e750d9658"
      },
      "outputs": [
        {
          "output_type": "execute_result",
          "data": {
            "text/plain": [
              "<sklearn.metrics._plot.confusion_matrix.ConfusionMatrixDisplay at 0x7fb925e1efa0>"
            ]
          },
          "metadata": {},
          "execution_count": 284
        },
        {
          "output_type": "display_data",
          "data": {
            "text/plain": [
              "<Figure size 432x288 with 2 Axes>"
            ],
            "image/png": "[encoded data removed]"
          },
          "metadata": {
            "needs_background": "light"
          }
        }
      ],
      "source": [
        "cm_dsp=ConfusionMatrixDisplay(confusion_matrix=cm, display_labels=['Negatives', 'Neutral', 'Positive', 'Complains'])\n",
        "cm_dsp.plot()"
      ]
    },
    {
      "cell_type": "code",
      "execution_count": 285,
      "id": "9b3de1a3-1715-48cc-8c6c-b78c78e7ba6e",
      "metadata": {
        "tags": [],
        "colab": {
          "base_uri": "https://localhost:8080/"
        },
        "id": "9b3de1a3-1715-48cc-8c6c-b78c78e7ba6e",
        "outputId": "356aae58-f818-4785-bef0-6897db71153f"
      },
      "outputs": [
        {
          "output_type": "stream",
          "name": "stdout",
          "text": [
            "Model Score: 0.6265678449258837\n",
            "Model Score: 62.66%\n",
            "\n",
            "Accuracy: 0.6265678449258837\n",
            "Accuracy: 62.66%\n",
            "\n",
            "F1-score: 0.6116615124553274\n",
            "F1-score: 61.17%\n",
            "\n",
            "CPU times and Wall time: \n",
            "CPU times: user 264 ms, sys: 3.82 ms, total: 268 ms\n",
            "Wall time: 180 ms\n"
          ]
        }
      ],
      "source": [
        "%%time\n",
        "\n",
        "#predicting \n",
        "y_pred = lgbm_model.predict(X_test.values.astype('U'))\n",
        "\n",
        "model_score = lgbm_model.score(X_test.values.astype('U'), y_test.values.astype('U'))\n",
        "print(f'Model Score: {model_score}')\n",
        "print(f'Model Score: {model_score*100:.2f}%')\n",
        "accuracy = accuracy_score(y_test, y_pred)\n",
        "print()\n",
        "print(f\"Accuracy: {accuracy}\")\n",
        "print(f\"Accuracy: {accuracy*100:.2f}%\")\n",
        "print()\n",
        "f1 = f1_score(y_test, y_pred, average='weighted')\n",
        "print(f\"F1-score: {f1}\")\n",
        "print(f\"F1-score: {f1*100:.2f}%\")\n",
        "print()\n",
        "print(\"CPU times and Wall time: \")"
      ]
    },
    {
      "cell_type": "code",
      "execution_count": 286,
      "id": "1c2fc598-371b-4b08-b52b-aeb765c9ab15",
      "metadata": {
        "tags": [],
        "colab": {
          "base_uri": "https://localhost:8080/"
        },
        "id": "1c2fc598-371b-4b08-b52b-aeb765c9ab15",
        "outputId": "282c3bb9-6bd1-4db8-8ef8-cd4051877cbf"
      },
      "outputs": [
        {
          "output_type": "execute_result",
          "data": {
            "text/plain": [
              "['models/LGBMClassifier_model_score_62.66.pkl']"
            ]
          },
          "metadata": {},
          "execution_count": 286
        }
      ],
      "source": [
        "# Save to file / directory\n",
        "joblib_file = \"models/LGBMClassifier_model_score_\"+ str(round(accuracy*100,2))+\".pkl\"\n",
        "joblib.dump(lgbm_model, joblib_file)"
      ]
    },
    {
      "cell_type": "markdown",
      "id": "cd4039e1-4ee3-43c1-a989-44d1c7aea5ff",
      "metadata": {
        "id": "cd4039e1-4ee3-43c1-a989-44d1c7aea5ff"
      },
      "source": [
        "# 4.10 CatBoost classifier"
      ]
    },
    {
      "cell_type": "code",
      "execution_count": 287,
      "id": "2f210c39-ccbb-4abc-83b9-29ce97acca6f",
      "metadata": {
        "tags": [],
        "id": "2f210c39-ccbb-4abc-83b9-29ce97acca6f"
      },
      "outputs": [],
      "source": [
        "ctb_pipeline = Pipeline([\n",
        "     ('vect', CountVectorizer(ngram_range=(1,1))),\n",
        "     ('tfidf', TfidfTransformer()),\n",
        "     ('clf', ctb.CatBoostClassifier()), \n",
        " ])"
      ]
    },
    {
      "cell_type": "code",
      "execution_count": 288,
      "id": "b7afda62-ad92-4738-b1e9-8936b18b05a5",
      "metadata": {
        "tags": [],
        "colab": {
          "base_uri": "https://localhost:8080/",
          "height": 1000
        },
        "id": "b7afda62-ad92-4738-b1e9-8936b18b05a5",
        "outputId": "75566a5b-f78c-4f53-a195-4c24a9decf29"
      },
      "outputs": [
        {
          "output_type": "stream",
          "name": "stdout",
          "text": [
            "Learning rate set to 0.087391\n",
            "0:\tlearn: 1.3202930\ttotal: 227ms\tremaining: 3m 47s\n",
            "1:\tlearn: 1.2635430\ttotal: 422ms\tremaining: 3m 30s\n",
            "2:\tlearn: 1.2169659\ttotal: 607ms\tremaining: 3m 21s\n",
            "3:\tlearn: 1.1756006\ttotal: 798ms\tremaining: 3m 18s\n",
            "4:\tlearn: 1.1411126\ttotal: 985ms\tremaining: 3m 16s\n",
            "5:\tlearn: 1.1101760\ttotal: 1.18s\tremaining: 3m 15s\n",
            "6:\tlearn: 1.0826509\ttotal: 1.39s\tremaining: 3m 17s\n",
            "7:\tlearn: 1.0592793\ttotal: 1.58s\tremaining: 3m 15s\n",
            "8:\tlearn: 1.0383895\ttotal: 1.79s\tremaining: 3m 17s\n",
            "9:\tlearn: 1.0198276\ttotal: 2.05s\tremaining: 3m 22s\n",
            "10:\tlearn: 1.0032939\ttotal: 2.31s\tremaining: 3m 27s\n",
            "11:\tlearn: 0.9879555\ttotal: 2.66s\tremaining: 3m 39s\n",
            "12:\tlearn: 0.9750720\ttotal: 3.01s\tremaining: 3m 48s\n",
            "13:\tlearn: 0.9636331\ttotal: 3.35s\tremaining: 3m 55s\n",
            "14:\tlearn: 0.9525410\ttotal: 3.69s\tremaining: 4m 2s\n",
            "15:\tlearn: 0.9426020\ttotal: 4.09s\tremaining: 4m 11s\n",
            "16:\tlearn: 0.9336400\ttotal: 4.46s\tremaining: 4m 17s\n",
            "17:\tlearn: 0.9251504\ttotal: 4.99s\tremaining: 4m 32s\n",
            "18:\tlearn: 0.9177164\ttotal: 5.33s\tremaining: 4m 35s\n",
            "19:\tlearn: 0.9107650\ttotal: 5.63s\tremaining: 4m 35s\n",
            "20:\tlearn: 0.9047527\ttotal: 5.92s\tremaining: 4m 36s\n",
            "21:\tlearn: 0.8984149\ttotal: 6.18s\tremaining: 4m 34s\n",
            "22:\tlearn: 0.8930714\ttotal: 6.56s\tremaining: 4m 38s\n",
            "23:\tlearn: 0.8881376\ttotal: 6.86s\tremaining: 4m 38s\n",
            "24:\tlearn: 0.8837433\ttotal: 7.14s\tremaining: 4m 38s\n",
            "25:\tlearn: 0.8792251\ttotal: 7.43s\tremaining: 4m 38s\n",
            "26:\tlearn: 0.8757998\ttotal: 7.79s\tremaining: 4m 40s\n",
            "27:\tlearn: 0.8723068\ttotal: 8.13s\tremaining: 4m 42s\n",
            "28:\tlearn: 0.8692246\ttotal: 8.46s\tremaining: 4m 43s\n",
            "29:\tlearn: 0.8665352\ttotal: 8.8s\tremaining: 4m 44s\n",
            "30:\tlearn: 0.8631980\ttotal: 9.1s\tremaining: 4m 44s\n",
            "31:\tlearn: 0.8606004\ttotal: 9.42s\tremaining: 4m 44s\n",
            "32:\tlearn: 0.8582791\ttotal: 9.66s\tremaining: 4m 43s\n",
            "33:\tlearn: 0.8564040\ttotal: 9.98s\tremaining: 4m 43s\n",
            "34:\tlearn: 0.8542802\ttotal: 10.3s\tremaining: 4m 44s\n",
            "35:\tlearn: 0.8520087\ttotal: 10.7s\tremaining: 4m 46s\n",
            "36:\tlearn: 0.8495720\ttotal: 11.1s\tremaining: 4m 47s\n",
            "37:\tlearn: 0.8479363\ttotal: 11.4s\tremaining: 4m 48s\n",
            "38:\tlearn: 0.8461748\ttotal: 11.8s\tremaining: 4m 49s\n",
            "39:\tlearn: 0.8446017\ttotal: 12.1s\tremaining: 4m 49s\n",
            "40:\tlearn: 0.8430866\ttotal: 12.4s\tremaining: 4m 50s\n",
            "41:\tlearn: 0.8412005\ttotal: 12.8s\tremaining: 4m 51s\n",
            "42:\tlearn: 0.8398824\ttotal: 13.1s\tremaining: 4m 51s\n",
            "43:\tlearn: 0.8383159\ttotal: 13.5s\tremaining: 4m 53s\n",
            "44:\tlearn: 0.8374042\ttotal: 13.8s\tremaining: 4m 53s\n",
            "45:\tlearn: 0.8362565\ttotal: 14.2s\tremaining: 4m 54s\n",
            "46:\tlearn: 0.8352468\ttotal: 14.5s\tremaining: 4m 54s\n",
            "47:\tlearn: 0.8343354\ttotal: 14.9s\tremaining: 4m 55s\n",
            "48:\tlearn: 0.8333521\ttotal: 15.2s\tremaining: 4m 55s\n",
            "49:\tlearn: 0.8322251\ttotal: 15.6s\tremaining: 4m 55s\n",
            "50:\tlearn: 0.8311622\ttotal: 15.9s\tremaining: 4m 55s\n",
            "51:\tlearn: 0.8305480\ttotal: 16.1s\tremaining: 4m 52s\n",
            "52:\tlearn: 0.8297799\ttotal: 16.3s\tremaining: 4m 51s\n",
            "53:\tlearn: 0.8291119\ttotal: 16.5s\tremaining: 4m 48s\n",
            "54:\tlearn: 0.8283237\ttotal: 16.7s\tremaining: 4m 47s\n",
            "55:\tlearn: 0.8274333\ttotal: 17s\tremaining: 4m 45s\n",
            "56:\tlearn: 0.8267713\ttotal: 17.2s\tremaining: 4m 45s\n",
            "57:\tlearn: 0.8258893\ttotal: 17.6s\tremaining: 4m 45s\n",
            "58:\tlearn: 0.8250612\ttotal: 17.9s\tremaining: 4m 45s\n",
            "59:\tlearn: 0.8242781\ttotal: 18.4s\tremaining: 4m 48s\n",
            "60:\tlearn: 0.8236544\ttotal: 18.7s\tremaining: 4m 48s\n",
            "61:\tlearn: 0.8226642\ttotal: 19.1s\tremaining: 4m 48s\n",
            "62:\tlearn: 0.8222273\ttotal: 19.5s\tremaining: 4m 50s\n",
            "63:\tlearn: 0.8214718\ttotal: 19.9s\tremaining: 4m 50s\n",
            "64:\tlearn: 0.8208309\ttotal: 20.2s\tremaining: 4m 50s\n",
            "65:\tlearn: 0.8202797\ttotal: 20.5s\tremaining: 4m 50s\n",
            "66:\tlearn: 0.8195164\ttotal: 20.9s\tremaining: 4m 51s\n",
            "67:\tlearn: 0.8190051\ttotal: 21.3s\tremaining: 4m 51s\n",
            "68:\tlearn: 0.8185246\ttotal: 21.6s\tremaining: 4m 51s\n",
            "69:\tlearn: 0.8179610\ttotal: 22.1s\tremaining: 4m 54s\n",
            "70:\tlearn: 0.8173431\ttotal: 22.5s\tremaining: 4m 54s\n",
            "71:\tlearn: 0.8162883\ttotal: 22.8s\tremaining: 4m 54s\n",
            "72:\tlearn: 0.8159104\ttotal: 23.3s\tremaining: 4m 56s\n",
            "73:\tlearn: 0.8154049\ttotal: 23.9s\tremaining: 4m 59s\n",
            "74:\tlearn: 0.8148719\ttotal: 24.5s\tremaining: 5m 1s\n",
            "75:\tlearn: 0.8143747\ttotal: 25.1s\tremaining: 5m 4s\n",
            "76:\tlearn: 0.8135999\ttotal: 25.6s\tremaining: 5m 6s\n",
            "77:\tlearn: 0.8129522\ttotal: 26.1s\tremaining: 5m 8s\n",
            "78:\tlearn: 0.8125695\ttotal: 26.4s\tremaining: 5m 7s\n",
            "79:\tlearn: 0.8118777\ttotal: 26.8s\tremaining: 5m 8s\n",
            "80:\tlearn: 0.8114772\ttotal: 27.4s\tremaining: 5m 11s\n",
            "81:\tlearn: 0.8112159\ttotal: 27.8s\tremaining: 5m 10s\n",
            "82:\tlearn: 0.8106690\ttotal: 28s\tremaining: 5m 9s\n",
            "83:\tlearn: 0.8103770\ttotal: 28.2s\tremaining: 5m 7s\n",
            "84:\tlearn: 0.8097593\ttotal: 28.4s\tremaining: 5m 6s\n",
            "85:\tlearn: 0.8095255\ttotal: 28.6s\tremaining: 5m 4s\n",
            "86:\tlearn: 0.8089619\ttotal: 28.8s\tremaining: 5m 2s\n",
            "87:\tlearn: 0.8086400\ttotal: 29s\tremaining: 5m\n",
            "88:\tlearn: 0.8079986\ttotal: 29.2s\tremaining: 4m 58s\n",
            "89:\tlearn: 0.8075608\ttotal: 29.4s\tremaining: 4m 57s\n",
            "90:\tlearn: 0.8070412\ttotal: 29.6s\tremaining: 4m 55s\n",
            "91:\tlearn: 0.8066908\ttotal: 29.8s\tremaining: 4m 54s\n",
            "92:\tlearn: 0.8061790\ttotal: 30s\tremaining: 4m 52s\n",
            "93:\tlearn: 0.8055835\ttotal: 30.2s\tremaining: 4m 51s\n",
            "94:\tlearn: 0.8052455\ttotal: 30.4s\tremaining: 4m 49s\n",
            "95:\tlearn: 0.8048311\ttotal: 30.6s\tremaining: 4m 48s\n",
            "96:\tlearn: 0.8044398\ttotal: 30.8s\tremaining: 4m 46s\n",
            "97:\tlearn: 0.8040177\ttotal: 31s\tremaining: 4m 45s\n",
            "98:\tlearn: 0.8032144\ttotal: 31.2s\tremaining: 4m 44s\n",
            "99:\tlearn: 0.8027363\ttotal: 31.4s\tremaining: 4m 42s\n",
            "100:\tlearn: 0.8022225\ttotal: 31.6s\tremaining: 4m 41s\n",
            "101:\tlearn: 0.8016971\ttotal: 31.8s\tremaining: 4m 39s\n",
            "102:\tlearn: 0.8012210\ttotal: 32s\tremaining: 4m 38s\n",
            "103:\tlearn: 0.8006355\ttotal: 32.2s\tremaining: 4m 37s\n",
            "104:\tlearn: 0.7999243\ttotal: 32.4s\tremaining: 4m 35s\n",
            "105:\tlearn: 0.7994162\ttotal: 32.6s\tremaining: 4m 34s\n",
            "106:\tlearn: 0.7990793\ttotal: 32.7s\tremaining: 4m 33s\n",
            "107:\tlearn: 0.7985711\ttotal: 32.9s\tremaining: 4m 31s\n",
            "108:\tlearn: 0.7981907\ttotal: 33.2s\tremaining: 4m 31s\n",
            "109:\tlearn: 0.7978675\ttotal: 33.4s\tremaining: 4m 30s\n",
            "110:\tlearn: 0.7974765\ttotal: 33.6s\tremaining: 4m 28s\n",
            "111:\tlearn: 0.7969561\ttotal: 33.8s\tremaining: 4m 27s\n",
            "112:\tlearn: 0.7965450\ttotal: 33.9s\tremaining: 4m 26s\n",
            "113:\tlearn: 0.7960681\ttotal: 34.2s\tremaining: 4m 25s\n",
            "114:\tlearn: 0.7955448\ttotal: 34.4s\tremaining: 4m 24s\n",
            "115:\tlearn: 0.7950398\ttotal: 34.5s\tremaining: 4m 23s\n",
            "116:\tlearn: 0.7946889\ttotal: 34.7s\tremaining: 4m 22s\n",
            "117:\tlearn: 0.7942316\ttotal: 34.9s\tremaining: 4m 20s\n",
            "118:\tlearn: 0.7939625\ttotal: 35.1s\tremaining: 4m 19s\n",
            "119:\tlearn: 0.7936778\ttotal: 35.3s\tremaining: 4m 19s\n",
            "120:\tlearn: 0.7932365\ttotal: 35.5s\tremaining: 4m 18s\n",
            "121:\tlearn: 0.7928423\ttotal: 35.8s\tremaining: 4m 17s\n",
            "122:\tlearn: 0.7924831\ttotal: 36.1s\tremaining: 4m 17s\n",
            "123:\tlearn: 0.7921137\ttotal: 36.6s\tremaining: 4m 18s\n",
            "124:\tlearn: 0.7917202\ttotal: 37.2s\tremaining: 4m 20s\n",
            "125:\tlearn: 0.7912765\ttotal: 37.7s\tremaining: 4m 21s\n",
            "126:\tlearn: 0.7908393\ttotal: 38.3s\tremaining: 4m 22s\n",
            "127:\tlearn: 0.7904037\ttotal: 38.8s\tremaining: 4m 24s\n",
            "128:\tlearn: 0.7901955\ttotal: 39.3s\tremaining: 4m 25s\n",
            "129:\tlearn: 0.7898584\ttotal: 39.6s\tremaining: 4m 25s\n",
            "130:\tlearn: 0.7895194\ttotal: 39.9s\tremaining: 4m 24s\n",
            "131:\tlearn: 0.7889219\ttotal: 40.2s\tremaining: 4m 24s\n",
            "132:\tlearn: 0.7884603\ttotal: 40.6s\tremaining: 4m 24s\n",
            "133:\tlearn: 0.7878674\ttotal: 40.9s\tremaining: 4m 24s\n",
            "134:\tlearn: 0.7874622\ttotal: 41.2s\tremaining: 4m 24s\n",
            "135:\tlearn: 0.7871507\ttotal: 41.5s\tremaining: 4m 23s\n",
            "136:\tlearn: 0.7867783\ttotal: 41.8s\tremaining: 4m 23s\n",
            "137:\tlearn: 0.7865176\ttotal: 42.1s\tremaining: 4m 23s\n",
            "138:\tlearn: 0.7860180\ttotal: 42.5s\tremaining: 4m 23s\n",
            "139:\tlearn: 0.7854898\ttotal: 42.8s\tremaining: 4m 22s\n",
            "140:\tlearn: 0.7850496\ttotal: 43.1s\tremaining: 4m 22s\n",
            "141:\tlearn: 0.7846614\ttotal: 43.5s\tremaining: 4m 22s\n",
            "142:\tlearn: 0.7841664\ttotal: 43.8s\tremaining: 4m 22s\n",
            "143:\tlearn: 0.7837890\ttotal: 44.1s\tremaining: 4m 21s\n",
            "144:\tlearn: 0.7833058\ttotal: 44.3s\tremaining: 4m 21s\n",
            "145:\tlearn: 0.7827811\ttotal: 44.5s\tremaining: 4m 20s\n",
            "146:\tlearn: 0.7823201\ttotal: 44.6s\tremaining: 4m 19s\n",
            "147:\tlearn: 0.7819210\ttotal: 44.8s\tremaining: 4m 18s\n",
            "148:\tlearn: 0.7814414\ttotal: 45s\tremaining: 4m 17s\n",
            "149:\tlearn: 0.7810158\ttotal: 45.2s\tremaining: 4m 16s\n",
            "150:\tlearn: 0.7806310\ttotal: 45.4s\tremaining: 4m 15s\n",
            "151:\tlearn: 0.7802541\ttotal: 45.6s\tremaining: 4m 14s\n",
            "152:\tlearn: 0.7798734\ttotal: 45.8s\tremaining: 4m 13s\n",
            "153:\tlearn: 0.7794995\ttotal: 46s\tremaining: 4m 12s\n",
            "154:\tlearn: 0.7791738\ttotal: 46.2s\tremaining: 4m 11s\n",
            "155:\tlearn: 0.7788563\ttotal: 46.4s\tremaining: 4m 10s\n",
            "156:\tlearn: 0.7784325\ttotal: 46.6s\tremaining: 4m 10s\n",
            "157:\tlearn: 0.7782056\ttotal: 46.8s\tremaining: 4m 9s\n",
            "158:\tlearn: 0.7778700\ttotal: 47s\tremaining: 4m 8s\n",
            "159:\tlearn: 0.7776181\ttotal: 47.1s\tremaining: 4m 7s\n",
            "160:\tlearn: 0.7773191\ttotal: 47.4s\tremaining: 4m 6s\n",
            "161:\tlearn: 0.7771646\ttotal: 47.5s\tremaining: 4m 5s\n",
            "162:\tlearn: 0.7768469\ttotal: 47.7s\tremaining: 4m 5s\n",
            "163:\tlearn: 0.7764244\ttotal: 47.9s\tremaining: 4m 4s\n",
            "164:\tlearn: 0.7760552\ttotal: 48.1s\tremaining: 4m 3s\n",
            "165:\tlearn: 0.7759540\ttotal: 48.3s\tremaining: 4m 2s\n",
            "166:\tlearn: 0.7755749\ttotal: 48.5s\tremaining: 4m 1s\n",
            "167:\tlearn: 0.7753471\ttotal: 48.7s\tremaining: 4m 1s\n",
            "168:\tlearn: 0.7752339\ttotal: 48.9s\tremaining: 4m\n",
            "169:\tlearn: 0.7749777\ttotal: 49.2s\tremaining: 3m 59s\n",
            "170:\tlearn: 0.7746321\ttotal: 49.4s\tremaining: 3m 59s\n",
            "171:\tlearn: 0.7743793\ttotal: 49.7s\tremaining: 3m 59s\n",
            "172:\tlearn: 0.7740995\ttotal: 50s\tremaining: 3m 58s\n",
            "173:\tlearn: 0.7736198\ttotal: 50.3s\tremaining: 3m 58s\n",
            "174:\tlearn: 0.7733605\ttotal: 50.6s\tremaining: 3m 58s\n",
            "175:\tlearn: 0.7730484\ttotal: 51s\tremaining: 3m 58s\n",
            "176:\tlearn: 0.7728276\ttotal: 51.4s\tremaining: 3m 59s\n",
            "177:\tlearn: 0.7724968\ttotal: 52s\tremaining: 3m 59s\n",
            "178:\tlearn: 0.7720903\ttotal: 52.5s\tremaining: 4m\n",
            "179:\tlearn: 0.7717475\ttotal: 52.9s\tremaining: 4m\n",
            "180:\tlearn: 0.7713592\ttotal: 53.2s\tremaining: 4m\n",
            "181:\tlearn: 0.7709567\ttotal: 53.5s\tremaining: 4m\n",
            "182:\tlearn: 0.7706398\ttotal: 53.8s\tremaining: 4m\n",
            "183:\tlearn: 0.7703529\ttotal: 54.2s\tremaining: 4m\n",
            "184:\tlearn: 0.7700745\ttotal: 54.6s\tremaining: 4m\n",
            "185:\tlearn: 0.7696326\ttotal: 54.9s\tremaining: 4m\n",
            "186:\tlearn: 0.7691389\ttotal: 55.2s\tremaining: 3m 59s\n",
            "187:\tlearn: 0.7689575\ttotal: 55.6s\tremaining: 4m\n",
            "188:\tlearn: 0.7688081\ttotal: 55.9s\tremaining: 3m 59s\n",
            "189:\tlearn: 0.7684589\ttotal: 56.5s\tremaining: 4m\n",
            "190:\tlearn: 0.7681706\ttotal: 56.8s\tremaining: 4m\n",
            "191:\tlearn: 0.7678604\ttotal: 57.2s\tremaining: 4m\n",
            "192:\tlearn: 0.7677154\ttotal: 57.5s\tremaining: 4m\n",
            "193:\tlearn: 0.7673083\ttotal: 57.9s\tremaining: 4m\n",
            "194:\tlearn: 0.7670882\ttotal: 58.2s\tremaining: 4m\n",
            "195:\tlearn: 0.7667108\ttotal: 58.5s\tremaining: 4m\n",
            "196:\tlearn: 0.7662393\ttotal: 58.9s\tremaining: 3m 59s\n",
            "197:\tlearn: 0.7660603\ttotal: 59.2s\tremaining: 3m 59s\n",
            "198:\tlearn: 0.7657881\ttotal: 59.6s\tremaining: 3m 59s\n",
            "199:\tlearn: 0.7653601\ttotal: 1m\tremaining: 4m\n",
            "200:\tlearn: 0.7651113\ttotal: 1m\tremaining: 3m 59s\n",
            "201:\tlearn: 0.7649035\ttotal: 1m\tremaining: 3m 59s\n",
            "202:\tlearn: 0.7646280\ttotal: 1m\tremaining: 3m 58s\n",
            "203:\tlearn: 0.7644014\ttotal: 1m\tremaining: 3m 57s\n",
            "204:\tlearn: 0.7642002\ttotal: 1m 1s\tremaining: 3m 57s\n",
            "205:\tlearn: 0.7639897\ttotal: 1m 1s\tremaining: 3m 56s\n",
            "206:\tlearn: 0.7636541\ttotal: 1m 1s\tremaining: 3m 55s\n",
            "207:\tlearn: 0.7634478\ttotal: 1m 1s\tremaining: 3m 55s\n",
            "208:\tlearn: 0.7631956\ttotal: 1m 1s\tremaining: 3m 54s\n",
            "209:\tlearn: 0.7630334\ttotal: 1m 2s\tremaining: 3m 53s\n",
            "210:\tlearn: 0.7629354\ttotal: 1m 2s\tremaining: 3m 53s\n",
            "211:\tlearn: 0.7627104\ttotal: 1m 2s\tremaining: 3m 52s\n",
            "212:\tlearn: 0.7623646\ttotal: 1m 2s\tremaining: 3m 51s\n",
            "213:\tlearn: 0.7621283\ttotal: 1m 3s\tremaining: 3m 51s\n",
            "214:\tlearn: 0.7618796\ttotal: 1m 3s\tremaining: 3m 51s\n",
            "215:\tlearn: 0.7617293\ttotal: 1m 3s\tremaining: 3m 51s\n",
            "216:\tlearn: 0.7614269\ttotal: 1m 4s\tremaining: 3m 51s\n",
            "217:\tlearn: 0.7611875\ttotal: 1m 4s\tremaining: 3m 50s\n",
            "218:\tlearn: 0.7609851\ttotal: 1m 4s\tremaining: 3m 50s\n",
            "219:\tlearn: 0.7608498\ttotal: 1m 5s\tremaining: 3m 50s\n",
            "220:\tlearn: 0.7606264\ttotal: 1m 5s\tremaining: 3m 50s\n",
            "221:\tlearn: 0.7605414\ttotal: 1m 5s\tremaining: 3m 50s\n",
            "222:\tlearn: 0.7602250\ttotal: 1m 5s\tremaining: 3m 49s\n",
            "223:\tlearn: 0.7598952\ttotal: 1m 6s\tremaining: 3m 49s\n",
            "224:\tlearn: 0.7596627\ttotal: 1m 6s\tremaining: 3m 48s\n",
            "225:\tlearn: 0.7592774\ttotal: 1m 6s\tremaining: 3m 47s\n",
            "226:\tlearn: 0.7590688\ttotal: 1m 6s\tremaining: 3m 47s\n",
            "227:\tlearn: 0.7588969\ttotal: 1m 6s\tremaining: 3m 46s\n",
            "228:\tlearn: 0.7587447\ttotal: 1m 7s\tremaining: 3m 46s\n",
            "229:\tlearn: 0.7585916\ttotal: 1m 7s\tremaining: 3m 45s\n",
            "230:\tlearn: 0.7583504\ttotal: 1m 7s\tremaining: 3m 44s\n",
            "231:\tlearn: 0.7580477\ttotal: 1m 7s\tremaining: 3m 44s\n",
            "232:\tlearn: 0.7578352\ttotal: 1m 7s\tremaining: 3m 43s\n",
            "233:\tlearn: 0.7576077\ttotal: 1m 8s\tremaining: 3m 42s\n",
            "234:\tlearn: 0.7574346\ttotal: 1m 8s\tremaining: 3m 42s\n",
            "235:\tlearn: 0.7573477\ttotal: 1m 8s\tremaining: 3m 41s\n",
            "236:\tlearn: 0.7571716\ttotal: 1m 8s\tremaining: 3m 41s\n",
            "237:\tlearn: 0.7569366\ttotal: 1m 8s\tremaining: 3m 40s\n",
            "238:\tlearn: 0.7565477\ttotal: 1m 9s\tremaining: 3m 40s\n",
            "239:\tlearn: 0.7562598\ttotal: 1m 9s\tremaining: 3m 40s\n",
            "240:\tlearn: 0.7559365\ttotal: 1m 10s\tremaining: 3m 41s\n",
            "241:\tlearn: 0.7556817\ttotal: 1m 10s\tremaining: 3m 42s\n",
            "242:\tlearn: 0.7554271\ttotal: 1m 11s\tremaining: 3m 42s\n",
            "243:\tlearn: 0.7552636\ttotal: 1m 12s\tremaining: 3m 43s\n",
            "244:\tlearn: 0.7550464\ttotal: 1m 12s\tremaining: 3m 43s\n",
            "245:\tlearn: 0.7547613\ttotal: 1m 12s\tremaining: 3m 42s\n",
            "246:\tlearn: 0.7544449\ttotal: 1m 13s\tremaining: 3m 42s\n",
            "247:\tlearn: 0.7542028\ttotal: 1m 13s\tremaining: 3m 42s\n",
            "248:\tlearn: 0.7540966\ttotal: 1m 13s\tremaining: 3m 42s\n",
            "249:\tlearn: 0.7539273\ttotal: 1m 13s\tremaining: 3m 41s\n",
            "250:\tlearn: 0.7536603\ttotal: 1m 14s\tremaining: 3m 41s\n",
            "251:\tlearn: 0.7534038\ttotal: 1m 14s\tremaining: 3m 42s\n",
            "252:\tlearn: 0.7532275\ttotal: 1m 15s\tremaining: 3m 42s\n",
            "253:\tlearn: 0.7530983\ttotal: 1m 15s\tremaining: 3m 41s\n",
            "254:\tlearn: 0.7529500\ttotal: 1m 15s\tremaining: 3m 41s\n",
            "255:\tlearn: 0.7527706\ttotal: 1m 16s\tremaining: 3m 41s\n",
            "256:\tlearn: 0.7525160\ttotal: 1m 16s\tremaining: 3m 42s\n",
            "257:\tlearn: 0.7522339\ttotal: 1m 17s\tremaining: 3m 42s\n",
            "258:\tlearn: 0.7520155\ttotal: 1m 17s\tremaining: 3m 42s\n",
            "259:\tlearn: 0.7517912\ttotal: 1m 18s\tremaining: 3m 43s\n",
            "260:\tlearn: 0.7515289\ttotal: 1m 18s\tremaining: 3m 43s\n",
            "261:\tlearn: 0.7512866\ttotal: 1m 19s\tremaining: 3m 43s\n",
            "262:\tlearn: 0.7509774\ttotal: 1m 19s\tremaining: 3m 42s\n",
            "263:\tlearn: 0.7508203\ttotal: 1m 19s\tremaining: 3m 42s\n",
            "264:\tlearn: 0.7506564\ttotal: 1m 19s\tremaining: 3m 41s\n",
            "265:\tlearn: 0.7505739\ttotal: 1m 20s\tremaining: 3m 40s\n",
            "266:\tlearn: 0.7503441\ttotal: 1m 20s\tremaining: 3m 40s\n",
            "267:\tlearn: 0.7501050\ttotal: 1m 20s\tremaining: 3m 39s\n",
            "268:\tlearn: 0.7498759\ttotal: 1m 20s\tremaining: 3m 39s\n",
            "269:\tlearn: 0.7495749\ttotal: 1m 20s\tremaining: 3m 38s\n",
            "270:\tlearn: 0.7492347\ttotal: 1m 21s\tremaining: 3m 37s\n",
            "271:\tlearn: 0.7490106\ttotal: 1m 21s\tremaining: 3m 37s\n",
            "272:\tlearn: 0.7487581\ttotal: 1m 21s\tremaining: 3m 36s\n",
            "273:\tlearn: 0.7485154\ttotal: 1m 21s\tremaining: 3m 36s\n",
            "274:\tlearn: 0.7483898\ttotal: 1m 21s\tremaining: 3m 35s\n",
            "275:\tlearn: 0.7481533\ttotal: 1m 21s\tremaining: 3m 35s\n",
            "276:\tlearn: 0.7478609\ttotal: 1m 22s\tremaining: 3m 34s\n",
            "277:\tlearn: 0.7475795\ttotal: 1m 22s\tremaining: 3m 33s\n",
            "278:\tlearn: 0.7473835\ttotal: 1m 22s\tremaining: 3m 33s\n",
            "279:\tlearn: 0.7471931\ttotal: 1m 22s\tremaining: 3m 32s\n",
            "280:\tlearn: 0.7469951\ttotal: 1m 22s\tremaining: 3m 32s\n",
            "281:\tlearn: 0.7467708\ttotal: 1m 23s\tremaining: 3m 31s\n",
            "282:\tlearn: 0.7464818\ttotal: 1m 23s\tremaining: 3m 31s\n",
            "283:\tlearn: 0.7463186\ttotal: 1m 23s\tremaining: 3m 30s\n",
            "284:\tlearn: 0.7462159\ttotal: 1m 23s\tremaining: 3m 30s\n",
            "285:\tlearn: 0.7460299\ttotal: 1m 24s\tremaining: 3m 29s\n",
            "286:\tlearn: 0.7458995\ttotal: 1m 24s\tremaining: 3m 29s\n",
            "287:\tlearn: 0.7456094\ttotal: 1m 24s\tremaining: 3m 28s\n",
            "288:\tlearn: 0.7454100\ttotal: 1m 24s\tremaining: 3m 28s\n",
            "289:\tlearn: 0.7452403\ttotal: 1m 24s\tremaining: 3m 27s\n",
            "290:\tlearn: 0.7448588\ttotal: 1m 25s\tremaining: 3m 27s\n",
            "291:\tlearn: 0.7446418\ttotal: 1m 25s\tremaining: 3m 27s\n",
            "292:\tlearn: 0.7443458\ttotal: 1m 25s\tremaining: 3m 27s\n",
            "293:\tlearn: 0.7442266\ttotal: 1m 26s\tremaining: 3m 27s\n",
            "294:\tlearn: 0.7441115\ttotal: 1m 26s\tremaining: 3m 26s\n",
            "295:\tlearn: 0.7437343\ttotal: 1m 27s\tremaining: 3m 27s\n",
            "296:\tlearn: 0.7435528\ttotal: 1m 27s\tremaining: 3m 26s\n",
            "297:\tlearn: 0.7433427\ttotal: 1m 27s\tremaining: 3m 26s\n",
            "298:\tlearn: 0.7431975\ttotal: 1m 28s\tremaining: 3m 26s\n",
            "299:\tlearn: 0.7430775\ttotal: 1m 28s\tremaining: 3m 26s\n",
            "300:\tlearn: 0.7427972\ttotal: 1m 28s\tremaining: 3m 26s\n",
            "301:\tlearn: 0.7425770\ttotal: 1m 29s\tremaining: 3m 26s\n",
            "302:\tlearn: 0.7424971\ttotal: 1m 30s\tremaining: 3m 27s\n",
            "303:\tlearn: 0.7423440\ttotal: 1m 30s\tremaining: 3m 27s\n",
            "304:\tlearn: 0.7420087\ttotal: 1m 31s\tremaining: 3m 27s\n",
            "305:\tlearn: 0.7417726\ttotal: 1m 31s\tremaining: 3m 27s\n",
            "306:\tlearn: 0.7416165\ttotal: 1m 32s\tremaining: 3m 28s\n",
            "307:\tlearn: 0.7413477\ttotal: 1m 32s\tremaining: 3m 27s\n",
            "308:\tlearn: 0.7412378\ttotal: 1m 32s\tremaining: 3m 27s\n",
            "309:\tlearn: 0.7410432\ttotal: 1m 33s\tremaining: 3m 27s\n",
            "310:\tlearn: 0.7408658\ttotal: 1m 33s\tremaining: 3m 27s\n",
            "311:\tlearn: 0.7407601\ttotal: 1m 33s\tremaining: 3m 27s\n",
            "312:\tlearn: 0.7405913\ttotal: 1m 34s\tremaining: 3m 27s\n",
            "313:\tlearn: 0.7404651\ttotal: 1m 34s\tremaining: 3m 26s\n",
            "314:\tlearn: 0.7402488\ttotal: 1m 34s\tremaining: 3m 26s\n",
            "315:\tlearn: 0.7401001\ttotal: 1m 34s\tremaining: 3m 25s\n",
            "316:\tlearn: 0.7398803\ttotal: 1m 35s\tremaining: 3m 24s\n",
            "317:\tlearn: 0.7397393\ttotal: 1m 35s\tremaining: 3m 24s\n",
            "318:\tlearn: 0.7395764\ttotal: 1m 35s\tremaining: 3m 23s\n",
            "319:\tlearn: 0.7394059\ttotal: 1m 35s\tremaining: 3m 23s\n",
            "320:\tlearn: 0.7392331\ttotal: 1m 35s\tremaining: 3m 22s\n",
            "321:\tlearn: 0.7389875\ttotal: 1m 36s\tremaining: 3m 22s\n",
            "322:\tlearn: 0.7389151\ttotal: 1m 36s\tremaining: 3m 21s\n",
            "323:\tlearn: 0.7386537\ttotal: 1m 36s\tremaining: 3m 21s\n",
            "324:\tlearn: 0.7384865\ttotal: 1m 36s\tremaining: 3m 20s\n",
            "325:\tlearn: 0.7383761\ttotal: 1m 36s\tremaining: 3m 20s\n",
            "326:\tlearn: 0.7380525\ttotal: 1m 37s\tremaining: 3m 19s\n",
            "327:\tlearn: 0.7379161\ttotal: 1m 37s\tremaining: 3m 19s\n",
            "328:\tlearn: 0.7377329\ttotal: 1m 37s\tremaining: 3m 18s\n",
            "329:\tlearn: 0.7376160\ttotal: 1m 37s\tremaining: 3m 18s\n",
            "330:\tlearn: 0.7374418\ttotal: 1m 37s\tremaining: 3m 17s\n",
            "331:\tlearn: 0.7372492\ttotal: 1m 38s\tremaining: 3m 17s\n",
            "332:\tlearn: 0.7371587\ttotal: 1m 38s\tremaining: 3m 16s\n",
            "333:\tlearn: 0.7369960\ttotal: 1m 38s\tremaining: 3m 16s\n",
            "334:\tlearn: 0.7368386\ttotal: 1m 38s\tremaining: 3m 15s\n",
            "335:\tlearn: 0.7367721\ttotal: 1m 38s\tremaining: 3m 15s\n",
            "336:\tlearn: 0.7365384\ttotal: 1m 39s\tremaining: 3m 14s\n",
            "337:\tlearn: 0.7363839\ttotal: 1m 39s\tremaining: 3m 14s\n",
            "338:\tlearn: 0.7362367\ttotal: 1m 39s\tremaining: 3m 13s\n",
            "339:\tlearn: 0.7360658\ttotal: 1m 39s\tremaining: 3m 13s\n",
            "340:\tlearn: 0.7359243\ttotal: 1m 39s\tremaining: 3m 12s\n",
            "341:\tlearn: 0.7357498\ttotal: 1m 40s\tremaining: 3m 12s\n",
            "342:\tlearn: 0.7356687\ttotal: 1m 40s\tremaining: 3m 11s\n",
            "343:\tlearn: 0.7355768\ttotal: 1m 40s\tremaining: 3m 11s\n",
            "344:\tlearn: 0.7351939\ttotal: 1m 40s\tremaining: 3m 10s\n",
            "345:\tlearn: 0.7350695\ttotal: 1m 40s\tremaining: 3m 10s\n",
            "346:\tlearn: 0.7348079\ttotal: 1m 41s\tremaining: 3m 10s\n",
            "347:\tlearn: 0.7347237\ttotal: 1m 41s\tremaining: 3m 9s\n",
            "348:\tlearn: 0.7346384\ttotal: 1m 41s\tremaining: 3m 9s\n",
            "349:\tlearn: 0.7345360\ttotal: 1m 41s\tremaining: 3m 8s\n",
            "350:\tlearn: 0.7343513\ttotal: 1m 41s\tremaining: 3m 8s\n",
            "351:\tlearn: 0.7341998\ttotal: 1m 42s\tremaining: 3m 7s\n",
            "352:\tlearn: 0.7340352\ttotal: 1m 42s\tremaining: 3m 7s\n",
            "353:\tlearn: 0.7339143\ttotal: 1m 42s\tremaining: 3m 7s\n",
            "354:\tlearn: 0.7338244\ttotal: 1m 43s\tremaining: 3m 7s\n",
            "355:\tlearn: 0.7337257\ttotal: 1m 43s\tremaining: 3m 7s\n",
            "356:\tlearn: 0.7336179\ttotal: 1m 44s\tremaining: 3m 7s\n",
            "357:\tlearn: 0.7335197\ttotal: 1m 44s\tremaining: 3m 8s\n",
            "358:\tlearn: 0.7332668\ttotal: 1m 45s\tremaining: 3m 8s\n",
            "359:\tlearn: 0.7331169\ttotal: 1m 45s\tremaining: 3m 7s\n",
            "360:\tlearn: 0.7330044\ttotal: 1m 45s\tremaining: 3m 7s\n",
            "361:\tlearn: 0.7328376\ttotal: 1m 46s\tremaining: 3m 7s\n",
            "362:\tlearn: 0.7327174\ttotal: 1m 46s\tremaining: 3m 6s\n",
            "363:\tlearn: 0.7325843\ttotal: 1m 46s\tremaining: 3m 6s\n",
            "364:\tlearn: 0.7323705\ttotal: 1m 47s\tremaining: 3m 6s\n",
            "365:\tlearn: 0.7322334\ttotal: 1m 47s\tremaining: 3m 6s\n",
            "366:\tlearn: 0.7321188\ttotal: 1m 47s\tremaining: 3m 6s\n",
            "367:\tlearn: 0.7320603\ttotal: 1m 48s\tremaining: 3m 5s\n",
            "368:\tlearn: 0.7319111\ttotal: 1m 48s\tremaining: 3m 5s\n",
            "369:\tlearn: 0.7317501\ttotal: 1m 48s\tremaining: 3m 5s\n",
            "370:\tlearn: 0.7316472\ttotal: 1m 49s\tremaining: 3m 5s\n",
            "371:\tlearn: 0.7315449\ttotal: 1m 49s\tremaining: 3m 4s\n",
            "372:\tlearn: 0.7313679\ttotal: 1m 49s\tremaining: 3m 4s\n",
            "373:\tlearn: 0.7312103\ttotal: 1m 50s\tremaining: 3m 4s\n",
            "374:\tlearn: 0.7310477\ttotal: 1m 50s\tremaining: 3m 4s\n",
            "375:\tlearn: 0.7306972\ttotal: 1m 50s\tremaining: 3m 3s\n",
            "376:\tlearn: 0.7305312\ttotal: 1m 50s\tremaining: 3m 3s\n",
            "377:\tlearn: 0.7303543\ttotal: 1m 51s\tremaining: 3m 2s\n",
            "378:\tlearn: 0.7302572\ttotal: 1m 51s\tremaining: 3m 2s\n",
            "379:\tlearn: 0.7301609\ttotal: 1m 51s\tremaining: 3m 1s\n",
            "380:\tlearn: 0.7300406\ttotal: 1m 51s\tremaining: 3m 1s\n",
            "381:\tlearn: 0.7298607\ttotal: 1m 51s\tremaining: 3m\n",
            "382:\tlearn: 0.7296555\ttotal: 1m 52s\tremaining: 3m\n",
            "383:\tlearn: 0.7295250\ttotal: 1m 52s\tremaining: 3m\n",
            "384:\tlearn: 0.7293386\ttotal: 1m 52s\tremaining: 2m 59s\n",
            "385:\tlearn: 0.7291654\ttotal: 1m 52s\tremaining: 2m 59s\n",
            "386:\tlearn: 0.7290251\ttotal: 1m 52s\tremaining: 2m 58s\n",
            "387:\tlearn: 0.7289042\ttotal: 1m 52s\tremaining: 2m 58s\n",
            "388:\tlearn: 0.7287362\ttotal: 1m 53s\tremaining: 2m 57s\n",
            "389:\tlearn: 0.7284645\ttotal: 1m 53s\tremaining: 2m 57s\n",
            "390:\tlearn: 0.7283408\ttotal: 1m 53s\tremaining: 2m 56s\n",
            "391:\tlearn: 0.7281122\ttotal: 1m 53s\tremaining: 2m 56s\n",
            "392:\tlearn: 0.7279107\ttotal: 1m 53s\tremaining: 2m 55s\n",
            "393:\tlearn: 0.7277833\ttotal: 1m 54s\tremaining: 2m 55s\n",
            "394:\tlearn: 0.7275760\ttotal: 1m 54s\tremaining: 2m 55s\n",
            "395:\tlearn: 0.7275062\ttotal: 1m 54s\tremaining: 2m 54s\n",
            "396:\tlearn: 0.7273630\ttotal: 1m 54s\tremaining: 2m 54s\n",
            "397:\tlearn: 0.7272545\ttotal: 1m 54s\tremaining: 2m 53s\n",
            "398:\tlearn: 0.7271923\ttotal: 1m 55s\tremaining: 2m 53s\n",
            "399:\tlearn: 0.7271025\ttotal: 1m 55s\tremaining: 2m 53s\n",
            "400:\tlearn: 0.7270030\ttotal: 1m 55s\tremaining: 2m 52s\n",
            "401:\tlearn: 0.7268194\ttotal: 1m 56s\tremaining: 2m 52s\n",
            "402:\tlearn: 0.7266161\ttotal: 1m 56s\tremaining: 2m 52s\n",
            "403:\tlearn: 0.7264013\ttotal: 1m 56s\tremaining: 2m 52s\n",
            "404:\tlearn: 0.7262552\ttotal: 1m 57s\tremaining: 2m 52s\n",
            "405:\tlearn: 0.7261736\ttotal: 1m 57s\tremaining: 2m 51s\n",
            "406:\tlearn: 0.7260654\ttotal: 1m 57s\tremaining: 2m 51s\n",
            "407:\tlearn: 0.7259523\ttotal: 1m 58s\tremaining: 2m 51s\n",
            "408:\tlearn: 0.7258066\ttotal: 1m 58s\tremaining: 2m 51s\n",
            "409:\tlearn: 0.7257134\ttotal: 1m 58s\tremaining: 2m 50s\n",
            "410:\tlearn: 0.7255492\ttotal: 1m 58s\tremaining: 2m 50s\n",
            "411:\tlearn: 0.7254453\ttotal: 1m 59s\tremaining: 2m 49s\n",
            "412:\tlearn: 0.7253200\ttotal: 1m 59s\tremaining: 2m 49s\n",
            "413:\tlearn: 0.7252394\ttotal: 1m 59s\tremaining: 2m 49s\n",
            "414:\tlearn: 0.7251042\ttotal: 1m 59s\tremaining: 2m 49s\n",
            "415:\tlearn: 0.7249325\ttotal: 2m\tremaining: 2m 48s\n",
            "416:\tlearn: 0.7248193\ttotal: 2m\tremaining: 2m 48s\n",
            "417:\tlearn: 0.7247379\ttotal: 2m 1s\tremaining: 2m 48s\n",
            "418:\tlearn: 0.7246975\ttotal: 2m 1s\tremaining: 2m 48s\n",
            "419:\tlearn: 0.7246166\ttotal: 2m 1s\tremaining: 2m 48s\n",
            "420:\tlearn: 0.7245363\ttotal: 2m 2s\tremaining: 2m 48s\n",
            "421:\tlearn: 0.7244245\ttotal: 2m 2s\tremaining: 2m 47s\n",
            "422:\tlearn: 0.7242190\ttotal: 2m 2s\tremaining: 2m 47s\n",
            "423:\tlearn: 0.7240534\ttotal: 2m 3s\tremaining: 2m 47s\n",
            "424:\tlearn: 0.7239264\ttotal: 2m 4s\tremaining: 2m 47s\n",
            "425:\tlearn: 0.7238185\ttotal: 2m 4s\tremaining: 2m 47s\n",
            "426:\tlearn: 0.7237401\ttotal: 2m 4s\tremaining: 2m 47s\n",
            "427:\tlearn: 0.7236145\ttotal: 2m 6s\tremaining: 2m 48s\n",
            "428:\tlearn: 0.7235577\ttotal: 2m 6s\tremaining: 2m 48s\n",
            "429:\tlearn: 0.7234375\ttotal: 2m 6s\tremaining: 2m 47s\n",
            "430:\tlearn: 0.7232186\ttotal: 2m 7s\tremaining: 2m 47s\n",
            "431:\tlearn: 0.7229757\ttotal: 2m 7s\tremaining: 2m 47s\n",
            "432:\tlearn: 0.7229188\ttotal: 2m 7s\tremaining: 2m 47s\n",
            "433:\tlearn: 0.7226981\ttotal: 2m 8s\tremaining: 2m 47s\n",
            "434:\tlearn: 0.7225953\ttotal: 2m 8s\tremaining: 2m 46s\n",
            "435:\tlearn: 0.7224471\ttotal: 2m 8s\tremaining: 2m 46s\n",
            "436:\tlearn: 0.7223261\ttotal: 2m 9s\tremaining: 2m 46s\n",
            "437:\tlearn: 0.7221994\ttotal: 2m 9s\tremaining: 2m 46s\n",
            "438:\tlearn: 0.7220712\ttotal: 2m 10s\tremaining: 2m 46s\n",
            "439:\tlearn: 0.7218753\ttotal: 2m 10s\tremaining: 2m 46s\n",
            "440:\tlearn: 0.7218051\ttotal: 2m 10s\tremaining: 2m 45s\n",
            "441:\tlearn: 0.7216385\ttotal: 2m 11s\tremaining: 2m 45s\n",
            "442:\tlearn: 0.7215737\ttotal: 2m 11s\tremaining: 2m 45s\n",
            "443:\tlearn: 0.7214591\ttotal: 2m 11s\tremaining: 2m 44s\n",
            "444:\tlearn: 0.7213427\ttotal: 2m 11s\tremaining: 2m 44s\n",
            "445:\tlearn: 0.7212053\ttotal: 2m 12s\tremaining: 2m 44s\n",
            "446:\tlearn: 0.7209991\ttotal: 2m 12s\tremaining: 2m 43s\n",
            "447:\tlearn: 0.7209222\ttotal: 2m 12s\tremaining: 2m 43s\n",
            "448:\tlearn: 0.7207652\ttotal: 2m 12s\tremaining: 2m 42s\n",
            "449:\tlearn: 0.7204997\ttotal: 2m 12s\tremaining: 2m 42s\n",
            "450:\tlearn: 0.7201071\ttotal: 2m 13s\tremaining: 2m 41s\n",
            "451:\tlearn: 0.7199447\ttotal: 2m 13s\tremaining: 2m 41s\n",
            "452:\tlearn: 0.7198078\ttotal: 2m 13s\tremaining: 2m 41s\n",
            "453:\tlearn: 0.7196736\ttotal: 2m 13s\tremaining: 2m 40s\n",
            "454:\tlearn: 0.7195656\ttotal: 2m 13s\tremaining: 2m 40s\n",
            "455:\tlearn: 0.7195142\ttotal: 2m 13s\tremaining: 2m 39s\n",
            "456:\tlearn: 0.7193954\ttotal: 2m 14s\tremaining: 2m 39s\n",
            "457:\tlearn: 0.7192709\ttotal: 2m 14s\tremaining: 2m 38s\n",
            "458:\tlearn: 0.7191910\ttotal: 2m 14s\tremaining: 2m 38s\n",
            "459:\tlearn: 0.7191098\ttotal: 2m 14s\tremaining: 2m 38s\n",
            "460:\tlearn: 0.7189679\ttotal: 2m 14s\tremaining: 2m 37s\n",
            "461:\tlearn: 0.7188821\ttotal: 2m 15s\tremaining: 2m 37s\n",
            "462:\tlearn: 0.7187862\ttotal: 2m 15s\tremaining: 2m 36s\n",
            "463:\tlearn: 0.7186930\ttotal: 2m 15s\tremaining: 2m 36s\n",
            "464:\tlearn: 0.7185509\ttotal: 2m 15s\tremaining: 2m 36s\n",
            "465:\tlearn: 0.7184823\ttotal: 2m 15s\tremaining: 2m 35s\n",
            "466:\tlearn: 0.7180963\ttotal: 2m 16s\tremaining: 2m 35s\n",
            "467:\tlearn: 0.7179600\ttotal: 2m 16s\tremaining: 2m 34s\n",
            "468:\tlearn: 0.7178251\ttotal: 2m 16s\tremaining: 2m 34s\n",
            "469:\tlearn: 0.7177131\ttotal: 2m 16s\tremaining: 2m 34s\n",
            "470:\tlearn: 0.7175783\ttotal: 2m 16s\tremaining: 2m 33s\n",
            "471:\tlearn: 0.7174727\ttotal: 2m 17s\tremaining: 2m 33s\n",
            "472:\tlearn: 0.7174141\ttotal: 2m 17s\tremaining: 2m 33s\n",
            "473:\tlearn: 0.7172822\ttotal: 2m 17s\tremaining: 2m 32s\n",
            "474:\tlearn: 0.7171906\ttotal: 2m 17s\tremaining: 2m 32s\n",
            "475:\tlearn: 0.7171106\ttotal: 2m 18s\tremaining: 2m 32s\n",
            "476:\tlearn: 0.7169162\ttotal: 2m 18s\tremaining: 2m 31s\n",
            "477:\tlearn: 0.7168167\ttotal: 2m 18s\tremaining: 2m 31s\n",
            "478:\tlearn: 0.7167253\ttotal: 2m 19s\tremaining: 2m 31s\n",
            "479:\tlearn: 0.7166563\ttotal: 2m 19s\tremaining: 2m 31s\n",
            "480:\tlearn: 0.7165369\ttotal: 2m 19s\tremaining: 2m 30s\n",
            "481:\tlearn: 0.7164166\ttotal: 2m 20s\tremaining: 2m 30s\n",
            "482:\tlearn: 0.7163131\ttotal: 2m 20s\tremaining: 2m 30s\n",
            "483:\tlearn: 0.7162107\ttotal: 2m 20s\tremaining: 2m 30s\n",
            "484:\tlearn: 0.7160597\ttotal: 2m 21s\tremaining: 2m 29s\n",
            "485:\tlearn: 0.7159611\ttotal: 2m 21s\tremaining: 2m 29s\n",
            "486:\tlearn: 0.7158666\ttotal: 2m 22s\tremaining: 2m 29s\n",
            "487:\tlearn: 0.7157567\ttotal: 2m 22s\tremaining: 2m 29s\n",
            "488:\tlearn: 0.7155592\ttotal: 2m 23s\tremaining: 2m 29s\n",
            "489:\tlearn: 0.7154654\ttotal: 2m 23s\tremaining: 2m 29s\n",
            "490:\tlearn: 0.7153335\ttotal: 2m 24s\tremaining: 2m 29s\n",
            "491:\tlearn: 0.7152671\ttotal: 2m 24s\tremaining: 2m 29s\n",
            "492:\tlearn: 0.7150298\ttotal: 2m 25s\tremaining: 2m 29s\n",
            "493:\tlearn: 0.7148877\ttotal: 2m 25s\tremaining: 2m 28s\n",
            "494:\tlearn: 0.7147635\ttotal: 2m 25s\tremaining: 2m 28s\n",
            "495:\tlearn: 0.7146492\ttotal: 2m 25s\tremaining: 2m 28s\n",
            "496:\tlearn: 0.7145117\ttotal: 2m 26s\tremaining: 2m 27s\n",
            "497:\tlearn: 0.7143448\ttotal: 2m 26s\tremaining: 2m 27s\n",
            "498:\tlearn: 0.7142392\ttotal: 2m 26s\tremaining: 2m 27s\n",
            "499:\tlearn: 0.7139419\ttotal: 2m 26s\tremaining: 2m 26s\n",
            "500:\tlearn: 0.7138413\ttotal: 2m 26s\tremaining: 2m 26s\n",
            "501:\tlearn: 0.7136726\ttotal: 2m 27s\tremaining: 2m 25s\n",
            "502:\tlearn: 0.7136347\ttotal: 2m 27s\tremaining: 2m 25s\n",
            "503:\tlearn: 0.7135435\ttotal: 2m 27s\tremaining: 2m 25s\n",
            "504:\tlearn: 0.7133992\ttotal: 2m 27s\tremaining: 2m 24s\n",
            "505:\tlearn: 0.7132926\ttotal: 2m 27s\tremaining: 2m 24s\n",
            "506:\tlearn: 0.7132110\ttotal: 2m 28s\tremaining: 2m 23s\n",
            "507:\tlearn: 0.7131137\ttotal: 2m 28s\tremaining: 2m 23s\n",
            "508:\tlearn: 0.7129209\ttotal: 2m 28s\tremaining: 2m 23s\n",
            "509:\tlearn: 0.7127620\ttotal: 2m 28s\tremaining: 2m 22s\n",
            "510:\tlearn: 0.7127015\ttotal: 2m 28s\tremaining: 2m 22s\n",
            "511:\tlearn: 0.7125591\ttotal: 2m 28s\tremaining: 2m 22s\n",
            "512:\tlearn: 0.7123980\ttotal: 2m 29s\tremaining: 2m 21s\n",
            "513:\tlearn: 0.7123159\ttotal: 2m 29s\tremaining: 2m 21s\n",
            "514:\tlearn: 0.7121989\ttotal: 2m 29s\tremaining: 2m 20s\n",
            "515:\tlearn: 0.7119101\ttotal: 2m 29s\tremaining: 2m 20s\n",
            "516:\tlearn: 0.7118379\ttotal: 2m 29s\tremaining: 2m 20s\n",
            "517:\tlearn: 0.7116680\ttotal: 2m 30s\tremaining: 2m 19s\n",
            "518:\tlearn: 0.7115526\ttotal: 2m 30s\tremaining: 2m 19s\n",
            "519:\tlearn: 0.7114967\ttotal: 2m 30s\tremaining: 2m 18s\n",
            "520:\tlearn: 0.7113415\ttotal: 2m 30s\tremaining: 2m 18s\n",
            "521:\tlearn: 0.7112323\ttotal: 2m 30s\tremaining: 2m 18s\n",
            "522:\tlearn: 0.7111668\ttotal: 2m 31s\tremaining: 2m 17s\n",
            "523:\tlearn: 0.7110636\ttotal: 2m 31s\tremaining: 2m 17s\n",
            "524:\tlearn: 0.7109818\ttotal: 2m 31s\tremaining: 2m 17s\n",
            "525:\tlearn: 0.7108692\ttotal: 2m 31s\tremaining: 2m 16s\n",
            "526:\tlearn: 0.7107129\ttotal: 2m 31s\tremaining: 2m 16s\n",
            "527:\tlearn: 0.7106551\ttotal: 2m 32s\tremaining: 2m 16s\n",
            "528:\tlearn: 0.7105808\ttotal: 2m 32s\tremaining: 2m 15s\n",
            "529:\tlearn: 0.7104672\ttotal: 2m 32s\tremaining: 2m 15s\n",
            "530:\tlearn: 0.7102820\ttotal: 2m 32s\tremaining: 2m 14s\n",
            "531:\tlearn: 0.7102438\ttotal: 2m 32s\tremaining: 2m 14s\n",
            "532:\tlearn: 0.7101926\ttotal: 2m 33s\tremaining: 2m 14s\n",
            "533:\tlearn: 0.7100900\ttotal: 2m 33s\tremaining: 2m 13s\n",
            "534:\tlearn: 0.7099663\ttotal: 2m 33s\tremaining: 2m 13s\n",
            "535:\tlearn: 0.7098638\ttotal: 2m 33s\tremaining: 2m 13s\n",
            "536:\tlearn: 0.7098075\ttotal: 2m 33s\tremaining: 2m 12s\n",
            "537:\tlearn: 0.7096890\ttotal: 2m 34s\tremaining: 2m 12s\n",
            "538:\tlearn: 0.7094636\ttotal: 2m 34s\tremaining: 2m 12s\n",
            "539:\tlearn: 0.7093687\ttotal: 2m 34s\tremaining: 2m 11s\n",
            "540:\tlearn: 0.7093065\ttotal: 2m 35s\tremaining: 2m 11s\n",
            "541:\tlearn: 0.7091529\ttotal: 2m 35s\tremaining: 2m 11s\n",
            "542:\tlearn: 0.7090584\ttotal: 2m 36s\tremaining: 2m 11s\n",
            "543:\tlearn: 0.7090154\ttotal: 2m 36s\tremaining: 2m 11s\n",
            "544:\tlearn: 0.7088955\ttotal: 2m 37s\tremaining: 2m 11s\n",
            "545:\tlearn: 0.7087954\ttotal: 2m 37s\tremaining: 2m 11s\n",
            "546:\tlearn: 0.7086969\ttotal: 2m 38s\tremaining: 2m 11s\n",
            "547:\tlearn: 0.7086437\ttotal: 2m 38s\tremaining: 2m 10s\n",
            "548:\tlearn: 0.7085520\ttotal: 2m 38s\tremaining: 2m 10s\n",
            "549:\tlearn: 0.7084052\ttotal: 2m 39s\tremaining: 2m 10s\n",
            "550:\tlearn: 0.7083429\ttotal: 2m 39s\tremaining: 2m 9s\n",
            "551:\tlearn: 0.7082145\ttotal: 2m 39s\tremaining: 2m 9s\n",
            "552:\tlearn: 0.7081353\ttotal: 2m 40s\tremaining: 2m 9s\n",
            "553:\tlearn: 0.7080139\ttotal: 2m 40s\tremaining: 2m 9s\n",
            "554:\tlearn: 0.7078555\ttotal: 2m 40s\tremaining: 2m 8s\n",
            "555:\tlearn: 0.7077900\ttotal: 2m 41s\tremaining: 2m 8s\n",
            "556:\tlearn: 0.7077049\ttotal: 2m 41s\tremaining: 2m 8s\n",
            "557:\tlearn: 0.7075138\ttotal: 2m 41s\tremaining: 2m 8s\n",
            "558:\tlearn: 0.7074496\ttotal: 2m 42s\tremaining: 2m 7s\n",
            "559:\tlearn: 0.7071983\ttotal: 2m 42s\tremaining: 2m 7s\n",
            "560:\tlearn: 0.7070951\ttotal: 2m 42s\tremaining: 2m 7s\n",
            "561:\tlearn: 0.7070050\ttotal: 2m 42s\tremaining: 2m 6s\n",
            "562:\tlearn: 0.7068446\ttotal: 2m 42s\tremaining: 2m 6s\n",
            "563:\tlearn: 0.7067057\ttotal: 2m 43s\tremaining: 2m 6s\n",
            "564:\tlearn: 0.7065572\ttotal: 2m 43s\tremaining: 2m 5s\n",
            "565:\tlearn: 0.7064852\ttotal: 2m 43s\tremaining: 2m 5s\n",
            "566:\tlearn: 0.7063085\ttotal: 2m 43s\tremaining: 2m 5s\n",
            "567:\tlearn: 0.7061298\ttotal: 2m 43s\tremaining: 2m 4s\n",
            "568:\tlearn: 0.7060469\ttotal: 2m 44s\tremaining: 2m 4s\n",
            "569:\tlearn: 0.7058945\ttotal: 2m 44s\tremaining: 2m 3s\n",
            "570:\tlearn: 0.7058293\ttotal: 2m 44s\tremaining: 2m 3s\n",
            "571:\tlearn: 0.7057395\ttotal: 2m 44s\tremaining: 2m 3s\n",
            "572:\tlearn: 0.7055552\ttotal: 2m 44s\tremaining: 2m 2s\n",
            "573:\tlearn: 0.7053992\ttotal: 2m 45s\tremaining: 2m 2s\n",
            "574:\tlearn: 0.7053268\ttotal: 2m 45s\tremaining: 2m 2s\n",
            "575:\tlearn: 0.7051435\ttotal: 2m 45s\tremaining: 2m 1s\n",
            "576:\tlearn: 0.7049556\ttotal: 2m 45s\tremaining: 2m 1s\n",
            "577:\tlearn: 0.7047173\ttotal: 2m 45s\tremaining: 2m 1s\n",
            "578:\tlearn: 0.7045962\ttotal: 2m 46s\tremaining: 2m\n",
            "579:\tlearn: 0.7045070\ttotal: 2m 46s\tremaining: 2m\n",
            "580:\tlearn: 0.7044303\ttotal: 2m 46s\tremaining: 1m 59s\n",
            "581:\tlearn: 0.7043312\ttotal: 2m 46s\tremaining: 1m 59s\n",
            "582:\tlearn: 0.7041405\ttotal: 2m 46s\tremaining: 1m 59s\n",
            "583:\tlearn: 0.7040494\ttotal: 2m 46s\tremaining: 1m 58s\n",
            "584:\tlearn: 0.7039832\ttotal: 2m 47s\tremaining: 1m 58s\n",
            "585:\tlearn: 0.7038683\ttotal: 2m 47s\tremaining: 1m 58s\n",
            "586:\tlearn: 0.7037741\ttotal: 2m 47s\tremaining: 1m 57s\n",
            "587:\tlearn: 0.7037363\ttotal: 2m 47s\tremaining: 1m 57s\n",
            "588:\tlearn: 0.7035566\ttotal: 2m 48s\tremaining: 1m 57s\n",
            "589:\tlearn: 0.7034283\ttotal: 2m 48s\tremaining: 1m 57s\n",
            "590:\tlearn: 0.7033140\ttotal: 2m 48s\tremaining: 1m 56s\n",
            "591:\tlearn: 0.7031139\ttotal: 2m 49s\tremaining: 1m 56s\n",
            "592:\tlearn: 0.7029478\ttotal: 2m 49s\tremaining: 1m 56s\n",
            "593:\tlearn: 0.7027496\ttotal: 2m 49s\tremaining: 1m 56s\n",
            "594:\tlearn: 0.7025810\ttotal: 2m 50s\tremaining: 1m 55s\n",
            "595:\tlearn: 0.7023745\ttotal: 2m 50s\tremaining: 1m 55s\n",
            "596:\tlearn: 0.7022746\ttotal: 2m 50s\tremaining: 1m 55s\n",
            "597:\tlearn: 0.7021854\ttotal: 2m 51s\tremaining: 1m 55s\n",
            "598:\tlearn: 0.7020859\ttotal: 2m 51s\tremaining: 1m 54s\n",
            "599:\tlearn: 0.7018914\ttotal: 2m 51s\tremaining: 1m 54s\n",
            "600:\tlearn: 0.7017912\ttotal: 2m 51s\tremaining: 1m 53s\n",
            "601:\tlearn: 0.7017266\ttotal: 2m 51s\tremaining: 1m 53s\n",
            "602:\tlearn: 0.7016792\ttotal: 2m 52s\tremaining: 1m 53s\n",
            "603:\tlearn: 0.7015880\ttotal: 2m 52s\tremaining: 1m 52s\n",
            "604:\tlearn: 0.7014637\ttotal: 2m 52s\tremaining: 1m 52s\n",
            "605:\tlearn: 0.7012832\ttotal: 2m 52s\tremaining: 1m 52s\n",
            "606:\tlearn: 0.7011688\ttotal: 2m 52s\tremaining: 1m 51s\n",
            "607:\tlearn: 0.7010767\ttotal: 2m 53s\tremaining: 1m 51s\n",
            "608:\tlearn: 0.7010040\ttotal: 2m 53s\tremaining: 1m 51s\n",
            "609:\tlearn: 0.7009312\ttotal: 2m 53s\tremaining: 1m 50s\n",
            "610:\tlearn: 0.7007786\ttotal: 2m 53s\tremaining: 1m 50s\n",
            "611:\tlearn: 0.7006335\ttotal: 2m 54s\tremaining: 1m 50s\n",
            "612:\tlearn: 0.7004443\ttotal: 2m 54s\tremaining: 1m 50s\n",
            "613:\tlearn: 0.7003762\ttotal: 2m 54s\tremaining: 1m 49s\n",
            "614:\tlearn: 0.7003053\ttotal: 2m 55s\tremaining: 1m 49s\n",
            "615:\tlearn: 0.7002404\ttotal: 2m 55s\tremaining: 1m 49s\n",
            "616:\tlearn: 0.7001777\ttotal: 2m 55s\tremaining: 1m 49s\n",
            "617:\tlearn: 0.7000462\ttotal: 2m 56s\tremaining: 1m 48s\n",
            "618:\tlearn: 0.6997902\ttotal: 2m 56s\tremaining: 1m 48s\n",
            "619:\tlearn: 0.6997236\ttotal: 2m 57s\tremaining: 1m 48s\n",
            "620:\tlearn: 0.6995828\ttotal: 2m 57s\tremaining: 1m 48s\n",
            "621:\tlearn: 0.6994894\ttotal: 2m 58s\tremaining: 1m 48s\n",
            "622:\tlearn: 0.6994465\ttotal: 2m 58s\tremaining: 1m 48s\n",
            "623:\tlearn: 0.6993063\ttotal: 2m 59s\tremaining: 1m 47s\n",
            "624:\tlearn: 0.6992104\ttotal: 2m 59s\tremaining: 1m 47s\n",
            "625:\tlearn: 0.6991162\ttotal: 3m\tremaining: 1m 47s\n",
            "626:\tlearn: 0.6990456\ttotal: 3m\tremaining: 1m 47s\n",
            "627:\tlearn: 0.6989300\ttotal: 3m\tremaining: 1m 47s\n",
            "628:\tlearn: 0.6988240\ttotal: 3m\tremaining: 1m 46s\n",
            "629:\tlearn: 0.6986387\ttotal: 3m 1s\tremaining: 1m 46s\n",
            "630:\tlearn: 0.6986057\ttotal: 3m 2s\tremaining: 1m 46s\n",
            "631:\tlearn: 0.6984902\ttotal: 3m 2s\tremaining: 1m 46s\n",
            "632:\tlearn: 0.6984390\ttotal: 3m 3s\tremaining: 1m 46s\n",
            "633:\tlearn: 0.6983165\ttotal: 3m 4s\tremaining: 1m 46s\n",
            "634:\tlearn: 0.6982404\ttotal: 3m 4s\tremaining: 1m 46s\n",
            "635:\tlearn: 0.6981411\ttotal: 3m 4s\tremaining: 1m 45s\n",
            "636:\tlearn: 0.6980481\ttotal: 3m 5s\tremaining: 1m 45s\n",
            "637:\tlearn: 0.6979673\ttotal: 3m 5s\tremaining: 1m 45s\n",
            "638:\tlearn: 0.6978730\ttotal: 3m 5s\tremaining: 1m 44s\n",
            "639:\tlearn: 0.6978328\ttotal: 3m 6s\tremaining: 1m 44s\n",
            "640:\tlearn: 0.6977579\ttotal: 3m 6s\tremaining: 1m 44s\n",
            "641:\tlearn: 0.6976819\ttotal: 3m 6s\tremaining: 1m 44s\n",
            "642:\tlearn: 0.6975406\ttotal: 3m 6s\tremaining: 1m 43s\n",
            "643:\tlearn: 0.6973751\ttotal: 3m 7s\tremaining: 1m 43s\n",
            "644:\tlearn: 0.6972988\ttotal: 3m 7s\tremaining: 1m 43s\n",
            "645:\tlearn: 0.6972141\ttotal: 3m 7s\tremaining: 1m 42s\n",
            "646:\tlearn: 0.6971358\ttotal: 3m 7s\tremaining: 1m 42s\n",
            "647:\tlearn: 0.6970688\ttotal: 3m 8s\tremaining: 1m 42s\n",
            "648:\tlearn: 0.6969154\ttotal: 3m 8s\tremaining: 1m 41s\n",
            "649:\tlearn: 0.6968081\ttotal: 3m 8s\tremaining: 1m 41s\n",
            "650:\tlearn: 0.6967094\ttotal: 3m 8s\tremaining: 1m 41s\n",
            "651:\tlearn: 0.6966466\ttotal: 3m 8s\tremaining: 1m 40s\n",
            "652:\tlearn: 0.6965765\ttotal: 3m 9s\tremaining: 1m 40s\n",
            "653:\tlearn: 0.6964735\ttotal: 3m 9s\tremaining: 1m 40s\n",
            "654:\tlearn: 0.6963890\ttotal: 3m 9s\tremaining: 1m 39s\n",
            "655:\tlearn: 0.6961421\ttotal: 3m 9s\tremaining: 1m 39s\n",
            "656:\tlearn: 0.6960692\ttotal: 3m 9s\tremaining: 1m 39s\n",
            "657:\tlearn: 0.6960025\ttotal: 3m 10s\tremaining: 1m 38s\n",
            "658:\tlearn: 0.6958788\ttotal: 3m 10s\tremaining: 1m 38s\n",
            "659:\tlearn: 0.6956273\ttotal: 3m 10s\tremaining: 1m 38s\n",
            "660:\tlearn: 0.6954751\ttotal: 3m 11s\tremaining: 1m 37s\n",
            "661:\tlearn: 0.6954054\ttotal: 3m 11s\tremaining: 1m 37s\n",
            "662:\tlearn: 0.6952717\ttotal: 3m 11s\tremaining: 1m 37s\n",
            "663:\tlearn: 0.6951902\ttotal: 3m 12s\tremaining: 1m 37s\n",
            "664:\tlearn: 0.6951016\ttotal: 3m 12s\tremaining: 1m 36s\n",
            "665:\tlearn: 0.6950072\ttotal: 3m 12s\tremaining: 1m 36s\n",
            "666:\tlearn: 0.6949557\ttotal: 3m 13s\tremaining: 1m 36s\n",
            "667:\tlearn: 0.6948903\ttotal: 3m 13s\tremaining: 1m 36s\n",
            "668:\tlearn: 0.6947864\ttotal: 3m 13s\tremaining: 1m 35s\n",
            "669:\tlearn: 0.6946640\ttotal: 3m 14s\tremaining: 1m 35s\n",
            "670:\tlearn: 0.6945444\ttotal: 3m 14s\tremaining: 1m 35s\n",
            "671:\tlearn: 0.6944709\ttotal: 3m 14s\tremaining: 1m 35s\n",
            "672:\tlearn: 0.6944250\ttotal: 3m 14s\tremaining: 1m 34s\n",
            "673:\tlearn: 0.6943440\ttotal: 3m 15s\tremaining: 1m 34s\n",
            "674:\tlearn: 0.6942964\ttotal: 3m 16s\tremaining: 1m 34s\n",
            "675:\tlearn: 0.6941774\ttotal: 3m 16s\tremaining: 1m 34s\n",
            "676:\tlearn: 0.6940945\ttotal: 3m 17s\tremaining: 1m 34s\n",
            "677:\tlearn: 0.6940174\ttotal: 3m 17s\tremaining: 1m 33s\n",
            "678:\tlearn: 0.6938240\ttotal: 3m 17s\tremaining: 1m 33s\n",
            "679:\tlearn: 0.6937241\ttotal: 3m 18s\tremaining: 1m 33s\n",
            "680:\tlearn: 0.6935999\ttotal: 3m 18s\tremaining: 1m 33s\n",
            "681:\tlearn: 0.6935657\ttotal: 3m 19s\tremaining: 1m 32s\n",
            "682:\tlearn: 0.6934125\ttotal: 3m 19s\tremaining: 1m 32s\n",
            "683:\tlearn: 0.6933482\ttotal: 3m 19s\tremaining: 1m 32s\n",
            "684:\tlearn: 0.6932532\ttotal: 3m 19s\tremaining: 1m 31s\n",
            "685:\tlearn: 0.6931817\ttotal: 3m 19s\tremaining: 1m 31s\n",
            "686:\tlearn: 0.6930968\ttotal: 3m 20s\tremaining: 1m 31s\n",
            "687:\tlearn: 0.6930213\ttotal: 3m 20s\tremaining: 1m 30s\n",
            "688:\tlearn: 0.6929305\ttotal: 3m 20s\tremaining: 1m 30s\n",
            "689:\tlearn: 0.6928098\ttotal: 3m 20s\tremaining: 1m 30s\n",
            "690:\tlearn: 0.6926762\ttotal: 3m 20s\tremaining: 1m 29s\n",
            "691:\tlearn: 0.6925454\ttotal: 3m 21s\tremaining: 1m 29s\n",
            "692:\tlearn: 0.6924372\ttotal: 3m 21s\tremaining: 1m 29s\n",
            "693:\tlearn: 0.6923557\ttotal: 3m 21s\tremaining: 1m 28s\n",
            "694:\tlearn: 0.6922964\ttotal: 3m 21s\tremaining: 1m 28s\n",
            "695:\tlearn: 0.6922255\ttotal: 3m 21s\tremaining: 1m 28s\n",
            "696:\tlearn: 0.6921460\ttotal: 3m 22s\tremaining: 1m 27s\n",
            "697:\tlearn: 0.6920686\ttotal: 3m 22s\tremaining: 1m 27s\n",
            "698:\tlearn: 0.6919627\ttotal: 3m 22s\tremaining: 1m 27s\n",
            "699:\tlearn: 0.6918691\ttotal: 3m 22s\tremaining: 1m 26s\n",
            "700:\tlearn: 0.6917768\ttotal: 3m 22s\tremaining: 1m 26s\n",
            "701:\tlearn: 0.6917200\ttotal: 3m 23s\tremaining: 1m 26s\n",
            "702:\tlearn: 0.6915221\ttotal: 3m 23s\tremaining: 1m 25s\n",
            "703:\tlearn: 0.6914172\ttotal: 3m 23s\tremaining: 1m 25s\n",
            "704:\tlearn: 0.6913553\ttotal: 3m 23s\tremaining: 1m 25s\n",
            "705:\tlearn: 0.6912567\ttotal: 3m 23s\tremaining: 1m 24s\n",
            "706:\tlearn: 0.6911513\ttotal: 3m 23s\tremaining: 1m 24s\n",
            "707:\tlearn: 0.6910589\ttotal: 3m 24s\tremaining: 1m 24s\n",
            "708:\tlearn: 0.6909548\ttotal: 3m 24s\tremaining: 1m 23s\n",
            "709:\tlearn: 0.6908513\ttotal: 3m 24s\tremaining: 1m 23s\n",
            "710:\tlearn: 0.6907804\ttotal: 3m 24s\tremaining: 1m 23s\n",
            "711:\tlearn: 0.6906887\ttotal: 3m 24s\tremaining: 1m 22s\n",
            "712:\tlearn: 0.6905935\ttotal: 3m 25s\tremaining: 1m 22s\n",
            "713:\tlearn: 0.6905395\ttotal: 3m 25s\tremaining: 1m 22s\n",
            "714:\tlearn: 0.6904848\ttotal: 3m 25s\tremaining: 1m 21s\n",
            "715:\tlearn: 0.6903755\ttotal: 3m 25s\tremaining: 1m 21s\n",
            "716:\tlearn: 0.6902795\ttotal: 3m 25s\tremaining: 1m 21s\n",
            "717:\tlearn: 0.6901380\ttotal: 3m 26s\tremaining: 1m 20s\n",
            "718:\tlearn: 0.6900536\ttotal: 3m 26s\tremaining: 1m 20s\n",
            "719:\tlearn: 0.6898431\ttotal: 3m 26s\tremaining: 1m 20s\n",
            "720:\tlearn: 0.6897310\ttotal: 3m 26s\tremaining: 1m 19s\n",
            "721:\tlearn: 0.6896794\ttotal: 3m 26s\tremaining: 1m 19s\n",
            "722:\tlearn: 0.6895828\ttotal: 3m 27s\tremaining: 1m 19s\n",
            "723:\tlearn: 0.6895413\ttotal: 3m 27s\tremaining: 1m 19s\n",
            "724:\tlearn: 0.6894580\ttotal: 3m 27s\tremaining: 1m 18s\n",
            "725:\tlearn: 0.6893862\ttotal: 3m 27s\tremaining: 1m 18s\n",
            "726:\tlearn: 0.6893044\ttotal: 3m 27s\tremaining: 1m 18s\n",
            "727:\tlearn: 0.6892195\ttotal: 3m 28s\tremaining: 1m 17s\n",
            "728:\tlearn: 0.6891632\ttotal: 3m 28s\tremaining: 1m 17s\n",
            "729:\tlearn: 0.6891051\ttotal: 3m 28s\tremaining: 1m 17s\n",
            "730:\tlearn: 0.6889774\ttotal: 3m 28s\tremaining: 1m 16s\n",
            "731:\tlearn: 0.6888481\ttotal: 3m 29s\tremaining: 1m 16s\n",
            "732:\tlearn: 0.6887769\ttotal: 3m 29s\tremaining: 1m 16s\n",
            "733:\tlearn: 0.6887011\ttotal: 3m 29s\tremaining: 1m 16s\n",
            "734:\tlearn: 0.6886537\ttotal: 3m 30s\tremaining: 1m 15s\n",
            "735:\tlearn: 0.6885828\ttotal: 3m 30s\tremaining: 1m 15s\n",
            "736:\tlearn: 0.6884645\ttotal: 3m 31s\tremaining: 1m 15s\n",
            "737:\tlearn: 0.6883843\ttotal: 3m 31s\tremaining: 1m 15s\n",
            "738:\tlearn: 0.6882157\ttotal: 3m 31s\tremaining: 1m 14s\n",
            "739:\tlearn: 0.6881754\ttotal: 3m 32s\tremaining: 1m 14s\n",
            "740:\tlearn: 0.6880930\ttotal: 3m 32s\tremaining: 1m 14s\n",
            "741:\tlearn: 0.6880124\ttotal: 3m 32s\tremaining: 1m 14s\n",
            "742:\tlearn: 0.6879200\ttotal: 3m 33s\tremaining: 1m 13s\n",
            "743:\tlearn: 0.6878375\ttotal: 3m 33s\tremaining: 1m 13s\n",
            "744:\tlearn: 0.6877618\ttotal: 3m 33s\tremaining: 1m 13s\n",
            "745:\tlearn: 0.6876677\ttotal: 3m 34s\tremaining: 1m 12s\n",
            "746:\tlearn: 0.6876139\ttotal: 3m 34s\tremaining: 1m 12s\n",
            "747:\tlearn: 0.6874856\ttotal: 3m 34s\tremaining: 1m 12s\n",
            "748:\tlearn: 0.6874104\ttotal: 3m 35s\tremaining: 1m 12s\n",
            "749:\tlearn: 0.6873009\ttotal: 3m 35s\tremaining: 1m 11s\n",
            "750:\tlearn: 0.6871914\ttotal: 3m 35s\tremaining: 1m 11s\n",
            "751:\tlearn: 0.6871284\ttotal: 3m 36s\tremaining: 1m 11s\n",
            "752:\tlearn: 0.6870525\ttotal: 3m 36s\tremaining: 1m 11s\n",
            "753:\tlearn: 0.6869642\ttotal: 3m 36s\tremaining: 1m 10s\n",
            "754:\tlearn: 0.6868117\ttotal: 3m 37s\tremaining: 1m 10s\n",
            "755:\tlearn: 0.6866974\ttotal: 3m 37s\tremaining: 1m 10s\n",
            "756:\tlearn: 0.6866494\ttotal: 3m 37s\tremaining: 1m 9s\n",
            "757:\tlearn: 0.6865535\ttotal: 3m 38s\tremaining: 1m 9s\n",
            "758:\tlearn: 0.6864140\ttotal: 3m 38s\tremaining: 1m 9s\n",
            "759:\tlearn: 0.6863588\ttotal: 3m 38s\tremaining: 1m 9s\n",
            "760:\tlearn: 0.6861856\ttotal: 3m 39s\tremaining: 1m 8s\n",
            "761:\tlearn: 0.6861234\ttotal: 3m 39s\tremaining: 1m 8s\n",
            "762:\tlearn: 0.6860068\ttotal: 3m 39s\tremaining: 1m 8s\n",
            "763:\tlearn: 0.6859115\ttotal: 3m 39s\tremaining: 1m 7s\n",
            "764:\tlearn: 0.6858535\ttotal: 3m 40s\tremaining: 1m 7s\n",
            "765:\tlearn: 0.6857978\ttotal: 3m 40s\tremaining: 1m 7s\n",
            "766:\tlearn: 0.6856797\ttotal: 3m 40s\tremaining: 1m 6s\n",
            "767:\tlearn: 0.6856056\ttotal: 3m 40s\tremaining: 1m 6s\n",
            "768:\tlearn: 0.6855320\ttotal: 3m 40s\tremaining: 1m 6s\n",
            "769:\tlearn: 0.6853284\ttotal: 3m 41s\tremaining: 1m 6s\n",
            "770:\tlearn: 0.6852254\ttotal: 3m 41s\tremaining: 1m 5s\n",
            "771:\tlearn: 0.6851674\ttotal: 3m 41s\tremaining: 1m 5s\n",
            "772:\tlearn: 0.6851014\ttotal: 3m 41s\tremaining: 1m 5s\n",
            "773:\tlearn: 0.6850367\ttotal: 3m 41s\tremaining: 1m 4s\n",
            "774:\tlearn: 0.6849694\ttotal: 3m 42s\tremaining: 1m 4s\n",
            "775:\tlearn: 0.6848294\ttotal: 3m 42s\tremaining: 1m 4s\n",
            "776:\tlearn: 0.6847069\ttotal: 3m 42s\tremaining: 1m 3s\n",
            "777:\tlearn: 0.6846386\ttotal: 3m 43s\tremaining: 1m 3s\n",
            "778:\tlearn: 0.6845537\ttotal: 3m 43s\tremaining: 1m 3s\n",
            "779:\tlearn: 0.6844451\ttotal: 3m 44s\tremaining: 1m 3s\n",
            "780:\tlearn: 0.6843575\ttotal: 3m 44s\tremaining: 1m 3s\n",
            "781:\tlearn: 0.6841676\ttotal: 3m 45s\tremaining: 1m 2s\n",
            "782:\tlearn: 0.6841212\ttotal: 3m 45s\tremaining: 1m 2s\n",
            "783:\tlearn: 0.6838253\ttotal: 3m 45s\tremaining: 1m 2s\n",
            "784:\tlearn: 0.6837738\ttotal: 3m 46s\tremaining: 1m 1s\n",
            "785:\tlearn: 0.6837318\ttotal: 3m 46s\tremaining: 1m 1s\n",
            "786:\tlearn: 0.6836599\ttotal: 3m 46s\tremaining: 1m 1s\n",
            "787:\tlearn: 0.6835647\ttotal: 3m 47s\tremaining: 1m 1s\n",
            "788:\tlearn: 0.6834908\ttotal: 3m 47s\tremaining: 1m\n",
            "789:\tlearn: 0.6834170\ttotal: 3m 47s\tremaining: 1m\n",
            "790:\tlearn: 0.6832764\ttotal: 3m 48s\tremaining: 1m\n",
            "791:\tlearn: 0.6831714\ttotal: 3m 48s\tremaining: 60s\n",
            "792:\tlearn: 0.6831188\ttotal: 3m 48s\tremaining: 59.7s\n",
            "793:\tlearn: 0.6829667\ttotal: 3m 49s\tremaining: 59.4s\n",
            "794:\tlearn: 0.6828968\ttotal: 3m 49s\tremaining: 59.2s\n",
            "795:\tlearn: 0.6826259\ttotal: 3m 50s\tremaining: 59s\n",
            "796:\tlearn: 0.6825416\ttotal: 3m 50s\tremaining: 58.8s\n",
            "797:\tlearn: 0.6824897\ttotal: 3m 51s\tremaining: 58.7s\n",
            "798:\tlearn: 0.6824366\ttotal: 3m 52s\tremaining: 58.5s\n",
            "799:\tlearn: 0.6823467\ttotal: 3m 52s\tremaining: 58.2s\n",
            "800:\tlearn: 0.6822479\ttotal: 3m 53s\tremaining: 57.9s\n",
            "801:\tlearn: 0.6821636\ttotal: 3m 53s\tremaining: 57.6s\n",
            "802:\tlearn: 0.6820660\ttotal: 3m 53s\tremaining: 57.3s\n",
            "803:\tlearn: 0.6820161\ttotal: 3m 53s\tremaining: 57s\n",
            "804:\tlearn: 0.6819338\ttotal: 3m 54s\tremaining: 56.7s\n",
            "805:\tlearn: 0.6818776\ttotal: 3m 54s\tremaining: 56.4s\n",
            "806:\tlearn: 0.6817861\ttotal: 3m 54s\tremaining: 56.1s\n",
            "807:\tlearn: 0.6816985\ttotal: 3m 54s\tremaining: 55.8s\n",
            "808:\tlearn: 0.6816251\ttotal: 3m 54s\tremaining: 55.4s\n",
            "809:\tlearn: 0.6815750\ttotal: 3m 55s\tremaining: 55.1s\n",
            "810:\tlearn: 0.6815097\ttotal: 3m 55s\tremaining: 54.8s\n",
            "811:\tlearn: 0.6814798\ttotal: 3m 55s\tremaining: 54.5s\n",
            "812:\tlearn: 0.6814082\ttotal: 3m 55s\tremaining: 54.3s\n",
            "813:\tlearn: 0.6813048\ttotal: 3m 56s\tremaining: 54s\n",
            "814:\tlearn: 0.6811440\ttotal: 3m 56s\tremaining: 53.7s\n",
            "815:\tlearn: 0.6810611\ttotal: 3m 56s\tremaining: 53.4s\n",
            "816:\tlearn: 0.6810204\ttotal: 3m 57s\tremaining: 53.1s\n",
            "817:\tlearn: 0.6809484\ttotal: 3m 57s\tremaining: 52.9s\n",
            "818:\tlearn: 0.6808726\ttotal: 3m 57s\tremaining: 52.6s\n",
            "819:\tlearn: 0.6808340\ttotal: 3m 58s\tremaining: 52.3s\n",
            "820:\tlearn: 0.6807446\ttotal: 3m 58s\tremaining: 52s\n",
            "821:\tlearn: 0.6806725\ttotal: 3m 58s\tremaining: 51.7s\n",
            "822:\tlearn: 0.6805778\ttotal: 3m 58s\tremaining: 51.4s\n",
            "823:\tlearn: 0.6805185\ttotal: 3m 59s\tremaining: 51.1s\n",
            "824:\tlearn: 0.6804382\ttotal: 3m 59s\tremaining: 50.8s\n",
            "825:\tlearn: 0.6803369\ttotal: 3m 59s\tremaining: 50.5s\n",
            "826:\tlearn: 0.6801563\ttotal: 3m 59s\tremaining: 50.1s\n",
            "827:\tlearn: 0.6800522\ttotal: 3m 59s\tremaining: 49.8s\n",
            "828:\tlearn: 0.6799732\ttotal: 4m\tremaining: 49.5s\n",
            "829:\tlearn: 0.6797194\ttotal: 4m\tremaining: 49.2s\n",
            "830:\tlearn: 0.6796564\ttotal: 4m\tremaining: 48.9s\n",
            "831:\tlearn: 0.6795874\ttotal: 4m\tremaining: 48.6s\n",
            "832:\tlearn: 0.6794983\ttotal: 4m\tremaining: 48.3s\n",
            "833:\tlearn: 0.6794180\ttotal: 4m 1s\tremaining: 48s\n",
            "834:\tlearn: 0.6793500\ttotal: 4m 1s\tremaining: 47.7s\n",
            "835:\tlearn: 0.6792361\ttotal: 4m 1s\tremaining: 47.4s\n",
            "836:\tlearn: 0.6791537\ttotal: 4m 1s\tremaining: 47.1s\n",
            "837:\tlearn: 0.6791027\ttotal: 4m 1s\tremaining: 46.8s\n",
            "838:\tlearn: 0.6790602\ttotal: 4m 2s\tremaining: 46.5s\n",
            "839:\tlearn: 0.6790035\ttotal: 4m 2s\tremaining: 46.2s\n",
            "840:\tlearn: 0.6789300\ttotal: 4m 2s\tremaining: 45.9s\n",
            "841:\tlearn: 0.6788650\ttotal: 4m 2s\tremaining: 45.5s\n",
            "842:\tlearn: 0.6788206\ttotal: 4m 2s\tremaining: 45.2s\n",
            "843:\tlearn: 0.6787390\ttotal: 4m 3s\tremaining: 44.9s\n",
            "844:\tlearn: 0.6785045\ttotal: 4m 3s\tremaining: 44.6s\n",
            "845:\tlearn: 0.6784430\ttotal: 4m 3s\tremaining: 44.3s\n",
            "846:\tlearn: 0.6783948\ttotal: 4m 3s\tremaining: 44s\n",
            "847:\tlearn: 0.6782881\ttotal: 4m 3s\tremaining: 43.7s\n",
            "848:\tlearn: 0.6782262\ttotal: 4m 4s\tremaining: 43.4s\n",
            "849:\tlearn: 0.6780721\ttotal: 4m 4s\tremaining: 43.1s\n",
            "850:\tlearn: 0.6779765\ttotal: 4m 4s\tremaining: 42.8s\n",
            "851:\tlearn: 0.6778990\ttotal: 4m 4s\tremaining: 42.5s\n",
            "852:\tlearn: 0.6778016\ttotal: 4m 4s\tremaining: 42.2s\n",
            "853:\tlearn: 0.6777500\ttotal: 4m 5s\tremaining: 41.9s\n",
            "854:\tlearn: 0.6776944\ttotal: 4m 5s\tremaining: 41.6s\n",
            "855:\tlearn: 0.6775704\ttotal: 4m 5s\tremaining: 41.3s\n",
            "856:\tlearn: 0.6775302\ttotal: 4m 5s\tremaining: 41s\n",
            "857:\tlearn: 0.6774448\ttotal: 4m 6s\tremaining: 40.7s\n",
            "858:\tlearn: 0.6773499\ttotal: 4m 6s\tremaining: 40.4s\n",
            "859:\tlearn: 0.6772869\ttotal: 4m 6s\tremaining: 40.1s\n",
            "860:\tlearn: 0.6772180\ttotal: 4m 6s\tremaining: 39.9s\n",
            "861:\tlearn: 0.6771508\ttotal: 4m 7s\tremaining: 39.6s\n",
            "862:\tlearn: 0.6771117\ttotal: 4m 7s\tremaining: 39.3s\n",
            "863:\tlearn: 0.6770705\ttotal: 4m 7s\tremaining: 39s\n",
            "864:\tlearn: 0.6769625\ttotal: 4m 8s\tremaining: 38.7s\n",
            "865:\tlearn: 0.6769089\ttotal: 4m 8s\tremaining: 38.5s\n",
            "866:\tlearn: 0.6768400\ttotal: 4m 8s\tremaining: 38.2s\n",
            "867:\tlearn: 0.6767618\ttotal: 4m 9s\tremaining: 37.9s\n",
            "868:\tlearn: 0.6764585\ttotal: 4m 10s\tremaining: 37.7s\n",
            "869:\tlearn: 0.6762823\ttotal: 4m 10s\tremaining: 37.4s\n",
            "870:\tlearn: 0.6762212\ttotal: 4m 11s\tremaining: 37.2s\n",
            "871:\tlearn: 0.6761144\ttotal: 4m 11s\tremaining: 36.9s\n",
            "872:\tlearn: 0.6759683\ttotal: 4m 11s\tremaining: 36.6s\n",
            "873:\tlearn: 0.6758578\ttotal: 4m 12s\tremaining: 36.4s\n",
            "874:\tlearn: 0.6757784\ttotal: 4m 12s\tremaining: 36.1s\n",
            "875:\tlearn: 0.6757108\ttotal: 4m 12s\tremaining: 35.8s\n",
            "876:\tlearn: 0.6755914\ttotal: 4m 13s\tremaining: 35.5s\n",
            "877:\tlearn: 0.6755202\ttotal: 4m 13s\tremaining: 35.2s\n",
            "878:\tlearn: 0.6753593\ttotal: 4m 13s\tremaining: 35s\n",
            "879:\tlearn: 0.6752573\ttotal: 4m 14s\tremaining: 34.7s\n",
            "880:\tlearn: 0.6752112\ttotal: 4m 14s\tremaining: 34.3s\n",
            "881:\tlearn: 0.6751791\ttotal: 4m 14s\tremaining: 34s\n",
            "882:\tlearn: 0.6751190\ttotal: 4m 14s\tremaining: 33.7s\n",
            "883:\tlearn: 0.6750302\ttotal: 4m 14s\tremaining: 33.5s\n",
            "884:\tlearn: 0.6749576\ttotal: 4m 15s\tremaining: 33.2s\n",
            "885:\tlearn: 0.6748611\ttotal: 4m 15s\tremaining: 32.9s\n",
            "886:\tlearn: 0.6747119\ttotal: 4m 15s\tremaining: 32.6s\n",
            "887:\tlearn: 0.6746668\ttotal: 4m 15s\tremaining: 32.3s\n",
            "888:\tlearn: 0.6745848\ttotal: 4m 15s\tremaining: 32s\n",
            "889:\tlearn: 0.6744502\ttotal: 4m 16s\tremaining: 31.7s\n",
            "890:\tlearn: 0.6743972\ttotal: 4m 16s\tremaining: 31.4s\n",
            "891:\tlearn: 0.6742827\ttotal: 4m 16s\tremaining: 31.1s\n",
            "892:\tlearn: 0.6742241\ttotal: 4m 16s\tremaining: 30.8s\n",
            "893:\tlearn: 0.6740686\ttotal: 4m 16s\tremaining: 30.5s\n",
            "894:\tlearn: 0.6740073\ttotal: 4m 17s\tremaining: 30.2s\n",
            "895:\tlearn: 0.6739493\ttotal: 4m 17s\tremaining: 29.9s\n",
            "896:\tlearn: 0.6738663\ttotal: 4m 17s\tremaining: 29.6s\n",
            "897:\tlearn: 0.6737807\ttotal: 4m 17s\tremaining: 29.3s\n",
            "898:\tlearn: 0.6737088\ttotal: 4m 17s\tremaining: 29s\n",
            "899:\tlearn: 0.6736451\ttotal: 4m 18s\tremaining: 28.7s\n",
            "900:\tlearn: 0.6735609\ttotal: 4m 18s\tremaining: 28.4s\n",
            "901:\tlearn: 0.6734854\ttotal: 4m 18s\tremaining: 28.1s\n",
            "902:\tlearn: 0.6733962\ttotal: 4m 18s\tremaining: 27.8s\n",
            "903:\tlearn: 0.6732740\ttotal: 4m 19s\tremaining: 27.5s\n",
            "904:\tlearn: 0.6731780\ttotal: 4m 19s\tremaining: 27.3s\n",
            "905:\tlearn: 0.6731075\ttotal: 4m 19s\tremaining: 27s\n",
            "906:\tlearn: 0.6730417\ttotal: 4m 20s\tremaining: 26.7s\n",
            "907:\tlearn: 0.6729943\ttotal: 4m 20s\tremaining: 26.4s\n",
            "908:\tlearn: 0.6729101\ttotal: 4m 20s\tremaining: 26.1s\n",
            "909:\tlearn: 0.6727931\ttotal: 4m 21s\tremaining: 25.8s\n",
            "910:\tlearn: 0.6727194\ttotal: 4m 21s\tremaining: 25.6s\n",
            "911:\tlearn: 0.6726120\ttotal: 4m 21s\tremaining: 25.3s\n",
            "912:\tlearn: 0.6725380\ttotal: 4m 22s\tremaining: 25s\n",
            "913:\tlearn: 0.6724151\ttotal: 4m 22s\tremaining: 24.7s\n",
            "914:\tlearn: 0.6723200\ttotal: 4m 23s\tremaining: 24.5s\n",
            "915:\tlearn: 0.6722338\ttotal: 4m 23s\tremaining: 24.2s\n",
            "916:\tlearn: 0.6721340\ttotal: 4m 24s\tremaining: 23.9s\n",
            "917:\tlearn: 0.6720673\ttotal: 4m 24s\tremaining: 23.7s\n",
            "918:\tlearn: 0.6720064\ttotal: 4m 25s\tremaining: 23.4s\n",
            "919:\tlearn: 0.6719261\ttotal: 4m 25s\tremaining: 23.1s\n",
            "920:\tlearn: 0.6718126\ttotal: 4m 25s\tremaining: 22.8s\n",
            "921:\tlearn: 0.6717455\ttotal: 4m 26s\tremaining: 22.5s\n",
            "922:\tlearn: 0.6716773\ttotal: 4m 26s\tremaining: 22.2s\n",
            "923:\tlearn: 0.6716429\ttotal: 4m 26s\tremaining: 21.9s\n",
            "924:\tlearn: 0.6715480\ttotal: 4m 27s\tremaining: 21.7s\n",
            "925:\tlearn: 0.6714519\ttotal: 4m 27s\tremaining: 21.4s\n",
            "926:\tlearn: 0.6712950\ttotal: 4m 27s\tremaining: 21.1s\n",
            "927:\tlearn: 0.6711580\ttotal: 4m 27s\tremaining: 20.8s\n",
            "928:\tlearn: 0.6709180\ttotal: 4m 27s\tremaining: 20.5s\n",
            "929:\tlearn: 0.6708780\ttotal: 4m 28s\tremaining: 20.2s\n",
            "930:\tlearn: 0.6708416\ttotal: 4m 28s\tremaining: 19.9s\n",
            "931:\tlearn: 0.6707580\ttotal: 4m 28s\tremaining: 19.6s\n",
            "932:\tlearn: 0.6707222\ttotal: 4m 28s\tremaining: 19.3s\n",
            "933:\tlearn: 0.6706412\ttotal: 4m 28s\tremaining: 19s\n",
            "934:\tlearn: 0.6705857\ttotal: 4m 29s\tremaining: 18.7s\n",
            "935:\tlearn: 0.6705302\ttotal: 4m 29s\tremaining: 18.4s\n",
            "936:\tlearn: 0.6704741\ttotal: 4m 29s\tremaining: 18.1s\n",
            "937:\tlearn: 0.6703704\ttotal: 4m 29s\tremaining: 17.8s\n",
            "938:\tlearn: 0.6703054\ttotal: 4m 29s\tremaining: 17.5s\n",
            "939:\tlearn: 0.6701833\ttotal: 4m 30s\tremaining: 17.2s\n",
            "940:\tlearn: 0.6701143\ttotal: 4m 30s\tremaining: 16.9s\n",
            "941:\tlearn: 0.6700414\ttotal: 4m 30s\tremaining: 16.7s\n",
            "942:\tlearn: 0.6699818\ttotal: 4m 30s\tremaining: 16.4s\n",
            "943:\tlearn: 0.6699376\ttotal: 4m 30s\tremaining: 16.1s\n",
            "944:\tlearn: 0.6698046\ttotal: 4m 31s\tremaining: 15.8s\n",
            "945:\tlearn: 0.6697087\ttotal: 4m 31s\tremaining: 15.5s\n",
            "946:\tlearn: 0.6696260\ttotal: 4m 31s\tremaining: 15.2s\n",
            "947:\tlearn: 0.6695190\ttotal: 4m 31s\tremaining: 14.9s\n",
            "948:\tlearn: 0.6693767\ttotal: 4m 31s\tremaining: 14.6s\n",
            "949:\tlearn: 0.6693327\ttotal: 4m 31s\tremaining: 14.3s\n",
            "950:\tlearn: 0.6692618\ttotal: 4m 32s\tremaining: 14s\n",
            "951:\tlearn: 0.6691595\ttotal: 4m 32s\tremaining: 13.7s\n",
            "952:\tlearn: 0.6690681\ttotal: 4m 32s\tremaining: 13.4s\n",
            "953:\tlearn: 0.6689512\ttotal: 4m 32s\tremaining: 13.2s\n",
            "954:\tlearn: 0.6688605\ttotal: 4m 32s\tremaining: 12.9s\n",
            "955:\tlearn: 0.6687738\ttotal: 4m 33s\tremaining: 12.6s\n",
            "956:\tlearn: 0.6687007\ttotal: 4m 33s\tremaining: 12.3s\n",
            "957:\tlearn: 0.6685211\ttotal: 4m 33s\tremaining: 12s\n",
            "958:\tlearn: 0.6684814\ttotal: 4m 33s\tremaining: 11.7s\n",
            "959:\tlearn: 0.6684080\ttotal: 4m 33s\tremaining: 11.4s\n",
            "960:\tlearn: 0.6683235\ttotal: 4m 34s\tremaining: 11.1s\n",
            "961:\tlearn: 0.6682579\ttotal: 4m 34s\tremaining: 10.8s\n",
            "962:\tlearn: 0.6681952\ttotal: 4m 34s\tremaining: 10.5s\n",
            "963:\tlearn: 0.6681303\ttotal: 4m 34s\tremaining: 10.3s\n",
            "964:\tlearn: 0.6680587\ttotal: 4m 34s\tremaining: 9.97s\n",
            "965:\tlearn: 0.6679946\ttotal: 4m 35s\tremaining: 9.68s\n",
            "966:\tlearn: 0.6679307\ttotal: 4m 35s\tremaining: 9.4s\n",
            "967:\tlearn: 0.6678943\ttotal: 4m 35s\tremaining: 9.12s\n",
            "968:\tlearn: 0.6677474\ttotal: 4m 36s\tremaining: 8.84s\n",
            "969:\tlearn: 0.6676828\ttotal: 4m 36s\tremaining: 8.55s\n",
            "970:\tlearn: 0.6674770\ttotal: 4m 36s\tremaining: 8.27s\n",
            "971:\tlearn: 0.6673100\ttotal: 4m 37s\tremaining: 7.99s\n",
            "972:\tlearn: 0.6672609\ttotal: 4m 37s\tremaining: 7.7s\n",
            "973:\tlearn: 0.6671574\ttotal: 4m 37s\tremaining: 7.42s\n",
            "974:\tlearn: 0.6670657\ttotal: 4m 38s\tremaining: 7.13s\n",
            "975:\tlearn: 0.6669880\ttotal: 4m 38s\tremaining: 6.85s\n",
            "976:\tlearn: 0.6669443\ttotal: 4m 38s\tremaining: 6.56s\n",
            "977:\tlearn: 0.6668255\ttotal: 4m 38s\tremaining: 6.27s\n",
            "978:\tlearn: 0.6667431\ttotal: 4m 39s\tremaining: 5.99s\n",
            "979:\tlearn: 0.6667092\ttotal: 4m 39s\tremaining: 5.7s\n",
            "980:\tlearn: 0.6666302\ttotal: 4m 39s\tremaining: 5.42s\n",
            "981:\tlearn: 0.6665679\ttotal: 4m 39s\tremaining: 5.13s\n",
            "982:\tlearn: 0.6665224\ttotal: 4m 40s\tremaining: 4.85s\n",
            "983:\tlearn: 0.6664588\ttotal: 4m 40s\tremaining: 4.56s\n",
            "984:\tlearn: 0.6663402\ttotal: 4m 40s\tremaining: 4.28s\n",
            "985:\tlearn: 0.6662560\ttotal: 4m 41s\tremaining: 3.99s\n",
            "986:\tlearn: 0.6661215\ttotal: 4m 41s\tremaining: 3.71s\n",
            "987:\tlearn: 0.6659890\ttotal: 4m 41s\tremaining: 3.42s\n",
            "988:\tlearn: 0.6659409\ttotal: 4m 42s\tremaining: 3.14s\n",
            "989:\tlearn: 0.6658955\ttotal: 4m 42s\tremaining: 2.85s\n",
            "990:\tlearn: 0.6658286\ttotal: 4m 42s\tremaining: 2.57s\n",
            "991:\tlearn: 0.6657893\ttotal: 4m 43s\tremaining: 2.28s\n",
            "992:\tlearn: 0.6657498\ttotal: 4m 43s\tremaining: 2s\n",
            "993:\tlearn: 0.6656428\ttotal: 4m 43s\tremaining: 1.71s\n",
            "994:\tlearn: 0.6655946\ttotal: 4m 44s\tremaining: 1.43s\n",
            "995:\tlearn: 0.6655343\ttotal: 4m 44s\tremaining: 1.14s\n",
            "996:\tlearn: 0.6654633\ttotal: 4m 44s\tremaining: 857ms\n",
            "997:\tlearn: 0.6653371\ttotal: 4m 45s\tremaining: 572ms\n",
            "998:\tlearn: 0.6652665\ttotal: 4m 45s\tremaining: 286ms\n",
            "999:\tlearn: 0.6651881\ttotal: 4m 46s\tremaining: 0us\n"
          ]
        },
        {
          "output_type": "execute_result",
          "data": {
            "text/plain": [
              "Pipeline(steps=[('vect', CountVectorizer()), ('tfidf', TfidfTransformer()),\n",
              "                ('clf',\n",
              "                 <catboost.core.CatBoostClassifier object at 0x7fb925380040>)])"
            ],
            "text/html": [
              "<style>#sk-container-id-23 {color: black;background-color: white;}#sk-container-id-23 pre{padding: 0;}#sk-container-id-23 div.sk-toggleable {background-color: white;}#sk-container-id-23 label.sk-toggleable__label {cursor: pointer;display: block;width: 100%;margin-bottom: 0;padding: 0.3em;box-sizing: border-box;text-align: center;}#sk-container-id-23 label.sk-toggleable__label-arrow:before {content: \"▸\";float: left;margin-right: 0.25em;color: #696969;}#sk-container-id-23 label.sk-toggleable__label-arrow:hover:before {color: black;}#sk-container-id-23 div.sk-estimator:hover label.sk-toggleable__label-arrow:before {color: black;}#sk-container-id-23 div.sk-toggleable__content {max-height: 0;max-width: 0;overflow: hidden;text-align: left;background-color: #f0f8ff;}#sk-container-id-23 div.sk-toggleable__content pre {margin: 0.2em;color: black;border-radius: 0.25em;background-color: #f0f8ff;}#sk-container-id-23 input.sk-toggleable__control:checked~div.sk-toggleable__content {max-height: 200px;max-width: 100%;overflow: auto;}#sk-container-id-23 input.sk-toggleable__control:checked~label.sk-toggleable__label-arrow:before {content: \"▾\";}#sk-container-id-23 div.sk-estimator input.sk-toggleable__control:checked~label.sk-toggleable__label {background-color: #d4ebff;}#sk-container-id-23 div.sk-label input.sk-toggleable__control:checked~label.sk-toggleable__label {background-color: #d4ebff;}#sk-container-id-23 input.sk-hidden--visually {border: 0;clip: rect(1px 1px 1px 1px);clip: rect(1px, 1px, 1px, 1px);height: 1px;margin: -1px;overflow: hidden;padding: 0;position: absolute;width: 1px;}#sk-container-id-23 div.sk-estimator {font-family: monospace;background-color: #f0f8ff;border: 1px dotted black;border-radius: 0.25em;box-sizing: border-box;margin-bottom: 0.5em;}#sk-container-id-23 div.sk-estimator:hover {background-color: #d4ebff;}#sk-container-id-23 div.sk-parallel-item::after {content: \"\";width: 100%;border-bottom: 1px solid gray;flex-grow: 1;}#sk-container-id-23 div.sk-label:hover label.sk-toggleable__label {background-color: #d4ebff;}#sk-container-id-23 div.sk-serial::before {content: \"\";position: absolute;border-left: 1px solid gray;box-sizing: border-box;top: 0;bottom: 0;left: 50%;z-index: 0;}#sk-container-id-23 div.sk-serial {display: flex;flex-direction: column;align-items: center;background-color: white;padding-right: 0.2em;padding-left: 0.2em;position: relative;}#sk-container-id-23 div.sk-item {position: relative;z-index: 1;}#sk-container-id-23 div.sk-parallel {display: flex;align-items: stretch;justify-content: center;background-color: white;position: relative;}#sk-container-id-23 div.sk-item::before, #sk-container-id-23 div.sk-parallel-item::before {content: \"\";position: absolute;border-left: 1px solid gray;box-sizing: border-box;top: 0;bottom: 0;left: 50%;z-index: -1;}#sk-container-id-23 div.sk-parallel-item {display: flex;flex-direction: column;z-index: 1;position: relative;background-color: white;}#sk-container-id-23 div.sk-parallel-item:first-child::after {align-self: flex-end;width: 50%;}#sk-container-id-23 div.sk-parallel-item:last-child::after {align-self: flex-start;width: 50%;}#sk-container-id-23 div.sk-parallel-item:only-child::after {width: 0;}#sk-container-id-23 div.sk-dashed-wrapped {border: 1px dashed gray;margin: 0 0.4em 0.5em 0.4em;box-sizing: border-box;padding-bottom: 0.4em;background-color: white;}#sk-container-id-23 div.sk-label label {font-family: monospace;font-weight: bold;display: inline-block;line-height: 1.2em;}#sk-container-id-23 div.sk-label-container {text-align: center;}#sk-container-id-23 div.sk-container {/* jupyter's `normalize.less` sets `[hidden] { display: none; }` but bootstrap.min.css set `[hidden] { display: none !important; }` so we also need the `!important` here to be able to override the default hidden behavior on the sphinx rendered scikit-learn.org. See: https://github.com/scikit-learn/scikit-learn/issues/21755 */display: inline-block !important;position: relative;}#sk-container-id-23 div.sk-text-repr-fallback {display: none;}</style><div id=\"sk-container-id-23\" class=\"sk-top-container\"><div class=\"sk-text-repr-fallback\"><pre>Pipeline(steps=[(&#x27;vect&#x27;, CountVectorizer()), (&#x27;tfidf&#x27;, TfidfTransformer()),\n",
              "                (&#x27;clf&#x27;,\n",
              "                 &lt;catboost.core.CatBoostClassifier object at 0x7fb925380040&gt;)])</pre><b>In a Jupyter environment, please rerun this cell to show the HTML representation or trust the notebook. <br />On GitHub, the HTML representation is unable to render, please try loading this page with nbviewer.org.</b></div><div class=\"sk-container\" hidden><div class=\"sk-item sk-dashed-wrapped\"><div class=\"sk-label-container\"><div class=\"sk-label sk-toggleable\"><input class=\"sk-toggleable__control sk-hidden--visually\" id=\"sk-estimator-id-89\" type=\"checkbox\" ><label for=\"sk-estimator-id-89\" class=\"sk-toggleable__label sk-toggleable__label-arrow\">Pipeline</label><div class=\"sk-toggleable__content\"><pre>Pipeline(steps=[(&#x27;vect&#x27;, CountVectorizer()), (&#x27;tfidf&#x27;, TfidfTransformer()),\n",
              "                (&#x27;clf&#x27;,\n",
              "                 &lt;catboost.core.CatBoostClassifier object at 0x7fb925380040&gt;)])</pre></div></div></div><div class=\"sk-serial\"><div class=\"sk-item\"><div class=\"sk-estimator sk-toggleable\"><input class=\"sk-toggleable__control sk-hidden--visually\" id=\"sk-estimator-id-90\" type=\"checkbox\" ><label for=\"sk-estimator-id-90\" class=\"sk-toggleable__label sk-toggleable__label-arrow\">CountVectorizer</label><div class=\"sk-toggleable__content\"><pre>CountVectorizer()</pre></div></div></div><div class=\"sk-item\"><div class=\"sk-estimator sk-toggleable\"><input class=\"sk-toggleable__control sk-hidden--visually\" id=\"sk-estimator-id-91\" type=\"checkbox\" ><label for=\"sk-estimator-id-91\" class=\"sk-toggleable__label sk-toggleable__label-arrow\">TfidfTransformer</label><div class=\"sk-toggleable__content\"><pre>TfidfTransformer()</pre></div></div></div><div class=\"sk-item\"><div class=\"sk-estimator sk-toggleable\"><input class=\"sk-toggleable__control sk-hidden--visually\" id=\"sk-estimator-id-92\" type=\"checkbox\" ><label for=\"sk-estimator-id-92\" class=\"sk-toggleable__label sk-toggleable__label-arrow\">CatBoostClassifier</label><div class=\"sk-toggleable__content\"><pre>&lt;catboost.core.CatBoostClassifier object at 0x7fb925380040&gt;</pre></div></div></div></div></div></div></div>"
            ]
          },
          "metadata": {},
          "execution_count": 288
        }
      ],
      "source": [
        "# Algorithm training X_train, X_test, y_train, y_test\n",
        "ctb_model = ctb_pipeline.fit(X_train.values.astype('U'), y_train.values.astype('U'))\n",
        "ctb_model"
      ]
    },
    {
      "cell_type": "code",
      "execution_count": 293,
      "id": "0efb5ded-6bbd-479a-9c18-ed293a6c89bc",
      "metadata": {
        "tags": [],
        "colab": {
          "base_uri": "https://localhost:8080/"
        },
        "id": "0efb5ded-6bbd-479a-9c18-ed293a6c89bc",
        "outputId": "ac4d929e-83b2-4bb2-c7a9-3e661c2b3229"
      },
      "outputs": [
        {
          "output_type": "execute_result",
          "data": {
            "text/plain": [
              "array(['-1', '0', '1', 'complains'], dtype=object)"
            ]
          },
          "metadata": {},
          "execution_count": 293
        }
      ],
      "source": [
        "y_pred = ctb_model.predict(X_test.values.astype('U'))\n",
        "ctb_model.classes_"
      ]
    },
    {
      "cell_type": "code",
      "execution_count": 294,
      "id": "f82aa16c-43dc-4ab5-ba09-7aaf634432ce",
      "metadata": {
        "tags": [],
        "colab": {
          "base_uri": "https://localhost:8080/"
        },
        "id": "f82aa16c-43dc-4ab5-ba09-7aaf634432ce",
        "outputId": "f9b1c0aa-f834-4094-bdf9-9421e0a8d963"
      },
      "outputs": [
        {
          "output_type": "stream",
          "name": "stdout",
          "text": [
            "[[726 224   2   0]\n",
            " [314 382   2   0]\n",
            " [ 56  45   3   0]\n",
            " [  0   0   0   0]]\n"
          ]
        }
      ],
      "source": [
        "cm = confusion_matrix(y_test, y_pred, labels=ctb_model.classes_)\n",
        "print(cm)"
      ]
    },
    {
      "cell_type": "code",
      "execution_count": 295,
      "id": "4e58e88a-5ece-44a8-ad88-ce76db4bf3dc",
      "metadata": {
        "tags": [],
        "colab": {
          "base_uri": "https://localhost:8080/",
          "height": 296
        },
        "id": "4e58e88a-5ece-44a8-ad88-ce76db4bf3dc",
        "outputId": "df770497-155e-4b0d-e22d-7ac631b3141b"
      },
      "outputs": [
        {
          "output_type": "execute_result",
          "data": {
            "text/plain": [
              "<sklearn.metrics._plot.confusion_matrix.ConfusionMatrixDisplay at 0x7fb92479ef70>"
            ]
          },
          "metadata": {},
          "execution_count": 295
        },
        {
          "output_type": "display_data",
          "data": {
            "text/plain": [
              "<Figure size 432x288 with 2 Axes>"
            ],
            "image/png": "[encoded data removed]"
          },
          "metadata": {
            "needs_background": "light"
          }
        }
      ],
      "source": [
        "cm_dsp=ConfusionMatrixDisplay(confusion_matrix=cm, display_labels=['Negatives', 'Neutral', 'Positive', 'Complains'])\n",
        "cm_dsp.plot()"
      ]
    },
    {
      "cell_type": "code",
      "execution_count": 296,
      "id": "9ea695b2-f0a5-4d10-a1df-4d10513d8c5f",
      "metadata": {
        "tags": [],
        "colab": {
          "base_uri": "https://localhost:8080/"
        },
        "id": "9ea695b2-f0a5-4d10-a1df-4d10513d8c5f",
        "outputId": "c9cffb9d-5215-4406-b39c-f30fe8b5cdbc"
      },
      "outputs": [
        {
          "output_type": "stream",
          "name": "stdout",
          "text": [
            "Model Score: 0.6334093500570125\n",
            "Model Score: 63.34%\n",
            "\n",
            "Accuracy: 0.6334093500570125\n",
            "Accuracy: 63.34%\n",
            "\n",
            "F1-score: 0.6133887482820449\n",
            "F1-score: 61.34%\n",
            "\n",
            "CPU times and Wall time: \n",
            "CPU times: user 214 ms, sys: 5.12 ms, total: 219 ms\n",
            "Wall time: 166 ms\n"
          ]
        }
      ],
      "source": [
        "%%time\n",
        "\n",
        "#predicting \n",
        "y_pred = ctb_model.predict(X_test.values.astype('U'))\n",
        "\n",
        "model_score = ctb_model.score(X_test.values.astype('U'), y_test.values.astype('U'))\n",
        "print(f'Model Score: {model_score}')\n",
        "print(f'Model Score: {model_score*100:.2f}%')\n",
        "accuracy = accuracy_score(y_test, y_pred)\n",
        "print()\n",
        "print(f\"Accuracy: {accuracy}\")\n",
        "print(f\"Accuracy: {accuracy*100:.2f}%\")\n",
        "print()\n",
        "f1 = f1_score(y_test, y_pred, average='weighted')\n",
        "print(f\"F1-score: {f1}\")\n",
        "print(f\"F1-score: {f1*100:.2f}%\")\n",
        "print()\n",
        "print(\"CPU times and Wall time: \")"
      ]
    },
    {
      "cell_type": "code",
      "execution_count": 167,
      "id": "f9e63415-8f73-425b-b5c7-e7bfba07b9bd",
      "metadata": {
        "tags": [],
        "colab": {
          "base_uri": "https://localhost:8080/"
        },
        "id": "f9e63415-8f73-425b-b5c7-e7bfba07b9bd",
        "outputId": "425b3f56-5972-4f4f-f0b8-f8071744350e"
      },
      "outputs": [
        {
          "output_type": "execute_result",
          "data": {
            "text/plain": [
              "['models/CatBoostClassifier_model_score_63.34.pkl']"
            ]
          },
          "metadata": {},
          "execution_count": 167
        }
      ],
      "source": [
        "# Save to file / directory\n",
        "joblib_file = \"models/CatBoostClassifier_model_score_\"+ str(round(accuracy*100,2))+\".pkl\"\n",
        "joblib.dump(ctb_model, joblib_file)"
      ]
    }
  ],
  "metadata": {
    "kernelspec": {
      "display_name": "Python 3 (ipykernel)",
      "language": "python",
      "name": "python3"
    },
    "language_info": {
      "codemirror_mode": {
        "name": "ipython",
        "version": 3
      },
      "file_extension": ".py",
      "mimetype": "text/x-python",
      "name": "python",
      "nbconvert_exporter": "python",
      "pygments_lexer": "ipython3",
      "version": "3.11.2"
    },
    "colab": {
      "provenance": [],
      "include_colab_link": true
    }
  },
  "nbformat": 4,
  "nbformat_minor": 5
}