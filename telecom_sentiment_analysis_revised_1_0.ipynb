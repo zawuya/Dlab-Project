{
  "cells": [
    {
      "cell_type": "markdown",
      "metadata": {
        "id": "view-in-github",
        "colab_type": "text"
      },
      "source": [
        "<a href=\"https://colab.research.google.com/github/zawuya/Dlab-Project/blob/master/telecom_sentiment_analysis_revised_1_0.ipynb\" target=\"_parent\"><img src=\"https://colab.research.google.com/assets/colab-badge.svg\" alt=\"Open In Colab\"/></a>"
      ]
    },
    {
      "cell_type": "markdown",
      "id": "9408c957-7d4e-4410-ae1c-fcb737015953",
      "metadata": {
        "id": "9408c957-7d4e-4410-ae1c-fcb737015953"
      },
      "source": [
        "# Revised Version 1.0"
      ]
    },
    {
      "cell_type": "code",
      "execution_count": null,
      "id": "P7ubU-aKbWpT",
      "metadata": {
        "id": "P7ubU-aKbWpT"
      },
      "outputs": [],
      "source": [
        "! pip install catboost\n",
        "! pip install lightgbm\n",
        "! pip install xgboost\n",
        "! pip install scikit-optimize\n",
        "! pip install category-encoders\n",
        "! pip install -U -q PyDrive"
      ]
    },
    {
      "cell_type": "markdown",
      "id": "b39beb5a",
      "metadata": {
        "id": "b39beb5a"
      },
      "source": [
        "## 1. Import dataset"
      ]
    },
    {
      "cell_type": "code",
      "execution_count": 112,
      "id": "5fba1c93",
      "metadata": {
        "id": "5fba1c93"
      },
      "outputs": [],
      "source": [
        "#import useful libraries\n",
        "import pandas as pd\n",
        "import numpy as np\n",
        "import seaborn as sns\n",
        "import re \n",
        "import os\n",
        "import joblib \n",
        "import matplotlib.pyplot as plt\n",
        "import warnings\n",
        "import xgboost as xgb\n",
        "import catboost as ctb\n",
        "import lightgbm as ltb\n",
        "import collections\n",
        "from sklearn.metrics import accuracy_score, f1_score\n",
        "from sklearn.metrics import confusion_matrix, ConfusionMatrixDisplay \n",
        "from sklearn.pipeline import Pipeline\n",
        "from sklearn.model_selection import train_test_split\n",
        "from sklearn.feature_extraction.text import CountVectorizer, TfidfTransformer\n",
        "from sklearn.ensemble import RandomForestClassifier\n",
        "from sklearn.ensemble import GradientBoostingClassifier\n",
        "from sklearn.neighbors import KNeighborsClassifier\n",
        "from sklearn.tree import DecisionTreeClassifier\n",
        "from sklearn.linear_model import LogisticRegression\n",
        "from sklearn.naive_bayes import MultinomialNB\n",
        "from sklearn.svm import SVC\n",
        "from xgboost import plot_importance\n",
        "from xgboost import XGBClassifier\n",
        "from catboost import CatBoostClassifier\n",
        "from lightgbm import LGBMClassifier\n",
        "from collections import Counter\n",
        "from sklearn.datasets import make_classification\n",
        "from imblearn.over_sampling import RandomOverSampler\n",
        "from sklearn.preprocessing import LabelEncoder"
      ]
    },
    {
      "cell_type": "code",
      "execution_count": 113,
      "id": "15b58087-ac00-49b0-b48c-527ef1a7418e",
      "metadata": {
        "id": "15b58087-ac00-49b0-b48c-527ef1a7418e",
        "tags": []
      },
      "outputs": [],
      "source": [
        "warnings.filterwarnings(\"ignore\")"
      ]
    },
    {
      "cell_type": "code",
      "execution_count": 114,
      "id": "e228f74a",
      "metadata": {
        "id": "e228f74a"
      },
      "outputs": [],
      "source": [
        "telecom_data=pd.read_csv(\"telecom_TZ_sentiment_data2.csv\", dtype=str)"
      ]
    },
    {
      "cell_type": "code",
      "execution_count": 115,
      "id": "e10f9d5d",
      "metadata": {
        "colab": {
          "base_uri": "https://localhost:8080/",
          "height": 206
        },
        "id": "e10f9d5d",
        "outputId": "7c8bb4fb-d7a2-4b95-b260-210c1621b6f2"
      },
      "outputs": [
        {
          "output_type": "execute_result",
          "data": {
            "text/plain": [
              "                        date  \\\n",
              "0  2021-10-23 14:36:34+00:00   \n",
              "1  2021-09-28 15:37:16+00:00   \n",
              "2  2022-09-18 13:37:06+00:00   \n",
              "3  2021-04-08 18:34:13+00:00   \n",
              "4  2022-09-24 05:03:32+00:00   \n",
              "\n",
              "                                             comment platform sentiment  \n",
              "0        Chezea songesha wew https://t.co/FfnSsIkZGU  Twitter         1  \n",
              "1  Tafuta hela sana ili usilalamikie mabadiliko y...  Twitter         1  \n",
              "2  Hivi huu mtandao wa Tigo una tatizo au simu ya...  Twitter        -1  \n",
              "3  @DaktariWaWatoto Tamtam bando ni ðŸ”¥ ila kuin...  Twitter         1  \n",
              "4  @VodacomTanzania @ImranHussein84 Tatizo kifuru...  Twitter        -1  "
            ],
            "text/html": [
              "\n",
              "  <div id=\"df-04efbde0-375f-4a6e-b9f1-0afa25f9e959\">\n",
              "    <div class=\"colab-df-container\">\n",
              "      <div>\n",
              "<style scoped>\n",
              "    .dataframe tbody tr th:only-of-type {\n",
              "        vertical-align: middle;\n",
              "    }\n",
              "\n",
              "    .dataframe tbody tr th {\n",
              "        vertical-align: top;\n",
              "    }\n",
              "\n",
              "    .dataframe thead th {\n",
              "        text-align: right;\n",
              "    }\n",
              "</style>\n",
              "<table border=\"1\" class=\"dataframe\">\n",
              "  <thead>\n",
              "    <tr style=\"text-align: right;\">\n",
              "      <th></th>\n",
              "      <th>date</th>\n",
              "      <th>comment</th>\n",
              "      <th>platform</th>\n",
              "      <th>sentiment</th>\n",
              "    </tr>\n",
              "  </thead>\n",
              "  <tbody>\n",
              "    <tr>\n",
              "      <th>0</th>\n",
              "      <td>2021-10-23 14:36:34+00:00</td>\n",
              "      <td>Chezea songesha wew https://t.co/FfnSsIkZGU</td>\n",
              "      <td>Twitter</td>\n",
              "      <td>1</td>\n",
              "    </tr>\n",
              "    <tr>\n",
              "      <th>1</th>\n",
              "      <td>2021-09-28 15:37:16+00:00</td>\n",
              "      <td>Tafuta hela sana ili usilalamikie mabadiliko y...</td>\n",
              "      <td>Twitter</td>\n",
              "      <td>1</td>\n",
              "    </tr>\n",
              "    <tr>\n",
              "      <th>2</th>\n",
              "      <td>2022-09-18 13:37:06+00:00</td>\n",
              "      <td>Hivi huu mtandao wa Tigo una tatizo au simu ya...</td>\n",
              "      <td>Twitter</td>\n",
              "      <td>-1</td>\n",
              "    </tr>\n",
              "    <tr>\n",
              "      <th>3</th>\n",
              "      <td>2021-04-08 18:34:13+00:00</td>\n",
              "      <td>@DaktariWaWatoto Tamtam bando ni ðŸ”¥ ila kuin...</td>\n",
              "      <td>Twitter</td>\n",
              "      <td>1</td>\n",
              "    </tr>\n",
              "    <tr>\n",
              "      <th>4</th>\n",
              "      <td>2022-09-24 05:03:32+00:00</td>\n",
              "      <td>@VodacomTanzania @ImranHussein84 Tatizo kifuru...</td>\n",
              "      <td>Twitter</td>\n",
              "      <td>-1</td>\n",
              "    </tr>\n",
              "  </tbody>\n",
              "</table>\n",
              "</div>\n",
              "      <button class=\"colab-df-convert\" onclick=\"convertToInteractive('df-04efbde0-375f-4a6e-b9f1-0afa25f9e959')\"\n",
              "              title=\"Convert this dataframe to an interactive table.\"\n",
              "              style=\"display:none;\">\n",
              "        \n",
              "  <svg xmlns=\"http://www.w3.org/2000/svg\" height=\"24px\"viewBox=\"0 0 24 24\"\n",
              "       width=\"24px\">\n",
              "    <path d=\"M0 0h24v24H0V0z\" fill=\"none\"/>\n",
              "    <path d=\"M18.56 5.44l.94 2.06.94-2.06 2.06-.94-2.06-.94-.94-2.06-.94 2.06-2.06.94zm-11 1L8.5 8.5l.94-2.06 2.06-.94-2.06-.94L8.5 2.5l-.94 2.06-2.06.94zm10 10l.94 2.06.94-2.06 2.06-.94-2.06-.94-.94-2.06-.94 2.06-2.06.94z\"/><path d=\"M17.41 7.96l-1.37-1.37c-.4-.4-.92-.59-1.43-.59-.52 0-1.04.2-1.43.59L10.3 9.45l-7.72 7.72c-.78.78-.78 2.05 0 2.83L4 21.41c.39.39.9.59 1.41.59.51 0 1.02-.2 1.41-.59l7.78-7.78 2.81-2.81c.8-.78.8-2.07 0-2.86zM5.41 20L4 18.59l7.72-7.72 1.47 1.35L5.41 20z\"/>\n",
              "  </svg>\n",
              "      </button>\n",
              "      \n",
              "  <style>\n",
              "    .colab-df-container {\n",
              "      display:flex;\n",
              "      flex-wrap:wrap;\n",
              "      gap: 12px;\n",
              "    }\n",
              "\n",
              "    .colab-df-convert {\n",
              "      background-color: #E8F0FE;\n",
              "      border: none;\n",
              "      border-radius: 50%;\n",
              "      cursor: pointer;\n",
              "      display: none;\n",
              "      fill: #1967D2;\n",
              "      height: 32px;\n",
              "      padding: 0 0 0 0;\n",
              "      width: 32px;\n",
              "    }\n",
              "\n",
              "    .colab-df-convert:hover {\n",
              "      background-color: #E2EBFA;\n",
              "      box-shadow: 0px 1px 2px rgba(60, 64, 67, 0.3), 0px 1px 3px 1px rgba(60, 64, 67, 0.15);\n",
              "      fill: #174EA6;\n",
              "    }\n",
              "\n",
              "    [theme=dark] .colab-df-convert {\n",
              "      background-color: #3B4455;\n",
              "      fill: #D2E3FC;\n",
              "    }\n",
              "\n",
              "    [theme=dark] .colab-df-convert:hover {\n",
              "      background-color: #434B5C;\n",
              "      box-shadow: 0px 1px 3px 1px rgba(0, 0, 0, 0.15);\n",
              "      filter: drop-shadow(0px 1px 2px rgba(0, 0, 0, 0.3));\n",
              "      fill: #FFFFFF;\n",
              "    }\n",
              "  </style>\n",
              "\n",
              "      <script>\n",
              "        const buttonEl =\n",
              "          document.querySelector('#df-04efbde0-375f-4a6e-b9f1-0afa25f9e959 button.colab-df-convert');\n",
              "        buttonEl.style.display =\n",
              "          google.colab.kernel.accessAllowed ? 'block' : 'none';\n",
              "\n",
              "        async function convertToInteractive(key) {\n",
              "          const element = document.querySelector('#df-04efbde0-375f-4a6e-b9f1-0afa25f9e959');\n",
              "          const dataTable =\n",
              "            await google.colab.kernel.invokeFunction('convertToInteractive',\n",
              "                                                     [key], {});\n",
              "          if (!dataTable) return;\n",
              "\n",
              "          const docLinkHtml = 'Like what you see? Visit the ' +\n",
              "            '<a target=\"_blank\" href=https://colab.research.google.com/notebooks/data_table.ipynb>data table notebook</a>'\n",
              "            + ' to learn more about interactive tables.';\n",
              "          element.innerHTML = '';\n",
              "          dataTable['output_type'] = 'display_data';\n",
              "          await google.colab.output.renderOutput(dataTable, element);\n",
              "          const docLink = document.createElement('div');\n",
              "          docLink.innerHTML = docLinkHtml;\n",
              "          element.appendChild(docLink);\n",
              "        }\n",
              "      </script>\n",
              "    </div>\n",
              "  </div>\n",
              "  "
            ]
          },
          "metadata": {},
          "execution_count": 115
        }
      ],
      "source": [
        "telecom_data.head()"
      ]
    },
    {
      "cell_type": "markdown",
      "id": "649b7893",
      "metadata": {
        "id": "649b7893"
      },
      "source": [
        "# 2. Exploratory Data Analysis"
      ]
    },
    {
      "cell_type": "code",
      "execution_count": 127,
      "id": "15b077e9",
      "metadata": {
        "colab": {
          "base_uri": "https://localhost:8080/"
        },
        "id": "15b077e9",
        "outputId": "9377c23e-fd6d-4a2a-f046-700ff1a0ed48"
      },
      "outputs": [
        {
          "output_type": "stream",
          "name": "stdout",
          "text": [
            "<class 'pandas.core.frame.DataFrame'>\n",
            "RangeIndex: 8789 entries, 0 to 8788\n",
            "Data columns (total 4 columns):\n",
            " #   Column     Non-Null Count  Dtype \n",
            "---  ------     --------------  ----- \n",
            " 0   date       8788 non-null   object\n",
            " 1   comment    8788 non-null   object\n",
            " 2   platform   8787 non-null   object\n",
            " 3   sentiment  8781 non-null   object\n",
            "dtypes: object(4)\n",
            "memory usage: 274.8+ KB\n"
          ]
        }
      ],
      "source": [
        "telecom_data.info()"
      ]
    },
    {
      "cell_type": "code",
      "execution_count": 126,
      "id": "XrR593tRC7B3",
      "metadata": {
        "colab": {
          "base_uri": "https://localhost:8080/"
        },
        "id": "XrR593tRC7B3",
        "outputId": "9443d6df-1db4-43c0-978b-32f12f2dbc00"
      },
      "outputs": [
        {
          "output_type": "execute_result",
          "data": {
            "text/plain": [
              "11"
            ]
          },
          "metadata": {},
          "execution_count": 126
        }
      ],
      "source": [
        "telecom_data.duplicated().sum()"
      ]
    },
    {
      "cell_type": "code",
      "execution_count": 129,
      "id": "2QgtKWLm69lS",
      "metadata": {
        "colab": {
          "base_uri": "https://localhost:8080/",
          "height": 175
        },
        "id": "2QgtKWLm69lS",
        "outputId": "76485c60-0e9b-4a87-dbfa-f40d39756c3c"
      },
      "outputs": [
        {
          "output_type": "execute_result",
          "data": {
            "text/plain": [
              "                             date  \\\n",
              "count                        8788   \n",
              "unique                       8577   \n",
              "top     2022-01-07 16:34:48+00:00   \n",
              "freq                            2   \n",
              "\n",
              "                                                  comment platform sentiment  \n",
              "count                                                8788     8787      8781  \n",
              "unique                                               8774        2         3  \n",
              "top     @airtel_tanzania nawapenda sana huduma hii ya ...  Twitter        -1  \n",
              "freq                                                    2     8786      4649  "
            ],
            "text/html": [
              "\n",
              "  <div id=\"df-9cea09d4-2d58-4561-b4ce-aed58eb3aef6\">\n",
              "    <div class=\"colab-df-container\">\n",
              "      <div>\n",
              "<style scoped>\n",
              "    .dataframe tbody tr th:only-of-type {\n",
              "        vertical-align: middle;\n",
              "    }\n",
              "\n",
              "    .dataframe tbody tr th {\n",
              "        vertical-align: top;\n",
              "    }\n",
              "\n",
              "    .dataframe thead th {\n",
              "        text-align: right;\n",
              "    }\n",
              "</style>\n",
              "<table border=\"1\" class=\"dataframe\">\n",
              "  <thead>\n",
              "    <tr style=\"text-align: right;\">\n",
              "      <th></th>\n",
              "      <th>date</th>\n",
              "      <th>comment</th>\n",
              "      <th>platform</th>\n",
              "      <th>sentiment</th>\n",
              "    </tr>\n",
              "  </thead>\n",
              "  <tbody>\n",
              "    <tr>\n",
              "      <th>count</th>\n",
              "      <td>8788</td>\n",
              "      <td>8788</td>\n",
              "      <td>8787</td>\n",
              "      <td>8781</td>\n",
              "    </tr>\n",
              "    <tr>\n",
              "      <th>unique</th>\n",
              "      <td>8577</td>\n",
              "      <td>8774</td>\n",
              "      <td>2</td>\n",
              "      <td>3</td>\n",
              "    </tr>\n",
              "    <tr>\n",
              "      <th>top</th>\n",
              "      <td>2022-01-07 16:34:48+00:00</td>\n",
              "      <td>@airtel_tanzania nawapenda sana huduma hii ya ...</td>\n",
              "      <td>Twitter</td>\n",
              "      <td>-1</td>\n",
              "    </tr>\n",
              "    <tr>\n",
              "      <th>freq</th>\n",
              "      <td>2</td>\n",
              "      <td>2</td>\n",
              "      <td>8786</td>\n",
              "      <td>4649</td>\n",
              "    </tr>\n",
              "  </tbody>\n",
              "</table>\n",
              "</div>\n",
              "      <button class=\"colab-df-convert\" onclick=\"convertToInteractive('df-9cea09d4-2d58-4561-b4ce-aed58eb3aef6')\"\n",
              "              title=\"Convert this dataframe to an interactive table.\"\n",
              "              style=\"display:none;\">\n",
              "        \n",
              "  <svg xmlns=\"http://www.w3.org/2000/svg\" height=\"24px\"viewBox=\"0 0 24 24\"\n",
              "       width=\"24px\">\n",
              "    <path d=\"M0 0h24v24H0V0z\" fill=\"none\"/>\n",
              "    <path d=\"M18.56 5.44l.94 2.06.94-2.06 2.06-.94-2.06-.94-.94-2.06-.94 2.06-2.06.94zm-11 1L8.5 8.5l.94-2.06 2.06-.94-2.06-.94L8.5 2.5l-.94 2.06-2.06.94zm10 10l.94 2.06.94-2.06 2.06-.94-2.06-.94-.94-2.06-.94 2.06-2.06.94z\"/><path d=\"M17.41 7.96l-1.37-1.37c-.4-.4-.92-.59-1.43-.59-.52 0-1.04.2-1.43.59L10.3 9.45l-7.72 7.72c-.78.78-.78 2.05 0 2.83L4 21.41c.39.39.9.59 1.41.59.51 0 1.02-.2 1.41-.59l7.78-7.78 2.81-2.81c.8-.78.8-2.07 0-2.86zM5.41 20L4 18.59l7.72-7.72 1.47 1.35L5.41 20z\"/>\n",
              "  </svg>\n",
              "      </button>\n",
              "      \n",
              "  <style>\n",
              "    .colab-df-container {\n",
              "      display:flex;\n",
              "      flex-wrap:wrap;\n",
              "      gap: 12px;\n",
              "    }\n",
              "\n",
              "    .colab-df-convert {\n",
              "      background-color: #E8F0FE;\n",
              "      border: none;\n",
              "      border-radius: 50%;\n",
              "      cursor: pointer;\n",
              "      display: none;\n",
              "      fill: #1967D2;\n",
              "      height: 32px;\n",
              "      padding: 0 0 0 0;\n",
              "      width: 32px;\n",
              "    }\n",
              "\n",
              "    .colab-df-convert:hover {\n",
              "      background-color: #E2EBFA;\n",
              "      box-shadow: 0px 1px 2px rgba(60, 64, 67, 0.3), 0px 1px 3px 1px rgba(60, 64, 67, 0.15);\n",
              "      fill: #174EA6;\n",
              "    }\n",
              "\n",
              "    [theme=dark] .colab-df-convert {\n",
              "      background-color: #3B4455;\n",
              "      fill: #D2E3FC;\n",
              "    }\n",
              "\n",
              "    [theme=dark] .colab-df-convert:hover {\n",
              "      background-color: #434B5C;\n",
              "      box-shadow: 0px 1px 3px 1px rgba(0, 0, 0, 0.15);\n",
              "      filter: drop-shadow(0px 1px 2px rgba(0, 0, 0, 0.3));\n",
              "      fill: #FFFFFF;\n",
              "    }\n",
              "  </style>\n",
              "\n",
              "      <script>\n",
              "        const buttonEl =\n",
              "          document.querySelector('#df-9cea09d4-2d58-4561-b4ce-aed58eb3aef6 button.colab-df-convert');\n",
              "        buttonEl.style.display =\n",
              "          google.colab.kernel.accessAllowed ? 'block' : 'none';\n",
              "\n",
              "        async function convertToInteractive(key) {\n",
              "          const element = document.querySelector('#df-9cea09d4-2d58-4561-b4ce-aed58eb3aef6');\n",
              "          const dataTable =\n",
              "            await google.colab.kernel.invokeFunction('convertToInteractive',\n",
              "                                                     [key], {});\n",
              "          if (!dataTable) return;\n",
              "\n",
              "          const docLinkHtml = 'Like what you see? Visit the ' +\n",
              "            '<a target=\"_blank\" href=https://colab.research.google.com/notebooks/data_table.ipynb>data table notebook</a>'\n",
              "            + ' to learn more about interactive tables.';\n",
              "          element.innerHTML = '';\n",
              "          dataTable['output_type'] = 'display_data';\n",
              "          await google.colab.output.renderOutput(dataTable, element);\n",
              "          const docLink = document.createElement('div');\n",
              "          docLink.innerHTML = docLinkHtml;\n",
              "          element.appendChild(docLink);\n",
              "        }\n",
              "      </script>\n",
              "    </div>\n",
              "  </div>\n",
              "  "
            ]
          },
          "metadata": {},
          "execution_count": 129
        }
      ],
      "source": [
        "telecom_data.describe()"
      ]
    },
    {
      "cell_type": "code",
      "execution_count": 119,
      "id": "f1af075a",
      "metadata": {
        "colab": {
          "base_uri": "https://localhost:8080/"
        },
        "id": "f1af075a",
        "outputId": "70c25df2-6365-4b8d-daa2-4d793a1dab96",
        "scrolled": true
      },
      "outputs": [
        {
          "output_type": "execute_result",
          "data": {
            "text/plain": [
              "date         1\n",
              "comment      1\n",
              "platform     2\n",
              "sentiment    8\n",
              "dtype: int64"
            ]
          },
          "metadata": {},
          "execution_count": 119
        }
      ],
      "source": [
        "telecom_data.isna().sum()"
      ]
    },
    {
      "cell_type": "code",
      "execution_count": 120,
      "id": "KSI9lbp-yLHg",
      "metadata": {
        "colab": {
          "base_uri": "https://localhost:8080/"
        },
        "id": "KSI9lbp-yLHg",
        "outputId": "b4c330ca-533e-44e6-8668-951295d153aa"
      },
      "outputs": [
        {
          "output_type": "execute_result",
          "data": {
            "text/plain": [
              "date         object\n",
              "comment      object\n",
              "platform     object\n",
              "sentiment    object\n",
              "dtype: object"
            ]
          },
          "metadata": {},
          "execution_count": 120
        }
      ],
      "source": [
        "telecom_data.dtypes"
      ]
    },
    {
      "cell_type": "markdown",
      "id": "ZV-DePmKCBic",
      "metadata": {
        "id": "ZV-DePmKCBic"
      },
      "source": []
    },
    {
      "cell_type": "code",
      "execution_count": 121,
      "id": "5bS9ioLEyafB",
      "metadata": {
        "colab": {
          "base_uri": "https://localhost:8080/"
        },
        "id": "5bS9ioLEyafB",
        "outputId": "9deb0861-2fdf-45f6-95df-ff8018ed0537"
      },
      "outputs": [
        {
          "output_type": "execute_result",
          "data": {
            "text/plain": [
              "-1           4649\n",
              "0            3567\n",
              "1             565\n",
              "complains       1\n",
              "Name: sentiment, dtype: int64"
            ]
          },
          "metadata": {},
          "execution_count": 121
        }
      ],
      "source": [
        "telecom_data['sentiment'].value_counts()"
      ]
    },
    {
      "cell_type": "code",
      "execution_count": 122,
      "id": "AMi2koQBwky7",
      "metadata": {
        "colab": {
          "base_uri": "https://localhost:8080/",
          "height": 81
        },
        "id": "AMi2koQBwky7",
        "outputId": "e0f72fc8-5498-4aa1-e5e4-d4acca26f1e6"
      },
      "outputs": [
        {
          "output_type": "execute_result",
          "data": {
            "text/plain": [
              "         date comment platform  sentiment\n",
              "1698  Twitter       0  network  complains"
            ],
            "text/html": [
              "\n",
              "  <div id=\"df-bc841836-76c1-4c65-89d9-bcc1d7574cd3\">\n",
              "    <div class=\"colab-df-container\">\n",
              "      <div>\n",
              "<style scoped>\n",
              "    .dataframe tbody tr th:only-of-type {\n",
              "        vertical-align: middle;\n",
              "    }\n",
              "\n",
              "    .dataframe tbody tr th {\n",
              "        vertical-align: top;\n",
              "    }\n",
              "\n",
              "    .dataframe thead th {\n",
              "        text-align: right;\n",
              "    }\n",
              "</style>\n",
              "<table border=\"1\" class=\"dataframe\">\n",
              "  <thead>\n",
              "    <tr style=\"text-align: right;\">\n",
              "      <th></th>\n",
              "      <th>date</th>\n",
              "      <th>comment</th>\n",
              "      <th>platform</th>\n",
              "      <th>sentiment</th>\n",
              "    </tr>\n",
              "  </thead>\n",
              "  <tbody>\n",
              "    <tr>\n",
              "      <th>1698</th>\n",
              "      <td>Twitter</td>\n",
              "      <td>0</td>\n",
              "      <td>network</td>\n",
              "      <td>complains</td>\n",
              "    </tr>\n",
              "  </tbody>\n",
              "</table>\n",
              "</div>\n",
              "      <button class=\"colab-df-convert\" onclick=\"convertToInteractive('df-bc841836-76c1-4c65-89d9-bcc1d7574cd3')\"\n",
              "              title=\"Convert this dataframe to an interactive table.\"\n",
              "              style=\"display:none;\">\n",
              "        \n",
              "  <svg xmlns=\"http://www.w3.org/2000/svg\" height=\"24px\"viewBox=\"0 0 24 24\"\n",
              "       width=\"24px\">\n",
              "    <path d=\"M0 0h24v24H0V0z\" fill=\"none\"/>\n",
              "    <path d=\"M18.56 5.44l.94 2.06.94-2.06 2.06-.94-2.06-.94-.94-2.06-.94 2.06-2.06.94zm-11 1L8.5 8.5l.94-2.06 2.06-.94-2.06-.94L8.5 2.5l-.94 2.06-2.06.94zm10 10l.94 2.06.94-2.06 2.06-.94-2.06-.94-.94-2.06-.94 2.06-2.06.94z\"/><path d=\"M17.41 7.96l-1.37-1.37c-.4-.4-.92-.59-1.43-.59-.52 0-1.04.2-1.43.59L10.3 9.45l-7.72 7.72c-.78.78-.78 2.05 0 2.83L4 21.41c.39.39.9.59 1.41.59.51 0 1.02-.2 1.41-.59l7.78-7.78 2.81-2.81c.8-.78.8-2.07 0-2.86zM5.41 20L4 18.59l7.72-7.72 1.47 1.35L5.41 20z\"/>\n",
              "  </svg>\n",
              "      </button>\n",
              "      \n",
              "  <style>\n",
              "    .colab-df-container {\n",
              "      display:flex;\n",
              "      flex-wrap:wrap;\n",
              "      gap: 12px;\n",
              "    }\n",
              "\n",
              "    .colab-df-convert {\n",
              "      background-color: #E8F0FE;\n",
              "      border: none;\n",
              "      border-radius: 50%;\n",
              "      cursor: pointer;\n",
              "      display: none;\n",
              "      fill: #1967D2;\n",
              "      height: 32px;\n",
              "      padding: 0 0 0 0;\n",
              "      width: 32px;\n",
              "    }\n",
              "\n",
              "    .colab-df-convert:hover {\n",
              "      background-color: #E2EBFA;\n",
              "      box-shadow: 0px 1px 2px rgba(60, 64, 67, 0.3), 0px 1px 3px 1px rgba(60, 64, 67, 0.15);\n",
              "      fill: #174EA6;\n",
              "    }\n",
              "\n",
              "    [theme=dark] .colab-df-convert {\n",
              "      background-color: #3B4455;\n",
              "      fill: #D2E3FC;\n",
              "    }\n",
              "\n",
              "    [theme=dark] .colab-df-convert:hover {\n",
              "      background-color: #434B5C;\n",
              "      box-shadow: 0px 1px 3px 1px rgba(0, 0, 0, 0.15);\n",
              "      filter: drop-shadow(0px 1px 2px rgba(0, 0, 0, 0.3));\n",
              "      fill: #FFFFFF;\n",
              "    }\n",
              "  </style>\n",
              "\n",
              "      <script>\n",
              "        const buttonEl =\n",
              "          document.querySelector('#df-bc841836-76c1-4c65-89d9-bcc1d7574cd3 button.colab-df-convert');\n",
              "        buttonEl.style.display =\n",
              "          google.colab.kernel.accessAllowed ? 'block' : 'none';\n",
              "\n",
              "        async function convertToInteractive(key) {\n",
              "          const element = document.querySelector('#df-bc841836-76c1-4c65-89d9-bcc1d7574cd3');\n",
              "          const dataTable =\n",
              "            await google.colab.kernel.invokeFunction('convertToInteractive',\n",
              "                                                     [key], {});\n",
              "          if (!dataTable) return;\n",
              "\n",
              "          const docLinkHtml = 'Like what you see? Visit the ' +\n",
              "            '<a target=\"_blank\" href=https://colab.research.google.com/notebooks/data_table.ipynb>data table notebook</a>'\n",
              "            + ' to learn more about interactive tables.';\n",
              "          element.innerHTML = '';\n",
              "          dataTable['output_type'] = 'display_data';\n",
              "          await google.colab.output.renderOutput(dataTable, element);\n",
              "          const docLink = document.createElement('div');\n",
              "          docLink.innerHTML = docLinkHtml;\n",
              "          element.appendChild(docLink);\n",
              "        }\n",
              "      </script>\n",
              "    </div>\n",
              "  </div>\n",
              "  "
            ]
          },
          "metadata": {},
          "execution_count": 122
        }
      ],
      "source": [
        "telecom_data.loc[telecom_data['sentiment'] == 'complains']"
      ]
    },
    {
      "cell_type": "code",
      "execution_count": 123,
      "id": "mzcAxUKKFegE",
      "metadata": {
        "id": "mzcAxUKKFegE"
      },
      "outputs": [],
      "source": [
        "telecom_data = telecom_data.drop(index=1698, axis=1).reset_index(drop=True)"
      ]
    },
    {
      "cell_type": "code",
      "execution_count": 124,
      "id": "1d7uNXIuDH6S",
      "metadata": {
        "colab": {
          "base_uri": "https://localhost:8080/"
        },
        "id": "1d7uNXIuDH6S",
        "outputId": "2386347d-77d2-4dd1-e049-a286c56d6a60"
      },
      "outputs": [
        {
          "output_type": "execute_result",
          "data": {
            "text/plain": [
              "-1    4649\n",
              "0     3567\n",
              "1      565\n",
              "Name: sentiment, dtype: int64"
            ]
          },
          "metadata": {},
          "execution_count": 124
        }
      ],
      "source": [
        "telecom_data['sentiment'].value_counts()"
      ]
    },
    {
      "cell_type": "code",
      "execution_count": 125,
      "id": "a31719f0",
      "metadata": {
        "colab": {
          "base_uri": "https://localhost:8080/"
        },
        "id": "a31719f0",
        "outputId": "a45d2498-6910-46bc-97cc-4ea610b3985d"
      },
      "outputs": [
        {
          "output_type": "execute_result",
          "data": {
            "text/plain": [
              "11"
            ]
          },
          "metadata": {},
          "execution_count": 125
        }
      ],
      "source": [
        "telecom_data.duplicated().sum()"
      ]
    },
    {
      "cell_type": "markdown",
      "id": "8e404be6",
      "metadata": {
        "id": "8e404be6"
      },
      "source": [
        "# 3. Data Processing"
      ]
    },
    {
      "cell_type": "markdown",
      "id": "9477d5a2-beed-415c-918e-f654cc4d8b6a",
      "metadata": {
        "id": "9477d5a2-beed-415c-918e-f654cc4d8b6a"
      },
      "source": [
        "## 3.1 Remove duplicate"
      ]
    },
    {
      "cell_type": "code",
      "execution_count": 20,
      "id": "f77c54ce-2747-4fb8-b313-b71d089dfda8",
      "metadata": {
        "id": "f77c54ce-2747-4fb8-b313-b71d089dfda8"
      },
      "outputs": [],
      "source": [
        "telecom_data.drop_duplicates(subset=['comment'], keep='first', inplace=True)"
      ]
    },
    {
      "cell_type": "markdown",
      "id": "25f007f0-8e54-4d09-9e36-b961734e21c2",
      "metadata": {
        "id": "25f007f0-8e54-4d09-9e36-b961734e21c2"
      },
      "source": [
        "## 3.2 Remove null values"
      ]
    },
    {
      "cell_type": "code",
      "execution_count": 21,
      "id": "c5400514-a45c-4c03-b87e-d7b78d8ea862",
      "metadata": {
        "id": "c5400514-a45c-4c03-b87e-d7b78d8ea862"
      },
      "outputs": [],
      "source": [
        "telecom_data.dropna(subset=['sentiment', 'comment'], inplace=True)"
      ]
    },
    {
      "cell_type": "markdown",
      "id": "09794f53-b209-4962-8596-0fed6e7d5368",
      "metadata": {
        "id": "09794f53-b209-4962-8596-0fed6e7d5368"
      },
      "source": [
        "## check the dataset status"
      ]
    },
    {
      "cell_type": "code",
      "execution_count": 22,
      "id": "ab33ff06-817b-46e5-a1a2-0f3e7cb50753",
      "metadata": {
        "colab": {
          "base_uri": "https://localhost:8080/"
        },
        "id": "ab33ff06-817b-46e5-a1a2-0f3e7cb50753",
        "outputId": "bbafeffd-18ef-4e09-d4e0-62c5a17e3a9f",
        "tags": []
      },
      "outputs": [
        {
          "output_type": "execute_result",
          "data": {
            "text/plain": [
              "0"
            ]
          },
          "metadata": {},
          "execution_count": 22
        }
      ],
      "source": [
        "telecom_data.duplicated().sum()"
      ]
    },
    {
      "cell_type": "code",
      "execution_count": 23,
      "id": "7e482bf4-f690-4122-b743-de6a80f8980f",
      "metadata": {
        "colab": {
          "base_uri": "https://localhost:8080/"
        },
        "id": "7e482bf4-f690-4122-b743-de6a80f8980f",
        "outputId": "2f62094e-0042-4ed2-8681-a65add9f2c8b"
      },
      "outputs": [
        {
          "output_type": "execute_result",
          "data": {
            "text/plain": [
              "date         0\n",
              "comment      0\n",
              "platform     0\n",
              "sentiment    0\n",
              "dtype: int64"
            ]
          },
          "metadata": {},
          "execution_count": 23
        }
      ],
      "source": [
        "telecom_data.isna().sum()"
      ]
    },
    {
      "cell_type": "code",
      "execution_count": 24,
      "id": "896115c1-1386-4f8a-9149-82a7a3ae404a",
      "metadata": {
        "colab": {
          "base_uri": "https://localhost:8080/"
        },
        "id": "896115c1-1386-4f8a-9149-82a7a3ae404a",
        "outputId": "069dcddc-8bda-4385-8e07-318d2c9b585f",
        "tags": []
      },
      "outputs": [
        {
          "output_type": "execute_result",
          "data": {
            "text/plain": [
              "date         8767\n",
              "comment      8767\n",
              "platform     8767\n",
              "sentiment    8767\n",
              "dtype: int64"
            ]
          },
          "metadata": {},
          "execution_count": 24
        }
      ],
      "source": [
        "telecom_data.count()"
      ]
    },
    {
      "cell_type": "code",
      "execution_count": 25,
      "id": "40787d2d-738b-490c-98d2-f1e25a664d77",
      "metadata": {
        "colab": {
          "base_uri": "https://localhost:8080/",
          "height": 296
        },
        "id": "40787d2d-738b-490c-98d2-f1e25a664d77",
        "outputId": "c0535dd5-af67-4ec5-8782-197fde904204",
        "tags": []
      },
      "outputs": [
        {
          "output_type": "execute_result",
          "data": {
            "text/plain": [
              "<AxesSubplot:xlabel='sentiment', ylabel='count'>"
            ]
          },
          "metadata": {},
          "execution_count": 25
        },
        {
          "output_type": "display_data",
          "data": {
            "text/plain": [
              "<Figure size 432x288 with 1 Axes>"
            ],
            "image/png": "[encoded data removed]"
          },
          "metadata": {
            "needs_background": "light"
          }
        }
      ],
      "source": [
        "sns.countplot(x=\"sentiment\", data=telecom_data)"
      ]
    },
    {
      "cell_type": "code",
      "execution_count": 26,
      "id": "c049013f-6dc5-4aad-8077-ff3ac7c59168",
      "metadata": {
        "colab": {
          "base_uri": "https://localhost:8080/"
        },
        "id": "c049013f-6dc5-4aad-8077-ff3ac7c59168",
        "outputId": "e2a2146b-ad2a-4f18-f775-b98a214c41af",
        "tags": []
      },
      "outputs": [
        {
          "output_type": "stream",
          "name": "stdout",
          "text": [
            "<class 'pandas.core.frame.DataFrame'>\n",
            "Int64Index: 8767 entries, 0 to 8788\n",
            "Data columns (total 4 columns):\n",
            " #   Column     Non-Null Count  Dtype \n",
            "---  ------     --------------  ----- \n",
            " 0   date       8767 non-null   object\n",
            " 1   comment    8767 non-null   object\n",
            " 2   platform   8767 non-null   object\n",
            " 3   sentiment  8767 non-null   object\n",
            "dtypes: object(4)\n",
            "memory usage: 342.5+ KB\n"
          ]
        }
      ],
      "source": [
        "telecom_data.info()"
      ]
    },
    {
      "cell_type": "markdown",
      "id": "1504836d-3e15-4ab9-a821-9f3675da8ba7",
      "metadata": {
        "id": "1504836d-3e15-4ab9-a821-9f3675da8ba7"
      },
      "source": [
        "# 3.3 Cleaning"
      ]
    },
    {
      "cell_type": "code",
      "execution_count": 27,
      "id": "502df416",
      "metadata": {
        "id": "502df416"
      },
      "outputs": [],
      "source": [
        "def clean_data_set(list_text):\n",
        "    new_list = []\n",
        "    stopwords_df = pd.read_csv(\"swahili_stopwords.csv\", dtype=str, low_memory=False, encoding=\"utf-8\")\n",
        "    stopwords_list = list(stopwords_df['StopWords'])\n",
        "    \n",
        "    for x in list_text:\n",
        "        x = re.sub(r'@[\\w]+','', str(x)) # remove twitter handle\n",
        "        x = re.sub(r'\\w+:\\/{2}[\\d\\w-]+(\\.[\\d\\w-]+)*(?:(?:\\/[^\\s/]*))*', '', str(x)) # removes Url\n",
        "        x = re.sub(r'[^\\w\\s]',' ', str(x))    # Remove Panctuations /?!. \n",
        "        x = x.strip()                   # Remove leading and trailing spaces\n",
        "        x = re.sub(' +', ' ', x)        # Remove extra white spaces\n",
        "        x = re.sub('[^A-Za-z0-9]+', ' ', x)  # Remove special characters\n",
        "        x = x.lower()                   # Converts to lower case\n",
        "        x = ' '.join([word for word in x.split() if word not in stopwords_list]) # Removes stopwords\n",
        "        new_list.append(x)\n",
        "    return new_list"
      ]
    },
    {
      "cell_type": "code",
      "execution_count": 28,
      "id": "18371097",
      "metadata": {
        "id": "18371097"
      },
      "outputs": [],
      "source": [
        "telecom_data[\"clean_comment\"] = clean_data_set(telecom_data.comment.to_list())"
      ]
    },
    {
      "cell_type": "code",
      "execution_count": 29,
      "id": "f091dd4b",
      "metadata": {
        "colab": {
          "base_uri": "https://localhost:8080/",
          "height": 424
        },
        "id": "f091dd4b",
        "outputId": "343769c6-771a-43b8-ebe2-957e196254ff"
      },
      "outputs": [
        {
          "output_type": "execute_result",
          "data": {
            "text/plain": [
              "                                                comment  \\\n",
              "0           Chezea songesha wew https://t.co/FfnSsIkZGU   \n",
              "1     Tafuta hela sana ili usilalamikie mabadiliko y...   \n",
              "2     Hivi huu mtandao wa Tigo una tatizo au simu ya...   \n",
              "3     @DaktariWaWatoto Tamtam bando ni ðŸ”¥ ila kuin...   \n",
              "4     @VodacomTanzania @ImranHussein84 Tatizo kifuru...   \n",
              "...                                                 ...   \n",
              "8784  @LuisaUhuru Unastream kutumia mtandao gani\\nÃ°...   \n",
              "8785  Sasa mnasema mmebadilisha vifurushi naomba mni...   \n",
              "8786  @George_Ambangil @Tigo_TZ Sasa kama ad ww unal...   \n",
              "8787  @mafolebaraka @Haloteltz Bora wewe mi nikitumi...   \n",
              "8788  @beth_kasinga Weuh sivyo situation zina ni cha...   \n",
              "\n",
              "                                          clean_comment  \n",
              "0                                   chezea songesha wew  \n",
              "1     tafuta hela usilalamikie mabadiliko vifurushi ...  \n",
              "2     mtandao tigo una tatizo simu siku tatu leo mam...  \n",
              "3                     tamtam bando kuinunulia mpk tpesa  \n",
              "4     tatizo kifurushi internet nw akikai awali una ...  \n",
              "...                                                 ...  \n",
              "8784                     unastream kutumia mtandao gani  \n",
              "8785  mnasema mmebadilisha vifurushi naomba mnitajie...  \n",
              "8786  ad ww unalalamika vo mm nan niendelee kutumia ...  \n",
              "8787  bora mi nikitumiwa pesa halopesa haiingii wala...  \n",
              "8788  weuh sivyo situation zina chapa but haziru tun...  \n",
              "\n",
              "[8767 rows x 2 columns]"
            ],
            "text/html": [
              "\n",
              "  <div id=\"df-df555efa-7ca4-4d59-b48b-ee766ad4d4d6\">\n",
              "    <div class=\"colab-df-container\">\n",
              "      <div>\n",
              "<style scoped>\n",
              "    .dataframe tbody tr th:only-of-type {\n",
              "        vertical-align: middle;\n",
              "    }\n",
              "\n",
              "    .dataframe tbody tr th {\n",
              "        vertical-align: top;\n",
              "    }\n",
              "\n",
              "    .dataframe thead th {\n",
              "        text-align: right;\n",
              "    }\n",
              "</style>\n",
              "<table border=\"1\" class=\"dataframe\">\n",
              "  <thead>\n",
              "    <tr style=\"text-align: right;\">\n",
              "      <th></th>\n",
              "      <th>comment</th>\n",
              "      <th>clean_comment</th>\n",
              "    </tr>\n",
              "  </thead>\n",
              "  <tbody>\n",
              "    <tr>\n",
              "      <th>0</th>\n",
              "      <td>Chezea songesha wew https://t.co/FfnSsIkZGU</td>\n",
              "      <td>chezea songesha wew</td>\n",
              "    </tr>\n",
              "    <tr>\n",
              "      <th>1</th>\n",
              "      <td>Tafuta hela sana ili usilalamikie mabadiliko y...</td>\n",
              "      <td>tafuta hela usilalamikie mabadiliko vifurushi ...</td>\n",
              "    </tr>\n",
              "    <tr>\n",
              "      <th>2</th>\n",
              "      <td>Hivi huu mtandao wa Tigo una tatizo au simu ya...</td>\n",
              "      <td>mtandao tigo una tatizo simu siku tatu leo mam...</td>\n",
              "    </tr>\n",
              "    <tr>\n",
              "      <th>3</th>\n",
              "      <td>@DaktariWaWatoto Tamtam bando ni ðŸ”¥ ila kuin...</td>\n",
              "      <td>tamtam bando kuinunulia mpk tpesa</td>\n",
              "    </tr>\n",
              "    <tr>\n",
              "      <th>4</th>\n",
              "      <td>@VodacomTanzania @ImranHussein84 Tatizo kifuru...</td>\n",
              "      <td>tatizo kifurushi internet nw akikai awali una ...</td>\n",
              "    </tr>\n",
              "    <tr>\n",
              "      <th>...</th>\n",
              "      <td>...</td>\n",
              "      <td>...</td>\n",
              "    </tr>\n",
              "    <tr>\n",
              "      <th>8784</th>\n",
              "      <td>@LuisaUhuru Unastream kutumia mtandao gani\\nÃ°...</td>\n",
              "      <td>unastream kutumia mtandao gani</td>\n",
              "    </tr>\n",
              "    <tr>\n",
              "      <th>8785</th>\n",
              "      <td>Sasa mnasema mmebadilisha vifurushi naomba mni...</td>\n",
              "      <td>mnasema mmebadilisha vifurushi naomba mnitajie...</td>\n",
              "    </tr>\n",
              "    <tr>\n",
              "      <th>8786</th>\n",
              "      <td>@George_Ambangil @Tigo_TZ Sasa kama ad ww unal...</td>\n",
              "      <td>ad ww unalalamika vo mm nan niendelee kutumia ...</td>\n",
              "    </tr>\n",
              "    <tr>\n",
              "      <th>8787</th>\n",
              "      <td>@mafolebaraka @Haloteltz Bora wewe mi nikitumi...</td>\n",
              "      <td>bora mi nikitumiwa pesa halopesa haiingii wala...</td>\n",
              "    </tr>\n",
              "    <tr>\n",
              "      <th>8788</th>\n",
              "      <td>@beth_kasinga Weuh sivyo situation zina ni cha...</td>\n",
              "      <td>weuh sivyo situation zina chapa but haziru tun...</td>\n",
              "    </tr>\n",
              "  </tbody>\n",
              "</table>\n",
              "<p>8767 rows × 2 columns</p>\n",
              "</div>\n",
              "      <button class=\"colab-df-convert\" onclick=\"convertToInteractive('df-df555efa-7ca4-4d59-b48b-ee766ad4d4d6')\"\n",
              "              title=\"Convert this dataframe to an interactive table.\"\n",
              "              style=\"display:none;\">\n",
              "        \n",
              "  <svg xmlns=\"http://www.w3.org/2000/svg\" height=\"24px\"viewBox=\"0 0 24 24\"\n",
              "       width=\"24px\">\n",
              "    <path d=\"M0 0h24v24H0V0z\" fill=\"none\"/>\n",
              "    <path d=\"M18.56 5.44l.94 2.06.94-2.06 2.06-.94-2.06-.94-.94-2.06-.94 2.06-2.06.94zm-11 1L8.5 8.5l.94-2.06 2.06-.94-2.06-.94L8.5 2.5l-.94 2.06-2.06.94zm10 10l.94 2.06.94-2.06 2.06-.94-2.06-.94-.94-2.06-.94 2.06-2.06.94z\"/><path d=\"M17.41 7.96l-1.37-1.37c-.4-.4-.92-.59-1.43-.59-.52 0-1.04.2-1.43.59L10.3 9.45l-7.72 7.72c-.78.78-.78 2.05 0 2.83L4 21.41c.39.39.9.59 1.41.59.51 0 1.02-.2 1.41-.59l7.78-7.78 2.81-2.81c.8-.78.8-2.07 0-2.86zM5.41 20L4 18.59l7.72-7.72 1.47 1.35L5.41 20z\"/>\n",
              "  </svg>\n",
              "      </button>\n",
              "      \n",
              "  <style>\n",
              "    .colab-df-container {\n",
              "      display:flex;\n",
              "      flex-wrap:wrap;\n",
              "      gap: 12px;\n",
              "    }\n",
              "\n",
              "    .colab-df-convert {\n",
              "      background-color: #E8F0FE;\n",
              "      border: none;\n",
              "      border-radius: 50%;\n",
              "      cursor: pointer;\n",
              "      display: none;\n",
              "      fill: #1967D2;\n",
              "      height: 32px;\n",
              "      padding: 0 0 0 0;\n",
              "      width: 32px;\n",
              "    }\n",
              "\n",
              "    .colab-df-convert:hover {\n",
              "      background-color: #E2EBFA;\n",
              "      box-shadow: 0px 1px 2px rgba(60, 64, 67, 0.3), 0px 1px 3px 1px rgba(60, 64, 67, 0.15);\n",
              "      fill: #174EA6;\n",
              "    }\n",
              "\n",
              "    [theme=dark] .colab-df-convert {\n",
              "      background-color: #3B4455;\n",
              "      fill: #D2E3FC;\n",
              "    }\n",
              "\n",
              "    [theme=dark] .colab-df-convert:hover {\n",
              "      background-color: #434B5C;\n",
              "      box-shadow: 0px 1px 3px 1px rgba(0, 0, 0, 0.15);\n",
              "      filter: drop-shadow(0px 1px 2px rgba(0, 0, 0, 0.3));\n",
              "      fill: #FFFFFF;\n",
              "    }\n",
              "  </style>\n",
              "\n",
              "      <script>\n",
              "        const buttonEl =\n",
              "          document.querySelector('#df-df555efa-7ca4-4d59-b48b-ee766ad4d4d6 button.colab-df-convert');\n",
              "        buttonEl.style.display =\n",
              "          google.colab.kernel.accessAllowed ? 'block' : 'none';\n",
              "\n",
              "        async function convertToInteractive(key) {\n",
              "          const element = document.querySelector('#df-df555efa-7ca4-4d59-b48b-ee766ad4d4d6');\n",
              "          const dataTable =\n",
              "            await google.colab.kernel.invokeFunction('convertToInteractive',\n",
              "                                                     [key], {});\n",
              "          if (!dataTable) return;\n",
              "\n",
              "          const docLinkHtml = 'Like what you see? Visit the ' +\n",
              "            '<a target=\"_blank\" href=https://colab.research.google.com/notebooks/data_table.ipynb>data table notebook</a>'\n",
              "            + ' to learn more about interactive tables.';\n",
              "          element.innerHTML = '';\n",
              "          dataTable['output_type'] = 'display_data';\n",
              "          await google.colab.output.renderOutput(dataTable, element);\n",
              "          const docLink = document.createElement('div');\n",
              "          docLink.innerHTML = docLinkHtml;\n",
              "          element.appendChild(docLink);\n",
              "        }\n",
              "      </script>\n",
              "    </div>\n",
              "  </div>\n",
              "  "
            ]
          },
          "metadata": {},
          "execution_count": 29
        }
      ],
      "source": [
        "telecom_data[['comment', 'clean_comment']]"
      ]
    },
    {
      "cell_type": "code",
      "execution_count": 30,
      "id": "741fcaff-a255-4550-b67a-66c4f98ee554",
      "metadata": {
        "id": "741fcaff-a255-4550-b67a-66c4f98ee554"
      },
      "outputs": [],
      "source": [
        "telecom_data.to_csv(\"clean_telecom_data.csv\", index=False)"
      ]
    },
    {
      "cell_type": "markdown",
      "id": "9a6832cc-0073-4961-a61b-849ab161be0d",
      "metadata": {
        "id": "9a6832cc-0073-4961-a61b-849ab161be0d"
      },
      "source": [
        "# 4 Modeling"
      ]
    },
    {
      "cell_type": "code",
      "execution_count": 31,
      "id": "9704a336-7ffb-4d4f-887b-3b330467b6d8",
      "metadata": {
        "id": "9704a336-7ffb-4d4f-887b-3b330467b6d8"
      },
      "outputs": [],
      "source": [
        "clean_telecom_data = pd.read_csv(\"clean_telecom_data.csv\")"
      ]
    },
    {
      "cell_type": "code",
      "execution_count": 32,
      "id": "9OFUbpUQiYH1",
      "metadata": {
        "id": "9OFUbpUQiYH1"
      },
      "outputs": [],
      "source": [
        "path = 'models'\n",
        "isExisting = os.path.exists(path)\n",
        "if not isExisting:\n",
        "  os.mkdir(path)"
      ]
    },
    {
      "cell_type": "code",
      "execution_count": 33,
      "id": "3ae365d4-3fab-42df-b324-8925143e4b5c",
      "metadata": {
        "colab": {
          "base_uri": "https://localhost:8080/",
          "height": 424
        },
        "id": "3ae365d4-3fab-42df-b324-8925143e4b5c",
        "outputId": "12d35af5-1276-42df-b9df-c2f1c7550a59",
        "tags": []
      },
      "outputs": [
        {
          "output_type": "execute_result",
          "data": {
            "text/plain": [
              "                                          clean_comment sentiment\n",
              "0                                   chezea songesha wew         1\n",
              "1     tafuta hela usilalamikie mabadiliko vifurushi ...         1\n",
              "2     mtandao tigo una tatizo simu siku tatu leo mam...        -1\n",
              "3                     tamtam bando kuinunulia mpk tpesa         1\n",
              "4     tatizo kifurushi internet nw akikai awali una ...        -1\n",
              "...                                                 ...       ...\n",
              "8784                     unastream kutumia mtandao gani         0\n",
              "8785  mnasema mmebadilisha vifurushi naomba mnitajie...        -1\n",
              "8786  ad ww unalalamika vo mm nan niendelee kutumia ...        -1\n",
              "8787  bora mi nikitumiwa pesa halopesa haiingii wala...        -1\n",
              "8788  weuh sivyo situation zina chapa but haziru tun...         0\n",
              "\n",
              "[8767 rows x 2 columns]"
            ],
            "text/html": [
              "\n",
              "  <div id=\"df-5aa0fe8a-200a-432f-90c9-7c8e0e59db80\">\n",
              "    <div class=\"colab-df-container\">\n",
              "      <div>\n",
              "<style scoped>\n",
              "    .dataframe tbody tr th:only-of-type {\n",
              "        vertical-align: middle;\n",
              "    }\n",
              "\n",
              "    .dataframe tbody tr th {\n",
              "        vertical-align: top;\n",
              "    }\n",
              "\n",
              "    .dataframe thead th {\n",
              "        text-align: right;\n",
              "    }\n",
              "</style>\n",
              "<table border=\"1\" class=\"dataframe\">\n",
              "  <thead>\n",
              "    <tr style=\"text-align: right;\">\n",
              "      <th></th>\n",
              "      <th>clean_comment</th>\n",
              "      <th>sentiment</th>\n",
              "    </tr>\n",
              "  </thead>\n",
              "  <tbody>\n",
              "    <tr>\n",
              "      <th>0</th>\n",
              "      <td>chezea songesha wew</td>\n",
              "      <td>1</td>\n",
              "    </tr>\n",
              "    <tr>\n",
              "      <th>1</th>\n",
              "      <td>tafuta hela usilalamikie mabadiliko vifurushi ...</td>\n",
              "      <td>1</td>\n",
              "    </tr>\n",
              "    <tr>\n",
              "      <th>2</th>\n",
              "      <td>mtandao tigo una tatizo simu siku tatu leo mam...</td>\n",
              "      <td>-1</td>\n",
              "    </tr>\n",
              "    <tr>\n",
              "      <th>3</th>\n",
              "      <td>tamtam bando kuinunulia mpk tpesa</td>\n",
              "      <td>1</td>\n",
              "    </tr>\n",
              "    <tr>\n",
              "      <th>4</th>\n",
              "      <td>tatizo kifurushi internet nw akikai awali una ...</td>\n",
              "      <td>-1</td>\n",
              "    </tr>\n",
              "    <tr>\n",
              "      <th>...</th>\n",
              "      <td>...</td>\n",
              "      <td>...</td>\n",
              "    </tr>\n",
              "    <tr>\n",
              "      <th>8784</th>\n",
              "      <td>unastream kutumia mtandao gani</td>\n",
              "      <td>0</td>\n",
              "    </tr>\n",
              "    <tr>\n",
              "      <th>8785</th>\n",
              "      <td>mnasema mmebadilisha vifurushi naomba mnitajie...</td>\n",
              "      <td>-1</td>\n",
              "    </tr>\n",
              "    <tr>\n",
              "      <th>8786</th>\n",
              "      <td>ad ww unalalamika vo mm nan niendelee kutumia ...</td>\n",
              "      <td>-1</td>\n",
              "    </tr>\n",
              "    <tr>\n",
              "      <th>8787</th>\n",
              "      <td>bora mi nikitumiwa pesa halopesa haiingii wala...</td>\n",
              "      <td>-1</td>\n",
              "    </tr>\n",
              "    <tr>\n",
              "      <th>8788</th>\n",
              "      <td>weuh sivyo situation zina chapa but haziru tun...</td>\n",
              "      <td>0</td>\n",
              "    </tr>\n",
              "  </tbody>\n",
              "</table>\n",
              "<p>8767 rows × 2 columns</p>\n",
              "</div>\n",
              "      <button class=\"colab-df-convert\" onclick=\"convertToInteractive('df-5aa0fe8a-200a-432f-90c9-7c8e0e59db80')\"\n",
              "              title=\"Convert this dataframe to an interactive table.\"\n",
              "              style=\"display:none;\">\n",
              "        \n",
              "  <svg xmlns=\"http://www.w3.org/2000/svg\" height=\"24px\"viewBox=\"0 0 24 24\"\n",
              "       width=\"24px\">\n",
              "    <path d=\"M0 0h24v24H0V0z\" fill=\"none\"/>\n",
              "    <path d=\"M18.56 5.44l.94 2.06.94-2.06 2.06-.94-2.06-.94-.94-2.06-.94 2.06-2.06.94zm-11 1L8.5 8.5l.94-2.06 2.06-.94-2.06-.94L8.5 2.5l-.94 2.06-2.06.94zm10 10l.94 2.06.94-2.06 2.06-.94-2.06-.94-.94-2.06-.94 2.06-2.06.94z\"/><path d=\"M17.41 7.96l-1.37-1.37c-.4-.4-.92-.59-1.43-.59-.52 0-1.04.2-1.43.59L10.3 9.45l-7.72 7.72c-.78.78-.78 2.05 0 2.83L4 21.41c.39.39.9.59 1.41.59.51 0 1.02-.2 1.41-.59l7.78-7.78 2.81-2.81c.8-.78.8-2.07 0-2.86zM5.41 20L4 18.59l7.72-7.72 1.47 1.35L5.41 20z\"/>\n",
              "  </svg>\n",
              "      </button>\n",
              "      \n",
              "  <style>\n",
              "    .colab-df-container {\n",
              "      display:flex;\n",
              "      flex-wrap:wrap;\n",
              "      gap: 12px;\n",
              "    }\n",
              "\n",
              "    .colab-df-convert {\n",
              "      background-color: #E8F0FE;\n",
              "      border: none;\n",
              "      border-radius: 50%;\n",
              "      cursor: pointer;\n",
              "      display: none;\n",
              "      fill: #1967D2;\n",
              "      height: 32px;\n",
              "      padding: 0 0 0 0;\n",
              "      width: 32px;\n",
              "    }\n",
              "\n",
              "    .colab-df-convert:hover {\n",
              "      background-color: #E2EBFA;\n",
              "      box-shadow: 0px 1px 2px rgba(60, 64, 67, 0.3), 0px 1px 3px 1px rgba(60, 64, 67, 0.15);\n",
              "      fill: #174EA6;\n",
              "    }\n",
              "\n",
              "    [theme=dark] .colab-df-convert {\n",
              "      background-color: #3B4455;\n",
              "      fill: #D2E3FC;\n",
              "    }\n",
              "\n",
              "    [theme=dark] .colab-df-convert:hover {\n",
              "      background-color: #434B5C;\n",
              "      box-shadow: 0px 1px 3px 1px rgba(0, 0, 0, 0.15);\n",
              "      filter: drop-shadow(0px 1px 2px rgba(0, 0, 0, 0.3));\n",
              "      fill: #FFFFFF;\n",
              "    }\n",
              "  </style>\n",
              "\n",
              "      <script>\n",
              "        const buttonEl =\n",
              "          document.querySelector('#df-5aa0fe8a-200a-432f-90c9-7c8e0e59db80 button.colab-df-convert');\n",
              "        buttonEl.style.display =\n",
              "          google.colab.kernel.accessAllowed ? 'block' : 'none';\n",
              "\n",
              "        async function convertToInteractive(key) {\n",
              "          const element = document.querySelector('#df-5aa0fe8a-200a-432f-90c9-7c8e0e59db80');\n",
              "          const dataTable =\n",
              "            await google.colab.kernel.invokeFunction('convertToInteractive',\n",
              "                                                     [key], {});\n",
              "          if (!dataTable) return;\n",
              "\n",
              "          const docLinkHtml = 'Like what you see? Visit the ' +\n",
              "            '<a target=\"_blank\" href=https://colab.research.google.com/notebooks/data_table.ipynb>data table notebook</a>'\n",
              "            + ' to learn more about interactive tables.';\n",
              "          element.innerHTML = '';\n",
              "          dataTable['output_type'] = 'display_data';\n",
              "          await google.colab.output.renderOutput(dataTable, element);\n",
              "          const docLink = document.createElement('div');\n",
              "          docLink.innerHTML = docLinkHtml;\n",
              "          element.appendChild(docLink);\n",
              "        }\n",
              "      </script>\n",
              "    </div>\n",
              "  </div>\n",
              "  "
            ]
          },
          "metadata": {},
          "execution_count": 33
        }
      ],
      "source": [
        "telecom_data[[\"clean_comment\", 'sentiment']]"
      ]
    },
    {
      "cell_type": "code",
      "execution_count": 34,
      "id": "d1904e89-92f5-4f53-87a3-a5a2e2dc2e97",
      "metadata": {
        "id": "d1904e89-92f5-4f53-87a3-a5a2e2dc2e97"
      },
      "outputs": [],
      "source": [
        "# Split datasate into training and test chunks with a ratio of 8:0 respective\n",
        "X_train, X_test, y_train, y_test = train_test_split(clean_telecom_data[\"clean_comment\"], clean_telecom_data[\"sentiment\"], test_size=0.2, random_state=42, shuffle=True)"
      ]
    },
    {
      "cell_type": "code",
      "execution_count": 35,
      "id": "2016dfa9-7e8c-4108-be71-d73dcea5416f",
      "metadata": {
        "colab": {
          "base_uri": "https://localhost:8080/"
        },
        "id": "2016dfa9-7e8c-4108-be71-d73dcea5416f",
        "outputId": "bc6171c9-c9ca-4bb8-8ded-32fa3761bcb3"
      },
      "outputs": [
        {
          "output_type": "stream",
          "name": "stdout",
          "text": [
            "Training sample size =  7013\n"
          ]
        }
      ],
      "source": [
        "print(\"Training sample size = \", X_train.shape[0])"
      ]
    },
    {
      "cell_type": "code",
      "execution_count": 36,
      "id": "8b05cc4e-0b2f-4c0e-9b7d-b6ce5a62e189",
      "metadata": {
        "colab": {
          "base_uri": "https://localhost:8080/"
        },
        "id": "8b05cc4e-0b2f-4c0e-9b7d-b6ce5a62e189",
        "outputId": "f99320c6-ea4a-42df-f1d8-a6df679916ff"
      },
      "outputs": [
        {
          "output_type": "stream",
          "name": "stdout",
          "text": [
            "Testing sample size =  1754\n"
          ]
        }
      ],
      "source": [
        "print(\"Testing sample size = \", X_test.shape[0])"
      ]
    },
    {
      "cell_type": "code",
      "execution_count": 37,
      "id": "ZEc3m2eoMVn2",
      "metadata": {
        "colab": {
          "base_uri": "https://localhost:8080/"
        },
        "id": "ZEc3m2eoMVn2",
        "outputId": "be8c70e1-e98d-41f0-d371-4902f77403fe"
      },
      "outputs": [
        {
          "output_type": "execute_result",
          "data": {
            "text/plain": [
              "date             8767\n",
              "comment          8767\n",
              "platform         8767\n",
              "sentiment        8767\n",
              "clean_comment    8767\n",
              "dtype: int64"
            ]
          },
          "metadata": {},
          "execution_count": 37
        }
      ],
      "source": [
        "telecom_data.count()"
      ]
    },
    {
      "cell_type": "markdown",
      "id": "1691e079-5b0b-4738-adbe-bb4c93a1f8be",
      "metadata": {
        "id": "1691e079-5b0b-4738-adbe-bb4c93a1f8be"
      },
      "source": [
        "# 4.1 SUPPORT VECTOR MACHINE (SVM)"
      ]
    },
    {
      "cell_type": "code",
      "execution_count": 38,
      "id": "909fa7e5-6a58-4e14-be1c-bc08040d3337",
      "metadata": {
        "id": "909fa7e5-6a58-4e14-be1c-bc08040d3337"
      },
      "outputs": [],
      "source": [
        "# Initialize a vectorization and modelling pipeline\n",
        "svm_pipeline = Pipeline([\n",
        "     ('vect', CountVectorizer(ngram_range=(1,1))),\n",
        "     ('tfidf', TfidfTransformer()),\n",
        "     ('clf', SVC(kernel = 'sigmoid', random_state=0, gamma='scale', C=1.2, probability=True)), #tunned svm\n",
        " ])"
      ]
    },
    {
      "cell_type": "code",
      "execution_count": 39,
      "id": "b049b5ff-62b9-44ef-8ced-4bd34ed9ae8a",
      "metadata": {
        "colab": {
          "base_uri": "https://localhost:8080/",
          "height": 161
        },
        "id": "b049b5ff-62b9-44ef-8ced-4bd34ed9ae8a",
        "outputId": "d961e749-83e5-43a3-d001-b3f3eb3e0952"
      },
      "outputs": [
        {
          "output_type": "execute_result",
          "data": {
            "text/plain": [
              "Pipeline(steps=[('vect', CountVectorizer()), ('tfidf', TfidfTransformer()),\n",
              "                ('clf',\n",
              "                 SVC(C=1.2, kernel='sigmoid', probability=True,\n",
              "                     random_state=0))])"
            ],
            "text/html": [
              "<style>#sk-container-id-1 {color: black;background-color: white;}#sk-container-id-1 pre{padding: 0;}#sk-container-id-1 div.sk-toggleable {background-color: white;}#sk-container-id-1 label.sk-toggleable__label {cursor: pointer;display: block;width: 100%;margin-bottom: 0;padding: 0.3em;box-sizing: border-box;text-align: center;}#sk-container-id-1 label.sk-toggleable__label-arrow:before {content: \"▸\";float: left;margin-right: 0.25em;color: #696969;}#sk-container-id-1 label.sk-toggleable__label-arrow:hover:before {color: black;}#sk-container-id-1 div.sk-estimator:hover label.sk-toggleable__label-arrow:before {color: black;}#sk-container-id-1 div.sk-toggleable__content {max-height: 0;max-width: 0;overflow: hidden;text-align: left;background-color: #f0f8ff;}#sk-container-id-1 div.sk-toggleable__content pre {margin: 0.2em;color: black;border-radius: 0.25em;background-color: #f0f8ff;}#sk-container-id-1 input.sk-toggleable__control:checked~div.sk-toggleable__content {max-height: 200px;max-width: 100%;overflow: auto;}#sk-container-id-1 input.sk-toggleable__control:checked~label.sk-toggleable__label-arrow:before {content: \"▾\";}#sk-container-id-1 div.sk-estimator input.sk-toggleable__control:checked~label.sk-toggleable__label {background-color: #d4ebff;}#sk-container-id-1 div.sk-label input.sk-toggleable__control:checked~label.sk-toggleable__label {background-color: #d4ebff;}#sk-container-id-1 input.sk-hidden--visually {border: 0;clip: rect(1px 1px 1px 1px);clip: rect(1px, 1px, 1px, 1px);height: 1px;margin: -1px;overflow: hidden;padding: 0;position: absolute;width: 1px;}#sk-container-id-1 div.sk-estimator {font-family: monospace;background-color: #f0f8ff;border: 1px dotted black;border-radius: 0.25em;box-sizing: border-box;margin-bottom: 0.5em;}#sk-container-id-1 div.sk-estimator:hover {background-color: #d4ebff;}#sk-container-id-1 div.sk-parallel-item::after {content: \"\";width: 100%;border-bottom: 1px solid gray;flex-grow: 1;}#sk-container-id-1 div.sk-label:hover label.sk-toggleable__label {background-color: #d4ebff;}#sk-container-id-1 div.sk-serial::before {content: \"\";position: absolute;border-left: 1px solid gray;box-sizing: border-box;top: 0;bottom: 0;left: 50%;z-index: 0;}#sk-container-id-1 div.sk-serial {display: flex;flex-direction: column;align-items: center;background-color: white;padding-right: 0.2em;padding-left: 0.2em;position: relative;}#sk-container-id-1 div.sk-item {position: relative;z-index: 1;}#sk-container-id-1 div.sk-parallel {display: flex;align-items: stretch;justify-content: center;background-color: white;position: relative;}#sk-container-id-1 div.sk-item::before, #sk-container-id-1 div.sk-parallel-item::before {content: \"\";position: absolute;border-left: 1px solid gray;box-sizing: border-box;top: 0;bottom: 0;left: 50%;z-index: -1;}#sk-container-id-1 div.sk-parallel-item {display: flex;flex-direction: column;z-index: 1;position: relative;background-color: white;}#sk-container-id-1 div.sk-parallel-item:first-child::after {align-self: flex-end;width: 50%;}#sk-container-id-1 div.sk-parallel-item:last-child::after {align-self: flex-start;width: 50%;}#sk-container-id-1 div.sk-parallel-item:only-child::after {width: 0;}#sk-container-id-1 div.sk-dashed-wrapped {border: 1px dashed gray;margin: 0 0.4em 0.5em 0.4em;box-sizing: border-box;padding-bottom: 0.4em;background-color: white;}#sk-container-id-1 div.sk-label label {font-family: monospace;font-weight: bold;display: inline-block;line-height: 1.2em;}#sk-container-id-1 div.sk-label-container {text-align: center;}#sk-container-id-1 div.sk-container {/* jupyter's `normalize.less` sets `[hidden] { display: none; }` but bootstrap.min.css set `[hidden] { display: none !important; }` so we also need the `!important` here to be able to override the default hidden behavior on the sphinx rendered scikit-learn.org. See: https://github.com/scikit-learn/scikit-learn/issues/21755 */display: inline-block !important;position: relative;}#sk-container-id-1 div.sk-text-repr-fallback {display: none;}</style><div id=\"sk-container-id-1\" class=\"sk-top-container\"><div class=\"sk-text-repr-fallback\"><pre>Pipeline(steps=[(&#x27;vect&#x27;, CountVectorizer()), (&#x27;tfidf&#x27;, TfidfTransformer()),\n",
              "                (&#x27;clf&#x27;,\n",
              "                 SVC(C=1.2, kernel=&#x27;sigmoid&#x27;, probability=True,\n",
              "                     random_state=0))])</pre><b>In a Jupyter environment, please rerun this cell to show the HTML representation or trust the notebook. <br />On GitHub, the HTML representation is unable to render, please try loading this page with nbviewer.org.</b></div><div class=\"sk-container\" hidden><div class=\"sk-item sk-dashed-wrapped\"><div class=\"sk-label-container\"><div class=\"sk-label sk-toggleable\"><input class=\"sk-toggleable__control sk-hidden--visually\" id=\"sk-estimator-id-1\" type=\"checkbox\" ><label for=\"sk-estimator-id-1\" class=\"sk-toggleable__label sk-toggleable__label-arrow\">Pipeline</label><div class=\"sk-toggleable__content\"><pre>Pipeline(steps=[(&#x27;vect&#x27;, CountVectorizer()), (&#x27;tfidf&#x27;, TfidfTransformer()),\n",
              "                (&#x27;clf&#x27;,\n",
              "                 SVC(C=1.2, kernel=&#x27;sigmoid&#x27;, probability=True,\n",
              "                     random_state=0))])</pre></div></div></div><div class=\"sk-serial\"><div class=\"sk-item\"><div class=\"sk-estimator sk-toggleable\"><input class=\"sk-toggleable__control sk-hidden--visually\" id=\"sk-estimator-id-2\" type=\"checkbox\" ><label for=\"sk-estimator-id-2\" class=\"sk-toggleable__label sk-toggleable__label-arrow\">CountVectorizer</label><div class=\"sk-toggleable__content\"><pre>CountVectorizer()</pre></div></div></div><div class=\"sk-item\"><div class=\"sk-estimator sk-toggleable\"><input class=\"sk-toggleable__control sk-hidden--visually\" id=\"sk-estimator-id-3\" type=\"checkbox\" ><label for=\"sk-estimator-id-3\" class=\"sk-toggleable__label sk-toggleable__label-arrow\">TfidfTransformer</label><div class=\"sk-toggleable__content\"><pre>TfidfTransformer()</pre></div></div></div><div class=\"sk-item\"><div class=\"sk-estimator sk-toggleable\"><input class=\"sk-toggleable__control sk-hidden--visually\" id=\"sk-estimator-id-4\" type=\"checkbox\" ><label for=\"sk-estimator-id-4\" class=\"sk-toggleable__label sk-toggleable__label-arrow\">SVC</label><div class=\"sk-toggleable__content\"><pre>SVC(C=1.2, kernel=&#x27;sigmoid&#x27;, probability=True, random_state=0)</pre></div></div></div></div></div></div></div>"
            ]
          },
          "metadata": {},
          "execution_count": 39
        }
      ],
      "source": [
        "# SVM Algorithm training X_train, X_test, y_train, y_test\n",
        "svm_model = svm_pipeline.fit(X_train.values.astype('U'), y_train.values.astype('int64'))\n",
        "svm_model"
      ]
    },
    {
      "cell_type": "code",
      "execution_count": 40,
      "id": "po6ebUJoNlFe",
      "metadata": {
        "colab": {
          "base_uri": "https://localhost:8080/"
        },
        "id": "po6ebUJoNlFe",
        "outputId": "b5f3887d-4975-4b37-fad9-575baf3328b1"
      },
      "outputs": [
        {
          "output_type": "execute_result",
          "data": {
            "text/plain": [
              "array([-1,  0,  1])"
            ]
          },
          "metadata": {},
          "execution_count": 40
        }
      ],
      "source": [
        "y_pred = svm_model.predict(X_test.values.astype('U'))\n",
        "svm_model.classes_"
      ]
    },
    {
      "cell_type": "code",
      "execution_count": 41,
      "id": "a6a70991-ba0a-4902-aea8-a90c96782a69",
      "metadata": {
        "colab": {
          "base_uri": "https://localhost:8080/"
        },
        "id": "a6a70991-ba0a-4902-aea8-a90c96782a69",
        "outputId": "adab3e1c-9c69-4642-a1d5-8e565919fd35",
        "tags": []
      },
      "outputs": [
        {
          "output_type": "stream",
          "name": "stdout",
          "text": [
            "[[735 229   2]\n",
            " [292 390   0]\n",
            " [ 60  44   2]]\n"
          ]
        }
      ],
      "source": [
        "cm = confusion_matrix(y_test, y_pred, labels=svm_model.classes_)\n",
        "print(cm)"
      ]
    },
    {
      "cell_type": "code",
      "execution_count": 42,
      "id": "717a475c-4695-423a-b02e-536085d007a9",
      "metadata": {
        "colab": {
          "base_uri": "https://localhost:8080/",
          "height": 296
        },
        "id": "717a475c-4695-423a-b02e-536085d007a9",
        "outputId": "ae592c87-ec96-4440-a7b9-b12dfcc5aede",
        "tags": []
      },
      "outputs": [
        {
          "output_type": "stream",
          "name": "stdout",
          "text": [
            "<sklearn.metrics._plot.confusion_matrix.ConfusionMatrixDisplay object at 0x7fd5286cf670>\n"
          ]
        },
        {
          "output_type": "display_data",
          "data": {
            "text/plain": [
              "<Figure size 432x288 with 2 Axes>"
            ],
            "image/png": "[encoded data removed]"
          },
          "metadata": {
            "needs_background": "light"
          }
        }
      ],
      "source": [
        "cm_dsp=ConfusionMatrixDisplay(confusion_matrix=cm, display_labels=['Negatives', 'Neutral', 'Positive'])\n",
        "print(cm_dsp.plot())"
      ]
    },
    {
      "cell_type": "code",
      "execution_count": 43,
      "id": "c9351292-53b9-499c-92af-d155a3c22aca",
      "metadata": {
        "colab": {
          "base_uri": "https://localhost:8080/"
        },
        "id": "c9351292-53b9-499c-92af-d155a3c22aca",
        "outputId": "baba8c0a-18f6-49d4-b5af-1953757eb847",
        "tags": []
      },
      "outputs": [
        {
          "output_type": "stream",
          "name": "stdout",
          "text": [
            "Model Score: 0.6425313568985177\n",
            "Model Score: 64.25%\n",
            "\n",
            "Accuracy: 0.6425313568985177\n",
            "Accuracy: 64.25%\n",
            "\n",
            "F1-score: 0.6220321019060553\n",
            "F1-score: 62.20%\n",
            "\n",
            "CPU times and Wall time: \n",
            "CPU times: user 2.68 s, sys: 3.12 ms, total: 2.68 s\n",
            "Wall time: 2.69 s\n"
          ]
        }
      ],
      "source": [
        "%%time\n",
        "\n",
        "#predicting \n",
        "y_pred = svm_model.predict(X_test.values.astype('U'))\n",
        "\n",
        "model_score = svm_model.score(X_test.values.astype('U'), y_test.values.astype('int64'))\n",
        "print(f'Model Score: {model_score}')\n",
        "print(f'Model Score: {model_score*100:.2f}%')\n",
        "accuracy = accuracy_score(y_test, y_pred)\n",
        "print()\n",
        "print(f\"Accuracy: {accuracy}\")\n",
        "print(f\"Accuracy: {accuracy*100:.2f}%\")\n",
        "print()\n",
        "f1 = f1_score(y_test, y_pred, average='weighted')\n",
        "print(f\"F1-score: {f1}\")\n",
        "print(f\"F1-score: {f1*100:.2f}%\")\n",
        "print()\n",
        "print(\"CPU times and Wall time: \")"
      ]
    },
    {
      "cell_type": "code",
      "execution_count": 44,
      "id": "3f69f227-fe8f-4713-9648-f517c517ad8b",
      "metadata": {
        "colab": {
          "base_uri": "https://localhost:8080/"
        },
        "id": "3f69f227-fe8f-4713-9648-f517c517ad8b",
        "outputId": "ec477c26-0eaf-4e55-d174-f9ff8f58aa07"
      },
      "outputs": [
        {
          "output_type": "execute_result",
          "data": {
            "text/plain": [
              "['models/SVM_model_score_64.25.pkl']"
            ]
          },
          "metadata": {},
          "execution_count": 44
        }
      ],
      "source": [
        "# Save to file / directory\n",
        "joblib_file = \"models/SVM_model_score_\"+ str(round(accuracy*100,2))+\".pkl\"\n",
        "joblib.dump(svm_model, joblib_file)"
      ]
    },
    {
      "cell_type": "markdown",
      "id": "c2634a08-ffe0-4637-9271-cf8c89dc9482",
      "metadata": {
        "id": "c2634a08-ffe0-4637-9271-cf8c89dc9482"
      },
      "source": [
        "## 4.2 RANDOM FOREST"
      ]
    },
    {
      "cell_type": "code",
      "execution_count": 45,
      "id": "11d1e899-afab-4bf6-b8f0-0f12851f8aeb",
      "metadata": {
        "id": "11d1e899-afab-4bf6-b8f0-0f12851f8aeb"
      },
      "outputs": [],
      "source": [
        "# Initialize a vectorization and modelling pipeline\n",
        "rf_pipeline = Pipeline([\n",
        "     ('vect', CountVectorizer(ngram_range=(1,1))),\n",
        "     ('tfidf', TfidfTransformer()),\n",
        "     ('clf', RandomForestClassifier()),\n",
        " ])"
      ]
    },
    {
      "cell_type": "code",
      "execution_count": 46,
      "id": "5b119691-4c4f-4fc8-b57a-a57ebfd4b774",
      "metadata": {
        "colab": {
          "base_uri": "https://localhost:8080/",
          "height": 161
        },
        "id": "5b119691-4c4f-4fc8-b57a-a57ebfd4b774",
        "outputId": "1994d931-5ff4-4df1-fca5-e0182642d9b3"
      },
      "outputs": [
        {
          "output_type": "execute_result",
          "data": {
            "text/plain": [
              "Pipeline(steps=[('vect', CountVectorizer()), ('tfidf', TfidfTransformer()),\n",
              "                ('clf', RandomForestClassifier())])"
            ],
            "text/html": [
              "<style>#sk-container-id-2 {color: black;background-color: white;}#sk-container-id-2 pre{padding: 0;}#sk-container-id-2 div.sk-toggleable {background-color: white;}#sk-container-id-2 label.sk-toggleable__label {cursor: pointer;display: block;width: 100%;margin-bottom: 0;padding: 0.3em;box-sizing: border-box;text-align: center;}#sk-container-id-2 label.sk-toggleable__label-arrow:before {content: \"▸\";float: left;margin-right: 0.25em;color: #696969;}#sk-container-id-2 label.sk-toggleable__label-arrow:hover:before {color: black;}#sk-container-id-2 div.sk-estimator:hover label.sk-toggleable__label-arrow:before {color: black;}#sk-container-id-2 div.sk-toggleable__content {max-height: 0;max-width: 0;overflow: hidden;text-align: left;background-color: #f0f8ff;}#sk-container-id-2 div.sk-toggleable__content pre {margin: 0.2em;color: black;border-radius: 0.25em;background-color: #f0f8ff;}#sk-container-id-2 input.sk-toggleable__control:checked~div.sk-toggleable__content {max-height: 200px;max-width: 100%;overflow: auto;}#sk-container-id-2 input.sk-toggleable__control:checked~label.sk-toggleable__label-arrow:before {content: \"▾\";}#sk-container-id-2 div.sk-estimator input.sk-toggleable__control:checked~label.sk-toggleable__label {background-color: #d4ebff;}#sk-container-id-2 div.sk-label input.sk-toggleable__control:checked~label.sk-toggleable__label {background-color: #d4ebff;}#sk-container-id-2 input.sk-hidden--visually {border: 0;clip: rect(1px 1px 1px 1px);clip: rect(1px, 1px, 1px, 1px);height: 1px;margin: -1px;overflow: hidden;padding: 0;position: absolute;width: 1px;}#sk-container-id-2 div.sk-estimator {font-family: monospace;background-color: #f0f8ff;border: 1px dotted black;border-radius: 0.25em;box-sizing: border-box;margin-bottom: 0.5em;}#sk-container-id-2 div.sk-estimator:hover {background-color: #d4ebff;}#sk-container-id-2 div.sk-parallel-item::after {content: \"\";width: 100%;border-bottom: 1px solid gray;flex-grow: 1;}#sk-container-id-2 div.sk-label:hover label.sk-toggleable__label {background-color: #d4ebff;}#sk-container-id-2 div.sk-serial::before {content: \"\";position: absolute;border-left: 1px solid gray;box-sizing: border-box;top: 0;bottom: 0;left: 50%;z-index: 0;}#sk-container-id-2 div.sk-serial {display: flex;flex-direction: column;align-items: center;background-color: white;padding-right: 0.2em;padding-left: 0.2em;position: relative;}#sk-container-id-2 div.sk-item {position: relative;z-index: 1;}#sk-container-id-2 div.sk-parallel {display: flex;align-items: stretch;justify-content: center;background-color: white;position: relative;}#sk-container-id-2 div.sk-item::before, #sk-container-id-2 div.sk-parallel-item::before {content: \"\";position: absolute;border-left: 1px solid gray;box-sizing: border-box;top: 0;bottom: 0;left: 50%;z-index: -1;}#sk-container-id-2 div.sk-parallel-item {display: flex;flex-direction: column;z-index: 1;position: relative;background-color: white;}#sk-container-id-2 div.sk-parallel-item:first-child::after {align-self: flex-end;width: 50%;}#sk-container-id-2 div.sk-parallel-item:last-child::after {align-self: flex-start;width: 50%;}#sk-container-id-2 div.sk-parallel-item:only-child::after {width: 0;}#sk-container-id-2 div.sk-dashed-wrapped {border: 1px dashed gray;margin: 0 0.4em 0.5em 0.4em;box-sizing: border-box;padding-bottom: 0.4em;background-color: white;}#sk-container-id-2 div.sk-label label {font-family: monospace;font-weight: bold;display: inline-block;line-height: 1.2em;}#sk-container-id-2 div.sk-label-container {text-align: center;}#sk-container-id-2 div.sk-container {/* jupyter's `normalize.less` sets `[hidden] { display: none; }` but bootstrap.min.css set `[hidden] { display: none !important; }` so we also need the `!important` here to be able to override the default hidden behavior on the sphinx rendered scikit-learn.org. See: https://github.com/scikit-learn/scikit-learn/issues/21755 */display: inline-block !important;position: relative;}#sk-container-id-2 div.sk-text-repr-fallback {display: none;}</style><div id=\"sk-container-id-2\" class=\"sk-top-container\"><div class=\"sk-text-repr-fallback\"><pre>Pipeline(steps=[(&#x27;vect&#x27;, CountVectorizer()), (&#x27;tfidf&#x27;, TfidfTransformer()),\n",
              "                (&#x27;clf&#x27;, RandomForestClassifier())])</pre><b>In a Jupyter environment, please rerun this cell to show the HTML representation or trust the notebook. <br />On GitHub, the HTML representation is unable to render, please try loading this page with nbviewer.org.</b></div><div class=\"sk-container\" hidden><div class=\"sk-item sk-dashed-wrapped\"><div class=\"sk-label-container\"><div class=\"sk-label sk-toggleable\"><input class=\"sk-toggleable__control sk-hidden--visually\" id=\"sk-estimator-id-5\" type=\"checkbox\" ><label for=\"sk-estimator-id-5\" class=\"sk-toggleable__label sk-toggleable__label-arrow\">Pipeline</label><div class=\"sk-toggleable__content\"><pre>Pipeline(steps=[(&#x27;vect&#x27;, CountVectorizer()), (&#x27;tfidf&#x27;, TfidfTransformer()),\n",
              "                (&#x27;clf&#x27;, RandomForestClassifier())])</pre></div></div></div><div class=\"sk-serial\"><div class=\"sk-item\"><div class=\"sk-estimator sk-toggleable\"><input class=\"sk-toggleable__control sk-hidden--visually\" id=\"sk-estimator-id-6\" type=\"checkbox\" ><label for=\"sk-estimator-id-6\" class=\"sk-toggleable__label sk-toggleable__label-arrow\">CountVectorizer</label><div class=\"sk-toggleable__content\"><pre>CountVectorizer()</pre></div></div></div><div class=\"sk-item\"><div class=\"sk-estimator sk-toggleable\"><input class=\"sk-toggleable__control sk-hidden--visually\" id=\"sk-estimator-id-7\" type=\"checkbox\" ><label for=\"sk-estimator-id-7\" class=\"sk-toggleable__label sk-toggleable__label-arrow\">TfidfTransformer</label><div class=\"sk-toggleable__content\"><pre>TfidfTransformer()</pre></div></div></div><div class=\"sk-item\"><div class=\"sk-estimator sk-toggleable\"><input class=\"sk-toggleable__control sk-hidden--visually\" id=\"sk-estimator-id-8\" type=\"checkbox\" ><label for=\"sk-estimator-id-8\" class=\"sk-toggleable__label sk-toggleable__label-arrow\">RandomForestClassifier</label><div class=\"sk-toggleable__content\"><pre>RandomForestClassifier()</pre></div></div></div></div></div></div></div>"
            ]
          },
          "metadata": {},
          "execution_count": 46
        }
      ],
      "source": [
        "# RANDOM FOREST Algorithm training X_train, X_test, y_train, y_test\n",
        "rf_model = rf_pipeline.fit(X_train.values.astype('U'), y_train.values.astype('int64'))\n",
        "rf_model"
      ]
    },
    {
      "cell_type": "code",
      "execution_count": 47,
      "id": "5391641b-0a41-4586-abed-43888d19aa79",
      "metadata": {
        "colab": {
          "base_uri": "https://localhost:8080/"
        },
        "id": "5391641b-0a41-4586-abed-43888d19aa79",
        "outputId": "8852e8c2-18e0-4348-f80b-dd085025233a",
        "tags": []
      },
      "outputs": [
        {
          "output_type": "execute_result",
          "data": {
            "text/plain": [
              "array([-1,  0,  1])"
            ]
          },
          "metadata": {},
          "execution_count": 47
        }
      ],
      "source": [
        "y_pred = rf_model.predict(X_test.values.astype('U'))\n",
        "rf_model.classes_"
      ]
    },
    {
      "cell_type": "code",
      "execution_count": 48,
      "id": "0b0f795b-29a3-4964-877b-5be5ece0afea",
      "metadata": {
        "colab": {
          "base_uri": "https://localhost:8080/"
        },
        "id": "0b0f795b-29a3-4964-877b-5be5ece0afea",
        "outputId": "6a961dbc-301c-4854-a8bb-ce72756f3daa",
        "tags": []
      },
      "outputs": [
        {
          "output_type": "stream",
          "name": "stdout",
          "text": [
            "[[748 218   0]\n",
            " [300 380   2]\n",
            " [ 62  39   5]]\n"
          ]
        }
      ],
      "source": [
        "cm = confusion_matrix(y_test, y_pred, labels=rf_model.classes_)\n",
        "print(cm)"
      ]
    },
    {
      "cell_type": "code",
      "execution_count": 49,
      "id": "4f55fa3c-f3ea-46d5-b19c-a31daf880e47",
      "metadata": {
        "colab": {
          "base_uri": "https://localhost:8080/",
          "height": 296
        },
        "id": "4f55fa3c-f3ea-46d5-b19c-a31daf880e47",
        "outputId": "3d362f0a-d18f-4fd4-dfec-7c4b0364fcb1",
        "tags": []
      },
      "outputs": [
        {
          "output_type": "execute_result",
          "data": {
            "text/plain": [
              "<sklearn.metrics._plot.confusion_matrix.ConfusionMatrixDisplay at 0x7fd525f74130>"
            ]
          },
          "metadata": {},
          "execution_count": 49
        },
        {
          "output_type": "display_data",
          "data": {
            "text/plain": [
              "<Figure size 432x288 with 2 Axes>"
            ],
            "image/png": "[encoded data removed]"
          },
          "metadata": {
            "needs_background": "light"
          }
        }
      ],
      "source": [
        "cm_dsp=ConfusionMatrixDisplay(confusion_matrix=cm, display_labels=['Negatives', 'Neutral', 'Positive'])\n",
        "cm_dsp.plot()"
      ]
    },
    {
      "cell_type": "code",
      "execution_count": 50,
      "id": "aac0325f-5ca9-4562-bd85-66b322aad82a",
      "metadata": {
        "colab": {
          "base_uri": "https://localhost:8080/"
        },
        "id": "aac0325f-5ca9-4562-bd85-66b322aad82a",
        "outputId": "d058eaf4-b260-48c6-802b-5d6ba3562224"
      },
      "outputs": [
        {
          "output_type": "stream",
          "name": "stdout",
          "text": [
            "Model Score: 0.6459521094640821\n",
            "Model Score: 64.60%\n",
            "\n",
            "Accuracy: 0.6459521094640821\n",
            "Accuracy: 64.60%\n",
            "\n",
            "F1-score: 0.6262602650253833\n",
            "F1-score: 62.63%\n",
            "\n",
            "CPU times and Wall time: \n",
            "CPU times: user 375 ms, sys: 4.1 ms, total: 379 ms\n",
            "Wall time: 376 ms\n"
          ]
        }
      ],
      "source": [
        "%%time\n",
        "\n",
        "#predicting \n",
        "y_pred = rf_model.predict(X_test.values.astype('U'))\n",
        "\n",
        "model_score = rf_model.score(X_test.values.astype('U'), y_test.values.astype('int64'))\n",
        "print(f'Model Score: {model_score}')\n",
        "print(f'Model Score: {model_score*100:.2f}%')\n",
        "accuracy = accuracy_score(y_test, y_pred)\n",
        "print()\n",
        "print(f\"Accuracy: {accuracy}\")\n",
        "print(f\"Accuracy: {accuracy*100:.2f}%\")\n",
        "print()\n",
        "f1 = f1_score(y_test, y_pred, average='weighted')\n",
        "print(f\"F1-score: {f1}\")\n",
        "print(f\"F1-score: {f1*100:.2f}%\")\n",
        "print()\n",
        "print(\"CPU times and Wall time: \")"
      ]
    },
    {
      "cell_type": "code",
      "execution_count": 51,
      "id": "3f1f9c66-134b-402e-8eae-e8e08a286904",
      "metadata": {
        "colab": {
          "base_uri": "https://localhost:8080/"
        },
        "id": "3f1f9c66-134b-402e-8eae-e8e08a286904",
        "outputId": "b2ff51f9-cd35-4465-c21d-b49ef71bb7f4"
      },
      "outputs": [
        {
          "output_type": "execute_result",
          "data": {
            "text/plain": [
              "['models/Randomforest_model_score_64.6.pkl']"
            ]
          },
          "metadata": {},
          "execution_count": 51
        }
      ],
      "source": [
        "# Save to file / directory\n",
        "joblib_file = \"models/Randomforest_model_score_\"+ str(round(accuracy*100,2))+\".pkl\"\n",
        "joblib.dump(rf_model, joblib_file)"
      ]
    },
    {
      "cell_type": "markdown",
      "id": "d40724ff-ac2d-49ca-8e6f-2e993fbc4540",
      "metadata": {
        "id": "d40724ff-ac2d-49ca-8e6f-2e993fbc4540"
      },
      "source": [
        "# 4.3 DECISION TREE CLASSIFIER"
      ]
    },
    {
      "cell_type": "code",
      "execution_count": 52,
      "id": "c2458729-8dd9-4ff1-b03a-2c8eb91c6c0d",
      "metadata": {
        "id": "c2458729-8dd9-4ff1-b03a-2c8eb91c6c0d"
      },
      "outputs": [],
      "source": [
        "# Initialize a vectorization and modelling pipeline\n",
        "dt_pipeline = Pipeline([\n",
        "     ('vect', CountVectorizer(ngram_range=(1,1))),\n",
        "     ('tfidf', TfidfTransformer()),\n",
        "     ('clf', DecisionTreeClassifier()),\n",
        " ])"
      ]
    },
    {
      "cell_type": "code",
      "execution_count": 53,
      "id": "c8ea1f6f-3613-46b7-a78f-824c14699ed9",
      "metadata": {
        "colab": {
          "base_uri": "https://localhost:8080/",
          "height": 161
        },
        "id": "c8ea1f6f-3613-46b7-a78f-824c14699ed9",
        "outputId": "68570659-7e6c-4ac3-af39-ff1c323b7e96"
      },
      "outputs": [
        {
          "output_type": "execute_result",
          "data": {
            "text/plain": [
              "Pipeline(steps=[('vect', CountVectorizer()), ('tfidf', TfidfTransformer()),\n",
              "                ('clf', DecisionTreeClassifier())])"
            ],
            "text/html": [
              "<style>#sk-container-id-3 {color: black;background-color: white;}#sk-container-id-3 pre{padding: 0;}#sk-container-id-3 div.sk-toggleable {background-color: white;}#sk-container-id-3 label.sk-toggleable__label {cursor: pointer;display: block;width: 100%;margin-bottom: 0;padding: 0.3em;box-sizing: border-box;text-align: center;}#sk-container-id-3 label.sk-toggleable__label-arrow:before {content: \"▸\";float: left;margin-right: 0.25em;color: #696969;}#sk-container-id-3 label.sk-toggleable__label-arrow:hover:before {color: black;}#sk-container-id-3 div.sk-estimator:hover label.sk-toggleable__label-arrow:before {color: black;}#sk-container-id-3 div.sk-toggleable__content {max-height: 0;max-width: 0;overflow: hidden;text-align: left;background-color: #f0f8ff;}#sk-container-id-3 div.sk-toggleable__content pre {margin: 0.2em;color: black;border-radius: 0.25em;background-color: #f0f8ff;}#sk-container-id-3 input.sk-toggleable__control:checked~div.sk-toggleable__content {max-height: 200px;max-width: 100%;overflow: auto;}#sk-container-id-3 input.sk-toggleable__control:checked~label.sk-toggleable__label-arrow:before {content: \"▾\";}#sk-container-id-3 div.sk-estimator input.sk-toggleable__control:checked~label.sk-toggleable__label {background-color: #d4ebff;}#sk-container-id-3 div.sk-label input.sk-toggleable__control:checked~label.sk-toggleable__label {background-color: #d4ebff;}#sk-container-id-3 input.sk-hidden--visually {border: 0;clip: rect(1px 1px 1px 1px);clip: rect(1px, 1px, 1px, 1px);height: 1px;margin: -1px;overflow: hidden;padding: 0;position: absolute;width: 1px;}#sk-container-id-3 div.sk-estimator {font-family: monospace;background-color: #f0f8ff;border: 1px dotted black;border-radius: 0.25em;box-sizing: border-box;margin-bottom: 0.5em;}#sk-container-id-3 div.sk-estimator:hover {background-color: #d4ebff;}#sk-container-id-3 div.sk-parallel-item::after {content: \"\";width: 100%;border-bottom: 1px solid gray;flex-grow: 1;}#sk-container-id-3 div.sk-label:hover label.sk-toggleable__label {background-color: #d4ebff;}#sk-container-id-3 div.sk-serial::before {content: \"\";position: absolute;border-left: 1px solid gray;box-sizing: border-box;top: 0;bottom: 0;left: 50%;z-index: 0;}#sk-container-id-3 div.sk-serial {display: flex;flex-direction: column;align-items: center;background-color: white;padding-right: 0.2em;padding-left: 0.2em;position: relative;}#sk-container-id-3 div.sk-item {position: relative;z-index: 1;}#sk-container-id-3 div.sk-parallel {display: flex;align-items: stretch;justify-content: center;background-color: white;position: relative;}#sk-container-id-3 div.sk-item::before, #sk-container-id-3 div.sk-parallel-item::before {content: \"\";position: absolute;border-left: 1px solid gray;box-sizing: border-box;top: 0;bottom: 0;left: 50%;z-index: -1;}#sk-container-id-3 div.sk-parallel-item {display: flex;flex-direction: column;z-index: 1;position: relative;background-color: white;}#sk-container-id-3 div.sk-parallel-item:first-child::after {align-self: flex-end;width: 50%;}#sk-container-id-3 div.sk-parallel-item:last-child::after {align-self: flex-start;width: 50%;}#sk-container-id-3 div.sk-parallel-item:only-child::after {width: 0;}#sk-container-id-3 div.sk-dashed-wrapped {border: 1px dashed gray;margin: 0 0.4em 0.5em 0.4em;box-sizing: border-box;padding-bottom: 0.4em;background-color: white;}#sk-container-id-3 div.sk-label label {font-family: monospace;font-weight: bold;display: inline-block;line-height: 1.2em;}#sk-container-id-3 div.sk-label-container {text-align: center;}#sk-container-id-3 div.sk-container {/* jupyter's `normalize.less` sets `[hidden] { display: none; }` but bootstrap.min.css set `[hidden] { display: none !important; }` so we also need the `!important` here to be able to override the default hidden behavior on the sphinx rendered scikit-learn.org. See: https://github.com/scikit-learn/scikit-learn/issues/21755 */display: inline-block !important;position: relative;}#sk-container-id-3 div.sk-text-repr-fallback {display: none;}</style><div id=\"sk-container-id-3\" class=\"sk-top-container\"><div class=\"sk-text-repr-fallback\"><pre>Pipeline(steps=[(&#x27;vect&#x27;, CountVectorizer()), (&#x27;tfidf&#x27;, TfidfTransformer()),\n",
              "                (&#x27;clf&#x27;, DecisionTreeClassifier())])</pre><b>In a Jupyter environment, please rerun this cell to show the HTML representation or trust the notebook. <br />On GitHub, the HTML representation is unable to render, please try loading this page with nbviewer.org.</b></div><div class=\"sk-container\" hidden><div class=\"sk-item sk-dashed-wrapped\"><div class=\"sk-label-container\"><div class=\"sk-label sk-toggleable\"><input class=\"sk-toggleable__control sk-hidden--visually\" id=\"sk-estimator-id-9\" type=\"checkbox\" ><label for=\"sk-estimator-id-9\" class=\"sk-toggleable__label sk-toggleable__label-arrow\">Pipeline</label><div class=\"sk-toggleable__content\"><pre>Pipeline(steps=[(&#x27;vect&#x27;, CountVectorizer()), (&#x27;tfidf&#x27;, TfidfTransformer()),\n",
              "                (&#x27;clf&#x27;, DecisionTreeClassifier())])</pre></div></div></div><div class=\"sk-serial\"><div class=\"sk-item\"><div class=\"sk-estimator sk-toggleable\"><input class=\"sk-toggleable__control sk-hidden--visually\" id=\"sk-estimator-id-10\" type=\"checkbox\" ><label for=\"sk-estimator-id-10\" class=\"sk-toggleable__label sk-toggleable__label-arrow\">CountVectorizer</label><div class=\"sk-toggleable__content\"><pre>CountVectorizer()</pre></div></div></div><div class=\"sk-item\"><div class=\"sk-estimator sk-toggleable\"><input class=\"sk-toggleable__control sk-hidden--visually\" id=\"sk-estimator-id-11\" type=\"checkbox\" ><label for=\"sk-estimator-id-11\" class=\"sk-toggleable__label sk-toggleable__label-arrow\">TfidfTransformer</label><div class=\"sk-toggleable__content\"><pre>TfidfTransformer()</pre></div></div></div><div class=\"sk-item\"><div class=\"sk-estimator sk-toggleable\"><input class=\"sk-toggleable__control sk-hidden--visually\" id=\"sk-estimator-id-12\" type=\"checkbox\" ><label for=\"sk-estimator-id-12\" class=\"sk-toggleable__label sk-toggleable__label-arrow\">DecisionTreeClassifier</label><div class=\"sk-toggleable__content\"><pre>DecisionTreeClassifier()</pre></div></div></div></div></div></div></div>"
            ]
          },
          "metadata": {},
          "execution_count": 53
        }
      ],
      "source": [
        "# Algorithm training X_train, X_test, y_train, y_test\n",
        "dt_model = dt_pipeline.fit(X_train.values.astype('U'), y_train.values.astype('int64'))\n",
        "dt_model"
      ]
    },
    {
      "cell_type": "code",
      "execution_count": 54,
      "id": "642dd071-dc7f-42f3-8775-f133e1417b24",
      "metadata": {
        "colab": {
          "base_uri": "https://localhost:8080/"
        },
        "id": "642dd071-dc7f-42f3-8775-f133e1417b24",
        "outputId": "4eef3b4a-4b29-446b-88a1-c12e1ced8e1a",
        "tags": []
      },
      "outputs": [
        {
          "output_type": "execute_result",
          "data": {
            "text/plain": [
              "array([-1,  0,  1])"
            ]
          },
          "metadata": {},
          "execution_count": 54
        }
      ],
      "source": [
        "y_pred = dt_model.predict(X_test.values.astype('U'))\n",
        "dt_model.classes_"
      ]
    },
    {
      "cell_type": "code",
      "execution_count": 55,
      "id": "c516ab2a-4bb9-4f95-92c3-8c69e539af9f",
      "metadata": {
        "colab": {
          "base_uri": "https://localhost:8080/"
        },
        "id": "c516ab2a-4bb9-4f95-92c3-8c69e539af9f",
        "outputId": "fd164321-9b4e-403d-a6a5-7a4ca9b427e3",
        "tags": []
      },
      "outputs": [
        {
          "output_type": "stream",
          "name": "stdout",
          "text": [
            "[[605 329  32]\n",
            " [289 365  28]\n",
            " [ 48  45  13]]\n"
          ]
        }
      ],
      "source": [
        "cm = confusion_matrix(y_test, y_pred, labels=dt_model.classes_)\n",
        "print(cm)"
      ]
    },
    {
      "cell_type": "code",
      "execution_count": 56,
      "id": "f2870031-8ae3-430b-a96d-5dc442357ff5",
      "metadata": {
        "colab": {
          "base_uri": "https://localhost:8080/",
          "height": 299
        },
        "id": "f2870031-8ae3-430b-a96d-5dc442357ff5",
        "outputId": "9f0164dc-1bca-4b15-8ee3-4b27cf9ab398",
        "tags": []
      },
      "outputs": [
        {
          "output_type": "execute_result",
          "data": {
            "text/plain": [
              "<sklearn.metrics._plot.confusion_matrix.ConfusionMatrixDisplay at 0x7fd525dcda30>"
            ]
          },
          "metadata": {},
          "execution_count": 56
        },
        {
          "output_type": "display_data",
          "data": {
            "text/plain": [
              "<Figure size 432x288 with 2 Axes>"
            ],
            "image/png": "[encoded data removed]"
          },
          "metadata": {
            "needs_background": "light"
          }
        }
      ],
      "source": [
        "cm_dsp=ConfusionMatrixDisplay(confusion_matrix=cm, display_labels=['Negatives', 'Neutral', 'Positive'])\n",
        "cm_dsp.plot()"
      ]
    },
    {
      "cell_type": "code",
      "execution_count": 57,
      "id": "f3fac5a9-e0d7-4f9b-95bf-0b7654577b14",
      "metadata": {
        "colab": {
          "base_uri": "https://localhost:8080/"
        },
        "id": "f3fac5a9-e0d7-4f9b-95bf-0b7654577b14",
        "outputId": "07c76b79-9096-4b61-f278-20861eaebaa4",
        "tags": []
      },
      "outputs": [
        {
          "output_type": "stream",
          "name": "stdout",
          "text": [
            "Model Score: 0.5604332953249715\n",
            "Model Score: 56.04%\n",
            "\n",
            "Accuracy: 0.5604332953249715\n",
            "Accuracy: 56.04%\n",
            "\n",
            "F1-score: 0.557791113522997\n",
            "F1-score: 55.78%\n",
            "\n",
            "CPU times and Wall time: \n",
            "CPU times: user 75.2 ms, sys: 1.01 ms, total: 76.2 ms\n",
            "Wall time: 76 ms\n"
          ]
        }
      ],
      "source": [
        "%%time\n",
        "\n",
        "#predicting \n",
        "y_pred = dt_model.predict(X_test.values.astype('U'))\n",
        "\n",
        "model_score = dt_model.score(X_test.values.astype('U'), y_test.values.astype('int64'))\n",
        "print(f'Model Score: {model_score}')\n",
        "print(f'Model Score: {model_score*100:.2f}%')\n",
        "accuracy = accuracy_score(y_test, y_pred)\n",
        "print()\n",
        "print(f\"Accuracy: {accuracy}\")\n",
        "print(f\"Accuracy: {accuracy*100:.2f}%\")\n",
        "print()\n",
        "f1 = f1_score(y_test, y_pred, average='weighted')\n",
        "print(f\"F1-score: {f1}\")\n",
        "print(f\"F1-score: {f1*100:.2f}%\")\n",
        "print()\n",
        "print(\"CPU times and Wall time: \")"
      ]
    },
    {
      "cell_type": "code",
      "execution_count": 58,
      "id": "3ceaae73-dcb2-4f0e-b525-dcd753896cbc",
      "metadata": {
        "colab": {
          "base_uri": "https://localhost:8080/"
        },
        "id": "3ceaae73-dcb2-4f0e-b525-dcd753896cbc",
        "outputId": "2bababb7-9cd5-49c0-b8a9-37d22a3fb894"
      },
      "outputs": [
        {
          "output_type": "execute_result",
          "data": {
            "text/plain": [
              "['models/DecisionTreeClassifier_model_score_56.04.pkl']"
            ]
          },
          "metadata": {},
          "execution_count": 58
        }
      ],
      "source": [
        "# Save to file / directory\n",
        "joblib_file = \"models/DecisionTreeClassifier_model_score_\"+ str(round(accuracy*100,2))+\".pkl\"\n",
        "joblib.dump(dt_model, joblib_file)"
      ]
    },
    {
      "cell_type": "markdown",
      "id": "4042fb67-1afd-47de-9ca2-fe20ae287819",
      "metadata": {
        "id": "4042fb67-1afd-47de-9ca2-fe20ae287819"
      },
      "source": [
        "# 4.4 KNEIGHBORS CLASSIFIER"
      ]
    },
    {
      "cell_type": "code",
      "execution_count": 59,
      "id": "801fbd7b-d730-4809-a7b6-f909cfaf07e0",
      "metadata": {
        "id": "801fbd7b-d730-4809-a7b6-f909cfaf07e0"
      },
      "outputs": [],
      "source": [
        "# Initialize a vectorization and modelling pipeline\n",
        "kn_pipeline = Pipeline([\n",
        "     ('vect', CountVectorizer(ngram_range=(1,1))),\n",
        "     ('tfidf', TfidfTransformer()),\n",
        "     ('clf', KNeighborsClassifier()), \n",
        " ])"
      ]
    },
    {
      "cell_type": "code",
      "execution_count": 60,
      "id": "9c1877bb-f512-4b4b-9d07-3513a033d20c",
      "metadata": {
        "colab": {
          "base_uri": "https://localhost:8080/",
          "height": 161
        },
        "id": "9c1877bb-f512-4b4b-9d07-3513a033d20c",
        "outputId": "e07d63af-e347-4548-bdc2-eec77c551b22"
      },
      "outputs": [
        {
          "output_type": "execute_result",
          "data": {
            "text/plain": [
              "Pipeline(steps=[('vect', CountVectorizer()), ('tfidf', TfidfTransformer()),\n",
              "                ('clf', KNeighborsClassifier())])"
            ],
            "text/html": [
              "<style>#sk-container-id-4 {color: black;background-color: white;}#sk-container-id-4 pre{padding: 0;}#sk-container-id-4 div.sk-toggleable {background-color: white;}#sk-container-id-4 label.sk-toggleable__label {cursor: pointer;display: block;width: 100%;margin-bottom: 0;padding: 0.3em;box-sizing: border-box;text-align: center;}#sk-container-id-4 label.sk-toggleable__label-arrow:before {content: \"▸\";float: left;margin-right: 0.25em;color: #696969;}#sk-container-id-4 label.sk-toggleable__label-arrow:hover:before {color: black;}#sk-container-id-4 div.sk-estimator:hover label.sk-toggleable__label-arrow:before {color: black;}#sk-container-id-4 div.sk-toggleable__content {max-height: 0;max-width: 0;overflow: hidden;text-align: left;background-color: #f0f8ff;}#sk-container-id-4 div.sk-toggleable__content pre {margin: 0.2em;color: black;border-radius: 0.25em;background-color: #f0f8ff;}#sk-container-id-4 input.sk-toggleable__control:checked~div.sk-toggleable__content {max-height: 200px;max-width: 100%;overflow: auto;}#sk-container-id-4 input.sk-toggleable__control:checked~label.sk-toggleable__label-arrow:before {content: \"▾\";}#sk-container-id-4 div.sk-estimator input.sk-toggleable__control:checked~label.sk-toggleable__label {background-color: #d4ebff;}#sk-container-id-4 div.sk-label input.sk-toggleable__control:checked~label.sk-toggleable__label {background-color: #d4ebff;}#sk-container-id-4 input.sk-hidden--visually {border: 0;clip: rect(1px 1px 1px 1px);clip: rect(1px, 1px, 1px, 1px);height: 1px;margin: -1px;overflow: hidden;padding: 0;position: absolute;width: 1px;}#sk-container-id-4 div.sk-estimator {font-family: monospace;background-color: #f0f8ff;border: 1px dotted black;border-radius: 0.25em;box-sizing: border-box;margin-bottom: 0.5em;}#sk-container-id-4 div.sk-estimator:hover {background-color: #d4ebff;}#sk-container-id-4 div.sk-parallel-item::after {content: \"\";width: 100%;border-bottom: 1px solid gray;flex-grow: 1;}#sk-container-id-4 div.sk-label:hover label.sk-toggleable__label {background-color: #d4ebff;}#sk-container-id-4 div.sk-serial::before {content: \"\";position: absolute;border-left: 1px solid gray;box-sizing: border-box;top: 0;bottom: 0;left: 50%;z-index: 0;}#sk-container-id-4 div.sk-serial {display: flex;flex-direction: column;align-items: center;background-color: white;padding-right: 0.2em;padding-left: 0.2em;position: relative;}#sk-container-id-4 div.sk-item {position: relative;z-index: 1;}#sk-container-id-4 div.sk-parallel {display: flex;align-items: stretch;justify-content: center;background-color: white;position: relative;}#sk-container-id-4 div.sk-item::before, #sk-container-id-4 div.sk-parallel-item::before {content: \"\";position: absolute;border-left: 1px solid gray;box-sizing: border-box;top: 0;bottom: 0;left: 50%;z-index: -1;}#sk-container-id-4 div.sk-parallel-item {display: flex;flex-direction: column;z-index: 1;position: relative;background-color: white;}#sk-container-id-4 div.sk-parallel-item:first-child::after {align-self: flex-end;width: 50%;}#sk-container-id-4 div.sk-parallel-item:last-child::after {align-self: flex-start;width: 50%;}#sk-container-id-4 div.sk-parallel-item:only-child::after {width: 0;}#sk-container-id-4 div.sk-dashed-wrapped {border: 1px dashed gray;margin: 0 0.4em 0.5em 0.4em;box-sizing: border-box;padding-bottom: 0.4em;background-color: white;}#sk-container-id-4 div.sk-label label {font-family: monospace;font-weight: bold;display: inline-block;line-height: 1.2em;}#sk-container-id-4 div.sk-label-container {text-align: center;}#sk-container-id-4 div.sk-container {/* jupyter's `normalize.less` sets `[hidden] { display: none; }` but bootstrap.min.css set `[hidden] { display: none !important; }` so we also need the `!important` here to be able to override the default hidden behavior on the sphinx rendered scikit-learn.org. See: https://github.com/scikit-learn/scikit-learn/issues/21755 */display: inline-block !important;position: relative;}#sk-container-id-4 div.sk-text-repr-fallback {display: none;}</style><div id=\"sk-container-id-4\" class=\"sk-top-container\"><div class=\"sk-text-repr-fallback\"><pre>Pipeline(steps=[(&#x27;vect&#x27;, CountVectorizer()), (&#x27;tfidf&#x27;, TfidfTransformer()),\n",
              "                (&#x27;clf&#x27;, KNeighborsClassifier())])</pre><b>In a Jupyter environment, please rerun this cell to show the HTML representation or trust the notebook. <br />On GitHub, the HTML representation is unable to render, please try loading this page with nbviewer.org.</b></div><div class=\"sk-container\" hidden><div class=\"sk-item sk-dashed-wrapped\"><div class=\"sk-label-container\"><div class=\"sk-label sk-toggleable\"><input class=\"sk-toggleable__control sk-hidden--visually\" id=\"sk-estimator-id-13\" type=\"checkbox\" ><label for=\"sk-estimator-id-13\" class=\"sk-toggleable__label sk-toggleable__label-arrow\">Pipeline</label><div class=\"sk-toggleable__content\"><pre>Pipeline(steps=[(&#x27;vect&#x27;, CountVectorizer()), (&#x27;tfidf&#x27;, TfidfTransformer()),\n",
              "                (&#x27;clf&#x27;, KNeighborsClassifier())])</pre></div></div></div><div class=\"sk-serial\"><div class=\"sk-item\"><div class=\"sk-estimator sk-toggleable\"><input class=\"sk-toggleable__control sk-hidden--visually\" id=\"sk-estimator-id-14\" type=\"checkbox\" ><label for=\"sk-estimator-id-14\" class=\"sk-toggleable__label sk-toggleable__label-arrow\">CountVectorizer</label><div class=\"sk-toggleable__content\"><pre>CountVectorizer()</pre></div></div></div><div class=\"sk-item\"><div class=\"sk-estimator sk-toggleable\"><input class=\"sk-toggleable__control sk-hidden--visually\" id=\"sk-estimator-id-15\" type=\"checkbox\" ><label for=\"sk-estimator-id-15\" class=\"sk-toggleable__label sk-toggleable__label-arrow\">TfidfTransformer</label><div class=\"sk-toggleable__content\"><pre>TfidfTransformer()</pre></div></div></div><div class=\"sk-item\"><div class=\"sk-estimator sk-toggleable\"><input class=\"sk-toggleable__control sk-hidden--visually\" id=\"sk-estimator-id-16\" type=\"checkbox\" ><label for=\"sk-estimator-id-16\" class=\"sk-toggleable__label sk-toggleable__label-arrow\">KNeighborsClassifier</label><div class=\"sk-toggleable__content\"><pre>KNeighborsClassifier()</pre></div></div></div></div></div></div></div>"
            ]
          },
          "metadata": {},
          "execution_count": 60
        }
      ],
      "source": [
        "# Algorithm training X_train, X_test, y_train, y_test\n",
        "kn_model = kn_pipeline.fit(X_train.values.astype('U'), y_train.values.astype('int64'))\n",
        "kn_model"
      ]
    },
    {
      "cell_type": "code",
      "execution_count": 61,
      "id": "a0caeba5-6674-4e06-82f7-81fc199f0e75",
      "metadata": {
        "colab": {
          "base_uri": "https://localhost:8080/"
        },
        "id": "a0caeba5-6674-4e06-82f7-81fc199f0e75",
        "outputId": "0ca5e5c4-0054-4e16-9ae9-5724d4201cfd",
        "tags": []
      },
      "outputs": [
        {
          "output_type": "execute_result",
          "data": {
            "text/plain": [
              "array([-1,  0,  1])"
            ]
          },
          "metadata": {},
          "execution_count": 61
        }
      ],
      "source": [
        "y_pred = kn_model.predict(X_test.values.astype('U'))\n",
        "kn_model.classes_"
      ]
    },
    {
      "cell_type": "code",
      "execution_count": 62,
      "id": "e64de012-a9ef-4b92-bf1a-5dd7d72ce4f3",
      "metadata": {
        "colab": {
          "base_uri": "https://localhost:8080/"
        },
        "id": "e64de012-a9ef-4b92-bf1a-5dd7d72ce4f3",
        "outputId": "0a114e8f-b961-45e0-eb4f-af4ec47207e9",
        "tags": []
      },
      "outputs": [
        {
          "output_type": "stream",
          "name": "stdout",
          "text": [
            "[[623 335   8]\n",
            " [281 398   3]\n",
            " [ 54  49   3]]\n"
          ]
        }
      ],
      "source": [
        "cm = confusion_matrix(y_test, y_pred, labels=kn_model.classes_)\n",
        "print(cm)"
      ]
    },
    {
      "cell_type": "code",
      "execution_count": 63,
      "id": "8a6e17da-90f0-44e5-a488-4710405d3dc7",
      "metadata": {
        "colab": {
          "base_uri": "https://localhost:8080/",
          "height": 296
        },
        "id": "8a6e17da-90f0-44e5-a488-4710405d3dc7",
        "outputId": "127ddb55-39f0-4fad-8e86-41748fc7dfc2",
        "tags": []
      },
      "outputs": [
        {
          "output_type": "execute_result",
          "data": {
            "text/plain": [
              "<sklearn.metrics._plot.confusion_matrix.ConfusionMatrixDisplay at 0x7fd525cef9a0>"
            ]
          },
          "metadata": {},
          "execution_count": 63
        },
        {
          "output_type": "display_data",
          "data": {
            "text/plain": [
              "<Figure size 432x288 with 2 Axes>"
            ],
            "image/png": "[encoded data removed]"
          },
          "metadata": {
            "needs_background": "light"
          }
        }
      ],
      "source": [
        "cm_dsp=ConfusionMatrixDisplay(confusion_matrix=cm, display_labels=['Negatives', 'Neutral', 'Positive'])\n",
        "cm_dsp.plot()"
      ]
    },
    {
      "cell_type": "code",
      "execution_count": 64,
      "id": "2fc917b0-4651-44d4-945d-ba7ec803e476",
      "metadata": {
        "colab": {
          "base_uri": "https://localhost:8080/"
        },
        "id": "2fc917b0-4651-44d4-945d-ba7ec803e476",
        "outputId": "675c02d7-a26d-49db-ed4d-31a9c207ace8",
        "tags": []
      },
      "outputs": [
        {
          "output_type": "stream",
          "name": "stdout",
          "text": [
            "Model Score: 0.5838084378563284\n",
            "Model Score: 58.38%\n",
            "\n",
            "Accuracy: 0.5838084378563284\n",
            "Accuracy: 58.38%\n",
            "\n",
            "F1-score: 0.5710972886207012\n",
            "F1-score: 57.11%\n",
            "\n",
            "CPU times and Wall time: \n",
            "CPU times: user 8.87 s, sys: 15.4 ms, total: 8.88 s\n",
            "Wall time: 5.63 s\n"
          ]
        }
      ],
      "source": [
        "%%time\n",
        "\n",
        "#predicting \n",
        "y_pred = kn_model.predict(X_test.values.astype('U'))\n",
        "\n",
        "model_score = kn_model.score(X_test.values.astype('U'), y_test.values.astype('int64'))\n",
        "print(f'Model Score: {model_score}')\n",
        "print(f'Model Score: {model_score*100:.2f}%')\n",
        "accuracy = accuracy_score(y_test, y_pred)\n",
        "print()\n",
        "print(f\"Accuracy: {accuracy}\")\n",
        "print(f\"Accuracy: {accuracy*100:.2f}%\")\n",
        "print()\n",
        "f1 = f1_score(y_test, y_pred, average='weighted')\n",
        "print(f\"F1-score: {f1}\")\n",
        "print(f\"F1-score: {f1*100:.2f}%\")\n",
        "print()\n",
        "print(\"CPU times and Wall time: \")"
      ]
    },
    {
      "cell_type": "code",
      "execution_count": 65,
      "id": "311caeee-63a8-41e6-9fa5-ffc65c10a83f",
      "metadata": {
        "colab": {
          "base_uri": "https://localhost:8080/"
        },
        "id": "311caeee-63a8-41e6-9fa5-ffc65c10a83f",
        "outputId": "d02d1cbe-48d6-4a5b-fb1f-352594bc161e"
      },
      "outputs": [
        {
          "output_type": "execute_result",
          "data": {
            "text/plain": [
              "['models/KNeighborsClassifier_model_score_58.38.pkl']"
            ]
          },
          "metadata": {},
          "execution_count": 65
        }
      ],
      "source": [
        "# Save to file / directory\n",
        "joblib_file = \"models/KNeighborsClassifier_model_score_\"+ str(round(accuracy*100,2))+\".pkl\"\n",
        "joblib.dump(kn_model, joblib_file)"
      ]
    },
    {
      "cell_type": "markdown",
      "id": "c7e1b176-06c5-4d4b-acf1-a7444721a029",
      "metadata": {
        "id": "c7e1b176-06c5-4d4b-acf1-a7444721a029"
      },
      "source": [
        "# 4.5 LOGISTIC REGRESSION "
      ]
    },
    {
      "cell_type": "code",
      "execution_count": 66,
      "id": "3d78a162-5fca-4e8f-b7f4-9b7ad0def044",
      "metadata": {
        "id": "3d78a162-5fca-4e8f-b7f4-9b7ad0def044"
      },
      "outputs": [],
      "source": [
        "# Initialize a vectorization and modelling pipeline\n",
        "lr_pipeline = Pipeline([\n",
        "     ('vect', CountVectorizer(ngram_range=(1,5))),\n",
        "     ('tfidf', TfidfTransformer()),\n",
        "     ('clf', LogisticRegression()), \n",
        " ])"
      ]
    },
    {
      "cell_type": "code",
      "execution_count": 67,
      "id": "cb85080c-7c8c-4fee-83f4-9a769d2730ca",
      "metadata": {
        "colab": {
          "base_uri": "https://localhost:8080/",
          "height": 161
        },
        "id": "cb85080c-7c8c-4fee-83f4-9a769d2730ca",
        "outputId": "25e27404-275e-448d-a498-858d1d4f77cd"
      },
      "outputs": [
        {
          "output_type": "execute_result",
          "data": {
            "text/plain": [
              "Pipeline(steps=[('vect', CountVectorizer(ngram_range=(1, 5))),\n",
              "                ('tfidf', TfidfTransformer()), ('clf', LogisticRegression())])"
            ],
            "text/html": [
              "<style>#sk-container-id-5 {color: black;background-color: white;}#sk-container-id-5 pre{padding: 0;}#sk-container-id-5 div.sk-toggleable {background-color: white;}#sk-container-id-5 label.sk-toggleable__label {cursor: pointer;display: block;width: 100%;margin-bottom: 0;padding: 0.3em;box-sizing: border-box;text-align: center;}#sk-container-id-5 label.sk-toggleable__label-arrow:before {content: \"▸\";float: left;margin-right: 0.25em;color: #696969;}#sk-container-id-5 label.sk-toggleable__label-arrow:hover:before {color: black;}#sk-container-id-5 div.sk-estimator:hover label.sk-toggleable__label-arrow:before {color: black;}#sk-container-id-5 div.sk-toggleable__content {max-height: 0;max-width: 0;overflow: hidden;text-align: left;background-color: #f0f8ff;}#sk-container-id-5 div.sk-toggleable__content pre {margin: 0.2em;color: black;border-radius: 0.25em;background-color: #f0f8ff;}#sk-container-id-5 input.sk-toggleable__control:checked~div.sk-toggleable__content {max-height: 200px;max-width: 100%;overflow: auto;}#sk-container-id-5 input.sk-toggleable__control:checked~label.sk-toggleable__label-arrow:before {content: \"▾\";}#sk-container-id-5 div.sk-estimator input.sk-toggleable__control:checked~label.sk-toggleable__label {background-color: #d4ebff;}#sk-container-id-5 div.sk-label input.sk-toggleable__control:checked~label.sk-toggleable__label {background-color: #d4ebff;}#sk-container-id-5 input.sk-hidden--visually {border: 0;clip: rect(1px 1px 1px 1px);clip: rect(1px, 1px, 1px, 1px);height: 1px;margin: -1px;overflow: hidden;padding: 0;position: absolute;width: 1px;}#sk-container-id-5 div.sk-estimator {font-family: monospace;background-color: #f0f8ff;border: 1px dotted black;border-radius: 0.25em;box-sizing: border-box;margin-bottom: 0.5em;}#sk-container-id-5 div.sk-estimator:hover {background-color: #d4ebff;}#sk-container-id-5 div.sk-parallel-item::after {content: \"\";width: 100%;border-bottom: 1px solid gray;flex-grow: 1;}#sk-container-id-5 div.sk-label:hover label.sk-toggleable__label {background-color: #d4ebff;}#sk-container-id-5 div.sk-serial::before {content: \"\";position: absolute;border-left: 1px solid gray;box-sizing: border-box;top: 0;bottom: 0;left: 50%;z-index: 0;}#sk-container-id-5 div.sk-serial {display: flex;flex-direction: column;align-items: center;background-color: white;padding-right: 0.2em;padding-left: 0.2em;position: relative;}#sk-container-id-5 div.sk-item {position: relative;z-index: 1;}#sk-container-id-5 div.sk-parallel {display: flex;align-items: stretch;justify-content: center;background-color: white;position: relative;}#sk-container-id-5 div.sk-item::before, #sk-container-id-5 div.sk-parallel-item::before {content: \"\";position: absolute;border-left: 1px solid gray;box-sizing: border-box;top: 0;bottom: 0;left: 50%;z-index: -1;}#sk-container-id-5 div.sk-parallel-item {display: flex;flex-direction: column;z-index: 1;position: relative;background-color: white;}#sk-container-id-5 div.sk-parallel-item:first-child::after {align-self: flex-end;width: 50%;}#sk-container-id-5 div.sk-parallel-item:last-child::after {align-self: flex-start;width: 50%;}#sk-container-id-5 div.sk-parallel-item:only-child::after {width: 0;}#sk-container-id-5 div.sk-dashed-wrapped {border: 1px dashed gray;margin: 0 0.4em 0.5em 0.4em;box-sizing: border-box;padding-bottom: 0.4em;background-color: white;}#sk-container-id-5 div.sk-label label {font-family: monospace;font-weight: bold;display: inline-block;line-height: 1.2em;}#sk-container-id-5 div.sk-label-container {text-align: center;}#sk-container-id-5 div.sk-container {/* jupyter's `normalize.less` sets `[hidden] { display: none; }` but bootstrap.min.css set `[hidden] { display: none !important; }` so we also need the `!important` here to be able to override the default hidden behavior on the sphinx rendered scikit-learn.org. See: https://github.com/scikit-learn/scikit-learn/issues/21755 */display: inline-block !important;position: relative;}#sk-container-id-5 div.sk-text-repr-fallback {display: none;}</style><div id=\"sk-container-id-5\" class=\"sk-top-container\"><div class=\"sk-text-repr-fallback\"><pre>Pipeline(steps=[(&#x27;vect&#x27;, CountVectorizer(ngram_range=(1, 5))),\n",
              "                (&#x27;tfidf&#x27;, TfidfTransformer()), (&#x27;clf&#x27;, LogisticRegression())])</pre><b>In a Jupyter environment, please rerun this cell to show the HTML representation or trust the notebook. <br />On GitHub, the HTML representation is unable to render, please try loading this page with nbviewer.org.</b></div><div class=\"sk-container\" hidden><div class=\"sk-item sk-dashed-wrapped\"><div class=\"sk-label-container\"><div class=\"sk-label sk-toggleable\"><input class=\"sk-toggleable__control sk-hidden--visually\" id=\"sk-estimator-id-17\" type=\"checkbox\" ><label for=\"sk-estimator-id-17\" class=\"sk-toggleable__label sk-toggleable__label-arrow\">Pipeline</label><div class=\"sk-toggleable__content\"><pre>Pipeline(steps=[(&#x27;vect&#x27;, CountVectorizer(ngram_range=(1, 5))),\n",
              "                (&#x27;tfidf&#x27;, TfidfTransformer()), (&#x27;clf&#x27;, LogisticRegression())])</pre></div></div></div><div class=\"sk-serial\"><div class=\"sk-item\"><div class=\"sk-estimator sk-toggleable\"><input class=\"sk-toggleable__control sk-hidden--visually\" id=\"sk-estimator-id-18\" type=\"checkbox\" ><label for=\"sk-estimator-id-18\" class=\"sk-toggleable__label sk-toggleable__label-arrow\">CountVectorizer</label><div class=\"sk-toggleable__content\"><pre>CountVectorizer(ngram_range=(1, 5))</pre></div></div></div><div class=\"sk-item\"><div class=\"sk-estimator sk-toggleable\"><input class=\"sk-toggleable__control sk-hidden--visually\" id=\"sk-estimator-id-19\" type=\"checkbox\" ><label for=\"sk-estimator-id-19\" class=\"sk-toggleable__label sk-toggleable__label-arrow\">TfidfTransformer</label><div class=\"sk-toggleable__content\"><pre>TfidfTransformer()</pre></div></div></div><div class=\"sk-item\"><div class=\"sk-estimator sk-toggleable\"><input class=\"sk-toggleable__control sk-hidden--visually\" id=\"sk-estimator-id-20\" type=\"checkbox\" ><label for=\"sk-estimator-id-20\" class=\"sk-toggleable__label sk-toggleable__label-arrow\">LogisticRegression</label><div class=\"sk-toggleable__content\"><pre>LogisticRegression()</pre></div></div></div></div></div></div></div>"
            ]
          },
          "metadata": {},
          "execution_count": 67
        }
      ],
      "source": [
        "# Algorithm training X_train, X_test, y_train, y_test\n",
        "lr_model = lr_pipeline.fit(X_train.values.astype('U'), y_train.values.astype('int64'))\n",
        "lr_model"
      ]
    },
    {
      "cell_type": "code",
      "execution_count": 68,
      "id": "fa8b27dc-2d1a-4a5e-be0e-48d5bf3701e0",
      "metadata": {
        "colab": {
          "base_uri": "https://localhost:8080/"
        },
        "id": "fa8b27dc-2d1a-4a5e-be0e-48d5bf3701e0",
        "outputId": "fd14eb1f-c2d3-42b7-9455-4995d9c24a15"
      },
      "outputs": [
        {
          "output_type": "execute_result",
          "data": {
            "text/plain": [
              "array([-1,  0,  1])"
            ]
          },
          "metadata": {},
          "execution_count": 68
        }
      ],
      "source": [
        "y_pred = lr_model.predict(X_test.values.astype('U'))\n",
        "lr_model.classes_"
      ]
    },
    {
      "cell_type": "code",
      "execution_count": 69,
      "id": "535cde6c-3579-438e-bd10-432affb6b948",
      "metadata": {
        "colab": {
          "base_uri": "https://localhost:8080/"
        },
        "id": "535cde6c-3579-438e-bd10-432affb6b948",
        "outputId": "99a8c813-0586-492a-c999-c9822c282c89",
        "tags": []
      },
      "outputs": [
        {
          "output_type": "stream",
          "name": "stdout",
          "text": [
            "[[787 179   0]\n",
            " [308 373   1]\n",
            " [ 71  35   0]]\n"
          ]
        }
      ],
      "source": [
        "cm = confusion_matrix(y_test, y_pred, labels=lr_model.classes_)\n",
        "print(cm)"
      ]
    },
    {
      "cell_type": "code",
      "execution_count": 70,
      "id": "82844cb8-dda7-4348-8a23-cbf8e5df33f6",
      "metadata": {
        "colab": {
          "base_uri": "https://localhost:8080/",
          "height": 296
        },
        "id": "82844cb8-dda7-4348-8a23-cbf8e5df33f6",
        "outputId": "c0d61b1f-541b-456f-a4c8-6dd57260126f",
        "tags": []
      },
      "outputs": [
        {
          "output_type": "execute_result",
          "data": {
            "text/plain": [
              "<sklearn.metrics._plot.confusion_matrix.ConfusionMatrixDisplay at 0x7fd525e02370>"
            ]
          },
          "metadata": {},
          "execution_count": 70
        },
        {
          "output_type": "display_data",
          "data": {
            "text/plain": [
              "<Figure size 432x288 with 2 Axes>"
            ],
            "image/png": "[encoded data removed]"
          },
          "metadata": {
            "needs_background": "light"
          }
        }
      ],
      "source": [
        "cm_dsp=ConfusionMatrixDisplay(confusion_matrix=cm, display_labels=['Negatives', 'Neutral', 'Positive'])\n",
        "cm_dsp.plot()"
      ]
    },
    {
      "cell_type": "code",
      "execution_count": 71,
      "id": "e69d986b-1336-4ab2-9750-8c490e6ee0bc",
      "metadata": {
        "colab": {
          "base_uri": "https://localhost:8080/"
        },
        "id": "e69d986b-1336-4ab2-9750-8c490e6ee0bc",
        "outputId": "658b66c7-8a76-478a-de23-e7b41589ab82",
        "tags": []
      },
      "outputs": [
        {
          "output_type": "stream",
          "name": "stdout",
          "text": [
            "Model Score: 0.661345496009122\n",
            "Model Score: 66.13%\n",
            "\n",
            "Accuracy: 0.661345496009122\n",
            "Accuracy: 66.13%\n",
            "\n",
            "F1-score: 0.6351745551537383\n",
            "F1-score: 63.52%\n",
            "\n",
            "CPU times and Wall time: \n",
            "CPU times: user 230 ms, sys: 2.2 ms, total: 232 ms\n",
            "Wall time: 232 ms\n"
          ]
        }
      ],
      "source": [
        "%%time\n",
        "\n",
        "#predicting \n",
        "y_pred = lr_model.predict(X_test.values.astype('U'))\n",
        "\n",
        "model_score = lr_model.score(X_test.values.astype('U'), y_test.values.astype('int64'))\n",
        "print(f'Model Score: {model_score}')\n",
        "print(f'Model Score: {model_score*100:.2f}%')\n",
        "accuracy = accuracy_score(y_test, y_pred)\n",
        "print()\n",
        "print(f\"Accuracy: {accuracy}\")\n",
        "print(f\"Accuracy: {accuracy*100:.2f}%\")\n",
        "print()\n",
        "f1 = f1_score(y_test, y_pred, average='weighted')\n",
        "print(f\"F1-score: {f1}\")\n",
        "print(f\"F1-score: {f1*100:.2f}%\")\n",
        "print()\n",
        "print(\"CPU times and Wall time: \")"
      ]
    },
    {
      "cell_type": "code",
      "execution_count": 73,
      "id": "c339c5a7-424f-4f4d-ae17-6321bd13a317",
      "metadata": {
        "colab": {
          "base_uri": "https://localhost:8080/"
        },
        "id": "c339c5a7-424f-4f4d-ae17-6321bd13a317",
        "outputId": "1c1e44b9-8bff-41bf-87d9-42cdbab2b7ec"
      },
      "outputs": [
        {
          "output_type": "execute_result",
          "data": {
            "text/plain": [
              "['models/Logistic regression_model_score_66.13.pkl']"
            ]
          },
          "metadata": {},
          "execution_count": 73
        }
      ],
      "source": [
        "# Save to file / directory\n",
        "joblib_file = \"models/Logistic regression_model_score_\"+ str(round(accuracy*100,2))+\".pkl\"\n",
        "joblib.dump(kn_model, joblib_file)"
      ]
    },
    {
      "cell_type": "markdown",
      "id": "0c97d430-6c91-41cb-91b0-e929668f38b3",
      "metadata": {
        "id": "0c97d430-6c91-41cb-91b0-e929668f38b3"
      },
      "source": [
        "# 4.6 GRADIENT BOOSTING CLASSIFIER"
      ]
    },
    {
      "cell_type": "code",
      "execution_count": 74,
      "id": "b6df35e1-bcf3-4397-badb-491f992f95c8",
      "metadata": {
        "id": "b6df35e1-bcf3-4397-badb-491f992f95c8"
      },
      "outputs": [],
      "source": [
        "# Initialize a vectorization and modelling pipeline\n",
        "gd_pipeline = Pipeline([\n",
        "     ('vect', CountVectorizer(ngram_range=(1,1))),\n",
        "     ('tfidf', TfidfTransformer()),\n",
        "     ('clf', GradientBoostingClassifier()), \n",
        " ])"
      ]
    },
    {
      "cell_type": "code",
      "execution_count": 75,
      "id": "00c75729-2b87-49a9-95d5-ea22932a36b3",
      "metadata": {
        "colab": {
          "base_uri": "https://localhost:8080/",
          "height": 161
        },
        "id": "00c75729-2b87-49a9-95d5-ea22932a36b3",
        "outputId": "97a1e17f-4e44-4d97-d5f9-773c349bbe90"
      },
      "outputs": [
        {
          "output_type": "execute_result",
          "data": {
            "text/plain": [
              "Pipeline(steps=[('vect', CountVectorizer()), ('tfidf', TfidfTransformer()),\n",
              "                ('clf', GradientBoostingClassifier())])"
            ],
            "text/html": [
              "<style>#sk-container-id-6 {color: black;background-color: white;}#sk-container-id-6 pre{padding: 0;}#sk-container-id-6 div.sk-toggleable {background-color: white;}#sk-container-id-6 label.sk-toggleable__label {cursor: pointer;display: block;width: 100%;margin-bottom: 0;padding: 0.3em;box-sizing: border-box;text-align: center;}#sk-container-id-6 label.sk-toggleable__label-arrow:before {content: \"▸\";float: left;margin-right: 0.25em;color: #696969;}#sk-container-id-6 label.sk-toggleable__label-arrow:hover:before {color: black;}#sk-container-id-6 div.sk-estimator:hover label.sk-toggleable__label-arrow:before {color: black;}#sk-container-id-6 div.sk-toggleable__content {max-height: 0;max-width: 0;overflow: hidden;text-align: left;background-color: #f0f8ff;}#sk-container-id-6 div.sk-toggleable__content pre {margin: 0.2em;color: black;border-radius: 0.25em;background-color: #f0f8ff;}#sk-container-id-6 input.sk-toggleable__control:checked~div.sk-toggleable__content {max-height: 200px;max-width: 100%;overflow: auto;}#sk-container-id-6 input.sk-toggleable__control:checked~label.sk-toggleable__label-arrow:before {content: \"▾\";}#sk-container-id-6 div.sk-estimator input.sk-toggleable__control:checked~label.sk-toggleable__label {background-color: #d4ebff;}#sk-container-id-6 div.sk-label input.sk-toggleable__control:checked~label.sk-toggleable__label {background-color: #d4ebff;}#sk-container-id-6 input.sk-hidden--visually {border: 0;clip: rect(1px 1px 1px 1px);clip: rect(1px, 1px, 1px, 1px);height: 1px;margin: -1px;overflow: hidden;padding: 0;position: absolute;width: 1px;}#sk-container-id-6 div.sk-estimator {font-family: monospace;background-color: #f0f8ff;border: 1px dotted black;border-radius: 0.25em;box-sizing: border-box;margin-bottom: 0.5em;}#sk-container-id-6 div.sk-estimator:hover {background-color: #d4ebff;}#sk-container-id-6 div.sk-parallel-item::after {content: \"\";width: 100%;border-bottom: 1px solid gray;flex-grow: 1;}#sk-container-id-6 div.sk-label:hover label.sk-toggleable__label {background-color: #d4ebff;}#sk-container-id-6 div.sk-serial::before {content: \"\";position: absolute;border-left: 1px solid gray;box-sizing: border-box;top: 0;bottom: 0;left: 50%;z-index: 0;}#sk-container-id-6 div.sk-serial {display: flex;flex-direction: column;align-items: center;background-color: white;padding-right: 0.2em;padding-left: 0.2em;position: relative;}#sk-container-id-6 div.sk-item {position: relative;z-index: 1;}#sk-container-id-6 div.sk-parallel {display: flex;align-items: stretch;justify-content: center;background-color: white;position: relative;}#sk-container-id-6 div.sk-item::before, #sk-container-id-6 div.sk-parallel-item::before {content: \"\";position: absolute;border-left: 1px solid gray;box-sizing: border-box;top: 0;bottom: 0;left: 50%;z-index: -1;}#sk-container-id-6 div.sk-parallel-item {display: flex;flex-direction: column;z-index: 1;position: relative;background-color: white;}#sk-container-id-6 div.sk-parallel-item:first-child::after {align-self: flex-end;width: 50%;}#sk-container-id-6 div.sk-parallel-item:last-child::after {align-self: flex-start;width: 50%;}#sk-container-id-6 div.sk-parallel-item:only-child::after {width: 0;}#sk-container-id-6 div.sk-dashed-wrapped {border: 1px dashed gray;margin: 0 0.4em 0.5em 0.4em;box-sizing: border-box;padding-bottom: 0.4em;background-color: white;}#sk-container-id-6 div.sk-label label {font-family: monospace;font-weight: bold;display: inline-block;line-height: 1.2em;}#sk-container-id-6 div.sk-label-container {text-align: center;}#sk-container-id-6 div.sk-container {/* jupyter's `normalize.less` sets `[hidden] { display: none; }` but bootstrap.min.css set `[hidden] { display: none !important; }` so we also need the `!important` here to be able to override the default hidden behavior on the sphinx rendered scikit-learn.org. See: https://github.com/scikit-learn/scikit-learn/issues/21755 */display: inline-block !important;position: relative;}#sk-container-id-6 div.sk-text-repr-fallback {display: none;}</style><div id=\"sk-container-id-6\" class=\"sk-top-container\"><div class=\"sk-text-repr-fallback\"><pre>Pipeline(steps=[(&#x27;vect&#x27;, CountVectorizer()), (&#x27;tfidf&#x27;, TfidfTransformer()),\n",
              "                (&#x27;clf&#x27;, GradientBoostingClassifier())])</pre><b>In a Jupyter environment, please rerun this cell to show the HTML representation or trust the notebook. <br />On GitHub, the HTML representation is unable to render, please try loading this page with nbviewer.org.</b></div><div class=\"sk-container\" hidden><div class=\"sk-item sk-dashed-wrapped\"><div class=\"sk-label-container\"><div class=\"sk-label sk-toggleable\"><input class=\"sk-toggleable__control sk-hidden--visually\" id=\"sk-estimator-id-21\" type=\"checkbox\" ><label for=\"sk-estimator-id-21\" class=\"sk-toggleable__label sk-toggleable__label-arrow\">Pipeline</label><div class=\"sk-toggleable__content\"><pre>Pipeline(steps=[(&#x27;vect&#x27;, CountVectorizer()), (&#x27;tfidf&#x27;, TfidfTransformer()),\n",
              "                (&#x27;clf&#x27;, GradientBoostingClassifier())])</pre></div></div></div><div class=\"sk-serial\"><div class=\"sk-item\"><div class=\"sk-estimator sk-toggleable\"><input class=\"sk-toggleable__control sk-hidden--visually\" id=\"sk-estimator-id-22\" type=\"checkbox\" ><label for=\"sk-estimator-id-22\" class=\"sk-toggleable__label sk-toggleable__label-arrow\">CountVectorizer</label><div class=\"sk-toggleable__content\"><pre>CountVectorizer()</pre></div></div></div><div class=\"sk-item\"><div class=\"sk-estimator sk-toggleable\"><input class=\"sk-toggleable__control sk-hidden--visually\" id=\"sk-estimator-id-23\" type=\"checkbox\" ><label for=\"sk-estimator-id-23\" class=\"sk-toggleable__label sk-toggleable__label-arrow\">TfidfTransformer</label><div class=\"sk-toggleable__content\"><pre>TfidfTransformer()</pre></div></div></div><div class=\"sk-item\"><div class=\"sk-estimator sk-toggleable\"><input class=\"sk-toggleable__control sk-hidden--visually\" id=\"sk-estimator-id-24\" type=\"checkbox\" ><label for=\"sk-estimator-id-24\" class=\"sk-toggleable__label sk-toggleable__label-arrow\">GradientBoostingClassifier</label><div class=\"sk-toggleable__content\"><pre>GradientBoostingClassifier()</pre></div></div></div></div></div></div></div>"
            ]
          },
          "metadata": {},
          "execution_count": 75
        }
      ],
      "source": [
        "# Algorithm training X_train, X_test, y_train, y_test\n",
        "gd_model = gd_pipeline.fit(X_train.values.astype('U'), y_train.values.astype('int64'))\n",
        "gd_model"
      ]
    },
    {
      "cell_type": "code",
      "execution_count": 76,
      "id": "48bc3d8e-c29e-4ea2-8935-bb52c35c44df",
      "metadata": {
        "colab": {
          "base_uri": "https://localhost:8080/"
        },
        "id": "48bc3d8e-c29e-4ea2-8935-bb52c35c44df",
        "outputId": "b6e5bc2f-362f-4dfe-c072-dd4d01a01488",
        "tags": []
      },
      "outputs": [
        {
          "output_type": "execute_result",
          "data": {
            "text/plain": [
              "array([-1,  0,  1])"
            ]
          },
          "metadata": {},
          "execution_count": 76
        }
      ],
      "source": [
        "y_pred = gd_model.predict(X_test.values.astype('U'))\n",
        "gd_model.classes_"
      ]
    },
    {
      "cell_type": "code",
      "execution_count": 77,
      "id": "7f9e1ea1-b79a-4bb5-8fa4-e0aeda1650ef",
      "metadata": {
        "colab": {
          "base_uri": "https://localhost:8080/"
        },
        "id": "7f9e1ea1-b79a-4bb5-8fa4-e0aeda1650ef",
        "outputId": "8340ae1c-20cc-4963-ea9d-8f05996691f0",
        "tags": []
      },
      "outputs": [
        {
          "output_type": "stream",
          "name": "stdout",
          "text": [
            "[[788 176   2]\n",
            " [358 321   3]\n",
            " [ 66  34   6]]\n"
          ]
        }
      ],
      "source": [
        "cm = confusion_matrix(y_test, y_pred, labels=gd_model.classes_)\n",
        "print(cm)"
      ]
    },
    {
      "cell_type": "code",
      "execution_count": 78,
      "id": "655ba664-3b1e-4b3c-9e4c-4c2274600797",
      "metadata": {
        "colab": {
          "base_uri": "https://localhost:8080/",
          "height": 296
        },
        "id": "655ba664-3b1e-4b3c-9e4c-4c2274600797",
        "outputId": "8491e161-6f7b-4b45-d328-0ddcc1605d56",
        "tags": []
      },
      "outputs": [
        {
          "output_type": "execute_result",
          "data": {
            "text/plain": [
              "<sklearn.metrics._plot.confusion_matrix.ConfusionMatrixDisplay at 0x7fd525f9f970>"
            ]
          },
          "metadata": {},
          "execution_count": 78
        },
        {
          "output_type": "display_data",
          "data": {
            "text/plain": [
              "<Figure size 432x288 with 2 Axes>"
            ],
            "image/png": "[encoded data removed]"
          },
          "metadata": {
            "needs_background": "light"
          }
        }
      ],
      "source": [
        "cm_dsp=ConfusionMatrixDisplay(confusion_matrix=cm, display_labels=['Negatives', 'Neutral', 'Positive'])\n",
        "cm_dsp.plot()"
      ]
    },
    {
      "cell_type": "code",
      "execution_count": 79,
      "id": "abf2f754-8bfe-49ab-9af4-de6dcc5edb15",
      "metadata": {
        "colab": {
          "base_uri": "https://localhost:8080/"
        },
        "id": "abf2f754-8bfe-49ab-9af4-de6dcc5edb15",
        "outputId": "8cb0d5db-4c9d-4385-dc42-a0e0fcb419a1",
        "tags": []
      },
      "outputs": [
        {
          "output_type": "stream",
          "name": "stdout",
          "text": [
            "Model Score: 0.6356898517673888\n",
            "Model Score: 63.57%\n",
            "\n",
            "Accuracy: 0.6356898517673888\n",
            "Accuracy: 63.57%\n",
            "\n",
            "F1-score: 0.6105066387330388\n",
            "F1-score: 61.05%\n",
            "\n",
            "CPU times and Wall time: \n",
            "CPU times: user 97.3 ms, sys: 1.87 ms, total: 99.2 ms\n",
            "Wall time: 97.2 ms\n"
          ]
        }
      ],
      "source": [
        "%%time\n",
        "\n",
        "#predicting \n",
        "y_pred = gd_model.predict(X_test.values.astype('U'))\n",
        "\n",
        "model_score = gd_model.score(X_test.values.astype('U'), y_test.values.astype('int64'))\n",
        "print(f'Model Score: {model_score}')\n",
        "print(f'Model Score: {model_score*100:.2f}%')\n",
        "accuracy = accuracy_score(y_test, y_pred)\n",
        "print()\n",
        "print(f\"Accuracy: {accuracy}\")\n",
        "print(f\"Accuracy: {accuracy*100:.2f}%\")\n",
        "print()\n",
        "f1 = f1_score(y_test, y_pred, average='weighted')\n",
        "print(f\"F1-score: {f1}\")\n",
        "print(f\"F1-score: {f1*100:.2f}%\")\n",
        "print()\n",
        "print(\"CPU times and Wall time: \")"
      ]
    },
    {
      "cell_type": "code",
      "execution_count": 81,
      "id": "e64ad1f8-c324-44bc-9d33-0e1832f65fc2",
      "metadata": {
        "colab": {
          "base_uri": "https://localhost:8080/"
        },
        "id": "e64ad1f8-c324-44bc-9d33-0e1832f65fc2",
        "outputId": "ddd87e70-3171-47db-d60e-123b99394486"
      },
      "outputs": [
        {
          "output_type": "execute_result",
          "data": {
            "text/plain": [
              "['models/GradientBoostingClassifier_model_score_63.57.pkl']"
            ]
          },
          "metadata": {},
          "execution_count": 81
        }
      ],
      "source": [
        "# Save to file / directory\n",
        "joblib_file = \"models/GradientBoostingClassifier_model_score_\"+ str(round(accuracy*100,2))+\".pkl\"\n",
        "joblib.dump(gd_model, joblib_file)"
      ]
    },
    {
      "cell_type": "markdown",
      "id": "f1279b11-ca8c-49f2-bc3a-5a06ba504561",
      "metadata": {
        "id": "f1279b11-ca8c-49f2-bc3a-5a06ba504561"
      },
      "source": [
        "# 4.7 MULTINOMIALNB"
      ]
    },
    {
      "cell_type": "code",
      "execution_count": 82,
      "id": "468d1350-14b9-4c4d-a658-41aa3d86958a",
      "metadata": {
        "id": "468d1350-14b9-4c4d-a658-41aa3d86958a"
      },
      "outputs": [],
      "source": [
        "# Initialize a vectorization and modelling pipeline\n",
        "mnb_pipeline = Pipeline([\n",
        "     ('vect', CountVectorizer(ngram_range=(1,1))),\n",
        "     ('tfidf', TfidfTransformer()),\n",
        "     ('clf', MultinomialNB()), \n",
        " ])"
      ]
    },
    {
      "cell_type": "code",
      "execution_count": 83,
      "id": "eafbdaca-81c0-49a0-aab9-aeeca501e44c",
      "metadata": {
        "colab": {
          "base_uri": "https://localhost:8080/",
          "height": 161
        },
        "id": "eafbdaca-81c0-49a0-aab9-aeeca501e44c",
        "outputId": "21dfa164-9304-426a-9a9d-08b9edb2f5db"
      },
      "outputs": [
        {
          "output_type": "execute_result",
          "data": {
            "text/plain": [
              "Pipeline(steps=[('vect', CountVectorizer()), ('tfidf', TfidfTransformer()),\n",
              "                ('clf', MultinomialNB())])"
            ],
            "text/html": [
              "<style>#sk-container-id-7 {color: black;background-color: white;}#sk-container-id-7 pre{padding: 0;}#sk-container-id-7 div.sk-toggleable {background-color: white;}#sk-container-id-7 label.sk-toggleable__label {cursor: pointer;display: block;width: 100%;margin-bottom: 0;padding: 0.3em;box-sizing: border-box;text-align: center;}#sk-container-id-7 label.sk-toggleable__label-arrow:before {content: \"▸\";float: left;margin-right: 0.25em;color: #696969;}#sk-container-id-7 label.sk-toggleable__label-arrow:hover:before {color: black;}#sk-container-id-7 div.sk-estimator:hover label.sk-toggleable__label-arrow:before {color: black;}#sk-container-id-7 div.sk-toggleable__content {max-height: 0;max-width: 0;overflow: hidden;text-align: left;background-color: #f0f8ff;}#sk-container-id-7 div.sk-toggleable__content pre {margin: 0.2em;color: black;border-radius: 0.25em;background-color: #f0f8ff;}#sk-container-id-7 input.sk-toggleable__control:checked~div.sk-toggleable__content {max-height: 200px;max-width: 100%;overflow: auto;}#sk-container-id-7 input.sk-toggleable__control:checked~label.sk-toggleable__label-arrow:before {content: \"▾\";}#sk-container-id-7 div.sk-estimator input.sk-toggleable__control:checked~label.sk-toggleable__label {background-color: #d4ebff;}#sk-container-id-7 div.sk-label input.sk-toggleable__control:checked~label.sk-toggleable__label {background-color: #d4ebff;}#sk-container-id-7 input.sk-hidden--visually {border: 0;clip: rect(1px 1px 1px 1px);clip: rect(1px, 1px, 1px, 1px);height: 1px;margin: -1px;overflow: hidden;padding: 0;position: absolute;width: 1px;}#sk-container-id-7 div.sk-estimator {font-family: monospace;background-color: #f0f8ff;border: 1px dotted black;border-radius: 0.25em;box-sizing: border-box;margin-bottom: 0.5em;}#sk-container-id-7 div.sk-estimator:hover {background-color: #d4ebff;}#sk-container-id-7 div.sk-parallel-item::after {content: \"\";width: 100%;border-bottom: 1px solid gray;flex-grow: 1;}#sk-container-id-7 div.sk-label:hover label.sk-toggleable__label {background-color: #d4ebff;}#sk-container-id-7 div.sk-serial::before {content: \"\";position: absolute;border-left: 1px solid gray;box-sizing: border-box;top: 0;bottom: 0;left: 50%;z-index: 0;}#sk-container-id-7 div.sk-serial {display: flex;flex-direction: column;align-items: center;background-color: white;padding-right: 0.2em;padding-left: 0.2em;position: relative;}#sk-container-id-7 div.sk-item {position: relative;z-index: 1;}#sk-container-id-7 div.sk-parallel {display: flex;align-items: stretch;justify-content: center;background-color: white;position: relative;}#sk-container-id-7 div.sk-item::before, #sk-container-id-7 div.sk-parallel-item::before {content: \"\";position: absolute;border-left: 1px solid gray;box-sizing: border-box;top: 0;bottom: 0;left: 50%;z-index: -1;}#sk-container-id-7 div.sk-parallel-item {display: flex;flex-direction: column;z-index: 1;position: relative;background-color: white;}#sk-container-id-7 div.sk-parallel-item:first-child::after {align-self: flex-end;width: 50%;}#sk-container-id-7 div.sk-parallel-item:last-child::after {align-self: flex-start;width: 50%;}#sk-container-id-7 div.sk-parallel-item:only-child::after {width: 0;}#sk-container-id-7 div.sk-dashed-wrapped {border: 1px dashed gray;margin: 0 0.4em 0.5em 0.4em;box-sizing: border-box;padding-bottom: 0.4em;background-color: white;}#sk-container-id-7 div.sk-label label {font-family: monospace;font-weight: bold;display: inline-block;line-height: 1.2em;}#sk-container-id-7 div.sk-label-container {text-align: center;}#sk-container-id-7 div.sk-container {/* jupyter's `normalize.less` sets `[hidden] { display: none; }` but bootstrap.min.css set `[hidden] { display: none !important; }` so we also need the `!important` here to be able to override the default hidden behavior on the sphinx rendered scikit-learn.org. See: https://github.com/scikit-learn/scikit-learn/issues/21755 */display: inline-block !important;position: relative;}#sk-container-id-7 div.sk-text-repr-fallback {display: none;}</style><div id=\"sk-container-id-7\" class=\"sk-top-container\"><div class=\"sk-text-repr-fallback\"><pre>Pipeline(steps=[(&#x27;vect&#x27;, CountVectorizer()), (&#x27;tfidf&#x27;, TfidfTransformer()),\n",
              "                (&#x27;clf&#x27;, MultinomialNB())])</pre><b>In a Jupyter environment, please rerun this cell to show the HTML representation or trust the notebook. <br />On GitHub, the HTML representation is unable to render, please try loading this page with nbviewer.org.</b></div><div class=\"sk-container\" hidden><div class=\"sk-item sk-dashed-wrapped\"><div class=\"sk-label-container\"><div class=\"sk-label sk-toggleable\"><input class=\"sk-toggleable__control sk-hidden--visually\" id=\"sk-estimator-id-25\" type=\"checkbox\" ><label for=\"sk-estimator-id-25\" class=\"sk-toggleable__label sk-toggleable__label-arrow\">Pipeline</label><div class=\"sk-toggleable__content\"><pre>Pipeline(steps=[(&#x27;vect&#x27;, CountVectorizer()), (&#x27;tfidf&#x27;, TfidfTransformer()),\n",
              "                (&#x27;clf&#x27;, MultinomialNB())])</pre></div></div></div><div class=\"sk-serial\"><div class=\"sk-item\"><div class=\"sk-estimator sk-toggleable\"><input class=\"sk-toggleable__control sk-hidden--visually\" id=\"sk-estimator-id-26\" type=\"checkbox\" ><label for=\"sk-estimator-id-26\" class=\"sk-toggleable__label sk-toggleable__label-arrow\">CountVectorizer</label><div class=\"sk-toggleable__content\"><pre>CountVectorizer()</pre></div></div></div><div class=\"sk-item\"><div class=\"sk-estimator sk-toggleable\"><input class=\"sk-toggleable__control sk-hidden--visually\" id=\"sk-estimator-id-27\" type=\"checkbox\" ><label for=\"sk-estimator-id-27\" class=\"sk-toggleable__label sk-toggleable__label-arrow\">TfidfTransformer</label><div class=\"sk-toggleable__content\"><pre>TfidfTransformer()</pre></div></div></div><div class=\"sk-item\"><div class=\"sk-estimator sk-toggleable\"><input class=\"sk-toggleable__control sk-hidden--visually\" id=\"sk-estimator-id-28\" type=\"checkbox\" ><label for=\"sk-estimator-id-28\" class=\"sk-toggleable__label sk-toggleable__label-arrow\">MultinomialNB</label><div class=\"sk-toggleable__content\"><pre>MultinomialNB()</pre></div></div></div></div></div></div></div>"
            ]
          },
          "metadata": {},
          "execution_count": 83
        }
      ],
      "source": [
        "# Algorithm training X_train, X_test, y_train, y_test\n",
        "mnb_model = mnb_pipeline.fit(X_train.values.astype('U'), y_train.values.astype('int64'))\n",
        "mnb_model"
      ]
    },
    {
      "cell_type": "code",
      "execution_count": 84,
      "id": "76d0eb39-cf85-487f-b645-af359d94885a",
      "metadata": {
        "colab": {
          "base_uri": "https://localhost:8080/"
        },
        "id": "76d0eb39-cf85-487f-b645-af359d94885a",
        "outputId": "50b44599-002c-4f5a-9bd8-5a3301aac12d",
        "tags": []
      },
      "outputs": [
        {
          "output_type": "execute_result",
          "data": {
            "text/plain": [
              "array([-1,  0,  1])"
            ]
          },
          "metadata": {},
          "execution_count": 84
        }
      ],
      "source": [
        "y_pred = mnb_model.predict(X_test.values.astype('U'))\n",
        "mnb_model.classes_"
      ]
    },
    {
      "cell_type": "code",
      "execution_count": 85,
      "id": "954f54b8-87e9-4562-b211-840aa018a6e5",
      "metadata": {
        "colab": {
          "base_uri": "https://localhost:8080/"
        },
        "id": "954f54b8-87e9-4562-b211-840aa018a6e5",
        "outputId": "01bee7d0-fabc-47e1-a525-16334df5da9e",
        "tags": []
      },
      "outputs": [
        {
          "output_type": "stream",
          "name": "stdout",
          "text": [
            "[[847 119   0]\n",
            " [401 281   0]\n",
            " [ 83  23   0]]\n"
          ]
        }
      ],
      "source": [
        "cm = confusion_matrix(y_test, y_pred, labels=mnb_model.classes_)\n",
        "print(cm)"
      ]
    },
    {
      "cell_type": "code",
      "execution_count": 86,
      "id": "c3fbd10b-374d-4b18-a80d-97177e004798",
      "metadata": {
        "colab": {
          "base_uri": "https://localhost:8080/",
          "height": 296
        },
        "id": "c3fbd10b-374d-4b18-a80d-97177e004798",
        "outputId": "014d8a1b-4945-4970-d0f6-144221074dd9",
        "tags": []
      },
      "outputs": [
        {
          "output_type": "execute_result",
          "data": {
            "text/plain": [
              "<sklearn.metrics._plot.confusion_matrix.ConfusionMatrixDisplay at 0x7fd52591a400>"
            ]
          },
          "metadata": {},
          "execution_count": 86
        },
        {
          "output_type": "display_data",
          "data": {
            "text/plain": [
              "<Figure size 432x288 with 2 Axes>"
            ],
            "image/png": "[encoded data removed]"
          },
          "metadata": {
            "needs_background": "light"
          }
        }
      ],
      "source": [
        "cm_dsp=ConfusionMatrixDisplay(confusion_matrix=cm, display_labels=['Negatives', 'Neutral', 'Positive'])\n",
        "cm_dsp.plot()"
      ]
    },
    {
      "cell_type": "code",
      "execution_count": 87,
      "id": "fed5fe5e-9f36-465e-9c03-e1101142e923",
      "metadata": {
        "colab": {
          "base_uri": "https://localhost:8080/"
        },
        "id": "fed5fe5e-9f36-465e-9c03-e1101142e923",
        "outputId": "1648f97d-f6c7-4ca2-e4d2-0e6668c8cd5e",
        "tags": []
      },
      "outputs": [
        {
          "output_type": "stream",
          "name": "stdout",
          "text": [
            "Model Score: 0.6431014823261118\n",
            "Model Score: 64.31%\n",
            "\n",
            "Accuracy: 0.6431014823261118\n",
            "Accuracy: 64.31%\n",
            "\n",
            "F1-score: 0.6039182313831132\n",
            "F1-score: 60.39%\n",
            "\n",
            "CPU times and Wall time: \n",
            "CPU times: user 80.4 ms, sys: 3.42 ms, total: 83.8 ms\n",
            "Wall time: 84.8 ms\n"
          ]
        }
      ],
      "source": [
        "%%time\n",
        "\n",
        "#predicting \n",
        "y_pred = mnb_model.predict(X_test.values.astype('U'))\n",
        "\n",
        "model_score = mnb_model.score(X_test.values.astype('U'), y_test.values.astype('int64'))\n",
        "print(f'Model Score: {model_score}')\n",
        "print(f'Model Score: {model_score*100:.2f}%')\n",
        "accuracy = accuracy_score(y_test, y_pred)\n",
        "print()\n",
        "print(f\"Accuracy: {accuracy}\")\n",
        "print(f\"Accuracy: {accuracy*100:.2f}%\")\n",
        "print()\n",
        "f1 = f1_score(y_test, y_pred, average='weighted')\n",
        "print(f\"F1-score: {f1}\")\n",
        "print(f\"F1-score: {f1*100:.2f}%\")\n",
        "print()\n",
        "print(\"CPU times and Wall time: \")"
      ]
    },
    {
      "cell_type": "code",
      "execution_count": 89,
      "id": "8de6463d-a132-4e7a-8f76-612a41ba7dda",
      "metadata": {
        "colab": {
          "base_uri": "https://localhost:8080/"
        },
        "id": "8de6463d-a132-4e7a-8f76-612a41ba7dda",
        "outputId": "155deccf-ba90-48db-cad5-5d49dbaacc45"
      },
      "outputs": [
        {
          "output_type": "execute_result",
          "data": {
            "text/plain": [
              "['models/MultinomialNB_model_score_64.31.pkl']"
            ]
          },
          "metadata": {},
          "execution_count": 89
        }
      ],
      "source": [
        "# Save to file / directory\n",
        "joblib_file = \"models/MultinomialNB_model_score_\"+ str(round(accuracy*100,2))+\".pkl\"\n",
        "joblib.dump(mnb_model, joblib_file)"
      ]
    },
    {
      "cell_type": "markdown",
      "id": "72f4dc47-a243-454c-983f-dd0e1f229e1c",
      "metadata": {
        "id": "72f4dc47-a243-454c-983f-dd0e1f229e1c"
      },
      "source": [
        "# 4.8 XGBoost classifier"
      ]
    },
    {
      "cell_type": "code",
      "source": [
        "xgb_pipeline = Pipeline([\n",
        "     ('vect', CountVectorizer(ngram_range=(1,1))),\n",
        "     ('tfidf', TfidfTransformer()),\n",
        "     ('clf', xgb.XGBClassifier(learning_rate=0.001,\n",
        "                            max_depth = 1, \n",
        "                           n_estimators = 100,)),\n",
        " ])"
      ],
      "metadata": {
        "id": "9ggq332ctWGr"
      },
      "id": "9ggq332ctWGr",
      "execution_count": 100,
      "outputs": []
    },
    {
      "cell_type": "code",
      "execution_count": 101,
      "id": "AdLdPLiYSl-4",
      "metadata": {
        "id": "AdLdPLiYSl-4"
      },
      "outputs": [],
      "source": [
        "Xg_train = X_train.values.astype('U')\n",
        "Xg_test = X_test.values.astype('U')\n",
        "yg_train = y_train\n",
        "yg_test= y_test"
      ]
    },
    {
      "cell_type": "code",
      "source": [
        "le = LabelEncoder()\n",
        "yg_train = le.fit_transform(yg_train)"
      ],
      "metadata": {
        "id": "_gpSsUp6uAiM"
      },
      "id": "_gpSsUp6uAiM",
      "execution_count": 104,
      "outputs": []
    },
    {
      "cell_type": "code",
      "execution_count": 105,
      "id": "6PJiOiVk_2UL",
      "metadata": {
        "id": "6PJiOiVk_2UL"
      },
      "outputs": [],
      "source": [
        "xgbmodel = xgb_pipeline.fit(Xg_train, yg_train)"
      ]
    },
    {
      "cell_type": "code",
      "execution_count": 106,
      "id": "C3ojoofqgDUE",
      "metadata": {
        "colab": {
          "base_uri": "https://localhost:8080/"
        },
        "id": "C3ojoofqgDUE",
        "outputId": "97fbbcda-602e-4dcb-9f87-10f9db088d23"
      },
      "outputs": [
        {
          "output_type": "execute_result",
          "data": {
            "text/plain": [
              "array([0, 1, 2])"
            ]
          },
          "metadata": {},
          "execution_count": 106
        }
      ],
      "source": [
        "yg_pred = xgbmodel.predict(Xg_test)\n",
        "xgbmodel.classes_"
      ]
    },
    {
      "cell_type": "code",
      "execution_count": 107,
      "id": "ReibGchsf8z7",
      "metadata": {
        "colab": {
          "base_uri": "https://localhost:8080/"
        },
        "id": "ReibGchsf8z7",
        "outputId": "678f03f6-2691-4527-d5a2-ced9c3a801d4"
      },
      "outputs": [
        {
          "output_type": "stream",
          "name": "stdout",
          "text": [
            "[[682   0   0]\n",
            " [106   0   0]\n",
            " [  0   0   0]]\n"
          ]
        }
      ],
      "source": [
        "cm = confusion_matrix(yg_test, yg_pred, labels=xgbmodel.classes_)\n",
        "print(cm)\n"
      ]
    },
    {
      "cell_type": "code",
      "execution_count": 108,
      "id": "IP3Oqn97gCns",
      "metadata": {
        "colab": {
          "base_uri": "https://localhost:8080/",
          "height": 279
        },
        "id": "IP3Oqn97gCns",
        "outputId": "9a088348-de3e-4574-f746-437ef8d949a9"
      },
      "outputs": [
        {
          "output_type": "display_data",
          "data": {
            "text/plain": [
              "<Figure size 432x288 with 2 Axes>"
            ],
            "image/png": "[encoded data removed]"
          },
          "metadata": {
            "needs_background": "light"
          }
        }
      ],
      "source": [
        "cm_dsp=ConfusionMatrixDisplay(confusion_matrix=cm, display_labels=['Negatives', 'Neutral', 'Positive'])\n",
        "cm_dsp.plot()\n",
        "plt.show()"
      ]
    },
    {
      "cell_type": "code",
      "execution_count": 109,
      "id": "OPQITAUjg_8q",
      "metadata": {
        "colab": {
          "base_uri": "https://localhost:8080/"
        },
        "id": "OPQITAUjg_8q",
        "outputId": "aea39039-985d-4105-ff0c-725d9fc8e130"
      },
      "outputs": [
        {
          "output_type": "stream",
          "name": "stdout",
          "text": [
            "Model Score: 0.3888255416191562\n",
            "Model Score: 38.88%\n",
            "\n",
            "Accuracy: 0.3888255416191562\n",
            "Accuracy: 38.88%\n",
            "\n",
            "F1-score: 0.21771676468330423\n",
            "F1-score: 21.77%\n",
            "\n",
            "CPU times and Wall time: \n",
            "CPU times: user 60 ms, sys: 1.7 ms, total: 61.7 ms\n",
            "Wall time: 52.3 ms\n"
          ]
        }
      ],
      "source": [
        "%%time\n",
        "model_score = xgbmodel.score(X_test.values.astype('U'), y_test.values.astype('int64'))\n",
        "print(f'Model Score: {model_score}')\n",
        "print(f'Model Score: {model_score*100:.2f}%')\n",
        "accuracy = accuracy_score(yg_test, yg_pred)\n",
        "print()\n",
        "print(f\"Accuracy: {accuracy}\")\n",
        "print(f\"Accuracy: {accuracy*100:.2f}%\")\n",
        "print()\n",
        "f1 = f1_score(yg_test, yg_pred, average='weighted')\n",
        "print(f\"F1-score: {f1}\")\n",
        "print(f\"F1-score: {f1*100:.2f}%\")\n",
        "print()\n",
        "print(\"CPU times and Wall time: \")"
      ]
    },
    {
      "cell_type": "code",
      "execution_count": 110,
      "id": "rz1ePbZNA1oz",
      "metadata": {
        "colab": {
          "base_uri": "https://localhost:8080/"
        },
        "id": "rz1ePbZNA1oz",
        "outputId": "3f1c0bf6-13ed-4356-94b5-3cb798980ff3"
      },
      "outputs": [
        {
          "output_type": "execute_result",
          "data": {
            "text/plain": [
              "['models/XGB_model_score_38.88.pkl']"
            ]
          },
          "metadata": {},
          "execution_count": 110
        }
      ],
      "source": [
        "# Save to file / directory\n",
        "joblib_file = \"models/XGB_model_score_\"+ str(round(accuracy*100,2))+\".pkl\"\n",
        "joblib.dump(xgbmodel, joblib_file)"
      ]
    },
    {
      "cell_type": "markdown",
      "id": "d49d1454-1ec4-4993-b713-33d64a26b030",
      "metadata": {
        "id": "d49d1454-1ec4-4993-b713-33d64a26b030"
      },
      "source": [
        "# 4.9 LightGBM classifier"
      ]
    },
    {
      "cell_type": "code",
      "execution_count": 111,
      "id": "ac989ca7-f347-4ecc-85be-dd60fe859eb8",
      "metadata": {
        "id": "ac989ca7-f347-4ecc-85be-dd60fe859eb8",
        "tags": []
      },
      "outputs": [],
      "source": [
        "lgbm_pipeline = Pipeline([\n",
        "     ('vect', CountVectorizer(ngram_range=(1,1))),\n",
        "     ('tfidf', TfidfTransformer()),\n",
        "     ('clf', LGBMClassifier()),  \n",
        "     ])"
      ]
    },
    {
      "cell_type": "code",
      "execution_count": 130,
      "id": "dd8fe1a4-98d3-4b99-a49c-dcd7aa192428",
      "metadata": {
        "id": "dd8fe1a4-98d3-4b99-a49c-dcd7aa192428",
        "tags": [],
        "colab": {
          "base_uri": "https://localhost:8080/",
          "height": 161
        },
        "outputId": "bcb53993-cc2d-4a36-992b-235af4e47e3a"
      },
      "outputs": [
        {
          "output_type": "execute_result",
          "data": {
            "text/plain": [
              "Pipeline(steps=[('vect', CountVectorizer()), ('tfidf', TfidfTransformer()),\n",
              "                ('clf', LGBMClassifier())])"
            ],
            "text/html": [
              "<style>#sk-container-id-8 {color: black;background-color: white;}#sk-container-id-8 pre{padding: 0;}#sk-container-id-8 div.sk-toggleable {background-color: white;}#sk-container-id-8 label.sk-toggleable__label {cursor: pointer;display: block;width: 100%;margin-bottom: 0;padding: 0.3em;box-sizing: border-box;text-align: center;}#sk-container-id-8 label.sk-toggleable__label-arrow:before {content: \"▸\";float: left;margin-right: 0.25em;color: #696969;}#sk-container-id-8 label.sk-toggleable__label-arrow:hover:before {color: black;}#sk-container-id-8 div.sk-estimator:hover label.sk-toggleable__label-arrow:before {color: black;}#sk-container-id-8 div.sk-toggleable__content {max-height: 0;max-width: 0;overflow: hidden;text-align: left;background-color: #f0f8ff;}#sk-container-id-8 div.sk-toggleable__content pre {margin: 0.2em;color: black;border-radius: 0.25em;background-color: #f0f8ff;}#sk-container-id-8 input.sk-toggleable__control:checked~div.sk-toggleable__content {max-height: 200px;max-width: 100%;overflow: auto;}#sk-container-id-8 input.sk-toggleable__control:checked~label.sk-toggleable__label-arrow:before {content: \"▾\";}#sk-container-id-8 div.sk-estimator input.sk-toggleable__control:checked~label.sk-toggleable__label {background-color: #d4ebff;}#sk-container-id-8 div.sk-label input.sk-toggleable__control:checked~label.sk-toggleable__label {background-color: #d4ebff;}#sk-container-id-8 input.sk-hidden--visually {border: 0;clip: rect(1px 1px 1px 1px);clip: rect(1px, 1px, 1px, 1px);height: 1px;margin: -1px;overflow: hidden;padding: 0;position: absolute;width: 1px;}#sk-container-id-8 div.sk-estimator {font-family: monospace;background-color: #f0f8ff;border: 1px dotted black;border-radius: 0.25em;box-sizing: border-box;margin-bottom: 0.5em;}#sk-container-id-8 div.sk-estimator:hover {background-color: #d4ebff;}#sk-container-id-8 div.sk-parallel-item::after {content: \"\";width: 100%;border-bottom: 1px solid gray;flex-grow: 1;}#sk-container-id-8 div.sk-label:hover label.sk-toggleable__label {background-color: #d4ebff;}#sk-container-id-8 div.sk-serial::before {content: \"\";position: absolute;border-left: 1px solid gray;box-sizing: border-box;top: 0;bottom: 0;left: 50%;z-index: 0;}#sk-container-id-8 div.sk-serial {display: flex;flex-direction: column;align-items: center;background-color: white;padding-right: 0.2em;padding-left: 0.2em;position: relative;}#sk-container-id-8 div.sk-item {position: relative;z-index: 1;}#sk-container-id-8 div.sk-parallel {display: flex;align-items: stretch;justify-content: center;background-color: white;position: relative;}#sk-container-id-8 div.sk-item::before, #sk-container-id-8 div.sk-parallel-item::before {content: \"\";position: absolute;border-left: 1px solid gray;box-sizing: border-box;top: 0;bottom: 0;left: 50%;z-index: -1;}#sk-container-id-8 div.sk-parallel-item {display: flex;flex-direction: column;z-index: 1;position: relative;background-color: white;}#sk-container-id-8 div.sk-parallel-item:first-child::after {align-self: flex-end;width: 50%;}#sk-container-id-8 div.sk-parallel-item:last-child::after {align-self: flex-start;width: 50%;}#sk-container-id-8 div.sk-parallel-item:only-child::after {width: 0;}#sk-container-id-8 div.sk-dashed-wrapped {border: 1px dashed gray;margin: 0 0.4em 0.5em 0.4em;box-sizing: border-box;padding-bottom: 0.4em;background-color: white;}#sk-container-id-8 div.sk-label label {font-family: monospace;font-weight: bold;display: inline-block;line-height: 1.2em;}#sk-container-id-8 div.sk-label-container {text-align: center;}#sk-container-id-8 div.sk-container {/* jupyter's `normalize.less` sets `[hidden] { display: none; }` but bootstrap.min.css set `[hidden] { display: none !important; }` so we also need the `!important` here to be able to override the default hidden behavior on the sphinx rendered scikit-learn.org. See: https://github.com/scikit-learn/scikit-learn/issues/21755 */display: inline-block !important;position: relative;}#sk-container-id-8 div.sk-text-repr-fallback {display: none;}</style><div id=\"sk-container-id-8\" class=\"sk-top-container\"><div class=\"sk-text-repr-fallback\"><pre>Pipeline(steps=[(&#x27;vect&#x27;, CountVectorizer()), (&#x27;tfidf&#x27;, TfidfTransformer()),\n",
              "                (&#x27;clf&#x27;, LGBMClassifier())])</pre><b>In a Jupyter environment, please rerun this cell to show the HTML representation or trust the notebook. <br />On GitHub, the HTML representation is unable to render, please try loading this page with nbviewer.org.</b></div><div class=\"sk-container\" hidden><div class=\"sk-item sk-dashed-wrapped\"><div class=\"sk-label-container\"><div class=\"sk-label sk-toggleable\"><input class=\"sk-toggleable__control sk-hidden--visually\" id=\"sk-estimator-id-29\" type=\"checkbox\" ><label for=\"sk-estimator-id-29\" class=\"sk-toggleable__label sk-toggleable__label-arrow\">Pipeline</label><div class=\"sk-toggleable__content\"><pre>Pipeline(steps=[(&#x27;vect&#x27;, CountVectorizer()), (&#x27;tfidf&#x27;, TfidfTransformer()),\n",
              "                (&#x27;clf&#x27;, LGBMClassifier())])</pre></div></div></div><div class=\"sk-serial\"><div class=\"sk-item\"><div class=\"sk-estimator sk-toggleable\"><input class=\"sk-toggleable__control sk-hidden--visually\" id=\"sk-estimator-id-30\" type=\"checkbox\" ><label for=\"sk-estimator-id-30\" class=\"sk-toggleable__label sk-toggleable__label-arrow\">CountVectorizer</label><div class=\"sk-toggleable__content\"><pre>CountVectorizer()</pre></div></div></div><div class=\"sk-item\"><div class=\"sk-estimator sk-toggleable\"><input class=\"sk-toggleable__control sk-hidden--visually\" id=\"sk-estimator-id-31\" type=\"checkbox\" ><label for=\"sk-estimator-id-31\" class=\"sk-toggleable__label sk-toggleable__label-arrow\">TfidfTransformer</label><div class=\"sk-toggleable__content\"><pre>TfidfTransformer()</pre></div></div></div><div class=\"sk-item\"><div class=\"sk-estimator sk-toggleable\"><input class=\"sk-toggleable__control sk-hidden--visually\" id=\"sk-estimator-id-32\" type=\"checkbox\" ><label for=\"sk-estimator-id-32\" class=\"sk-toggleable__label sk-toggleable__label-arrow\">LGBMClassifier</label><div class=\"sk-toggleable__content\"><pre>LGBMClassifier()</pre></div></div></div></div></div></div></div>"
            ]
          },
          "metadata": {},
          "execution_count": 130
        }
      ],
      "source": [
        "# Algorithm training X_train, X_test, y_train, y_test\n",
        "lgbm_model = lgbm_pipeline.fit(X_train.values.astype('U'), y_train.values.astype('int64'))\n",
        "lgbm_model"
      ]
    },
    {
      "cell_type": "code",
      "execution_count": 131,
      "id": "6592d454-0ee5-4ee0-85bf-7d5d78c61d4f",
      "metadata": {
        "id": "6592d454-0ee5-4ee0-85bf-7d5d78c61d4f",
        "tags": [],
        "colab": {
          "base_uri": "https://localhost:8080/"
        },
        "outputId": "e55d305f-16cb-4918-b968-5e9e53fe8c07"
      },
      "outputs": [
        {
          "output_type": "execute_result",
          "data": {
            "text/plain": [
              "array([-1,  0,  1])"
            ]
          },
          "metadata": {},
          "execution_count": 131
        }
      ],
      "source": [
        "y_pred = lgbm_model.predict(X_test.values.astype('U'))\n",
        "lgbm_model.classes_"
      ]
    },
    {
      "cell_type": "code",
      "execution_count": 132,
      "id": "66982c9d-fc73-45a2-8397-f9f64445b3b3",
      "metadata": {
        "id": "66982c9d-fc73-45a2-8397-f9f64445b3b3",
        "tags": [],
        "colab": {
          "base_uri": "https://localhost:8080/"
        },
        "outputId": "91cb4995-8551-42e8-ded3-1308a7934475"
      },
      "outputs": [
        {
          "output_type": "stream",
          "name": "stdout",
          "text": [
            "[[709 250   7]\n",
            " [268 410   4]\n",
            " [ 58  42   6]]\n"
          ]
        }
      ],
      "source": [
        "cm = confusion_matrix(y_test, y_pred, labels=lgbm_model.classes_)\n",
        "print(cm)"
      ]
    },
    {
      "cell_type": "code",
      "execution_count": 133,
      "id": "43113ca4-4520-4681-8b2a-a6b1cef6d740",
      "metadata": {
        "id": "43113ca4-4520-4681-8b2a-a6b1cef6d740",
        "tags": [],
        "colab": {
          "base_uri": "https://localhost:8080/",
          "height": 298
        },
        "outputId": "7708333e-864c-4b26-a735-2af7cbd4317d"
      },
      "outputs": [
        {
          "output_type": "execute_result",
          "data": {
            "text/plain": [
              "<sklearn.metrics._plot.confusion_matrix.ConfusionMatrixDisplay at 0x7fd523eb0e80>"
            ]
          },
          "metadata": {},
          "execution_count": 133
        },
        {
          "output_type": "display_data",
          "data": {
            "text/plain": [
              "<Figure size 432x288 with 2 Axes>"
            ],
            "image/png": "[encoded data removed]"
          },
          "metadata": {
            "needs_background": "light"
          }
        }
      ],
      "source": [
        "cm_dsp=ConfusionMatrixDisplay(confusion_matrix=cm, display_labels=['Negatives', 'Neutral', 'Positive'])\n",
        "cm_dsp.plot()"
      ]
    },
    {
      "cell_type": "code",
      "execution_count": 134,
      "id": "9b3de1a3-1715-48cc-8c6c-b78c78e7ba6e",
      "metadata": {
        "id": "9b3de1a3-1715-48cc-8c6c-b78c78e7ba6e",
        "tags": [],
        "colab": {
          "base_uri": "https://localhost:8080/"
        },
        "outputId": "7ef73d47-ea16-4872-9aa2-081f206197dd"
      },
      "outputs": [
        {
          "output_type": "stream",
          "name": "stdout",
          "text": [
            "Model Score: 0.6413911060433295\n",
            "Model Score: 64.14%\n",
            "\n",
            "Accuracy: 0.6413911060433295\n",
            "Accuracy: 64.14%\n",
            "\n",
            "F1-score: 0.6265497902287547\n",
            "F1-score: 62.65%\n",
            "\n",
            "CPU times and Wall time: \n",
            "CPU times: user 242 ms, sys: 1.9 ms, total: 244 ms\n",
            "Wall time: 160 ms\n"
          ]
        }
      ],
      "source": [
        "%%time\n",
        "\n",
        "#predicting \n",
        "y_pred = lgbm_model.predict(X_test.values.astype('U'))\n",
        "\n",
        "model_score = lgbm_model.score(X_test.values.astype('U'), y_test.values.astype('int64'))\n",
        "print(f'Model Score: {model_score}')\n",
        "print(f'Model Score: {model_score*100:.2f}%')\n",
        "accuracy = accuracy_score(y_test, y_pred)\n",
        "print()\n",
        "print(f\"Accuracy: {accuracy}\")\n",
        "print(f\"Accuracy: {accuracy*100:.2f}%\")\n",
        "print()\n",
        "f1 = f1_score(y_test, y_pred, average='weighted')\n",
        "print(f\"F1-score: {f1}\")\n",
        "print(f\"F1-score: {f1*100:.2f}%\")\n",
        "print()\n",
        "print(\"CPU times and Wall time: \")"
      ]
    },
    {
      "cell_type": "code",
      "execution_count": 135,
      "id": "1c2fc598-371b-4b08-b52b-aeb765c9ab15",
      "metadata": {
        "id": "1c2fc598-371b-4b08-b52b-aeb765c9ab15",
        "tags": [],
        "colab": {
          "base_uri": "https://localhost:8080/"
        },
        "outputId": "90a0a754-a783-4301-e26d-43c100e7d08a"
      },
      "outputs": [
        {
          "output_type": "execute_result",
          "data": {
            "text/plain": [
              "['models/LGBMClassifier_model_score_64.14.pkl']"
            ]
          },
          "metadata": {},
          "execution_count": 135
        }
      ],
      "source": [
        "# Save to file / directory\n",
        "joblib_file = \"models/LGBMClassifier_model_score_\"+ str(round(accuracy*100,2))+\".pkl\"\n",
        "joblib.dump(lgbm_model, joblib_file)"
      ]
    },
    {
      "cell_type": "markdown",
      "id": "cd4039e1-4ee3-43c1-a989-44d1c7aea5ff",
      "metadata": {
        "id": "cd4039e1-4ee3-43c1-a989-44d1c7aea5ff"
      },
      "source": [
        "# 4.10 CatBoost classifier"
      ]
    },
    {
      "cell_type": "code",
      "execution_count": 136,
      "id": "2f210c39-ccbb-4abc-83b9-29ce97acca6f",
      "metadata": {
        "id": "2f210c39-ccbb-4abc-83b9-29ce97acca6f",
        "tags": []
      },
      "outputs": [],
      "source": [
        "ctb_pipeline = Pipeline([\n",
        "     ('vect', CountVectorizer(ngram_range=(1,1))),\n",
        "     ('tfidf', TfidfTransformer()),\n",
        "     ('clf', CatBoostClassifier()), \n",
        " ])"
      ]
    },
    {
      "cell_type": "code",
      "execution_count": 137,
      "id": "b7afda62-ad92-4738-b1e9-8936b18b05a5",
      "metadata": {
        "id": "b7afda62-ad92-4738-b1e9-8936b18b05a5",
        "tags": [],
        "colab": {
          "base_uri": "https://localhost:8080/",
          "height": 1000
        },
        "outputId": "5715a9a4-c87e-4dfe-8fea-d500af4b0298"
      },
      "outputs": [
        {
          "output_type": "stream",
          "name": "stdout",
          "text": [
            "Learning rate set to 0.087391\n",
            "0:\tlearn: 1.0682164\ttotal: 535ms\tremaining: 8m 54s\n",
            "1:\tlearn: 1.0420328\ttotal: 832ms\tremaining: 6m 55s\n",
            "2:\tlearn: 1.0198247\ttotal: 1.25s\tremaining: 6m 55s\n",
            "3:\tlearn: 1.0011174\ttotal: 1.69s\tremaining: 6m 59s\n",
            "4:\tlearn: 0.9844740\ttotal: 2.14s\tremaining: 7m 6s\n",
            "5:\tlearn: 0.9696109\ttotal: 2.5s\tremaining: 6m 53s\n",
            "6:\tlearn: 0.9568077\ttotal: 2.83s\tremaining: 6m 40s\n",
            "7:\tlearn: 0.9455714\ttotal: 3.08s\tremaining: 6m 21s\n",
            "8:\tlearn: 0.9356233\ttotal: 3.33s\tremaining: 6m 7s\n",
            "9:\tlearn: 0.9253067\ttotal: 3.58s\tremaining: 5m 54s\n",
            "10:\tlearn: 0.9161551\ttotal: 3.82s\tremaining: 5m 43s\n",
            "11:\tlearn: 0.9081726\ttotal: 4.17s\tremaining: 5m 43s\n",
            "12:\tlearn: 0.9010100\ttotal: 4.6s\tremaining: 5m 49s\n",
            "13:\tlearn: 0.8951394\ttotal: 5.01s\tremaining: 5m 53s\n",
            "14:\tlearn: 0.8901943\ttotal: 5.46s\tremaining: 5m 58s\n",
            "15:\tlearn: 0.8842832\ttotal: 5.86s\tremaining: 6m\n",
            "16:\tlearn: 0.8800857\ttotal: 6.27s\tremaining: 6m 2s\n",
            "17:\tlearn: 0.8761108\ttotal: 6.71s\tremaining: 6m 6s\n",
            "18:\tlearn: 0.8726391\ttotal: 6.99s\tremaining: 6m\n",
            "19:\tlearn: 0.8687525\ttotal: 7.24s\tremaining: 5m 54s\n",
            "20:\tlearn: 0.8654212\ttotal: 7.49s\tremaining: 5m 49s\n",
            "21:\tlearn: 0.8619559\ttotal: 7.73s\tremaining: 5m 43s\n",
            "22:\tlearn: 0.8596696\ttotal: 7.96s\tremaining: 5m 38s\n",
            "23:\tlearn: 0.8577051\ttotal: 8.22s\tremaining: 5m 34s\n",
            "24:\tlearn: 0.8557728\ttotal: 8.45s\tremaining: 5m 29s\n",
            "25:\tlearn: 0.8539922\ttotal: 8.7s\tremaining: 5m 25s\n",
            "26:\tlearn: 0.8522114\ttotal: 8.94s\tremaining: 5m 22s\n",
            "27:\tlearn: 0.8504238\ttotal: 9.19s\tremaining: 5m 18s\n",
            "28:\tlearn: 0.8486271\ttotal: 9.43s\tremaining: 5m 15s\n",
            "29:\tlearn: 0.8474014\ttotal: 9.68s\tremaining: 5m 12s\n",
            "30:\tlearn: 0.8463328\ttotal: 9.91s\tremaining: 5m 9s\n",
            "31:\tlearn: 0.8452950\ttotal: 10.2s\tremaining: 5m 7s\n",
            "32:\tlearn: 0.8443898\ttotal: 10.4s\tremaining: 5m 4s\n",
            "33:\tlearn: 0.8426951\ttotal: 10.7s\tremaining: 5m 2s\n",
            "34:\tlearn: 0.8414061\ttotal: 10.9s\tremaining: 5m\n",
            "35:\tlearn: 0.8403469\ttotal: 11.1s\tremaining: 4m 57s\n",
            "36:\tlearn: 0.8391257\ttotal: 11.4s\tremaining: 4m 56s\n",
            "37:\tlearn: 0.8381976\ttotal: 11.6s\tremaining: 4m 54s\n",
            "38:\tlearn: 0.8372668\ttotal: 11.9s\tremaining: 4m 52s\n",
            "39:\tlearn: 0.8360970\ttotal: 12.1s\tremaining: 4m 51s\n",
            "40:\tlearn: 0.8353987\ttotal: 12.4s\tremaining: 4m 49s\n",
            "41:\tlearn: 0.8343572\ttotal: 12.6s\tremaining: 4m 47s\n",
            "42:\tlearn: 0.8336202\ttotal: 12.9s\tremaining: 4m 46s\n",
            "43:\tlearn: 0.8324756\ttotal: 13.1s\tremaining: 4m 44s\n",
            "44:\tlearn: 0.8314817\ttotal: 13.4s\tremaining: 4m 43s\n",
            "45:\tlearn: 0.8307809\ttotal: 13.6s\tremaining: 4m 41s\n",
            "46:\tlearn: 0.8301154\ttotal: 13.8s\tremaining: 4m 40s\n",
            "47:\tlearn: 0.8294873\ttotal: 14.1s\tremaining: 4m 39s\n",
            "48:\tlearn: 0.8287900\ttotal: 14.3s\tremaining: 4m 38s\n",
            "49:\tlearn: 0.8280300\ttotal: 14.6s\tremaining: 4m 37s\n",
            "50:\tlearn: 0.8269609\ttotal: 14.8s\tremaining: 4m 36s\n",
            "51:\tlearn: 0.8263671\ttotal: 15.1s\tremaining: 4m 34s\n",
            "52:\tlearn: 0.8258822\ttotal: 15.3s\tremaining: 4m 33s\n",
            "53:\tlearn: 0.8251099\ttotal: 15.6s\tremaining: 4m 32s\n",
            "54:\tlearn: 0.8245662\ttotal: 15.8s\tremaining: 4m 31s\n",
            "55:\tlearn: 0.8240554\ttotal: 16.1s\tremaining: 4m 30s\n",
            "56:\tlearn: 0.8233467\ttotal: 16.3s\tremaining: 4m 29s\n",
            "57:\tlearn: 0.8227555\ttotal: 16.5s\tremaining: 4m 28s\n",
            "58:\tlearn: 0.8224261\ttotal: 16.8s\tremaining: 4m 27s\n",
            "59:\tlearn: 0.8217580\ttotal: 17.2s\tremaining: 4m 30s\n",
            "60:\tlearn: 0.8209223\ttotal: 17.7s\tremaining: 4m 32s\n",
            "61:\tlearn: 0.8202184\ttotal: 18.1s\tremaining: 4m 34s\n",
            "62:\tlearn: 0.8199127\ttotal: 18.6s\tremaining: 4m 36s\n",
            "63:\tlearn: 0.8194417\ttotal: 19s\tremaining: 4m 38s\n",
            "64:\tlearn: 0.8189123\ttotal: 19.4s\tremaining: 4m 39s\n",
            "65:\tlearn: 0.8184754\ttotal: 19.7s\tremaining: 4m 38s\n",
            "66:\tlearn: 0.8178515\ttotal: 19.9s\tremaining: 4m 37s\n",
            "67:\tlearn: 0.8172789\ttotal: 20.2s\tremaining: 4m 36s\n",
            "68:\tlearn: 0.8168405\ttotal: 20.4s\tremaining: 4m 35s\n",
            "69:\tlearn: 0.8162258\ttotal: 20.7s\tremaining: 4m 34s\n",
            "70:\tlearn: 0.8157143\ttotal: 20.9s\tremaining: 4m 33s\n",
            "71:\tlearn: 0.8152523\ttotal: 21.2s\tremaining: 4m 32s\n",
            "72:\tlearn: 0.8149213\ttotal: 21.4s\tremaining: 4m 31s\n",
            "73:\tlearn: 0.8141539\ttotal: 21.7s\tremaining: 4m 31s\n",
            "74:\tlearn: 0.8136550\ttotal: 21.9s\tremaining: 4m 30s\n",
            "75:\tlearn: 0.8133150\ttotal: 22.2s\tremaining: 4m 29s\n",
            "76:\tlearn: 0.8127425\ttotal: 22.4s\tremaining: 4m 28s\n",
            "77:\tlearn: 0.8124338\ttotal: 22.7s\tremaining: 4m 27s\n",
            "78:\tlearn: 0.8119702\ttotal: 22.9s\tremaining: 4m 26s\n",
            "79:\tlearn: 0.8114490\ttotal: 23.1s\tremaining: 4m 26s\n",
            "80:\tlearn: 0.8109778\ttotal: 23.4s\tremaining: 4m 25s\n",
            "81:\tlearn: 0.8103880\ttotal: 23.6s\tremaining: 4m 24s\n",
            "82:\tlearn: 0.8100691\ttotal: 23.9s\tremaining: 4m 23s\n",
            "83:\tlearn: 0.8093153\ttotal: 24.1s\tremaining: 4m 22s\n",
            "84:\tlearn: 0.8087973\ttotal: 24.4s\tremaining: 4m 22s\n",
            "85:\tlearn: 0.8084375\ttotal: 24.6s\tremaining: 4m 21s\n",
            "86:\tlearn: 0.8078679\ttotal: 24.9s\tremaining: 4m 20s\n",
            "87:\tlearn: 0.8074961\ttotal: 25.1s\tremaining: 4m 19s\n",
            "88:\tlearn: 0.8072886\ttotal: 25.3s\tremaining: 4m 19s\n",
            "89:\tlearn: 0.8065533\ttotal: 25.6s\tremaining: 4m 18s\n",
            "90:\tlearn: 0.8060762\ttotal: 25.8s\tremaining: 4m 17s\n",
            "91:\tlearn: 0.8053888\ttotal: 26.1s\tremaining: 4m 17s\n",
            "92:\tlearn: 0.8049251\ttotal: 26.3s\tremaining: 4m 16s\n",
            "93:\tlearn: 0.8044806\ttotal: 26.5s\tremaining: 4m 15s\n",
            "94:\tlearn: 0.8041059\ttotal: 26.8s\tremaining: 4m 15s\n",
            "95:\tlearn: 0.8037913\ttotal: 27s\tremaining: 4m 14s\n",
            "96:\tlearn: 0.8033447\ttotal: 27.3s\tremaining: 4m 13s\n",
            "97:\tlearn: 0.8031614\ttotal: 27.5s\tremaining: 4m 13s\n",
            "98:\tlearn: 0.8027439\ttotal: 27.8s\tremaining: 4m 12s\n",
            "99:\tlearn: 0.8023799\ttotal: 28s\tremaining: 4m 12s\n",
            "100:\tlearn: 0.8020070\ttotal: 28.3s\tremaining: 4m 11s\n",
            "101:\tlearn: 0.8015671\ttotal: 28.5s\tremaining: 4m 10s\n",
            "102:\tlearn: 0.8010277\ttotal: 28.7s\tremaining: 4m 10s\n",
            "103:\tlearn: 0.8006721\ttotal: 29s\tremaining: 4m 9s\n",
            "104:\tlearn: 0.8001376\ttotal: 29.2s\tremaining: 4m 9s\n",
            "105:\tlearn: 0.7997192\ttotal: 29.5s\tremaining: 4m 8s\n",
            "106:\tlearn: 0.7990556\ttotal: 30s\tremaining: 4m 10s\n",
            "107:\tlearn: 0.7986503\ttotal: 30.4s\tremaining: 4m 11s\n",
            "108:\tlearn: 0.7981340\ttotal: 30.8s\tremaining: 4m 12s\n",
            "109:\tlearn: 0.7978047\ttotal: 31.3s\tremaining: 4m 12s\n",
            "110:\tlearn: 0.7973993\ttotal: 31.7s\tremaining: 4m 14s\n",
            "111:\tlearn: 0.7968539\ttotal: 32.1s\tremaining: 4m 14s\n",
            "112:\tlearn: 0.7963272\ttotal: 32.4s\tremaining: 4m 14s\n",
            "113:\tlearn: 0.7961688\ttotal: 32.7s\tremaining: 4m 13s\n",
            "114:\tlearn: 0.7958816\ttotal: 32.9s\tremaining: 4m 13s\n",
            "115:\tlearn: 0.7954595\ttotal: 33.2s\tremaining: 4m 12s\n",
            "116:\tlearn: 0.7952207\ttotal: 33.4s\tremaining: 4m 12s\n",
            "117:\tlearn: 0.7946452\ttotal: 33.6s\tremaining: 4m 11s\n",
            "118:\tlearn: 0.7941927\ttotal: 33.9s\tremaining: 4m 10s\n",
            "119:\tlearn: 0.7937899\ttotal: 34.1s\tremaining: 4m 10s\n",
            "120:\tlearn: 0.7935203\ttotal: 34.4s\tremaining: 4m 9s\n",
            "121:\tlearn: 0.7931044\ttotal: 34.6s\tremaining: 4m 9s\n",
            "122:\tlearn: 0.7925396\ttotal: 34.9s\tremaining: 4m 8s\n",
            "123:\tlearn: 0.7922024\ttotal: 35.1s\tremaining: 4m 8s\n",
            "124:\tlearn: 0.7918507\ttotal: 35.3s\tremaining: 4m 7s\n",
            "125:\tlearn: 0.7912614\ttotal: 35.6s\tremaining: 4m 6s\n",
            "126:\tlearn: 0.7908338\ttotal: 35.8s\tremaining: 4m 6s\n",
            "127:\tlearn: 0.7903895\ttotal: 36.1s\tremaining: 4m 5s\n",
            "128:\tlearn: 0.7897583\ttotal: 36.3s\tremaining: 4m 5s\n",
            "129:\tlearn: 0.7892938\ttotal: 36.6s\tremaining: 4m 4s\n",
            "130:\tlearn: 0.7891380\ttotal: 36.8s\tremaining: 4m 4s\n",
            "131:\tlearn: 0.7889180\ttotal: 37.1s\tremaining: 4m 3s\n",
            "132:\tlearn: 0.7884793\ttotal: 37.3s\tremaining: 4m 3s\n",
            "133:\tlearn: 0.7880251\ttotal: 37.5s\tremaining: 4m 2s\n",
            "134:\tlearn: 0.7876048\ttotal: 37.8s\tremaining: 4m 2s\n",
            "135:\tlearn: 0.7871342\ttotal: 38s\tremaining: 4m 1s\n",
            "136:\tlearn: 0.7867886\ttotal: 38.3s\tremaining: 4m 1s\n",
            "137:\tlearn: 0.7864205\ttotal: 38.5s\tremaining: 4m\n",
            "138:\tlearn: 0.7860657\ttotal: 38.8s\tremaining: 4m\n",
            "139:\tlearn: 0.7855789\ttotal: 39s\tremaining: 3m 59s\n",
            "140:\tlearn: 0.7852423\ttotal: 39.2s\tremaining: 3m 59s\n",
            "141:\tlearn: 0.7848673\ttotal: 39.5s\tremaining: 3m 58s\n",
            "142:\tlearn: 0.7844993\ttotal: 39.7s\tremaining: 3m 58s\n",
            "143:\tlearn: 0.7843469\ttotal: 40s\tremaining: 3m 57s\n",
            "144:\tlearn: 0.7839579\ttotal: 40.2s\tremaining: 3m 57s\n",
            "145:\tlearn: 0.7835816\ttotal: 40.5s\tremaining: 3m 56s\n",
            "146:\tlearn: 0.7832949\ttotal: 40.7s\tremaining: 3m 56s\n",
            "147:\tlearn: 0.7826611\ttotal: 41s\tremaining: 3m 55s\n",
            "148:\tlearn: 0.7823291\ttotal: 41.2s\tremaining: 3m 55s\n",
            "149:\tlearn: 0.7820774\ttotal: 41.5s\tremaining: 3m 54s\n",
            "150:\tlearn: 0.7817060\ttotal: 41.7s\tremaining: 3m 54s\n",
            "151:\tlearn: 0.7814481\ttotal: 41.9s\tremaining: 3m 53s\n",
            "152:\tlearn: 0.7810905\ttotal: 42.2s\tremaining: 3m 53s\n",
            "153:\tlearn: 0.7808262\ttotal: 42.6s\tremaining: 3m 53s\n",
            "154:\tlearn: 0.7806837\ttotal: 43s\tremaining: 3m 54s\n",
            "155:\tlearn: 0.7804472\ttotal: 43.4s\tremaining: 3m 54s\n",
            "156:\tlearn: 0.7801530\ttotal: 43.8s\tremaining: 3m 55s\n",
            "157:\tlearn: 0.7797233\ttotal: 44.2s\tremaining: 3m 55s\n",
            "158:\tlearn: 0.7794484\ttotal: 44.6s\tremaining: 3m 56s\n",
            "159:\tlearn: 0.7792816\ttotal: 45.1s\tremaining: 3m 56s\n",
            "160:\tlearn: 0.7788828\ttotal: 45.4s\tremaining: 3m 56s\n",
            "161:\tlearn: 0.7783658\ttotal: 45.7s\tremaining: 3m 56s\n",
            "162:\tlearn: 0.7781169\ttotal: 45.9s\tremaining: 3m 55s\n",
            "163:\tlearn: 0.7777292\ttotal: 46.1s\tremaining: 3m 55s\n",
            "164:\tlearn: 0.7773532\ttotal: 46.4s\tremaining: 3m 54s\n",
            "165:\tlearn: 0.7769960\ttotal: 46.6s\tremaining: 3m 54s\n",
            "166:\tlearn: 0.7765710\ttotal: 46.9s\tremaining: 3m 53s\n",
            "167:\tlearn: 0.7759734\ttotal: 47.1s\tremaining: 3m 53s\n",
            "168:\tlearn: 0.7757968\ttotal: 47.4s\tremaining: 3m 52s\n",
            "169:\tlearn: 0.7754888\ttotal: 47.6s\tremaining: 3m 52s\n",
            "170:\tlearn: 0.7752061\ttotal: 47.8s\tremaining: 3m 51s\n",
            "171:\tlearn: 0.7750046\ttotal: 48.1s\tremaining: 3m 51s\n",
            "172:\tlearn: 0.7748453\ttotal: 48.3s\tremaining: 3m 51s\n",
            "173:\tlearn: 0.7745642\ttotal: 48.8s\tremaining: 3m 51s\n",
            "174:\tlearn: 0.7742057\ttotal: 49.2s\tremaining: 3m 52s\n",
            "175:\tlearn: 0.7738535\ttotal: 49.7s\tremaining: 3m 52s\n",
            "176:\tlearn: 0.7735666\ttotal: 50s\tremaining: 3m 52s\n",
            "177:\tlearn: 0.7734075\ttotal: 50.6s\tremaining: 3m 53s\n",
            "178:\tlearn: 0.7730302\ttotal: 51s\tremaining: 3m 53s\n",
            "179:\tlearn: 0.7727934\ttotal: 51.4s\tremaining: 3m 53s\n",
            "180:\tlearn: 0.7725629\ttotal: 51.8s\tremaining: 3m 54s\n",
            "181:\tlearn: 0.7721461\ttotal: 52.1s\tremaining: 3m 54s\n",
            "182:\tlearn: 0.7718466\ttotal: 52.5s\tremaining: 3m 54s\n",
            "183:\tlearn: 0.7715359\ttotal: 52.7s\tremaining: 3m 53s\n",
            "184:\tlearn: 0.7712558\ttotal: 53s\tremaining: 3m 53s\n",
            "185:\tlearn: 0.7709722\ttotal: 53.3s\tremaining: 3m 53s\n",
            "186:\tlearn: 0.7705314\ttotal: 53.6s\tremaining: 3m 53s\n",
            "187:\tlearn: 0.7703264\ttotal: 54s\tremaining: 3m 53s\n",
            "188:\tlearn: 0.7698332\ttotal: 54.5s\tremaining: 3m 53s\n",
            "189:\tlearn: 0.7695453\ttotal: 54.9s\tremaining: 3m 53s\n",
            "190:\tlearn: 0.7693639\ttotal: 55.3s\tremaining: 3m 54s\n",
            "191:\tlearn: 0.7689680\ttotal: 55.7s\tremaining: 3m 54s\n",
            "192:\tlearn: 0.7685474\ttotal: 56.1s\tremaining: 3m 54s\n",
            "193:\tlearn: 0.7682321\ttotal: 56.5s\tremaining: 3m 54s\n",
            "194:\tlearn: 0.7680013\ttotal: 57s\tremaining: 3m 55s\n",
            "195:\tlearn: 0.7675950\ttotal: 57.3s\tremaining: 3m 55s\n",
            "196:\tlearn: 0.7673059\ttotal: 57.8s\tremaining: 3m 55s\n",
            "197:\tlearn: 0.7671606\ttotal: 58.2s\tremaining: 3m 55s\n",
            "198:\tlearn: 0.7670070\ttotal: 58.5s\tremaining: 3m 55s\n",
            "199:\tlearn: 0.7667017\ttotal: 58.7s\tremaining: 3m 54s\n",
            "200:\tlearn: 0.7664688\ttotal: 59s\tremaining: 3m 54s\n",
            "201:\tlearn: 0.7663669\ttotal: 59.2s\tremaining: 3m 53s\n",
            "202:\tlearn: 0.7660821\ttotal: 59.5s\tremaining: 3m 53s\n",
            "203:\tlearn: 0.7658213\ttotal: 59.7s\tremaining: 3m 53s\n",
            "204:\tlearn: 0.7655713\ttotal: 60s\tremaining: 3m 52s\n",
            "205:\tlearn: 0.7653662\ttotal: 1m\tremaining: 3m 52s\n",
            "206:\tlearn: 0.7651740\ttotal: 1m\tremaining: 3m 51s\n",
            "207:\tlearn: 0.7649638\ttotal: 1m\tremaining: 3m 51s\n",
            "208:\tlearn: 0.7647666\ttotal: 1m\tremaining: 3m 50s\n",
            "209:\tlearn: 0.7645374\ttotal: 1m 1s\tremaining: 3m 50s\n",
            "210:\tlearn: 0.7642200\ttotal: 1m 1s\tremaining: 3m 49s\n",
            "211:\tlearn: 0.7638834\ttotal: 1m 1s\tremaining: 3m 49s\n",
            "212:\tlearn: 0.7638114\ttotal: 1m 1s\tremaining: 3m 48s\n",
            "213:\tlearn: 0.7636044\ttotal: 1m 2s\tremaining: 3m 48s\n",
            "214:\tlearn: 0.7633359\ttotal: 1m 2s\tremaining: 3m 49s\n",
            "215:\tlearn: 0.7632084\ttotal: 1m 3s\tremaining: 3m 49s\n",
            "216:\tlearn: 0.7629020\ttotal: 1m 3s\tremaining: 3m 49s\n",
            "217:\tlearn: 0.7625135\ttotal: 1m 4s\tremaining: 3m 50s\n",
            "218:\tlearn: 0.7622543\ttotal: 1m 4s\tremaining: 3m 50s\n",
            "219:\tlearn: 0.7619446\ttotal: 1m 5s\tremaining: 3m 50s\n",
            "220:\tlearn: 0.7616603\ttotal: 1m 5s\tremaining: 3m 51s\n",
            "221:\tlearn: 0.7614340\ttotal: 1m 6s\tremaining: 3m 51s\n",
            "222:\tlearn: 0.7611749\ttotal: 1m 6s\tremaining: 3m 51s\n",
            "223:\tlearn: 0.7610209\ttotal: 1m 6s\tremaining: 3m 50s\n",
            "224:\tlearn: 0.7606890\ttotal: 1m 6s\tremaining: 3m 50s\n",
            "225:\tlearn: 0.7603181\ttotal: 1m 7s\tremaining: 3m 49s\n",
            "226:\tlearn: 0.7600995\ttotal: 1m 7s\tremaining: 3m 49s\n",
            "227:\tlearn: 0.7598986\ttotal: 1m 7s\tremaining: 3m 48s\n",
            "228:\tlearn: 0.7597398\ttotal: 1m 7s\tremaining: 3m 48s\n",
            "229:\tlearn: 0.7594991\ttotal: 1m 8s\tremaining: 3m 47s\n",
            "230:\tlearn: 0.7592169\ttotal: 1m 8s\tremaining: 3m 47s\n",
            "231:\tlearn: 0.7589613\ttotal: 1m 8s\tremaining: 3m 47s\n",
            "232:\tlearn: 0.7585868\ttotal: 1m 9s\tremaining: 3m 47s\n",
            "233:\tlearn: 0.7585017\ttotal: 1m 9s\tremaining: 3m 47s\n",
            "234:\tlearn: 0.7583094\ttotal: 1m 9s\tremaining: 3m 47s\n",
            "235:\tlearn: 0.7580018\ttotal: 1m 10s\tremaining: 3m 47s\n",
            "236:\tlearn: 0.7576630\ttotal: 1m 10s\tremaining: 3m 48s\n",
            "237:\tlearn: 0.7575137\ttotal: 1m 11s\tremaining: 3m 49s\n",
            "238:\tlearn: 0.7572813\ttotal: 1m 12s\tremaining: 3m 49s\n",
            "239:\tlearn: 0.7570835\ttotal: 1m 12s\tremaining: 3m 48s\n",
            "240:\tlearn: 0.7568946\ttotal: 1m 12s\tremaining: 3m 48s\n",
            "241:\tlearn: 0.7565351\ttotal: 1m 12s\tremaining: 3m 47s\n",
            "242:\tlearn: 0.7561577\ttotal: 1m 13s\tremaining: 3m 47s\n",
            "243:\tlearn: 0.7559725\ttotal: 1m 13s\tremaining: 3m 47s\n",
            "244:\tlearn: 0.7557304\ttotal: 1m 13s\tremaining: 3m 46s\n",
            "245:\tlearn: 0.7555196\ttotal: 1m 13s\tremaining: 3m 46s\n",
            "246:\tlearn: 0.7553309\ttotal: 1m 14s\tremaining: 3m 45s\n",
            "247:\tlearn: 0.7550565\ttotal: 1m 14s\tremaining: 3m 45s\n",
            "248:\tlearn: 0.7548815\ttotal: 1m 14s\tremaining: 3m 44s\n",
            "249:\tlearn: 0.7545779\ttotal: 1m 14s\tremaining: 3m 44s\n",
            "250:\tlearn: 0.7543006\ttotal: 1m 14s\tremaining: 3m 43s\n",
            "251:\tlearn: 0.7541100\ttotal: 1m 15s\tremaining: 3m 43s\n",
            "252:\tlearn: 0.7538789\ttotal: 1m 15s\tremaining: 3m 42s\n",
            "253:\tlearn: 0.7537858\ttotal: 1m 15s\tremaining: 3m 42s\n",
            "254:\tlearn: 0.7536255\ttotal: 1m 15s\tremaining: 3m 42s\n",
            "255:\tlearn: 0.7533754\ttotal: 1m 16s\tremaining: 3m 41s\n",
            "256:\tlearn: 0.7531105\ttotal: 1m 16s\tremaining: 3m 41s\n",
            "257:\tlearn: 0.7527366\ttotal: 1m 16s\tremaining: 3m 40s\n",
            "258:\tlearn: 0.7525003\ttotal: 1m 16s\tremaining: 3m 40s\n",
            "259:\tlearn: 0.7523085\ttotal: 1m 17s\tremaining: 3m 39s\n",
            "260:\tlearn: 0.7521060\ttotal: 1m 17s\tremaining: 3m 39s\n",
            "261:\tlearn: 0.7518258\ttotal: 1m 17s\tremaining: 3m 38s\n",
            "262:\tlearn: 0.7516694\ttotal: 1m 17s\tremaining: 3m 38s\n",
            "263:\tlearn: 0.7514739\ttotal: 1m 18s\tremaining: 3m 37s\n",
            "264:\tlearn: 0.7513200\ttotal: 1m 18s\tremaining: 3m 37s\n",
            "265:\tlearn: 0.7511072\ttotal: 1m 18s\tremaining: 3m 37s\n",
            "266:\tlearn: 0.7508877\ttotal: 1m 18s\tremaining: 3m 36s\n",
            "267:\tlearn: 0.7505839\ttotal: 1m 19s\tremaining: 3m 36s\n",
            "268:\tlearn: 0.7502867\ttotal: 1m 19s\tremaining: 3m 35s\n",
            "269:\tlearn: 0.7501396\ttotal: 1m 19s\tremaining: 3m 35s\n",
            "270:\tlearn: 0.7498881\ttotal: 1m 19s\tremaining: 3m 35s\n",
            "271:\tlearn: 0.7497780\ttotal: 1m 20s\tremaining: 3m 34s\n",
            "272:\tlearn: 0.7496778\ttotal: 1m 20s\tremaining: 3m 34s\n",
            "273:\tlearn: 0.7495031\ttotal: 1m 20s\tremaining: 3m 33s\n",
            "274:\tlearn: 0.7492707\ttotal: 1m 20s\tremaining: 3m 33s\n",
            "275:\tlearn: 0.7490877\ttotal: 1m 21s\tremaining: 3m 32s\n",
            "276:\tlearn: 0.7489121\ttotal: 1m 21s\tremaining: 3m 32s\n",
            "277:\tlearn: 0.7486822\ttotal: 1m 21s\tremaining: 3m 32s\n",
            "278:\tlearn: 0.7484862\ttotal: 1m 22s\tremaining: 3m 32s\n",
            "279:\tlearn: 0.7480882\ttotal: 1m 22s\tremaining: 3m 32s\n",
            "280:\tlearn: 0.7479081\ttotal: 1m 23s\tremaining: 3m 32s\n",
            "281:\tlearn: 0.7477336\ttotal: 1m 23s\tremaining: 3m 32s\n",
            "282:\tlearn: 0.7474382\ttotal: 1m 24s\tremaining: 3m 32s\n",
            "283:\tlearn: 0.7473141\ttotal: 1m 24s\tremaining: 3m 32s\n",
            "284:\tlearn: 0.7471418\ttotal: 1m 24s\tremaining: 3m 32s\n",
            "285:\tlearn: 0.7468969\ttotal: 1m 24s\tremaining: 3m 31s\n",
            "286:\tlearn: 0.7466481\ttotal: 1m 25s\tremaining: 3m 31s\n",
            "287:\tlearn: 0.7464172\ttotal: 1m 25s\tremaining: 3m 31s\n",
            "288:\tlearn: 0.7462891\ttotal: 1m 26s\tremaining: 3m 31s\n",
            "289:\tlearn: 0.7462220\ttotal: 1m 26s\tremaining: 3m 31s\n",
            "290:\tlearn: 0.7461179\ttotal: 1m 26s\tremaining: 3m 31s\n",
            "291:\tlearn: 0.7460246\ttotal: 1m 27s\tremaining: 3m 31s\n",
            "292:\tlearn: 0.7456280\ttotal: 1m 27s\tremaining: 3m 32s\n",
            "293:\tlearn: 0.7455058\ttotal: 1m 28s\tremaining: 3m 32s\n",
            "294:\tlearn: 0.7453826\ttotal: 1m 29s\tremaining: 3m 32s\n",
            "295:\tlearn: 0.7452726\ttotal: 1m 29s\tremaining: 3m 33s\n",
            "296:\tlearn: 0.7449801\ttotal: 1m 30s\tremaining: 3m 33s\n",
            "297:\tlearn: 0.7447474\ttotal: 1m 30s\tremaining: 3m 33s\n",
            "298:\tlearn: 0.7444167\ttotal: 1m 30s\tremaining: 3m 32s\n",
            "299:\tlearn: 0.7443016\ttotal: 1m 30s\tremaining: 3m 32s\n",
            "300:\tlearn: 0.7440882\ttotal: 1m 31s\tremaining: 3m 31s\n",
            "301:\tlearn: 0.7439350\ttotal: 1m 31s\tremaining: 3m 31s\n",
            "302:\tlearn: 0.7437466\ttotal: 1m 31s\tremaining: 3m 30s\n",
            "303:\tlearn: 0.7436674\ttotal: 1m 31s\tremaining: 3m 30s\n",
            "304:\tlearn: 0.7434861\ttotal: 1m 32s\tremaining: 3m 30s\n",
            "305:\tlearn: 0.7433410\ttotal: 1m 32s\tremaining: 3m 29s\n",
            "306:\tlearn: 0.7430522\ttotal: 1m 32s\tremaining: 3m 29s\n",
            "307:\tlearn: 0.7428766\ttotal: 1m 32s\tremaining: 3m 28s\n",
            "308:\tlearn: 0.7427521\ttotal: 1m 33s\tremaining: 3m 28s\n",
            "309:\tlearn: 0.7426343\ttotal: 1m 33s\tremaining: 3m 27s\n",
            "310:\tlearn: 0.7425028\ttotal: 1m 33s\tremaining: 3m 27s\n",
            "311:\tlearn: 0.7423893\ttotal: 1m 33s\tremaining: 3m 27s\n",
            "312:\tlearn: 0.7420707\ttotal: 1m 34s\tremaining: 3m 26s\n",
            "313:\tlearn: 0.7418294\ttotal: 1m 34s\tremaining: 3m 26s\n",
            "314:\tlearn: 0.7415763\ttotal: 1m 35s\tremaining: 3m 26s\n",
            "315:\tlearn: 0.7414068\ttotal: 1m 35s\tremaining: 3m 26s\n",
            "316:\tlearn: 0.7412734\ttotal: 1m 35s\tremaining: 3m 26s\n",
            "317:\tlearn: 0.7411164\ttotal: 1m 36s\tremaining: 3m 26s\n",
            "318:\tlearn: 0.7409833\ttotal: 1m 36s\tremaining: 3m 26s\n",
            "319:\tlearn: 0.7408351\ttotal: 1m 37s\tremaining: 3m 26s\n",
            "320:\tlearn: 0.7407252\ttotal: 1m 37s\tremaining: 3m 25s\n",
            "321:\tlearn: 0.7404701\ttotal: 1m 37s\tremaining: 3m 25s\n",
            "322:\tlearn: 0.7402289\ttotal: 1m 37s\tremaining: 3m 25s\n",
            "323:\tlearn: 0.7400225\ttotal: 1m 38s\tremaining: 3m 24s\n",
            "324:\tlearn: 0.7399434\ttotal: 1m 38s\tremaining: 3m 24s\n",
            "325:\tlearn: 0.7398212\ttotal: 1m 38s\tremaining: 3m 23s\n",
            "326:\tlearn: 0.7396059\ttotal: 1m 38s\tremaining: 3m 23s\n",
            "327:\tlearn: 0.7393776\ttotal: 1m 39s\tremaining: 3m 23s\n",
            "328:\tlearn: 0.7392678\ttotal: 1m 39s\tremaining: 3m 23s\n",
            "329:\tlearn: 0.7390902\ttotal: 1m 40s\tremaining: 3m 23s\n",
            "330:\tlearn: 0.7389288\ttotal: 1m 40s\tremaining: 3m 23s\n",
            "331:\tlearn: 0.7388146\ttotal: 1m 41s\tremaining: 3m 23s\n",
            "332:\tlearn: 0.7385846\ttotal: 1m 41s\tremaining: 3m 23s\n",
            "333:\tlearn: 0.7384766\ttotal: 1m 41s\tremaining: 3m 22s\n",
            "334:\tlearn: 0.7383206\ttotal: 1m 41s\tremaining: 3m 22s\n",
            "335:\tlearn: 0.7380967\ttotal: 1m 42s\tremaining: 3m 22s\n",
            "336:\tlearn: 0.7379986\ttotal: 1m 42s\tremaining: 3m 22s\n",
            "337:\tlearn: 0.7377612\ttotal: 1m 43s\tremaining: 3m 22s\n",
            "338:\tlearn: 0.7374422\ttotal: 1m 43s\tremaining: 3m 22s\n",
            "339:\tlearn: 0.7372624\ttotal: 1m 44s\tremaining: 3m 22s\n",
            "340:\tlearn: 0.7371076\ttotal: 1m 44s\tremaining: 3m 22s\n",
            "341:\tlearn: 0.7370347\ttotal: 1m 44s\tremaining: 3m 21s\n",
            "342:\tlearn: 0.7368906\ttotal: 1m 45s\tremaining: 3m 21s\n",
            "343:\tlearn: 0.7367723\ttotal: 1m 45s\tremaining: 3m 21s\n",
            "344:\tlearn: 0.7366488\ttotal: 1m 46s\tremaining: 3m 21s\n",
            "345:\tlearn: 0.7363541\ttotal: 1m 46s\tremaining: 3m 21s\n",
            "346:\tlearn: 0.7361341\ttotal: 1m 46s\tremaining: 3m 20s\n",
            "347:\tlearn: 0.7359577\ttotal: 1m 46s\tremaining: 3m 20s\n",
            "348:\tlearn: 0.7358054\ttotal: 1m 47s\tremaining: 3m 20s\n",
            "349:\tlearn: 0.7356754\ttotal: 1m 47s\tremaining: 3m 20s\n",
            "350:\tlearn: 0.7354167\ttotal: 1m 48s\tremaining: 3m 20s\n",
            "351:\tlearn: 0.7352796\ttotal: 1m 48s\tremaining: 3m 19s\n",
            "352:\tlearn: 0.7350796\ttotal: 1m 49s\tremaining: 3m 19s\n",
            "353:\tlearn: 0.7348664\ttotal: 1m 49s\tremaining: 3m 19s\n",
            "354:\tlearn: 0.7347281\ttotal: 1m 49s\tremaining: 3m 19s\n",
            "355:\tlearn: 0.7345847\ttotal: 1m 50s\tremaining: 3m 19s\n",
            "356:\tlearn: 0.7345231\ttotal: 1m 50s\tremaining: 3m 18s\n",
            "357:\tlearn: 0.7342485\ttotal: 1m 50s\tremaining: 3m 18s\n",
            "358:\tlearn: 0.7341583\ttotal: 1m 50s\tremaining: 3m 17s\n",
            "359:\tlearn: 0.7340702\ttotal: 1m 51s\tremaining: 3m 17s\n",
            "360:\tlearn: 0.7338445\ttotal: 1m 51s\tremaining: 3m 17s\n",
            "361:\tlearn: 0.7337295\ttotal: 1m 51s\tremaining: 3m 16s\n",
            "362:\tlearn: 0.7335897\ttotal: 1m 51s\tremaining: 3m 16s\n",
            "363:\tlearn: 0.7333695\ttotal: 1m 52s\tremaining: 3m 15s\n",
            "364:\tlearn: 0.7332833\ttotal: 1m 52s\tremaining: 3m 15s\n",
            "365:\tlearn: 0.7330391\ttotal: 1m 52s\tremaining: 3m 14s\n",
            "366:\tlearn: 0.7328755\ttotal: 1m 52s\tremaining: 3m 14s\n",
            "367:\tlearn: 0.7327558\ttotal: 1m 53s\tremaining: 3m 14s\n",
            "368:\tlearn: 0.7325504\ttotal: 1m 53s\tremaining: 3m 13s\n",
            "369:\tlearn: 0.7323776\ttotal: 1m 53s\tremaining: 3m 13s\n",
            "370:\tlearn: 0.7321921\ttotal: 1m 53s\tremaining: 3m 12s\n",
            "371:\tlearn: 0.7319845\ttotal: 1m 54s\tremaining: 3m 12s\n",
            "372:\tlearn: 0.7317865\ttotal: 1m 54s\tremaining: 3m 12s\n",
            "373:\tlearn: 0.7316473\ttotal: 1m 54s\tremaining: 3m 11s\n",
            "374:\tlearn: 0.7315319\ttotal: 1m 54s\tremaining: 3m 11s\n",
            "375:\tlearn: 0.7314497\ttotal: 1m 54s\tremaining: 3m 10s\n",
            "376:\tlearn: 0.7312828\ttotal: 1m 55s\tremaining: 3m 10s\n",
            "377:\tlearn: 0.7311606\ttotal: 1m 55s\tremaining: 3m 10s\n",
            "378:\tlearn: 0.7310438\ttotal: 1m 55s\tremaining: 3m 9s\n",
            "379:\tlearn: 0.7308823\ttotal: 1m 55s\tremaining: 3m 9s\n",
            "380:\tlearn: 0.7307310\ttotal: 1m 56s\tremaining: 3m 8s\n",
            "381:\tlearn: 0.7304192\ttotal: 1m 56s\tremaining: 3m 8s\n",
            "382:\tlearn: 0.7303047\ttotal: 1m 56s\tremaining: 3m 7s\n",
            "383:\tlearn: 0.7301757\ttotal: 1m 56s\tremaining: 3m 7s\n",
            "384:\tlearn: 0.7300360\ttotal: 1m 57s\tremaining: 3m 7s\n",
            "385:\tlearn: 0.7297908\ttotal: 1m 57s\tremaining: 3m 6s\n",
            "386:\tlearn: 0.7296816\ttotal: 1m 57s\tremaining: 3m 6s\n",
            "387:\tlearn: 0.7295410\ttotal: 1m 57s\tremaining: 3m 6s\n",
            "388:\tlearn: 0.7294411\ttotal: 1m 58s\tremaining: 3m 5s\n",
            "389:\tlearn: 0.7293595\ttotal: 1m 58s\tremaining: 3m 5s\n",
            "390:\tlearn: 0.7292082\ttotal: 1m 58s\tremaining: 3m 4s\n",
            "391:\tlearn: 0.7289589\ttotal: 1m 58s\tremaining: 3m 4s\n",
            "392:\tlearn: 0.7288303\ttotal: 1m 59s\tremaining: 3m 4s\n",
            "393:\tlearn: 0.7285456\ttotal: 1m 59s\tremaining: 3m 3s\n",
            "394:\tlearn: 0.7284523\ttotal: 1m 59s\tremaining: 3m 3s\n",
            "395:\tlearn: 0.7282555\ttotal: 2m\tremaining: 3m 3s\n",
            "396:\tlearn: 0.7281854\ttotal: 2m\tremaining: 3m 2s\n",
            "397:\tlearn: 0.7280142\ttotal: 2m\tremaining: 3m 2s\n",
            "398:\tlearn: 0.7279193\ttotal: 2m 1s\tremaining: 3m 2s\n",
            "399:\tlearn: 0.7278317\ttotal: 2m 1s\tremaining: 3m 2s\n",
            "400:\tlearn: 0.7275925\ttotal: 2m 2s\tremaining: 3m 2s\n",
            "401:\tlearn: 0.7274983\ttotal: 2m 2s\tremaining: 3m 2s\n",
            "402:\tlearn: 0.7273096\ttotal: 2m 2s\tremaining: 3m 1s\n",
            "403:\tlearn: 0.7271889\ttotal: 2m 3s\tremaining: 3m 1s\n",
            "404:\tlearn: 0.7270778\ttotal: 2m 3s\tremaining: 3m 1s\n",
            "405:\tlearn: 0.7269254\ttotal: 2m 3s\tremaining: 3m\n",
            "406:\tlearn: 0.7267064\ttotal: 2m 3s\tremaining: 3m\n",
            "407:\tlearn: 0.7265740\ttotal: 2m 4s\tremaining: 3m\n",
            "408:\tlearn: 0.7264764\ttotal: 2m 4s\tremaining: 2m 59s\n",
            "409:\tlearn: 0.7262386\ttotal: 2m 4s\tremaining: 2m 59s\n",
            "410:\tlearn: 0.7260840\ttotal: 2m 4s\tremaining: 2m 58s\n",
            "411:\tlearn: 0.7259229\ttotal: 2m 5s\tremaining: 2m 58s\n",
            "412:\tlearn: 0.7258512\ttotal: 2m 5s\tremaining: 2m 58s\n",
            "413:\tlearn: 0.7257273\ttotal: 2m 5s\tremaining: 2m 57s\n",
            "414:\tlearn: 0.7256175\ttotal: 2m 5s\tremaining: 2m 57s\n",
            "415:\tlearn: 0.7255090\ttotal: 2m 6s\tremaining: 2m 56s\n",
            "416:\tlearn: 0.7253797\ttotal: 2m 6s\tremaining: 2m 56s\n",
            "417:\tlearn: 0.7253161\ttotal: 2m 6s\tremaining: 2m 56s\n",
            "418:\tlearn: 0.7252104\ttotal: 2m 6s\tremaining: 2m 55s\n",
            "419:\tlearn: 0.7251339\ttotal: 2m 7s\tremaining: 2m 55s\n",
            "420:\tlearn: 0.7250164\ttotal: 2m 7s\tremaining: 2m 54s\n",
            "421:\tlearn: 0.7249144\ttotal: 2m 7s\tremaining: 2m 54s\n",
            "422:\tlearn: 0.7248267\ttotal: 2m 7s\tremaining: 2m 54s\n",
            "423:\tlearn: 0.7247439\ttotal: 2m 7s\tremaining: 2m 53s\n",
            "424:\tlearn: 0.7246501\ttotal: 2m 8s\tremaining: 2m 53s\n",
            "425:\tlearn: 0.7244289\ttotal: 2m 8s\tremaining: 2m 53s\n",
            "426:\tlearn: 0.7242989\ttotal: 2m 8s\tremaining: 2m 52s\n",
            "427:\tlearn: 0.7242255\ttotal: 2m 8s\tremaining: 2m 52s\n",
            "428:\tlearn: 0.7239521\ttotal: 2m 9s\tremaining: 2m 52s\n",
            "429:\tlearn: 0.7237687\ttotal: 2m 9s\tremaining: 2m 51s\n",
            "430:\tlearn: 0.7236997\ttotal: 2m 9s\tremaining: 2m 51s\n",
            "431:\tlearn: 0.7235884\ttotal: 2m 9s\tremaining: 2m 50s\n",
            "432:\tlearn: 0.7233645\ttotal: 2m 10s\tremaining: 2m 50s\n",
            "433:\tlearn: 0.7231323\ttotal: 2m 10s\tremaining: 2m 50s\n",
            "434:\tlearn: 0.7229095\ttotal: 2m 10s\tremaining: 2m 49s\n",
            "435:\tlearn: 0.7227415\ttotal: 2m 10s\tremaining: 2m 49s\n",
            "436:\tlearn: 0.7225484\ttotal: 2m 11s\tremaining: 2m 49s\n",
            "437:\tlearn: 0.7223956\ttotal: 2m 11s\tremaining: 2m 48s\n",
            "438:\tlearn: 0.7222384\ttotal: 2m 11s\tremaining: 2m 48s\n",
            "439:\tlearn: 0.7221300\ttotal: 2m 11s\tremaining: 2m 47s\n",
            "440:\tlearn: 0.7220552\ttotal: 2m 12s\tremaining: 2m 47s\n",
            "441:\tlearn: 0.7219137\ttotal: 2m 12s\tremaining: 2m 47s\n",
            "442:\tlearn: 0.7218315\ttotal: 2m 12s\tremaining: 2m 46s\n",
            "443:\tlearn: 0.7217806\ttotal: 2m 13s\tremaining: 2m 46s\n",
            "444:\tlearn: 0.7215904\ttotal: 2m 13s\tremaining: 2m 46s\n",
            "445:\tlearn: 0.7215156\ttotal: 2m 14s\tremaining: 2m 46s\n",
            "446:\tlearn: 0.7212803\ttotal: 2m 14s\tremaining: 2m 46s\n",
            "447:\tlearn: 0.7211886\ttotal: 2m 14s\tremaining: 2m 46s\n",
            "448:\tlearn: 0.7210845\ttotal: 2m 15s\tremaining: 2m 46s\n",
            "449:\tlearn: 0.7209998\ttotal: 2m 15s\tremaining: 2m 45s\n",
            "450:\tlearn: 0.7208067\ttotal: 2m 15s\tremaining: 2m 45s\n",
            "451:\tlearn: 0.7207256\ttotal: 2m 16s\tremaining: 2m 44s\n",
            "452:\tlearn: 0.7206284\ttotal: 2m 16s\tremaining: 2m 44s\n",
            "453:\tlearn: 0.7205498\ttotal: 2m 16s\tremaining: 2m 44s\n",
            "454:\tlearn: 0.7204234\ttotal: 2m 16s\tremaining: 2m 44s\n",
            "455:\tlearn: 0.7203363\ttotal: 2m 17s\tremaining: 2m 43s\n",
            "456:\tlearn: 0.7201963\ttotal: 2m 17s\tremaining: 2m 43s\n",
            "457:\tlearn: 0.7199510\ttotal: 2m 18s\tremaining: 2m 43s\n",
            "458:\tlearn: 0.7198568\ttotal: 2m 18s\tremaining: 2m 43s\n",
            "459:\tlearn: 0.7197332\ttotal: 2m 18s\tremaining: 2m 43s\n",
            "460:\tlearn: 0.7196292\ttotal: 2m 19s\tremaining: 2m 42s\n",
            "461:\tlearn: 0.7195381\ttotal: 2m 19s\tremaining: 2m 42s\n",
            "462:\tlearn: 0.7193829\ttotal: 2m 19s\tremaining: 2m 42s\n",
            "463:\tlearn: 0.7192321\ttotal: 2m 19s\tremaining: 2m 41s\n",
            "464:\tlearn: 0.7190972\ttotal: 2m 20s\tremaining: 2m 41s\n",
            "465:\tlearn: 0.7190004\ttotal: 2m 20s\tremaining: 2m 40s\n",
            "466:\tlearn: 0.7188441\ttotal: 2m 20s\tremaining: 2m 40s\n",
            "467:\tlearn: 0.7187631\ttotal: 2m 20s\tremaining: 2m 40s\n",
            "468:\tlearn: 0.7186844\ttotal: 2m 21s\tremaining: 2m 39s\n",
            "469:\tlearn: 0.7185783\ttotal: 2m 21s\tremaining: 2m 39s\n",
            "470:\tlearn: 0.7184682\ttotal: 2m 21s\tremaining: 2m 39s\n",
            "471:\tlearn: 0.7183750\ttotal: 2m 21s\tremaining: 2m 38s\n",
            "472:\tlearn: 0.7182715\ttotal: 2m 22s\tremaining: 2m 38s\n",
            "473:\tlearn: 0.7181707\ttotal: 2m 22s\tremaining: 2m 38s\n",
            "474:\tlearn: 0.7180438\ttotal: 2m 22s\tremaining: 2m 37s\n",
            "475:\tlearn: 0.7179052\ttotal: 2m 22s\tremaining: 2m 37s\n",
            "476:\tlearn: 0.7177796\ttotal: 2m 23s\tremaining: 2m 36s\n",
            "477:\tlearn: 0.7175834\ttotal: 2m 23s\tremaining: 2m 36s\n",
            "478:\tlearn: 0.7174879\ttotal: 2m 23s\tremaining: 2m 36s\n",
            "479:\tlearn: 0.7173825\ttotal: 2m 23s\tremaining: 2m 35s\n",
            "480:\tlearn: 0.7172849\ttotal: 2m 24s\tremaining: 2m 35s\n",
            "481:\tlearn: 0.7171205\ttotal: 2m 24s\tremaining: 2m 35s\n",
            "482:\tlearn: 0.7168518\ttotal: 2m 24s\tremaining: 2m 34s\n",
            "483:\tlearn: 0.7168010\ttotal: 2m 24s\tremaining: 2m 34s\n",
            "484:\tlearn: 0.7166805\ttotal: 2m 25s\tremaining: 2m 34s\n",
            "485:\tlearn: 0.7166018\ttotal: 2m 25s\tremaining: 2m 33s\n",
            "486:\tlearn: 0.7164615\ttotal: 2m 25s\tremaining: 2m 33s\n",
            "487:\tlearn: 0.7163198\ttotal: 2m 26s\tremaining: 2m 33s\n",
            "488:\tlearn: 0.7161949\ttotal: 2m 26s\tremaining: 2m 33s\n",
            "489:\tlearn: 0.7160884\ttotal: 2m 27s\tremaining: 2m 33s\n",
            "490:\tlearn: 0.7159870\ttotal: 2m 27s\tremaining: 2m 32s\n",
            "491:\tlearn: 0.7159042\ttotal: 2m 27s\tremaining: 2m 32s\n",
            "492:\tlearn: 0.7158128\ttotal: 2m 28s\tremaining: 2m 32s\n",
            "493:\tlearn: 0.7156649\ttotal: 2m 28s\tremaining: 2m 32s\n",
            "494:\tlearn: 0.7155497\ttotal: 2m 28s\tremaining: 2m 31s\n",
            "495:\tlearn: 0.7153247\ttotal: 2m 28s\tremaining: 2m 31s\n",
            "496:\tlearn: 0.7151394\ttotal: 2m 29s\tremaining: 2m 31s\n",
            "497:\tlearn: 0.7150483\ttotal: 2m 29s\tremaining: 2m 30s\n",
            "498:\tlearn: 0.7148992\ttotal: 2m 29s\tremaining: 2m 30s\n",
            "499:\tlearn: 0.7148011\ttotal: 2m 30s\tremaining: 2m 30s\n",
            "500:\tlearn: 0.7147173\ttotal: 2m 30s\tremaining: 2m 29s\n",
            "501:\tlearn: 0.7146214\ttotal: 2m 30s\tremaining: 2m 29s\n",
            "502:\tlearn: 0.7144135\ttotal: 2m 30s\tremaining: 2m 28s\n",
            "503:\tlearn: 0.7143550\ttotal: 2m 30s\tremaining: 2m 28s\n",
            "504:\tlearn: 0.7140906\ttotal: 2m 31s\tremaining: 2m 28s\n",
            "505:\tlearn: 0.7140535\ttotal: 2m 31s\tremaining: 2m 27s\n",
            "506:\tlearn: 0.7139614\ttotal: 2m 31s\tremaining: 2m 27s\n",
            "507:\tlearn: 0.7138194\ttotal: 2m 31s\tremaining: 2m 27s\n",
            "508:\tlearn: 0.7136865\ttotal: 2m 32s\tremaining: 2m 26s\n",
            "509:\tlearn: 0.7135939\ttotal: 2m 32s\tremaining: 2m 26s\n",
            "510:\tlearn: 0.7134684\ttotal: 2m 32s\tremaining: 2m 26s\n",
            "511:\tlearn: 0.7133994\ttotal: 2m 32s\tremaining: 2m 25s\n",
            "512:\tlearn: 0.7132450\ttotal: 2m 33s\tremaining: 2m 25s\n",
            "513:\tlearn: 0.7131453\ttotal: 2m 33s\tremaining: 2m 25s\n",
            "514:\tlearn: 0.7128546\ttotal: 2m 33s\tremaining: 2m 24s\n",
            "515:\tlearn: 0.7127678\ttotal: 2m 33s\tremaining: 2m 24s\n",
            "516:\tlearn: 0.7126390\ttotal: 2m 34s\tremaining: 2m 24s\n",
            "517:\tlearn: 0.7125843\ttotal: 2m 34s\tremaining: 2m 23s\n",
            "518:\tlearn: 0.7124859\ttotal: 2m 34s\tremaining: 2m 23s\n",
            "519:\tlearn: 0.7123839\ttotal: 2m 34s\tremaining: 2m 22s\n",
            "520:\tlearn: 0.7123105\ttotal: 2m 35s\tremaining: 2m 22s\n",
            "521:\tlearn: 0.7121281\ttotal: 2m 35s\tremaining: 2m 22s\n",
            "522:\tlearn: 0.7120126\ttotal: 2m 35s\tremaining: 2m 21s\n",
            "523:\tlearn: 0.7119317\ttotal: 2m 35s\tremaining: 2m 21s\n",
            "524:\tlearn: 0.7117912\ttotal: 2m 36s\tremaining: 2m 21s\n",
            "525:\tlearn: 0.7117114\ttotal: 2m 36s\tremaining: 2m 20s\n",
            "526:\tlearn: 0.7116109\ttotal: 2m 36s\tremaining: 2m 20s\n",
            "527:\tlearn: 0.7114414\ttotal: 2m 36s\tremaining: 2m 20s\n",
            "528:\tlearn: 0.7113732\ttotal: 2m 37s\tremaining: 2m 19s\n",
            "529:\tlearn: 0.7112011\ttotal: 2m 37s\tremaining: 2m 19s\n",
            "530:\tlearn: 0.7111075\ttotal: 2m 37s\tremaining: 2m 19s\n",
            "531:\tlearn: 0.7110131\ttotal: 2m 37s\tremaining: 2m 18s\n",
            "532:\tlearn: 0.7109207\ttotal: 2m 38s\tremaining: 2m 18s\n",
            "533:\tlearn: 0.7107941\ttotal: 2m 38s\tremaining: 2m 18s\n",
            "534:\tlearn: 0.7106692\ttotal: 2m 38s\tremaining: 2m 18s\n",
            "535:\tlearn: 0.7105586\ttotal: 2m 39s\tremaining: 2m 17s\n",
            "536:\tlearn: 0.7104772\ttotal: 2m 39s\tremaining: 2m 17s\n",
            "537:\tlearn: 0.7103206\ttotal: 2m 40s\tremaining: 2m 17s\n",
            "538:\tlearn: 0.7102110\ttotal: 2m 40s\tremaining: 2m 17s\n",
            "539:\tlearn: 0.7101132\ttotal: 2m 40s\tremaining: 2m 17s\n",
            "540:\tlearn: 0.7100521\ttotal: 2m 41s\tremaining: 2m 16s\n",
            "541:\tlearn: 0.7099647\ttotal: 2m 41s\tremaining: 2m 16s\n",
            "542:\tlearn: 0.7098763\ttotal: 2m 41s\tremaining: 2m 16s\n",
            "543:\tlearn: 0.7097705\ttotal: 2m 41s\tremaining: 2m 15s\n",
            "544:\tlearn: 0.7096596\ttotal: 2m 42s\tremaining: 2m 15s\n",
            "545:\tlearn: 0.7094668\ttotal: 2m 42s\tremaining: 2m 15s\n",
            "546:\tlearn: 0.7092784\ttotal: 2m 42s\tremaining: 2m 14s\n",
            "547:\tlearn: 0.7092490\ttotal: 2m 42s\tremaining: 2m 14s\n",
            "548:\tlearn: 0.7091119\ttotal: 2m 43s\tremaining: 2m 14s\n",
            "549:\tlearn: 0.7089669\ttotal: 2m 43s\tremaining: 2m 13s\n",
            "550:\tlearn: 0.7088818\ttotal: 2m 43s\tremaining: 2m 13s\n",
            "551:\tlearn: 0.7087937\ttotal: 2m 43s\tremaining: 2m 13s\n",
            "552:\tlearn: 0.7086502\ttotal: 2m 44s\tremaining: 2m 12s\n",
            "553:\tlearn: 0.7084907\ttotal: 2m 44s\tremaining: 2m 12s\n",
            "554:\tlearn: 0.7083424\ttotal: 2m 44s\tremaining: 2m 12s\n",
            "555:\tlearn: 0.7082539\ttotal: 2m 44s\tremaining: 2m 11s\n",
            "556:\tlearn: 0.7081927\ttotal: 2m 45s\tremaining: 2m 11s\n",
            "557:\tlearn: 0.7081186\ttotal: 2m 45s\tremaining: 2m 11s\n",
            "558:\tlearn: 0.7080533\ttotal: 2m 45s\tremaining: 2m 10s\n",
            "559:\tlearn: 0.7079290\ttotal: 2m 45s\tremaining: 2m 10s\n",
            "560:\tlearn: 0.7078066\ttotal: 2m 46s\tremaining: 2m 10s\n",
            "561:\tlearn: 0.7076713\ttotal: 2m 46s\tremaining: 2m 9s\n",
            "562:\tlearn: 0.7075016\ttotal: 2m 46s\tremaining: 2m 9s\n",
            "563:\tlearn: 0.7074308\ttotal: 2m 46s\tremaining: 2m 9s\n",
            "564:\tlearn: 0.7073252\ttotal: 2m 47s\tremaining: 2m 8s\n",
            "565:\tlearn: 0.7072633\ttotal: 2m 47s\tremaining: 2m 8s\n",
            "566:\tlearn: 0.7071719\ttotal: 2m 47s\tremaining: 2m 8s\n",
            "567:\tlearn: 0.7070071\ttotal: 2m 47s\tremaining: 2m 7s\n",
            "568:\tlearn: 0.7068894\ttotal: 2m 48s\tremaining: 2m 7s\n",
            "569:\tlearn: 0.7067732\ttotal: 2m 48s\tremaining: 2m 7s\n",
            "570:\tlearn: 0.7066959\ttotal: 2m 48s\tremaining: 2m 6s\n",
            "571:\tlearn: 0.7065916\ttotal: 2m 48s\tremaining: 2m 6s\n",
            "572:\tlearn: 0.7064974\ttotal: 2m 49s\tremaining: 2m 6s\n",
            "573:\tlearn: 0.7063954\ttotal: 2m 49s\tremaining: 2m 5s\n",
            "574:\tlearn: 0.7062656\ttotal: 2m 49s\tremaining: 2m 5s\n",
            "575:\tlearn: 0.7061644\ttotal: 2m 49s\tremaining: 2m 5s\n",
            "576:\tlearn: 0.7060277\ttotal: 2m 50s\tremaining: 2m 4s\n",
            "577:\tlearn: 0.7059173\ttotal: 2m 50s\tremaining: 2m 4s\n",
            "578:\tlearn: 0.7057851\ttotal: 2m 50s\tremaining: 2m 4s\n",
            "579:\tlearn: 0.7056646\ttotal: 2m 50s\tremaining: 2m 3s\n",
            "580:\tlearn: 0.7055826\ttotal: 2m 51s\tremaining: 2m 3s\n",
            "581:\tlearn: 0.7055139\ttotal: 2m 51s\tremaining: 2m 3s\n",
            "582:\tlearn: 0.7054319\ttotal: 2m 53s\tremaining: 2m 3s\n",
            "583:\tlearn: 0.7052379\ttotal: 2m 53s\tremaining: 2m 3s\n",
            "584:\tlearn: 0.7051379\ttotal: 2m 53s\tremaining: 2m 3s\n",
            "585:\tlearn: 0.7050360\ttotal: 2m 54s\tremaining: 2m 3s\n",
            "586:\tlearn: 0.7048831\ttotal: 2m 54s\tremaining: 2m 2s\n",
            "587:\tlearn: 0.7048038\ttotal: 2m 54s\tremaining: 2m 2s\n",
            "588:\tlearn: 0.7047124\ttotal: 2m 54s\tremaining: 2m 2s\n",
            "589:\tlearn: 0.7045975\ttotal: 2m 55s\tremaining: 2m 1s\n",
            "590:\tlearn: 0.7044862\ttotal: 2m 55s\tremaining: 2m 1s\n",
            "591:\tlearn: 0.7043738\ttotal: 2m 55s\tremaining: 2m 1s\n",
            "592:\tlearn: 0.7042652\ttotal: 2m 55s\tremaining: 2m\n",
            "593:\tlearn: 0.7040951\ttotal: 2m 56s\tremaining: 2m\n",
            "594:\tlearn: 0.7040057\ttotal: 2m 56s\tremaining: 2m\n",
            "595:\tlearn: 0.7038953\ttotal: 2m 56s\tremaining: 1m 59s\n",
            "596:\tlearn: 0.7037270\ttotal: 2m 56s\tremaining: 1m 59s\n",
            "597:\tlearn: 0.7036533\ttotal: 2m 57s\tremaining: 1m 59s\n",
            "598:\tlearn: 0.7035828\ttotal: 2m 57s\tremaining: 1m 58s\n",
            "599:\tlearn: 0.7034964\ttotal: 2m 57s\tremaining: 1m 58s\n",
            "600:\tlearn: 0.7033963\ttotal: 2m 57s\tremaining: 1m 58s\n",
            "601:\tlearn: 0.7031734\ttotal: 2m 58s\tremaining: 1m 57s\n",
            "602:\tlearn: 0.7030987\ttotal: 2m 58s\tremaining: 1m 57s\n",
            "603:\tlearn: 0.7030248\ttotal: 2m 58s\tremaining: 1m 57s\n",
            "604:\tlearn: 0.7029111\ttotal: 2m 58s\tremaining: 1m 56s\n",
            "605:\tlearn: 0.7027960\ttotal: 2m 59s\tremaining: 1m 56s\n",
            "606:\tlearn: 0.7027428\ttotal: 2m 59s\tremaining: 1m 56s\n",
            "607:\tlearn: 0.7025232\ttotal: 2m 59s\tremaining: 1m 55s\n",
            "608:\tlearn: 0.7024782\ttotal: 2m 59s\tremaining: 1m 55s\n",
            "609:\tlearn: 0.7023462\ttotal: 3m\tremaining: 1m 55s\n",
            "610:\tlearn: 0.7022799\ttotal: 3m\tremaining: 1m 54s\n",
            "611:\tlearn: 0.7021557\ttotal: 3m\tremaining: 1m 54s\n",
            "612:\tlearn: 0.7020539\ttotal: 3m\tremaining: 1m 54s\n",
            "613:\tlearn: 0.7019468\ttotal: 3m 1s\tremaining: 1m 53s\n",
            "614:\tlearn: 0.7018810\ttotal: 3m 1s\tremaining: 1m 53s\n",
            "615:\tlearn: 0.7017983\ttotal: 3m 1s\tremaining: 1m 53s\n",
            "616:\tlearn: 0.7016386\ttotal: 3m 1s\tremaining: 1m 52s\n",
            "617:\tlearn: 0.7015824\ttotal: 3m 2s\tremaining: 1m 52s\n",
            "618:\tlearn: 0.7015235\ttotal: 3m 2s\tremaining: 1m 52s\n",
            "619:\tlearn: 0.7013811\ttotal: 3m 2s\tremaining: 1m 51s\n",
            "620:\tlearn: 0.7012261\ttotal: 3m 2s\tremaining: 1m 51s\n",
            "621:\tlearn: 0.7011311\ttotal: 3m 3s\tremaining: 1m 51s\n",
            "622:\tlearn: 0.7010589\ttotal: 3m 3s\tremaining: 1m 50s\n",
            "623:\tlearn: 0.7009637\ttotal: 3m 3s\tremaining: 1m 50s\n",
            "624:\tlearn: 0.7008763\ttotal: 3m 3s\tremaining: 1m 50s\n",
            "625:\tlearn: 0.7007166\ttotal: 3m 4s\tremaining: 1m 50s\n",
            "626:\tlearn: 0.7005927\ttotal: 3m 4s\tremaining: 1m 49s\n",
            "627:\tlearn: 0.7005160\ttotal: 3m 4s\tremaining: 1m 49s\n",
            "628:\tlearn: 0.7004349\ttotal: 3m 5s\tremaining: 1m 49s\n",
            "629:\tlearn: 0.7003507\ttotal: 3m 5s\tremaining: 1m 49s\n",
            "630:\tlearn: 0.7002157\ttotal: 3m 6s\tremaining: 1m 48s\n",
            "631:\tlearn: 0.7001056\ttotal: 3m 6s\tremaining: 1m 48s\n",
            "632:\tlearn: 0.7000476\ttotal: 3m 7s\tremaining: 1m 48s\n",
            "633:\tlearn: 0.6999508\ttotal: 3m 7s\tremaining: 1m 48s\n",
            "634:\tlearn: 0.6998208\ttotal: 3m 7s\tremaining: 1m 47s\n",
            "635:\tlearn: 0.6997250\ttotal: 3m 7s\tremaining: 1m 47s\n",
            "636:\tlearn: 0.6996702\ttotal: 3m 7s\tremaining: 1m 47s\n",
            "637:\tlearn: 0.6995782\ttotal: 3m 8s\tremaining: 1m 46s\n",
            "638:\tlearn: 0.6995217\ttotal: 3m 8s\tremaining: 1m 46s\n",
            "639:\tlearn: 0.6994540\ttotal: 3m 8s\tremaining: 1m 46s\n",
            "640:\tlearn: 0.6993656\ttotal: 3m 8s\tremaining: 1m 45s\n",
            "641:\tlearn: 0.6993091\ttotal: 3m 9s\tremaining: 1m 45s\n",
            "642:\tlearn: 0.6992026\ttotal: 3m 9s\tremaining: 1m 45s\n",
            "643:\tlearn: 0.6990214\ttotal: 3m 9s\tremaining: 1m 44s\n",
            "644:\tlearn: 0.6989114\ttotal: 3m 9s\tremaining: 1m 44s\n",
            "645:\tlearn: 0.6987821\ttotal: 3m 10s\tremaining: 1m 44s\n",
            "646:\tlearn: 0.6987158\ttotal: 3m 10s\tremaining: 1m 43s\n",
            "647:\tlearn: 0.6986473\ttotal: 3m 10s\tremaining: 1m 43s\n",
            "648:\tlearn: 0.6985410\ttotal: 3m 10s\tremaining: 1m 43s\n",
            "649:\tlearn: 0.6983648\ttotal: 3m 11s\tremaining: 1m 42s\n",
            "650:\tlearn: 0.6982856\ttotal: 3m 11s\tremaining: 1m 42s\n",
            "651:\tlearn: 0.6981418\ttotal: 3m 11s\tremaining: 1m 42s\n",
            "652:\tlearn: 0.6980438\ttotal: 3m 11s\tremaining: 1m 41s\n",
            "653:\tlearn: 0.6978951\ttotal: 3m 12s\tremaining: 1m 41s\n",
            "654:\tlearn: 0.6978235\ttotal: 3m 12s\tremaining: 1m 41s\n",
            "655:\tlearn: 0.6976958\ttotal: 3m 12s\tremaining: 1m 41s\n",
            "656:\tlearn: 0.6975398\ttotal: 3m 12s\tremaining: 1m 40s\n",
            "657:\tlearn: 0.6974249\ttotal: 3m 13s\tremaining: 1m 40s\n",
            "658:\tlearn: 0.6973656\ttotal: 3m 13s\tremaining: 1m 40s\n",
            "659:\tlearn: 0.6972676\ttotal: 3m 13s\tremaining: 1m 39s\n",
            "660:\tlearn: 0.6970867\ttotal: 3m 13s\tremaining: 1m 39s\n",
            "661:\tlearn: 0.6970247\ttotal: 3m 14s\tremaining: 1m 39s\n",
            "662:\tlearn: 0.6969524\ttotal: 3m 14s\tremaining: 1m 38s\n",
            "663:\tlearn: 0.6968621\ttotal: 3m 14s\tremaining: 1m 38s\n",
            "664:\tlearn: 0.6967293\ttotal: 3m 14s\tremaining: 1m 38s\n",
            "665:\tlearn: 0.6966430\ttotal: 3m 15s\tremaining: 1m 37s\n",
            "666:\tlearn: 0.6965872\ttotal: 3m 15s\tremaining: 1m 37s\n",
            "667:\tlearn: 0.6964787\ttotal: 3m 15s\tremaining: 1m 37s\n",
            "668:\tlearn: 0.6963608\ttotal: 3m 15s\tremaining: 1m 36s\n",
            "669:\tlearn: 0.6962742\ttotal: 3m 16s\tremaining: 1m 36s\n",
            "670:\tlearn: 0.6961999\ttotal: 3m 16s\tremaining: 1m 36s\n",
            "671:\tlearn: 0.6961254\ttotal: 3m 16s\tremaining: 1m 35s\n",
            "672:\tlearn: 0.6960380\ttotal: 3m 16s\tremaining: 1m 35s\n",
            "673:\tlearn: 0.6959807\ttotal: 3m 17s\tremaining: 1m 35s\n",
            "674:\tlearn: 0.6958242\ttotal: 3m 17s\tremaining: 1m 35s\n",
            "675:\tlearn: 0.6956876\ttotal: 3m 17s\tremaining: 1m 34s\n",
            "676:\tlearn: 0.6955217\ttotal: 3m 18s\tremaining: 1m 34s\n",
            "677:\tlearn: 0.6953960\ttotal: 3m 18s\tremaining: 1m 34s\n",
            "678:\tlearn: 0.6952741\ttotal: 3m 19s\tremaining: 1m 34s\n",
            "679:\tlearn: 0.6951166\ttotal: 3m 19s\tremaining: 1m 33s\n",
            "680:\tlearn: 0.6950534\ttotal: 3m 19s\tremaining: 1m 33s\n",
            "681:\tlearn: 0.6950056\ttotal: 3m 20s\tremaining: 1m 33s\n",
            "682:\tlearn: 0.6948920\ttotal: 3m 20s\tremaining: 1m 33s\n",
            "683:\tlearn: 0.6946397\ttotal: 3m 20s\tremaining: 1m 32s\n",
            "684:\tlearn: 0.6945704\ttotal: 3m 20s\tremaining: 1m 32s\n",
            "685:\tlearn: 0.6944654\ttotal: 3m 21s\tremaining: 1m 32s\n",
            "686:\tlearn: 0.6943891\ttotal: 3m 21s\tremaining: 1m 31s\n",
            "687:\tlearn: 0.6942749\ttotal: 3m 21s\tremaining: 1m 31s\n",
            "688:\tlearn: 0.6942046\ttotal: 3m 21s\tremaining: 1m 31s\n",
            "689:\tlearn: 0.6941347\ttotal: 3m 22s\tremaining: 1m 30s\n",
            "690:\tlearn: 0.6940542\ttotal: 3m 22s\tremaining: 1m 30s\n",
            "691:\tlearn: 0.6939811\ttotal: 3m 22s\tremaining: 1m 30s\n",
            "692:\tlearn: 0.6939252\ttotal: 3m 22s\tremaining: 1m 29s\n",
            "693:\tlearn: 0.6938540\ttotal: 3m 23s\tremaining: 1m 29s\n",
            "694:\tlearn: 0.6937602\ttotal: 3m 23s\tremaining: 1m 29s\n",
            "695:\tlearn: 0.6935743\ttotal: 3m 23s\tremaining: 1m 28s\n",
            "696:\tlearn: 0.6935065\ttotal: 3m 23s\tremaining: 1m 28s\n",
            "697:\tlearn: 0.6934452\ttotal: 3m 24s\tremaining: 1m 28s\n",
            "698:\tlearn: 0.6933999\ttotal: 3m 24s\tremaining: 1m 27s\n",
            "699:\tlearn: 0.6933295\ttotal: 3m 24s\tremaining: 1m 27s\n",
            "700:\tlearn: 0.6931762\ttotal: 3m 24s\tremaining: 1m 27s\n",
            "701:\tlearn: 0.6930698\ttotal: 3m 25s\tremaining: 1m 27s\n",
            "702:\tlearn: 0.6929283\ttotal: 3m 25s\tremaining: 1m 26s\n",
            "703:\tlearn: 0.6926650\ttotal: 3m 25s\tremaining: 1m 26s\n",
            "704:\tlearn: 0.6925808\ttotal: 3m 25s\tremaining: 1m 26s\n",
            "705:\tlearn: 0.6924660\ttotal: 3m 26s\tremaining: 1m 25s\n",
            "706:\tlearn: 0.6924020\ttotal: 3m 26s\tremaining: 1m 25s\n",
            "707:\tlearn: 0.6923085\ttotal: 3m 26s\tremaining: 1m 25s\n",
            "708:\tlearn: 0.6921864\ttotal: 3m 26s\tremaining: 1m 24s\n",
            "709:\tlearn: 0.6921171\ttotal: 3m 27s\tremaining: 1m 24s\n",
            "710:\tlearn: 0.6920163\ttotal: 3m 27s\tremaining: 1m 24s\n",
            "711:\tlearn: 0.6919045\ttotal: 3m 27s\tremaining: 1m 23s\n",
            "712:\tlearn: 0.6918098\ttotal: 3m 27s\tremaining: 1m 23s\n",
            "713:\tlearn: 0.6917440\ttotal: 3m 27s\tremaining: 1m 23s\n",
            "714:\tlearn: 0.6916101\ttotal: 3m 28s\tremaining: 1m 23s\n",
            "715:\tlearn: 0.6915387\ttotal: 3m 28s\tremaining: 1m 22s\n",
            "716:\tlearn: 0.6914693\ttotal: 3m 28s\tremaining: 1m 22s\n",
            "717:\tlearn: 0.6913033\ttotal: 3m 28s\tremaining: 1m 22s\n",
            "718:\tlearn: 0.6912123\ttotal: 3m 29s\tremaining: 1m 21s\n",
            "719:\tlearn: 0.6911197\ttotal: 3m 29s\tremaining: 1m 21s\n",
            "720:\tlearn: 0.6910461\ttotal: 3m 29s\tremaining: 1m 21s\n",
            "721:\tlearn: 0.6910021\ttotal: 3m 30s\tremaining: 1m 20s\n",
            "722:\tlearn: 0.6909613\ttotal: 3m 30s\tremaining: 1m 20s\n",
            "723:\tlearn: 0.6908977\ttotal: 3m 31s\tremaining: 1m 20s\n",
            "724:\tlearn: 0.6908628\ttotal: 3m 31s\tremaining: 1m 20s\n",
            "725:\tlearn: 0.6907689\ttotal: 3m 32s\tremaining: 1m 20s\n",
            "726:\tlearn: 0.6907180\ttotal: 3m 32s\tremaining: 1m 19s\n",
            "727:\tlearn: 0.6906804\ttotal: 3m 33s\tremaining: 1m 19s\n",
            "728:\tlearn: 0.6905714\ttotal: 3m 33s\tremaining: 1m 19s\n",
            "729:\tlearn: 0.6905044\ttotal: 3m 34s\tremaining: 1m 19s\n",
            "730:\tlearn: 0.6904338\ttotal: 3m 34s\tremaining: 1m 18s\n",
            "731:\tlearn: 0.6902350\ttotal: 3m 35s\tremaining: 1m 18s\n",
            "732:\tlearn: 0.6901333\ttotal: 3m 35s\tremaining: 1m 18s\n",
            "733:\tlearn: 0.6900360\ttotal: 3m 35s\tremaining: 1m 18s\n",
            "734:\tlearn: 0.6899568\ttotal: 3m 35s\tremaining: 1m 17s\n",
            "735:\tlearn: 0.6898821\ttotal: 3m 36s\tremaining: 1m 17s\n",
            "736:\tlearn: 0.6898038\ttotal: 3m 36s\tremaining: 1m 17s\n",
            "737:\tlearn: 0.6897170\ttotal: 3m 36s\tremaining: 1m 16s\n",
            "738:\tlearn: 0.6896281\ttotal: 3m 36s\tremaining: 1m 16s\n",
            "739:\tlearn: 0.6895513\ttotal: 3m 37s\tremaining: 1m 16s\n",
            "740:\tlearn: 0.6893159\ttotal: 3m 37s\tremaining: 1m 15s\n",
            "741:\tlearn: 0.6892594\ttotal: 3m 37s\tremaining: 1m 15s\n",
            "742:\tlearn: 0.6891356\ttotal: 3m 37s\tremaining: 1m 15s\n",
            "743:\tlearn: 0.6890283\ttotal: 3m 38s\tremaining: 1m 15s\n",
            "744:\tlearn: 0.6889164\ttotal: 3m 38s\tremaining: 1m 14s\n",
            "745:\tlearn: 0.6887948\ttotal: 3m 38s\tremaining: 1m 14s\n",
            "746:\tlearn: 0.6886611\ttotal: 3m 38s\tremaining: 1m 14s\n",
            "747:\tlearn: 0.6885935\ttotal: 3m 39s\tremaining: 1m 13s\n",
            "748:\tlearn: 0.6884474\ttotal: 3m 39s\tremaining: 1m 13s\n",
            "749:\tlearn: 0.6883844\ttotal: 3m 39s\tremaining: 1m 13s\n",
            "750:\tlearn: 0.6882916\ttotal: 3m 39s\tremaining: 1m 12s\n",
            "751:\tlearn: 0.6882458\ttotal: 3m 40s\tremaining: 1m 12s\n",
            "752:\tlearn: 0.6881844\ttotal: 3m 40s\tremaining: 1m 12s\n",
            "753:\tlearn: 0.6881226\ttotal: 3m 40s\tremaining: 1m 11s\n",
            "754:\tlearn: 0.6880491\ttotal: 3m 40s\tremaining: 1m 11s\n",
            "755:\tlearn: 0.6879908\ttotal: 3m 41s\tremaining: 1m 11s\n",
            "756:\tlearn: 0.6879139\ttotal: 3m 41s\tremaining: 1m 11s\n",
            "757:\tlearn: 0.6878091\ttotal: 3m 41s\tremaining: 1m 10s\n",
            "758:\tlearn: 0.6877479\ttotal: 3m 41s\tremaining: 1m 10s\n",
            "759:\tlearn: 0.6876936\ttotal: 3m 41s\tremaining: 1m 10s\n",
            "760:\tlearn: 0.6876549\ttotal: 3m 42s\tremaining: 1m 9s\n",
            "761:\tlearn: 0.6876208\ttotal: 3m 42s\tremaining: 1m 9s\n",
            "762:\tlearn: 0.6875082\ttotal: 3m 42s\tremaining: 1m 9s\n",
            "763:\tlearn: 0.6873784\ttotal: 3m 43s\tremaining: 1m 8s\n",
            "764:\tlearn: 0.6872967\ttotal: 3m 43s\tremaining: 1m 8s\n",
            "765:\tlearn: 0.6872366\ttotal: 3m 43s\tremaining: 1m 8s\n",
            "766:\tlearn: 0.6871652\ttotal: 3m 44s\tremaining: 1m 8s\n",
            "767:\tlearn: 0.6869691\ttotal: 3m 44s\tremaining: 1m 7s\n",
            "768:\tlearn: 0.6868112\ttotal: 3m 45s\tremaining: 1m 7s\n",
            "769:\tlearn: 0.6867086\ttotal: 3m 45s\tremaining: 1m 7s\n",
            "770:\tlearn: 0.6866666\ttotal: 3m 45s\tremaining: 1m 7s\n",
            "771:\tlearn: 0.6865564\ttotal: 3m 46s\tremaining: 1m 6s\n",
            "772:\tlearn: 0.6865011\ttotal: 3m 46s\tremaining: 1m 6s\n",
            "773:\tlearn: 0.6864255\ttotal: 3m 46s\tremaining: 1m 6s\n",
            "774:\tlearn: 0.6863280\ttotal: 3m 46s\tremaining: 1m 5s\n",
            "775:\tlearn: 0.6862513\ttotal: 3m 47s\tremaining: 1m 5s\n",
            "776:\tlearn: 0.6861951\ttotal: 3m 47s\tremaining: 1m 5s\n",
            "777:\tlearn: 0.6861156\ttotal: 3m 47s\tremaining: 1m 4s\n",
            "778:\tlearn: 0.6860253\ttotal: 3m 47s\tremaining: 1m 4s\n",
            "779:\tlearn: 0.6859217\ttotal: 3m 48s\tremaining: 1m 4s\n",
            "780:\tlearn: 0.6858560\ttotal: 3m 48s\tremaining: 1m 4s\n",
            "781:\tlearn: 0.6857764\ttotal: 3m 48s\tremaining: 1m 3s\n",
            "782:\tlearn: 0.6857302\ttotal: 3m 48s\tremaining: 1m 3s\n",
            "783:\tlearn: 0.6856006\ttotal: 3m 49s\tremaining: 1m 3s\n",
            "784:\tlearn: 0.6854855\ttotal: 3m 49s\tremaining: 1m 2s\n",
            "785:\tlearn: 0.6853968\ttotal: 3m 49s\tremaining: 1m 2s\n",
            "786:\tlearn: 0.6853009\ttotal: 3m 50s\tremaining: 1m 2s\n",
            "787:\tlearn: 0.6852451\ttotal: 3m 50s\tremaining: 1m 2s\n",
            "788:\tlearn: 0.6851574\ttotal: 3m 50s\tremaining: 1m 1s\n",
            "789:\tlearn: 0.6850891\ttotal: 3m 51s\tremaining: 1m 1s\n",
            "790:\tlearn: 0.6850120\ttotal: 3m 51s\tremaining: 1m 1s\n",
            "791:\tlearn: 0.6848986\ttotal: 3m 52s\tremaining: 1m\n",
            "792:\tlearn: 0.6847366\ttotal: 3m 52s\tremaining: 1m\n",
            "793:\tlearn: 0.6846923\ttotal: 3m 52s\tremaining: 1m\n",
            "794:\tlearn: 0.6845619\ttotal: 3m 52s\tremaining: 1m\n",
            "795:\tlearn: 0.6844593\ttotal: 3m 53s\tremaining: 59.7s\n",
            "796:\tlearn: 0.6843801\ttotal: 3m 53s\tremaining: 59.4s\n",
            "797:\tlearn: 0.6842224\ttotal: 3m 53s\tremaining: 59.1s\n",
            "798:\tlearn: 0.6841273\ttotal: 3m 53s\tremaining: 58.8s\n",
            "799:\tlearn: 0.6840226\ttotal: 3m 54s\tremaining: 58.5s\n",
            "800:\tlearn: 0.6839294\ttotal: 3m 54s\tremaining: 58.2s\n",
            "801:\tlearn: 0.6836696\ttotal: 3m 54s\tremaining: 57.9s\n",
            "802:\tlearn: 0.6835765\ttotal: 3m 54s\tremaining: 57.6s\n",
            "803:\tlearn: 0.6834701\ttotal: 3m 55s\tremaining: 57.3s\n",
            "804:\tlearn: 0.6833523\ttotal: 3m 55s\tremaining: 57s\n",
            "805:\tlearn: 0.6832378\ttotal: 3m 55s\tremaining: 56.7s\n",
            "806:\tlearn: 0.6831508\ttotal: 3m 55s\tremaining: 56.4s\n",
            "807:\tlearn: 0.6830789\ttotal: 3m 56s\tremaining: 56.2s\n",
            "808:\tlearn: 0.6829775\ttotal: 3m 56s\tremaining: 55.9s\n",
            "809:\tlearn: 0.6829130\ttotal: 3m 57s\tremaining: 55.6s\n",
            "810:\tlearn: 0.6828318\ttotal: 3m 57s\tremaining: 55.4s\n",
            "811:\tlearn: 0.6827170\ttotal: 3m 58s\tremaining: 55.1s\n",
            "812:\tlearn: 0.6826216\ttotal: 3m 58s\tremaining: 54.8s\n",
            "813:\tlearn: 0.6825436\ttotal: 3m 58s\tremaining: 54.5s\n",
            "814:\tlearn: 0.6824682\ttotal: 3m 58s\tremaining: 54.2s\n",
            "815:\tlearn: 0.6824072\ttotal: 3m 59s\tremaining: 53.9s\n",
            "816:\tlearn: 0.6822347\ttotal: 3m 59s\tremaining: 53.6s\n",
            "817:\tlearn: 0.6821838\ttotal: 3m 59s\tremaining: 53.3s\n",
            "818:\tlearn: 0.6820037\ttotal: 3m 59s\tremaining: 53s\n",
            "819:\tlearn: 0.6818505\ttotal: 4m\tremaining: 52.7s\n",
            "820:\tlearn: 0.6817483\ttotal: 4m\tremaining: 52.4s\n",
            "821:\tlearn: 0.6816828\ttotal: 4m\tremaining: 52.1s\n",
            "822:\tlearn: 0.6815971\ttotal: 4m\tremaining: 51.8s\n",
            "823:\tlearn: 0.6815267\ttotal: 4m 1s\tremaining: 51.5s\n",
            "824:\tlearn: 0.6814460\ttotal: 4m 1s\tremaining: 51.2s\n",
            "825:\tlearn: 0.6813669\ttotal: 4m 1s\tremaining: 50.9s\n",
            "826:\tlearn: 0.6811662\ttotal: 4m 1s\tremaining: 50.6s\n",
            "827:\tlearn: 0.6809572\ttotal: 4m 2s\tremaining: 50.3s\n",
            "828:\tlearn: 0.6808762\ttotal: 4m 2s\tremaining: 50s\n",
            "829:\tlearn: 0.6807727\ttotal: 4m 2s\tremaining: 49.7s\n",
            "830:\tlearn: 0.6806854\ttotal: 4m 2s\tremaining: 49.4s\n",
            "831:\tlearn: 0.6805332\ttotal: 4m 3s\tremaining: 49.1s\n",
            "832:\tlearn: 0.6804013\ttotal: 4m 3s\tremaining: 48.8s\n",
            "833:\tlearn: 0.6803444\ttotal: 4m 3s\tremaining: 48.5s\n",
            "834:\tlearn: 0.6803023\ttotal: 4m 3s\tremaining: 48.2s\n",
            "835:\tlearn: 0.6802398\ttotal: 4m 4s\tremaining: 47.9s\n",
            "836:\tlearn: 0.6801652\ttotal: 4m 4s\tremaining: 47.6s\n",
            "837:\tlearn: 0.6800937\ttotal: 4m 4s\tremaining: 47.3s\n",
            "838:\tlearn: 0.6800309\ttotal: 4m 4s\tremaining: 47s\n",
            "839:\tlearn: 0.6799236\ttotal: 4m 5s\tremaining: 46.7s\n",
            "840:\tlearn: 0.6798264\ttotal: 4m 5s\tremaining: 46.4s\n",
            "841:\tlearn: 0.6797344\ttotal: 4m 5s\tremaining: 46.1s\n",
            "842:\tlearn: 0.6796369\ttotal: 4m 5s\tremaining: 45.8s\n",
            "843:\tlearn: 0.6795843\ttotal: 4m 6s\tremaining: 45.5s\n",
            "844:\tlearn: 0.6795351\ttotal: 4m 6s\tremaining: 45.2s\n",
            "845:\tlearn: 0.6794639\ttotal: 4m 6s\tremaining: 44.9s\n",
            "846:\tlearn: 0.6793853\ttotal: 4m 6s\tremaining: 44.6s\n",
            "847:\tlearn: 0.6792472\ttotal: 4m 7s\tremaining: 44.3s\n",
            "848:\tlearn: 0.6791967\ttotal: 4m 7s\tremaining: 44s\n",
            "849:\tlearn: 0.6790772\ttotal: 4m 7s\tremaining: 43.7s\n",
            "850:\tlearn: 0.6790018\ttotal: 4m 7s\tremaining: 43.4s\n",
            "851:\tlearn: 0.6789246\ttotal: 4m 8s\tremaining: 43.1s\n",
            "852:\tlearn: 0.6788099\ttotal: 4m 8s\tremaining: 42.8s\n",
            "853:\tlearn: 0.6787360\ttotal: 4m 8s\tremaining: 42.5s\n",
            "854:\tlearn: 0.6786730\ttotal: 4m 8s\tremaining: 42.2s\n",
            "855:\tlearn: 0.6785556\ttotal: 4m 9s\tremaining: 42s\n",
            "856:\tlearn: 0.6784987\ttotal: 4m 9s\tremaining: 41.7s\n",
            "857:\tlearn: 0.6784294\ttotal: 4m 10s\tremaining: 41.4s\n",
            "858:\tlearn: 0.6783564\ttotal: 4m 10s\tremaining: 41.1s\n",
            "859:\tlearn: 0.6782115\ttotal: 4m 11s\tremaining: 40.9s\n",
            "860:\tlearn: 0.6781378\ttotal: 4m 11s\tremaining: 40.6s\n",
            "861:\tlearn: 0.6780670\ttotal: 4m 11s\tremaining: 40.3s\n",
            "862:\tlearn: 0.6779251\ttotal: 4m 11s\tremaining: 40s\n",
            "863:\tlearn: 0.6778431\ttotal: 4m 12s\tremaining: 39.7s\n",
            "864:\tlearn: 0.6777542\ttotal: 4m 12s\tremaining: 39.4s\n",
            "865:\tlearn: 0.6776410\ttotal: 4m 12s\tremaining: 39.1s\n",
            "866:\tlearn: 0.6775903\ttotal: 4m 13s\tremaining: 38.8s\n",
            "867:\tlearn: 0.6775183\ttotal: 4m 13s\tremaining: 38.5s\n",
            "868:\tlearn: 0.6774062\ttotal: 4m 13s\tremaining: 38.2s\n",
            "869:\tlearn: 0.6773623\ttotal: 4m 14s\tremaining: 38s\n",
            "870:\tlearn: 0.6772936\ttotal: 4m 14s\tremaining: 37.7s\n",
            "871:\tlearn: 0.6772143\ttotal: 4m 14s\tremaining: 37.4s\n",
            "872:\tlearn: 0.6771674\ttotal: 4m 14s\tremaining: 37.1s\n",
            "873:\tlearn: 0.6770446\ttotal: 4m 15s\tremaining: 36.8s\n",
            "874:\tlearn: 0.6769818\ttotal: 4m 15s\tremaining: 36.5s\n",
            "875:\tlearn: 0.6768298\ttotal: 4m 16s\tremaining: 36.3s\n",
            "876:\tlearn: 0.6767551\ttotal: 4m 16s\tremaining: 36s\n",
            "877:\tlearn: 0.6766900\ttotal: 4m 16s\tremaining: 35.7s\n",
            "878:\tlearn: 0.6766263\ttotal: 4m 17s\tremaining: 35.4s\n",
            "879:\tlearn: 0.6765717\ttotal: 4m 17s\tremaining: 35.1s\n",
            "880:\tlearn: 0.6764944\ttotal: 4m 17s\tremaining: 34.8s\n",
            "881:\tlearn: 0.6764427\ttotal: 4m 18s\tremaining: 34.5s\n",
            "882:\tlearn: 0.6762389\ttotal: 4m 18s\tremaining: 34.2s\n",
            "883:\tlearn: 0.6761340\ttotal: 4m 18s\tremaining: 33.9s\n",
            "884:\tlearn: 0.6760272\ttotal: 4m 18s\tremaining: 33.6s\n",
            "885:\tlearn: 0.6759919\ttotal: 4m 19s\tremaining: 33.3s\n",
            "886:\tlearn: 0.6759324\ttotal: 4m 19s\tremaining: 33s\n",
            "887:\tlearn: 0.6758588\ttotal: 4m 19s\tremaining: 32.7s\n",
            "888:\tlearn: 0.6758108\ttotal: 4m 19s\tremaining: 32.5s\n",
            "889:\tlearn: 0.6756872\ttotal: 4m 20s\tremaining: 32.2s\n",
            "890:\tlearn: 0.6756058\ttotal: 4m 20s\tremaining: 31.9s\n",
            "891:\tlearn: 0.6755399\ttotal: 4m 20s\tremaining: 31.6s\n",
            "892:\tlearn: 0.6754783\ttotal: 4m 21s\tremaining: 31.3s\n",
            "893:\tlearn: 0.6754156\ttotal: 4m 21s\tremaining: 31s\n",
            "894:\tlearn: 0.6752863\ttotal: 4m 22s\tremaining: 30.8s\n",
            "895:\tlearn: 0.6752155\ttotal: 4m 22s\tremaining: 30.5s\n",
            "896:\tlearn: 0.6751291\ttotal: 4m 23s\tremaining: 30.3s\n",
            "897:\tlearn: 0.6749794\ttotal: 4m 24s\tremaining: 30s\n",
            "898:\tlearn: 0.6748824\ttotal: 4m 24s\tremaining: 29.7s\n",
            "899:\tlearn: 0.6748228\ttotal: 4m 25s\tremaining: 29.4s\n",
            "900:\tlearn: 0.6747056\ttotal: 4m 25s\tremaining: 29.2s\n",
            "901:\tlearn: 0.6746130\ttotal: 4m 26s\tremaining: 28.9s\n",
            "902:\tlearn: 0.6745011\ttotal: 4m 26s\tremaining: 28.6s\n",
            "903:\tlearn: 0.6743732\ttotal: 4m 26s\tremaining: 28.3s\n",
            "904:\tlearn: 0.6743288\ttotal: 4m 27s\tremaining: 28s\n",
            "905:\tlearn: 0.6742701\ttotal: 4m 27s\tremaining: 27.8s\n",
            "906:\tlearn: 0.6742216\ttotal: 4m 27s\tremaining: 27.5s\n",
            "907:\tlearn: 0.6741555\ttotal: 4m 28s\tremaining: 27.2s\n",
            "908:\tlearn: 0.6740879\ttotal: 4m 28s\tremaining: 26.9s\n",
            "909:\tlearn: 0.6740353\ttotal: 4m 28s\tremaining: 26.6s\n",
            "910:\tlearn: 0.6739722\ttotal: 4m 29s\tremaining: 26.3s\n",
            "911:\tlearn: 0.6738829\ttotal: 4m 29s\tremaining: 26s\n",
            "912:\tlearn: 0.6737939\ttotal: 4m 29s\tremaining: 25.7s\n",
            "913:\tlearn: 0.6737115\ttotal: 4m 30s\tremaining: 25.4s\n",
            "914:\tlearn: 0.6735724\ttotal: 4m 30s\tremaining: 25.2s\n",
            "915:\tlearn: 0.6734686\ttotal: 4m 31s\tremaining: 24.9s\n",
            "916:\tlearn: 0.6733527\ttotal: 4m 31s\tremaining: 24.6s\n",
            "917:\tlearn: 0.6732625\ttotal: 4m 32s\tremaining: 24.3s\n",
            "918:\tlearn: 0.6731303\ttotal: 4m 32s\tremaining: 24s\n",
            "919:\tlearn: 0.6730728\ttotal: 4m 32s\tremaining: 23.7s\n",
            "920:\tlearn: 0.6730008\ttotal: 4m 33s\tremaining: 23.4s\n",
            "921:\tlearn: 0.6728546\ttotal: 4m 33s\tremaining: 23.1s\n",
            "922:\tlearn: 0.6727179\ttotal: 4m 33s\tremaining: 22.8s\n",
            "923:\tlearn: 0.6726462\ttotal: 4m 33s\tremaining: 22.5s\n",
            "924:\tlearn: 0.6725487\ttotal: 4m 34s\tremaining: 22.2s\n",
            "925:\tlearn: 0.6724429\ttotal: 4m 34s\tremaining: 21.9s\n",
            "926:\tlearn: 0.6723655\ttotal: 4m 34s\tremaining: 21.6s\n",
            "927:\tlearn: 0.6722400\ttotal: 4m 35s\tremaining: 21.3s\n",
            "928:\tlearn: 0.6721986\ttotal: 4m 35s\tremaining: 21.1s\n",
            "929:\tlearn: 0.6720661\ttotal: 4m 35s\tremaining: 20.8s\n",
            "930:\tlearn: 0.6720125\ttotal: 4m 36s\tremaining: 20.5s\n",
            "931:\tlearn: 0.6719707\ttotal: 4m 36s\tremaining: 20.2s\n",
            "932:\tlearn: 0.6718216\ttotal: 4m 37s\tremaining: 19.9s\n",
            "933:\tlearn: 0.6717730\ttotal: 4m 37s\tremaining: 19.6s\n",
            "934:\tlearn: 0.6717081\ttotal: 4m 37s\tremaining: 19.3s\n",
            "935:\tlearn: 0.6715763\ttotal: 4m 37s\tremaining: 19s\n",
            "936:\tlearn: 0.6713403\ttotal: 4m 38s\tremaining: 18.7s\n",
            "937:\tlearn: 0.6712914\ttotal: 4m 38s\tremaining: 18.4s\n",
            "938:\tlearn: 0.6712541\ttotal: 4m 39s\tremaining: 18.1s\n",
            "939:\tlearn: 0.6711914\ttotal: 4m 39s\tremaining: 17.8s\n",
            "940:\tlearn: 0.6711140\ttotal: 4m 39s\tremaining: 17.5s\n",
            "941:\tlearn: 0.6710672\ttotal: 4m 39s\tremaining: 17.2s\n",
            "942:\tlearn: 0.6709507\ttotal: 4m 40s\tremaining: 16.9s\n",
            "943:\tlearn: 0.6708863\ttotal: 4m 40s\tremaining: 16.6s\n",
            "944:\tlearn: 0.6708090\ttotal: 4m 40s\tremaining: 16.3s\n",
            "945:\tlearn: 0.6706050\ttotal: 4m 40s\tremaining: 16s\n",
            "946:\tlearn: 0.6704401\ttotal: 4m 41s\tremaining: 15.7s\n",
            "947:\tlearn: 0.6703756\ttotal: 4m 41s\tremaining: 15.4s\n",
            "948:\tlearn: 0.6702168\ttotal: 4m 41s\tremaining: 15.1s\n",
            "949:\tlearn: 0.6701629\ttotal: 4m 41s\tremaining: 14.8s\n",
            "950:\tlearn: 0.6700527\ttotal: 4m 42s\tremaining: 14.5s\n",
            "951:\tlearn: 0.6699943\ttotal: 4m 42s\tremaining: 14.2s\n",
            "952:\tlearn: 0.6698489\ttotal: 4m 42s\tremaining: 13.9s\n",
            "953:\tlearn: 0.6697459\ttotal: 4m 42s\tremaining: 13.6s\n",
            "954:\tlearn: 0.6696537\ttotal: 4m 43s\tremaining: 13.3s\n",
            "955:\tlearn: 0.6695753\ttotal: 4m 43s\tremaining: 13s\n",
            "956:\tlearn: 0.6695179\ttotal: 4m 43s\tremaining: 12.7s\n",
            "957:\tlearn: 0.6694532\ttotal: 4m 43s\tremaining: 12.4s\n",
            "958:\tlearn: 0.6693940\ttotal: 4m 44s\tremaining: 12.1s\n",
            "959:\tlearn: 0.6693166\ttotal: 4m 44s\tremaining: 11.8s\n",
            "960:\tlearn: 0.6692655\ttotal: 4m 44s\tremaining: 11.5s\n",
            "961:\tlearn: 0.6692040\ttotal: 4m 44s\tremaining: 11.3s\n",
            "962:\tlearn: 0.6691542\ttotal: 4m 45s\tremaining: 11s\n",
            "963:\tlearn: 0.6690561\ttotal: 4m 45s\tremaining: 10.7s\n",
            "964:\tlearn: 0.6689481\ttotal: 4m 45s\tremaining: 10.4s\n",
            "965:\tlearn: 0.6688713\ttotal: 4m 45s\tremaining: 10.1s\n",
            "966:\tlearn: 0.6688342\ttotal: 4m 46s\tremaining: 9.76s\n",
            "967:\tlearn: 0.6687920\ttotal: 4m 46s\tremaining: 9.46s\n",
            "968:\tlearn: 0.6686472\ttotal: 4m 46s\tremaining: 9.17s\n",
            "969:\tlearn: 0.6685884\ttotal: 4m 46s\tremaining: 8.87s\n",
            "970:\tlearn: 0.6684716\ttotal: 4m 47s\tremaining: 8.57s\n",
            "971:\tlearn: 0.6684429\ttotal: 4m 47s\tremaining: 8.28s\n",
            "972:\tlearn: 0.6683922\ttotal: 4m 47s\tremaining: 7.99s\n",
            "973:\tlearn: 0.6682790\ttotal: 4m 48s\tremaining: 7.7s\n",
            "974:\tlearn: 0.6682138\ttotal: 4m 48s\tremaining: 7.41s\n",
            "975:\tlearn: 0.6681712\ttotal: 4m 49s\tremaining: 7.11s\n",
            "976:\tlearn: 0.6681250\ttotal: 4m 49s\tremaining: 6.82s\n",
            "977:\tlearn: 0.6679971\ttotal: 4m 49s\tremaining: 6.52s\n",
            "978:\tlearn: 0.6678993\ttotal: 4m 50s\tremaining: 6.22s\n",
            "979:\tlearn: 0.6678606\ttotal: 4m 50s\tremaining: 5.93s\n",
            "980:\tlearn: 0.6678105\ttotal: 4m 50s\tremaining: 5.63s\n",
            "981:\tlearn: 0.6677354\ttotal: 4m 50s\tremaining: 5.33s\n",
            "982:\tlearn: 0.6677017\ttotal: 4m 51s\tremaining: 5.04s\n",
            "983:\tlearn: 0.6676439\ttotal: 4m 51s\tremaining: 4.74s\n",
            "984:\tlearn: 0.6675768\ttotal: 4m 51s\tremaining: 4.45s\n",
            "985:\tlearn: 0.6675100\ttotal: 4m 52s\tremaining: 4.15s\n",
            "986:\tlearn: 0.6674470\ttotal: 4m 52s\tremaining: 3.85s\n",
            "987:\tlearn: 0.6673386\ttotal: 4m 53s\tremaining: 3.56s\n",
            "988:\tlearn: 0.6672247\ttotal: 4m 53s\tremaining: 3.26s\n",
            "989:\tlearn: 0.6671501\ttotal: 4m 53s\tremaining: 2.97s\n",
            "990:\tlearn: 0.6671012\ttotal: 4m 54s\tremaining: 2.67s\n",
            "991:\tlearn: 0.6670407\ttotal: 4m 54s\tremaining: 2.38s\n",
            "992:\tlearn: 0.6669639\ttotal: 4m 54s\tremaining: 2.08s\n",
            "993:\tlearn: 0.6668565\ttotal: 4m 55s\tremaining: 1.78s\n",
            "994:\tlearn: 0.6667768\ttotal: 4m 55s\tremaining: 1.49s\n",
            "995:\tlearn: 0.6667321\ttotal: 4m 55s\tremaining: 1.19s\n",
            "996:\tlearn: 0.6666888\ttotal: 4m 56s\tremaining: 891ms\n",
            "997:\tlearn: 0.6666128\ttotal: 4m 56s\tremaining: 594ms\n",
            "998:\tlearn: 0.6664660\ttotal: 4m 56s\tremaining: 297ms\n",
            "999:\tlearn: 0.6664268\ttotal: 4m 56s\tremaining: 0us\n"
          ]
        },
        {
          "output_type": "execute_result",
          "data": {
            "text/plain": [
              "Pipeline(steps=[('vect', CountVectorizer()), ('tfidf', TfidfTransformer()),\n",
              "                ('clf',\n",
              "                 <catboost.core.CatBoostClassifier object at 0x7fd525a65ca0>)])"
            ],
            "text/html": [
              "<style>#sk-container-id-9 {color: black;background-color: white;}#sk-container-id-9 pre{padding: 0;}#sk-container-id-9 div.sk-toggleable {background-color: white;}#sk-container-id-9 label.sk-toggleable__label {cursor: pointer;display: block;width: 100%;margin-bottom: 0;padding: 0.3em;box-sizing: border-box;text-align: center;}#sk-container-id-9 label.sk-toggleable__label-arrow:before {content: \"▸\";float: left;margin-right: 0.25em;color: #696969;}#sk-container-id-9 label.sk-toggleable__label-arrow:hover:before {color: black;}#sk-container-id-9 div.sk-estimator:hover label.sk-toggleable__label-arrow:before {color: black;}#sk-container-id-9 div.sk-toggleable__content {max-height: 0;max-width: 0;overflow: hidden;text-align: left;background-color: #f0f8ff;}#sk-container-id-9 div.sk-toggleable__content pre {margin: 0.2em;color: black;border-radius: 0.25em;background-color: #f0f8ff;}#sk-container-id-9 input.sk-toggleable__control:checked~div.sk-toggleable__content {max-height: 200px;max-width: 100%;overflow: auto;}#sk-container-id-9 input.sk-toggleable__control:checked~label.sk-toggleable__label-arrow:before {content: \"▾\";}#sk-container-id-9 div.sk-estimator input.sk-toggleable__control:checked~label.sk-toggleable__label {background-color: #d4ebff;}#sk-container-id-9 div.sk-label input.sk-toggleable__control:checked~label.sk-toggleable__label {background-color: #d4ebff;}#sk-container-id-9 input.sk-hidden--visually {border: 0;clip: rect(1px 1px 1px 1px);clip: rect(1px, 1px, 1px, 1px);height: 1px;margin: -1px;overflow: hidden;padding: 0;position: absolute;width: 1px;}#sk-container-id-9 div.sk-estimator {font-family: monospace;background-color: #f0f8ff;border: 1px dotted black;border-radius: 0.25em;box-sizing: border-box;margin-bottom: 0.5em;}#sk-container-id-9 div.sk-estimator:hover {background-color: #d4ebff;}#sk-container-id-9 div.sk-parallel-item::after {content: \"\";width: 100%;border-bottom: 1px solid gray;flex-grow: 1;}#sk-container-id-9 div.sk-label:hover label.sk-toggleable__label {background-color: #d4ebff;}#sk-container-id-9 div.sk-serial::before {content: \"\";position: absolute;border-left: 1px solid gray;box-sizing: border-box;top: 0;bottom: 0;left: 50%;z-index: 0;}#sk-container-id-9 div.sk-serial {display: flex;flex-direction: column;align-items: center;background-color: white;padding-right: 0.2em;padding-left: 0.2em;position: relative;}#sk-container-id-9 div.sk-item {position: relative;z-index: 1;}#sk-container-id-9 div.sk-parallel {display: flex;align-items: stretch;justify-content: center;background-color: white;position: relative;}#sk-container-id-9 div.sk-item::before, #sk-container-id-9 div.sk-parallel-item::before {content: \"\";position: absolute;border-left: 1px solid gray;box-sizing: border-box;top: 0;bottom: 0;left: 50%;z-index: -1;}#sk-container-id-9 div.sk-parallel-item {display: flex;flex-direction: column;z-index: 1;position: relative;background-color: white;}#sk-container-id-9 div.sk-parallel-item:first-child::after {align-self: flex-end;width: 50%;}#sk-container-id-9 div.sk-parallel-item:last-child::after {align-self: flex-start;width: 50%;}#sk-container-id-9 div.sk-parallel-item:only-child::after {width: 0;}#sk-container-id-9 div.sk-dashed-wrapped {border: 1px dashed gray;margin: 0 0.4em 0.5em 0.4em;box-sizing: border-box;padding-bottom: 0.4em;background-color: white;}#sk-container-id-9 div.sk-label label {font-family: monospace;font-weight: bold;display: inline-block;line-height: 1.2em;}#sk-container-id-9 div.sk-label-container {text-align: center;}#sk-container-id-9 div.sk-container {/* jupyter's `normalize.less` sets `[hidden] { display: none; }` but bootstrap.min.css set `[hidden] { display: none !important; }` so we also need the `!important` here to be able to override the default hidden behavior on the sphinx rendered scikit-learn.org. See: https://github.com/scikit-learn/scikit-learn/issues/21755 */display: inline-block !important;position: relative;}#sk-container-id-9 div.sk-text-repr-fallback {display: none;}</style><div id=\"sk-container-id-9\" class=\"sk-top-container\"><div class=\"sk-text-repr-fallback\"><pre>Pipeline(steps=[(&#x27;vect&#x27;, CountVectorizer()), (&#x27;tfidf&#x27;, TfidfTransformer()),\n",
              "                (&#x27;clf&#x27;,\n",
              "                 &lt;catboost.core.CatBoostClassifier object at 0x7fd525a65ca0&gt;)])</pre><b>In a Jupyter environment, please rerun this cell to show the HTML representation or trust the notebook. <br />On GitHub, the HTML representation is unable to render, please try loading this page with nbviewer.org.</b></div><div class=\"sk-container\" hidden><div class=\"sk-item sk-dashed-wrapped\"><div class=\"sk-label-container\"><div class=\"sk-label sk-toggleable\"><input class=\"sk-toggleable__control sk-hidden--visually\" id=\"sk-estimator-id-33\" type=\"checkbox\" ><label for=\"sk-estimator-id-33\" class=\"sk-toggleable__label sk-toggleable__label-arrow\">Pipeline</label><div class=\"sk-toggleable__content\"><pre>Pipeline(steps=[(&#x27;vect&#x27;, CountVectorizer()), (&#x27;tfidf&#x27;, TfidfTransformer()),\n",
              "                (&#x27;clf&#x27;,\n",
              "                 &lt;catboost.core.CatBoostClassifier object at 0x7fd525a65ca0&gt;)])</pre></div></div></div><div class=\"sk-serial\"><div class=\"sk-item\"><div class=\"sk-estimator sk-toggleable\"><input class=\"sk-toggleable__control sk-hidden--visually\" id=\"sk-estimator-id-34\" type=\"checkbox\" ><label for=\"sk-estimator-id-34\" class=\"sk-toggleable__label sk-toggleable__label-arrow\">CountVectorizer</label><div class=\"sk-toggleable__content\"><pre>CountVectorizer()</pre></div></div></div><div class=\"sk-item\"><div class=\"sk-estimator sk-toggleable\"><input class=\"sk-toggleable__control sk-hidden--visually\" id=\"sk-estimator-id-35\" type=\"checkbox\" ><label for=\"sk-estimator-id-35\" class=\"sk-toggleable__label sk-toggleable__label-arrow\">TfidfTransformer</label><div class=\"sk-toggleable__content\"><pre>TfidfTransformer()</pre></div></div></div><div class=\"sk-item\"><div class=\"sk-estimator sk-toggleable\"><input class=\"sk-toggleable__control sk-hidden--visually\" id=\"sk-estimator-id-36\" type=\"checkbox\" ><label for=\"sk-estimator-id-36\" class=\"sk-toggleable__label sk-toggleable__label-arrow\">CatBoostClassifier</label><div class=\"sk-toggleable__content\"><pre>&lt;catboost.core.CatBoostClassifier object at 0x7fd525a65ca0&gt;</pre></div></div></div></div></div></div></div>"
            ]
          },
          "metadata": {},
          "execution_count": 137
        }
      ],
      "source": [
        "# Algorithm training X_train, X_test, y_train, y_test\n",
        "ctb_model = ctb_pipeline.fit(X_train.values.astype('U'), y_train.values.astype('int64'))\n",
        "ctb_model"
      ]
    },
    {
      "cell_type": "code",
      "execution_count": null,
      "id": "0efb5ded-6bbd-479a-9c18-ed293a6c89bc",
      "metadata": {
        "id": "0efb5ded-6bbd-479a-9c18-ed293a6c89bc",
        "tags": []
      },
      "outputs": [],
      "source": [
        "y_pred = ctb_model.predict(X_test.values.astype('U'))\n",
        "ctb_model.classes_"
      ]
    },
    {
      "cell_type": "code",
      "execution_count": null,
      "id": "f82aa16c-43dc-4ab5-ba09-7aaf634432ce",
      "metadata": {
        "id": "f82aa16c-43dc-4ab5-ba09-7aaf634432ce",
        "tags": []
      },
      "outputs": [],
      "source": [
        "cm = confusion_matrix(y_test, y_pred, labels=ctb_model.classes_)\n",
        "print(cm)"
      ]
    },
    {
      "cell_type": "code",
      "execution_count": null,
      "id": "4e58e88a-5ece-44a8-ad88-ce76db4bf3dc",
      "metadata": {
        "id": "4e58e88a-5ece-44a8-ad88-ce76db4bf3dc",
        "tags": []
      },
      "outputs": [],
      "source": [
        "cm_dsp=ConfusionMatrixDisplay(confusion_matrix=cm, display_labels=['Negatives', 'Neutral', 'Positive'])\n",
        "cm_dsp.plot()"
      ]
    },
    {
      "cell_type": "code",
      "execution_count": null,
      "id": "9ea695b2-f0a5-4d10-a1df-4d10513d8c5f",
      "metadata": {
        "id": "9ea695b2-f0a5-4d10-a1df-4d10513d8c5f",
        "tags": []
      },
      "outputs": [],
      "source": [
        "%%time\n",
        "\n",
        "#predicting \n",
        "y_pred = ctb_model.predict(X_test.values.astype('U'))\n",
        "\n",
        "model_score = ctb_model.score(X_test.values.astype('U'), y_test.values.astype('int64'))\n",
        "print(f'Model Score: {model_score}')\n",
        "print(f'Model Score: {model_score*100:.2f}%')\n",
        "accuracy = accuracy_score(y_test, y_pred)\n",
        "print()\n",
        "print(f\"Accuracy: {accuracy}\")\n",
        "print(f\"Accuracy: {accuracy*100:.2f}%\")\n",
        "print()\n",
        "f1 = f1_score(y_test, y_pred, average='weighted')\n",
        "print(f\"F1-score: {f1}\")\n",
        "print(f\"F1-score: {f1*100:.2f}%\")\n",
        "print()\n",
        "print(\"CPU times and Wall time: \")"
      ]
    },
    {
      "cell_type": "code",
      "execution_count": null,
      "id": "f9e63415-8f73-425b-b5c7-e7bfba07b9bd",
      "metadata": {
        "id": "f9e63415-8f73-425b-b5c7-e7bfba07b9bd",
        "tags": []
      },
      "outputs": [],
      "source": [
        "# Save to file / directory\n",
        "joblib_file = \"models/CatBoostClassifier_model_score_\"+ str(round(accuracy*100,2))+\".pkl\"\n",
        "joblib.dump(ctb_model, joblib_file)"
      ]
    }
  ],
  "metadata": {
    "colab": {
      "provenance": [],
      "include_colab_link": true
    },
    "kernelspec": {
      "display_name": "Python 3",
      "language": "python",
      "name": "python3"
    },
    "language_info": {
      "codemirror_mode": {
        "name": "ipython",
        "version": 3
      },
      "file_extension": ".py",
      "mimetype": "text/x-python",
      "name": "python",
      "nbconvert_exporter": "python",
      "pygments_lexer": "ipython3",
      "version": "3.11.2 (v3.11.2:878ead1ac1, Feb  7 2023, 10:02:41) [Clang 13.0.0 (clang-1300.0.29.30)]"
    },
    "vscode": {
      "interpreter": {
        "hash": "aee8b7b246df8f9039afb4144a1f6fd8d2ca17a180786b69acc140d282b71a49"
      }
    }
  },
  "nbformat": 4,
  "nbformat_minor": 5
}