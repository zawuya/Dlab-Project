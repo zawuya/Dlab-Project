{
  "cells": [
    {
      "cell_type": "markdown",
      "metadata": {
        "id": "view-in-github",
        "colab_type": "text"
      },
      "source": [
        "<a href=\"https://colab.research.google.com/github/zawuya/Dlab-Project/blob/master/telecom_sentiment_analysis_revised_2_0.ipynb\" target=\"_parent\"><img src=\"https://colab.research.google.com/assets/colab-badge.svg\" alt=\"Open In Colab\"/></a>"
      ]
    },
    {
      "cell_type": "markdown",
      "id": "9408c957-7d4e-4410-ae1c-fcb737015953",
      "metadata": {
        "id": "9408c957-7d4e-4410-ae1c-fcb737015953"
      },
      "source": [
        "# Revised Version 2.0"
      ]
    },
    {
      "cell_type": "code",
      "execution_count": 41,
      "id": "P7ubU-aKbWpT",
      "metadata": {
        "colab": {
          "base_uri": "https://localhost:8080/"
        },
        "id": "P7ubU-aKbWpT",
        "outputId": "255117ca-734a-4332-a57e-00ab39f58030"
      },
      "outputs": [
        {
          "output_type": "stream",
          "name": "stdout",
          "text": [
            "Looking in indexes: https://pypi.org/simple, https://us-python.pkg.dev/colab-wheels/public/simple/\n",
            "Requirement already satisfied: catboost in /usr/local/lib/python3.9/dist-packages (1.1.1)\n",
            "Requirement already satisfied: matplotlib in /usr/local/lib/python3.9/dist-packages (from catboost) (3.7.1)\n",
            "Requirement already satisfied: scipy in /usr/local/lib/python3.9/dist-packages (from catboost) (1.10.1)\n",
            "Requirement already satisfied: graphviz in /usr/local/lib/python3.9/dist-packages (from catboost) (0.10.1)\n",
            "Requirement already satisfied: numpy>=1.16.0 in /usr/local/lib/python3.9/dist-packages (from catboost) (1.22.4)\n",
            "Requirement already satisfied: six in /usr/local/lib/python3.9/dist-packages (from catboost) (1.15.0)\n",
            "Requirement already satisfied: plotly in /usr/local/lib/python3.9/dist-packages (from catboost) (5.5.0)\n",
            "Requirement already satisfied: pandas>=0.24.0 in /usr/local/lib/python3.9/dist-packages (from catboost) (1.4.4)\n",
            "Requirement already satisfied: pytz>=2020.1 in /usr/local/lib/python3.9/dist-packages (from pandas>=0.24.0->catboost) (2022.7.1)\n",
            "Requirement already satisfied: python-dateutil>=2.8.1 in /usr/local/lib/python3.9/dist-packages (from pandas>=0.24.0->catboost) (2.8.2)\n",
            "Requirement already satisfied: pillow>=6.2.0 in /usr/local/lib/python3.9/dist-packages (from matplotlib->catboost) (8.4.0)\n",
            "Requirement already satisfied: cycler>=0.10 in /usr/local/lib/python3.9/dist-packages (from matplotlib->catboost) (0.11.0)\n",
            "Requirement already satisfied: contourpy>=1.0.1 in /usr/local/lib/python3.9/dist-packages (from matplotlib->catboost) (1.0.7)\n",
            "Requirement already satisfied: importlib-resources>=3.2.0 in /usr/local/lib/python3.9/dist-packages (from matplotlib->catboost) (5.12.0)\n",
            "Requirement already satisfied: pyparsing>=2.3.1 in /usr/local/lib/python3.9/dist-packages (from matplotlib->catboost) (3.0.9)\n",
            "Requirement already satisfied: fonttools>=4.22.0 in /usr/local/lib/python3.9/dist-packages (from matplotlib->catboost) (4.39.0)\n",
            "Requirement already satisfied: packaging>=20.0 in /usr/local/lib/python3.9/dist-packages (from matplotlib->catboost) (23.0)\n",
            "Requirement already satisfied: kiwisolver>=1.0.1 in /usr/local/lib/python3.9/dist-packages (from matplotlib->catboost) (1.4.4)\n",
            "Requirement already satisfied: tenacity>=6.2.0 in /usr/local/lib/python3.9/dist-packages (from plotly->catboost) (8.2.2)\n",
            "Requirement already satisfied: zipp>=3.1.0 in /usr/local/lib/python3.9/dist-packages (from importlib-resources>=3.2.0->matplotlib->catboost) (3.15.0)\n",
            "Looking in indexes: https://pypi.org/simple, https://us-python.pkg.dev/colab-wheels/public/simple/\n",
            "Requirement already satisfied: lightgbm in /usr/local/lib/python3.9/dist-packages (2.2.3)\n",
            "Requirement already satisfied: scikit-learn in /usr/local/lib/python3.9/dist-packages (from lightgbm) (1.2.2)\n",
            "Requirement already satisfied: scipy in /usr/local/lib/python3.9/dist-packages (from lightgbm) (1.10.1)\n",
            "Requirement already satisfied: numpy in /usr/local/lib/python3.9/dist-packages (from lightgbm) (1.22.4)\n",
            "Requirement already satisfied: threadpoolctl>=2.0.0 in /usr/local/lib/python3.9/dist-packages (from scikit-learn->lightgbm) (3.1.0)\n",
            "Requirement already satisfied: joblib>=1.1.1 in /usr/local/lib/python3.9/dist-packages (from scikit-learn->lightgbm) (1.1.1)\n",
            "Looking in indexes: https://pypi.org/simple, https://us-python.pkg.dev/colab-wheels/public/simple/\n",
            "Requirement already satisfied: xgboost in /usr/local/lib/python3.9/dist-packages (1.7.4)\n",
            "Requirement already satisfied: numpy in /usr/local/lib/python3.9/dist-packages (from xgboost) (1.22.4)\n",
            "Requirement already satisfied: scipy in /usr/local/lib/python3.9/dist-packages (from xgboost) (1.10.1)\n",
            "Looking in indexes: https://pypi.org/simple, https://us-python.pkg.dev/colab-wheels/public/simple/\n",
            "Requirement already satisfied: scikit-optimize in /usr/local/lib/python3.9/dist-packages (0.9.0)\n",
            "Requirement already satisfied: numpy>=1.13.3 in /usr/local/lib/python3.9/dist-packages (from scikit-optimize) (1.22.4)\n",
            "Requirement already satisfied: joblib>=0.11 in /usr/local/lib/python3.9/dist-packages (from scikit-optimize) (1.1.1)\n",
            "Requirement already satisfied: scikit-learn>=0.20.0 in /usr/local/lib/python3.9/dist-packages (from scikit-optimize) (1.2.2)\n",
            "Requirement already satisfied: scipy>=0.19.1 in /usr/local/lib/python3.9/dist-packages (from scikit-optimize) (1.10.1)\n",
            "Requirement already satisfied: pyaml>=16.9 in /usr/local/lib/python3.9/dist-packages (from scikit-optimize) (21.10.1)\n",
            "Requirement already satisfied: PyYAML in /usr/local/lib/python3.9/dist-packages (from pyaml>=16.9->scikit-optimize) (6.0)\n",
            "Requirement already satisfied: threadpoolctl>=2.0.0 in /usr/local/lib/python3.9/dist-packages (from scikit-learn>=0.20.0->scikit-optimize) (3.1.0)\n",
            "Looking in indexes: https://pypi.org/simple, https://us-python.pkg.dev/colab-wheels/public/simple/\n",
            "Requirement already satisfied: category-encoders in /usr/local/lib/python3.9/dist-packages (2.6.0)\n",
            "Requirement already satisfied: numpy>=1.14.0 in /usr/local/lib/python3.9/dist-packages (from category-encoders) (1.22.4)\n",
            "Requirement already satisfied: pandas>=1.0.5 in /usr/local/lib/python3.9/dist-packages (from category-encoders) (1.4.4)\n",
            "Requirement already satisfied: patsy>=0.5.1 in /usr/local/lib/python3.9/dist-packages (from category-encoders) (0.5.3)\n",
            "Requirement already satisfied: scipy>=1.0.0 in /usr/local/lib/python3.9/dist-packages (from category-encoders) (1.10.1)\n",
            "Requirement already satisfied: scikit-learn>=0.20.0 in /usr/local/lib/python3.9/dist-packages (from category-encoders) (1.2.2)\n",
            "Requirement already satisfied: statsmodels>=0.9.0 in /usr/local/lib/python3.9/dist-packages (from category-encoders) (0.13.5)\n",
            "Requirement already satisfied: python-dateutil>=2.8.1 in /usr/local/lib/python3.9/dist-packages (from pandas>=1.0.5->category-encoders) (2.8.2)\n",
            "Requirement already satisfied: pytz>=2020.1 in /usr/local/lib/python3.9/dist-packages (from pandas>=1.0.5->category-encoders) (2022.7.1)\n",
            "Requirement already satisfied: six in /usr/local/lib/python3.9/dist-packages (from patsy>=0.5.1->category-encoders) (1.15.0)\n",
            "Requirement already satisfied: joblib>=1.1.1 in /usr/local/lib/python3.9/dist-packages (from scikit-learn>=0.20.0->category-encoders) (1.1.1)\n",
            "Requirement already satisfied: threadpoolctl>=2.0.0 in /usr/local/lib/python3.9/dist-packages (from scikit-learn>=0.20.0->category-encoders) (3.1.0)\n",
            "Requirement already satisfied: packaging>=21.3 in /usr/local/lib/python3.9/dist-packages (from statsmodels>=0.9.0->category-encoders) (23.0)\n"
          ]
        }
      ],
      "source": [
        "! pip install catboost\n",
        "! pip install lightgbm\n",
        "! pip install xgboost\n",
        "! pip install scikit-optimize\n",
        "! pip install category-encoders\n"
      ]
    },
    {
      "cell_type": "markdown",
      "id": "b39beb5a",
      "metadata": {
        "id": "b39beb5a"
      },
      "source": [
        "## 1. Import dataset"
      ]
    },
    {
      "cell_type": "code",
      "execution_count": 42,
      "id": "5fba1c93",
      "metadata": {
        "id": "5fba1c93"
      },
      "outputs": [],
      "source": [
        "#import useful libraries\n",
        "import pandas as pd\n",
        "import numpy as np\n",
        "import seaborn as sns\n",
        "import re \n",
        "import os\n",
        "import joblib \n",
        "import matplotlib.pyplot as plt\n",
        "import warnings\n",
        "import xgboost as xgb\n",
        "import catboost as ctb\n",
        "import lightgbm as ltb\n",
        "import collections\n",
        "from sklearn.metrics import accuracy_score, f1_score\n",
        "from sklearn.metrics import confusion_matrix, ConfusionMatrixDisplay \n",
        "from sklearn.pipeline import Pipeline\n",
        "from sklearn.model_selection import train_test_split\n",
        "from sklearn.feature_extraction.text import CountVectorizer, TfidfTransformer\n",
        "from sklearn.ensemble import RandomForestClassifier\n",
        "from sklearn.ensemble import GradientBoostingClassifier\n",
        "from sklearn.neighbors import KNeighborsClassifier\n",
        "from sklearn.tree import DecisionTreeClassifier\n",
        "from sklearn.linear_model import LogisticRegression\n",
        "from sklearn.naive_bayes import MultinomialNB\n",
        "from sklearn.svm import SVC\n",
        "from xgboost import plot_importance\n",
        "from xgboost import XGBClassifier\n",
        "from catboost import CatBoostClassifier\n",
        "from lightgbm import LGBMClassifier\n",
        "from collections import Counter\n",
        "from sklearn.datasets import make_classification\n",
        "from imblearn.over_sampling import RandomOverSampler\n",
        "from sklearn.preprocessing import LabelEncoder"
      ]
    },
    {
      "cell_type": "code",
      "execution_count": 43,
      "id": "15b58087-ac00-49b0-b48c-527ef1a7418e",
      "metadata": {
        "id": "15b58087-ac00-49b0-b48c-527ef1a7418e",
        "tags": []
      },
      "outputs": [],
      "source": [
        "warnings.filterwarnings(\"ignore\")"
      ]
    },
    {
      "cell_type": "code",
      "execution_count": 44,
      "id": "e228f74a",
      "metadata": {
        "id": "e228f74a"
      },
      "outputs": [],
      "source": [
        "telecom_data=pd.read_csv(\"telecom_TZ_sentiment_data.csv\", dtype=str)"
      ]
    },
    {
      "cell_type": "code",
      "execution_count": 45,
      "id": "e10f9d5d",
      "metadata": {
        "colab": {
          "base_uri": "https://localhost:8080/",
          "height": 206
        },
        "id": "e10f9d5d",
        "outputId": "2b6c0e33-d276-4194-a444-99234b1cc91c"
      },
      "outputs": [
        {
          "output_type": "execute_result",
          "data": {
            "text/plain": [
              "                        date  \\\n",
              "0  2021-10-23 14:36:34+00:00   \n",
              "1  2021-09-28 15:37:16+00:00   \n",
              "2  2022-09-18 13:37:06+00:00   \n",
              "3  2021-04-08 18:34:13+00:00   \n",
              "4  2022-09-24 05:03:32+00:00   \n",
              "\n",
              "                                             comment platform sentiment  \n",
              "0        Chezea songesha wew https://t.co/FfnSsIkZGU  Twitter         1  \n",
              "1  Tafuta hela sana ili usilalamikie mabadiliko y...  Twitter         1  \n",
              "2  Hivi huu mtandao wa Tigo una tatizo au simu ya...  Twitter        -1  \n",
              "3  @DaktariWaWatoto Tamtam bando ni ðŸ”¥ ila kuin...  Twitter         1  \n",
              "4  @VodacomTanzania @ImranHussein84 Tatizo kifuru...  Twitter        -1  "
            ],
            "text/html": [
              "\n",
              "  <div id=\"df-0004272d-65af-4066-b6f1-f5891d489517\">\n",
              "    <div class=\"colab-df-container\">\n",
              "      <div>\n",
              "<style scoped>\n",
              "    .dataframe tbody tr th:only-of-type {\n",
              "        vertical-align: middle;\n",
              "    }\n",
              "\n",
              "    .dataframe tbody tr th {\n",
              "        vertical-align: top;\n",
              "    }\n",
              "\n",
              "    .dataframe thead th {\n",
              "        text-align: right;\n",
              "    }\n",
              "</style>\n",
              "<table border=\"1\" class=\"dataframe\">\n",
              "  <thead>\n",
              "    <tr style=\"text-align: right;\">\n",
              "      <th></th>\n",
              "      <th>date</th>\n",
              "      <th>comment</th>\n",
              "      <th>platform</th>\n",
              "      <th>sentiment</th>\n",
              "    </tr>\n",
              "  </thead>\n",
              "  <tbody>\n",
              "    <tr>\n",
              "      <th>0</th>\n",
              "      <td>2021-10-23 14:36:34+00:00</td>\n",
              "      <td>Chezea songesha wew https://t.co/FfnSsIkZGU</td>\n",
              "      <td>Twitter</td>\n",
              "      <td>1</td>\n",
              "    </tr>\n",
              "    <tr>\n",
              "      <th>1</th>\n",
              "      <td>2021-09-28 15:37:16+00:00</td>\n",
              "      <td>Tafuta hela sana ili usilalamikie mabadiliko y...</td>\n",
              "      <td>Twitter</td>\n",
              "      <td>1</td>\n",
              "    </tr>\n",
              "    <tr>\n",
              "      <th>2</th>\n",
              "      <td>2022-09-18 13:37:06+00:00</td>\n",
              "      <td>Hivi huu mtandao wa Tigo una tatizo au simu ya...</td>\n",
              "      <td>Twitter</td>\n",
              "      <td>-1</td>\n",
              "    </tr>\n",
              "    <tr>\n",
              "      <th>3</th>\n",
              "      <td>2021-04-08 18:34:13+00:00</td>\n",
              "      <td>@DaktariWaWatoto Tamtam bando ni ðŸ”¥ ila kuin...</td>\n",
              "      <td>Twitter</td>\n",
              "      <td>1</td>\n",
              "    </tr>\n",
              "    <tr>\n",
              "      <th>4</th>\n",
              "      <td>2022-09-24 05:03:32+00:00</td>\n",
              "      <td>@VodacomTanzania @ImranHussein84 Tatizo kifuru...</td>\n",
              "      <td>Twitter</td>\n",
              "      <td>-1</td>\n",
              "    </tr>\n",
              "  </tbody>\n",
              "</table>\n",
              "</div>\n",
              "      <button class=\"colab-df-convert\" onclick=\"convertToInteractive('df-0004272d-65af-4066-b6f1-f5891d489517')\"\n",
              "              title=\"Convert this dataframe to an interactive table.\"\n",
              "              style=\"display:none;\">\n",
              "        \n",
              "  <svg xmlns=\"http://www.w3.org/2000/svg\" height=\"24px\"viewBox=\"0 0 24 24\"\n",
              "       width=\"24px\">\n",
              "    <path d=\"M0 0h24v24H0V0z\" fill=\"none\"/>\n",
              "    <path d=\"M18.56 5.44l.94 2.06.94-2.06 2.06-.94-2.06-.94-.94-2.06-.94 2.06-2.06.94zm-11 1L8.5 8.5l.94-2.06 2.06-.94-2.06-.94L8.5 2.5l-.94 2.06-2.06.94zm10 10l.94 2.06.94-2.06 2.06-.94-2.06-.94-.94-2.06-.94 2.06-2.06.94z\"/><path d=\"M17.41 7.96l-1.37-1.37c-.4-.4-.92-.59-1.43-.59-.52 0-1.04.2-1.43.59L10.3 9.45l-7.72 7.72c-.78.78-.78 2.05 0 2.83L4 21.41c.39.39.9.59 1.41.59.51 0 1.02-.2 1.41-.59l7.78-7.78 2.81-2.81c.8-.78.8-2.07 0-2.86zM5.41 20L4 18.59l7.72-7.72 1.47 1.35L5.41 20z\"/>\n",
              "  </svg>\n",
              "      </button>\n",
              "      \n",
              "  <style>\n",
              "    .colab-df-container {\n",
              "      display:flex;\n",
              "      flex-wrap:wrap;\n",
              "      gap: 12px;\n",
              "    }\n",
              "\n",
              "    .colab-df-convert {\n",
              "      background-color: #E8F0FE;\n",
              "      border: none;\n",
              "      border-radius: 50%;\n",
              "      cursor: pointer;\n",
              "      display: none;\n",
              "      fill: #1967D2;\n",
              "      height: 32px;\n",
              "      padding: 0 0 0 0;\n",
              "      width: 32px;\n",
              "    }\n",
              "\n",
              "    .colab-df-convert:hover {\n",
              "      background-color: #E2EBFA;\n",
              "      box-shadow: 0px 1px 2px rgba(60, 64, 67, 0.3), 0px 1px 3px 1px rgba(60, 64, 67, 0.15);\n",
              "      fill: #174EA6;\n",
              "    }\n",
              "\n",
              "    [theme=dark] .colab-df-convert {\n",
              "      background-color: #3B4455;\n",
              "      fill: #D2E3FC;\n",
              "    }\n",
              "\n",
              "    [theme=dark] .colab-df-convert:hover {\n",
              "      background-color: #434B5C;\n",
              "      box-shadow: 0px 1px 3px 1px rgba(0, 0, 0, 0.15);\n",
              "      filter: drop-shadow(0px 1px 2px rgba(0, 0, 0, 0.3));\n",
              "      fill: #FFFFFF;\n",
              "    }\n",
              "  </style>\n",
              "\n",
              "      <script>\n",
              "        const buttonEl =\n",
              "          document.querySelector('#df-0004272d-65af-4066-b6f1-f5891d489517 button.colab-df-convert');\n",
              "        buttonEl.style.display =\n",
              "          google.colab.kernel.accessAllowed ? 'block' : 'none';\n",
              "\n",
              "        async function convertToInteractive(key) {\n",
              "          const element = document.querySelector('#df-0004272d-65af-4066-b6f1-f5891d489517');\n",
              "          const dataTable =\n",
              "            await google.colab.kernel.invokeFunction('convertToInteractive',\n",
              "                                                     [key], {});\n",
              "          if (!dataTable) return;\n",
              "\n",
              "          const docLinkHtml = 'Like what you see? Visit the ' +\n",
              "            '<a target=\"_blank\" href=https://colab.research.google.com/notebooks/data_table.ipynb>data table notebook</a>'\n",
              "            + ' to learn more about interactive tables.';\n",
              "          element.innerHTML = '';\n",
              "          dataTable['output_type'] = 'display_data';\n",
              "          await google.colab.output.renderOutput(dataTable, element);\n",
              "          const docLink = document.createElement('div');\n",
              "          docLink.innerHTML = docLinkHtml;\n",
              "          element.appendChild(docLink);\n",
              "        }\n",
              "      </script>\n",
              "    </div>\n",
              "  </div>\n",
              "  "
            ]
          },
          "metadata": {},
          "execution_count": 45
        }
      ],
      "source": [
        "telecom_data.head()"
      ]
    },
    {
      "cell_type": "markdown",
      "id": "649b7893",
      "metadata": {
        "id": "649b7893"
      },
      "source": [
        "# 2. Exploratory Data Analysis"
      ]
    },
    {
      "cell_type": "code",
      "execution_count": 46,
      "id": "15b077e9",
      "metadata": {
        "colab": {
          "base_uri": "https://localhost:8080/"
        },
        "id": "15b077e9",
        "outputId": "e28c0cec-5e22-43df-dafe-8adb0dee237e"
      },
      "outputs": [
        {
          "output_type": "stream",
          "name": "stdout",
          "text": [
            "<class 'pandas.core.frame.DataFrame'>\n",
            "RangeIndex: 8790 entries, 0 to 8789\n",
            "Data columns (total 4 columns):\n",
            " #   Column     Non-Null Count  Dtype \n",
            "---  ------     --------------  ----- \n",
            " 0   date       8789 non-null   object\n",
            " 1   comment    8789 non-null   object\n",
            " 2   platform   8788 non-null   object\n",
            " 3   sentiment  8782 non-null   object\n",
            "dtypes: object(4)\n",
            "memory usage: 274.8+ KB\n"
          ]
        }
      ],
      "source": [
        "telecom_data.info()"
      ]
    },
    {
      "cell_type": "code",
      "execution_count": 47,
      "id": "XrR593tRC7B3",
      "metadata": {
        "colab": {
          "base_uri": "https://localhost:8080/"
        },
        "id": "XrR593tRC7B3",
        "outputId": "90953caa-6ac6-4291-c8a2-38499873a261"
      },
      "outputs": [
        {
          "output_type": "execute_result",
          "data": {
            "text/plain": [
              "11"
            ]
          },
          "metadata": {},
          "execution_count": 47
        }
      ],
      "source": [
        "telecom_data.duplicated().sum()"
      ]
    },
    {
      "cell_type": "code",
      "execution_count": 48,
      "id": "2QgtKWLm69lS",
      "metadata": {
        "colab": {
          "base_uri": "https://localhost:8080/",
          "height": 175
        },
        "id": "2QgtKWLm69lS",
        "outputId": "a8bb6c0b-587f-416f-c3fc-017862eb913b"
      },
      "outputs": [
        {
          "output_type": "execute_result",
          "data": {
            "text/plain": [
              "                             date  \\\n",
              "count                        8789   \n",
              "unique                       8578   \n",
              "top     2022-01-07 16:34:48+00:00   \n",
              "freq                            2   \n",
              "\n",
              "                                                  comment platform sentiment  \n",
              "count                                                8789     8788      8782  \n",
              "unique                                               8775        3         4  \n",
              "top     @airtel_tanzania nawapenda sana huduma hii ya ...  Twitter        -1  \n",
              "freq                                                    2     8786      4649  "
            ],
            "text/html": [
              "\n",
              "  <div id=\"df-a21e809b-b3cb-447c-b1ad-43375b18b5d9\">\n",
              "    <div class=\"colab-df-container\">\n",
              "      <div>\n",
              "<style scoped>\n",
              "    .dataframe tbody tr th:only-of-type {\n",
              "        vertical-align: middle;\n",
              "    }\n",
              "\n",
              "    .dataframe tbody tr th {\n",
              "        vertical-align: top;\n",
              "    }\n",
              "\n",
              "    .dataframe thead th {\n",
              "        text-align: right;\n",
              "    }\n",
              "</style>\n",
              "<table border=\"1\" class=\"dataframe\">\n",
              "  <thead>\n",
              "    <tr style=\"text-align: right;\">\n",
              "      <th></th>\n",
              "      <th>date</th>\n",
              "      <th>comment</th>\n",
              "      <th>platform</th>\n",
              "      <th>sentiment</th>\n",
              "    </tr>\n",
              "  </thead>\n",
              "  <tbody>\n",
              "    <tr>\n",
              "      <th>count</th>\n",
              "      <td>8789</td>\n",
              "      <td>8789</td>\n",
              "      <td>8788</td>\n",
              "      <td>8782</td>\n",
              "    </tr>\n",
              "    <tr>\n",
              "      <th>unique</th>\n",
              "      <td>8578</td>\n",
              "      <td>8775</td>\n",
              "      <td>3</td>\n",
              "      <td>4</td>\n",
              "    </tr>\n",
              "    <tr>\n",
              "      <th>top</th>\n",
              "      <td>2022-01-07 16:34:48+00:00</td>\n",
              "      <td>@airtel_tanzania nawapenda sana huduma hii ya ...</td>\n",
              "      <td>Twitter</td>\n",
              "      <td>-1</td>\n",
              "    </tr>\n",
              "    <tr>\n",
              "      <th>freq</th>\n",
              "      <td>2</td>\n",
              "      <td>2</td>\n",
              "      <td>8786</td>\n",
              "      <td>4649</td>\n",
              "    </tr>\n",
              "  </tbody>\n",
              "</table>\n",
              "</div>\n",
              "      <button class=\"colab-df-convert\" onclick=\"convertToInteractive('df-a21e809b-b3cb-447c-b1ad-43375b18b5d9')\"\n",
              "              title=\"Convert this dataframe to an interactive table.\"\n",
              "              style=\"display:none;\">\n",
              "        \n",
              "  <svg xmlns=\"http://www.w3.org/2000/svg\" height=\"24px\"viewBox=\"0 0 24 24\"\n",
              "       width=\"24px\">\n",
              "    <path d=\"M0 0h24v24H0V0z\" fill=\"none\"/>\n",
              "    <path d=\"M18.56 5.44l.94 2.06.94-2.06 2.06-.94-2.06-.94-.94-2.06-.94 2.06-2.06.94zm-11 1L8.5 8.5l.94-2.06 2.06-.94-2.06-.94L8.5 2.5l-.94 2.06-2.06.94zm10 10l.94 2.06.94-2.06 2.06-.94-2.06-.94-.94-2.06-.94 2.06-2.06.94z\"/><path d=\"M17.41 7.96l-1.37-1.37c-.4-.4-.92-.59-1.43-.59-.52 0-1.04.2-1.43.59L10.3 9.45l-7.72 7.72c-.78.78-.78 2.05 0 2.83L4 21.41c.39.39.9.59 1.41.59.51 0 1.02-.2 1.41-.59l7.78-7.78 2.81-2.81c.8-.78.8-2.07 0-2.86zM5.41 20L4 18.59l7.72-7.72 1.47 1.35L5.41 20z\"/>\n",
              "  </svg>\n",
              "      </button>\n",
              "      \n",
              "  <style>\n",
              "    .colab-df-container {\n",
              "      display:flex;\n",
              "      flex-wrap:wrap;\n",
              "      gap: 12px;\n",
              "    }\n",
              "\n",
              "    .colab-df-convert {\n",
              "      background-color: #E8F0FE;\n",
              "      border: none;\n",
              "      border-radius: 50%;\n",
              "      cursor: pointer;\n",
              "      display: none;\n",
              "      fill: #1967D2;\n",
              "      height: 32px;\n",
              "      padding: 0 0 0 0;\n",
              "      width: 32px;\n",
              "    }\n",
              "\n",
              "    .colab-df-convert:hover {\n",
              "      background-color: #E2EBFA;\n",
              "      box-shadow: 0px 1px 2px rgba(60, 64, 67, 0.3), 0px 1px 3px 1px rgba(60, 64, 67, 0.15);\n",
              "      fill: #174EA6;\n",
              "    }\n",
              "\n",
              "    [theme=dark] .colab-df-convert {\n",
              "      background-color: #3B4455;\n",
              "      fill: #D2E3FC;\n",
              "    }\n",
              "\n",
              "    [theme=dark] .colab-df-convert:hover {\n",
              "      background-color: #434B5C;\n",
              "      box-shadow: 0px 1px 3px 1px rgba(0, 0, 0, 0.15);\n",
              "      filter: drop-shadow(0px 1px 2px rgba(0, 0, 0, 0.3));\n",
              "      fill: #FFFFFF;\n",
              "    }\n",
              "  </style>\n",
              "\n",
              "      <script>\n",
              "        const buttonEl =\n",
              "          document.querySelector('#df-a21e809b-b3cb-447c-b1ad-43375b18b5d9 button.colab-df-convert');\n",
              "        buttonEl.style.display =\n",
              "          google.colab.kernel.accessAllowed ? 'block' : 'none';\n",
              "\n",
              "        async function convertToInteractive(key) {\n",
              "          const element = document.querySelector('#df-a21e809b-b3cb-447c-b1ad-43375b18b5d9');\n",
              "          const dataTable =\n",
              "            await google.colab.kernel.invokeFunction('convertToInteractive',\n",
              "                                                     [key], {});\n",
              "          if (!dataTable) return;\n",
              "\n",
              "          const docLinkHtml = 'Like what you see? Visit the ' +\n",
              "            '<a target=\"_blank\" href=https://colab.research.google.com/notebooks/data_table.ipynb>data table notebook</a>'\n",
              "            + ' to learn more about interactive tables.';\n",
              "          element.innerHTML = '';\n",
              "          dataTable['output_type'] = 'display_data';\n",
              "          await google.colab.output.renderOutput(dataTable, element);\n",
              "          const docLink = document.createElement('div');\n",
              "          docLink.innerHTML = docLinkHtml;\n",
              "          element.appendChild(docLink);\n",
              "        }\n",
              "      </script>\n",
              "    </div>\n",
              "  </div>\n",
              "  "
            ]
          },
          "metadata": {},
          "execution_count": 48
        }
      ],
      "source": [
        "telecom_data.describe()"
      ]
    },
    {
      "cell_type": "code",
      "execution_count": 49,
      "id": "f1af075a",
      "metadata": {
        "colab": {
          "base_uri": "https://localhost:8080/"
        },
        "id": "f1af075a",
        "outputId": "9aa41787-16a6-4064-8e58-81c1ba8bc0ca",
        "scrolled": true
      },
      "outputs": [
        {
          "output_type": "execute_result",
          "data": {
            "text/plain": [
              "date         1\n",
              "comment      1\n",
              "platform     2\n",
              "sentiment    8\n",
              "dtype: int64"
            ]
          },
          "metadata": {},
          "execution_count": 49
        }
      ],
      "source": [
        "telecom_data.isna().sum()"
      ]
    },
    {
      "cell_type": "code",
      "execution_count": 50,
      "id": "KSI9lbp-yLHg",
      "metadata": {
        "colab": {
          "base_uri": "https://localhost:8080/"
        },
        "id": "KSI9lbp-yLHg",
        "outputId": "eeee660e-5253-4dc4-b3fb-26d2840cb594"
      },
      "outputs": [
        {
          "output_type": "execute_result",
          "data": {
            "text/plain": [
              "date         object\n",
              "comment      object\n",
              "platform     object\n",
              "sentiment    object\n",
              "dtype: object"
            ]
          },
          "metadata": {},
          "execution_count": 50
        }
      ],
      "source": [
        "telecom_data.dtypes"
      ]
    },
    {
      "cell_type": "markdown",
      "id": "ZV-DePmKCBic",
      "metadata": {
        "id": "ZV-DePmKCBic"
      },
      "source": []
    },
    {
      "cell_type": "code",
      "execution_count": 51,
      "id": "5bS9ioLEyafB",
      "metadata": {
        "colab": {
          "base_uri": "https://localhost:8080/"
        },
        "id": "5bS9ioLEyafB",
        "outputId": "e59b3b52-aab1-4ff1-bb3f-ddbb11ed3ac0"
      },
      "outputs": [
        {
          "output_type": "execute_result",
          "data": {
            "text/plain": [
              "-1           4649\n",
              "0            3567\n",
              "1             565\n",
              "complains       1\n",
              "Name: sentiment, dtype: int64"
            ]
          },
          "metadata": {},
          "execution_count": 51
        }
      ],
      "source": [
        "telecom_data['sentiment'].value_counts()"
      ]
    },
    {
      "cell_type": "code",
      "execution_count": 52,
      "id": "AMi2koQBwky7",
      "metadata": {
        "colab": {
          "base_uri": "https://localhost:8080/",
          "height": 81
        },
        "id": "AMi2koQBwky7",
        "outputId": "50429b16-188e-4e90-ca15-0a48307b776a"
      },
      "outputs": [
        {
          "output_type": "execute_result",
          "data": {
            "text/plain": [
              "         date comment platform  sentiment\n",
              "1698  Twitter       0  network  complains"
            ],
            "text/html": [
              "\n",
              "  <div id=\"df-bcaa760d-27a8-4eea-8f6b-c4017d82f0cf\">\n",
              "    <div class=\"colab-df-container\">\n",
              "      <div>\n",
              "<style scoped>\n",
              "    .dataframe tbody tr th:only-of-type {\n",
              "        vertical-align: middle;\n",
              "    }\n",
              "\n",
              "    .dataframe tbody tr th {\n",
              "        vertical-align: top;\n",
              "    }\n",
              "\n",
              "    .dataframe thead th {\n",
              "        text-align: right;\n",
              "    }\n",
              "</style>\n",
              "<table border=\"1\" class=\"dataframe\">\n",
              "  <thead>\n",
              "    <tr style=\"text-align: right;\">\n",
              "      <th></th>\n",
              "      <th>date</th>\n",
              "      <th>comment</th>\n",
              "      <th>platform</th>\n",
              "      <th>sentiment</th>\n",
              "    </tr>\n",
              "  </thead>\n",
              "  <tbody>\n",
              "    <tr>\n",
              "      <th>1698</th>\n",
              "      <td>Twitter</td>\n",
              "      <td>0</td>\n",
              "      <td>network</td>\n",
              "      <td>complains</td>\n",
              "    </tr>\n",
              "  </tbody>\n",
              "</table>\n",
              "</div>\n",
              "      <button class=\"colab-df-convert\" onclick=\"convertToInteractive('df-bcaa760d-27a8-4eea-8f6b-c4017d82f0cf')\"\n",
              "              title=\"Convert this dataframe to an interactive table.\"\n",
              "              style=\"display:none;\">\n",
              "        \n",
              "  <svg xmlns=\"http://www.w3.org/2000/svg\" height=\"24px\"viewBox=\"0 0 24 24\"\n",
              "       width=\"24px\">\n",
              "    <path d=\"M0 0h24v24H0V0z\" fill=\"none\"/>\n",
              "    <path d=\"M18.56 5.44l.94 2.06.94-2.06 2.06-.94-2.06-.94-.94-2.06-.94 2.06-2.06.94zm-11 1L8.5 8.5l.94-2.06 2.06-.94-2.06-.94L8.5 2.5l-.94 2.06-2.06.94zm10 10l.94 2.06.94-2.06 2.06-.94-2.06-.94-.94-2.06-.94 2.06-2.06.94z\"/><path d=\"M17.41 7.96l-1.37-1.37c-.4-.4-.92-.59-1.43-.59-.52 0-1.04.2-1.43.59L10.3 9.45l-7.72 7.72c-.78.78-.78 2.05 0 2.83L4 21.41c.39.39.9.59 1.41.59.51 0 1.02-.2 1.41-.59l7.78-7.78 2.81-2.81c.8-.78.8-2.07 0-2.86zM5.41 20L4 18.59l7.72-7.72 1.47 1.35L5.41 20z\"/>\n",
              "  </svg>\n",
              "      </button>\n",
              "      \n",
              "  <style>\n",
              "    .colab-df-container {\n",
              "      display:flex;\n",
              "      flex-wrap:wrap;\n",
              "      gap: 12px;\n",
              "    }\n",
              "\n",
              "    .colab-df-convert {\n",
              "      background-color: #E8F0FE;\n",
              "      border: none;\n",
              "      border-radius: 50%;\n",
              "      cursor: pointer;\n",
              "      display: none;\n",
              "      fill: #1967D2;\n",
              "      height: 32px;\n",
              "      padding: 0 0 0 0;\n",
              "      width: 32px;\n",
              "    }\n",
              "\n",
              "    .colab-df-convert:hover {\n",
              "      background-color: #E2EBFA;\n",
              "      box-shadow: 0px 1px 2px rgba(60, 64, 67, 0.3), 0px 1px 3px 1px rgba(60, 64, 67, 0.15);\n",
              "      fill: #174EA6;\n",
              "    }\n",
              "\n",
              "    [theme=dark] .colab-df-convert {\n",
              "      background-color: #3B4455;\n",
              "      fill: #D2E3FC;\n",
              "    }\n",
              "\n",
              "    [theme=dark] .colab-df-convert:hover {\n",
              "      background-color: #434B5C;\n",
              "      box-shadow: 0px 1px 3px 1px rgba(0, 0, 0, 0.15);\n",
              "      filter: drop-shadow(0px 1px 2px rgba(0, 0, 0, 0.3));\n",
              "      fill: #FFFFFF;\n",
              "    }\n",
              "  </style>\n",
              "\n",
              "      <script>\n",
              "        const buttonEl =\n",
              "          document.querySelector('#df-bcaa760d-27a8-4eea-8f6b-c4017d82f0cf button.colab-df-convert');\n",
              "        buttonEl.style.display =\n",
              "          google.colab.kernel.accessAllowed ? 'block' : 'none';\n",
              "\n",
              "        async function convertToInteractive(key) {\n",
              "          const element = document.querySelector('#df-bcaa760d-27a8-4eea-8f6b-c4017d82f0cf');\n",
              "          const dataTable =\n",
              "            await google.colab.kernel.invokeFunction('convertToInteractive',\n",
              "                                                     [key], {});\n",
              "          if (!dataTable) return;\n",
              "\n",
              "          const docLinkHtml = 'Like what you see? Visit the ' +\n",
              "            '<a target=\"_blank\" href=https://colab.research.google.com/notebooks/data_table.ipynb>data table notebook</a>'\n",
              "            + ' to learn more about interactive tables.';\n",
              "          element.innerHTML = '';\n",
              "          dataTable['output_type'] = 'display_data';\n",
              "          await google.colab.output.renderOutput(dataTable, element);\n",
              "          const docLink = document.createElement('div');\n",
              "          docLink.innerHTML = docLinkHtml;\n",
              "          element.appendChild(docLink);\n",
              "        }\n",
              "      </script>\n",
              "    </div>\n",
              "  </div>\n",
              "  "
            ]
          },
          "metadata": {},
          "execution_count": 52
        }
      ],
      "source": [
        "telecom_data.loc[telecom_data['sentiment'] == 'complains']"
      ]
    },
    {
      "cell_type": "code",
      "execution_count": 53,
      "id": "mzcAxUKKFegE",
      "metadata": {
        "id": "mzcAxUKKFegE"
      },
      "outputs": [],
      "source": [
        "telecom_data = telecom_data.drop(index=1698, axis=1).reset_index(drop=True)"
      ]
    },
    {
      "cell_type": "code",
      "execution_count": 54,
      "id": "1d7uNXIuDH6S",
      "metadata": {
        "colab": {
          "base_uri": "https://localhost:8080/"
        },
        "id": "1d7uNXIuDH6S",
        "outputId": "7bd59231-b926-45cc-b8f2-f61dbac29bfd"
      },
      "outputs": [
        {
          "output_type": "execute_result",
          "data": {
            "text/plain": [
              "-1    4649\n",
              "0     3567\n",
              "1      565\n",
              "Name: sentiment, dtype: int64"
            ]
          },
          "metadata": {},
          "execution_count": 54
        }
      ],
      "source": [
        "telecom_data['sentiment'].value_counts()"
      ]
    },
    {
      "cell_type": "code",
      "execution_count": 55,
      "id": "a31719f0",
      "metadata": {
        "colab": {
          "base_uri": "https://localhost:8080/"
        },
        "id": "a31719f0",
        "outputId": "19c3e1f8-2cb7-4666-e278-09fa57c9461d"
      },
      "outputs": [
        {
          "output_type": "execute_result",
          "data": {
            "text/plain": [
              "11"
            ]
          },
          "metadata": {},
          "execution_count": 55
        }
      ],
      "source": [
        "telecom_data.duplicated().sum()"
      ]
    },
    {
      "cell_type": "markdown",
      "id": "8e404be6",
      "metadata": {
        "id": "8e404be6"
      },
      "source": [
        "# 3. Data Processing"
      ]
    },
    {
      "cell_type": "markdown",
      "id": "9477d5a2-beed-415c-918e-f654cc4d8b6a",
      "metadata": {
        "id": "9477d5a2-beed-415c-918e-f654cc4d8b6a"
      },
      "source": [
        "## 3.1 Remove duplicate"
      ]
    },
    {
      "cell_type": "code",
      "execution_count": 56,
      "id": "f77c54ce-2747-4fb8-b313-b71d089dfda8",
      "metadata": {
        "id": "f77c54ce-2747-4fb8-b313-b71d089dfda8"
      },
      "outputs": [],
      "source": [
        "telecom_data.drop_duplicates(subset=['comment'], keep='first', inplace=True)"
      ]
    },
    {
      "cell_type": "markdown",
      "id": "25f007f0-8e54-4d09-9e36-b961734e21c2",
      "metadata": {
        "id": "25f007f0-8e54-4d09-9e36-b961734e21c2"
      },
      "source": [
        "## 3.2 Remove null values"
      ]
    },
    {
      "cell_type": "code",
      "execution_count": 57,
      "id": "c5400514-a45c-4c03-b87e-d7b78d8ea862",
      "metadata": {
        "id": "c5400514-a45c-4c03-b87e-d7b78d8ea862"
      },
      "outputs": [],
      "source": [
        "telecom_data.dropna(subset=['sentiment', 'comment'], inplace=True)"
      ]
    },
    {
      "cell_type": "markdown",
      "id": "09794f53-b209-4962-8596-0fed6e7d5368",
      "metadata": {
        "id": "09794f53-b209-4962-8596-0fed6e7d5368"
      },
      "source": [
        "## check the dataset status"
      ]
    },
    {
      "cell_type": "code",
      "execution_count": 58,
      "id": "ab33ff06-817b-46e5-a1a2-0f3e7cb50753",
      "metadata": {
        "colab": {
          "base_uri": "https://localhost:8080/"
        },
        "id": "ab33ff06-817b-46e5-a1a2-0f3e7cb50753",
        "outputId": "664f73c9-a6c1-4825-b0f6-cad6eea3bda0",
        "tags": []
      },
      "outputs": [
        {
          "output_type": "execute_result",
          "data": {
            "text/plain": [
              "0"
            ]
          },
          "metadata": {},
          "execution_count": 58
        }
      ],
      "source": [
        "telecom_data.duplicated().sum()"
      ]
    },
    {
      "cell_type": "code",
      "execution_count": 59,
      "id": "7e482bf4-f690-4122-b743-de6a80f8980f",
      "metadata": {
        "colab": {
          "base_uri": "https://localhost:8080/"
        },
        "id": "7e482bf4-f690-4122-b743-de6a80f8980f",
        "outputId": "cae21d6a-4f86-49fc-833d-066f5f4b4a39"
      },
      "outputs": [
        {
          "output_type": "execute_result",
          "data": {
            "text/plain": [
              "date         0\n",
              "comment      0\n",
              "platform     0\n",
              "sentiment    0\n",
              "dtype: int64"
            ]
          },
          "metadata": {},
          "execution_count": 59
        }
      ],
      "source": [
        "telecom_data.isna().sum()"
      ]
    },
    {
      "cell_type": "code",
      "execution_count": 60,
      "id": "896115c1-1386-4f8a-9149-82a7a3ae404a",
      "metadata": {
        "colab": {
          "base_uri": "https://localhost:8080/"
        },
        "id": "896115c1-1386-4f8a-9149-82a7a3ae404a",
        "outputId": "175ad2ba-ab09-4bf6-a635-8fda275d7664",
        "tags": []
      },
      "outputs": [
        {
          "output_type": "execute_result",
          "data": {
            "text/plain": [
              "date         8767\n",
              "comment      8767\n",
              "platform     8767\n",
              "sentiment    8767\n",
              "dtype: int64"
            ]
          },
          "metadata": {},
          "execution_count": 60
        }
      ],
      "source": [
        "telecom_data.count()"
      ]
    },
    {
      "cell_type": "code",
      "execution_count": 61,
      "id": "40787d2d-738b-490c-98d2-f1e25a664d77",
      "metadata": {
        "colab": {
          "base_uri": "https://localhost:8080/",
          "height": 296
        },
        "id": "40787d2d-738b-490c-98d2-f1e25a664d77",
        "outputId": "0b2aad5e-ea20-43e1-a4f9-aae649447577",
        "tags": []
      },
      "outputs": [
        {
          "output_type": "execute_result",
          "data": {
            "text/plain": [
              "<Axes: xlabel='sentiment', ylabel='count'>"
            ]
          },
          "metadata": {},
          "execution_count": 61
        },
        {
          "output_type": "display_data",
          "data": {
            "text/plain": [
              "<Figure size 432x288 with 1 Axes>"
            ],
            "image/png": "[encoded data removed]"
          },
          "metadata": {
            "needs_background": "light"
          }
        }
      ],
      "source": [
        "sns.countplot(x=\"sentiment\", data=telecom_data)"
      ]
    },
    {
      "cell_type": "code",
      "execution_count": 62,
      "id": "c049013f-6dc5-4aad-8077-ff3ac7c59168",
      "metadata": {
        "colab": {
          "base_uri": "https://localhost:8080/"
        },
        "id": "c049013f-6dc5-4aad-8077-ff3ac7c59168",
        "outputId": "73f0eede-4282-4a2a-8da8-549b95804009",
        "tags": []
      },
      "outputs": [
        {
          "output_type": "stream",
          "name": "stdout",
          "text": [
            "<class 'pandas.core.frame.DataFrame'>\n",
            "Int64Index: 8767 entries, 0 to 8788\n",
            "Data columns (total 4 columns):\n",
            " #   Column     Non-Null Count  Dtype \n",
            "---  ------     --------------  ----- \n",
            " 0   date       8767 non-null   object\n",
            " 1   comment    8767 non-null   object\n",
            " 2   platform   8767 non-null   object\n",
            " 3   sentiment  8767 non-null   object\n",
            "dtypes: object(4)\n",
            "memory usage: 342.5+ KB\n"
          ]
        }
      ],
      "source": [
        "telecom_data.info()"
      ]
    },
    {
      "cell_type": "markdown",
      "id": "1504836d-3e15-4ab9-a821-9f3675da8ba7",
      "metadata": {
        "id": "1504836d-3e15-4ab9-a821-9f3675da8ba7"
      },
      "source": [
        "# 3.3 Cleaning"
      ]
    },
    {
      "cell_type": "code",
      "source": [
        "swahili_stopwords = [\n",
        "    'akasema', 'alikuwa', 'alisema', 'baada', 'basi', 'bila', 'cha', 'chini',\n",
        "    'hadi', 'hapo', 'hata', 'hivyo', 'hiyo', 'huku', 'huo', 'ila', 'ili',\n",
        "    'ilikuwa', 'juu', 'kama', 'karibu', 'katika', 'kila', 'kima', 'kisha',\n",
        "    'kubwa', 'kutoka', 'kuwa', 'kwa', 'kwamba', 'kwenda', 'kwenye', 'la',\n",
        "    'lakini', 'mara', 'mdogo', 'mimi', 'mkubwa', 'mmoja', 'moja', 'muda',\n",
        "    'mwenye', 'na', 'naye', 'ndani', 'ni', 'nini', 'nonkungu', 'pamoja', 'pia',\n",
        "    'sana', 'sasa', 'sauti', 'tafadhali', 'tena', 'tu', 'vile', 'wa', 'wakati',\n",
        "    'wake', 'walikuwa', 'wao', 'watu', 'wengine', 'wote', 'ya', 'hivi', 'huu',\n",
        "    'hii', 'yake', 'yangu', 'yao', 'yeye', 'yule', 'vya', 'za', 't', 'co',\n",
        "    'tz', 'au', 'tanzania', 'zaidi', 'zake', 'si','mm','ndo','hapa','je','hawa','nyie'\n",
        "]\n"
      ],
      "metadata": {
        "id": "AtLC5DIqBXgG"
      },
      "id": "AtLC5DIqBXgG",
      "execution_count": 63,
      "outputs": []
    },
    {
      "cell_type": "code",
      "execution_count": 64,
      "id": "502df416",
      "metadata": {
        "id": "502df416"
      },
      "outputs": [],
      "source": [
        "def clean_data_set(list_text):\n",
        "    new_list = []\n",
        "    stopwords_df = pd.read_csv(\"swahili_stopwords.csv\", dtype=str, low_memory=False, encoding=\"utf-8\")\n",
        "    #stopwords_df = swahili_stopwords\n",
        "    stopwords_list = list(stopwords_df['StopWords'])\n",
        "    \n",
        "    for x in list_text:\n",
        "        x = re.sub(r'@[\\w]+','', str(x)) # remove twitter handle\n",
        "        x = re.sub(r'\\w+:\\/{2}[\\d\\w-]+(\\.[\\d\\w-]+)*(?:(?:\\/[^\\s/]*))*', '', str(x)) # removes Url\n",
        "        x = re.sub(r'[^\\w\\s]',' ', str(x))    # Remove Panctuations /?!. \n",
        "        x = x.strip()                   # Remove leading and trailing spaces\n",
        "        x = re.sub(' +', ' ', x)        # Remove extra white spaces\n",
        "        x = re.sub('[^A-Za-z0-9]+', ' ', x)  # Remove special characters\n",
        "        x = x.lower()                   # Converts to lower case\n",
        "        x = ' '.join([word for word in x.split() if word not in stopwords_list]) # Removes stopwords\n",
        "        new_list.append(x)\n",
        "    return new_list"
      ]
    },
    {
      "cell_type": "code",
      "execution_count": 65,
      "id": "18371097",
      "metadata": {
        "id": "18371097"
      },
      "outputs": [],
      "source": [
        "telecom_data[\"clean_comment\"] = clean_data_set(telecom_data.comment.to_list())"
      ]
    },
    {
      "cell_type": "code",
      "execution_count": 66,
      "id": "f091dd4b",
      "metadata": {
        "colab": {
          "base_uri": "https://localhost:8080/",
          "height": 424
        },
        "id": "f091dd4b",
        "outputId": "db12555b-1fd1-4935-f165-b8cc0196293b"
      },
      "outputs": [
        {
          "output_type": "execute_result",
          "data": {
            "text/plain": [
              "                                                comment  \\\n",
              "0           Chezea songesha wew https://t.co/FfnSsIkZGU   \n",
              "1     Tafuta hela sana ili usilalamikie mabadiliko y...   \n",
              "2     Hivi huu mtandao wa Tigo una tatizo au simu ya...   \n",
              "3     @DaktariWaWatoto Tamtam bando ni ðŸ”¥ ila kuin...   \n",
              "4     @VodacomTanzania @ImranHussein84 Tatizo kifuru...   \n",
              "...                                                 ...   \n",
              "8784  @LuisaUhuru Unastream kutumia mtandao gani\\nÃ°...   \n",
              "8785  Sasa mnasema mmebadilisha vifurushi naomba mni...   \n",
              "8786  @George_Ambangil @Tigo_TZ Sasa kama ad ww unal...   \n",
              "8787  @mafolebaraka @Haloteltz Bora wewe mi nikitumi...   \n",
              "8788  @beth_kasinga Weuh sivyo situation zina ni cha...   \n",
              "\n",
              "                                          clean_comment  \n",
              "0                                   chezea songesha wew  \n",
              "1     tafuta hela usilalamikie mabadiliko vifurushi ...  \n",
              "2     mtandao tigo una tatizo simu siku tatu leo mam...  \n",
              "3                     tamtam bando kuinunulia mpk tpesa  \n",
              "4     tatizo kifurushi internet nw akikai awali una ...  \n",
              "...                                                 ...  \n",
              "8784                     unastream kutumia mtandao gani  \n",
              "8785  mnasema mmebadilisha vifurushi naomba mnitajie...  \n",
              "8786  ad ww unalalamika vo mm nan niendelee kutumia ...  \n",
              "8787  bora mi nikitumiwa pesa halopesa haiingii wala...  \n",
              "8788  weuh sivyo situation zina chapa but haziru tun...  \n",
              "\n",
              "[8767 rows x 2 columns]"
            ],
            "text/html": [
              "\n",
              "  <div id=\"df-f60c1239-8cc1-4b39-8ce4-18d3681140e8\">\n",
              "    <div class=\"colab-df-container\">\n",
              "      <div>\n",
              "<style scoped>\n",
              "    .dataframe tbody tr th:only-of-type {\n",
              "        vertical-align: middle;\n",
              "    }\n",
              "\n",
              "    .dataframe tbody tr th {\n",
              "        vertical-align: top;\n",
              "    }\n",
              "\n",
              "    .dataframe thead th {\n",
              "        text-align: right;\n",
              "    }\n",
              "</style>\n",
              "<table border=\"1\" class=\"dataframe\">\n",
              "  <thead>\n",
              "    <tr style=\"text-align: right;\">\n",
              "      <th></th>\n",
              "      <th>comment</th>\n",
              "      <th>clean_comment</th>\n",
              "    </tr>\n",
              "  </thead>\n",
              "  <tbody>\n",
              "    <tr>\n",
              "      <th>0</th>\n",
              "      <td>Chezea songesha wew https://t.co/FfnSsIkZGU</td>\n",
              "      <td>chezea songesha wew</td>\n",
              "    </tr>\n",
              "    <tr>\n",
              "      <th>1</th>\n",
              "      <td>Tafuta hela sana ili usilalamikie mabadiliko y...</td>\n",
              "      <td>tafuta hela usilalamikie mabadiliko vifurushi ...</td>\n",
              "    </tr>\n",
              "    <tr>\n",
              "      <th>2</th>\n",
              "      <td>Hivi huu mtandao wa Tigo una tatizo au simu ya...</td>\n",
              "      <td>mtandao tigo una tatizo simu siku tatu leo mam...</td>\n",
              "    </tr>\n",
              "    <tr>\n",
              "      <th>3</th>\n",
              "      <td>@DaktariWaWatoto Tamtam bando ni ðŸ”¥ ila kuin...</td>\n",
              "      <td>tamtam bando kuinunulia mpk tpesa</td>\n",
              "    </tr>\n",
              "    <tr>\n",
              "      <th>4</th>\n",
              "      <td>@VodacomTanzania @ImranHussein84 Tatizo kifuru...</td>\n",
              "      <td>tatizo kifurushi internet nw akikai awali una ...</td>\n",
              "    </tr>\n",
              "    <tr>\n",
              "      <th>...</th>\n",
              "      <td>...</td>\n",
              "      <td>...</td>\n",
              "    </tr>\n",
              "    <tr>\n",
              "      <th>8784</th>\n",
              "      <td>@LuisaUhuru Unastream kutumia mtandao gani\\nÃ°...</td>\n",
              "      <td>unastream kutumia mtandao gani</td>\n",
              "    </tr>\n",
              "    <tr>\n",
              "      <th>8785</th>\n",
              "      <td>Sasa mnasema mmebadilisha vifurushi naomba mni...</td>\n",
              "      <td>mnasema mmebadilisha vifurushi naomba mnitajie...</td>\n",
              "    </tr>\n",
              "    <tr>\n",
              "      <th>8786</th>\n",
              "      <td>@George_Ambangil @Tigo_TZ Sasa kama ad ww unal...</td>\n",
              "      <td>ad ww unalalamika vo mm nan niendelee kutumia ...</td>\n",
              "    </tr>\n",
              "    <tr>\n",
              "      <th>8787</th>\n",
              "      <td>@mafolebaraka @Haloteltz Bora wewe mi nikitumi...</td>\n",
              "      <td>bora mi nikitumiwa pesa halopesa haiingii wala...</td>\n",
              "    </tr>\n",
              "    <tr>\n",
              "      <th>8788</th>\n",
              "      <td>@beth_kasinga Weuh sivyo situation zina ni cha...</td>\n",
              "      <td>weuh sivyo situation zina chapa but haziru tun...</td>\n",
              "    </tr>\n",
              "  </tbody>\n",
              "</table>\n",
              "<p>8767 rows × 2 columns</p>\n",
              "</div>\n",
              "      <button class=\"colab-df-convert\" onclick=\"convertToInteractive('df-f60c1239-8cc1-4b39-8ce4-18d3681140e8')\"\n",
              "              title=\"Convert this dataframe to an interactive table.\"\n",
              "              style=\"display:none;\">\n",
              "        \n",
              "  <svg xmlns=\"http://www.w3.org/2000/svg\" height=\"24px\"viewBox=\"0 0 24 24\"\n",
              "       width=\"24px\">\n",
              "    <path d=\"M0 0h24v24H0V0z\" fill=\"none\"/>\n",
              "    <path d=\"M18.56 5.44l.94 2.06.94-2.06 2.06-.94-2.06-.94-.94-2.06-.94 2.06-2.06.94zm-11 1L8.5 8.5l.94-2.06 2.06-.94-2.06-.94L8.5 2.5l-.94 2.06-2.06.94zm10 10l.94 2.06.94-2.06 2.06-.94-2.06-.94-.94-2.06-.94 2.06-2.06.94z\"/><path d=\"M17.41 7.96l-1.37-1.37c-.4-.4-.92-.59-1.43-.59-.52 0-1.04.2-1.43.59L10.3 9.45l-7.72 7.72c-.78.78-.78 2.05 0 2.83L4 21.41c.39.39.9.59 1.41.59.51 0 1.02-.2 1.41-.59l7.78-7.78 2.81-2.81c.8-.78.8-2.07 0-2.86zM5.41 20L4 18.59l7.72-7.72 1.47 1.35L5.41 20z\"/>\n",
              "  </svg>\n",
              "      </button>\n",
              "      \n",
              "  <style>\n",
              "    .colab-df-container {\n",
              "      display:flex;\n",
              "      flex-wrap:wrap;\n",
              "      gap: 12px;\n",
              "    }\n",
              "\n",
              "    .colab-df-convert {\n",
              "      background-color: #E8F0FE;\n",
              "      border: none;\n",
              "      border-radius: 50%;\n",
              "      cursor: pointer;\n",
              "      display: none;\n",
              "      fill: #1967D2;\n",
              "      height: 32px;\n",
              "      padding: 0 0 0 0;\n",
              "      width: 32px;\n",
              "    }\n",
              "\n",
              "    .colab-df-convert:hover {\n",
              "      background-color: #E2EBFA;\n",
              "      box-shadow: 0px 1px 2px rgba(60, 64, 67, 0.3), 0px 1px 3px 1px rgba(60, 64, 67, 0.15);\n",
              "      fill: #174EA6;\n",
              "    }\n",
              "\n",
              "    [theme=dark] .colab-df-convert {\n",
              "      background-color: #3B4455;\n",
              "      fill: #D2E3FC;\n",
              "    }\n",
              "\n",
              "    [theme=dark] .colab-df-convert:hover {\n",
              "      background-color: #434B5C;\n",
              "      box-shadow: 0px 1px 3px 1px rgba(0, 0, 0, 0.15);\n",
              "      filter: drop-shadow(0px 1px 2px rgba(0, 0, 0, 0.3));\n",
              "      fill: #FFFFFF;\n",
              "    }\n",
              "  </style>\n",
              "\n",
              "      <script>\n",
              "        const buttonEl =\n",
              "          document.querySelector('#df-f60c1239-8cc1-4b39-8ce4-18d3681140e8 button.colab-df-convert');\n",
              "        buttonEl.style.display =\n",
              "          google.colab.kernel.accessAllowed ? 'block' : 'none';\n",
              "\n",
              "        async function convertToInteractive(key) {\n",
              "          const element = document.querySelector('#df-f60c1239-8cc1-4b39-8ce4-18d3681140e8');\n",
              "          const dataTable =\n",
              "            await google.colab.kernel.invokeFunction('convertToInteractive',\n",
              "                                                     [key], {});\n",
              "          if (!dataTable) return;\n",
              "\n",
              "          const docLinkHtml = 'Like what you see? Visit the ' +\n",
              "            '<a target=\"_blank\" href=https://colab.research.google.com/notebooks/data_table.ipynb>data table notebook</a>'\n",
              "            + ' to learn more about interactive tables.';\n",
              "          element.innerHTML = '';\n",
              "          dataTable['output_type'] = 'display_data';\n",
              "          await google.colab.output.renderOutput(dataTable, element);\n",
              "          const docLink = document.createElement('div');\n",
              "          docLink.innerHTML = docLinkHtml;\n",
              "          element.appendChild(docLink);\n",
              "        }\n",
              "      </script>\n",
              "    </div>\n",
              "  </div>\n",
              "  "
            ]
          },
          "metadata": {},
          "execution_count": 66
        }
      ],
      "source": [
        "telecom_data[['comment', 'clean_comment']]"
      ]
    },
    {
      "cell_type": "code",
      "execution_count": 67,
      "id": "741fcaff-a255-4550-b67a-66c4f98ee554",
      "metadata": {
        "id": "741fcaff-a255-4550-b67a-66c4f98ee554"
      },
      "outputs": [],
      "source": [
        "telecom_data.to_csv(\"clean_telecom_data.csv\", index=False)"
      ]
    },
    {
      "cell_type": "markdown",
      "id": "9a6832cc-0073-4961-a61b-849ab161be0d",
      "metadata": {
        "id": "9a6832cc-0073-4961-a61b-849ab161be0d"
      },
      "source": [
        "# 4 Modeling"
      ]
    },
    {
      "cell_type": "code",
      "execution_count": 68,
      "id": "9704a336-7ffb-4d4f-887b-3b330467b6d8",
      "metadata": {
        "id": "9704a336-7ffb-4d4f-887b-3b330467b6d8"
      },
      "outputs": [],
      "source": [
        "clean_telecom_data = pd.read_csv(\"clean_telecom_data.csv\")"
      ]
    },
    {
      "cell_type": "code",
      "execution_count": 69,
      "id": "9OFUbpUQiYH1",
      "metadata": {
        "id": "9OFUbpUQiYH1"
      },
      "outputs": [],
      "source": [
        "path = 'models'\n",
        "isExisting = os.path.exists(path)\n",
        "if not isExisting:\n",
        "  os.mkdir(path)"
      ]
    },
    {
      "cell_type": "code",
      "execution_count": 70,
      "id": "3ae365d4-3fab-42df-b324-8925143e4b5c",
      "metadata": {
        "colab": {
          "base_uri": "https://localhost:8080/",
          "height": 424
        },
        "id": "3ae365d4-3fab-42df-b324-8925143e4b5c",
        "outputId": "32a7a4e5-c738-4c40-849b-c0ade3e6f96e",
        "tags": []
      },
      "outputs": [
        {
          "output_type": "execute_result",
          "data": {
            "text/plain": [
              "                                          clean_comment sentiment\n",
              "0                                   chezea songesha wew         1\n",
              "1     tafuta hela usilalamikie mabadiliko vifurushi ...         1\n",
              "2     mtandao tigo una tatizo simu siku tatu leo mam...        -1\n",
              "3                     tamtam bando kuinunulia mpk tpesa         1\n",
              "4     tatizo kifurushi internet nw akikai awali una ...        -1\n",
              "...                                                 ...       ...\n",
              "8784                     unastream kutumia mtandao gani         0\n",
              "8785  mnasema mmebadilisha vifurushi naomba mnitajie...        -1\n",
              "8786  ad ww unalalamika vo mm nan niendelee kutumia ...        -1\n",
              "8787  bora mi nikitumiwa pesa halopesa haiingii wala...        -1\n",
              "8788  weuh sivyo situation zina chapa but haziru tun...         0\n",
              "\n",
              "[8767 rows x 2 columns]"
            ],
            "text/html": [
              "\n",
              "  <div id=\"df-5aba8da0-0483-46e6-a3d0-86cfa82c6a00\">\n",
              "    <div class=\"colab-df-container\">\n",
              "      <div>\n",
              "<style scoped>\n",
              "    .dataframe tbody tr th:only-of-type {\n",
              "        vertical-align: middle;\n",
              "    }\n",
              "\n",
              "    .dataframe tbody tr th {\n",
              "        vertical-align: top;\n",
              "    }\n",
              "\n",
              "    .dataframe thead th {\n",
              "        text-align: right;\n",
              "    }\n",
              "</style>\n",
              "<table border=\"1\" class=\"dataframe\">\n",
              "  <thead>\n",
              "    <tr style=\"text-align: right;\">\n",
              "      <th></th>\n",
              "      <th>clean_comment</th>\n",
              "      <th>sentiment</th>\n",
              "    </tr>\n",
              "  </thead>\n",
              "  <tbody>\n",
              "    <tr>\n",
              "      <th>0</th>\n",
              "      <td>chezea songesha wew</td>\n",
              "      <td>1</td>\n",
              "    </tr>\n",
              "    <tr>\n",
              "      <th>1</th>\n",
              "      <td>tafuta hela usilalamikie mabadiliko vifurushi ...</td>\n",
              "      <td>1</td>\n",
              "    </tr>\n",
              "    <tr>\n",
              "      <th>2</th>\n",
              "      <td>mtandao tigo una tatizo simu siku tatu leo mam...</td>\n",
              "      <td>-1</td>\n",
              "    </tr>\n",
              "    <tr>\n",
              "      <th>3</th>\n",
              "      <td>tamtam bando kuinunulia mpk tpesa</td>\n",
              "      <td>1</td>\n",
              "    </tr>\n",
              "    <tr>\n",
              "      <th>4</th>\n",
              "      <td>tatizo kifurushi internet nw akikai awali una ...</td>\n",
              "      <td>-1</td>\n",
              "    </tr>\n",
              "    <tr>\n",
              "      <th>...</th>\n",
              "      <td>...</td>\n",
              "      <td>...</td>\n",
              "    </tr>\n",
              "    <tr>\n",
              "      <th>8784</th>\n",
              "      <td>unastream kutumia mtandao gani</td>\n",
              "      <td>0</td>\n",
              "    </tr>\n",
              "    <tr>\n",
              "      <th>8785</th>\n",
              "      <td>mnasema mmebadilisha vifurushi naomba mnitajie...</td>\n",
              "      <td>-1</td>\n",
              "    </tr>\n",
              "    <tr>\n",
              "      <th>8786</th>\n",
              "      <td>ad ww unalalamika vo mm nan niendelee kutumia ...</td>\n",
              "      <td>-1</td>\n",
              "    </tr>\n",
              "    <tr>\n",
              "      <th>8787</th>\n",
              "      <td>bora mi nikitumiwa pesa halopesa haiingii wala...</td>\n",
              "      <td>-1</td>\n",
              "    </tr>\n",
              "    <tr>\n",
              "      <th>8788</th>\n",
              "      <td>weuh sivyo situation zina chapa but haziru tun...</td>\n",
              "      <td>0</td>\n",
              "    </tr>\n",
              "  </tbody>\n",
              "</table>\n",
              "<p>8767 rows × 2 columns</p>\n",
              "</div>\n",
              "      <button class=\"colab-df-convert\" onclick=\"convertToInteractive('df-5aba8da0-0483-46e6-a3d0-86cfa82c6a00')\"\n",
              "              title=\"Convert this dataframe to an interactive table.\"\n",
              "              style=\"display:none;\">\n",
              "        \n",
              "  <svg xmlns=\"http://www.w3.org/2000/svg\" height=\"24px\"viewBox=\"0 0 24 24\"\n",
              "       width=\"24px\">\n",
              "    <path d=\"M0 0h24v24H0V0z\" fill=\"none\"/>\n",
              "    <path d=\"M18.56 5.44l.94 2.06.94-2.06 2.06-.94-2.06-.94-.94-2.06-.94 2.06-2.06.94zm-11 1L8.5 8.5l.94-2.06 2.06-.94-2.06-.94L8.5 2.5l-.94 2.06-2.06.94zm10 10l.94 2.06.94-2.06 2.06-.94-2.06-.94-.94-2.06-.94 2.06-2.06.94z\"/><path d=\"M17.41 7.96l-1.37-1.37c-.4-.4-.92-.59-1.43-.59-.52 0-1.04.2-1.43.59L10.3 9.45l-7.72 7.72c-.78.78-.78 2.05 0 2.83L4 21.41c.39.39.9.59 1.41.59.51 0 1.02-.2 1.41-.59l7.78-7.78 2.81-2.81c.8-.78.8-2.07 0-2.86zM5.41 20L4 18.59l7.72-7.72 1.47 1.35L5.41 20z\"/>\n",
              "  </svg>\n",
              "      </button>\n",
              "      \n",
              "  <style>\n",
              "    .colab-df-container {\n",
              "      display:flex;\n",
              "      flex-wrap:wrap;\n",
              "      gap: 12px;\n",
              "    }\n",
              "\n",
              "    .colab-df-convert {\n",
              "      background-color: #E8F0FE;\n",
              "      border: none;\n",
              "      border-radius: 50%;\n",
              "      cursor: pointer;\n",
              "      display: none;\n",
              "      fill: #1967D2;\n",
              "      height: 32px;\n",
              "      padding: 0 0 0 0;\n",
              "      width: 32px;\n",
              "    }\n",
              "\n",
              "    .colab-df-convert:hover {\n",
              "      background-color: #E2EBFA;\n",
              "      box-shadow: 0px 1px 2px rgba(60, 64, 67, 0.3), 0px 1px 3px 1px rgba(60, 64, 67, 0.15);\n",
              "      fill: #174EA6;\n",
              "    }\n",
              "\n",
              "    [theme=dark] .colab-df-convert {\n",
              "      background-color: #3B4455;\n",
              "      fill: #D2E3FC;\n",
              "    }\n",
              "\n",
              "    [theme=dark] .colab-df-convert:hover {\n",
              "      background-color: #434B5C;\n",
              "      box-shadow: 0px 1px 3px 1px rgba(0, 0, 0, 0.15);\n",
              "      filter: drop-shadow(0px 1px 2px rgba(0, 0, 0, 0.3));\n",
              "      fill: #FFFFFF;\n",
              "    }\n",
              "  </style>\n",
              "\n",
              "      <script>\n",
              "        const buttonEl =\n",
              "          document.querySelector('#df-5aba8da0-0483-46e6-a3d0-86cfa82c6a00 button.colab-df-convert');\n",
              "        buttonEl.style.display =\n",
              "          google.colab.kernel.accessAllowed ? 'block' : 'none';\n",
              "\n",
              "        async function convertToInteractive(key) {\n",
              "          const element = document.querySelector('#df-5aba8da0-0483-46e6-a3d0-86cfa82c6a00');\n",
              "          const dataTable =\n",
              "            await google.colab.kernel.invokeFunction('convertToInteractive',\n",
              "                                                     [key], {});\n",
              "          if (!dataTable) return;\n",
              "\n",
              "          const docLinkHtml = 'Like what you see? Visit the ' +\n",
              "            '<a target=\"_blank\" href=https://colab.research.google.com/notebooks/data_table.ipynb>data table notebook</a>'\n",
              "            + ' to learn more about interactive tables.';\n",
              "          element.innerHTML = '';\n",
              "          dataTable['output_type'] = 'display_data';\n",
              "          await google.colab.output.renderOutput(dataTable, element);\n",
              "          const docLink = document.createElement('div');\n",
              "          docLink.innerHTML = docLinkHtml;\n",
              "          element.appendChild(docLink);\n",
              "        }\n",
              "      </script>\n",
              "    </div>\n",
              "  </div>\n",
              "  "
            ]
          },
          "metadata": {},
          "execution_count": 70
        }
      ],
      "source": [
        "telecom_data[[\"clean_comment\", 'sentiment']]"
      ]
    },
    {
      "cell_type": "code",
      "source": [
        "labels = map(lambda x: dict(enumerate(telecom_data['sentiment']))[x], telecom_data['sentiment'])\n",
        "#labels = map(lambda x: dict(enumerate(data['target_names']))[x], data['target'])"
      ],
      "metadata": {
        "id": "ObSpWEYS2u-d"
      },
      "id": "ObSpWEYS2u-d",
      "execution_count": 71,
      "outputs": []
    },
    {
      "cell_type": "code",
      "execution_count": 72,
      "id": "d1904e89-92f5-4f53-87a3-a5a2e2dc2e97",
      "metadata": {
        "id": "d1904e89-92f5-4f53-87a3-a5a2e2dc2e97"
      },
      "outputs": [],
      "source": [
        "# Split datasate into training and test chunks with a ratio of 8:0 respective\n",
        "X_train, X_test, y_train, y_test = train_test_split(clean_telecom_data[\"clean_comment\"], clean_telecom_data[\"sentiment\"], test_size=0.2, random_state=42, shuffle=True, stratify=None)"
      ]
    },
    {
      "cell_type": "code",
      "execution_count": 73,
      "id": "2016dfa9-7e8c-4108-be71-d73dcea5416f",
      "metadata": {
        "colab": {
          "base_uri": "https://localhost:8080/"
        },
        "id": "2016dfa9-7e8c-4108-be71-d73dcea5416f",
        "outputId": "2bdb0ef3-6e9e-4a94-fa2b-eeb8d09ea379"
      },
      "outputs": [
        {
          "output_type": "stream",
          "name": "stdout",
          "text": [
            "Training sample size =  7013\n"
          ]
        }
      ],
      "source": [
        "print(\"Training sample size = \", X_train.shape[0])"
      ]
    },
    {
      "cell_type": "code",
      "execution_count": 74,
      "id": "8b05cc4e-0b2f-4c0e-9b7d-b6ce5a62e189",
      "metadata": {
        "colab": {
          "base_uri": "https://localhost:8080/"
        },
        "id": "8b05cc4e-0b2f-4c0e-9b7d-b6ce5a62e189",
        "outputId": "50868a08-7743-4b3c-b0af-3845b5ee3c6d"
      },
      "outputs": [
        {
          "output_type": "stream",
          "name": "stdout",
          "text": [
            "Testing sample size =  1754\n"
          ]
        }
      ],
      "source": [
        "print(\"Testing sample size = \", X_test.shape[0])"
      ]
    },
    {
      "cell_type": "code",
      "execution_count": 75,
      "id": "ZEc3m2eoMVn2",
      "metadata": {
        "colab": {
          "base_uri": "https://localhost:8080/"
        },
        "id": "ZEc3m2eoMVn2",
        "outputId": "78b3cb26-c6f1-485c-c984-f75fde223c7a"
      },
      "outputs": [
        {
          "output_type": "execute_result",
          "data": {
            "text/plain": [
              "date             8767\n",
              "comment          8767\n",
              "platform         8767\n",
              "sentiment        8767\n",
              "clean_comment    8767\n",
              "dtype: int64"
            ]
          },
          "metadata": {},
          "execution_count": 75
        }
      ],
      "source": [
        "telecom_data.count()"
      ]
    },
    {
      "cell_type": "markdown",
      "id": "1691e079-5b0b-4738-adbe-bb4c93a1f8be",
      "metadata": {
        "id": "1691e079-5b0b-4738-adbe-bb4c93a1f8be"
      },
      "source": [
        "# 4.1 SUPPORT VECTOR MACHINE (SVM)"
      ]
    },
    {
      "cell_type": "code",
      "execution_count": 76,
      "id": "909fa7e5-6a58-4e14-be1c-bc08040d3337",
      "metadata": {
        "id": "909fa7e5-6a58-4e14-be1c-bc08040d3337"
      },
      "outputs": [],
      "source": [
        "# Initialize a vectorization and modelling pipeline\n",
        "svm_pipeline = Pipeline([\n",
        "     ('vect', CountVectorizer(ngram_range=(1,1))),\n",
        "     ('tfidf', TfidfTransformer()),\n",
        "     ('clf', SVC(kernel = 'sigmoid', random_state=0, gamma='scale', C=1.2, probability=True)), #tunned svm\n",
        " ])"
      ]
    },
    {
      "cell_type": "code",
      "execution_count": 77,
      "id": "b049b5ff-62b9-44ef-8ced-4bd34ed9ae8a",
      "metadata": {
        "colab": {
          "base_uri": "https://localhost:8080/",
          "height": 161
        },
        "id": "b049b5ff-62b9-44ef-8ced-4bd34ed9ae8a",
        "outputId": "fa7c737a-913c-40ea-b52d-92c89a4b8c94"
      },
      "outputs": [
        {
          "output_type": "execute_result",
          "data": {
            "text/plain": [
              "Pipeline(steps=[('vect', CountVectorizer()), ('tfidf', TfidfTransformer()),\n",
              "                ('clf',\n",
              "                 SVC(C=1.2, kernel='sigmoid', probability=True,\n",
              "                     random_state=0))])"
            ],
            "text/html": [
              "<style>#sk-container-id-1 {color: black;background-color: white;}#sk-container-id-1 pre{padding: 0;}#sk-container-id-1 div.sk-toggleable {background-color: white;}#sk-container-id-1 label.sk-toggleable__label {cursor: pointer;display: block;width: 100%;margin-bottom: 0;padding: 0.3em;box-sizing: border-box;text-align: center;}#sk-container-id-1 label.sk-toggleable__label-arrow:before {content: \"▸\";float: left;margin-right: 0.25em;color: #696969;}#sk-container-id-1 label.sk-toggleable__label-arrow:hover:before {color: black;}#sk-container-id-1 div.sk-estimator:hover label.sk-toggleable__label-arrow:before {color: black;}#sk-container-id-1 div.sk-toggleable__content {max-height: 0;max-width: 0;overflow: hidden;text-align: left;background-color: #f0f8ff;}#sk-container-id-1 div.sk-toggleable__content pre {margin: 0.2em;color: black;border-radius: 0.25em;background-color: #f0f8ff;}#sk-container-id-1 input.sk-toggleable__control:checked~div.sk-toggleable__content {max-height: 200px;max-width: 100%;overflow: auto;}#sk-container-id-1 input.sk-toggleable__control:checked~label.sk-toggleable__label-arrow:before {content: \"▾\";}#sk-container-id-1 div.sk-estimator input.sk-toggleable__control:checked~label.sk-toggleable__label {background-color: #d4ebff;}#sk-container-id-1 div.sk-label input.sk-toggleable__control:checked~label.sk-toggleable__label {background-color: #d4ebff;}#sk-container-id-1 input.sk-hidden--visually {border: 0;clip: rect(1px 1px 1px 1px);clip: rect(1px, 1px, 1px, 1px);height: 1px;margin: -1px;overflow: hidden;padding: 0;position: absolute;width: 1px;}#sk-container-id-1 div.sk-estimator {font-family: monospace;background-color: #f0f8ff;border: 1px dotted black;border-radius: 0.25em;box-sizing: border-box;margin-bottom: 0.5em;}#sk-container-id-1 div.sk-estimator:hover {background-color: #d4ebff;}#sk-container-id-1 div.sk-parallel-item::after {content: \"\";width: 100%;border-bottom: 1px solid gray;flex-grow: 1;}#sk-container-id-1 div.sk-label:hover label.sk-toggleable__label {background-color: #d4ebff;}#sk-container-id-1 div.sk-serial::before {content: \"\";position: absolute;border-left: 1px solid gray;box-sizing: border-box;top: 0;bottom: 0;left: 50%;z-index: 0;}#sk-container-id-1 div.sk-serial {display: flex;flex-direction: column;align-items: center;background-color: white;padding-right: 0.2em;padding-left: 0.2em;position: relative;}#sk-container-id-1 div.sk-item {position: relative;z-index: 1;}#sk-container-id-1 div.sk-parallel {display: flex;align-items: stretch;justify-content: center;background-color: white;position: relative;}#sk-container-id-1 div.sk-item::before, #sk-container-id-1 div.sk-parallel-item::before {content: \"\";position: absolute;border-left: 1px solid gray;box-sizing: border-box;top: 0;bottom: 0;left: 50%;z-index: -1;}#sk-container-id-1 div.sk-parallel-item {display: flex;flex-direction: column;z-index: 1;position: relative;background-color: white;}#sk-container-id-1 div.sk-parallel-item:first-child::after {align-self: flex-end;width: 50%;}#sk-container-id-1 div.sk-parallel-item:last-child::after {align-self: flex-start;width: 50%;}#sk-container-id-1 div.sk-parallel-item:only-child::after {width: 0;}#sk-container-id-1 div.sk-dashed-wrapped {border: 1px dashed gray;margin: 0 0.4em 0.5em 0.4em;box-sizing: border-box;padding-bottom: 0.4em;background-color: white;}#sk-container-id-1 div.sk-label label {font-family: monospace;font-weight: bold;display: inline-block;line-height: 1.2em;}#sk-container-id-1 div.sk-label-container {text-align: center;}#sk-container-id-1 div.sk-container {/* jupyter's `normalize.less` sets `[hidden] { display: none; }` but bootstrap.min.css set `[hidden] { display: none !important; }` so we also need the `!important` here to be able to override the default hidden behavior on the sphinx rendered scikit-learn.org. See: https://github.com/scikit-learn/scikit-learn/issues/21755 */display: inline-block !important;position: relative;}#sk-container-id-1 div.sk-text-repr-fallback {display: none;}</style><div id=\"sk-container-id-1\" class=\"sk-top-container\"><div class=\"sk-text-repr-fallback\"><pre>Pipeline(steps=[(&#x27;vect&#x27;, CountVectorizer()), (&#x27;tfidf&#x27;, TfidfTransformer()),\n",
              "                (&#x27;clf&#x27;,\n",
              "                 SVC(C=1.2, kernel=&#x27;sigmoid&#x27;, probability=True,\n",
              "                     random_state=0))])</pre><b>In a Jupyter environment, please rerun this cell to show the HTML representation or trust the notebook. <br />On GitHub, the HTML representation is unable to render, please try loading this page with nbviewer.org.</b></div><div class=\"sk-container\" hidden><div class=\"sk-item sk-dashed-wrapped\"><div class=\"sk-label-container\"><div class=\"sk-label sk-toggleable\"><input class=\"sk-toggleable__control sk-hidden--visually\" id=\"sk-estimator-id-1\" type=\"checkbox\" ><label for=\"sk-estimator-id-1\" class=\"sk-toggleable__label sk-toggleable__label-arrow\">Pipeline</label><div class=\"sk-toggleable__content\"><pre>Pipeline(steps=[(&#x27;vect&#x27;, CountVectorizer()), (&#x27;tfidf&#x27;, TfidfTransformer()),\n",
              "                (&#x27;clf&#x27;,\n",
              "                 SVC(C=1.2, kernel=&#x27;sigmoid&#x27;, probability=True,\n",
              "                     random_state=0))])</pre></div></div></div><div class=\"sk-serial\"><div class=\"sk-item\"><div class=\"sk-estimator sk-toggleable\"><input class=\"sk-toggleable__control sk-hidden--visually\" id=\"sk-estimator-id-2\" type=\"checkbox\" ><label for=\"sk-estimator-id-2\" class=\"sk-toggleable__label sk-toggleable__label-arrow\">CountVectorizer</label><div class=\"sk-toggleable__content\"><pre>CountVectorizer()</pre></div></div></div><div class=\"sk-item\"><div class=\"sk-estimator sk-toggleable\"><input class=\"sk-toggleable__control sk-hidden--visually\" id=\"sk-estimator-id-3\" type=\"checkbox\" ><label for=\"sk-estimator-id-3\" class=\"sk-toggleable__label sk-toggleable__label-arrow\">TfidfTransformer</label><div class=\"sk-toggleable__content\"><pre>TfidfTransformer()</pre></div></div></div><div class=\"sk-item\"><div class=\"sk-estimator sk-toggleable\"><input class=\"sk-toggleable__control sk-hidden--visually\" id=\"sk-estimator-id-4\" type=\"checkbox\" ><label for=\"sk-estimator-id-4\" class=\"sk-toggleable__label sk-toggleable__label-arrow\">SVC</label><div class=\"sk-toggleable__content\"><pre>SVC(C=1.2, kernel=&#x27;sigmoid&#x27;, probability=True, random_state=0)</pre></div></div></div></div></div></div></div>"
            ]
          },
          "metadata": {},
          "execution_count": 77
        }
      ],
      "source": [
        "# SVM Algorithm training X_train, X_test, y_train, y_test\n",
        "svm_model = svm_pipeline.fit(X_train.values.astype('U'), y_train.values.astype('int64'))\n",
        "svm_model"
      ]
    },
    {
      "cell_type": "code",
      "execution_count": 78,
      "id": "po6ebUJoNlFe",
      "metadata": {
        "colab": {
          "base_uri": "https://localhost:8080/"
        },
        "id": "po6ebUJoNlFe",
        "outputId": "f1d52367-5738-474d-9d0f-d2d9bb83e5f7"
      },
      "outputs": [
        {
          "output_type": "execute_result",
          "data": {
            "text/plain": [
              "array([-1,  0,  1])"
            ]
          },
          "metadata": {},
          "execution_count": 78
        }
      ],
      "source": [
        "y_pred = svm_model.predict(X_test.values.astype('U'))\n",
        "svm_model.classes_"
      ]
    },
    {
      "cell_type": "code",
      "execution_count": 79,
      "id": "a6a70991-ba0a-4902-aea8-a90c96782a69",
      "metadata": {
        "colab": {
          "base_uri": "https://localhost:8080/"
        },
        "id": "a6a70991-ba0a-4902-aea8-a90c96782a69",
        "outputId": "507d4c75-a7ca-427d-cc53-ac8eb1ad599d",
        "tags": []
      },
      "outputs": [
        {
          "output_type": "stream",
          "name": "stdout",
          "text": [
            "[[735 229   2]\n",
            " [292 390   0]\n",
            " [ 60  44   2]]\n"
          ]
        }
      ],
      "source": [
        "cm = confusion_matrix(y_test, y_pred, labels=svm_model.classes_)\n",
        "print(cm)"
      ]
    },
    {
      "cell_type": "code",
      "execution_count": 80,
      "id": "717a475c-4695-423a-b02e-536085d007a9",
      "metadata": {
        "colab": {
          "base_uri": "https://localhost:8080/",
          "height": 296
        },
        "id": "717a475c-4695-423a-b02e-536085d007a9",
        "outputId": "74f130cd-51ac-4ca8-9f0b-5cd589b2f6a0",
        "tags": []
      },
      "outputs": [
        {
          "output_type": "stream",
          "name": "stdout",
          "text": [
            "<sklearn.metrics._plot.confusion_matrix.ConfusionMatrixDisplay object at 0x7fc59b283be0>\n"
          ]
        },
        {
          "output_type": "display_data",
          "data": {
            "text/plain": [
              "<Figure size 432x288 with 2 Axes>"
            ],
            "image/png": "[encoded data removed]"
          },
          "metadata": {
            "needs_background": "light"
          }
        }
      ],
      "source": [
        "cm_dsp=ConfusionMatrixDisplay(confusion_matrix=cm, display_labels=['Negatives', 'Neutral', 'Positive'])\n",
        "print(cm_dsp.plot())"
      ]
    },
    {
      "cell_type": "code",
      "execution_count": 81,
      "id": "c9351292-53b9-499c-92af-d155a3c22aca",
      "metadata": {
        "colab": {
          "base_uri": "https://localhost:8080/"
        },
        "id": "c9351292-53b9-499c-92af-d155a3c22aca",
        "outputId": "928e4276-19e4-45c6-cb9c-b8a3f4e9d1e2",
        "tags": []
      },
      "outputs": [
        {
          "output_type": "stream",
          "name": "stdout",
          "text": [
            "Model Score: 0.6425313568985177\n",
            "Model Score: 64.25%\n",
            "\n",
            "Accuracy: 0.6425313568985177\n",
            "Accuracy: 64.25%\n",
            "\n",
            "F1-score: 0.44410487190279935\n",
            "F1-score: 44.41%\n",
            "\n",
            "CPU times and Wall time: \n",
            "CPU times: user 1.92 s, sys: 988 µs, total: 1.92 s\n",
            "Wall time: 1.96 s\n"
          ]
        }
      ],
      "source": [
        "%%time\n",
        "\n",
        "#predicting \n",
        "y_pred = svm_model.predict(X_test.values.astype('U'))\n",
        "\n",
        "model_score = svm_model.score(X_test.values.astype('U'), y_test.values.astype('int64'))\n",
        "print(f'Model Score: {model_score}')\n",
        "print(f'Model Score: {model_score*100:.2f}%')\n",
        "accuracy = accuracy_score(y_test, y_pred)\n",
        "print()\n",
        "print(f\"Accuracy: {accuracy}\")\n",
        "print(f\"Accuracy: {accuracy*100:.2f}%\")\n",
        "print()\n",
        "f1 = f1_score(y_test, y_pred, average='macro')\n",
        "print(f\"F1-score: {f1}\")\n",
        "print(f\"F1-score: {f1*100:.2f}%\")\n",
        "print()\n",
        "print(\"CPU times and Wall time: \")"
      ]
    },
    {
      "cell_type": "code",
      "execution_count": 82,
      "id": "3f69f227-fe8f-4713-9648-f517c517ad8b",
      "metadata": {
        "colab": {
          "base_uri": "https://localhost:8080/"
        },
        "id": "3f69f227-fe8f-4713-9648-f517c517ad8b",
        "outputId": "096aa323-2c17-478b-ed1b-8c34ee9dddc0"
      },
      "outputs": [
        {
          "output_type": "execute_result",
          "data": {
            "text/plain": [
              "['models/SVM_model_score_64.25.pkl']"
            ]
          },
          "metadata": {},
          "execution_count": 82
        }
      ],
      "source": [
        "# Save to file / directory\n",
        "joblib_file = \"models/SVM_model_score_\"+ str(round(accuracy*100,2))+\".pkl\"\n",
        "joblib.dump(svm_model, joblib_file)"
      ]
    },
    {
      "cell_type": "markdown",
      "id": "c2634a08-ffe0-4637-9271-cf8c89dc9482",
      "metadata": {
        "id": "c2634a08-ffe0-4637-9271-cf8c89dc9482"
      },
      "source": [
        "## 4.2 RANDOM FOREST"
      ]
    },
    {
      "cell_type": "code",
      "execution_count": 83,
      "id": "11d1e899-afab-4bf6-b8f0-0f12851f8aeb",
      "metadata": {
        "id": "11d1e899-afab-4bf6-b8f0-0f12851f8aeb"
      },
      "outputs": [],
      "source": [
        "# Initialize a vectorization and modelling pipeline\n",
        "rf_pipeline = Pipeline([\n",
        "     ('vect', CountVectorizer(ngram_range=(1,1))),\n",
        "     ('tfidf', TfidfTransformer()),\n",
        "     ('clf', RandomForestClassifier()),\n",
        " ])"
      ]
    },
    {
      "cell_type": "code",
      "execution_count": 84,
      "id": "5b119691-4c4f-4fc8-b57a-a57ebfd4b774",
      "metadata": {
        "colab": {
          "base_uri": "https://localhost:8080/",
          "height": 161
        },
        "id": "5b119691-4c4f-4fc8-b57a-a57ebfd4b774",
        "outputId": "a09290af-1f4d-4796-92d9-59cb833e1e1f"
      },
      "outputs": [
        {
          "output_type": "execute_result",
          "data": {
            "text/plain": [
              "Pipeline(steps=[('vect', CountVectorizer()), ('tfidf', TfidfTransformer()),\n",
              "                ('clf', RandomForestClassifier())])"
            ],
            "text/html": [
              "<style>#sk-container-id-2 {color: black;background-color: white;}#sk-container-id-2 pre{padding: 0;}#sk-container-id-2 div.sk-toggleable {background-color: white;}#sk-container-id-2 label.sk-toggleable__label {cursor: pointer;display: block;width: 100%;margin-bottom: 0;padding: 0.3em;box-sizing: border-box;text-align: center;}#sk-container-id-2 label.sk-toggleable__label-arrow:before {content: \"▸\";float: left;margin-right: 0.25em;color: #696969;}#sk-container-id-2 label.sk-toggleable__label-arrow:hover:before {color: black;}#sk-container-id-2 div.sk-estimator:hover label.sk-toggleable__label-arrow:before {color: black;}#sk-container-id-2 div.sk-toggleable__content {max-height: 0;max-width: 0;overflow: hidden;text-align: left;background-color: #f0f8ff;}#sk-container-id-2 div.sk-toggleable__content pre {margin: 0.2em;color: black;border-radius: 0.25em;background-color: #f0f8ff;}#sk-container-id-2 input.sk-toggleable__control:checked~div.sk-toggleable__content {max-height: 200px;max-width: 100%;overflow: auto;}#sk-container-id-2 input.sk-toggleable__control:checked~label.sk-toggleable__label-arrow:before {content: \"▾\";}#sk-container-id-2 div.sk-estimator input.sk-toggleable__control:checked~label.sk-toggleable__label {background-color: #d4ebff;}#sk-container-id-2 div.sk-label input.sk-toggleable__control:checked~label.sk-toggleable__label {background-color: #d4ebff;}#sk-container-id-2 input.sk-hidden--visually {border: 0;clip: rect(1px 1px 1px 1px);clip: rect(1px, 1px, 1px, 1px);height: 1px;margin: -1px;overflow: hidden;padding: 0;position: absolute;width: 1px;}#sk-container-id-2 div.sk-estimator {font-family: monospace;background-color: #f0f8ff;border: 1px dotted black;border-radius: 0.25em;box-sizing: border-box;margin-bottom: 0.5em;}#sk-container-id-2 div.sk-estimator:hover {background-color: #d4ebff;}#sk-container-id-2 div.sk-parallel-item::after {content: \"\";width: 100%;border-bottom: 1px solid gray;flex-grow: 1;}#sk-container-id-2 div.sk-label:hover label.sk-toggleable__label {background-color: #d4ebff;}#sk-container-id-2 div.sk-serial::before {content: \"\";position: absolute;border-left: 1px solid gray;box-sizing: border-box;top: 0;bottom: 0;left: 50%;z-index: 0;}#sk-container-id-2 div.sk-serial {display: flex;flex-direction: column;align-items: center;background-color: white;padding-right: 0.2em;padding-left: 0.2em;position: relative;}#sk-container-id-2 div.sk-item {position: relative;z-index: 1;}#sk-container-id-2 div.sk-parallel {display: flex;align-items: stretch;justify-content: center;background-color: white;position: relative;}#sk-container-id-2 div.sk-item::before, #sk-container-id-2 div.sk-parallel-item::before {content: \"\";position: absolute;border-left: 1px solid gray;box-sizing: border-box;top: 0;bottom: 0;left: 50%;z-index: -1;}#sk-container-id-2 div.sk-parallel-item {display: flex;flex-direction: column;z-index: 1;position: relative;background-color: white;}#sk-container-id-2 div.sk-parallel-item:first-child::after {align-self: flex-end;width: 50%;}#sk-container-id-2 div.sk-parallel-item:last-child::after {align-self: flex-start;width: 50%;}#sk-container-id-2 div.sk-parallel-item:only-child::after {width: 0;}#sk-container-id-2 div.sk-dashed-wrapped {border: 1px dashed gray;margin: 0 0.4em 0.5em 0.4em;box-sizing: border-box;padding-bottom: 0.4em;background-color: white;}#sk-container-id-2 div.sk-label label {font-family: monospace;font-weight: bold;display: inline-block;line-height: 1.2em;}#sk-container-id-2 div.sk-label-container {text-align: center;}#sk-container-id-2 div.sk-container {/* jupyter's `normalize.less` sets `[hidden] { display: none; }` but bootstrap.min.css set `[hidden] { display: none !important; }` so we also need the `!important` here to be able to override the default hidden behavior on the sphinx rendered scikit-learn.org. See: https://github.com/scikit-learn/scikit-learn/issues/21755 */display: inline-block !important;position: relative;}#sk-container-id-2 div.sk-text-repr-fallback {display: none;}</style><div id=\"sk-container-id-2\" class=\"sk-top-container\"><div class=\"sk-text-repr-fallback\"><pre>Pipeline(steps=[(&#x27;vect&#x27;, CountVectorizer()), (&#x27;tfidf&#x27;, TfidfTransformer()),\n",
              "                (&#x27;clf&#x27;, RandomForestClassifier())])</pre><b>In a Jupyter environment, please rerun this cell to show the HTML representation or trust the notebook. <br />On GitHub, the HTML representation is unable to render, please try loading this page with nbviewer.org.</b></div><div class=\"sk-container\" hidden><div class=\"sk-item sk-dashed-wrapped\"><div class=\"sk-label-container\"><div class=\"sk-label sk-toggleable\"><input class=\"sk-toggleable__control sk-hidden--visually\" id=\"sk-estimator-id-5\" type=\"checkbox\" ><label for=\"sk-estimator-id-5\" class=\"sk-toggleable__label sk-toggleable__label-arrow\">Pipeline</label><div class=\"sk-toggleable__content\"><pre>Pipeline(steps=[(&#x27;vect&#x27;, CountVectorizer()), (&#x27;tfidf&#x27;, TfidfTransformer()),\n",
              "                (&#x27;clf&#x27;, RandomForestClassifier())])</pre></div></div></div><div class=\"sk-serial\"><div class=\"sk-item\"><div class=\"sk-estimator sk-toggleable\"><input class=\"sk-toggleable__control sk-hidden--visually\" id=\"sk-estimator-id-6\" type=\"checkbox\" ><label for=\"sk-estimator-id-6\" class=\"sk-toggleable__label sk-toggleable__label-arrow\">CountVectorizer</label><div class=\"sk-toggleable__content\"><pre>CountVectorizer()</pre></div></div></div><div class=\"sk-item\"><div class=\"sk-estimator sk-toggleable\"><input class=\"sk-toggleable__control sk-hidden--visually\" id=\"sk-estimator-id-7\" type=\"checkbox\" ><label for=\"sk-estimator-id-7\" class=\"sk-toggleable__label sk-toggleable__label-arrow\">TfidfTransformer</label><div class=\"sk-toggleable__content\"><pre>TfidfTransformer()</pre></div></div></div><div class=\"sk-item\"><div class=\"sk-estimator sk-toggleable\"><input class=\"sk-toggleable__control sk-hidden--visually\" id=\"sk-estimator-id-8\" type=\"checkbox\" ><label for=\"sk-estimator-id-8\" class=\"sk-toggleable__label sk-toggleable__label-arrow\">RandomForestClassifier</label><div class=\"sk-toggleable__content\"><pre>RandomForestClassifier()</pre></div></div></div></div></div></div></div>"
            ]
          },
          "metadata": {},
          "execution_count": 84
        }
      ],
      "source": [
        "# RANDOM FOREST Algorithm training X_train, X_test, y_train, y_test\n",
        "rf_model = rf_pipeline.fit(X_train.values.astype('U'), y_train.values.astype('int64'))\n",
        "rf_model"
      ]
    },
    {
      "cell_type": "code",
      "execution_count": 85,
      "id": "5391641b-0a41-4586-abed-43888d19aa79",
      "metadata": {
        "colab": {
          "base_uri": "https://localhost:8080/"
        },
        "id": "5391641b-0a41-4586-abed-43888d19aa79",
        "outputId": "afce0fbd-a29e-4f77-83e6-8ae4e4efafc3",
        "tags": []
      },
      "outputs": [
        {
          "output_type": "execute_result",
          "data": {
            "text/plain": [
              "array([-1,  0,  1])"
            ]
          },
          "metadata": {},
          "execution_count": 85
        }
      ],
      "source": [
        "y_pred = rf_model.predict(X_test.values.astype('U'))\n",
        "rf_model.classes_"
      ]
    },
    {
      "cell_type": "code",
      "execution_count": 86,
      "id": "0b0f795b-29a3-4964-877b-5be5ece0afea",
      "metadata": {
        "colab": {
          "base_uri": "https://localhost:8080/"
        },
        "id": "0b0f795b-29a3-4964-877b-5be5ece0afea",
        "outputId": "6556c57a-fcac-4635-8999-265c2cb26427",
        "tags": []
      },
      "outputs": [
        {
          "output_type": "stream",
          "name": "stdout",
          "text": [
            "[[734 232   0]\n",
            " [299 381   2]\n",
            " [ 62  38   6]]\n"
          ]
        }
      ],
      "source": [
        "cm = confusion_matrix(y_test, y_pred, labels=rf_model.classes_)\n",
        "print(cm)"
      ]
    },
    {
      "cell_type": "code",
      "execution_count": 87,
      "id": "4f55fa3c-f3ea-46d5-b19c-a31daf880e47",
      "metadata": {
        "colab": {
          "base_uri": "https://localhost:8080/",
          "height": 296
        },
        "id": "4f55fa3c-f3ea-46d5-b19c-a31daf880e47",
        "outputId": "c2c13ab1-995a-41a1-c241-261b6a8cf903",
        "tags": []
      },
      "outputs": [
        {
          "output_type": "execute_result",
          "data": {
            "text/plain": [
              "<sklearn.metrics._plot.confusion_matrix.ConfusionMatrixDisplay at 0x7fc59e44e3d0>"
            ]
          },
          "metadata": {},
          "execution_count": 87
        },
        {
          "output_type": "display_data",
          "data": {
            "text/plain": [
              "<Figure size 432x288 with 2 Axes>"
            ],
            "image/png": "[encoded data removed]"
          },
          "metadata": {
            "needs_background": "light"
          }
        }
      ],
      "source": [
        "cm_dsp=ConfusionMatrixDisplay(confusion_matrix=cm, display_labels=['Negatives', 'Neutral', 'Positive'])\n",
        "cm_dsp.plot()"
      ]
    },
    {
      "cell_type": "code",
      "execution_count": 88,
      "id": "aac0325f-5ca9-4562-bd85-66b322aad82a",
      "metadata": {
        "colab": {
          "base_uri": "https://localhost:8080/"
        },
        "id": "aac0325f-5ca9-4562-bd85-66b322aad82a",
        "outputId": "f2a3f752-1701-439b-f48d-156ec8b4e233"
      },
      "outputs": [
        {
          "output_type": "stream",
          "name": "stdout",
          "text": [
            "Model Score: 0.6391106043329533\n",
            "Model Score: 63.91%\n",
            "\n",
            "Accuracy: 0.6391106043329533\n",
            "Accuracy: 63.91%\n",
            "\n",
            "F1-score: 0.46306055433136106\n",
            "F1-score: 46.31%\n",
            "\n",
            "CPU times and Wall time: \n",
            "CPU times: user 379 ms, sys: 3.77 ms, total: 382 ms\n",
            "Wall time: 591 ms\n"
          ]
        }
      ],
      "source": [
        "%%time\n",
        "\n",
        "#predicting \n",
        "y_pred = rf_model.predict(X_test.values.astype('U'))\n",
        "\n",
        "model_score = rf_model.score(X_test.values.astype('U'), y_test.values.astype('int64'))\n",
        "print(f'Model Score: {model_score}')\n",
        "print(f'Model Score: {model_score*100:.2f}%')\n",
        "accuracy = accuracy_score(y_test, y_pred)\n",
        "print()\n",
        "print(f\"Accuracy: {accuracy}\")\n",
        "print(f\"Accuracy: {accuracy*100:.2f}%\")\n",
        "print()\n",
        "f1 = f1_score(y_test, y_pred, average='macro')\n",
        "print(f\"F1-score: {f1}\")\n",
        "print(f\"F1-score: {f1*100:.2f}%\")\n",
        "print()\n",
        "print(\"CPU times and Wall time: \")"
      ]
    },
    {
      "cell_type": "code",
      "execution_count": 89,
      "id": "3f1f9c66-134b-402e-8eae-e8e08a286904",
      "metadata": {
        "colab": {
          "base_uri": "https://localhost:8080/"
        },
        "id": "3f1f9c66-134b-402e-8eae-e8e08a286904",
        "outputId": "bcdf0f10-a2b7-45c1-cc32-5040ff3fd04f"
      },
      "outputs": [
        {
          "output_type": "execute_result",
          "data": {
            "text/plain": [
              "['models/Randomforest_model_score_63.91.pkl']"
            ]
          },
          "metadata": {},
          "execution_count": 89
        }
      ],
      "source": [
        "# Save to file / directory\n",
        "joblib_file = \"models/Randomforest_model_score_\"+ str(round(accuracy*100,2))+\".pkl\"\n",
        "joblib.dump(rf_model, joblib_file)"
      ]
    },
    {
      "cell_type": "markdown",
      "id": "d40724ff-ac2d-49ca-8e6f-2e993fbc4540",
      "metadata": {
        "id": "d40724ff-ac2d-49ca-8e6f-2e993fbc4540"
      },
      "source": [
        "# 4.3 DECISION TREE CLASSIFIER"
      ]
    },
    {
      "cell_type": "code",
      "execution_count": 90,
      "id": "c2458729-8dd9-4ff1-b03a-2c8eb91c6c0d",
      "metadata": {
        "id": "c2458729-8dd9-4ff1-b03a-2c8eb91c6c0d"
      },
      "outputs": [],
      "source": [
        "# Initialize a vectorization and modelling pipeline\n",
        "dt_pipeline = Pipeline([\n",
        "     ('vect', CountVectorizer(ngram_range=(1,1))),\n",
        "     ('tfidf', TfidfTransformer()),\n",
        "     ('clf', DecisionTreeClassifier()),\n",
        " ])"
      ]
    },
    {
      "cell_type": "code",
      "execution_count": 91,
      "id": "c8ea1f6f-3613-46b7-a78f-824c14699ed9",
      "metadata": {
        "colab": {
          "base_uri": "https://localhost:8080/",
          "height": 161
        },
        "id": "c8ea1f6f-3613-46b7-a78f-824c14699ed9",
        "outputId": "7a6ff2c4-8f8f-4f78-ef07-3c0e52e3b811"
      },
      "outputs": [
        {
          "output_type": "execute_result",
          "data": {
            "text/plain": [
              "Pipeline(steps=[('vect', CountVectorizer()), ('tfidf', TfidfTransformer()),\n",
              "                ('clf', DecisionTreeClassifier())])"
            ],
            "text/html": [
              "<style>#sk-container-id-3 {color: black;background-color: white;}#sk-container-id-3 pre{padding: 0;}#sk-container-id-3 div.sk-toggleable {background-color: white;}#sk-container-id-3 label.sk-toggleable__label {cursor: pointer;display: block;width: 100%;margin-bottom: 0;padding: 0.3em;box-sizing: border-box;text-align: center;}#sk-container-id-3 label.sk-toggleable__label-arrow:before {content: \"▸\";float: left;margin-right: 0.25em;color: #696969;}#sk-container-id-3 label.sk-toggleable__label-arrow:hover:before {color: black;}#sk-container-id-3 div.sk-estimator:hover label.sk-toggleable__label-arrow:before {color: black;}#sk-container-id-3 div.sk-toggleable__content {max-height: 0;max-width: 0;overflow: hidden;text-align: left;background-color: #f0f8ff;}#sk-container-id-3 div.sk-toggleable__content pre {margin: 0.2em;color: black;border-radius: 0.25em;background-color: #f0f8ff;}#sk-container-id-3 input.sk-toggleable__control:checked~div.sk-toggleable__content {max-height: 200px;max-width: 100%;overflow: auto;}#sk-container-id-3 input.sk-toggleable__control:checked~label.sk-toggleable__label-arrow:before {content: \"▾\";}#sk-container-id-3 div.sk-estimator input.sk-toggleable__control:checked~label.sk-toggleable__label {background-color: #d4ebff;}#sk-container-id-3 div.sk-label input.sk-toggleable__control:checked~label.sk-toggleable__label {background-color: #d4ebff;}#sk-container-id-3 input.sk-hidden--visually {border: 0;clip: rect(1px 1px 1px 1px);clip: rect(1px, 1px, 1px, 1px);height: 1px;margin: -1px;overflow: hidden;padding: 0;position: absolute;width: 1px;}#sk-container-id-3 div.sk-estimator {font-family: monospace;background-color: #f0f8ff;border: 1px dotted black;border-radius: 0.25em;box-sizing: border-box;margin-bottom: 0.5em;}#sk-container-id-3 div.sk-estimator:hover {background-color: #d4ebff;}#sk-container-id-3 div.sk-parallel-item::after {content: \"\";width: 100%;border-bottom: 1px solid gray;flex-grow: 1;}#sk-container-id-3 div.sk-label:hover label.sk-toggleable__label {background-color: #d4ebff;}#sk-container-id-3 div.sk-serial::before {content: \"\";position: absolute;border-left: 1px solid gray;box-sizing: border-box;top: 0;bottom: 0;left: 50%;z-index: 0;}#sk-container-id-3 div.sk-serial {display: flex;flex-direction: column;align-items: center;background-color: white;padding-right: 0.2em;padding-left: 0.2em;position: relative;}#sk-container-id-3 div.sk-item {position: relative;z-index: 1;}#sk-container-id-3 div.sk-parallel {display: flex;align-items: stretch;justify-content: center;background-color: white;position: relative;}#sk-container-id-3 div.sk-item::before, #sk-container-id-3 div.sk-parallel-item::before {content: \"\";position: absolute;border-left: 1px solid gray;box-sizing: border-box;top: 0;bottom: 0;left: 50%;z-index: -1;}#sk-container-id-3 div.sk-parallel-item {display: flex;flex-direction: column;z-index: 1;position: relative;background-color: white;}#sk-container-id-3 div.sk-parallel-item:first-child::after {align-self: flex-end;width: 50%;}#sk-container-id-3 div.sk-parallel-item:last-child::after {align-self: flex-start;width: 50%;}#sk-container-id-3 div.sk-parallel-item:only-child::after {width: 0;}#sk-container-id-3 div.sk-dashed-wrapped {border: 1px dashed gray;margin: 0 0.4em 0.5em 0.4em;box-sizing: border-box;padding-bottom: 0.4em;background-color: white;}#sk-container-id-3 div.sk-label label {font-family: monospace;font-weight: bold;display: inline-block;line-height: 1.2em;}#sk-container-id-3 div.sk-label-container {text-align: center;}#sk-container-id-3 div.sk-container {/* jupyter's `normalize.less` sets `[hidden] { display: none; }` but bootstrap.min.css set `[hidden] { display: none !important; }` so we also need the `!important` here to be able to override the default hidden behavior on the sphinx rendered scikit-learn.org. See: https://github.com/scikit-learn/scikit-learn/issues/21755 */display: inline-block !important;position: relative;}#sk-container-id-3 div.sk-text-repr-fallback {display: none;}</style><div id=\"sk-container-id-3\" class=\"sk-top-container\"><div class=\"sk-text-repr-fallback\"><pre>Pipeline(steps=[(&#x27;vect&#x27;, CountVectorizer()), (&#x27;tfidf&#x27;, TfidfTransformer()),\n",
              "                (&#x27;clf&#x27;, DecisionTreeClassifier())])</pre><b>In a Jupyter environment, please rerun this cell to show the HTML representation or trust the notebook. <br />On GitHub, the HTML representation is unable to render, please try loading this page with nbviewer.org.</b></div><div class=\"sk-container\" hidden><div class=\"sk-item sk-dashed-wrapped\"><div class=\"sk-label-container\"><div class=\"sk-label sk-toggleable\"><input class=\"sk-toggleable__control sk-hidden--visually\" id=\"sk-estimator-id-9\" type=\"checkbox\" ><label for=\"sk-estimator-id-9\" class=\"sk-toggleable__label sk-toggleable__label-arrow\">Pipeline</label><div class=\"sk-toggleable__content\"><pre>Pipeline(steps=[(&#x27;vect&#x27;, CountVectorizer()), (&#x27;tfidf&#x27;, TfidfTransformer()),\n",
              "                (&#x27;clf&#x27;, DecisionTreeClassifier())])</pre></div></div></div><div class=\"sk-serial\"><div class=\"sk-item\"><div class=\"sk-estimator sk-toggleable\"><input class=\"sk-toggleable__control sk-hidden--visually\" id=\"sk-estimator-id-10\" type=\"checkbox\" ><label for=\"sk-estimator-id-10\" class=\"sk-toggleable__label sk-toggleable__label-arrow\">CountVectorizer</label><div class=\"sk-toggleable__content\"><pre>CountVectorizer()</pre></div></div></div><div class=\"sk-item\"><div class=\"sk-estimator sk-toggleable\"><input class=\"sk-toggleable__control sk-hidden--visually\" id=\"sk-estimator-id-11\" type=\"checkbox\" ><label for=\"sk-estimator-id-11\" class=\"sk-toggleable__label sk-toggleable__label-arrow\">TfidfTransformer</label><div class=\"sk-toggleable__content\"><pre>TfidfTransformer()</pre></div></div></div><div class=\"sk-item\"><div class=\"sk-estimator sk-toggleable\"><input class=\"sk-toggleable__control sk-hidden--visually\" id=\"sk-estimator-id-12\" type=\"checkbox\" ><label for=\"sk-estimator-id-12\" class=\"sk-toggleable__label sk-toggleable__label-arrow\">DecisionTreeClassifier</label><div class=\"sk-toggleable__content\"><pre>DecisionTreeClassifier()</pre></div></div></div></div></div></div></div>"
            ]
          },
          "metadata": {},
          "execution_count": 91
        }
      ],
      "source": [
        "# Algorithm training X_train, X_test, y_train, y_test\n",
        "dt_model = dt_pipeline.fit(X_train.values.astype('U'), y_train.values.astype('int64'))\n",
        "dt_model"
      ]
    },
    {
      "cell_type": "code",
      "execution_count": 92,
      "id": "642dd071-dc7f-42f3-8775-f133e1417b24",
      "metadata": {
        "colab": {
          "base_uri": "https://localhost:8080/"
        },
        "id": "642dd071-dc7f-42f3-8775-f133e1417b24",
        "outputId": "3a74f424-ad91-45ed-fdec-be58824ff805",
        "tags": []
      },
      "outputs": [
        {
          "output_type": "execute_result",
          "data": {
            "text/plain": [
              "array([-1,  0,  1])"
            ]
          },
          "metadata": {},
          "execution_count": 92
        }
      ],
      "source": [
        "y_pred = dt_model.predict(X_test.values.astype('U'))\n",
        "dt_model.classes_"
      ]
    },
    {
      "cell_type": "code",
      "execution_count": 93,
      "id": "c516ab2a-4bb9-4f95-92c3-8c69e539af9f",
      "metadata": {
        "colab": {
          "base_uri": "https://localhost:8080/"
        },
        "id": "c516ab2a-4bb9-4f95-92c3-8c69e539af9f",
        "outputId": "b50df444-69ea-45b3-b3e6-501a119bbe4b",
        "tags": []
      },
      "outputs": [
        {
          "output_type": "stream",
          "name": "stdout",
          "text": [
            "[[606 323  37]\n",
            " [286 364  32]\n",
            " [ 51  42  13]]\n"
          ]
        }
      ],
      "source": [
        "cm = confusion_matrix(y_test, y_pred, labels=dt_model.classes_)\n",
        "print(cm)"
      ]
    },
    {
      "cell_type": "code",
      "execution_count": 94,
      "id": "f2870031-8ae3-430b-a96d-5dc442357ff5",
      "metadata": {
        "colab": {
          "base_uri": "https://localhost:8080/",
          "height": 298
        },
        "id": "f2870031-8ae3-430b-a96d-5dc442357ff5",
        "outputId": "ca8bd9f9-3dcf-4994-8886-1d865d7cd0be",
        "tags": []
      },
      "outputs": [
        {
          "output_type": "execute_result",
          "data": {
            "text/plain": [
              "<sklearn.metrics._plot.confusion_matrix.ConfusionMatrixDisplay at 0x7fc59be9b970>"
            ]
          },
          "metadata": {},
          "execution_count": 94
        },
        {
          "output_type": "display_data",
          "data": {
            "text/plain": [
              "<Figure size 432x288 with 2 Axes>"
            ],
            "image/png": "[encoded data removed]"
          },
          "metadata": {
            "needs_background": "light"
          }
        }
      ],
      "source": [
        "cm_dsp=ConfusionMatrixDisplay(confusion_matrix=cm, display_labels=['Negatives', 'Neutral', 'Positive'])\n",
        "cm_dsp.plot()"
      ]
    },
    {
      "cell_type": "code",
      "execution_count": 95,
      "id": "f3fac5a9-e0d7-4f9b-95bf-0b7654577b14",
      "metadata": {
        "colab": {
          "base_uri": "https://localhost:8080/"
        },
        "id": "f3fac5a9-e0d7-4f9b-95bf-0b7654577b14",
        "outputId": "d98d3300-09a8-4b9c-da72-f8326041c926",
        "tags": []
      },
      "outputs": [
        {
          "output_type": "stream",
          "name": "stdout",
          "text": [
            "Model Score: 0.5604332953249715\n",
            "Model Score: 56.04%\n",
            "\n",
            "Accuracy: 0.5604332953249715\n",
            "Accuracy: 56.04%\n",
            "\n",
            "F1-score: 0.4297104618069601\n",
            "F1-score: 42.97%\n",
            "\n",
            "CPU times and Wall time: \n",
            "CPU times: user 56.9 ms, sys: 0 ns, total: 56.9 ms\n",
            "Wall time: 57.6 ms\n"
          ]
        }
      ],
      "source": [
        "%%time\n",
        "\n",
        "#predicting \n",
        "y_pred = dt_model.predict(X_test.values.astype('U'))\n",
        "\n",
        "model_score = dt_model.score(X_test.values.astype('U'), y_test.values.astype('int64'))\n",
        "print(f'Model Score: {model_score}')\n",
        "print(f'Model Score: {model_score*100:.2f}%')\n",
        "accuracy = accuracy_score(y_test, y_pred)\n",
        "print()\n",
        "print(f\"Accuracy: {accuracy}\")\n",
        "print(f\"Accuracy: {accuracy*100:.2f}%\")\n",
        "print()\n",
        "f1 = f1_score(y_test, y_pred, average='macro')\n",
        "print(f\"F1-score: {f1}\")\n",
        "print(f\"F1-score: {f1*100:.2f}%\")\n",
        "print()\n",
        "print(\"CPU times and Wall time: \")"
      ]
    },
    {
      "cell_type": "code",
      "execution_count": 96,
      "id": "3ceaae73-dcb2-4f0e-b525-dcd753896cbc",
      "metadata": {
        "colab": {
          "base_uri": "https://localhost:8080/"
        },
        "id": "3ceaae73-dcb2-4f0e-b525-dcd753896cbc",
        "outputId": "23b29b37-450e-4866-a734-4953cac2b15b"
      },
      "outputs": [
        {
          "output_type": "execute_result",
          "data": {
            "text/plain": [
              "['models/DecisionTreeClassifier_model_score_56.04.pkl']"
            ]
          },
          "metadata": {},
          "execution_count": 96
        }
      ],
      "source": [
        "# Save to file / directory\n",
        "joblib_file = \"models/DecisionTreeClassifier_model_score_\"+ str(round(accuracy*100,2))+\".pkl\"\n",
        "joblib.dump(dt_model, joblib_file)"
      ]
    },
    {
      "cell_type": "markdown",
      "id": "4042fb67-1afd-47de-9ca2-fe20ae287819",
      "metadata": {
        "id": "4042fb67-1afd-47de-9ca2-fe20ae287819"
      },
      "source": [
        "# 4.4 KNEIGHBORS CLASSIFIER"
      ]
    },
    {
      "cell_type": "code",
      "execution_count": 97,
      "id": "801fbd7b-d730-4809-a7b6-f909cfaf07e0",
      "metadata": {
        "id": "801fbd7b-d730-4809-a7b6-f909cfaf07e0"
      },
      "outputs": [],
      "source": [
        "# Initialize a vectorization and modelling pipeline\n",
        "kn_pipeline = Pipeline([\n",
        "     ('vect', CountVectorizer(ngram_range=(1,1))),\n",
        "     ('tfidf', TfidfTransformer()),\n",
        "     ('clf', KNeighborsClassifier()), \n",
        " ])"
      ]
    },
    {
      "cell_type": "code",
      "execution_count": 98,
      "id": "9c1877bb-f512-4b4b-9d07-3513a033d20c",
      "metadata": {
        "colab": {
          "base_uri": "https://localhost:8080/",
          "height": 161
        },
        "id": "9c1877bb-f512-4b4b-9d07-3513a033d20c",
        "outputId": "67313041-05fa-4547-ee0f-a64f0135c1b4"
      },
      "outputs": [
        {
          "output_type": "execute_result",
          "data": {
            "text/plain": [
              "Pipeline(steps=[('vect', CountVectorizer()), ('tfidf', TfidfTransformer()),\n",
              "                ('clf', KNeighborsClassifier())])"
            ],
            "text/html": [
              "<style>#sk-container-id-4 {color: black;background-color: white;}#sk-container-id-4 pre{padding: 0;}#sk-container-id-4 div.sk-toggleable {background-color: white;}#sk-container-id-4 label.sk-toggleable__label {cursor: pointer;display: block;width: 100%;margin-bottom: 0;padding: 0.3em;box-sizing: border-box;text-align: center;}#sk-container-id-4 label.sk-toggleable__label-arrow:before {content: \"▸\";float: left;margin-right: 0.25em;color: #696969;}#sk-container-id-4 label.sk-toggleable__label-arrow:hover:before {color: black;}#sk-container-id-4 div.sk-estimator:hover label.sk-toggleable__label-arrow:before {color: black;}#sk-container-id-4 div.sk-toggleable__content {max-height: 0;max-width: 0;overflow: hidden;text-align: left;background-color: #f0f8ff;}#sk-container-id-4 div.sk-toggleable__content pre {margin: 0.2em;color: black;border-radius: 0.25em;background-color: #f0f8ff;}#sk-container-id-4 input.sk-toggleable__control:checked~div.sk-toggleable__content {max-height: 200px;max-width: 100%;overflow: auto;}#sk-container-id-4 input.sk-toggleable__control:checked~label.sk-toggleable__label-arrow:before {content: \"▾\";}#sk-container-id-4 div.sk-estimator input.sk-toggleable__control:checked~label.sk-toggleable__label {background-color: #d4ebff;}#sk-container-id-4 div.sk-label input.sk-toggleable__control:checked~label.sk-toggleable__label {background-color: #d4ebff;}#sk-container-id-4 input.sk-hidden--visually {border: 0;clip: rect(1px 1px 1px 1px);clip: rect(1px, 1px, 1px, 1px);height: 1px;margin: -1px;overflow: hidden;padding: 0;position: absolute;width: 1px;}#sk-container-id-4 div.sk-estimator {font-family: monospace;background-color: #f0f8ff;border: 1px dotted black;border-radius: 0.25em;box-sizing: border-box;margin-bottom: 0.5em;}#sk-container-id-4 div.sk-estimator:hover {background-color: #d4ebff;}#sk-container-id-4 div.sk-parallel-item::after {content: \"\";width: 100%;border-bottom: 1px solid gray;flex-grow: 1;}#sk-container-id-4 div.sk-label:hover label.sk-toggleable__label {background-color: #d4ebff;}#sk-container-id-4 div.sk-serial::before {content: \"\";position: absolute;border-left: 1px solid gray;box-sizing: border-box;top: 0;bottom: 0;left: 50%;z-index: 0;}#sk-container-id-4 div.sk-serial {display: flex;flex-direction: column;align-items: center;background-color: white;padding-right: 0.2em;padding-left: 0.2em;position: relative;}#sk-container-id-4 div.sk-item {position: relative;z-index: 1;}#sk-container-id-4 div.sk-parallel {display: flex;align-items: stretch;justify-content: center;background-color: white;position: relative;}#sk-container-id-4 div.sk-item::before, #sk-container-id-4 div.sk-parallel-item::before {content: \"\";position: absolute;border-left: 1px solid gray;box-sizing: border-box;top: 0;bottom: 0;left: 50%;z-index: -1;}#sk-container-id-4 div.sk-parallel-item {display: flex;flex-direction: column;z-index: 1;position: relative;background-color: white;}#sk-container-id-4 div.sk-parallel-item:first-child::after {align-self: flex-end;width: 50%;}#sk-container-id-4 div.sk-parallel-item:last-child::after {align-self: flex-start;width: 50%;}#sk-container-id-4 div.sk-parallel-item:only-child::after {width: 0;}#sk-container-id-4 div.sk-dashed-wrapped {border: 1px dashed gray;margin: 0 0.4em 0.5em 0.4em;box-sizing: border-box;padding-bottom: 0.4em;background-color: white;}#sk-container-id-4 div.sk-label label {font-family: monospace;font-weight: bold;display: inline-block;line-height: 1.2em;}#sk-container-id-4 div.sk-label-container {text-align: center;}#sk-container-id-4 div.sk-container {/* jupyter's `normalize.less` sets `[hidden] { display: none; }` but bootstrap.min.css set `[hidden] { display: none !important; }` so we also need the `!important` here to be able to override the default hidden behavior on the sphinx rendered scikit-learn.org. See: https://github.com/scikit-learn/scikit-learn/issues/21755 */display: inline-block !important;position: relative;}#sk-container-id-4 div.sk-text-repr-fallback {display: none;}</style><div id=\"sk-container-id-4\" class=\"sk-top-container\"><div class=\"sk-text-repr-fallback\"><pre>Pipeline(steps=[(&#x27;vect&#x27;, CountVectorizer()), (&#x27;tfidf&#x27;, TfidfTransformer()),\n",
              "                (&#x27;clf&#x27;, KNeighborsClassifier())])</pre><b>In a Jupyter environment, please rerun this cell to show the HTML representation or trust the notebook. <br />On GitHub, the HTML representation is unable to render, please try loading this page with nbviewer.org.</b></div><div class=\"sk-container\" hidden><div class=\"sk-item sk-dashed-wrapped\"><div class=\"sk-label-container\"><div class=\"sk-label sk-toggleable\"><input class=\"sk-toggleable__control sk-hidden--visually\" id=\"sk-estimator-id-13\" type=\"checkbox\" ><label for=\"sk-estimator-id-13\" class=\"sk-toggleable__label sk-toggleable__label-arrow\">Pipeline</label><div class=\"sk-toggleable__content\"><pre>Pipeline(steps=[(&#x27;vect&#x27;, CountVectorizer()), (&#x27;tfidf&#x27;, TfidfTransformer()),\n",
              "                (&#x27;clf&#x27;, KNeighborsClassifier())])</pre></div></div></div><div class=\"sk-serial\"><div class=\"sk-item\"><div class=\"sk-estimator sk-toggleable\"><input class=\"sk-toggleable__control sk-hidden--visually\" id=\"sk-estimator-id-14\" type=\"checkbox\" ><label for=\"sk-estimator-id-14\" class=\"sk-toggleable__label sk-toggleable__label-arrow\">CountVectorizer</label><div class=\"sk-toggleable__content\"><pre>CountVectorizer()</pre></div></div></div><div class=\"sk-item\"><div class=\"sk-estimator sk-toggleable\"><input class=\"sk-toggleable__control sk-hidden--visually\" id=\"sk-estimator-id-15\" type=\"checkbox\" ><label for=\"sk-estimator-id-15\" class=\"sk-toggleable__label sk-toggleable__label-arrow\">TfidfTransformer</label><div class=\"sk-toggleable__content\"><pre>TfidfTransformer()</pre></div></div></div><div class=\"sk-item\"><div class=\"sk-estimator sk-toggleable\"><input class=\"sk-toggleable__control sk-hidden--visually\" id=\"sk-estimator-id-16\" type=\"checkbox\" ><label for=\"sk-estimator-id-16\" class=\"sk-toggleable__label sk-toggleable__label-arrow\">KNeighborsClassifier</label><div class=\"sk-toggleable__content\"><pre>KNeighborsClassifier()</pre></div></div></div></div></div></div></div>"
            ]
          },
          "metadata": {},
          "execution_count": 98
        }
      ],
      "source": [
        "# Algorithm training X_train, X_test, y_train, y_test\n",
        "kn_model = kn_pipeline.fit(X_train.values.astype('U'), y_train.values.astype('int64'))\n",
        "kn_model"
      ]
    },
    {
      "cell_type": "code",
      "execution_count": 99,
      "id": "a0caeba5-6674-4e06-82f7-81fc199f0e75",
      "metadata": {
        "colab": {
          "base_uri": "https://localhost:8080/"
        },
        "id": "a0caeba5-6674-4e06-82f7-81fc199f0e75",
        "outputId": "73840a16-12fa-46fc-c0fc-aa5a3f611b12",
        "tags": []
      },
      "outputs": [
        {
          "output_type": "execute_result",
          "data": {
            "text/plain": [
              "array([-1,  0,  1])"
            ]
          },
          "metadata": {},
          "execution_count": 99
        }
      ],
      "source": [
        "y_pred = kn_model.predict(X_test.values.astype('U'))\n",
        "kn_model.classes_"
      ]
    },
    {
      "cell_type": "code",
      "execution_count": 100,
      "id": "e64de012-a9ef-4b92-bf1a-5dd7d72ce4f3",
      "metadata": {
        "colab": {
          "base_uri": "https://localhost:8080/"
        },
        "id": "e64de012-a9ef-4b92-bf1a-5dd7d72ce4f3",
        "outputId": "62cdf9fa-3d93-4c16-8821-6e6bee1412a2",
        "tags": []
      },
      "outputs": [
        {
          "output_type": "stream",
          "name": "stdout",
          "text": [
            "[[623 335   8]\n",
            " [281 398   3]\n",
            " [ 54  49   3]]\n"
          ]
        }
      ],
      "source": [
        "cm = confusion_matrix(y_test, y_pred, labels=kn_model.classes_)\n",
        "print(cm)"
      ]
    },
    {
      "cell_type": "code",
      "execution_count": 101,
      "id": "8a6e17da-90f0-44e5-a488-4710405d3dc7",
      "metadata": {
        "colab": {
          "base_uri": "https://localhost:8080/",
          "height": 296
        },
        "id": "8a6e17da-90f0-44e5-a488-4710405d3dc7",
        "outputId": "26b45bb7-4dde-4283-c302-ef535378d8d1",
        "tags": []
      },
      "outputs": [
        {
          "output_type": "execute_result",
          "data": {
            "text/plain": [
              "<sklearn.metrics._plot.confusion_matrix.ConfusionMatrixDisplay at 0x7fc59bda7c70>"
            ]
          },
          "metadata": {},
          "execution_count": 101
        },
        {
          "output_type": "display_data",
          "data": {
            "text/plain": [
              "<Figure size 432x288 with 2 Axes>"
            ],
            "image/png": "[encoded data removed]"
          },
          "metadata": {
            "needs_background": "light"
          }
        }
      ],
      "source": [
        "cm_dsp=ConfusionMatrixDisplay(confusion_matrix=cm, display_labels=['Negatives', 'Neutral', 'Positive'])\n",
        "cm_dsp.plot()"
      ]
    },
    {
      "cell_type": "code",
      "execution_count": 102,
      "id": "2fc917b0-4651-44d4-945d-ba7ec803e476",
      "metadata": {
        "colab": {
          "base_uri": "https://localhost:8080/"
        },
        "id": "2fc917b0-4651-44d4-945d-ba7ec803e476",
        "outputId": "6bf649aa-dc7e-4923-fc40-9b67052e4f39",
        "tags": []
      },
      "outputs": [
        {
          "output_type": "stream",
          "name": "stdout",
          "text": [
            "Model Score: 0.5838084378563284\n",
            "Model Score: 58.38%\n",
            "\n",
            "Accuracy: 0.5838084378563284\n",
            "Accuracy: 58.38%\n",
            "\n",
            "F1-score: 0.41377499820122776\n",
            "F1-score: 41.38%\n",
            "\n",
            "CPU times and Wall time: \n",
            "CPU times: user 6.07 s, sys: 17.2 ms, total: 6.09 s\n",
            "Wall time: 5.77 s\n"
          ]
        }
      ],
      "source": [
        "%%time\n",
        "\n",
        "#predicting \n",
        "y_pred = kn_model.predict(X_test.values.astype('U'))\n",
        "\n",
        "model_score = kn_model.score(X_test.values.astype('U'), y_test.values.astype('int64'))\n",
        "print(f'Model Score: {model_score}')\n",
        "print(f'Model Score: {model_score*100:.2f}%')\n",
        "accuracy = accuracy_score(y_test, y_pred)\n",
        "print()\n",
        "print(f\"Accuracy: {accuracy}\")\n",
        "print(f\"Accuracy: {accuracy*100:.2f}%\")\n",
        "print()\n",
        "f1 = f1_score(y_test, y_pred, average='macro')\n",
        "print(f\"F1-score: {f1}\")\n",
        "print(f\"F1-score: {f1*100:.2f}%\")\n",
        "print()\n",
        "print(\"CPU times and Wall time: \")"
      ]
    },
    {
      "cell_type": "code",
      "execution_count": 103,
      "id": "311caeee-63a8-41e6-9fa5-ffc65c10a83f",
      "metadata": {
        "colab": {
          "base_uri": "https://localhost:8080/"
        },
        "id": "311caeee-63a8-41e6-9fa5-ffc65c10a83f",
        "outputId": "9443ee6d-cfee-4251-9635-fd7f9af8487f"
      },
      "outputs": [
        {
          "output_type": "execute_result",
          "data": {
            "text/plain": [
              "['models/KNeighborsClassifier_model_score_58.38.pkl']"
            ]
          },
          "metadata": {},
          "execution_count": 103
        }
      ],
      "source": [
        "# Save to file / directory\n",
        "joblib_file = \"models/KNeighborsClassifier_model_score_\"+ str(round(accuracy*100,2))+\".pkl\"\n",
        "joblib.dump(kn_model, joblib_file)"
      ]
    },
    {
      "cell_type": "markdown",
      "id": "c7e1b176-06c5-4d4b-acf1-a7444721a029",
      "metadata": {
        "id": "c7e1b176-06c5-4d4b-acf1-a7444721a029"
      },
      "source": [
        "# 4.5 LOGISTIC REGRESSION "
      ]
    },
    {
      "cell_type": "code",
      "execution_count": 104,
      "id": "3d78a162-5fca-4e8f-b7f4-9b7ad0def044",
      "metadata": {
        "id": "3d78a162-5fca-4e8f-b7f4-9b7ad0def044"
      },
      "outputs": [],
      "source": [
        "# Initialize a vectorization and modelling pipeline\n",
        "lr_pipeline = Pipeline([\n",
        "     ('vect', CountVectorizer(ngram_range=(1,5))),\n",
        "     ('tfidf', TfidfTransformer()),\n",
        "     ('clf', LogisticRegression()), \n",
        " ])"
      ]
    },
    {
      "cell_type": "code",
      "execution_count": 105,
      "id": "cb85080c-7c8c-4fee-83f4-9a769d2730ca",
      "metadata": {
        "colab": {
          "base_uri": "https://localhost:8080/",
          "height": 161
        },
        "id": "cb85080c-7c8c-4fee-83f4-9a769d2730ca",
        "outputId": "f8be3c26-7dcc-41b1-a8a1-68556365d0c5"
      },
      "outputs": [
        {
          "output_type": "execute_result",
          "data": {
            "text/plain": [
              "Pipeline(steps=[('vect', CountVectorizer(ngram_range=(1, 5))),\n",
              "                ('tfidf', TfidfTransformer()), ('clf', LogisticRegression())])"
            ],
            "text/html": [
              "<style>#sk-container-id-5 {color: black;background-color: white;}#sk-container-id-5 pre{padding: 0;}#sk-container-id-5 div.sk-toggleable {background-color: white;}#sk-container-id-5 label.sk-toggleable__label {cursor: pointer;display: block;width: 100%;margin-bottom: 0;padding: 0.3em;box-sizing: border-box;text-align: center;}#sk-container-id-5 label.sk-toggleable__label-arrow:before {content: \"▸\";float: left;margin-right: 0.25em;color: #696969;}#sk-container-id-5 label.sk-toggleable__label-arrow:hover:before {color: black;}#sk-container-id-5 div.sk-estimator:hover label.sk-toggleable__label-arrow:before {color: black;}#sk-container-id-5 div.sk-toggleable__content {max-height: 0;max-width: 0;overflow: hidden;text-align: left;background-color: #f0f8ff;}#sk-container-id-5 div.sk-toggleable__content pre {margin: 0.2em;color: black;border-radius: 0.25em;background-color: #f0f8ff;}#sk-container-id-5 input.sk-toggleable__control:checked~div.sk-toggleable__content {max-height: 200px;max-width: 100%;overflow: auto;}#sk-container-id-5 input.sk-toggleable__control:checked~label.sk-toggleable__label-arrow:before {content: \"▾\";}#sk-container-id-5 div.sk-estimator input.sk-toggleable__control:checked~label.sk-toggleable__label {background-color: #d4ebff;}#sk-container-id-5 div.sk-label input.sk-toggleable__control:checked~label.sk-toggleable__label {background-color: #d4ebff;}#sk-container-id-5 input.sk-hidden--visually {border: 0;clip: rect(1px 1px 1px 1px);clip: rect(1px, 1px, 1px, 1px);height: 1px;margin: -1px;overflow: hidden;padding: 0;position: absolute;width: 1px;}#sk-container-id-5 div.sk-estimator {font-family: monospace;background-color: #f0f8ff;border: 1px dotted black;border-radius: 0.25em;box-sizing: border-box;margin-bottom: 0.5em;}#sk-container-id-5 div.sk-estimator:hover {background-color: #d4ebff;}#sk-container-id-5 div.sk-parallel-item::after {content: \"\";width: 100%;border-bottom: 1px solid gray;flex-grow: 1;}#sk-container-id-5 div.sk-label:hover label.sk-toggleable__label {background-color: #d4ebff;}#sk-container-id-5 div.sk-serial::before {content: \"\";position: absolute;border-left: 1px solid gray;box-sizing: border-box;top: 0;bottom: 0;left: 50%;z-index: 0;}#sk-container-id-5 div.sk-serial {display: flex;flex-direction: column;align-items: center;background-color: white;padding-right: 0.2em;padding-left: 0.2em;position: relative;}#sk-container-id-5 div.sk-item {position: relative;z-index: 1;}#sk-container-id-5 div.sk-parallel {display: flex;align-items: stretch;justify-content: center;background-color: white;position: relative;}#sk-container-id-5 div.sk-item::before, #sk-container-id-5 div.sk-parallel-item::before {content: \"\";position: absolute;border-left: 1px solid gray;box-sizing: border-box;top: 0;bottom: 0;left: 50%;z-index: -1;}#sk-container-id-5 div.sk-parallel-item {display: flex;flex-direction: column;z-index: 1;position: relative;background-color: white;}#sk-container-id-5 div.sk-parallel-item:first-child::after {align-self: flex-end;width: 50%;}#sk-container-id-5 div.sk-parallel-item:last-child::after {align-self: flex-start;width: 50%;}#sk-container-id-5 div.sk-parallel-item:only-child::after {width: 0;}#sk-container-id-5 div.sk-dashed-wrapped {border: 1px dashed gray;margin: 0 0.4em 0.5em 0.4em;box-sizing: border-box;padding-bottom: 0.4em;background-color: white;}#sk-container-id-5 div.sk-label label {font-family: monospace;font-weight: bold;display: inline-block;line-height: 1.2em;}#sk-container-id-5 div.sk-label-container {text-align: center;}#sk-container-id-5 div.sk-container {/* jupyter's `normalize.less` sets `[hidden] { display: none; }` but bootstrap.min.css set `[hidden] { display: none !important; }` so we also need the `!important` here to be able to override the default hidden behavior on the sphinx rendered scikit-learn.org. See: https://github.com/scikit-learn/scikit-learn/issues/21755 */display: inline-block !important;position: relative;}#sk-container-id-5 div.sk-text-repr-fallback {display: none;}</style><div id=\"sk-container-id-5\" class=\"sk-top-container\"><div class=\"sk-text-repr-fallback\"><pre>Pipeline(steps=[(&#x27;vect&#x27;, CountVectorizer(ngram_range=(1, 5))),\n",
              "                (&#x27;tfidf&#x27;, TfidfTransformer()), (&#x27;clf&#x27;, LogisticRegression())])</pre><b>In a Jupyter environment, please rerun this cell to show the HTML representation or trust the notebook. <br />On GitHub, the HTML representation is unable to render, please try loading this page with nbviewer.org.</b></div><div class=\"sk-container\" hidden><div class=\"sk-item sk-dashed-wrapped\"><div class=\"sk-label-container\"><div class=\"sk-label sk-toggleable\"><input class=\"sk-toggleable__control sk-hidden--visually\" id=\"sk-estimator-id-17\" type=\"checkbox\" ><label for=\"sk-estimator-id-17\" class=\"sk-toggleable__label sk-toggleable__label-arrow\">Pipeline</label><div class=\"sk-toggleable__content\"><pre>Pipeline(steps=[(&#x27;vect&#x27;, CountVectorizer(ngram_range=(1, 5))),\n",
              "                (&#x27;tfidf&#x27;, TfidfTransformer()), (&#x27;clf&#x27;, LogisticRegression())])</pre></div></div></div><div class=\"sk-serial\"><div class=\"sk-item\"><div class=\"sk-estimator sk-toggleable\"><input class=\"sk-toggleable__control sk-hidden--visually\" id=\"sk-estimator-id-18\" type=\"checkbox\" ><label for=\"sk-estimator-id-18\" class=\"sk-toggleable__label sk-toggleable__label-arrow\">CountVectorizer</label><div class=\"sk-toggleable__content\"><pre>CountVectorizer(ngram_range=(1, 5))</pre></div></div></div><div class=\"sk-item\"><div class=\"sk-estimator sk-toggleable\"><input class=\"sk-toggleable__control sk-hidden--visually\" id=\"sk-estimator-id-19\" type=\"checkbox\" ><label for=\"sk-estimator-id-19\" class=\"sk-toggleable__label sk-toggleable__label-arrow\">TfidfTransformer</label><div class=\"sk-toggleable__content\"><pre>TfidfTransformer()</pre></div></div></div><div class=\"sk-item\"><div class=\"sk-estimator sk-toggleable\"><input class=\"sk-toggleable__control sk-hidden--visually\" id=\"sk-estimator-id-20\" type=\"checkbox\" ><label for=\"sk-estimator-id-20\" class=\"sk-toggleable__label sk-toggleable__label-arrow\">LogisticRegression</label><div class=\"sk-toggleable__content\"><pre>LogisticRegression()</pre></div></div></div></div></div></div></div>"
            ]
          },
          "metadata": {},
          "execution_count": 105
        }
      ],
      "source": [
        "# Algorithm training X_train, X_test, y_train, y_test\n",
        "lr_model = lr_pipeline.fit(X_train.values.astype('U'), y_train.values.astype('int64'))\n",
        "lr_model"
      ]
    },
    {
      "cell_type": "code",
      "execution_count": 106,
      "id": "fa8b27dc-2d1a-4a5e-be0e-48d5bf3701e0",
      "metadata": {
        "colab": {
          "base_uri": "https://localhost:8080/"
        },
        "id": "fa8b27dc-2d1a-4a5e-be0e-48d5bf3701e0",
        "outputId": "aace3654-f1b1-4aa4-bae3-6367ef140af0"
      },
      "outputs": [
        {
          "output_type": "execute_result",
          "data": {
            "text/plain": [
              "array([-1,  0,  1])"
            ]
          },
          "metadata": {},
          "execution_count": 106
        }
      ],
      "source": [
        "y_pred = lr_model.predict(X_test.values.astype('U'))\n",
        "lr_model.classes_"
      ]
    },
    {
      "cell_type": "code",
      "execution_count": 107,
      "id": "535cde6c-3579-438e-bd10-432affb6b948",
      "metadata": {
        "colab": {
          "base_uri": "https://localhost:8080/"
        },
        "id": "535cde6c-3579-438e-bd10-432affb6b948",
        "outputId": "40aacf4b-945c-4360-bb51-1c1199969c82",
        "tags": []
      },
      "outputs": [
        {
          "output_type": "stream",
          "name": "stdout",
          "text": [
            "[[787 179   0]\n",
            " [308 373   1]\n",
            " [ 71  35   0]]\n"
          ]
        }
      ],
      "source": [
        "cm = confusion_matrix(y_test, y_pred, labels=lr_model.classes_)\n",
        "print(cm)"
      ]
    },
    {
      "cell_type": "code",
      "execution_count": 108,
      "id": "82844cb8-dda7-4348-8a23-cbf8e5df33f6",
      "metadata": {
        "colab": {
          "base_uri": "https://localhost:8080/",
          "height": 296
        },
        "id": "82844cb8-dda7-4348-8a23-cbf8e5df33f6",
        "outputId": "56ee3ec5-17ed-48ae-a753-2c05e19abecf",
        "tags": []
      },
      "outputs": [
        {
          "output_type": "execute_result",
          "data": {
            "text/plain": [
              "<sklearn.metrics._plot.confusion_matrix.ConfusionMatrixDisplay at 0x7fc59c07ee80>"
            ]
          },
          "metadata": {},
          "execution_count": 108
        },
        {
          "output_type": "display_data",
          "data": {
            "text/plain": [
              "<Figure size 432x288 with 2 Axes>"
            ],
            "image/png": "[encoded data removed]"
          },
          "metadata": {
            "needs_background": "light"
          }
        }
      ],
      "source": [
        "cm_dsp=ConfusionMatrixDisplay(confusion_matrix=cm, display_labels=['Negatives', 'Neutral', 'Positive'])\n",
        "cm_dsp.plot()"
      ]
    },
    {
      "cell_type": "code",
      "execution_count": 109,
      "id": "e69d986b-1336-4ab2-9750-8c490e6ee0bc",
      "metadata": {
        "colab": {
          "base_uri": "https://localhost:8080/"
        },
        "id": "e69d986b-1336-4ab2-9750-8c490e6ee0bc",
        "outputId": "1ec70386-0ecd-453c-b407-384fa3a87427",
        "tags": []
      },
      "outputs": [
        {
          "output_type": "stream",
          "name": "stdout",
          "text": [
            "Model Score: 0.661345496009122\n",
            "Model Score: 66.13%\n",
            "\n",
            "Accuracy: 0.661345496009122\n",
            "Accuracy: 66.13%\n",
            "\n",
            "F1-score: 0.4420461271352121\n",
            "F1-score: 44.20%\n",
            "\n",
            "CPU times and Wall time: \n",
            "CPU times: user 211 ms, sys: 0 ns, total: 211 ms\n",
            "Wall time: 211 ms\n"
          ]
        }
      ],
      "source": [
        "%%time\n",
        "\n",
        "#predicting \n",
        "y_pred = lr_model.predict(X_test.values.astype('U'))\n",
        "\n",
        "model_score = lr_model.score(X_test.values.astype('U'), y_test.values.astype('int64'))\n",
        "print(f'Model Score: {model_score}')\n",
        "print(f'Model Score: {model_score*100:.2f}%')\n",
        "accuracy = accuracy_score(y_test, y_pred)\n",
        "print()\n",
        "print(f\"Accuracy: {accuracy}\")\n",
        "print(f\"Accuracy: {accuracy*100:.2f}%\")\n",
        "print()\n",
        "f1 = f1_score(y_test, y_pred, average='macro')\n",
        "print(f\"F1-score: {f1}\")\n",
        "print(f\"F1-score: {f1*100:.2f}%\")\n",
        "print()\n",
        "print(\"CPU times and Wall time: \")"
      ]
    },
    {
      "cell_type": "code",
      "execution_count": 110,
      "id": "c339c5a7-424f-4f4d-ae17-6321bd13a317",
      "metadata": {
        "colab": {
          "base_uri": "https://localhost:8080/"
        },
        "id": "c339c5a7-424f-4f4d-ae17-6321bd13a317",
        "outputId": "06c7ec77-723f-4300-b3f8-e4f5520a1522"
      },
      "outputs": [
        {
          "output_type": "execute_result",
          "data": {
            "text/plain": [
              "['models/Logistic regression_model_score_66.13.pkl']"
            ]
          },
          "metadata": {},
          "execution_count": 110
        }
      ],
      "source": [
        "# Save to file / directory\n",
        "joblib_file = \"models/Logistic regression_model_score_\"+ str(round(accuracy*100,2))+\".pkl\"\n",
        "joblib.dump(kn_model, joblib_file)"
      ]
    },
    {
      "cell_type": "markdown",
      "id": "0c97d430-6c91-41cb-91b0-e929668f38b3",
      "metadata": {
        "id": "0c97d430-6c91-41cb-91b0-e929668f38b3"
      },
      "source": [
        "# 4.6 GRADIENT BOOSTING CLASSIFIER"
      ]
    },
    {
      "cell_type": "code",
      "execution_count": 111,
      "id": "b6df35e1-bcf3-4397-badb-491f992f95c8",
      "metadata": {
        "id": "b6df35e1-bcf3-4397-badb-491f992f95c8"
      },
      "outputs": [],
      "source": [
        "# Initialize a vectorization and modelling pipeline\n",
        "gd_pipeline = Pipeline([\n",
        "     ('vect', CountVectorizer(ngram_range=(1,1))),\n",
        "     ('tfidf', TfidfTransformer()),\n",
        "     ('clf', GradientBoostingClassifier()), \n",
        " ])"
      ]
    },
    {
      "cell_type": "code",
      "execution_count": 112,
      "id": "00c75729-2b87-49a9-95d5-ea22932a36b3",
      "metadata": {
        "colab": {
          "base_uri": "https://localhost:8080/",
          "height": 161
        },
        "id": "00c75729-2b87-49a9-95d5-ea22932a36b3",
        "outputId": "ea119848-09fe-46b4-8da5-6196b1628c6b"
      },
      "outputs": [
        {
          "output_type": "execute_result",
          "data": {
            "text/plain": [
              "Pipeline(steps=[('vect', CountVectorizer()), ('tfidf', TfidfTransformer()),\n",
              "                ('clf', GradientBoostingClassifier())])"
            ],
            "text/html": [
              "<style>#sk-container-id-6 {color: black;background-color: white;}#sk-container-id-6 pre{padding: 0;}#sk-container-id-6 div.sk-toggleable {background-color: white;}#sk-container-id-6 label.sk-toggleable__label {cursor: pointer;display: block;width: 100%;margin-bottom: 0;padding: 0.3em;box-sizing: border-box;text-align: center;}#sk-container-id-6 label.sk-toggleable__label-arrow:before {content: \"▸\";float: left;margin-right: 0.25em;color: #696969;}#sk-container-id-6 label.sk-toggleable__label-arrow:hover:before {color: black;}#sk-container-id-6 div.sk-estimator:hover label.sk-toggleable__label-arrow:before {color: black;}#sk-container-id-6 div.sk-toggleable__content {max-height: 0;max-width: 0;overflow: hidden;text-align: left;background-color: #f0f8ff;}#sk-container-id-6 div.sk-toggleable__content pre {margin: 0.2em;color: black;border-radius: 0.25em;background-color: #f0f8ff;}#sk-container-id-6 input.sk-toggleable__control:checked~div.sk-toggleable__content {max-height: 200px;max-width: 100%;overflow: auto;}#sk-container-id-6 input.sk-toggleable__control:checked~label.sk-toggleable__label-arrow:before {content: \"▾\";}#sk-container-id-6 div.sk-estimator input.sk-toggleable__control:checked~label.sk-toggleable__label {background-color: #d4ebff;}#sk-container-id-6 div.sk-label input.sk-toggleable__control:checked~label.sk-toggleable__label {background-color: #d4ebff;}#sk-container-id-6 input.sk-hidden--visually {border: 0;clip: rect(1px 1px 1px 1px);clip: rect(1px, 1px, 1px, 1px);height: 1px;margin: -1px;overflow: hidden;padding: 0;position: absolute;width: 1px;}#sk-container-id-6 div.sk-estimator {font-family: monospace;background-color: #f0f8ff;border: 1px dotted black;border-radius: 0.25em;box-sizing: border-box;margin-bottom: 0.5em;}#sk-container-id-6 div.sk-estimator:hover {background-color: #d4ebff;}#sk-container-id-6 div.sk-parallel-item::after {content: \"\";width: 100%;border-bottom: 1px solid gray;flex-grow: 1;}#sk-container-id-6 div.sk-label:hover label.sk-toggleable__label {background-color: #d4ebff;}#sk-container-id-6 div.sk-serial::before {content: \"\";position: absolute;border-left: 1px solid gray;box-sizing: border-box;top: 0;bottom: 0;left: 50%;z-index: 0;}#sk-container-id-6 div.sk-serial {display: flex;flex-direction: column;align-items: center;background-color: white;padding-right: 0.2em;padding-left: 0.2em;position: relative;}#sk-container-id-6 div.sk-item {position: relative;z-index: 1;}#sk-container-id-6 div.sk-parallel {display: flex;align-items: stretch;justify-content: center;background-color: white;position: relative;}#sk-container-id-6 div.sk-item::before, #sk-container-id-6 div.sk-parallel-item::before {content: \"\";position: absolute;border-left: 1px solid gray;box-sizing: border-box;top: 0;bottom: 0;left: 50%;z-index: -1;}#sk-container-id-6 div.sk-parallel-item {display: flex;flex-direction: column;z-index: 1;position: relative;background-color: white;}#sk-container-id-6 div.sk-parallel-item:first-child::after {align-self: flex-end;width: 50%;}#sk-container-id-6 div.sk-parallel-item:last-child::after {align-self: flex-start;width: 50%;}#sk-container-id-6 div.sk-parallel-item:only-child::after {width: 0;}#sk-container-id-6 div.sk-dashed-wrapped {border: 1px dashed gray;margin: 0 0.4em 0.5em 0.4em;box-sizing: border-box;padding-bottom: 0.4em;background-color: white;}#sk-container-id-6 div.sk-label label {font-family: monospace;font-weight: bold;display: inline-block;line-height: 1.2em;}#sk-container-id-6 div.sk-label-container {text-align: center;}#sk-container-id-6 div.sk-container {/* jupyter's `normalize.less` sets `[hidden] { display: none; }` but bootstrap.min.css set `[hidden] { display: none !important; }` so we also need the `!important` here to be able to override the default hidden behavior on the sphinx rendered scikit-learn.org. See: https://github.com/scikit-learn/scikit-learn/issues/21755 */display: inline-block !important;position: relative;}#sk-container-id-6 div.sk-text-repr-fallback {display: none;}</style><div id=\"sk-container-id-6\" class=\"sk-top-container\"><div class=\"sk-text-repr-fallback\"><pre>Pipeline(steps=[(&#x27;vect&#x27;, CountVectorizer()), (&#x27;tfidf&#x27;, TfidfTransformer()),\n",
              "                (&#x27;clf&#x27;, GradientBoostingClassifier())])</pre><b>In a Jupyter environment, please rerun this cell to show the HTML representation or trust the notebook. <br />On GitHub, the HTML representation is unable to render, please try loading this page with nbviewer.org.</b></div><div class=\"sk-container\" hidden><div class=\"sk-item sk-dashed-wrapped\"><div class=\"sk-label-container\"><div class=\"sk-label sk-toggleable\"><input class=\"sk-toggleable__control sk-hidden--visually\" id=\"sk-estimator-id-21\" type=\"checkbox\" ><label for=\"sk-estimator-id-21\" class=\"sk-toggleable__label sk-toggleable__label-arrow\">Pipeline</label><div class=\"sk-toggleable__content\"><pre>Pipeline(steps=[(&#x27;vect&#x27;, CountVectorizer()), (&#x27;tfidf&#x27;, TfidfTransformer()),\n",
              "                (&#x27;clf&#x27;, GradientBoostingClassifier())])</pre></div></div></div><div class=\"sk-serial\"><div class=\"sk-item\"><div class=\"sk-estimator sk-toggleable\"><input class=\"sk-toggleable__control sk-hidden--visually\" id=\"sk-estimator-id-22\" type=\"checkbox\" ><label for=\"sk-estimator-id-22\" class=\"sk-toggleable__label sk-toggleable__label-arrow\">CountVectorizer</label><div class=\"sk-toggleable__content\"><pre>CountVectorizer()</pre></div></div></div><div class=\"sk-item\"><div class=\"sk-estimator sk-toggleable\"><input class=\"sk-toggleable__control sk-hidden--visually\" id=\"sk-estimator-id-23\" type=\"checkbox\" ><label for=\"sk-estimator-id-23\" class=\"sk-toggleable__label sk-toggleable__label-arrow\">TfidfTransformer</label><div class=\"sk-toggleable__content\"><pre>TfidfTransformer()</pre></div></div></div><div class=\"sk-item\"><div class=\"sk-estimator sk-toggleable\"><input class=\"sk-toggleable__control sk-hidden--visually\" id=\"sk-estimator-id-24\" type=\"checkbox\" ><label for=\"sk-estimator-id-24\" class=\"sk-toggleable__label sk-toggleable__label-arrow\">GradientBoostingClassifier</label><div class=\"sk-toggleable__content\"><pre>GradientBoostingClassifier()</pre></div></div></div></div></div></div></div>"
            ]
          },
          "metadata": {},
          "execution_count": 112
        }
      ],
      "source": [
        "# Algorithm training X_train, X_test, y_train, y_test\n",
        "gd_model = gd_pipeline.fit(X_train.values.astype('U'), y_train.values.astype('int64'))\n",
        "gd_model"
      ]
    },
    {
      "cell_type": "code",
      "execution_count": 113,
      "id": "48bc3d8e-c29e-4ea2-8935-bb52c35c44df",
      "metadata": {
        "colab": {
          "base_uri": "https://localhost:8080/"
        },
        "id": "48bc3d8e-c29e-4ea2-8935-bb52c35c44df",
        "outputId": "fa57af6a-e8ee-405c-e5f2-503a5125a5d9",
        "tags": []
      },
      "outputs": [
        {
          "output_type": "execute_result",
          "data": {
            "text/plain": [
              "array([-1,  0,  1])"
            ]
          },
          "metadata": {},
          "execution_count": 113
        }
      ],
      "source": [
        "y_pred = gd_model.predict(X_test.values.astype('U'))\n",
        "gd_model.classes_"
      ]
    },
    {
      "cell_type": "code",
      "execution_count": 114,
      "id": "7f9e1ea1-b79a-4bb5-8fa4-e0aeda1650ef",
      "metadata": {
        "colab": {
          "base_uri": "https://localhost:8080/"
        },
        "id": "7f9e1ea1-b79a-4bb5-8fa4-e0aeda1650ef",
        "outputId": "a846ad38-1ae8-4e59-a104-0c12066d6a21",
        "tags": []
      },
      "outputs": [
        {
          "output_type": "stream",
          "name": "stdout",
          "text": [
            "[[781 184   1]\n",
            " [352 326   4]\n",
            " [ 66  34   6]]\n"
          ]
        }
      ],
      "source": [
        "cm = confusion_matrix(y_test, y_pred, labels=gd_model.classes_)\n",
        "print(cm)"
      ]
    },
    {
      "cell_type": "code",
      "execution_count": 115,
      "id": "655ba664-3b1e-4b3c-9e4c-4c2274600797",
      "metadata": {
        "colab": {
          "base_uri": "https://localhost:8080/",
          "height": 296
        },
        "id": "655ba664-3b1e-4b3c-9e4c-4c2274600797",
        "outputId": "c19bb98f-c34a-418e-bb83-a4af4587c49a",
        "tags": []
      },
      "outputs": [
        {
          "output_type": "execute_result",
          "data": {
            "text/plain": [
              "<sklearn.metrics._plot.confusion_matrix.ConfusionMatrixDisplay at 0x7fc58ef90cd0>"
            ]
          },
          "metadata": {},
          "execution_count": 115
        },
        {
          "output_type": "display_data",
          "data": {
            "text/plain": [
              "<Figure size 432x288 with 2 Axes>"
            ],
            "image/png": "[encoded data removed]"
          },
          "metadata": {
            "needs_background": "light"
          }
        }
      ],
      "source": [
        "cm_dsp=ConfusionMatrixDisplay(confusion_matrix=cm, display_labels=['Negatives', 'Neutral', 'Positive'])\n",
        "cm_dsp.plot()"
      ]
    },
    {
      "cell_type": "code",
      "execution_count": 116,
      "id": "abf2f754-8bfe-49ab-9af4-de6dcc5edb15",
      "metadata": {
        "colab": {
          "base_uri": "https://localhost:8080/"
        },
        "id": "abf2f754-8bfe-49ab-9af4-de6dcc5edb15",
        "outputId": "b051cafb-c592-4b90-902b-b30378c6bf4f",
        "tags": []
      },
      "outputs": [
        {
          "output_type": "stream",
          "name": "stdout",
          "text": [
            "Model Score: 0.6345496009122007\n",
            "Model Score: 63.45%\n",
            "\n",
            "Accuracy: 0.6345496009122007\n",
            "Accuracy: 63.45%\n",
            "\n",
            "F1-score: 0.45195097644377863\n",
            "F1-score: 45.20%\n",
            "\n",
            "CPU times and Wall time: \n",
            "CPU times: user 69.2 ms, sys: 0 ns, total: 69.2 ms\n",
            "Wall time: 69.3 ms\n"
          ]
        }
      ],
      "source": [
        "%%time\n",
        "\n",
        "#predicting \n",
        "y_pred = gd_model.predict(X_test.values.astype('U'))\n",
        "\n",
        "model_score = gd_model.score(X_test.values.astype('U'), y_test.values.astype('int64'))\n",
        "print(f'Model Score: {model_score}')\n",
        "print(f'Model Score: {model_score*100:.2f}%')\n",
        "accuracy = accuracy_score(y_test, y_pred)\n",
        "print()\n",
        "print(f\"Accuracy: {accuracy}\")\n",
        "print(f\"Accuracy: {accuracy*100:.2f}%\")\n",
        "print()\n",
        "f1 = f1_score(y_test, y_pred, average='macro')\n",
        "print(f\"F1-score: {f1}\")\n",
        "print(f\"F1-score: {f1*100:.2f}%\")\n",
        "print()\n",
        "print(\"CPU times and Wall time: \")"
      ]
    },
    {
      "cell_type": "code",
      "execution_count": 117,
      "id": "e64ad1f8-c324-44bc-9d33-0e1832f65fc2",
      "metadata": {
        "colab": {
          "base_uri": "https://localhost:8080/"
        },
        "id": "e64ad1f8-c324-44bc-9d33-0e1832f65fc2",
        "outputId": "eeb62835-a34e-4f44-f15e-113dde6ce37f"
      },
      "outputs": [
        {
          "output_type": "execute_result",
          "data": {
            "text/plain": [
              "['models/GradientBoostingClassifier_model_score_63.45.pkl']"
            ]
          },
          "metadata": {},
          "execution_count": 117
        }
      ],
      "source": [
        "# Save to file / directory\n",
        "joblib_file = \"models/GradientBoostingClassifier_model_score_\"+ str(round(accuracy*100,2))+\".pkl\"\n",
        "joblib.dump(gd_model, joblib_file)"
      ]
    },
    {
      "cell_type": "markdown",
      "id": "f1279b11-ca8c-49f2-bc3a-5a06ba504561",
      "metadata": {
        "id": "f1279b11-ca8c-49f2-bc3a-5a06ba504561"
      },
      "source": [
        "# 4.7 MULTINOMIALNB"
      ]
    },
    {
      "cell_type": "code",
      "execution_count": 118,
      "id": "468d1350-14b9-4c4d-a658-41aa3d86958a",
      "metadata": {
        "id": "468d1350-14b9-4c4d-a658-41aa3d86958a"
      },
      "outputs": [],
      "source": [
        "# Initialize a vectorization and modelling pipeline\n",
        "mnb_pipeline = Pipeline([\n",
        "     ('vect', CountVectorizer(ngram_range=(1,1))),\n",
        "     ('tfidf', TfidfTransformer()),\n",
        "     ('clf', MultinomialNB()), \n",
        " ])"
      ]
    },
    {
      "cell_type": "code",
      "execution_count": 119,
      "id": "eafbdaca-81c0-49a0-aab9-aeeca501e44c",
      "metadata": {
        "colab": {
          "base_uri": "https://localhost:8080/",
          "height": 161
        },
        "id": "eafbdaca-81c0-49a0-aab9-aeeca501e44c",
        "outputId": "e26d6410-c1a7-40fc-8e3b-53327724567d"
      },
      "outputs": [
        {
          "output_type": "execute_result",
          "data": {
            "text/plain": [
              "Pipeline(steps=[('vect', CountVectorizer()), ('tfidf', TfidfTransformer()),\n",
              "                ('clf', MultinomialNB())])"
            ],
            "text/html": [
              "<style>#sk-container-id-7 {color: black;background-color: white;}#sk-container-id-7 pre{padding: 0;}#sk-container-id-7 div.sk-toggleable {background-color: white;}#sk-container-id-7 label.sk-toggleable__label {cursor: pointer;display: block;width: 100%;margin-bottom: 0;padding: 0.3em;box-sizing: border-box;text-align: center;}#sk-container-id-7 label.sk-toggleable__label-arrow:before {content: \"▸\";float: left;margin-right: 0.25em;color: #696969;}#sk-container-id-7 label.sk-toggleable__label-arrow:hover:before {color: black;}#sk-container-id-7 div.sk-estimator:hover label.sk-toggleable__label-arrow:before {color: black;}#sk-container-id-7 div.sk-toggleable__content {max-height: 0;max-width: 0;overflow: hidden;text-align: left;background-color: #f0f8ff;}#sk-container-id-7 div.sk-toggleable__content pre {margin: 0.2em;color: black;border-radius: 0.25em;background-color: #f0f8ff;}#sk-container-id-7 input.sk-toggleable__control:checked~div.sk-toggleable__content {max-height: 200px;max-width: 100%;overflow: auto;}#sk-container-id-7 input.sk-toggleable__control:checked~label.sk-toggleable__label-arrow:before {content: \"▾\";}#sk-container-id-7 div.sk-estimator input.sk-toggleable__control:checked~label.sk-toggleable__label {background-color: #d4ebff;}#sk-container-id-7 div.sk-label input.sk-toggleable__control:checked~label.sk-toggleable__label {background-color: #d4ebff;}#sk-container-id-7 input.sk-hidden--visually {border: 0;clip: rect(1px 1px 1px 1px);clip: rect(1px, 1px, 1px, 1px);height: 1px;margin: -1px;overflow: hidden;padding: 0;position: absolute;width: 1px;}#sk-container-id-7 div.sk-estimator {font-family: monospace;background-color: #f0f8ff;border: 1px dotted black;border-radius: 0.25em;box-sizing: border-box;margin-bottom: 0.5em;}#sk-container-id-7 div.sk-estimator:hover {background-color: #d4ebff;}#sk-container-id-7 div.sk-parallel-item::after {content: \"\";width: 100%;border-bottom: 1px solid gray;flex-grow: 1;}#sk-container-id-7 div.sk-label:hover label.sk-toggleable__label {background-color: #d4ebff;}#sk-container-id-7 div.sk-serial::before {content: \"\";position: absolute;border-left: 1px solid gray;box-sizing: border-box;top: 0;bottom: 0;left: 50%;z-index: 0;}#sk-container-id-7 div.sk-serial {display: flex;flex-direction: column;align-items: center;background-color: white;padding-right: 0.2em;padding-left: 0.2em;position: relative;}#sk-container-id-7 div.sk-item {position: relative;z-index: 1;}#sk-container-id-7 div.sk-parallel {display: flex;align-items: stretch;justify-content: center;background-color: white;position: relative;}#sk-container-id-7 div.sk-item::before, #sk-container-id-7 div.sk-parallel-item::before {content: \"\";position: absolute;border-left: 1px solid gray;box-sizing: border-box;top: 0;bottom: 0;left: 50%;z-index: -1;}#sk-container-id-7 div.sk-parallel-item {display: flex;flex-direction: column;z-index: 1;position: relative;background-color: white;}#sk-container-id-7 div.sk-parallel-item:first-child::after {align-self: flex-end;width: 50%;}#sk-container-id-7 div.sk-parallel-item:last-child::after {align-self: flex-start;width: 50%;}#sk-container-id-7 div.sk-parallel-item:only-child::after {width: 0;}#sk-container-id-7 div.sk-dashed-wrapped {border: 1px dashed gray;margin: 0 0.4em 0.5em 0.4em;box-sizing: border-box;padding-bottom: 0.4em;background-color: white;}#sk-container-id-7 div.sk-label label {font-family: monospace;font-weight: bold;display: inline-block;line-height: 1.2em;}#sk-container-id-7 div.sk-label-container {text-align: center;}#sk-container-id-7 div.sk-container {/* jupyter's `normalize.less` sets `[hidden] { display: none; }` but bootstrap.min.css set `[hidden] { display: none !important; }` so we also need the `!important` here to be able to override the default hidden behavior on the sphinx rendered scikit-learn.org. See: https://github.com/scikit-learn/scikit-learn/issues/21755 */display: inline-block !important;position: relative;}#sk-container-id-7 div.sk-text-repr-fallback {display: none;}</style><div id=\"sk-container-id-7\" class=\"sk-top-container\"><div class=\"sk-text-repr-fallback\"><pre>Pipeline(steps=[(&#x27;vect&#x27;, CountVectorizer()), (&#x27;tfidf&#x27;, TfidfTransformer()),\n",
              "                (&#x27;clf&#x27;, MultinomialNB())])</pre><b>In a Jupyter environment, please rerun this cell to show the HTML representation or trust the notebook. <br />On GitHub, the HTML representation is unable to render, please try loading this page with nbviewer.org.</b></div><div class=\"sk-container\" hidden><div class=\"sk-item sk-dashed-wrapped\"><div class=\"sk-label-container\"><div class=\"sk-label sk-toggleable\"><input class=\"sk-toggleable__control sk-hidden--visually\" id=\"sk-estimator-id-25\" type=\"checkbox\" ><label for=\"sk-estimator-id-25\" class=\"sk-toggleable__label sk-toggleable__label-arrow\">Pipeline</label><div class=\"sk-toggleable__content\"><pre>Pipeline(steps=[(&#x27;vect&#x27;, CountVectorizer()), (&#x27;tfidf&#x27;, TfidfTransformer()),\n",
              "                (&#x27;clf&#x27;, MultinomialNB())])</pre></div></div></div><div class=\"sk-serial\"><div class=\"sk-item\"><div class=\"sk-estimator sk-toggleable\"><input class=\"sk-toggleable__control sk-hidden--visually\" id=\"sk-estimator-id-26\" type=\"checkbox\" ><label for=\"sk-estimator-id-26\" class=\"sk-toggleable__label sk-toggleable__label-arrow\">CountVectorizer</label><div class=\"sk-toggleable__content\"><pre>CountVectorizer()</pre></div></div></div><div class=\"sk-item\"><div class=\"sk-estimator sk-toggleable\"><input class=\"sk-toggleable__control sk-hidden--visually\" id=\"sk-estimator-id-27\" type=\"checkbox\" ><label for=\"sk-estimator-id-27\" class=\"sk-toggleable__label sk-toggleable__label-arrow\">TfidfTransformer</label><div class=\"sk-toggleable__content\"><pre>TfidfTransformer()</pre></div></div></div><div class=\"sk-item\"><div class=\"sk-estimator sk-toggleable\"><input class=\"sk-toggleable__control sk-hidden--visually\" id=\"sk-estimator-id-28\" type=\"checkbox\" ><label for=\"sk-estimator-id-28\" class=\"sk-toggleable__label sk-toggleable__label-arrow\">MultinomialNB</label><div class=\"sk-toggleable__content\"><pre>MultinomialNB()</pre></div></div></div></div></div></div></div>"
            ]
          },
          "metadata": {},
          "execution_count": 119
        }
      ],
      "source": [
        "# Algorithm training X_train, X_test, y_train, y_test\n",
        "mnb_model = mnb_pipeline.fit(X_train.values.astype('U'), y_train.values.astype('int64'))\n",
        "mnb_model"
      ]
    },
    {
      "cell_type": "code",
      "execution_count": 120,
      "id": "76d0eb39-cf85-487f-b645-af359d94885a",
      "metadata": {
        "colab": {
          "base_uri": "https://localhost:8080/"
        },
        "id": "76d0eb39-cf85-487f-b645-af359d94885a",
        "outputId": "cce26251-7e91-4828-9b72-cc6a4bcfb2c4",
        "tags": []
      },
      "outputs": [
        {
          "output_type": "execute_result",
          "data": {
            "text/plain": [
              "array([-1,  0,  1])"
            ]
          },
          "metadata": {},
          "execution_count": 120
        }
      ],
      "source": [
        "y_pred = mnb_model.predict(X_test.values.astype('U'))\n",
        "mnb_model.classes_"
      ]
    },
    {
      "cell_type": "code",
      "execution_count": 121,
      "id": "954f54b8-87e9-4562-b211-840aa018a6e5",
      "metadata": {
        "colab": {
          "base_uri": "https://localhost:8080/"
        },
        "id": "954f54b8-87e9-4562-b211-840aa018a6e5",
        "outputId": "bd533ae8-90ea-4a68-d9b3-ef5588fa5200",
        "tags": []
      },
      "outputs": [
        {
          "output_type": "stream",
          "name": "stdout",
          "text": [
            "[[847 119   0]\n",
            " [401 281   0]\n",
            " [ 83  23   0]]\n"
          ]
        }
      ],
      "source": [
        "cm = confusion_matrix(y_test, y_pred, labels=mnb_model.classes_)\n",
        "print(cm)"
      ]
    },
    {
      "cell_type": "code",
      "execution_count": 122,
      "id": "c3fbd10b-374d-4b18-a80d-97177e004798",
      "metadata": {
        "colab": {
          "base_uri": "https://localhost:8080/",
          "height": 296
        },
        "id": "c3fbd10b-374d-4b18-a80d-97177e004798",
        "outputId": "3e5138c5-2d8f-41dd-f788-36d89bcb649a",
        "tags": []
      },
      "outputs": [
        {
          "output_type": "execute_result",
          "data": {
            "text/plain": [
              "<sklearn.metrics._plot.confusion_matrix.ConfusionMatrixDisplay at 0x7fc58e232df0>"
            ]
          },
          "metadata": {},
          "execution_count": 122
        },
        {
          "output_type": "display_data",
          "data": {
            "text/plain": [
              "<Figure size 432x288 with 2 Axes>"
            ],
            "image/png": "[encoded data removed]"
          },
          "metadata": {
            "needs_background": "light"
          }
        }
      ],
      "source": [
        "cm_dsp=ConfusionMatrixDisplay(confusion_matrix=cm, display_labels=['Negatives', 'Neutral', 'Positive'])\n",
        "cm_dsp.plot()"
      ]
    },
    {
      "cell_type": "code",
      "execution_count": 123,
      "id": "fed5fe5e-9f36-465e-9c03-e1101142e923",
      "metadata": {
        "colab": {
          "base_uri": "https://localhost:8080/"
        },
        "id": "fed5fe5e-9f36-465e-9c03-e1101142e923",
        "outputId": "28012a84-5524-4494-fa1d-50a01bc0f340",
        "tags": []
      },
      "outputs": [
        {
          "output_type": "stream",
          "name": "stdout",
          "text": [
            "Model Score: 0.6431014823261118\n",
            "Model Score: 64.31%\n",
            "\n",
            "Accuracy: 0.6431014823261118\n",
            "Accuracy: 64.31%\n",
            "\n",
            "F1-score: 0.4153603198085771\n",
            "F1-score: 41.54%\n",
            "\n",
            "CPU times and Wall time: \n",
            "CPU times: user 67.8 ms, sys: 313 µs, total: 68.2 ms\n",
            "Wall time: 68.8 ms\n"
          ]
        }
      ],
      "source": [
        "%%time\n",
        "\n",
        "#predicting \n",
        "y_pred = mnb_model.predict(X_test.values.astype('U'))\n",
        "\n",
        "model_score = mnb_model.score(X_test.values.astype('U'), y_test.values.astype('int64'))\n",
        "print(f'Model Score: {model_score}')\n",
        "print(f'Model Score: {model_score*100:.2f}%')\n",
        "accuracy = accuracy_score(y_test, y_pred)\n",
        "print()\n",
        "print(f\"Accuracy: {accuracy}\")\n",
        "print(f\"Accuracy: {accuracy*100:.2f}%\")\n",
        "print()\n",
        "f1 = f1_score(y_test, y_pred, average='macro')\n",
        "print(f\"F1-score: {f1}\")\n",
        "print(f\"F1-score: {f1*100:.2f}%\")\n",
        "print()\n",
        "print(\"CPU times and Wall time: \")"
      ]
    },
    {
      "cell_type": "code",
      "execution_count": 124,
      "id": "8de6463d-a132-4e7a-8f76-612a41ba7dda",
      "metadata": {
        "colab": {
          "base_uri": "https://localhost:8080/"
        },
        "id": "8de6463d-a132-4e7a-8f76-612a41ba7dda",
        "outputId": "0e7306c2-5b7e-4509-f172-e18028235685"
      },
      "outputs": [
        {
          "output_type": "execute_result",
          "data": {
            "text/plain": [
              "['models/MultinomialNB_model_score_64.31.pkl']"
            ]
          },
          "metadata": {},
          "execution_count": 124
        }
      ],
      "source": [
        "# Save to file / directory\n",
        "joblib_file = \"models/MultinomialNB_model_score_\"+ str(round(accuracy*100,2))+\".pkl\"\n",
        "joblib.dump(mnb_model, joblib_file)"
      ]
    },
    {
      "cell_type": "markdown",
      "id": "72f4dc47-a243-454c-983f-dd0e1f229e1c",
      "metadata": {
        "id": "72f4dc47-a243-454c-983f-dd0e1f229e1c"
      },
      "source": [
        "# 4.8 XGBoost classifier"
      ]
    },
    {
      "cell_type": "code",
      "source": [
        "xgb_pipeline = Pipeline([\n",
        "     ('vect', CountVectorizer(ngram_range=(1,1))),\n",
        "     ('tfidf', TfidfTransformer()),\n",
        "     ('clf', xgb.XGBClassifier(learning_rate=0.001,\n",
        "                            max_depth = 1, \n",
        "                           n_estimators = 100,)),\n",
        " ])"
      ],
      "metadata": {
        "id": "9ggq332ctWGr"
      },
      "id": "9ggq332ctWGr",
      "execution_count": 125,
      "outputs": []
    },
    {
      "cell_type": "code",
      "execution_count": 126,
      "id": "AdLdPLiYSl-4",
      "metadata": {
        "id": "AdLdPLiYSl-4"
      },
      "outputs": [],
      "source": [
        "Xg_train = X_train.values.astype('U')\n",
        "Xg_test = X_test.values.astype('U')\n",
        "yg_train = y_train\n",
        "yg_test= y_test"
      ]
    },
    {
      "cell_type": "code",
      "source": [
        "le = LabelEncoder()\n",
        "yg_train = le.fit_transform(yg_train)"
      ],
      "metadata": {
        "id": "_gpSsUp6uAiM"
      },
      "id": "_gpSsUp6uAiM",
      "execution_count": 127,
      "outputs": []
    },
    {
      "cell_type": "code",
      "execution_count": 128,
      "id": "6PJiOiVk_2UL",
      "metadata": {
        "id": "6PJiOiVk_2UL"
      },
      "outputs": [],
      "source": [
        "xgbmodel = xgb_pipeline.fit(Xg_train, yg_train)"
      ]
    },
    {
      "cell_type": "code",
      "execution_count": 129,
      "id": "C3ojoofqgDUE",
      "metadata": {
        "colab": {
          "base_uri": "https://localhost:8080/"
        },
        "id": "C3ojoofqgDUE",
        "outputId": "844d44a4-3a94-4591-e7c8-2d139fa8bc23"
      },
      "outputs": [
        {
          "output_type": "execute_result",
          "data": {
            "text/plain": [
              "array([0, 1, 2])"
            ]
          },
          "metadata": {},
          "execution_count": 129
        }
      ],
      "source": [
        "yg_pred = xgbmodel.predict(Xg_test)\n",
        "xgbmodel.classes_"
      ]
    },
    {
      "cell_type": "code",
      "execution_count": 130,
      "id": "ReibGchsf8z7",
      "metadata": {
        "colab": {
          "base_uri": "https://localhost:8080/"
        },
        "id": "ReibGchsf8z7",
        "outputId": "2bef52bb-0359-4e3d-aa74-cfd75037827e"
      },
      "outputs": [
        {
          "output_type": "stream",
          "name": "stdout",
          "text": [
            "[[682   0   0]\n",
            " [106   0   0]\n",
            " [  0   0   0]]\n"
          ]
        }
      ],
      "source": [
        "cm = confusion_matrix(yg_test, yg_pred, labels=xgbmodel.classes_)\n",
        "print(cm)\n"
      ]
    },
    {
      "cell_type": "code",
      "execution_count": 131,
      "id": "IP3Oqn97gCns",
      "metadata": {
        "colab": {
          "base_uri": "https://localhost:8080/",
          "height": 279
        },
        "id": "IP3Oqn97gCns",
        "outputId": "f7defe44-a491-4638-cec0-487bf4bce686"
      },
      "outputs": [
        {
          "output_type": "display_data",
          "data": {
            "text/plain": [
              "<Figure size 432x288 with 2 Axes>"
            ],
            "image/png": "[encoded data removed]"
          },
          "metadata": {
            "needs_background": "light"
          }
        }
      ],
      "source": [
        "cm_dsp=ConfusionMatrixDisplay(confusion_matrix=cm, display_labels=['Negatives', 'Neutral', 'Positive'])\n",
        "cm_dsp.plot()\n",
        "plt.show()"
      ]
    },
    {
      "cell_type": "code",
      "execution_count": 132,
      "id": "OPQITAUjg_8q",
      "metadata": {
        "colab": {
          "base_uri": "https://localhost:8080/"
        },
        "id": "OPQITAUjg_8q",
        "outputId": "06afad8b-d65d-4184-d2aa-c7f134820994"
      },
      "outputs": [
        {
          "output_type": "stream",
          "name": "stdout",
          "text": [
            "Model Score: 0.3888255416191562\n",
            "Model Score: 38.88%\n",
            "\n",
            "Accuracy: 0.3888255416191562\n",
            "Accuracy: 38.88%\n",
            "\n",
            "F1-score: 0.1866447728516694\n",
            "F1-score: 18.66%\n",
            "\n",
            "CPU times and Wall time: \n",
            "CPU times: user 46.8 ms, sys: 0 ns, total: 46.8 ms\n",
            "Wall time: 39.5 ms\n"
          ]
        }
      ],
      "source": [
        "%%time\n",
        "model_score = xgbmodel.score(X_test.values.astype('U'), y_test.values.astype('int64'))\n",
        "print(f'Model Score: {model_score}')\n",
        "print(f'Model Score: {model_score*100:.2f}%')\n",
        "accuracy = accuracy_score(yg_test, yg_pred)\n",
        "print()\n",
        "print(f\"Accuracy: {accuracy}\")\n",
        "print(f\"Accuracy: {accuracy*100:.2f}%\")\n",
        "print()\n",
        "f1 = f1_score(yg_test, yg_pred, average='macro')\n",
        "print(f\"F1-score: {f1}\")\n",
        "print(f\"F1-score: {f1*100:.2f}%\")\n",
        "print()\n",
        "print(\"CPU times and Wall time: \")"
      ]
    },
    {
      "cell_type": "code",
      "execution_count": 133,
      "id": "rz1ePbZNA1oz",
      "metadata": {
        "colab": {
          "base_uri": "https://localhost:8080/"
        },
        "id": "rz1ePbZNA1oz",
        "outputId": "6d14e254-eff5-4763-9f8f-43ddb793d480"
      },
      "outputs": [
        {
          "output_type": "execute_result",
          "data": {
            "text/plain": [
              "['models/XGB_model_score_38.88.pkl']"
            ]
          },
          "metadata": {},
          "execution_count": 133
        }
      ],
      "source": [
        "# Save to file / directory\n",
        "joblib_file = \"models/XGB_model_score_\"+ str(round(accuracy*100,2))+\".pkl\"\n",
        "joblib.dump(xgbmodel, joblib_file)"
      ]
    },
    {
      "cell_type": "markdown",
      "id": "d49d1454-1ec4-4993-b713-33d64a26b030",
      "metadata": {
        "id": "d49d1454-1ec4-4993-b713-33d64a26b030"
      },
      "source": [
        "# 4.9 LightGBM classifier"
      ]
    },
    {
      "cell_type": "code",
      "execution_count": 134,
      "id": "ac989ca7-f347-4ecc-85be-dd60fe859eb8",
      "metadata": {
        "id": "ac989ca7-f347-4ecc-85be-dd60fe859eb8",
        "tags": []
      },
      "outputs": [],
      "source": [
        "lgbm_pipeline = Pipeline([\n",
        "     ('vect', CountVectorizer(ngram_range=(1,1))),\n",
        "     ('tfidf', TfidfTransformer()),\n",
        "     ('clf', LGBMClassifier()),  \n",
        "     ])"
      ]
    },
    {
      "cell_type": "code",
      "execution_count": 135,
      "id": "dd8fe1a4-98d3-4b99-a49c-dcd7aa192428",
      "metadata": {
        "id": "dd8fe1a4-98d3-4b99-a49c-dcd7aa192428",
        "tags": [],
        "colab": {
          "base_uri": "https://localhost:8080/",
          "height": 161
        },
        "outputId": "99d2a603-45f8-4f5f-c222-0a3d0fa3c570"
      },
      "outputs": [
        {
          "output_type": "execute_result",
          "data": {
            "text/plain": [
              "Pipeline(steps=[('vect', CountVectorizer()), ('tfidf', TfidfTransformer()),\n",
              "                ('clf', LGBMClassifier())])"
            ],
            "text/html": [
              "<style>#sk-container-id-8 {color: black;background-color: white;}#sk-container-id-8 pre{padding: 0;}#sk-container-id-8 div.sk-toggleable {background-color: white;}#sk-container-id-8 label.sk-toggleable__label {cursor: pointer;display: block;width: 100%;margin-bottom: 0;padding: 0.3em;box-sizing: border-box;text-align: center;}#sk-container-id-8 label.sk-toggleable__label-arrow:before {content: \"▸\";float: left;margin-right: 0.25em;color: #696969;}#sk-container-id-8 label.sk-toggleable__label-arrow:hover:before {color: black;}#sk-container-id-8 div.sk-estimator:hover label.sk-toggleable__label-arrow:before {color: black;}#sk-container-id-8 div.sk-toggleable__content {max-height: 0;max-width: 0;overflow: hidden;text-align: left;background-color: #f0f8ff;}#sk-container-id-8 div.sk-toggleable__content pre {margin: 0.2em;color: black;border-radius: 0.25em;background-color: #f0f8ff;}#sk-container-id-8 input.sk-toggleable__control:checked~div.sk-toggleable__content {max-height: 200px;max-width: 100%;overflow: auto;}#sk-container-id-8 input.sk-toggleable__control:checked~label.sk-toggleable__label-arrow:before {content: \"▾\";}#sk-container-id-8 div.sk-estimator input.sk-toggleable__control:checked~label.sk-toggleable__label {background-color: #d4ebff;}#sk-container-id-8 div.sk-label input.sk-toggleable__control:checked~label.sk-toggleable__label {background-color: #d4ebff;}#sk-container-id-8 input.sk-hidden--visually {border: 0;clip: rect(1px 1px 1px 1px);clip: rect(1px, 1px, 1px, 1px);height: 1px;margin: -1px;overflow: hidden;padding: 0;position: absolute;width: 1px;}#sk-container-id-8 div.sk-estimator {font-family: monospace;background-color: #f0f8ff;border: 1px dotted black;border-radius: 0.25em;box-sizing: border-box;margin-bottom: 0.5em;}#sk-container-id-8 div.sk-estimator:hover {background-color: #d4ebff;}#sk-container-id-8 div.sk-parallel-item::after {content: \"\";width: 100%;border-bottom: 1px solid gray;flex-grow: 1;}#sk-container-id-8 div.sk-label:hover label.sk-toggleable__label {background-color: #d4ebff;}#sk-container-id-8 div.sk-serial::before {content: \"\";position: absolute;border-left: 1px solid gray;box-sizing: border-box;top: 0;bottom: 0;left: 50%;z-index: 0;}#sk-container-id-8 div.sk-serial {display: flex;flex-direction: column;align-items: center;background-color: white;padding-right: 0.2em;padding-left: 0.2em;position: relative;}#sk-container-id-8 div.sk-item {position: relative;z-index: 1;}#sk-container-id-8 div.sk-parallel {display: flex;align-items: stretch;justify-content: center;background-color: white;position: relative;}#sk-container-id-8 div.sk-item::before, #sk-container-id-8 div.sk-parallel-item::before {content: \"\";position: absolute;border-left: 1px solid gray;box-sizing: border-box;top: 0;bottom: 0;left: 50%;z-index: -1;}#sk-container-id-8 div.sk-parallel-item {display: flex;flex-direction: column;z-index: 1;position: relative;background-color: white;}#sk-container-id-8 div.sk-parallel-item:first-child::after {align-self: flex-end;width: 50%;}#sk-container-id-8 div.sk-parallel-item:last-child::after {align-self: flex-start;width: 50%;}#sk-container-id-8 div.sk-parallel-item:only-child::after {width: 0;}#sk-container-id-8 div.sk-dashed-wrapped {border: 1px dashed gray;margin: 0 0.4em 0.5em 0.4em;box-sizing: border-box;padding-bottom: 0.4em;background-color: white;}#sk-container-id-8 div.sk-label label {font-family: monospace;font-weight: bold;display: inline-block;line-height: 1.2em;}#sk-container-id-8 div.sk-label-container {text-align: center;}#sk-container-id-8 div.sk-container {/* jupyter's `normalize.less` sets `[hidden] { display: none; }` but bootstrap.min.css set `[hidden] { display: none !important; }` so we also need the `!important` here to be able to override the default hidden behavior on the sphinx rendered scikit-learn.org. See: https://github.com/scikit-learn/scikit-learn/issues/21755 */display: inline-block !important;position: relative;}#sk-container-id-8 div.sk-text-repr-fallback {display: none;}</style><div id=\"sk-container-id-8\" class=\"sk-top-container\"><div class=\"sk-text-repr-fallback\"><pre>Pipeline(steps=[(&#x27;vect&#x27;, CountVectorizer()), (&#x27;tfidf&#x27;, TfidfTransformer()),\n",
              "                (&#x27;clf&#x27;, LGBMClassifier())])</pre><b>In a Jupyter environment, please rerun this cell to show the HTML representation or trust the notebook. <br />On GitHub, the HTML representation is unable to render, please try loading this page with nbviewer.org.</b></div><div class=\"sk-container\" hidden><div class=\"sk-item sk-dashed-wrapped\"><div class=\"sk-label-container\"><div class=\"sk-label sk-toggleable\"><input class=\"sk-toggleable__control sk-hidden--visually\" id=\"sk-estimator-id-29\" type=\"checkbox\" ><label for=\"sk-estimator-id-29\" class=\"sk-toggleable__label sk-toggleable__label-arrow\">Pipeline</label><div class=\"sk-toggleable__content\"><pre>Pipeline(steps=[(&#x27;vect&#x27;, CountVectorizer()), (&#x27;tfidf&#x27;, TfidfTransformer()),\n",
              "                (&#x27;clf&#x27;, LGBMClassifier())])</pre></div></div></div><div class=\"sk-serial\"><div class=\"sk-item\"><div class=\"sk-estimator sk-toggleable\"><input class=\"sk-toggleable__control sk-hidden--visually\" id=\"sk-estimator-id-30\" type=\"checkbox\" ><label for=\"sk-estimator-id-30\" class=\"sk-toggleable__label sk-toggleable__label-arrow\">CountVectorizer</label><div class=\"sk-toggleable__content\"><pre>CountVectorizer()</pre></div></div></div><div class=\"sk-item\"><div class=\"sk-estimator sk-toggleable\"><input class=\"sk-toggleable__control sk-hidden--visually\" id=\"sk-estimator-id-31\" type=\"checkbox\" ><label for=\"sk-estimator-id-31\" class=\"sk-toggleable__label sk-toggleable__label-arrow\">TfidfTransformer</label><div class=\"sk-toggleable__content\"><pre>TfidfTransformer()</pre></div></div></div><div class=\"sk-item\"><div class=\"sk-estimator sk-toggleable\"><input class=\"sk-toggleable__control sk-hidden--visually\" id=\"sk-estimator-id-32\" type=\"checkbox\" ><label for=\"sk-estimator-id-32\" class=\"sk-toggleable__label sk-toggleable__label-arrow\">LGBMClassifier</label><div class=\"sk-toggleable__content\"><pre>LGBMClassifier()</pre></div></div></div></div></div></div></div>"
            ]
          },
          "metadata": {},
          "execution_count": 135
        }
      ],
      "source": [
        "# Algorithm training X_train, X_test, y_train, y_test\n",
        "lgbm_model = lgbm_pipeline.fit(X_train.values.astype('U'), y_train.values.astype('int64'))\n",
        "lgbm_model"
      ]
    },
    {
      "cell_type": "code",
      "execution_count": 136,
      "id": "6592d454-0ee5-4ee0-85bf-7d5d78c61d4f",
      "metadata": {
        "id": "6592d454-0ee5-4ee0-85bf-7d5d78c61d4f",
        "tags": [],
        "colab": {
          "base_uri": "https://localhost:8080/"
        },
        "outputId": "206b6f4b-096a-426b-f994-49cc6e73342d"
      },
      "outputs": [
        {
          "output_type": "execute_result",
          "data": {
            "text/plain": [
              "array([-1,  0,  1])"
            ]
          },
          "metadata": {},
          "execution_count": 136
        }
      ],
      "source": [
        "y_pred = lgbm_model.predict(X_test.values.astype('U'))\n",
        "lgbm_model.classes_"
      ]
    },
    {
      "cell_type": "code",
      "execution_count": 137,
      "id": "66982c9d-fc73-45a2-8397-f9f64445b3b3",
      "metadata": {
        "id": "66982c9d-fc73-45a2-8397-f9f64445b3b3",
        "tags": [],
        "colab": {
          "base_uri": "https://localhost:8080/"
        },
        "outputId": "4c4b5138-928a-46dc-fd62-e678c006435c"
      },
      "outputs": [
        {
          "output_type": "stream",
          "name": "stdout",
          "text": [
            "[[709 250   7]\n",
            " [268 410   4]\n",
            " [ 58  42   6]]\n"
          ]
        }
      ],
      "source": [
        "cm = confusion_matrix(y_test, y_pred, labels=lgbm_model.classes_)\n",
        "print(cm)"
      ]
    },
    {
      "cell_type": "code",
      "execution_count": 138,
      "id": "43113ca4-4520-4681-8b2a-a6b1cef6d740",
      "metadata": {
        "id": "43113ca4-4520-4681-8b2a-a6b1cef6d740",
        "tags": [],
        "colab": {
          "base_uri": "https://localhost:8080/",
          "height": 298
        },
        "outputId": "08a938a5-0a27-408b-c0c3-0150be0e1949"
      },
      "outputs": [
        {
          "output_type": "execute_result",
          "data": {
            "text/plain": [
              "<sklearn.metrics._plot.confusion_matrix.ConfusionMatrixDisplay at 0x7fc599df2e50>"
            ]
          },
          "metadata": {},
          "execution_count": 138
        },
        {
          "output_type": "display_data",
          "data": {
            "text/plain": [
              "<Figure size 432x288 with 2 Axes>"
            ],
            "image/png": "[encoded data removed]"
          },
          "metadata": {
            "needs_background": "light"
          }
        }
      ],
      "source": [
        "cm_dsp=ConfusionMatrixDisplay(confusion_matrix=cm, display_labels=['Negatives', 'Neutral', 'Positive'])\n",
        "cm_dsp.plot()"
      ]
    },
    {
      "cell_type": "code",
      "execution_count": 139,
      "id": "9b3de1a3-1715-48cc-8c6c-b78c78e7ba6e",
      "metadata": {
        "id": "9b3de1a3-1715-48cc-8c6c-b78c78e7ba6e",
        "tags": [],
        "colab": {
          "base_uri": "https://localhost:8080/"
        },
        "outputId": "340355e1-de17-4a91-b618-5b4e764d5232"
      },
      "outputs": [
        {
          "output_type": "stream",
          "name": "stdout",
          "text": [
            "Model Score: 0.6413911060433295\n",
            "Model Score: 64.14%\n",
            "\n",
            "Accuracy: 0.6413911060433295\n",
            "Accuracy: 64.14%\n",
            "\n",
            "F1-score: 0.4662307339680412\n",
            "F1-score: 46.62%\n",
            "\n",
            "CPU times and Wall time: \n",
            "CPU times: user 213 ms, sys: 787 µs, total: 214 ms\n",
            "Wall time: 146 ms\n"
          ]
        }
      ],
      "source": [
        "%%time\n",
        "\n",
        "#predicting \n",
        "y_pred = lgbm_model.predict(X_test.values.astype('U'))\n",
        "\n",
        "model_score = lgbm_model.score(X_test.values.astype('U'), y_test.values.astype('int64'))\n",
        "print(f'Model Score: {model_score}')\n",
        "print(f'Model Score: {model_score*100:.2f}%')\n",
        "accuracy = accuracy_score(y_test, y_pred)\n",
        "print()\n",
        "print(f\"Accuracy: {accuracy}\")\n",
        "print(f\"Accuracy: {accuracy*100:.2f}%\")\n",
        "print()\n",
        "f1 = f1_score(y_test, y_pred, average='macro')\n",
        "print(f\"F1-score: {f1}\")\n",
        "print(f\"F1-score: {f1*100:.2f}%\")\n",
        "print()\n",
        "print(\"CPU times and Wall time: \")"
      ]
    },
    {
      "cell_type": "code",
      "execution_count": 140,
      "id": "1c2fc598-371b-4b08-b52b-aeb765c9ab15",
      "metadata": {
        "id": "1c2fc598-371b-4b08-b52b-aeb765c9ab15",
        "tags": [],
        "colab": {
          "base_uri": "https://localhost:8080/"
        },
        "outputId": "065fb985-87dd-4aba-c7be-a59361e2ffb2"
      },
      "outputs": [
        {
          "output_type": "execute_result",
          "data": {
            "text/plain": [
              "['models/LGBMClassifier_model_score_64.14.pkl']"
            ]
          },
          "metadata": {},
          "execution_count": 140
        }
      ],
      "source": [
        "# Save to file / directory\n",
        "joblib_file = \"models/LGBMClassifier_model_score_\"+ str(round(accuracy*100,2))+\".pkl\"\n",
        "joblib.dump(lgbm_model, joblib_file)"
      ]
    },
    {
      "cell_type": "markdown",
      "id": "cd4039e1-4ee3-43c1-a989-44d1c7aea5ff",
      "metadata": {
        "id": "cd4039e1-4ee3-43c1-a989-44d1c7aea5ff"
      },
      "source": [
        "# 4.10 CatBoost classifier"
      ]
    },
    {
      "cell_type": "code",
      "execution_count": 141,
      "id": "2f210c39-ccbb-4abc-83b9-29ce97acca6f",
      "metadata": {
        "id": "2f210c39-ccbb-4abc-83b9-29ce97acca6f",
        "tags": []
      },
      "outputs": [],
      "source": [
        "ctb_pipeline = Pipeline([\n",
        "     ('vect', CountVectorizer(ngram_range=(1,1))),\n",
        "     ('tfidf', TfidfTransformer()),\n",
        "     ('clf', CatBoostClassifier()), \n",
        " ])"
      ]
    },
    {
      "cell_type": "code",
      "execution_count": 142,
      "id": "b7afda62-ad92-4738-b1e9-8936b18b05a5",
      "metadata": {
        "id": "b7afda62-ad92-4738-b1e9-8936b18b05a5",
        "tags": [],
        "colab": {
          "base_uri": "https://localhost:8080/",
          "height": 1000
        },
        "outputId": "0c88bb06-9e68-425e-a0fa-5f5a0f0890aa"
      },
      "outputs": [
        {
          "output_type": "stream",
          "name": "stdout",
          "text": [
            "Learning rate set to 0.087391\n",
            "0:\tlearn: 1.0682164\ttotal: 293ms\tremaining: 4m 52s\n",
            "1:\tlearn: 1.0420328\ttotal: 460ms\tremaining: 3m 49s\n",
            "2:\tlearn: 1.0198247\ttotal: 626ms\tremaining: 3m 27s\n",
            "3:\tlearn: 1.0011174\ttotal: 776ms\tremaining: 3m 13s\n",
            "4:\tlearn: 0.9844740\ttotal: 942ms\tremaining: 3m 7s\n",
            "5:\tlearn: 0.9696109\ttotal: 1.1s\tremaining: 3m 3s\n",
            "6:\tlearn: 0.9568077\ttotal: 1.27s\tremaining: 3m\n",
            "7:\tlearn: 0.9455714\ttotal: 1.42s\tremaining: 2m 56s\n",
            "8:\tlearn: 0.9356233\ttotal: 1.57s\tremaining: 2m 53s\n",
            "9:\tlearn: 0.9253067\ttotal: 1.73s\tremaining: 2m 50s\n",
            "10:\tlearn: 0.9161551\ttotal: 1.9s\tremaining: 2m 50s\n",
            "11:\tlearn: 0.9081726\ttotal: 2.05s\tremaining: 2m 48s\n",
            "12:\tlearn: 0.9010100\ttotal: 2.21s\tremaining: 2m 47s\n",
            "13:\tlearn: 0.8951394\ttotal: 2.36s\tremaining: 2m 46s\n",
            "14:\tlearn: 0.8901943\ttotal: 2.51s\tremaining: 2m 45s\n",
            "15:\tlearn: 0.8842832\ttotal: 2.67s\tremaining: 2m 43s\n",
            "16:\tlearn: 0.8800857\ttotal: 2.82s\tremaining: 2m 43s\n",
            "17:\tlearn: 0.8761108\ttotal: 2.99s\tremaining: 2m 43s\n",
            "18:\tlearn: 0.8726391\ttotal: 3.15s\tremaining: 2m 42s\n",
            "19:\tlearn: 0.8687525\ttotal: 3.31s\tremaining: 2m 42s\n",
            "20:\tlearn: 0.8654212\ttotal: 3.46s\tremaining: 2m 41s\n",
            "21:\tlearn: 0.8619559\ttotal: 3.63s\tremaining: 2m 41s\n",
            "22:\tlearn: 0.8596696\ttotal: 3.79s\tremaining: 2m 40s\n",
            "23:\tlearn: 0.8577051\ttotal: 3.95s\tremaining: 2m 40s\n",
            "24:\tlearn: 0.8557728\ttotal: 4.11s\tremaining: 2m 40s\n",
            "25:\tlearn: 0.8539922\ttotal: 4.26s\tremaining: 2m 39s\n",
            "26:\tlearn: 0.8522114\ttotal: 4.42s\tremaining: 2m 39s\n",
            "27:\tlearn: 0.8504238\ttotal: 4.58s\tremaining: 2m 38s\n",
            "28:\tlearn: 0.8486271\ttotal: 4.73s\tremaining: 2m 38s\n",
            "29:\tlearn: 0.8474014\ttotal: 4.89s\tremaining: 2m 38s\n",
            "30:\tlearn: 0.8463328\ttotal: 5.05s\tremaining: 2m 37s\n",
            "31:\tlearn: 0.8452950\ttotal: 5.2s\tremaining: 2m 37s\n",
            "32:\tlearn: 0.8443898\ttotal: 5.37s\tremaining: 2m 37s\n",
            "33:\tlearn: 0.8426951\ttotal: 5.52s\tremaining: 2m 36s\n",
            "34:\tlearn: 0.8414061\ttotal: 5.68s\tremaining: 2m 36s\n",
            "35:\tlearn: 0.8403469\ttotal: 5.84s\tremaining: 2m 36s\n",
            "36:\tlearn: 0.8391257\ttotal: 6s\tremaining: 2m 36s\n",
            "37:\tlearn: 0.8381976\ttotal: 6.16s\tremaining: 2m 35s\n",
            "38:\tlearn: 0.8372668\ttotal: 6.31s\tremaining: 2m 35s\n",
            "39:\tlearn: 0.8360970\ttotal: 6.47s\tremaining: 2m 35s\n",
            "40:\tlearn: 0.8353987\ttotal: 6.63s\tremaining: 2m 35s\n",
            "41:\tlearn: 0.8343572\ttotal: 6.78s\tremaining: 2m 34s\n",
            "42:\tlearn: 0.8336202\ttotal: 6.94s\tremaining: 2m 34s\n",
            "43:\tlearn: 0.8324756\ttotal: 7.11s\tremaining: 2m 34s\n",
            "44:\tlearn: 0.8314817\ttotal: 7.27s\tremaining: 2m 34s\n",
            "45:\tlearn: 0.8307809\ttotal: 7.42s\tremaining: 2m 33s\n",
            "46:\tlearn: 0.8301154\ttotal: 7.58s\tremaining: 2m 33s\n",
            "47:\tlearn: 0.8294873\ttotal: 7.73s\tremaining: 2m 33s\n",
            "48:\tlearn: 0.8287900\ttotal: 7.9s\tremaining: 2m 33s\n",
            "49:\tlearn: 0.8280300\ttotal: 8.08s\tremaining: 2m 33s\n",
            "50:\tlearn: 0.8269609\ttotal: 8.35s\tremaining: 2m 35s\n",
            "51:\tlearn: 0.8263671\ttotal: 8.64s\tremaining: 2m 37s\n",
            "52:\tlearn: 0.8258822\ttotal: 8.92s\tremaining: 2m 39s\n",
            "53:\tlearn: 0.8251099\ttotal: 9.21s\tremaining: 2m 41s\n",
            "54:\tlearn: 0.8245662\ttotal: 9.47s\tremaining: 2m 42s\n",
            "55:\tlearn: 0.8240554\ttotal: 9.75s\tremaining: 2m 44s\n",
            "56:\tlearn: 0.8233467\ttotal: 10s\tremaining: 2m 46s\n",
            "57:\tlearn: 0.8227555\ttotal: 10.2s\tremaining: 2m 45s\n",
            "58:\tlearn: 0.8224261\ttotal: 10.4s\tremaining: 2m 45s\n",
            "59:\tlearn: 0.8217580\ttotal: 10.5s\tremaining: 2m 44s\n",
            "60:\tlearn: 0.8209223\ttotal: 10.7s\tremaining: 2m 44s\n",
            "61:\tlearn: 0.8202184\ttotal: 10.8s\tremaining: 2m 43s\n",
            "62:\tlearn: 0.8199127\ttotal: 11s\tremaining: 2m 43s\n",
            "63:\tlearn: 0.8194417\ttotal: 11.2s\tremaining: 2m 43s\n",
            "64:\tlearn: 0.8189123\ttotal: 11.3s\tremaining: 2m 42s\n",
            "65:\tlearn: 0.8184754\ttotal: 11.5s\tremaining: 2m 42s\n",
            "66:\tlearn: 0.8178515\ttotal: 11.6s\tremaining: 2m 41s\n",
            "67:\tlearn: 0.8172789\ttotal: 11.8s\tremaining: 2m 41s\n",
            "68:\tlearn: 0.8168405\ttotal: 11.9s\tremaining: 2m 41s\n",
            "69:\tlearn: 0.8162258\ttotal: 12.1s\tremaining: 2m 40s\n",
            "70:\tlearn: 0.8157143\ttotal: 12.3s\tremaining: 2m 40s\n",
            "71:\tlearn: 0.8152523\ttotal: 12.4s\tremaining: 2m 39s\n",
            "72:\tlearn: 0.8149213\ttotal: 12.6s\tremaining: 2m 39s\n",
            "73:\tlearn: 0.8141539\ttotal: 12.7s\tremaining: 2m 39s\n",
            "74:\tlearn: 0.8136550\ttotal: 12.9s\tremaining: 2m 38s\n",
            "75:\tlearn: 0.8133150\ttotal: 13s\tremaining: 2m 38s\n",
            "76:\tlearn: 0.8127425\ttotal: 13.2s\tremaining: 2m 38s\n",
            "77:\tlearn: 0.8124338\ttotal: 13.4s\tremaining: 2m 37s\n",
            "78:\tlearn: 0.8119702\ttotal: 13.5s\tremaining: 2m 37s\n",
            "79:\tlearn: 0.8114490\ttotal: 13.7s\tremaining: 2m 37s\n",
            "80:\tlearn: 0.8109778\ttotal: 13.8s\tremaining: 2m 37s\n",
            "81:\tlearn: 0.8103880\ttotal: 14s\tremaining: 2m 36s\n",
            "82:\tlearn: 0.8100691\ttotal: 14.2s\tremaining: 2m 36s\n",
            "83:\tlearn: 0.8093153\ttotal: 14.3s\tremaining: 2m 36s\n",
            "84:\tlearn: 0.8087973\ttotal: 14.5s\tremaining: 2m 35s\n",
            "85:\tlearn: 0.8084375\ttotal: 14.6s\tremaining: 2m 35s\n",
            "86:\tlearn: 0.8078679\ttotal: 14.8s\tremaining: 2m 35s\n",
            "87:\tlearn: 0.8074961\ttotal: 14.9s\tremaining: 2m 34s\n",
            "88:\tlearn: 0.8072886\ttotal: 15.1s\tremaining: 2m 34s\n",
            "89:\tlearn: 0.8065533\ttotal: 15.2s\tremaining: 2m 34s\n",
            "90:\tlearn: 0.8060762\ttotal: 15.4s\tremaining: 2m 33s\n",
            "91:\tlearn: 0.8053888\ttotal: 15.6s\tremaining: 2m 33s\n",
            "92:\tlearn: 0.8049251\ttotal: 15.7s\tremaining: 2m 33s\n",
            "93:\tlearn: 0.8044806\ttotal: 15.9s\tremaining: 2m 32s\n",
            "94:\tlearn: 0.8041059\ttotal: 16s\tremaining: 2m 32s\n",
            "95:\tlearn: 0.8037913\ttotal: 16.2s\tremaining: 2m 32s\n",
            "96:\tlearn: 0.8033447\ttotal: 16.3s\tremaining: 2m 32s\n",
            "97:\tlearn: 0.8031614\ttotal: 16.5s\tremaining: 2m 31s\n",
            "98:\tlearn: 0.8027439\ttotal: 16.7s\tremaining: 2m 31s\n",
            "99:\tlearn: 0.8023799\ttotal: 16.8s\tremaining: 2m 31s\n",
            "100:\tlearn: 0.8020070\ttotal: 17s\tremaining: 2m 31s\n",
            "101:\tlearn: 0.8015671\ttotal: 17.1s\tremaining: 2m 30s\n",
            "102:\tlearn: 0.8010277\ttotal: 17.3s\tremaining: 2m 30s\n",
            "103:\tlearn: 0.8006721\ttotal: 17.4s\tremaining: 2m 30s\n",
            "104:\tlearn: 0.8001376\ttotal: 17.6s\tremaining: 2m 30s\n",
            "105:\tlearn: 0.7997192\ttotal: 17.7s\tremaining: 2m 29s\n",
            "106:\tlearn: 0.7990556\ttotal: 17.9s\tremaining: 2m 29s\n",
            "107:\tlearn: 0.7986503\ttotal: 18.1s\tremaining: 2m 29s\n",
            "108:\tlearn: 0.7981340\ttotal: 18.2s\tremaining: 2m 28s\n",
            "109:\tlearn: 0.7978047\ttotal: 18.4s\tremaining: 2m 28s\n",
            "110:\tlearn: 0.7973993\ttotal: 18.5s\tremaining: 2m 28s\n",
            "111:\tlearn: 0.7968539\ttotal: 18.7s\tremaining: 2m 28s\n",
            "112:\tlearn: 0.7963272\ttotal: 18.9s\tremaining: 2m 28s\n",
            "113:\tlearn: 0.7961688\ttotal: 19s\tremaining: 2m 27s\n",
            "114:\tlearn: 0.7958816\ttotal: 19.2s\tremaining: 2m 27s\n",
            "115:\tlearn: 0.7954595\ttotal: 19.4s\tremaining: 2m 27s\n",
            "116:\tlearn: 0.7952207\ttotal: 19.6s\tremaining: 2m 27s\n",
            "117:\tlearn: 0.7946452\ttotal: 19.7s\tremaining: 2m 27s\n",
            "118:\tlearn: 0.7941927\ttotal: 19.9s\tremaining: 2m 27s\n",
            "119:\tlearn: 0.7937899\ttotal: 20s\tremaining: 2m 26s\n",
            "120:\tlearn: 0.7935203\ttotal: 20.3s\tremaining: 2m 27s\n",
            "121:\tlearn: 0.7931044\ttotal: 20.6s\tremaining: 2m 28s\n",
            "122:\tlearn: 0.7925396\ttotal: 20.8s\tremaining: 2m 28s\n",
            "123:\tlearn: 0.7922024\ttotal: 21.1s\tremaining: 2m 29s\n",
            "124:\tlearn: 0.7918507\ttotal: 21.4s\tremaining: 2m 30s\n",
            "125:\tlearn: 0.7912614\ttotal: 22.1s\tremaining: 2m 33s\n",
            "126:\tlearn: 0.7908338\ttotal: 22.3s\tremaining: 2m 33s\n",
            "127:\tlearn: 0.7903895\ttotal: 22.5s\tremaining: 2m 33s\n",
            "128:\tlearn: 0.7897583\ttotal: 22.6s\tremaining: 2m 32s\n",
            "129:\tlearn: 0.7892938\ttotal: 22.8s\tremaining: 2m 32s\n",
            "130:\tlearn: 0.7891380\ttotal: 22.9s\tremaining: 2m 32s\n",
            "131:\tlearn: 0.7889180\ttotal: 23.1s\tremaining: 2m 31s\n",
            "132:\tlearn: 0.7884793\ttotal: 23.2s\tremaining: 2m 31s\n",
            "133:\tlearn: 0.7880251\ttotal: 23.4s\tremaining: 2m 31s\n",
            "134:\tlearn: 0.7876048\ttotal: 23.5s\tremaining: 2m 30s\n",
            "135:\tlearn: 0.7871342\ttotal: 23.7s\tremaining: 2m 30s\n",
            "136:\tlearn: 0.7867886\ttotal: 23.9s\tremaining: 2m 30s\n",
            "137:\tlearn: 0.7864205\ttotal: 24s\tremaining: 2m 29s\n",
            "138:\tlearn: 0.7860657\ttotal: 24.2s\tremaining: 2m 29s\n",
            "139:\tlearn: 0.7855789\ttotal: 24.3s\tremaining: 2m 29s\n",
            "140:\tlearn: 0.7852423\ttotal: 24.5s\tremaining: 2m 29s\n",
            "141:\tlearn: 0.7848673\ttotal: 24.6s\tremaining: 2m 28s\n",
            "142:\tlearn: 0.7844993\ttotal: 24.8s\tremaining: 2m 28s\n",
            "143:\tlearn: 0.7843469\ttotal: 24.9s\tremaining: 2m 28s\n",
            "144:\tlearn: 0.7839579\ttotal: 25.1s\tremaining: 2m 27s\n",
            "145:\tlearn: 0.7835816\ttotal: 25.2s\tremaining: 2m 27s\n",
            "146:\tlearn: 0.7832949\ttotal: 25.4s\tremaining: 2m 27s\n",
            "147:\tlearn: 0.7826611\ttotal: 25.5s\tremaining: 2m 27s\n",
            "148:\tlearn: 0.7823291\ttotal: 25.7s\tremaining: 2m 26s\n",
            "149:\tlearn: 0.7820774\ttotal: 25.8s\tremaining: 2m 26s\n",
            "150:\tlearn: 0.7817060\ttotal: 26s\tremaining: 2m 26s\n",
            "151:\tlearn: 0.7814481\ttotal: 26.1s\tremaining: 2m 25s\n",
            "152:\tlearn: 0.7810905\ttotal: 26.3s\tremaining: 2m 25s\n",
            "153:\tlearn: 0.7808262\ttotal: 26.4s\tremaining: 2m 25s\n",
            "154:\tlearn: 0.7806837\ttotal: 26.6s\tremaining: 2m 25s\n",
            "155:\tlearn: 0.7804472\ttotal: 26.7s\tremaining: 2m 24s\n",
            "156:\tlearn: 0.7801530\ttotal: 26.9s\tremaining: 2m 24s\n",
            "157:\tlearn: 0.7797233\ttotal: 27.1s\tremaining: 2m 24s\n",
            "158:\tlearn: 0.7794484\ttotal: 27.2s\tremaining: 2m 23s\n",
            "159:\tlearn: 0.7792816\ttotal: 27.4s\tremaining: 2m 23s\n",
            "160:\tlearn: 0.7788828\ttotal: 27.5s\tremaining: 2m 23s\n",
            "161:\tlearn: 0.7783658\ttotal: 27.7s\tremaining: 2m 23s\n",
            "162:\tlearn: 0.7781169\ttotal: 27.8s\tremaining: 2m 22s\n",
            "163:\tlearn: 0.7777292\ttotal: 28s\tremaining: 2m 22s\n",
            "164:\tlearn: 0.7773532\ttotal: 28.1s\tremaining: 2m 22s\n",
            "165:\tlearn: 0.7769960\ttotal: 28.3s\tremaining: 2m 22s\n",
            "166:\tlearn: 0.7765710\ttotal: 28.5s\tremaining: 2m 21s\n",
            "167:\tlearn: 0.7759734\ttotal: 28.6s\tremaining: 2m 21s\n",
            "168:\tlearn: 0.7757968\ttotal: 28.8s\tremaining: 2m 21s\n",
            "169:\tlearn: 0.7754888\ttotal: 28.9s\tremaining: 2m 21s\n",
            "170:\tlearn: 0.7752061\ttotal: 29.1s\tremaining: 2m 21s\n",
            "171:\tlearn: 0.7750046\ttotal: 29.2s\tremaining: 2m 20s\n",
            "172:\tlearn: 0.7748453\ttotal: 29.4s\tremaining: 2m 20s\n",
            "173:\tlearn: 0.7745642\ttotal: 29.6s\tremaining: 2m 20s\n",
            "174:\tlearn: 0.7742057\ttotal: 29.8s\tremaining: 2m 20s\n",
            "175:\tlearn: 0.7738535\ttotal: 30.1s\tremaining: 2m 21s\n",
            "176:\tlearn: 0.7735666\ttotal: 30.4s\tremaining: 2m 21s\n",
            "177:\tlearn: 0.7734075\ttotal: 30.7s\tremaining: 2m 21s\n",
            "178:\tlearn: 0.7730302\ttotal: 31s\tremaining: 2m 22s\n",
            "179:\tlearn: 0.7727934\ttotal: 31.3s\tremaining: 2m 22s\n",
            "180:\tlearn: 0.7725629\ttotal: 31.6s\tremaining: 2m 23s\n",
            "181:\tlearn: 0.7721461\ttotal: 31.9s\tremaining: 2m 23s\n",
            "182:\tlearn: 0.7718466\ttotal: 32.3s\tremaining: 2m 24s\n",
            "183:\tlearn: 0.7715359\ttotal: 32.7s\tremaining: 2m 24s\n",
            "184:\tlearn: 0.7712558\ttotal: 33.1s\tremaining: 2m 26s\n",
            "185:\tlearn: 0.7709722\ttotal: 33.5s\tremaining: 2m 26s\n",
            "186:\tlearn: 0.7705314\ttotal: 33.8s\tremaining: 2m 26s\n",
            "187:\tlearn: 0.7703264\ttotal: 34.1s\tremaining: 2m 27s\n",
            "188:\tlearn: 0.7698332\ttotal: 34.3s\tremaining: 2m 27s\n",
            "189:\tlearn: 0.7695453\ttotal: 34.4s\tremaining: 2m 26s\n",
            "190:\tlearn: 0.7693639\ttotal: 34.6s\tremaining: 2m 26s\n",
            "191:\tlearn: 0.7689680\ttotal: 34.8s\tremaining: 2m 26s\n",
            "192:\tlearn: 0.7685474\ttotal: 34.9s\tremaining: 2m 25s\n",
            "193:\tlearn: 0.7682321\ttotal: 35.1s\tremaining: 2m 25s\n",
            "194:\tlearn: 0.7680013\ttotal: 35.2s\tremaining: 2m 25s\n",
            "195:\tlearn: 0.7675950\ttotal: 35.4s\tremaining: 2m 25s\n",
            "196:\tlearn: 0.7673059\ttotal: 35.5s\tremaining: 2m 24s\n",
            "197:\tlearn: 0.7671606\ttotal: 35.7s\tremaining: 2m 24s\n",
            "198:\tlearn: 0.7670070\ttotal: 35.8s\tremaining: 2m 24s\n",
            "199:\tlearn: 0.7667017\ttotal: 36s\tremaining: 2m 23s\n",
            "200:\tlearn: 0.7664688\ttotal: 36.1s\tremaining: 2m 23s\n",
            "201:\tlearn: 0.7663669\ttotal: 36.3s\tremaining: 2m 23s\n",
            "202:\tlearn: 0.7660821\ttotal: 36.6s\tremaining: 2m 23s\n",
            "203:\tlearn: 0.7658213\ttotal: 37s\tremaining: 2m 24s\n",
            "204:\tlearn: 0.7655713\ttotal: 37.1s\tremaining: 2m 24s\n",
            "205:\tlearn: 0.7653662\ttotal: 37.3s\tremaining: 2m 23s\n",
            "206:\tlearn: 0.7651740\ttotal: 37.5s\tremaining: 2m 23s\n",
            "207:\tlearn: 0.7649638\ttotal: 37.6s\tremaining: 2m 23s\n",
            "208:\tlearn: 0.7647666\ttotal: 37.8s\tremaining: 2m 22s\n",
            "209:\tlearn: 0.7645374\ttotal: 37.9s\tremaining: 2m 22s\n",
            "210:\tlearn: 0.7642200\ttotal: 38.1s\tremaining: 2m 22s\n",
            "211:\tlearn: 0.7638834\ttotal: 38.2s\tremaining: 2m 22s\n",
            "212:\tlearn: 0.7638114\ttotal: 38.4s\tremaining: 2m 21s\n",
            "213:\tlearn: 0.7636044\ttotal: 38.5s\tremaining: 2m 21s\n",
            "214:\tlearn: 0.7633359\ttotal: 38.7s\tremaining: 2m 21s\n",
            "215:\tlearn: 0.7632084\ttotal: 38.8s\tremaining: 2m 20s\n",
            "216:\tlearn: 0.7629020\ttotal: 39s\tremaining: 2m 20s\n",
            "217:\tlearn: 0.7625135\ttotal: 39.1s\tremaining: 2m 20s\n",
            "218:\tlearn: 0.7622543\ttotal: 39.3s\tremaining: 2m 20s\n",
            "219:\tlearn: 0.7619446\ttotal: 39.4s\tremaining: 2m 19s\n",
            "220:\tlearn: 0.7616603\ttotal: 39.6s\tremaining: 2m 19s\n",
            "221:\tlearn: 0.7614340\ttotal: 39.8s\tremaining: 2m 19s\n",
            "222:\tlearn: 0.7611749\ttotal: 39.9s\tremaining: 2m 19s\n",
            "223:\tlearn: 0.7610209\ttotal: 40s\tremaining: 2m 18s\n",
            "224:\tlearn: 0.7606890\ttotal: 40.2s\tremaining: 2m 18s\n",
            "225:\tlearn: 0.7603181\ttotal: 40.4s\tremaining: 2m 18s\n",
            "226:\tlearn: 0.7600995\ttotal: 40.5s\tremaining: 2m 17s\n",
            "227:\tlearn: 0.7598986\ttotal: 40.7s\tremaining: 2m 17s\n",
            "228:\tlearn: 0.7597398\ttotal: 40.8s\tremaining: 2m 17s\n",
            "229:\tlearn: 0.7594991\ttotal: 41s\tremaining: 2m 17s\n",
            "230:\tlearn: 0.7592169\ttotal: 41.1s\tremaining: 2m 16s\n",
            "231:\tlearn: 0.7589613\ttotal: 41.3s\tremaining: 2m 16s\n",
            "232:\tlearn: 0.7585868\ttotal: 41.4s\tremaining: 2m 16s\n",
            "233:\tlearn: 0.7585017\ttotal: 41.6s\tremaining: 2m 16s\n",
            "234:\tlearn: 0.7583094\ttotal: 41.7s\tremaining: 2m 15s\n",
            "235:\tlearn: 0.7580018\ttotal: 41.9s\tremaining: 2m 15s\n",
            "236:\tlearn: 0.7576630\ttotal: 42.1s\tremaining: 2m 15s\n",
            "237:\tlearn: 0.7575137\ttotal: 42.2s\tremaining: 2m 15s\n",
            "238:\tlearn: 0.7572813\ttotal: 42.4s\tremaining: 2m 14s\n",
            "239:\tlearn: 0.7570835\ttotal: 42.5s\tremaining: 2m 14s\n",
            "240:\tlearn: 0.7568946\ttotal: 42.7s\tremaining: 2m 14s\n",
            "241:\tlearn: 0.7565351\ttotal: 42.9s\tremaining: 2m 14s\n",
            "242:\tlearn: 0.7561577\ttotal: 43s\tremaining: 2m 14s\n",
            "243:\tlearn: 0.7559725\ttotal: 43.2s\tremaining: 2m 13s\n",
            "244:\tlearn: 0.7557304\ttotal: 43.3s\tremaining: 2m 13s\n",
            "245:\tlearn: 0.7555196\ttotal: 43.5s\tremaining: 2m 13s\n",
            "246:\tlearn: 0.7553309\ttotal: 43.7s\tremaining: 2m 13s\n",
            "247:\tlearn: 0.7550565\ttotal: 43.8s\tremaining: 2m 12s\n",
            "248:\tlearn: 0.7548815\ttotal: 44s\tremaining: 2m 12s\n",
            "249:\tlearn: 0.7545779\ttotal: 44.1s\tremaining: 2m 12s\n",
            "250:\tlearn: 0.7543006\ttotal: 44.3s\tremaining: 2m 12s\n",
            "251:\tlearn: 0.7541100\ttotal: 44.6s\tremaining: 2m 12s\n",
            "252:\tlearn: 0.7538789\ttotal: 44.9s\tremaining: 2m 12s\n",
            "253:\tlearn: 0.7537858\ttotal: 45.2s\tremaining: 2m 12s\n",
            "254:\tlearn: 0.7536255\ttotal: 45.4s\tremaining: 2m 12s\n",
            "255:\tlearn: 0.7533754\ttotal: 45.7s\tremaining: 2m 12s\n",
            "256:\tlearn: 0.7531105\ttotal: 46s\tremaining: 2m 12s\n",
            "257:\tlearn: 0.7527366\ttotal: 46.2s\tremaining: 2m 12s\n",
            "258:\tlearn: 0.7525003\ttotal: 46.4s\tremaining: 2m 12s\n",
            "259:\tlearn: 0.7523085\ttotal: 46.5s\tremaining: 2m 12s\n",
            "260:\tlearn: 0.7521060\ttotal: 46.7s\tremaining: 2m 12s\n",
            "261:\tlearn: 0.7518258\ttotal: 46.8s\tremaining: 2m 11s\n",
            "262:\tlearn: 0.7516694\ttotal: 47s\tremaining: 2m 11s\n",
            "263:\tlearn: 0.7514739\ttotal: 47.1s\tremaining: 2m 11s\n",
            "264:\tlearn: 0.7513200\ttotal: 47.3s\tremaining: 2m 11s\n",
            "265:\tlearn: 0.7511072\ttotal: 47.5s\tremaining: 2m 10s\n",
            "266:\tlearn: 0.7508877\ttotal: 47.6s\tremaining: 2m 10s\n",
            "267:\tlearn: 0.7505839\ttotal: 47.8s\tremaining: 2m 10s\n",
            "268:\tlearn: 0.7502867\ttotal: 47.9s\tremaining: 2m 10s\n",
            "269:\tlearn: 0.7501396\ttotal: 48.1s\tremaining: 2m 9s\n",
            "270:\tlearn: 0.7498881\ttotal: 48.2s\tremaining: 2m 9s\n",
            "271:\tlearn: 0.7497780\ttotal: 48.4s\tremaining: 2m 9s\n",
            "272:\tlearn: 0.7496778\ttotal: 48.5s\tremaining: 2m 9s\n",
            "273:\tlearn: 0.7495031\ttotal: 48.7s\tremaining: 2m 9s\n",
            "274:\tlearn: 0.7492707\ttotal: 48.8s\tremaining: 2m 8s\n",
            "275:\tlearn: 0.7490877\ttotal: 49s\tremaining: 2m 8s\n",
            "276:\tlearn: 0.7489121\ttotal: 49.2s\tremaining: 2m 8s\n",
            "277:\tlearn: 0.7486822\ttotal: 49.3s\tremaining: 2m 8s\n",
            "278:\tlearn: 0.7484862\ttotal: 49.5s\tremaining: 2m 7s\n",
            "279:\tlearn: 0.7480882\ttotal: 49.6s\tremaining: 2m 7s\n",
            "280:\tlearn: 0.7479081\ttotal: 49.8s\tremaining: 2m 7s\n",
            "281:\tlearn: 0.7477336\ttotal: 49.9s\tremaining: 2m 7s\n",
            "282:\tlearn: 0.7474382\ttotal: 50.1s\tremaining: 2m 6s\n",
            "283:\tlearn: 0.7473141\ttotal: 50.2s\tremaining: 2m 6s\n",
            "284:\tlearn: 0.7471418\ttotal: 50.4s\tremaining: 2m 6s\n",
            "285:\tlearn: 0.7468969\ttotal: 50.5s\tremaining: 2m 6s\n",
            "286:\tlearn: 0.7466481\ttotal: 50.7s\tremaining: 2m 5s\n",
            "287:\tlearn: 0.7464172\ttotal: 50.8s\tremaining: 2m 5s\n",
            "288:\tlearn: 0.7462891\ttotal: 51s\tremaining: 2m 5s\n",
            "289:\tlearn: 0.7462220\ttotal: 51.2s\tremaining: 2m 5s\n",
            "290:\tlearn: 0.7461179\ttotal: 51.3s\tremaining: 2m 5s\n",
            "291:\tlearn: 0.7460246\ttotal: 51.5s\tremaining: 2m 4s\n",
            "292:\tlearn: 0.7456280\ttotal: 51.6s\tremaining: 2m 4s\n",
            "293:\tlearn: 0.7455058\ttotal: 51.8s\tremaining: 2m 4s\n",
            "294:\tlearn: 0.7453826\ttotal: 51.9s\tremaining: 2m 4s\n",
            "295:\tlearn: 0.7452726\ttotal: 52.1s\tremaining: 2m 3s\n",
            "296:\tlearn: 0.7449801\ttotal: 52.2s\tremaining: 2m 3s\n",
            "297:\tlearn: 0.7447474\ttotal: 52.4s\tremaining: 2m 3s\n",
            "298:\tlearn: 0.7444167\ttotal: 52.5s\tremaining: 2m 3s\n",
            "299:\tlearn: 0.7443016\ttotal: 52.7s\tremaining: 2m 2s\n",
            "300:\tlearn: 0.7440882\ttotal: 52.8s\tremaining: 2m 2s\n",
            "301:\tlearn: 0.7439350\ttotal: 53s\tremaining: 2m 2s\n",
            "302:\tlearn: 0.7437466\ttotal: 53.2s\tremaining: 2m 2s\n",
            "303:\tlearn: 0.7436674\ttotal: 53.3s\tremaining: 2m 2s\n",
            "304:\tlearn: 0.7434861\ttotal: 53.5s\tremaining: 2m 1s\n",
            "305:\tlearn: 0.7433410\ttotal: 53.7s\tremaining: 2m 1s\n",
            "306:\tlearn: 0.7430522\ttotal: 53.8s\tremaining: 2m 1s\n",
            "307:\tlearn: 0.7428766\ttotal: 54s\tremaining: 2m 1s\n",
            "308:\tlearn: 0.7427521\ttotal: 54.1s\tremaining: 2m 1s\n",
            "309:\tlearn: 0.7426343\ttotal: 54.3s\tremaining: 2m\n",
            "310:\tlearn: 0.7425028\ttotal: 54.4s\tremaining: 2m\n",
            "311:\tlearn: 0.7423893\ttotal: 54.6s\tremaining: 2m\n",
            "312:\tlearn: 0.7420707\ttotal: 54.7s\tremaining: 2m\n",
            "313:\tlearn: 0.7418294\ttotal: 54.9s\tremaining: 1m 59s\n",
            "314:\tlearn: 0.7415763\ttotal: 55s\tremaining: 1m 59s\n",
            "315:\tlearn: 0.7414068\ttotal: 55.2s\tremaining: 1m 59s\n",
            "316:\tlearn: 0.7412734\ttotal: 55.3s\tremaining: 1m 59s\n",
            "317:\tlearn: 0.7411164\ttotal: 55.5s\tremaining: 1m 59s\n",
            "318:\tlearn: 0.7409833\ttotal: 55.6s\tremaining: 1m 58s\n",
            "319:\tlearn: 0.7408351\ttotal: 55.8s\tremaining: 1m 58s\n",
            "320:\tlearn: 0.7407252\ttotal: 56s\tremaining: 1m 58s\n",
            "321:\tlearn: 0.7404701\ttotal: 56.1s\tremaining: 1m 58s\n",
            "322:\tlearn: 0.7402289\ttotal: 56.3s\tremaining: 1m 58s\n",
            "323:\tlearn: 0.7400225\ttotal: 56.6s\tremaining: 1m 58s\n",
            "324:\tlearn: 0.7399434\ttotal: 56.9s\tremaining: 1m 58s\n",
            "325:\tlearn: 0.7398212\ttotal: 57.2s\tremaining: 1m 58s\n",
            "326:\tlearn: 0.7396059\ttotal: 57.4s\tremaining: 1m 58s\n",
            "327:\tlearn: 0.7393776\ttotal: 57.7s\tremaining: 1m 58s\n",
            "328:\tlearn: 0.7392678\ttotal: 58s\tremaining: 1m 58s\n",
            "329:\tlearn: 0.7390902\ttotal: 58.2s\tremaining: 1m 58s\n",
            "330:\tlearn: 0.7389288\ttotal: 58.3s\tremaining: 1m 57s\n",
            "331:\tlearn: 0.7388146\ttotal: 58.5s\tremaining: 1m 57s\n",
            "332:\tlearn: 0.7385846\ttotal: 58.7s\tremaining: 1m 57s\n",
            "333:\tlearn: 0.7384766\ttotal: 58.8s\tremaining: 1m 57s\n",
            "334:\tlearn: 0.7383206\ttotal: 59s\tremaining: 1m 57s\n",
            "335:\tlearn: 0.7380967\ttotal: 59.1s\tremaining: 1m 56s\n",
            "336:\tlearn: 0.7379986\ttotal: 59.3s\tremaining: 1m 56s\n",
            "337:\tlearn: 0.7377612\ttotal: 59.4s\tremaining: 1m 56s\n",
            "338:\tlearn: 0.7374422\ttotal: 59.6s\tremaining: 1m 56s\n",
            "339:\tlearn: 0.7372624\ttotal: 59.7s\tremaining: 1m 55s\n",
            "340:\tlearn: 0.7371076\ttotal: 59.9s\tremaining: 1m 55s\n",
            "341:\tlearn: 0.7370347\ttotal: 1m\tremaining: 1m 55s\n",
            "342:\tlearn: 0.7368906\ttotal: 1m\tremaining: 1m 55s\n",
            "343:\tlearn: 0.7367723\ttotal: 1m\tremaining: 1m 55s\n",
            "344:\tlearn: 0.7366488\ttotal: 1m\tremaining: 1m 54s\n",
            "345:\tlearn: 0.7363541\ttotal: 1m\tremaining: 1m 54s\n",
            "346:\tlearn: 0.7361341\ttotal: 1m\tremaining: 1m 54s\n",
            "347:\tlearn: 0.7359577\ttotal: 1m\tremaining: 1m 54s\n",
            "348:\tlearn: 0.7358054\ttotal: 1m 1s\tremaining: 1m 53s\n",
            "349:\tlearn: 0.7356754\ttotal: 1m 1s\tremaining: 1m 53s\n",
            "350:\tlearn: 0.7354167\ttotal: 1m 1s\tremaining: 1m 53s\n",
            "351:\tlearn: 0.7352796\ttotal: 1m 1s\tremaining: 1m 53s\n",
            "352:\tlearn: 0.7350796\ttotal: 1m 1s\tremaining: 1m 53s\n",
            "353:\tlearn: 0.7348664\ttotal: 1m 1s\tremaining: 1m 52s\n",
            "354:\tlearn: 0.7347281\ttotal: 1m 2s\tremaining: 1m 52s\n",
            "355:\tlearn: 0.7345847\ttotal: 1m 2s\tremaining: 1m 52s\n",
            "356:\tlearn: 0.7345231\ttotal: 1m 2s\tremaining: 1m 52s\n",
            "357:\tlearn: 0.7342485\ttotal: 1m 2s\tremaining: 1m 52s\n",
            "358:\tlearn: 0.7341583\ttotal: 1m 2s\tremaining: 1m 51s\n",
            "359:\tlearn: 0.7340702\ttotal: 1m 2s\tremaining: 1m 51s\n",
            "360:\tlearn: 0.7338445\ttotal: 1m 2s\tremaining: 1m 51s\n",
            "361:\tlearn: 0.7337295\ttotal: 1m 3s\tremaining: 1m 51s\n",
            "362:\tlearn: 0.7335897\ttotal: 1m 3s\tremaining: 1m 50s\n",
            "363:\tlearn: 0.7333695\ttotal: 1m 3s\tremaining: 1m 50s\n",
            "364:\tlearn: 0.7332833\ttotal: 1m 3s\tremaining: 1m 50s\n",
            "365:\tlearn: 0.7330391\ttotal: 1m 3s\tremaining: 1m 50s\n",
            "366:\tlearn: 0.7328755\ttotal: 1m 3s\tremaining: 1m 50s\n",
            "367:\tlearn: 0.7327558\ttotal: 1m 4s\tremaining: 1m 49s\n",
            "368:\tlearn: 0.7325504\ttotal: 1m 4s\tremaining: 1m 49s\n",
            "369:\tlearn: 0.7323776\ttotal: 1m 4s\tremaining: 1m 49s\n",
            "370:\tlearn: 0.7321921\ttotal: 1m 4s\tremaining: 1m 49s\n",
            "371:\tlearn: 0.7319845\ttotal: 1m 4s\tremaining: 1m 49s\n",
            "372:\tlearn: 0.7317865\ttotal: 1m 4s\tremaining: 1m 48s\n",
            "373:\tlearn: 0.7316473\ttotal: 1m 4s\tremaining: 1m 48s\n",
            "374:\tlearn: 0.7315319\ttotal: 1m 5s\tremaining: 1m 48s\n",
            "375:\tlearn: 0.7314497\ttotal: 1m 5s\tremaining: 1m 48s\n",
            "376:\tlearn: 0.7312828\ttotal: 1m 5s\tremaining: 1m 48s\n",
            "377:\tlearn: 0.7311606\ttotal: 1m 5s\tremaining: 1m 47s\n",
            "378:\tlearn: 0.7310438\ttotal: 1m 5s\tremaining: 1m 47s\n",
            "379:\tlearn: 0.7308823\ttotal: 1m 5s\tremaining: 1m 47s\n",
            "380:\tlearn: 0.7307310\ttotal: 1m 6s\tremaining: 1m 47s\n",
            "381:\tlearn: 0.7304192\ttotal: 1m 6s\tremaining: 1m 47s\n",
            "382:\tlearn: 0.7303047\ttotal: 1m 6s\tremaining: 1m 46s\n",
            "383:\tlearn: 0.7301757\ttotal: 1m 6s\tremaining: 1m 46s\n",
            "384:\tlearn: 0.7300360\ttotal: 1m 6s\tremaining: 1m 46s\n",
            "385:\tlearn: 0.7297908\ttotal: 1m 6s\tremaining: 1m 46s\n",
            "386:\tlearn: 0.7296816\ttotal: 1m 6s\tremaining: 1m 46s\n",
            "387:\tlearn: 0.7295410\ttotal: 1m 7s\tremaining: 1m 45s\n",
            "388:\tlearn: 0.7294411\ttotal: 1m 7s\tremaining: 1m 45s\n",
            "389:\tlearn: 0.7293595\ttotal: 1m 7s\tremaining: 1m 45s\n",
            "390:\tlearn: 0.7292082\ttotal: 1m 7s\tremaining: 1m 45s\n",
            "391:\tlearn: 0.7289589\ttotal: 1m 7s\tremaining: 1m 45s\n",
            "392:\tlearn: 0.7288303\ttotal: 1m 7s\tremaining: 1m 44s\n",
            "393:\tlearn: 0.7285456\ttotal: 1m 8s\tremaining: 1m 44s\n",
            "394:\tlearn: 0.7284523\ttotal: 1m 8s\tremaining: 1m 44s\n",
            "395:\tlearn: 0.7282555\ttotal: 1m 8s\tremaining: 1m 44s\n",
            "396:\tlearn: 0.7281854\ttotal: 1m 8s\tremaining: 1m 44s\n",
            "397:\tlearn: 0.7280142\ttotal: 1m 9s\tremaining: 1m 44s\n",
            "398:\tlearn: 0.7279193\ttotal: 1m 9s\tremaining: 1m 44s\n",
            "399:\tlearn: 0.7278317\ttotal: 1m 9s\tremaining: 1m 44s\n",
            "400:\tlearn: 0.7275925\ttotal: 1m 9s\tremaining: 1m 44s\n",
            "401:\tlearn: 0.7274983\ttotal: 1m 10s\tremaining: 1m 44s\n",
            "402:\tlearn: 0.7273096\ttotal: 1m 10s\tremaining: 1m 44s\n",
            "403:\tlearn: 0.7271889\ttotal: 1m 10s\tremaining: 1m 43s\n",
            "404:\tlearn: 0.7270778\ttotal: 1m 10s\tremaining: 1m 43s\n",
            "405:\tlearn: 0.7269254\ttotal: 1m 10s\tremaining: 1m 43s\n",
            "406:\tlearn: 0.7267064\ttotal: 1m 10s\tremaining: 1m 43s\n",
            "407:\tlearn: 0.7265740\ttotal: 1m 11s\tremaining: 1m 43s\n",
            "408:\tlearn: 0.7264764\ttotal: 1m 11s\tremaining: 1m 42s\n",
            "409:\tlearn: 0.7262386\ttotal: 1m 11s\tremaining: 1m 42s\n",
            "410:\tlearn: 0.7260840\ttotal: 1m 11s\tremaining: 1m 42s\n",
            "411:\tlearn: 0.7259229\ttotal: 1m 11s\tremaining: 1m 42s\n",
            "412:\tlearn: 0.7258512\ttotal: 1m 11s\tremaining: 1m 42s\n",
            "413:\tlearn: 0.7257273\ttotal: 1m 11s\tremaining: 1m 41s\n",
            "414:\tlearn: 0.7256175\ttotal: 1m 12s\tremaining: 1m 41s\n",
            "415:\tlearn: 0.7255090\ttotal: 1m 12s\tremaining: 1m 41s\n",
            "416:\tlearn: 0.7253797\ttotal: 1m 12s\tremaining: 1m 41s\n",
            "417:\tlearn: 0.7253161\ttotal: 1m 12s\tremaining: 1m 41s\n",
            "418:\tlearn: 0.7252104\ttotal: 1m 12s\tremaining: 1m 40s\n",
            "419:\tlearn: 0.7251339\ttotal: 1m 12s\tremaining: 1m 40s\n",
            "420:\tlearn: 0.7250164\ttotal: 1m 13s\tremaining: 1m 40s\n",
            "421:\tlearn: 0.7249144\ttotal: 1m 13s\tremaining: 1m 40s\n",
            "422:\tlearn: 0.7248267\ttotal: 1m 13s\tremaining: 1m 40s\n",
            "423:\tlearn: 0.7247439\ttotal: 1m 13s\tremaining: 1m 39s\n",
            "424:\tlearn: 0.7246501\ttotal: 1m 13s\tremaining: 1m 39s\n",
            "425:\tlearn: 0.7244289\ttotal: 1m 13s\tremaining: 1m 39s\n",
            "426:\tlearn: 0.7242989\ttotal: 1m 14s\tremaining: 1m 39s\n",
            "427:\tlearn: 0.7242255\ttotal: 1m 14s\tremaining: 1m 39s\n",
            "428:\tlearn: 0.7239521\ttotal: 1m 14s\tremaining: 1m 38s\n",
            "429:\tlearn: 0.7237687\ttotal: 1m 14s\tremaining: 1m 38s\n",
            "430:\tlearn: 0.7236997\ttotal: 1m 14s\tremaining: 1m 38s\n",
            "431:\tlearn: 0.7235884\ttotal: 1m 14s\tremaining: 1m 38s\n",
            "432:\tlearn: 0.7233645\ttotal: 1m 14s\tremaining: 1m 38s\n",
            "433:\tlearn: 0.7231323\ttotal: 1m 15s\tremaining: 1m 37s\n",
            "434:\tlearn: 0.7229095\ttotal: 1m 15s\tremaining: 1m 37s\n",
            "435:\tlearn: 0.7227415\ttotal: 1m 15s\tremaining: 1m 37s\n",
            "436:\tlearn: 0.7225484\ttotal: 1m 15s\tremaining: 1m 37s\n",
            "437:\tlearn: 0.7223956\ttotal: 1m 15s\tremaining: 1m 37s\n",
            "438:\tlearn: 0.7222384\ttotal: 1m 15s\tremaining: 1m 36s\n",
            "439:\tlearn: 0.7221300\ttotal: 1m 16s\tremaining: 1m 36s\n",
            "440:\tlearn: 0.7220552\ttotal: 1m 16s\tremaining: 1m 36s\n",
            "441:\tlearn: 0.7219137\ttotal: 1m 16s\tremaining: 1m 36s\n",
            "442:\tlearn: 0.7218315\ttotal: 1m 16s\tremaining: 1m 36s\n",
            "443:\tlearn: 0.7217806\ttotal: 1m 16s\tremaining: 1m 36s\n",
            "444:\tlearn: 0.7215904\ttotal: 1m 16s\tremaining: 1m 35s\n",
            "445:\tlearn: 0.7215156\ttotal: 1m 16s\tremaining: 1m 35s\n",
            "446:\tlearn: 0.7212803\ttotal: 1m 17s\tremaining: 1m 35s\n",
            "447:\tlearn: 0.7211886\ttotal: 1m 17s\tremaining: 1m 35s\n",
            "448:\tlearn: 0.7210845\ttotal: 1m 17s\tremaining: 1m 35s\n",
            "449:\tlearn: 0.7209998\ttotal: 1m 17s\tremaining: 1m 34s\n",
            "450:\tlearn: 0.7208067\ttotal: 1m 17s\tremaining: 1m 34s\n",
            "451:\tlearn: 0.7207256\ttotal: 1m 17s\tremaining: 1m 34s\n",
            "452:\tlearn: 0.7206284\ttotal: 1m 18s\tremaining: 1m 34s\n",
            "453:\tlearn: 0.7205498\ttotal: 1m 18s\tremaining: 1m 34s\n",
            "454:\tlearn: 0.7204234\ttotal: 1m 18s\tremaining: 1m 33s\n",
            "455:\tlearn: 0.7203363\ttotal: 1m 18s\tremaining: 1m 33s\n",
            "456:\tlearn: 0.7201963\ttotal: 1m 18s\tremaining: 1m 33s\n",
            "457:\tlearn: 0.7199510\ttotal: 1m 18s\tremaining: 1m 33s\n",
            "458:\tlearn: 0.7198568\ttotal: 1m 19s\tremaining: 1m 33s\n",
            "459:\tlearn: 0.7197332\ttotal: 1m 19s\tremaining: 1m 32s\n",
            "460:\tlearn: 0.7196292\ttotal: 1m 19s\tremaining: 1m 32s\n",
            "461:\tlearn: 0.7195381\ttotal: 1m 19s\tremaining: 1m 32s\n",
            "462:\tlearn: 0.7193829\ttotal: 1m 19s\tremaining: 1m 32s\n",
            "463:\tlearn: 0.7192321\ttotal: 1m 19s\tremaining: 1m 32s\n",
            "464:\tlearn: 0.7190972\ttotal: 1m 19s\tremaining: 1m 32s\n",
            "465:\tlearn: 0.7190004\ttotal: 1m 20s\tremaining: 1m 31s\n",
            "466:\tlearn: 0.7188441\ttotal: 1m 20s\tremaining: 1m 31s\n",
            "467:\tlearn: 0.7187631\ttotal: 1m 20s\tremaining: 1m 31s\n",
            "468:\tlearn: 0.7186844\ttotal: 1m 21s\tremaining: 1m 31s\n",
            "469:\tlearn: 0.7185783\ttotal: 1m 21s\tremaining: 1m 31s\n",
            "470:\tlearn: 0.7184682\ttotal: 1m 21s\tremaining: 1m 31s\n",
            "471:\tlearn: 0.7183750\ttotal: 1m 21s\tremaining: 1m 31s\n",
            "472:\tlearn: 0.7182715\ttotal: 1m 22s\tremaining: 1m 31s\n",
            "473:\tlearn: 0.7181707\ttotal: 1m 22s\tremaining: 1m 31s\n",
            "474:\tlearn: 0.7180438\ttotal: 1m 22s\tremaining: 1m 31s\n",
            "475:\tlearn: 0.7179052\ttotal: 1m 22s\tremaining: 1m 30s\n",
            "476:\tlearn: 0.7177796\ttotal: 1m 22s\tremaining: 1m 30s\n",
            "477:\tlearn: 0.7175834\ttotal: 1m 22s\tremaining: 1m 30s\n",
            "478:\tlearn: 0.7174879\ttotal: 1m 23s\tremaining: 1m 30s\n",
            "479:\tlearn: 0.7173825\ttotal: 1m 23s\tremaining: 1m 30s\n",
            "480:\tlearn: 0.7172849\ttotal: 1m 23s\tremaining: 1m 29s\n",
            "481:\tlearn: 0.7171205\ttotal: 1m 23s\tremaining: 1m 29s\n",
            "482:\tlearn: 0.7168518\ttotal: 1m 23s\tremaining: 1m 29s\n",
            "483:\tlearn: 0.7168010\ttotal: 1m 23s\tremaining: 1m 29s\n",
            "484:\tlearn: 0.7166805\ttotal: 1m 23s\tremaining: 1m 29s\n",
            "485:\tlearn: 0.7166018\ttotal: 1m 24s\tremaining: 1m 28s\n",
            "486:\tlearn: 0.7164615\ttotal: 1m 24s\tremaining: 1m 28s\n",
            "487:\tlearn: 0.7163198\ttotal: 1m 24s\tremaining: 1m 28s\n",
            "488:\tlearn: 0.7161949\ttotal: 1m 24s\tremaining: 1m 28s\n",
            "489:\tlearn: 0.7160884\ttotal: 1m 24s\tremaining: 1m 28s\n",
            "490:\tlearn: 0.7159870\ttotal: 1m 24s\tremaining: 1m 27s\n",
            "491:\tlearn: 0.7159042\ttotal: 1m 25s\tremaining: 1m 27s\n",
            "492:\tlearn: 0.7158128\ttotal: 1m 25s\tremaining: 1m 27s\n",
            "493:\tlearn: 0.7156649\ttotal: 1m 25s\tremaining: 1m 27s\n",
            "494:\tlearn: 0.7155497\ttotal: 1m 25s\tremaining: 1m 27s\n",
            "495:\tlearn: 0.7153247\ttotal: 1m 25s\tremaining: 1m 27s\n",
            "496:\tlearn: 0.7151394\ttotal: 1m 25s\tremaining: 1m 26s\n",
            "497:\tlearn: 0.7150483\ttotal: 1m 25s\tremaining: 1m 26s\n",
            "498:\tlearn: 0.7148992\ttotal: 1m 26s\tremaining: 1m 26s\n",
            "499:\tlearn: 0.7148011\ttotal: 1m 26s\tremaining: 1m 26s\n",
            "500:\tlearn: 0.7147173\ttotal: 1m 26s\tremaining: 1m 26s\n",
            "501:\tlearn: 0.7146214\ttotal: 1m 26s\tremaining: 1m 25s\n",
            "502:\tlearn: 0.7144135\ttotal: 1m 26s\tremaining: 1m 25s\n",
            "503:\tlearn: 0.7143550\ttotal: 1m 26s\tremaining: 1m 25s\n",
            "504:\tlearn: 0.7140906\ttotal: 1m 27s\tremaining: 1m 25s\n",
            "505:\tlearn: 0.7140535\ttotal: 1m 27s\tremaining: 1m 25s\n",
            "506:\tlearn: 0.7139614\ttotal: 1m 27s\tremaining: 1m 24s\n",
            "507:\tlearn: 0.7138194\ttotal: 1m 27s\tremaining: 1m 24s\n",
            "508:\tlearn: 0.7136865\ttotal: 1m 27s\tremaining: 1m 24s\n",
            "509:\tlearn: 0.7135939\ttotal: 1m 27s\tremaining: 1m 24s\n",
            "510:\tlearn: 0.7134684\ttotal: 1m 27s\tremaining: 1m 24s\n",
            "511:\tlearn: 0.7133994\ttotal: 1m 28s\tremaining: 1m 24s\n",
            "512:\tlearn: 0.7132450\ttotal: 1m 28s\tremaining: 1m 23s\n",
            "513:\tlearn: 0.7131453\ttotal: 1m 28s\tremaining: 1m 23s\n",
            "514:\tlearn: 0.7128546\ttotal: 1m 28s\tremaining: 1m 23s\n",
            "515:\tlearn: 0.7127678\ttotal: 1m 28s\tremaining: 1m 23s\n",
            "516:\tlearn: 0.7126390\ttotal: 1m 28s\tremaining: 1m 23s\n",
            "517:\tlearn: 0.7125843\ttotal: 1m 29s\tremaining: 1m 22s\n",
            "518:\tlearn: 0.7124859\ttotal: 1m 29s\tremaining: 1m 22s\n",
            "519:\tlearn: 0.7123839\ttotal: 1m 29s\tremaining: 1m 22s\n",
            "520:\tlearn: 0.7123105\ttotal: 1m 29s\tremaining: 1m 22s\n",
            "521:\tlearn: 0.7121281\ttotal: 1m 29s\tremaining: 1m 22s\n",
            "522:\tlearn: 0.7120126\ttotal: 1m 29s\tremaining: 1m 21s\n",
            "523:\tlearn: 0.7119317\ttotal: 1m 30s\tremaining: 1m 21s\n",
            "524:\tlearn: 0.7117912\ttotal: 1m 30s\tremaining: 1m 21s\n",
            "525:\tlearn: 0.7117114\ttotal: 1m 30s\tremaining: 1m 21s\n",
            "526:\tlearn: 0.7116109\ttotal: 1m 30s\tremaining: 1m 21s\n",
            "527:\tlearn: 0.7114414\ttotal: 1m 30s\tremaining: 1m 21s\n",
            "528:\tlearn: 0.7113732\ttotal: 1m 30s\tremaining: 1m 20s\n",
            "529:\tlearn: 0.7112011\ttotal: 1m 30s\tremaining: 1m 20s\n",
            "530:\tlearn: 0.7111075\ttotal: 1m 31s\tremaining: 1m 20s\n",
            "531:\tlearn: 0.7110131\ttotal: 1m 31s\tremaining: 1m 20s\n",
            "532:\tlearn: 0.7109207\ttotal: 1m 31s\tremaining: 1m 20s\n",
            "533:\tlearn: 0.7107941\ttotal: 1m 31s\tremaining: 1m 19s\n",
            "534:\tlearn: 0.7106692\ttotal: 1m 31s\tremaining: 1m 19s\n",
            "535:\tlearn: 0.7105586\ttotal: 1m 31s\tremaining: 1m 19s\n",
            "536:\tlearn: 0.7104772\ttotal: 1m 32s\tremaining: 1m 19s\n",
            "537:\tlearn: 0.7103206\ttotal: 1m 32s\tremaining: 1m 19s\n",
            "538:\tlearn: 0.7102110\ttotal: 1m 32s\tremaining: 1m 19s\n",
            "539:\tlearn: 0.7101132\ttotal: 1m 32s\tremaining: 1m 19s\n",
            "540:\tlearn: 0.7100521\ttotal: 1m 33s\tremaining: 1m 19s\n",
            "541:\tlearn: 0.7099647\ttotal: 1m 33s\tremaining: 1m 19s\n",
            "542:\tlearn: 0.7098763\ttotal: 1m 33s\tremaining: 1m 18s\n",
            "543:\tlearn: 0.7097705\ttotal: 1m 34s\tremaining: 1m 18s\n",
            "544:\tlearn: 0.7096596\ttotal: 1m 34s\tremaining: 1m 18s\n",
            "545:\tlearn: 0.7094668\ttotal: 1m 34s\tremaining: 1m 18s\n",
            "546:\tlearn: 0.7092784\ttotal: 1m 34s\tremaining: 1m 18s\n",
            "547:\tlearn: 0.7092490\ttotal: 1m 34s\tremaining: 1m 18s\n",
            "548:\tlearn: 0.7091119\ttotal: 1m 34s\tremaining: 1m 17s\n",
            "549:\tlearn: 0.7089669\ttotal: 1m 34s\tremaining: 1m 17s\n",
            "550:\tlearn: 0.7088818\ttotal: 1m 35s\tremaining: 1m 17s\n",
            "551:\tlearn: 0.7087937\ttotal: 1m 35s\tremaining: 1m 17s\n",
            "552:\tlearn: 0.7086502\ttotal: 1m 35s\tremaining: 1m 17s\n",
            "553:\tlearn: 0.7084907\ttotal: 1m 35s\tremaining: 1m 16s\n",
            "554:\tlearn: 0.7083424\ttotal: 1m 35s\tremaining: 1m 16s\n",
            "555:\tlearn: 0.7082539\ttotal: 1m 35s\tremaining: 1m 16s\n",
            "556:\tlearn: 0.7081927\ttotal: 1m 36s\tremaining: 1m 16s\n",
            "557:\tlearn: 0.7081186\ttotal: 1m 36s\tremaining: 1m 16s\n",
            "558:\tlearn: 0.7080533\ttotal: 1m 36s\tremaining: 1m 16s\n",
            "559:\tlearn: 0.7079290\ttotal: 1m 36s\tremaining: 1m 15s\n",
            "560:\tlearn: 0.7078066\ttotal: 1m 36s\tremaining: 1m 15s\n",
            "561:\tlearn: 0.7076713\ttotal: 1m 36s\tremaining: 1m 15s\n",
            "562:\tlearn: 0.7075016\ttotal: 1m 36s\tremaining: 1m 15s\n",
            "563:\tlearn: 0.7074308\ttotal: 1m 37s\tremaining: 1m 15s\n",
            "564:\tlearn: 0.7073252\ttotal: 1m 37s\tremaining: 1m 14s\n",
            "565:\tlearn: 0.7072633\ttotal: 1m 37s\tremaining: 1m 14s\n",
            "566:\tlearn: 0.7071719\ttotal: 1m 37s\tremaining: 1m 14s\n",
            "567:\tlearn: 0.7070071\ttotal: 1m 37s\tremaining: 1m 14s\n",
            "568:\tlearn: 0.7068894\ttotal: 1m 37s\tremaining: 1m 14s\n",
            "569:\tlearn: 0.7067732\ttotal: 1m 38s\tremaining: 1m 14s\n",
            "570:\tlearn: 0.7066959\ttotal: 1m 38s\tremaining: 1m 13s\n",
            "571:\tlearn: 0.7065916\ttotal: 1m 38s\tremaining: 1m 13s\n",
            "572:\tlearn: 0.7064974\ttotal: 1m 38s\tremaining: 1m 13s\n",
            "573:\tlearn: 0.7063954\ttotal: 1m 38s\tremaining: 1m 13s\n",
            "574:\tlearn: 0.7062656\ttotal: 1m 38s\tremaining: 1m 13s\n",
            "575:\tlearn: 0.7061644\ttotal: 1m 39s\tremaining: 1m 12s\n",
            "576:\tlearn: 0.7060277\ttotal: 1m 39s\tremaining: 1m 12s\n",
            "577:\tlearn: 0.7059173\ttotal: 1m 39s\tremaining: 1m 12s\n",
            "578:\tlearn: 0.7057851\ttotal: 1m 39s\tremaining: 1m 12s\n",
            "579:\tlearn: 0.7056646\ttotal: 1m 39s\tremaining: 1m 12s\n",
            "580:\tlearn: 0.7055826\ttotal: 1m 39s\tremaining: 1m 11s\n",
            "581:\tlearn: 0.7055139\ttotal: 1m 39s\tremaining: 1m 11s\n",
            "582:\tlearn: 0.7054319\ttotal: 1m 40s\tremaining: 1m 11s\n",
            "583:\tlearn: 0.7052379\ttotal: 1m 40s\tremaining: 1m 11s\n",
            "584:\tlearn: 0.7051379\ttotal: 1m 40s\tremaining: 1m 11s\n",
            "585:\tlearn: 0.7050360\ttotal: 1m 40s\tremaining: 1m 11s\n",
            "586:\tlearn: 0.7048831\ttotal: 1m 40s\tremaining: 1m 10s\n",
            "587:\tlearn: 0.7048038\ttotal: 1m 40s\tremaining: 1m 10s\n",
            "588:\tlearn: 0.7047124\ttotal: 1m 41s\tremaining: 1m 10s\n",
            "589:\tlearn: 0.7045975\ttotal: 1m 41s\tremaining: 1m 10s\n",
            "590:\tlearn: 0.7044862\ttotal: 1m 41s\tremaining: 1m 10s\n",
            "591:\tlearn: 0.7043738\ttotal: 1m 41s\tremaining: 1m 9s\n",
            "592:\tlearn: 0.7042652\ttotal: 1m 41s\tremaining: 1m 9s\n",
            "593:\tlearn: 0.7040951\ttotal: 1m 41s\tremaining: 1m 9s\n",
            "594:\tlearn: 0.7040057\ttotal: 1m 41s\tremaining: 1m 9s\n",
            "595:\tlearn: 0.7038953\ttotal: 1m 42s\tremaining: 1m 9s\n",
            "596:\tlearn: 0.7037270\ttotal: 1m 42s\tremaining: 1m 9s\n",
            "597:\tlearn: 0.7036533\ttotal: 1m 42s\tremaining: 1m 8s\n",
            "598:\tlearn: 0.7035828\ttotal: 1m 42s\tremaining: 1m 8s\n",
            "599:\tlearn: 0.7034964\ttotal: 1m 42s\tremaining: 1m 8s\n",
            "600:\tlearn: 0.7033963\ttotal: 1m 42s\tremaining: 1m 8s\n",
            "601:\tlearn: 0.7031734\ttotal: 1m 43s\tremaining: 1m 8s\n",
            "602:\tlearn: 0.7030987\ttotal: 1m 43s\tremaining: 1m 7s\n",
            "603:\tlearn: 0.7030248\ttotal: 1m 43s\tremaining: 1m 7s\n",
            "604:\tlearn: 0.7029111\ttotal: 1m 43s\tremaining: 1m 7s\n",
            "605:\tlearn: 0.7027960\ttotal: 1m 43s\tremaining: 1m 7s\n",
            "606:\tlearn: 0.7027428\ttotal: 1m 43s\tremaining: 1m 7s\n",
            "607:\tlearn: 0.7025232\ttotal: 1m 44s\tremaining: 1m 7s\n",
            "608:\tlearn: 0.7024782\ttotal: 1m 44s\tremaining: 1m 6s\n",
            "609:\tlearn: 0.7023462\ttotal: 1m 44s\tremaining: 1m 6s\n",
            "610:\tlearn: 0.7022799\ttotal: 1m 44s\tremaining: 1m 6s\n",
            "611:\tlearn: 0.7021557\ttotal: 1m 45s\tremaining: 1m 6s\n",
            "612:\tlearn: 0.7020539\ttotal: 1m 45s\tremaining: 1m 6s\n",
            "613:\tlearn: 0.7019468\ttotal: 1m 45s\tremaining: 1m 6s\n",
            "614:\tlearn: 0.7018810\ttotal: 1m 45s\tremaining: 1m 6s\n",
            "615:\tlearn: 0.7017983\ttotal: 1m 46s\tremaining: 1m 6s\n",
            "616:\tlearn: 0.7016386\ttotal: 1m 46s\tremaining: 1m 5s\n",
            "617:\tlearn: 0.7015824\ttotal: 1m 46s\tremaining: 1m 5s\n",
            "618:\tlearn: 0.7015235\ttotal: 1m 46s\tremaining: 1m 5s\n",
            "619:\tlearn: 0.7013811\ttotal: 1m 46s\tremaining: 1m 5s\n",
            "620:\tlearn: 0.7012261\ttotal: 1m 46s\tremaining: 1m 5s\n",
            "621:\tlearn: 0.7011311\ttotal: 1m 47s\tremaining: 1m 5s\n",
            "622:\tlearn: 0.7010589\ttotal: 1m 47s\tremaining: 1m 4s\n",
            "623:\tlearn: 0.7009637\ttotal: 1m 47s\tremaining: 1m 4s\n",
            "624:\tlearn: 0.7008763\ttotal: 1m 47s\tremaining: 1m 4s\n",
            "625:\tlearn: 0.7007166\ttotal: 1m 47s\tremaining: 1m 4s\n",
            "626:\tlearn: 0.7005927\ttotal: 1m 47s\tremaining: 1m 4s\n",
            "627:\tlearn: 0.7005160\ttotal: 1m 47s\tremaining: 1m 3s\n",
            "628:\tlearn: 0.7004349\ttotal: 1m 48s\tremaining: 1m 3s\n",
            "629:\tlearn: 0.7003507\ttotal: 1m 48s\tremaining: 1m 3s\n",
            "630:\tlearn: 0.7002157\ttotal: 1m 48s\tremaining: 1m 3s\n",
            "631:\tlearn: 0.7001056\ttotal: 1m 48s\tremaining: 1m 3s\n",
            "632:\tlearn: 0.7000476\ttotal: 1m 48s\tremaining: 1m 3s\n",
            "633:\tlearn: 0.6999508\ttotal: 1m 49s\tremaining: 1m 3s\n",
            "634:\tlearn: 0.6998208\ttotal: 1m 49s\tremaining: 1m 3s\n",
            "635:\tlearn: 0.6997250\ttotal: 1m 49s\tremaining: 1m 2s\n",
            "636:\tlearn: 0.6996702\ttotal: 1m 50s\tremaining: 1m 2s\n",
            "637:\tlearn: 0.6995782\ttotal: 1m 50s\tremaining: 1m 2s\n",
            "638:\tlearn: 0.6995217\ttotal: 1m 51s\tremaining: 1m 2s\n",
            "639:\tlearn: 0.6994540\ttotal: 1m 51s\tremaining: 1m 2s\n",
            "640:\tlearn: 0.6993656\ttotal: 1m 51s\tremaining: 1m 2s\n",
            "641:\tlearn: 0.6993091\ttotal: 1m 51s\tremaining: 1m 2s\n",
            "642:\tlearn: 0.6992026\ttotal: 1m 52s\tremaining: 1m 2s\n",
            "643:\tlearn: 0.6990214\ttotal: 1m 52s\tremaining: 1m 2s\n",
            "644:\tlearn: 0.6989114\ttotal: 1m 52s\tremaining: 1m 1s\n",
            "645:\tlearn: 0.6987821\ttotal: 1m 52s\tremaining: 1m 1s\n",
            "646:\tlearn: 0.6987158\ttotal: 1m 52s\tremaining: 1m 1s\n",
            "647:\tlearn: 0.6986473\ttotal: 1m 52s\tremaining: 1m 1s\n",
            "648:\tlearn: 0.6985410\ttotal: 1m 53s\tremaining: 1m 1s\n",
            "649:\tlearn: 0.6983648\ttotal: 1m 53s\tremaining: 1m\n",
            "650:\tlearn: 0.6982856\ttotal: 1m 53s\tremaining: 1m\n",
            "651:\tlearn: 0.6981418\ttotal: 1m 53s\tremaining: 1m\n",
            "652:\tlearn: 0.6980438\ttotal: 1m 53s\tremaining: 1m\n",
            "653:\tlearn: 0.6978951\ttotal: 1m 53s\tremaining: 1m\n",
            "654:\tlearn: 0.6978235\ttotal: 1m 53s\tremaining: 1m\n",
            "655:\tlearn: 0.6976958\ttotal: 1m 54s\tremaining: 59.8s\n",
            "656:\tlearn: 0.6975398\ttotal: 1m 54s\tremaining: 59.7s\n",
            "657:\tlearn: 0.6974249\ttotal: 1m 54s\tremaining: 59.5s\n",
            "658:\tlearn: 0.6973656\ttotal: 1m 54s\tremaining: 59.3s\n",
            "659:\tlearn: 0.6972676\ttotal: 1m 54s\tremaining: 59.1s\n",
            "660:\tlearn: 0.6970867\ttotal: 1m 54s\tremaining: 58.9s\n",
            "661:\tlearn: 0.6970247\ttotal: 1m 55s\tremaining: 58.7s\n",
            "662:\tlearn: 0.6969524\ttotal: 1m 55s\tremaining: 58.6s\n",
            "663:\tlearn: 0.6968621\ttotal: 1m 55s\tremaining: 58.4s\n",
            "664:\tlearn: 0.6967293\ttotal: 1m 55s\tremaining: 58.2s\n",
            "665:\tlearn: 0.6966430\ttotal: 1m 55s\tremaining: 58s\n",
            "666:\tlearn: 0.6965872\ttotal: 1m 55s\tremaining: 57.9s\n",
            "667:\tlearn: 0.6964787\ttotal: 1m 56s\tremaining: 57.7s\n",
            "668:\tlearn: 0.6963608\ttotal: 1m 56s\tremaining: 57.7s\n",
            "669:\tlearn: 0.6962742\ttotal: 1m 57s\tremaining: 57.6s\n",
            "670:\tlearn: 0.6961999\ttotal: 1m 57s\tremaining: 57.6s\n",
            "671:\tlearn: 0.6961254\ttotal: 1m 57s\tremaining: 57.5s\n",
            "672:\tlearn: 0.6960380\ttotal: 1m 58s\tremaining: 57.4s\n",
            "673:\tlearn: 0.6959807\ttotal: 1m 58s\tremaining: 57.3s\n",
            "674:\tlearn: 0.6958242\ttotal: 1m 58s\tremaining: 57.1s\n",
            "675:\tlearn: 0.6956876\ttotal: 1m 58s\tremaining: 56.9s\n",
            "676:\tlearn: 0.6955217\ttotal: 1m 58s\tremaining: 56.7s\n",
            "677:\tlearn: 0.6953960\ttotal: 1m 59s\tremaining: 56.5s\n",
            "678:\tlearn: 0.6952741\ttotal: 1m 59s\tremaining: 56.4s\n",
            "679:\tlearn: 0.6951166\ttotal: 1m 59s\tremaining: 56.2s\n",
            "680:\tlearn: 0.6950534\ttotal: 1m 59s\tremaining: 56s\n",
            "681:\tlearn: 0.6950056\ttotal: 1m 59s\tremaining: 55.8s\n",
            "682:\tlearn: 0.6948920\ttotal: 1m 59s\tremaining: 55.6s\n",
            "683:\tlearn: 0.6946397\ttotal: 1m 59s\tremaining: 55.4s\n",
            "684:\tlearn: 0.6945704\ttotal: 2m\tremaining: 55.2s\n",
            "685:\tlearn: 0.6944654\ttotal: 2m\tremaining: 55.1s\n",
            "686:\tlearn: 0.6943891\ttotal: 2m\tremaining: 54.9s\n",
            "687:\tlearn: 0.6942749\ttotal: 2m\tremaining: 54.7s\n",
            "688:\tlearn: 0.6942046\ttotal: 2m\tremaining: 54.5s\n",
            "689:\tlearn: 0.6941347\ttotal: 2m\tremaining: 54.3s\n",
            "690:\tlearn: 0.6940542\ttotal: 2m 1s\tremaining: 54.1s\n",
            "691:\tlearn: 0.6939811\ttotal: 2m 1s\tremaining: 54s\n",
            "692:\tlearn: 0.6939252\ttotal: 2m 1s\tremaining: 53.8s\n",
            "693:\tlearn: 0.6938540\ttotal: 2m 1s\tremaining: 53.6s\n",
            "694:\tlearn: 0.6937602\ttotal: 2m 1s\tremaining: 53.4s\n",
            "695:\tlearn: 0.6935743\ttotal: 2m 1s\tremaining: 53.2s\n",
            "696:\tlearn: 0.6935065\ttotal: 2m 2s\tremaining: 53s\n",
            "697:\tlearn: 0.6934452\ttotal: 2m 2s\tremaining: 52.9s\n",
            "698:\tlearn: 0.6933999\ttotal: 2m 2s\tremaining: 52.7s\n",
            "699:\tlearn: 0.6933295\ttotal: 2m 2s\tremaining: 52.5s\n",
            "700:\tlearn: 0.6931762\ttotal: 2m 2s\tremaining: 52.3s\n",
            "701:\tlearn: 0.6930698\ttotal: 2m 2s\tremaining: 52.1s\n",
            "702:\tlearn: 0.6929283\ttotal: 2m 2s\tremaining: 51.9s\n",
            "703:\tlearn: 0.6926650\ttotal: 2m 3s\tremaining: 51.8s\n",
            "704:\tlearn: 0.6925808\ttotal: 2m 3s\tremaining: 51.6s\n",
            "705:\tlearn: 0.6924660\ttotal: 2m 3s\tremaining: 51.4s\n",
            "706:\tlearn: 0.6924020\ttotal: 2m 3s\tremaining: 51.2s\n",
            "707:\tlearn: 0.6923085\ttotal: 2m 3s\tremaining: 51s\n",
            "708:\tlearn: 0.6921864\ttotal: 2m 3s\tremaining: 50.8s\n",
            "709:\tlearn: 0.6921171\ttotal: 2m 4s\tremaining: 50.7s\n",
            "710:\tlearn: 0.6920163\ttotal: 2m 4s\tremaining: 50.5s\n",
            "711:\tlearn: 0.6919045\ttotal: 2m 4s\tremaining: 50.3s\n",
            "712:\tlearn: 0.6918098\ttotal: 2m 4s\tremaining: 50.1s\n",
            "713:\tlearn: 0.6917440\ttotal: 2m 4s\tremaining: 49.9s\n",
            "714:\tlearn: 0.6916101\ttotal: 2m 4s\tremaining: 49.8s\n",
            "715:\tlearn: 0.6915387\ttotal: 2m 4s\tremaining: 49.6s\n",
            "716:\tlearn: 0.6914693\ttotal: 2m 5s\tremaining: 49.4s\n",
            "717:\tlearn: 0.6913033\ttotal: 2m 5s\tremaining: 49.2s\n",
            "718:\tlearn: 0.6912123\ttotal: 2m 5s\tremaining: 49s\n",
            "719:\tlearn: 0.6911197\ttotal: 2m 5s\tremaining: 48.8s\n",
            "720:\tlearn: 0.6910461\ttotal: 2m 5s\tremaining: 48.7s\n",
            "721:\tlearn: 0.6910021\ttotal: 2m 5s\tremaining: 48.5s\n",
            "722:\tlearn: 0.6909613\ttotal: 2m 6s\tremaining: 48.3s\n",
            "723:\tlearn: 0.6908977\ttotal: 2m 6s\tremaining: 48.1s\n",
            "724:\tlearn: 0.6908628\ttotal: 2m 6s\tremaining: 47.9s\n",
            "725:\tlearn: 0.6907689\ttotal: 2m 6s\tremaining: 47.8s\n",
            "726:\tlearn: 0.6907180\ttotal: 2m 6s\tremaining: 47.6s\n",
            "727:\tlearn: 0.6906804\ttotal: 2m 6s\tremaining: 47.4s\n",
            "728:\tlearn: 0.6905714\ttotal: 2m 7s\tremaining: 47.2s\n",
            "729:\tlearn: 0.6905044\ttotal: 2m 7s\tremaining: 47s\n",
            "730:\tlearn: 0.6904338\ttotal: 2m 7s\tremaining: 46.9s\n",
            "731:\tlearn: 0.6902350\ttotal: 2m 7s\tremaining: 46.7s\n",
            "732:\tlearn: 0.6901333\ttotal: 2m 7s\tremaining: 46.5s\n",
            "733:\tlearn: 0.6900360\ttotal: 2m 7s\tremaining: 46.3s\n",
            "734:\tlearn: 0.6899568\ttotal: 2m 8s\tremaining: 46.1s\n",
            "735:\tlearn: 0.6898821\ttotal: 2m 8s\tremaining: 46s\n",
            "736:\tlearn: 0.6898038\ttotal: 2m 8s\tremaining: 45.9s\n",
            "737:\tlearn: 0.6897170\ttotal: 2m 8s\tremaining: 45.7s\n",
            "738:\tlearn: 0.6896281\ttotal: 2m 9s\tremaining: 45.6s\n",
            "739:\tlearn: 0.6895513\ttotal: 2m 9s\tremaining: 45.4s\n",
            "740:\tlearn: 0.6893159\ttotal: 2m 9s\tremaining: 45.3s\n",
            "741:\tlearn: 0.6892594\ttotal: 2m 9s\tremaining: 45.2s\n",
            "742:\tlearn: 0.6891356\ttotal: 2m 10s\tremaining: 45s\n",
            "743:\tlearn: 0.6890283\ttotal: 2m 10s\tremaining: 44.8s\n",
            "744:\tlearn: 0.6889164\ttotal: 2m 10s\tremaining: 44.6s\n",
            "745:\tlearn: 0.6887948\ttotal: 2m 10s\tremaining: 44.5s\n",
            "746:\tlearn: 0.6886611\ttotal: 2m 10s\tremaining: 44.3s\n",
            "747:\tlearn: 0.6885935\ttotal: 2m 10s\tremaining: 44.1s\n",
            "748:\tlearn: 0.6884474\ttotal: 2m 11s\tremaining: 43.9s\n",
            "749:\tlearn: 0.6883844\ttotal: 2m 11s\tremaining: 43.7s\n",
            "750:\tlearn: 0.6882916\ttotal: 2m 11s\tremaining: 43.6s\n",
            "751:\tlearn: 0.6882458\ttotal: 2m 11s\tremaining: 43.4s\n",
            "752:\tlearn: 0.6881844\ttotal: 2m 11s\tremaining: 43.2s\n",
            "753:\tlearn: 0.6881226\ttotal: 2m 11s\tremaining: 43s\n",
            "754:\tlearn: 0.6880491\ttotal: 2m 12s\tremaining: 42.8s\n",
            "755:\tlearn: 0.6879908\ttotal: 2m 12s\tremaining: 42.7s\n",
            "756:\tlearn: 0.6879139\ttotal: 2m 12s\tremaining: 42.5s\n",
            "757:\tlearn: 0.6878091\ttotal: 2m 12s\tremaining: 42.3s\n",
            "758:\tlearn: 0.6877479\ttotal: 2m 12s\tremaining: 42.1s\n",
            "759:\tlearn: 0.6876936\ttotal: 2m 12s\tremaining: 41.9s\n",
            "760:\tlearn: 0.6876549\ttotal: 2m 12s\tremaining: 41.8s\n",
            "761:\tlearn: 0.6876208\ttotal: 2m 13s\tremaining: 41.6s\n",
            "762:\tlearn: 0.6875082\ttotal: 2m 13s\tremaining: 41.4s\n",
            "763:\tlearn: 0.6873784\ttotal: 2m 13s\tremaining: 41.2s\n",
            "764:\tlearn: 0.6872967\ttotal: 2m 13s\tremaining: 41s\n",
            "765:\tlearn: 0.6872366\ttotal: 2m 13s\tremaining: 40.9s\n",
            "766:\tlearn: 0.6871652\ttotal: 2m 13s\tremaining: 40.7s\n",
            "767:\tlearn: 0.6869691\ttotal: 2m 14s\tremaining: 40.5s\n",
            "768:\tlearn: 0.6868112\ttotal: 2m 14s\tremaining: 40.3s\n",
            "769:\tlearn: 0.6867086\ttotal: 2m 14s\tremaining: 40.1s\n",
            "770:\tlearn: 0.6866666\ttotal: 2m 14s\tremaining: 40s\n",
            "771:\tlearn: 0.6865564\ttotal: 2m 14s\tremaining: 39.8s\n",
            "772:\tlearn: 0.6865011\ttotal: 2m 14s\tremaining: 39.6s\n",
            "773:\tlearn: 0.6864255\ttotal: 2m 15s\tremaining: 39.4s\n",
            "774:\tlearn: 0.6863280\ttotal: 2m 15s\tremaining: 39.2s\n",
            "775:\tlearn: 0.6862513\ttotal: 2m 15s\tremaining: 39.1s\n",
            "776:\tlearn: 0.6861951\ttotal: 2m 15s\tremaining: 38.9s\n",
            "777:\tlearn: 0.6861156\ttotal: 2m 15s\tremaining: 38.7s\n",
            "778:\tlearn: 0.6860253\ttotal: 2m 15s\tremaining: 38.5s\n",
            "779:\tlearn: 0.6859217\ttotal: 2m 15s\tremaining: 38.3s\n",
            "780:\tlearn: 0.6858560\ttotal: 2m 16s\tremaining: 38.2s\n",
            "781:\tlearn: 0.6857764\ttotal: 2m 16s\tremaining: 38s\n",
            "782:\tlearn: 0.6857302\ttotal: 2m 16s\tremaining: 37.8s\n",
            "783:\tlearn: 0.6856006\ttotal: 2m 16s\tremaining: 37.6s\n",
            "784:\tlearn: 0.6854855\ttotal: 2m 16s\tremaining: 37.4s\n",
            "785:\tlearn: 0.6853968\ttotal: 2m 16s\tremaining: 37.3s\n",
            "786:\tlearn: 0.6853009\ttotal: 2m 17s\tremaining: 37.1s\n",
            "787:\tlearn: 0.6852451\ttotal: 2m 17s\tremaining: 36.9s\n",
            "788:\tlearn: 0.6851574\ttotal: 2m 17s\tremaining: 36.7s\n",
            "789:\tlearn: 0.6850891\ttotal: 2m 17s\tremaining: 36.6s\n",
            "790:\tlearn: 0.6850120\ttotal: 2m 17s\tremaining: 36.4s\n",
            "791:\tlearn: 0.6848986\ttotal: 2m 17s\tremaining: 36.2s\n",
            "792:\tlearn: 0.6847366\ttotal: 2m 17s\tremaining: 36s\n",
            "793:\tlearn: 0.6846923\ttotal: 2m 18s\tremaining: 35.8s\n",
            "794:\tlearn: 0.6845619\ttotal: 2m 18s\tremaining: 35.7s\n",
            "795:\tlearn: 0.6844593\ttotal: 2m 18s\tremaining: 35.5s\n",
            "796:\tlearn: 0.6843801\ttotal: 2m 18s\tremaining: 35.3s\n",
            "797:\tlearn: 0.6842224\ttotal: 2m 18s\tremaining: 35.1s\n",
            "798:\tlearn: 0.6841273\ttotal: 2m 18s\tremaining: 35s\n",
            "799:\tlearn: 0.6840226\ttotal: 2m 19s\tremaining: 34.8s\n",
            "800:\tlearn: 0.6839294\ttotal: 2m 19s\tremaining: 34.6s\n",
            "801:\tlearn: 0.6836696\ttotal: 2m 19s\tremaining: 34.4s\n",
            "802:\tlearn: 0.6835765\ttotal: 2m 19s\tremaining: 34.2s\n",
            "803:\tlearn: 0.6834701\ttotal: 2m 19s\tremaining: 34.1s\n",
            "804:\tlearn: 0.6833523\ttotal: 2m 19s\tremaining: 33.9s\n",
            "805:\tlearn: 0.6832378\ttotal: 2m 20s\tremaining: 33.7s\n",
            "806:\tlearn: 0.6831508\ttotal: 2m 20s\tremaining: 33.6s\n",
            "807:\tlearn: 0.6830789\ttotal: 2m 20s\tremaining: 33.4s\n",
            "808:\tlearn: 0.6829775\ttotal: 2m 20s\tremaining: 33.3s\n",
            "809:\tlearn: 0.6829130\ttotal: 2m 21s\tremaining: 33.1s\n",
            "810:\tlearn: 0.6828318\ttotal: 2m 21s\tremaining: 33s\n",
            "811:\tlearn: 0.6827170\ttotal: 2m 21s\tremaining: 32.8s\n",
            "812:\tlearn: 0.6826216\ttotal: 2m 22s\tremaining: 32.7s\n",
            "813:\tlearn: 0.6825436\ttotal: 2m 22s\tremaining: 32.5s\n",
            "814:\tlearn: 0.6824682\ttotal: 2m 22s\tremaining: 32.3s\n",
            "815:\tlearn: 0.6824072\ttotal: 2m 22s\tremaining: 32.1s\n",
            "816:\tlearn: 0.6822347\ttotal: 2m 22s\tremaining: 32s\n",
            "817:\tlearn: 0.6821838\ttotal: 2m 22s\tremaining: 31.8s\n",
            "818:\tlearn: 0.6820037\ttotal: 2m 22s\tremaining: 31.6s\n",
            "819:\tlearn: 0.6818505\ttotal: 2m 23s\tremaining: 31.4s\n",
            "820:\tlearn: 0.6817483\ttotal: 2m 23s\tremaining: 31.2s\n",
            "821:\tlearn: 0.6816828\ttotal: 2m 23s\tremaining: 31.1s\n",
            "822:\tlearn: 0.6815971\ttotal: 2m 23s\tremaining: 30.9s\n",
            "823:\tlearn: 0.6815267\ttotal: 2m 23s\tremaining: 30.7s\n",
            "824:\tlearn: 0.6814460\ttotal: 2m 23s\tremaining: 30.5s\n",
            "825:\tlearn: 0.6813669\ttotal: 2m 24s\tremaining: 30.4s\n",
            "826:\tlearn: 0.6811662\ttotal: 2m 24s\tremaining: 30.2s\n",
            "827:\tlearn: 0.6809572\ttotal: 2m 24s\tremaining: 30s\n",
            "828:\tlearn: 0.6808762\ttotal: 2m 24s\tremaining: 29.8s\n",
            "829:\tlearn: 0.6807727\ttotal: 2m 24s\tremaining: 29.6s\n",
            "830:\tlearn: 0.6806854\ttotal: 2m 24s\tremaining: 29.5s\n",
            "831:\tlearn: 0.6805332\ttotal: 2m 25s\tremaining: 29.3s\n",
            "832:\tlearn: 0.6804013\ttotal: 2m 25s\tremaining: 29.1s\n",
            "833:\tlearn: 0.6803444\ttotal: 2m 25s\tremaining: 28.9s\n",
            "834:\tlearn: 0.6803023\ttotal: 2m 25s\tremaining: 28.8s\n",
            "835:\tlearn: 0.6802398\ttotal: 2m 25s\tremaining: 28.6s\n",
            "836:\tlearn: 0.6801652\ttotal: 2m 25s\tremaining: 28.4s\n",
            "837:\tlearn: 0.6800937\ttotal: 2m 25s\tremaining: 28.2s\n",
            "838:\tlearn: 0.6800309\ttotal: 2m 26s\tremaining: 28s\n",
            "839:\tlearn: 0.6799236\ttotal: 2m 26s\tremaining: 27.9s\n",
            "840:\tlearn: 0.6798264\ttotal: 2m 26s\tremaining: 27.7s\n",
            "841:\tlearn: 0.6797344\ttotal: 2m 26s\tremaining: 27.5s\n",
            "842:\tlearn: 0.6796369\ttotal: 2m 27s\tremaining: 27.4s\n",
            "843:\tlearn: 0.6795843\ttotal: 2m 27s\tremaining: 27.2s\n",
            "844:\tlearn: 0.6795351\ttotal: 2m 27s\tremaining: 27.1s\n",
            "845:\tlearn: 0.6794639\ttotal: 2m 27s\tremaining: 26.9s\n",
            "846:\tlearn: 0.6793853\ttotal: 2m 27s\tremaining: 26.7s\n",
            "847:\tlearn: 0.6792472\ttotal: 2m 28s\tremaining: 26.6s\n",
            "848:\tlearn: 0.6791967\ttotal: 2m 28s\tremaining: 26.4s\n",
            "849:\tlearn: 0.6790772\ttotal: 2m 28s\tremaining: 26.2s\n",
            "850:\tlearn: 0.6790018\ttotal: 2m 28s\tremaining: 26s\n",
            "851:\tlearn: 0.6789246\ttotal: 2m 28s\tremaining: 25.8s\n",
            "852:\tlearn: 0.6788099\ttotal: 2m 28s\tremaining: 25.7s\n",
            "853:\tlearn: 0.6787360\ttotal: 2m 29s\tremaining: 25.5s\n",
            "854:\tlearn: 0.6786730\ttotal: 2m 29s\tremaining: 25.3s\n",
            "855:\tlearn: 0.6785556\ttotal: 2m 29s\tremaining: 25.1s\n",
            "856:\tlearn: 0.6784987\ttotal: 2m 29s\tremaining: 25s\n",
            "857:\tlearn: 0.6784294\ttotal: 2m 29s\tremaining: 24.8s\n",
            "858:\tlearn: 0.6783564\ttotal: 2m 29s\tremaining: 24.6s\n",
            "859:\tlearn: 0.6782115\ttotal: 2m 30s\tremaining: 24.4s\n",
            "860:\tlearn: 0.6781378\ttotal: 2m 30s\tremaining: 24.2s\n",
            "861:\tlearn: 0.6780670\ttotal: 2m 30s\tremaining: 24.1s\n",
            "862:\tlearn: 0.6779251\ttotal: 2m 30s\tremaining: 23.9s\n",
            "863:\tlearn: 0.6778431\ttotal: 2m 30s\tremaining: 23.7s\n",
            "864:\tlearn: 0.6777542\ttotal: 2m 30s\tremaining: 23.5s\n",
            "865:\tlearn: 0.6776410\ttotal: 2m 30s\tremaining: 23.4s\n",
            "866:\tlearn: 0.6775903\ttotal: 2m 31s\tremaining: 23.2s\n",
            "867:\tlearn: 0.6775183\ttotal: 2m 31s\tremaining: 23s\n",
            "868:\tlearn: 0.6774062\ttotal: 2m 31s\tremaining: 22.8s\n",
            "869:\tlearn: 0.6773623\ttotal: 2m 31s\tremaining: 22.6s\n",
            "870:\tlearn: 0.6772936\ttotal: 2m 31s\tremaining: 22.5s\n",
            "871:\tlearn: 0.6772143\ttotal: 2m 31s\tremaining: 22.3s\n",
            "872:\tlearn: 0.6771674\ttotal: 2m 32s\tremaining: 22.1s\n",
            "873:\tlearn: 0.6770446\ttotal: 2m 32s\tremaining: 22s\n",
            "874:\tlearn: 0.6769818\ttotal: 2m 32s\tremaining: 21.8s\n",
            "875:\tlearn: 0.6768298\ttotal: 2m 32s\tremaining: 21.6s\n",
            "876:\tlearn: 0.6767551\ttotal: 2m 33s\tremaining: 21.5s\n",
            "877:\tlearn: 0.6766900\ttotal: 2m 33s\tremaining: 21.3s\n",
            "878:\tlearn: 0.6766263\ttotal: 2m 33s\tremaining: 21.2s\n",
            "879:\tlearn: 0.6765717\ttotal: 2m 34s\tremaining: 21s\n",
            "880:\tlearn: 0.6764944\ttotal: 2m 34s\tremaining: 20.8s\n",
            "881:\tlearn: 0.6764427\ttotal: 2m 34s\tremaining: 20.6s\n",
            "882:\tlearn: 0.6762389\ttotal: 2m 34s\tremaining: 20.5s\n",
            "883:\tlearn: 0.6761340\ttotal: 2m 34s\tremaining: 20.3s\n",
            "884:\tlearn: 0.6760272\ttotal: 2m 34s\tremaining: 20.1s\n",
            "885:\tlearn: 0.6759919\ttotal: 2m 34s\tremaining: 19.9s\n",
            "886:\tlearn: 0.6759324\ttotal: 2m 35s\tremaining: 19.8s\n",
            "887:\tlearn: 0.6758588\ttotal: 2m 35s\tremaining: 19.6s\n",
            "888:\tlearn: 0.6758108\ttotal: 2m 35s\tremaining: 19.4s\n",
            "889:\tlearn: 0.6756872\ttotal: 2m 35s\tremaining: 19.2s\n",
            "890:\tlearn: 0.6756058\ttotal: 2m 35s\tremaining: 19.1s\n",
            "891:\tlearn: 0.6755399\ttotal: 2m 35s\tremaining: 18.9s\n",
            "892:\tlearn: 0.6754783\ttotal: 2m 36s\tremaining: 18.7s\n",
            "893:\tlearn: 0.6754156\ttotal: 2m 36s\tremaining: 18.5s\n",
            "894:\tlearn: 0.6752863\ttotal: 2m 36s\tremaining: 18.3s\n",
            "895:\tlearn: 0.6752155\ttotal: 2m 36s\tremaining: 18.2s\n",
            "896:\tlearn: 0.6751291\ttotal: 2m 36s\tremaining: 18s\n",
            "897:\tlearn: 0.6749794\ttotal: 2m 36s\tremaining: 17.8s\n",
            "898:\tlearn: 0.6748824\ttotal: 2m 36s\tremaining: 17.6s\n",
            "899:\tlearn: 0.6748228\ttotal: 2m 37s\tremaining: 17.5s\n",
            "900:\tlearn: 0.6747056\ttotal: 2m 37s\tremaining: 17.3s\n",
            "901:\tlearn: 0.6746130\ttotal: 2m 37s\tremaining: 17.1s\n",
            "902:\tlearn: 0.6745011\ttotal: 2m 37s\tremaining: 16.9s\n",
            "903:\tlearn: 0.6743732\ttotal: 2m 37s\tremaining: 16.8s\n",
            "904:\tlearn: 0.6743288\ttotal: 2m 37s\tremaining: 16.6s\n",
            "905:\tlearn: 0.6742701\ttotal: 2m 38s\tremaining: 16.4s\n",
            "906:\tlearn: 0.6742216\ttotal: 2m 38s\tremaining: 16.2s\n",
            "907:\tlearn: 0.6741555\ttotal: 2m 38s\tremaining: 16.1s\n",
            "908:\tlearn: 0.6740879\ttotal: 2m 38s\tremaining: 15.9s\n",
            "909:\tlearn: 0.6740353\ttotal: 2m 38s\tremaining: 15.7s\n",
            "910:\tlearn: 0.6739722\ttotal: 2m 38s\tremaining: 15.5s\n",
            "911:\tlearn: 0.6738829\ttotal: 2m 39s\tremaining: 15.3s\n",
            "912:\tlearn: 0.6737939\ttotal: 2m 39s\tremaining: 15.2s\n",
            "913:\tlearn: 0.6737115\ttotal: 2m 39s\tremaining: 15s\n",
            "914:\tlearn: 0.6735724\ttotal: 2m 39s\tremaining: 14.8s\n",
            "915:\tlearn: 0.6734686\ttotal: 2m 39s\tremaining: 14.6s\n",
            "916:\tlearn: 0.6733527\ttotal: 2m 39s\tremaining: 14.5s\n",
            "917:\tlearn: 0.6732625\ttotal: 2m 39s\tremaining: 14.3s\n",
            "918:\tlearn: 0.6731303\ttotal: 2m 40s\tremaining: 14.1s\n",
            "919:\tlearn: 0.6730728\ttotal: 2m 40s\tremaining: 13.9s\n",
            "920:\tlearn: 0.6730008\ttotal: 2m 40s\tremaining: 13.8s\n",
            "921:\tlearn: 0.6728546\ttotal: 2m 40s\tremaining: 13.6s\n",
            "922:\tlearn: 0.6727179\ttotal: 2m 40s\tremaining: 13.4s\n",
            "923:\tlearn: 0.6726462\ttotal: 2m 40s\tremaining: 13.2s\n",
            "924:\tlearn: 0.6725487\ttotal: 2m 41s\tremaining: 13.1s\n",
            "925:\tlearn: 0.6724429\ttotal: 2m 41s\tremaining: 12.9s\n",
            "926:\tlearn: 0.6723655\ttotal: 2m 41s\tremaining: 12.7s\n",
            "927:\tlearn: 0.6722400\ttotal: 2m 41s\tremaining: 12.5s\n",
            "928:\tlearn: 0.6721986\ttotal: 2m 41s\tremaining: 12.4s\n",
            "929:\tlearn: 0.6720661\ttotal: 2m 41s\tremaining: 12.2s\n",
            "930:\tlearn: 0.6720125\ttotal: 2m 42s\tremaining: 12s\n",
            "931:\tlearn: 0.6719707\ttotal: 2m 42s\tremaining: 11.8s\n",
            "932:\tlearn: 0.6718216\ttotal: 2m 42s\tremaining: 11.7s\n",
            "933:\tlearn: 0.6717730\ttotal: 2m 42s\tremaining: 11.5s\n",
            "934:\tlearn: 0.6717081\ttotal: 2m 42s\tremaining: 11.3s\n",
            "935:\tlearn: 0.6715763\ttotal: 2m 42s\tremaining: 11.1s\n",
            "936:\tlearn: 0.6713403\ttotal: 2m 42s\tremaining: 11s\n",
            "937:\tlearn: 0.6712914\ttotal: 2m 43s\tremaining: 10.8s\n",
            "938:\tlearn: 0.6712541\ttotal: 2m 43s\tremaining: 10.6s\n",
            "939:\tlearn: 0.6711914\ttotal: 2m 43s\tremaining: 10.4s\n",
            "940:\tlearn: 0.6711140\ttotal: 2m 43s\tremaining: 10.3s\n",
            "941:\tlearn: 0.6710672\ttotal: 2m 43s\tremaining: 10.1s\n",
            "942:\tlearn: 0.6709507\ttotal: 2m 43s\tremaining: 9.91s\n",
            "943:\tlearn: 0.6708863\ttotal: 2m 44s\tremaining: 9.74s\n",
            "944:\tlearn: 0.6708090\ttotal: 2m 44s\tremaining: 9.57s\n",
            "945:\tlearn: 0.6706050\ttotal: 2m 44s\tremaining: 9.4s\n",
            "946:\tlearn: 0.6704401\ttotal: 2m 44s\tremaining: 9.23s\n",
            "947:\tlearn: 0.6703756\ttotal: 2m 45s\tremaining: 9.06s\n",
            "948:\tlearn: 0.6702168\ttotal: 2m 45s\tremaining: 8.9s\n",
            "949:\tlearn: 0.6701629\ttotal: 2m 45s\tremaining: 8.73s\n",
            "950:\tlearn: 0.6700527\ttotal: 2m 46s\tremaining: 8.56s\n",
            "951:\tlearn: 0.6699943\ttotal: 2m 46s\tremaining: 8.38s\n",
            "952:\tlearn: 0.6698489\ttotal: 2m 46s\tremaining: 8.21s\n",
            "953:\tlearn: 0.6697459\ttotal: 2m 46s\tremaining: 8.03s\n",
            "954:\tlearn: 0.6696537\ttotal: 2m 46s\tremaining: 7.86s\n",
            "955:\tlearn: 0.6695753\ttotal: 2m 46s\tremaining: 7.68s\n",
            "956:\tlearn: 0.6695179\ttotal: 2m 47s\tremaining: 7.51s\n",
            "957:\tlearn: 0.6694532\ttotal: 2m 47s\tremaining: 7.33s\n",
            "958:\tlearn: 0.6693940\ttotal: 2m 47s\tremaining: 7.16s\n",
            "959:\tlearn: 0.6693166\ttotal: 2m 47s\tremaining: 6.98s\n",
            "960:\tlearn: 0.6692655\ttotal: 2m 47s\tremaining: 6.81s\n",
            "961:\tlearn: 0.6692040\ttotal: 2m 47s\tremaining: 6.63s\n",
            "962:\tlearn: 0.6691542\ttotal: 2m 48s\tremaining: 6.46s\n",
            "963:\tlearn: 0.6690561\ttotal: 2m 48s\tremaining: 6.29s\n",
            "964:\tlearn: 0.6689481\ttotal: 2m 48s\tremaining: 6.12s\n",
            "965:\tlearn: 0.6688713\ttotal: 2m 48s\tremaining: 5.94s\n",
            "966:\tlearn: 0.6688342\ttotal: 2m 49s\tremaining: 5.77s\n",
            "967:\tlearn: 0.6687920\ttotal: 2m 49s\tremaining: 5.59s\n",
            "968:\tlearn: 0.6686472\ttotal: 2m 49s\tremaining: 5.42s\n",
            "969:\tlearn: 0.6685884\ttotal: 2m 49s\tremaining: 5.24s\n",
            "970:\tlearn: 0.6684716\ttotal: 2m 49s\tremaining: 5.07s\n",
            "971:\tlearn: 0.6684429\ttotal: 2m 49s\tremaining: 4.89s\n",
            "972:\tlearn: 0.6683922\ttotal: 2m 49s\tremaining: 4.72s\n",
            "973:\tlearn: 0.6682790\ttotal: 2m 50s\tremaining: 4.54s\n",
            "974:\tlearn: 0.6682138\ttotal: 2m 50s\tremaining: 4.37s\n",
            "975:\tlearn: 0.6681712\ttotal: 2m 50s\tremaining: 4.19s\n",
            "976:\tlearn: 0.6681250\ttotal: 2m 50s\tremaining: 4.02s\n",
            "977:\tlearn: 0.6679971\ttotal: 2m 50s\tremaining: 3.84s\n",
            "978:\tlearn: 0.6678993\ttotal: 2m 50s\tremaining: 3.67s\n",
            "979:\tlearn: 0.6678606\ttotal: 2m 51s\tremaining: 3.49s\n",
            "980:\tlearn: 0.6678105\ttotal: 2m 51s\tremaining: 3.32s\n",
            "981:\tlearn: 0.6677354\ttotal: 2m 51s\tremaining: 3.14s\n",
            "982:\tlearn: 0.6677017\ttotal: 2m 51s\tremaining: 2.97s\n",
            "983:\tlearn: 0.6676439\ttotal: 2m 51s\tremaining: 2.79s\n",
            "984:\tlearn: 0.6675768\ttotal: 2m 51s\tremaining: 2.62s\n",
            "985:\tlearn: 0.6675100\ttotal: 2m 52s\tremaining: 2.44s\n",
            "986:\tlearn: 0.6674470\ttotal: 2m 52s\tremaining: 2.27s\n",
            "987:\tlearn: 0.6673386\ttotal: 2m 52s\tremaining: 2.09s\n",
            "988:\tlearn: 0.6672247\ttotal: 2m 52s\tremaining: 1.92s\n",
            "989:\tlearn: 0.6671501\ttotal: 2m 52s\tremaining: 1.74s\n",
            "990:\tlearn: 0.6671012\ttotal: 2m 52s\tremaining: 1.57s\n",
            "991:\tlearn: 0.6670407\ttotal: 2m 53s\tremaining: 1.4s\n",
            "992:\tlearn: 0.6669639\ttotal: 2m 53s\tremaining: 1.22s\n",
            "993:\tlearn: 0.6668565\ttotal: 2m 53s\tremaining: 1.05s\n",
            "994:\tlearn: 0.6667768\ttotal: 2m 53s\tremaining: 872ms\n",
            "995:\tlearn: 0.6667321\ttotal: 2m 53s\tremaining: 698ms\n",
            "996:\tlearn: 0.6666888\ttotal: 2m 53s\tremaining: 523ms\n",
            "997:\tlearn: 0.6666128\ttotal: 2m 54s\tremaining: 349ms\n",
            "998:\tlearn: 0.6664660\ttotal: 2m 54s\tremaining: 174ms\n",
            "999:\tlearn: 0.6664268\ttotal: 2m 54s\tremaining: 0us\n"
          ]
        },
        {
          "output_type": "execute_result",
          "data": {
            "text/plain": [
              "Pipeline(steps=[('vect', CountVectorizer()), ('tfidf', TfidfTransformer()),\n",
              "                ('clf',\n",
              "                 <catboost.core.CatBoostClassifier object at 0x7fc5992da700>)])"
            ],
            "text/html": [
              "<style>#sk-container-id-9 {color: black;background-color: white;}#sk-container-id-9 pre{padding: 0;}#sk-container-id-9 div.sk-toggleable {background-color: white;}#sk-container-id-9 label.sk-toggleable__label {cursor: pointer;display: block;width: 100%;margin-bottom: 0;padding: 0.3em;box-sizing: border-box;text-align: center;}#sk-container-id-9 label.sk-toggleable__label-arrow:before {content: \"▸\";float: left;margin-right: 0.25em;color: #696969;}#sk-container-id-9 label.sk-toggleable__label-arrow:hover:before {color: black;}#sk-container-id-9 div.sk-estimator:hover label.sk-toggleable__label-arrow:before {color: black;}#sk-container-id-9 div.sk-toggleable__content {max-height: 0;max-width: 0;overflow: hidden;text-align: left;background-color: #f0f8ff;}#sk-container-id-9 div.sk-toggleable__content pre {margin: 0.2em;color: black;border-radius: 0.25em;background-color: #f0f8ff;}#sk-container-id-9 input.sk-toggleable__control:checked~div.sk-toggleable__content {max-height: 200px;max-width: 100%;overflow: auto;}#sk-container-id-9 input.sk-toggleable__control:checked~label.sk-toggleable__label-arrow:before {content: \"▾\";}#sk-container-id-9 div.sk-estimator input.sk-toggleable__control:checked~label.sk-toggleable__label {background-color: #d4ebff;}#sk-container-id-9 div.sk-label input.sk-toggleable__control:checked~label.sk-toggleable__label {background-color: #d4ebff;}#sk-container-id-9 input.sk-hidden--visually {border: 0;clip: rect(1px 1px 1px 1px);clip: rect(1px, 1px, 1px, 1px);height: 1px;margin: -1px;overflow: hidden;padding: 0;position: absolute;width: 1px;}#sk-container-id-9 div.sk-estimator {font-family: monospace;background-color: #f0f8ff;border: 1px dotted black;border-radius: 0.25em;box-sizing: border-box;margin-bottom: 0.5em;}#sk-container-id-9 div.sk-estimator:hover {background-color: #d4ebff;}#sk-container-id-9 div.sk-parallel-item::after {content: \"\";width: 100%;border-bottom: 1px solid gray;flex-grow: 1;}#sk-container-id-9 div.sk-label:hover label.sk-toggleable__label {background-color: #d4ebff;}#sk-container-id-9 div.sk-serial::before {content: \"\";position: absolute;border-left: 1px solid gray;box-sizing: border-box;top: 0;bottom: 0;left: 50%;z-index: 0;}#sk-container-id-9 div.sk-serial {display: flex;flex-direction: column;align-items: center;background-color: white;padding-right: 0.2em;padding-left: 0.2em;position: relative;}#sk-container-id-9 div.sk-item {position: relative;z-index: 1;}#sk-container-id-9 div.sk-parallel {display: flex;align-items: stretch;justify-content: center;background-color: white;position: relative;}#sk-container-id-9 div.sk-item::before, #sk-container-id-9 div.sk-parallel-item::before {content: \"\";position: absolute;border-left: 1px solid gray;box-sizing: border-box;top: 0;bottom: 0;left: 50%;z-index: -1;}#sk-container-id-9 div.sk-parallel-item {display: flex;flex-direction: column;z-index: 1;position: relative;background-color: white;}#sk-container-id-9 div.sk-parallel-item:first-child::after {align-self: flex-end;width: 50%;}#sk-container-id-9 div.sk-parallel-item:last-child::after {align-self: flex-start;width: 50%;}#sk-container-id-9 div.sk-parallel-item:only-child::after {width: 0;}#sk-container-id-9 div.sk-dashed-wrapped {border: 1px dashed gray;margin: 0 0.4em 0.5em 0.4em;box-sizing: border-box;padding-bottom: 0.4em;background-color: white;}#sk-container-id-9 div.sk-label label {font-family: monospace;font-weight: bold;display: inline-block;line-height: 1.2em;}#sk-container-id-9 div.sk-label-container {text-align: center;}#sk-container-id-9 div.sk-container {/* jupyter's `normalize.less` sets `[hidden] { display: none; }` but bootstrap.min.css set `[hidden] { display: none !important; }` so we also need the `!important` here to be able to override the default hidden behavior on the sphinx rendered scikit-learn.org. See: https://github.com/scikit-learn/scikit-learn/issues/21755 */display: inline-block !important;position: relative;}#sk-container-id-9 div.sk-text-repr-fallback {display: none;}</style><div id=\"sk-container-id-9\" class=\"sk-top-container\"><div class=\"sk-text-repr-fallback\"><pre>Pipeline(steps=[(&#x27;vect&#x27;, CountVectorizer()), (&#x27;tfidf&#x27;, TfidfTransformer()),\n",
              "                (&#x27;clf&#x27;,\n",
              "                 &lt;catboost.core.CatBoostClassifier object at 0x7fc5992da700&gt;)])</pre><b>In a Jupyter environment, please rerun this cell to show the HTML representation or trust the notebook. <br />On GitHub, the HTML representation is unable to render, please try loading this page with nbviewer.org.</b></div><div class=\"sk-container\" hidden><div class=\"sk-item sk-dashed-wrapped\"><div class=\"sk-label-container\"><div class=\"sk-label sk-toggleable\"><input class=\"sk-toggleable__control sk-hidden--visually\" id=\"sk-estimator-id-33\" type=\"checkbox\" ><label for=\"sk-estimator-id-33\" class=\"sk-toggleable__label sk-toggleable__label-arrow\">Pipeline</label><div class=\"sk-toggleable__content\"><pre>Pipeline(steps=[(&#x27;vect&#x27;, CountVectorizer()), (&#x27;tfidf&#x27;, TfidfTransformer()),\n",
              "                (&#x27;clf&#x27;,\n",
              "                 &lt;catboost.core.CatBoostClassifier object at 0x7fc5992da700&gt;)])</pre></div></div></div><div class=\"sk-serial\"><div class=\"sk-item\"><div class=\"sk-estimator sk-toggleable\"><input class=\"sk-toggleable__control sk-hidden--visually\" id=\"sk-estimator-id-34\" type=\"checkbox\" ><label for=\"sk-estimator-id-34\" class=\"sk-toggleable__label sk-toggleable__label-arrow\">CountVectorizer</label><div class=\"sk-toggleable__content\"><pre>CountVectorizer()</pre></div></div></div><div class=\"sk-item\"><div class=\"sk-estimator sk-toggleable\"><input class=\"sk-toggleable__control sk-hidden--visually\" id=\"sk-estimator-id-35\" type=\"checkbox\" ><label for=\"sk-estimator-id-35\" class=\"sk-toggleable__label sk-toggleable__label-arrow\">TfidfTransformer</label><div class=\"sk-toggleable__content\"><pre>TfidfTransformer()</pre></div></div></div><div class=\"sk-item\"><div class=\"sk-estimator sk-toggleable\"><input class=\"sk-toggleable__control sk-hidden--visually\" id=\"sk-estimator-id-36\" type=\"checkbox\" ><label for=\"sk-estimator-id-36\" class=\"sk-toggleable__label sk-toggleable__label-arrow\">CatBoostClassifier</label><div class=\"sk-toggleable__content\"><pre>&lt;catboost.core.CatBoostClassifier object at 0x7fc5992da700&gt;</pre></div></div></div></div></div></div></div>"
            ]
          },
          "metadata": {},
          "execution_count": 142
        }
      ],
      "source": [
        "# Algorithm training X_train, X_test, y_train, y_test\n",
        "ctb_model = ctb_pipeline.fit(X_train.values.astype('U'), y_train.values.astype('int64'))\n",
        "ctb_model"
      ]
    },
    {
      "cell_type": "code",
      "execution_count": 143,
      "id": "0efb5ded-6bbd-479a-9c18-ed293a6c89bc",
      "metadata": {
        "id": "0efb5ded-6bbd-479a-9c18-ed293a6c89bc",
        "tags": [],
        "colab": {
          "base_uri": "https://localhost:8080/"
        },
        "outputId": "1ba8988f-d41a-4ea1-ae24-b1977f6dffef"
      },
      "outputs": [
        {
          "output_type": "execute_result",
          "data": {
            "text/plain": [
              "array([-1,  0,  1])"
            ]
          },
          "metadata": {},
          "execution_count": 143
        }
      ],
      "source": [
        "y_pred = ctb_model.predict(X_test.values.astype('U'))\n",
        "ctb_model.classes_"
      ]
    },
    {
      "cell_type": "code",
      "execution_count": 144,
      "id": "f82aa16c-43dc-4ab5-ba09-7aaf634432ce",
      "metadata": {
        "id": "f82aa16c-43dc-4ab5-ba09-7aaf634432ce",
        "tags": [],
        "colab": {
          "base_uri": "https://localhost:8080/"
        },
        "outputId": "7b279e14-fea9-48d7-8655-1c98cf4822e2"
      },
      "outputs": [
        {
          "output_type": "stream",
          "name": "stdout",
          "text": [
            "[[747 218   1]\n",
            " [306 376   0]\n",
            " [ 60  40   6]]\n"
          ]
        }
      ],
      "source": [
        "cm = confusion_matrix(y_test, y_pred, labels=ctb_model.classes_)\n",
        "print(cm)"
      ]
    },
    {
      "cell_type": "code",
      "execution_count": 145,
      "id": "4e58e88a-5ece-44a8-ad88-ce76db4bf3dc",
      "metadata": {
        "id": "4e58e88a-5ece-44a8-ad88-ce76db4bf3dc",
        "tags": [],
        "colab": {
          "base_uri": "https://localhost:8080/",
          "height": 296
        },
        "outputId": "3dc6b80a-8b68-41b8-9af1-c3178ab147fe"
      },
      "outputs": [
        {
          "output_type": "execute_result",
          "data": {
            "text/plain": [
              "<sklearn.metrics._plot.confusion_matrix.ConfusionMatrixDisplay at 0x7fc5992e39d0>"
            ]
          },
          "metadata": {},
          "execution_count": 145
        },
        {
          "output_type": "display_data",
          "data": {
            "text/plain": [
              "<Figure size 432x288 with 2 Axes>"
            ],
            "image/png": "[encoded data removed]"
          },
          "metadata": {
            "needs_background": "light"
          }
        }
      ],
      "source": [
        "cm_dsp=ConfusionMatrixDisplay(confusion_matrix=cm, display_labels=['Negatives', 'Neutral', 'Positive'])\n",
        "cm_dsp.plot()"
      ]
    },
    {
      "cell_type": "code",
      "execution_count": 146,
      "id": "9ea695b2-f0a5-4d10-a1df-4d10513d8c5f",
      "metadata": {
        "id": "9ea695b2-f0a5-4d10-a1df-4d10513d8c5f",
        "tags": [],
        "colab": {
          "base_uri": "https://localhost:8080/"
        },
        "outputId": "79a5bbb3-f860-4c61-f90a-4040bdbfe47b"
      },
      "outputs": [
        {
          "output_type": "stream",
          "name": "stdout",
          "text": [
            "Model Score: 0.6436716077537058\n",
            "Model Score: 64.37%\n",
            "\n",
            "Accuracy: 0.6436716077537058\n",
            "Accuracy: 64.37%\n",
            "\n",
            "F1-score: 0.4654126601029256\n",
            "F1-score: 46.54%\n",
            "\n",
            "CPU times and Wall time: \n",
            "CPU times: user 189 ms, sys: 4.92 ms, total: 194 ms\n",
            "Wall time: 139 ms\n"
          ]
        }
      ],
      "source": [
        "%%time\n",
        "\n",
        "#predicting \n",
        "y_pred = ctb_model.predict(X_test.values.astype('U'))\n",
        "\n",
        "model_score = ctb_model.score(X_test.values.astype('U'), y_test.values.astype('int64'))\n",
        "print(f'Model Score: {model_score}')\n",
        "print(f'Model Score: {model_score*100:.2f}%')\n",
        "accuracy = accuracy_score(y_test, y_pred)\n",
        "print()\n",
        "print(f\"Accuracy: {accuracy}\")\n",
        "print(f\"Accuracy: {accuracy*100:.2f}%\")\n",
        "print()\n",
        "f1 = f1_score(y_test, y_pred, average='macro')\n",
        "print(f\"F1-score: {f1}\")\n",
        "print(f\"F1-score: {f1*100:.2f}%\")\n",
        "print()\n",
        "print(\"CPU times and Wall time: \")"
      ]
    },
    {
      "cell_type": "code",
      "execution_count": 147,
      "id": "f9e63415-8f73-425b-b5c7-e7bfba07b9bd",
      "metadata": {
        "id": "f9e63415-8f73-425b-b5c7-e7bfba07b9bd",
        "tags": [],
        "colab": {
          "base_uri": "https://localhost:8080/"
        },
        "outputId": "293396ae-96ee-4b34-eeae-3cacad1fa953"
      },
      "outputs": [
        {
          "output_type": "execute_result",
          "data": {
            "text/plain": [
              "['models/CatBoostClassifier_model_score_64.37.pkl']"
            ]
          },
          "metadata": {},
          "execution_count": 147
        }
      ],
      "source": [
        "# Save to file / directory\n",
        "joblib_file = \"models/CatBoostClassifier_model_score_\"+ str(round(accuracy*100,2))+\".pkl\"\n",
        "joblib.dump(ctb_model, joblib_file)"
      ]
    }
  ],
  "metadata": {
    "colab": {
      "provenance": [],
      "include_colab_link": true
    },
    "kernelspec": {
      "display_name": "Python 3",
      "language": "python",
      "name": "python3"
    },
    "language_info": {
      "codemirror_mode": {
        "name": "ipython",
        "version": 3
      },
      "file_extension": ".py",
      "mimetype": "text/x-python",
      "name": "python",
      "nbconvert_exporter": "python",
      "pygments_lexer": "ipython3",
      "version": "3.11.2 (v3.11.2:878ead1ac1, Feb  7 2023, 10:02:41) [Clang 13.0.0 (clang-1300.0.29.30)]"
    },
    "vscode": {
      "interpreter": {
        "hash": "aee8b7b246df8f9039afb4144a1f6fd8d2ca17a180786b69acc140d282b71a49"
      }
    }
  },
  "nbformat": 4,
  "nbformat_minor": 5
}