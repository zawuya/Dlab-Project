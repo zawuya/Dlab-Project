{
  "cells": [
    {
      "cell_type": "markdown",
      "metadata": {
        "id": "view-in-github",
        "colab_type": "text"
      },
      "source": [
        "<a href=\"https://colab.research.google.com/github/zawuya/Dlab-Project/blob/master/telecom_sentiment_analysis_revised_final.ipynb\" target=\"_parent\"><img src=\"https://colab.research.google.com/assets/colab-badge.svg\" alt=\"Open In Colab\"/></a>"
      ]
    },
    {
      "cell_type": "markdown",
      "source": [
        "## `Sentiment Analysis`"
      ],
      "metadata": {
        "id": "0s4yRY8cTILi"
      },
      "id": "0s4yRY8cTILi"
    },
    {
      "cell_type": "markdown",
      "source": [
        "###**bold text** **Install Packages**"
      ],
      "metadata": {
        "id": "L8SOaK8tThNg"
      },
      "id": "L8SOaK8tThNg"
    },
    {
      "cell_type": "code",
      "execution_count": 23,
      "id": "P7ubU-aKbWpT",
      "metadata": {
        "id": "P7ubU-aKbWpT",
        "colab": {
          "base_uri": "https://localhost:8080/"
        },
        "outputId": "74fb87f3-d988-406c-e363-0b683171f1ea"
      },
      "outputs": [
        {
          "output_type": "stream",
          "name": "stdout",
          "text": [
            "Looking in indexes: https://pypi.org/simple, https://us-python.pkg.dev/colab-wheels/public/simple/\n",
            "Requirement already satisfied: catboost in /usr/local/lib/python3.9/dist-packages (1.1.1)\n",
            "Requirement already satisfied: six in /usr/local/lib/python3.9/dist-packages (from catboost) (1.16.0)\n",
            "Requirement already satisfied: scipy in /usr/local/lib/python3.9/dist-packages (from catboost) (1.10.1)\n",
            "Requirement already satisfied: plotly in /usr/local/lib/python3.9/dist-packages (from catboost) (5.13.1)\n",
            "Requirement already satisfied: pandas>=0.24.0 in /usr/local/lib/python3.9/dist-packages (from catboost) (1.4.4)\n",
            "Requirement already satisfied: matplotlib in /usr/local/lib/python3.9/dist-packages (from catboost) (3.7.1)\n",
            "Requirement already satisfied: numpy>=1.16.0 in /usr/local/lib/python3.9/dist-packages (from catboost) (1.22.4)\n",
            "Requirement already satisfied: graphviz in /usr/local/lib/python3.9/dist-packages (from catboost) (0.20.1)\n",
            "Requirement already satisfied: pytz>=2020.1 in /usr/local/lib/python3.9/dist-packages (from pandas>=0.24.0->catboost) (2022.7.1)\n",
            "Requirement already satisfied: python-dateutil>=2.8.1 in /usr/local/lib/python3.9/dist-packages (from pandas>=0.24.0->catboost) (2.8.2)\n",
            "Requirement already satisfied: pillow>=6.2.0 in /usr/local/lib/python3.9/dist-packages (from matplotlib->catboost) (8.4.0)\n",
            "Requirement already satisfied: packaging>=20.0 in /usr/local/lib/python3.9/dist-packages (from matplotlib->catboost) (23.0)\n",
            "Requirement already satisfied: cycler>=0.10 in /usr/local/lib/python3.9/dist-packages (from matplotlib->catboost) (0.11.0)\n",
            "Requirement already satisfied: pyparsing>=2.3.1 in /usr/local/lib/python3.9/dist-packages (from matplotlib->catboost) (3.0.9)\n",
            "Requirement already satisfied: kiwisolver>=1.0.1 in /usr/local/lib/python3.9/dist-packages (from matplotlib->catboost) (1.4.4)\n",
            "Requirement already satisfied: importlib-resources>=3.2.0 in /usr/local/lib/python3.9/dist-packages (from matplotlib->catboost) (5.12.0)\n",
            "Requirement already satisfied: contourpy>=1.0.1 in /usr/local/lib/python3.9/dist-packages (from matplotlib->catboost) (1.0.7)\n",
            "Requirement already satisfied: fonttools>=4.22.0 in /usr/local/lib/python3.9/dist-packages (from matplotlib->catboost) (4.39.2)\n",
            "Requirement already satisfied: tenacity>=6.2.0 in /usr/local/lib/python3.9/dist-packages (from plotly->catboost) (8.2.2)\n",
            "Requirement already satisfied: zipp>=3.1.0 in /usr/local/lib/python3.9/dist-packages (from importlib-resources>=3.2.0->matplotlib->catboost) (3.15.0)\n",
            "Looking in indexes: https://pypi.org/simple, https://us-python.pkg.dev/colab-wheels/public/simple/\n",
            "Requirement already satisfied: lightgbm in /usr/local/lib/python3.9/dist-packages (3.3.5)\n",
            "Requirement already satisfied: scikit-learn!=0.22.0 in /usr/local/lib/python3.9/dist-packages (from lightgbm) (1.2.2)\n",
            "Requirement already satisfied: numpy in /usr/local/lib/python3.9/dist-packages (from lightgbm) (1.22.4)\n",
            "Requirement already satisfied: wheel in /usr/local/lib/python3.9/dist-packages (from lightgbm) (0.40.0)\n",
            "Requirement already satisfied: scipy in /usr/local/lib/python3.9/dist-packages (from lightgbm) (1.10.1)\n",
            "Requirement already satisfied: joblib>=1.1.1 in /usr/local/lib/python3.9/dist-packages (from scikit-learn!=0.22.0->lightgbm) (1.1.1)\n",
            "Requirement already satisfied: threadpoolctl>=2.0.0 in /usr/local/lib/python3.9/dist-packages (from scikit-learn!=0.22.0->lightgbm) (3.1.0)\n",
            "Looking in indexes: https://pypi.org/simple, https://us-python.pkg.dev/colab-wheels/public/simple/\n",
            "Requirement already satisfied: xgboost in /usr/local/lib/python3.9/dist-packages (1.7.4)\n",
            "Requirement already satisfied: numpy in /usr/local/lib/python3.9/dist-packages (from xgboost) (1.22.4)\n",
            "Requirement already satisfied: scipy in /usr/local/lib/python3.9/dist-packages (from xgboost) (1.10.1)\n",
            "Looking in indexes: https://pypi.org/simple, https://us-python.pkg.dev/colab-wheels/public/simple/\n",
            "Requirement already satisfied: scikit-optimize in /usr/local/lib/python3.9/dist-packages (0.9.0)\n",
            "Requirement already satisfied: numpy>=1.13.3 in /usr/local/lib/python3.9/dist-packages (from scikit-optimize) (1.22.4)\n",
            "Requirement already satisfied: pyaml>=16.9 in /usr/local/lib/python3.9/dist-packages (from scikit-optimize) (21.10.1)\n",
            "Requirement already satisfied: scikit-learn>=0.20.0 in /usr/local/lib/python3.9/dist-packages (from scikit-optimize) (1.2.2)\n",
            "Requirement already satisfied: joblib>=0.11 in /usr/local/lib/python3.9/dist-packages (from scikit-optimize) (1.1.1)\n",
            "Requirement already satisfied: scipy>=0.19.1 in /usr/local/lib/python3.9/dist-packages (from scikit-optimize) (1.10.1)\n",
            "Requirement already satisfied: PyYAML in /usr/local/lib/python3.9/dist-packages (from pyaml>=16.9->scikit-optimize) (6.0)\n",
            "Requirement already satisfied: threadpoolctl>=2.0.0 in /usr/local/lib/python3.9/dist-packages (from scikit-learn>=0.20.0->scikit-optimize) (3.1.0)\n",
            "Looking in indexes: https://pypi.org/simple, https://us-python.pkg.dev/colab-wheels/public/simple/\n",
            "Requirement already satisfied: category-encoders in /usr/local/lib/python3.9/dist-packages (2.6.0)\n",
            "Requirement already satisfied: numpy>=1.14.0 in /usr/local/lib/python3.9/dist-packages (from category-encoders) (1.22.4)\n",
            "Requirement already satisfied: scipy>=1.0.0 in /usr/local/lib/python3.9/dist-packages (from category-encoders) (1.10.1)\n",
            "Requirement already satisfied: pandas>=1.0.5 in /usr/local/lib/python3.9/dist-packages (from category-encoders) (1.4.4)\n",
            "Requirement already satisfied: statsmodels>=0.9.0 in /usr/local/lib/python3.9/dist-packages (from category-encoders) (0.13.5)\n",
            "Requirement already satisfied: patsy>=0.5.1 in /usr/local/lib/python3.9/dist-packages (from category-encoders) (0.5.3)\n",
            "Requirement already satisfied: scikit-learn>=0.20.0 in /usr/local/lib/python3.9/dist-packages (from category-encoders) (1.2.2)\n",
            "Requirement already satisfied: python-dateutil>=2.8.1 in /usr/local/lib/python3.9/dist-packages (from pandas>=1.0.5->category-encoders) (2.8.2)\n",
            "Requirement already satisfied: pytz>=2020.1 in /usr/local/lib/python3.9/dist-packages (from pandas>=1.0.5->category-encoders) (2022.7.1)\n",
            "Requirement already satisfied: six in /usr/local/lib/python3.9/dist-packages (from patsy>=0.5.1->category-encoders) (1.16.0)\n",
            "Requirement already satisfied: threadpoolctl>=2.0.0 in /usr/local/lib/python3.9/dist-packages (from scikit-learn>=0.20.0->category-encoders) (3.1.0)\n",
            "Requirement already satisfied: joblib>=1.1.1 in /usr/local/lib/python3.9/dist-packages (from scikit-learn>=0.20.0->category-encoders) (1.1.1)\n",
            "Requirement already satisfied: packaging>=21.3 in /usr/local/lib/python3.9/dist-packages (from statsmodels>=0.9.0->category-encoders) (23.0)\n"
          ]
        }
      ],
      "source": [
        "! pip install catboost\n",
        "! pip install lightgbm\n",
        "! pip install xgboost\n",
        "! pip install scikit-optimize\n",
        "! pip install category-encoders\n"
      ]
    },
    {
      "cell_type": "markdown",
      "id": "b39beb5a",
      "metadata": {
        "id": "b39beb5a"
      },
      "source": [
        "### **Import dataset**"
      ]
    },
    {
      "cell_type": "code",
      "execution_count": 24,
      "id": "5fba1c93",
      "metadata": {
        "id": "5fba1c93"
      },
      "outputs": [],
      "source": [
        "#import useful libraries\n",
        "import pandas as pd\n",
        "import numpy as np\n",
        "import seaborn as sns\n",
        "import re \n",
        "import os\n",
        "import joblib \n",
        "import matplotlib.pyplot as plt\n",
        "import warnings\n",
        "import xgboost as xgb\n",
        "import catboost as ctb\n",
        "import lightgbm as ltb\n",
        "import collections\n",
        "from sklearn.metrics import accuracy_score, f1_score\n",
        "from sklearn.metrics import confusion_matrix, ConfusionMatrixDisplay \n",
        "from sklearn.pipeline import Pipeline\n",
        "from sklearn.model_selection import train_test_split\n",
        "from sklearn.feature_extraction.text import CountVectorizer, TfidfTransformer\n",
        "from sklearn.ensemble import RandomForestClassifier\n",
        "from sklearn.ensemble import GradientBoostingClassifier\n",
        "from sklearn.neighbors import KNeighborsClassifier\n",
        "from sklearn.tree import DecisionTreeClassifier\n",
        "from sklearn.linear_model import LogisticRegression\n",
        "from sklearn.naive_bayes import MultinomialNB\n",
        "from sklearn.svm import SVC\n",
        "from xgboost import plot_importance\n",
        "from xgboost import XGBClassifier\n",
        "from catboost import CatBoostClassifier\n",
        "from lightgbm import LGBMClassifier\n",
        "from collections import Counter\n",
        "from sklearn.datasets import make_classification\n",
        "from imblearn.over_sampling import RandomOverSampler\n",
        "from sklearn.preprocessing import LabelEncoder"
      ]
    },
    {
      "cell_type": "markdown",
      "source": [
        "###**Suppressing the warning Messages**"
      ],
      "metadata": {
        "id": "uJ9AbCg_UN89"
      },
      "id": "uJ9AbCg_UN89"
    },
    {
      "cell_type": "code",
      "execution_count": 25,
      "id": "15b58087-ac00-49b0-b48c-527ef1a7418e",
      "metadata": {
        "id": "15b58087-ac00-49b0-b48c-527ef1a7418e",
        "tags": []
      },
      "outputs": [],
      "source": [
        "warnings.filterwarnings(\"ignore\")"
      ]
    },
    {
      "cell_type": "markdown",
      "source": [
        "###**Load Datasets**"
      ],
      "metadata": {
        "id": "tJdQTZlVUfc0"
      },
      "id": "tJdQTZlVUfc0"
    },
    {
      "cell_type": "code",
      "execution_count": 26,
      "id": "e228f74a",
      "metadata": {
        "id": "e228f74a"
      },
      "outputs": [],
      "source": [
        "telecom_data=pd.read_csv(\"telecom_TZ_sentiment_data.csv\", dtype=str)"
      ]
    },
    {
      "cell_type": "code",
      "execution_count": 27,
      "id": "e10f9d5d",
      "metadata": {
        "id": "e10f9d5d",
        "colab": {
          "base_uri": "https://localhost:8080/",
          "height": 206
        },
        "outputId": "d226f644-255f-4a22-a7da-ccb5f3f5cebf"
      },
      "outputs": [
        {
          "output_type": "execute_result",
          "data": {
            "text/plain": [
              "                        date  \\\n",
              "0  2021-10-23 14:36:34+00:00   \n",
              "1  2021-09-28 15:37:16+00:00   \n",
              "2  2022-09-18 13:37:06+00:00   \n",
              "3  2021-04-08 18:34:13+00:00   \n",
              "4  2022-09-24 05:03:32+00:00   \n",
              "\n",
              "                                             comment platform sentiment  \n",
              "0        Chezea songesha wew https://t.co/FfnSsIkZGU  Twitter         1  \n",
              "1  Tafuta hela sana ili usilalamikie mabadiliko y...  Twitter         1  \n",
              "2  Hivi huu mtandao wa Tigo una tatizo au simu ya...  Twitter        -1  \n",
              "3  @DaktariWaWatoto Tamtam bando ni ðŸ”¥ ila kuin...  Twitter         1  \n",
              "4  @VodacomTanzania @ImranHussein84 Tatizo kifuru...  Twitter        -1  "
            ],
            "text/html": [
              "\n",
              "  <div id=\"df-44f199fa-8e93-42d7-ae5f-94ad42d5eec5\">\n",
              "    <div class=\"colab-df-container\">\n",
              "      <div>\n",
              "<style scoped>\n",
              "    .dataframe tbody tr th:only-of-type {\n",
              "        vertical-align: middle;\n",
              "    }\n",
              "\n",
              "    .dataframe tbody tr th {\n",
              "        vertical-align: top;\n",
              "    }\n",
              "\n",
              "    .dataframe thead th {\n",
              "        text-align: right;\n",
              "    }\n",
              "</style>\n",
              "<table border=\"1\" class=\"dataframe\">\n",
              "  <thead>\n",
              "    <tr style=\"text-align: right;\">\n",
              "      <th></th>\n",
              "      <th>date</th>\n",
              "      <th>comment</th>\n",
              "      <th>platform</th>\n",
              "      <th>sentiment</th>\n",
              "    </tr>\n",
              "  </thead>\n",
              "  <tbody>\n",
              "    <tr>\n",
              "      <th>0</th>\n",
              "      <td>2021-10-23 14:36:34+00:00</td>\n",
              "      <td>Chezea songesha wew https://t.co/FfnSsIkZGU</td>\n",
              "      <td>Twitter</td>\n",
              "      <td>1</td>\n",
              "    </tr>\n",
              "    <tr>\n",
              "      <th>1</th>\n",
              "      <td>2021-09-28 15:37:16+00:00</td>\n",
              "      <td>Tafuta hela sana ili usilalamikie mabadiliko y...</td>\n",
              "      <td>Twitter</td>\n",
              "      <td>1</td>\n",
              "    </tr>\n",
              "    <tr>\n",
              "      <th>2</th>\n",
              "      <td>2022-09-18 13:37:06+00:00</td>\n",
              "      <td>Hivi huu mtandao wa Tigo una tatizo au simu ya...</td>\n",
              "      <td>Twitter</td>\n",
              "      <td>-1</td>\n",
              "    </tr>\n",
              "    <tr>\n",
              "      <th>3</th>\n",
              "      <td>2021-04-08 18:34:13+00:00</td>\n",
              "      <td>@DaktariWaWatoto Tamtam bando ni ðŸ”¥ ila kuin...</td>\n",
              "      <td>Twitter</td>\n",
              "      <td>1</td>\n",
              "    </tr>\n",
              "    <tr>\n",
              "      <th>4</th>\n",
              "      <td>2022-09-24 05:03:32+00:00</td>\n",
              "      <td>@VodacomTanzania @ImranHussein84 Tatizo kifuru...</td>\n",
              "      <td>Twitter</td>\n",
              "      <td>-1</td>\n",
              "    </tr>\n",
              "  </tbody>\n",
              "</table>\n",
              "</div>\n",
              "      <button class=\"colab-df-convert\" onclick=\"convertToInteractive('df-44f199fa-8e93-42d7-ae5f-94ad42d5eec5')\"\n",
              "              title=\"Convert this dataframe to an interactive table.\"\n",
              "              style=\"display:none;\">\n",
              "        \n",
              "  <svg xmlns=\"http://www.w3.org/2000/svg\" height=\"24px\"viewBox=\"0 0 24 24\"\n",
              "       width=\"24px\">\n",
              "    <path d=\"M0 0h24v24H0V0z\" fill=\"none\"/>\n",
              "    <path d=\"M18.56 5.44l.94 2.06.94-2.06 2.06-.94-2.06-.94-.94-2.06-.94 2.06-2.06.94zm-11 1L8.5 8.5l.94-2.06 2.06-.94-2.06-.94L8.5 2.5l-.94 2.06-2.06.94zm10 10l.94 2.06.94-2.06 2.06-.94-2.06-.94-.94-2.06-.94 2.06-2.06.94z\"/><path d=\"M17.41 7.96l-1.37-1.37c-.4-.4-.92-.59-1.43-.59-.52 0-1.04.2-1.43.59L10.3 9.45l-7.72 7.72c-.78.78-.78 2.05 0 2.83L4 21.41c.39.39.9.59 1.41.59.51 0 1.02-.2 1.41-.59l7.78-7.78 2.81-2.81c.8-.78.8-2.07 0-2.86zM5.41 20L4 18.59l7.72-7.72 1.47 1.35L5.41 20z\"/>\n",
              "  </svg>\n",
              "      </button>\n",
              "      \n",
              "  <style>\n",
              "    .colab-df-container {\n",
              "      display:flex;\n",
              "      flex-wrap:wrap;\n",
              "      gap: 12px;\n",
              "    }\n",
              "\n",
              "    .colab-df-convert {\n",
              "      background-color: #E8F0FE;\n",
              "      border: none;\n",
              "      border-radius: 50%;\n",
              "      cursor: pointer;\n",
              "      display: none;\n",
              "      fill: #1967D2;\n",
              "      height: 32px;\n",
              "      padding: 0 0 0 0;\n",
              "      width: 32px;\n",
              "    }\n",
              "\n",
              "    .colab-df-convert:hover {\n",
              "      background-color: #E2EBFA;\n",
              "      box-shadow: 0px 1px 2px rgba(60, 64, 67, 0.3), 0px 1px 3px 1px rgba(60, 64, 67, 0.15);\n",
              "      fill: #174EA6;\n",
              "    }\n",
              "\n",
              "    [theme=dark] .colab-df-convert {\n",
              "      background-color: #3B4455;\n",
              "      fill: #D2E3FC;\n",
              "    }\n",
              "\n",
              "    [theme=dark] .colab-df-convert:hover {\n",
              "      background-color: #434B5C;\n",
              "      box-shadow: 0px 1px 3px 1px rgba(0, 0, 0, 0.15);\n",
              "      filter: drop-shadow(0px 1px 2px rgba(0, 0, 0, 0.3));\n",
              "      fill: #FFFFFF;\n",
              "    }\n",
              "  </style>\n",
              "\n",
              "      <script>\n",
              "        const buttonEl =\n",
              "          document.querySelector('#df-44f199fa-8e93-42d7-ae5f-94ad42d5eec5 button.colab-df-convert');\n",
              "        buttonEl.style.display =\n",
              "          google.colab.kernel.accessAllowed ? 'block' : 'none';\n",
              "\n",
              "        async function convertToInteractive(key) {\n",
              "          const element = document.querySelector('#df-44f199fa-8e93-42d7-ae5f-94ad42d5eec5');\n",
              "          const dataTable =\n",
              "            await google.colab.kernel.invokeFunction('convertToInteractive',\n",
              "                                                     [key], {});\n",
              "          if (!dataTable) return;\n",
              "\n",
              "          const docLinkHtml = 'Like what you see? Visit the ' +\n",
              "            '<a target=\"_blank\" href=https://colab.research.google.com/notebooks/data_table.ipynb>data table notebook</a>'\n",
              "            + ' to learn more about interactive tables.';\n",
              "          element.innerHTML = '';\n",
              "          dataTable['output_type'] = 'display_data';\n",
              "          await google.colab.output.renderOutput(dataTable, element);\n",
              "          const docLink = document.createElement('div');\n",
              "          docLink.innerHTML = docLinkHtml;\n",
              "          element.appendChild(docLink);\n",
              "        }\n",
              "      </script>\n",
              "    </div>\n",
              "  </div>\n",
              "  "
            ]
          },
          "metadata": {},
          "execution_count": 27
        }
      ],
      "source": [
        "telecom_data.head()"
      ]
    },
    {
      "cell_type": "markdown",
      "source": [
        "##*Feature Engineering*"
      ],
      "metadata": {
        "id": "CPjv9q9nU9hV"
      },
      "id": "CPjv9q9nU9hV"
    },
    {
      "cell_type": "markdown",
      "id": "649b7893",
      "metadata": {
        "id": "649b7893"
      },
      "source": [
        "### 1.0 **Exploratory Data Analysis**"
      ]
    },
    {
      "cell_type": "code",
      "execution_count": 28,
      "id": "15b077e9",
      "metadata": {
        "colab": {
          "base_uri": "https://localhost:8080/"
        },
        "id": "15b077e9",
        "outputId": "222d8c6d-8c75-4044-bbb3-491c4c779edd"
      },
      "outputs": [
        {
          "output_type": "stream",
          "name": "stdout",
          "text": [
            "<class 'pandas.core.frame.DataFrame'>\n",
            "RangeIndex: 8790 entries, 0 to 8789\n",
            "Data columns (total 4 columns):\n",
            " #   Column     Non-Null Count  Dtype \n",
            "---  ------     --------------  ----- \n",
            " 0   date       8789 non-null   object\n",
            " 1   comment    8789 non-null   object\n",
            " 2   platform   8788 non-null   object\n",
            " 3   sentiment  8782 non-null   object\n",
            "dtypes: object(4)\n",
            "memory usage: 274.8+ KB\n"
          ]
        }
      ],
      "source": [
        "telecom_data.info()"
      ]
    },
    {
      "cell_type": "code",
      "execution_count": 29,
      "id": "XrR593tRC7B3",
      "metadata": {
        "colab": {
          "base_uri": "https://localhost:8080/"
        },
        "id": "XrR593tRC7B3",
        "outputId": "bef2f74a-cafa-4820-f245-89917ab603aa"
      },
      "outputs": [
        {
          "output_type": "execute_result",
          "data": {
            "text/plain": [
              "11"
            ]
          },
          "metadata": {},
          "execution_count": 29
        }
      ],
      "source": [
        "telecom_data.duplicated().sum()"
      ]
    },
    {
      "cell_type": "code",
      "execution_count": 30,
      "id": "2QgtKWLm69lS",
      "metadata": {
        "id": "2QgtKWLm69lS",
        "colab": {
          "base_uri": "https://localhost:8080/",
          "height": 175
        },
        "outputId": "75e96292-64bc-4eaf-c99d-0d16590918bb"
      },
      "outputs": [
        {
          "output_type": "execute_result",
          "data": {
            "text/plain": [
              "                             date  \\\n",
              "count                        8789   \n",
              "unique                       8578   \n",
              "top     2022-01-07 16:34:48+00:00   \n",
              "freq                            2   \n",
              "\n",
              "                                                  comment platform sentiment  \n",
              "count                                                8789     8788      8782  \n",
              "unique                                               8775        3         4  \n",
              "top     @airtel_tanzania nawapenda sana huduma hii ya ...  Twitter        -1  \n",
              "freq                                                    2     8786      4649  "
            ],
            "text/html": [
              "\n",
              "  <div id=\"df-11a851a1-a1d7-419e-b847-4fc55e288bd4\">\n",
              "    <div class=\"colab-df-container\">\n",
              "      <div>\n",
              "<style scoped>\n",
              "    .dataframe tbody tr th:only-of-type {\n",
              "        vertical-align: middle;\n",
              "    }\n",
              "\n",
              "    .dataframe tbody tr th {\n",
              "        vertical-align: top;\n",
              "    }\n",
              "\n",
              "    .dataframe thead th {\n",
              "        text-align: right;\n",
              "    }\n",
              "</style>\n",
              "<table border=\"1\" class=\"dataframe\">\n",
              "  <thead>\n",
              "    <tr style=\"text-align: right;\">\n",
              "      <th></th>\n",
              "      <th>date</th>\n",
              "      <th>comment</th>\n",
              "      <th>platform</th>\n",
              "      <th>sentiment</th>\n",
              "    </tr>\n",
              "  </thead>\n",
              "  <tbody>\n",
              "    <tr>\n",
              "      <th>count</th>\n",
              "      <td>8789</td>\n",
              "      <td>8789</td>\n",
              "      <td>8788</td>\n",
              "      <td>8782</td>\n",
              "    </tr>\n",
              "    <tr>\n",
              "      <th>unique</th>\n",
              "      <td>8578</td>\n",
              "      <td>8775</td>\n",
              "      <td>3</td>\n",
              "      <td>4</td>\n",
              "    </tr>\n",
              "    <tr>\n",
              "      <th>top</th>\n",
              "      <td>2022-01-07 16:34:48+00:00</td>\n",
              "      <td>@airtel_tanzania nawapenda sana huduma hii ya ...</td>\n",
              "      <td>Twitter</td>\n",
              "      <td>-1</td>\n",
              "    </tr>\n",
              "    <tr>\n",
              "      <th>freq</th>\n",
              "      <td>2</td>\n",
              "      <td>2</td>\n",
              "      <td>8786</td>\n",
              "      <td>4649</td>\n",
              "    </tr>\n",
              "  </tbody>\n",
              "</table>\n",
              "</div>\n",
              "      <button class=\"colab-df-convert\" onclick=\"convertToInteractive('df-11a851a1-a1d7-419e-b847-4fc55e288bd4')\"\n",
              "              title=\"Convert this dataframe to an interactive table.\"\n",
              "              style=\"display:none;\">\n",
              "        \n",
              "  <svg xmlns=\"http://www.w3.org/2000/svg\" height=\"24px\"viewBox=\"0 0 24 24\"\n",
              "       width=\"24px\">\n",
              "    <path d=\"M0 0h24v24H0V0z\" fill=\"none\"/>\n",
              "    <path d=\"M18.56 5.44l.94 2.06.94-2.06 2.06-.94-2.06-.94-.94-2.06-.94 2.06-2.06.94zm-11 1L8.5 8.5l.94-2.06 2.06-.94-2.06-.94L8.5 2.5l-.94 2.06-2.06.94zm10 10l.94 2.06.94-2.06 2.06-.94-2.06-.94-.94-2.06-.94 2.06-2.06.94z\"/><path d=\"M17.41 7.96l-1.37-1.37c-.4-.4-.92-.59-1.43-.59-.52 0-1.04.2-1.43.59L10.3 9.45l-7.72 7.72c-.78.78-.78 2.05 0 2.83L4 21.41c.39.39.9.59 1.41.59.51 0 1.02-.2 1.41-.59l7.78-7.78 2.81-2.81c.8-.78.8-2.07 0-2.86zM5.41 20L4 18.59l7.72-7.72 1.47 1.35L5.41 20z\"/>\n",
              "  </svg>\n",
              "      </button>\n",
              "      \n",
              "  <style>\n",
              "    .colab-df-container {\n",
              "      display:flex;\n",
              "      flex-wrap:wrap;\n",
              "      gap: 12px;\n",
              "    }\n",
              "\n",
              "    .colab-df-convert {\n",
              "      background-color: #E8F0FE;\n",
              "      border: none;\n",
              "      border-radius: 50%;\n",
              "      cursor: pointer;\n",
              "      display: none;\n",
              "      fill: #1967D2;\n",
              "      height: 32px;\n",
              "      padding: 0 0 0 0;\n",
              "      width: 32px;\n",
              "    }\n",
              "\n",
              "    .colab-df-convert:hover {\n",
              "      background-color: #E2EBFA;\n",
              "      box-shadow: 0px 1px 2px rgba(60, 64, 67, 0.3), 0px 1px 3px 1px rgba(60, 64, 67, 0.15);\n",
              "      fill: #174EA6;\n",
              "    }\n",
              "\n",
              "    [theme=dark] .colab-df-convert {\n",
              "      background-color: #3B4455;\n",
              "      fill: #D2E3FC;\n",
              "    }\n",
              "\n",
              "    [theme=dark] .colab-df-convert:hover {\n",
              "      background-color: #434B5C;\n",
              "      box-shadow: 0px 1px 3px 1px rgba(0, 0, 0, 0.15);\n",
              "      filter: drop-shadow(0px 1px 2px rgba(0, 0, 0, 0.3));\n",
              "      fill: #FFFFFF;\n",
              "    }\n",
              "  </style>\n",
              "\n",
              "      <script>\n",
              "        const buttonEl =\n",
              "          document.querySelector('#df-11a851a1-a1d7-419e-b847-4fc55e288bd4 button.colab-df-convert');\n",
              "        buttonEl.style.display =\n",
              "          google.colab.kernel.accessAllowed ? 'block' : 'none';\n",
              "\n",
              "        async function convertToInteractive(key) {\n",
              "          const element = document.querySelector('#df-11a851a1-a1d7-419e-b847-4fc55e288bd4');\n",
              "          const dataTable =\n",
              "            await google.colab.kernel.invokeFunction('convertToInteractive',\n",
              "                                                     [key], {});\n",
              "          if (!dataTable) return;\n",
              "\n",
              "          const docLinkHtml = 'Like what you see? Visit the ' +\n",
              "            '<a target=\"_blank\" href=https://colab.research.google.com/notebooks/data_table.ipynb>data table notebook</a>'\n",
              "            + ' to learn more about interactive tables.';\n",
              "          element.innerHTML = '';\n",
              "          dataTable['output_type'] = 'display_data';\n",
              "          await google.colab.output.renderOutput(dataTable, element);\n",
              "          const docLink = document.createElement('div');\n",
              "          docLink.innerHTML = docLinkHtml;\n",
              "          element.appendChild(docLink);\n",
              "        }\n",
              "      </script>\n",
              "    </div>\n",
              "  </div>\n",
              "  "
            ]
          },
          "metadata": {},
          "execution_count": 30
        }
      ],
      "source": [
        "telecom_data.describe()"
      ]
    },
    {
      "cell_type": "code",
      "execution_count": 31,
      "id": "f1af075a",
      "metadata": {
        "colab": {
          "base_uri": "https://localhost:8080/"
        },
        "id": "f1af075a",
        "outputId": "0f0d8b1f-f951-4cfb-89c8-61c95a4ca32b",
        "scrolled": true
      },
      "outputs": [
        {
          "output_type": "execute_result",
          "data": {
            "text/plain": [
              "date         1\n",
              "comment      1\n",
              "platform     2\n",
              "sentiment    8\n",
              "dtype: int64"
            ]
          },
          "metadata": {},
          "execution_count": 31
        }
      ],
      "source": [
        "telecom_data.isna().sum()"
      ]
    },
    {
      "cell_type": "code",
      "execution_count": 32,
      "id": "KSI9lbp-yLHg",
      "metadata": {
        "colab": {
          "base_uri": "https://localhost:8080/"
        },
        "id": "KSI9lbp-yLHg",
        "outputId": "4c5e527c-2510-433b-95ec-9241dd0f906a"
      },
      "outputs": [
        {
          "output_type": "execute_result",
          "data": {
            "text/plain": [
              "date         object\n",
              "comment      object\n",
              "platform     object\n",
              "sentiment    object\n",
              "dtype: object"
            ]
          },
          "metadata": {},
          "execution_count": 32
        }
      ],
      "source": [
        "telecom_data.dtypes"
      ]
    },
    {
      "cell_type": "code",
      "execution_count": 33,
      "id": "5bS9ioLEyafB",
      "metadata": {
        "colab": {
          "base_uri": "https://localhost:8080/"
        },
        "id": "5bS9ioLEyafB",
        "outputId": "e311627b-a82a-4ca3-9ff6-7b9030e1c432"
      },
      "outputs": [
        {
          "output_type": "execute_result",
          "data": {
            "text/plain": [
              "-1           4649\n",
              "0            3567\n",
              "1             565\n",
              "complains       1\n",
              "Name: sentiment, dtype: int64"
            ]
          },
          "metadata": {},
          "execution_count": 33
        }
      ],
      "source": [
        "telecom_data['sentiment'].value_counts()"
      ]
    },
    {
      "cell_type": "code",
      "execution_count": 34,
      "id": "AMi2koQBwky7",
      "metadata": {
        "colab": {
          "base_uri": "https://localhost:8080/",
          "height": 81
        },
        "id": "AMi2koQBwky7",
        "outputId": "3eee2339-3dcf-455d-c02f-d08ebc250316"
      },
      "outputs": [
        {
          "output_type": "execute_result",
          "data": {
            "text/plain": [
              "         date comment platform  sentiment\n",
              "1698  Twitter       0  network  complains"
            ],
            "text/html": [
              "\n",
              "  <div id=\"df-9d15c286-fb4e-4c8d-abc9-e6686005165d\">\n",
              "    <div class=\"colab-df-container\">\n",
              "      <div>\n",
              "<style scoped>\n",
              "    .dataframe tbody tr th:only-of-type {\n",
              "        vertical-align: middle;\n",
              "    }\n",
              "\n",
              "    .dataframe tbody tr th {\n",
              "        vertical-align: top;\n",
              "    }\n",
              "\n",
              "    .dataframe thead th {\n",
              "        text-align: right;\n",
              "    }\n",
              "</style>\n",
              "<table border=\"1\" class=\"dataframe\">\n",
              "  <thead>\n",
              "    <tr style=\"text-align: right;\">\n",
              "      <th></th>\n",
              "      <th>date</th>\n",
              "      <th>comment</th>\n",
              "      <th>platform</th>\n",
              "      <th>sentiment</th>\n",
              "    </tr>\n",
              "  </thead>\n",
              "  <tbody>\n",
              "    <tr>\n",
              "      <th>1698</th>\n",
              "      <td>Twitter</td>\n",
              "      <td>0</td>\n",
              "      <td>network</td>\n",
              "      <td>complains</td>\n",
              "    </tr>\n",
              "  </tbody>\n",
              "</table>\n",
              "</div>\n",
              "      <button class=\"colab-df-convert\" onclick=\"convertToInteractive('df-9d15c286-fb4e-4c8d-abc9-e6686005165d')\"\n",
              "              title=\"Convert this dataframe to an interactive table.\"\n",
              "              style=\"display:none;\">\n",
              "        \n",
              "  <svg xmlns=\"http://www.w3.org/2000/svg\" height=\"24px\"viewBox=\"0 0 24 24\"\n",
              "       width=\"24px\">\n",
              "    <path d=\"M0 0h24v24H0V0z\" fill=\"none\"/>\n",
              "    <path d=\"M18.56 5.44l.94 2.06.94-2.06 2.06-.94-2.06-.94-.94-2.06-.94 2.06-2.06.94zm-11 1L8.5 8.5l.94-2.06 2.06-.94-2.06-.94L8.5 2.5l-.94 2.06-2.06.94zm10 10l.94 2.06.94-2.06 2.06-.94-2.06-.94-.94-2.06-.94 2.06-2.06.94z\"/><path d=\"M17.41 7.96l-1.37-1.37c-.4-.4-.92-.59-1.43-.59-.52 0-1.04.2-1.43.59L10.3 9.45l-7.72 7.72c-.78.78-.78 2.05 0 2.83L4 21.41c.39.39.9.59 1.41.59.51 0 1.02-.2 1.41-.59l7.78-7.78 2.81-2.81c.8-.78.8-2.07 0-2.86zM5.41 20L4 18.59l7.72-7.72 1.47 1.35L5.41 20z\"/>\n",
              "  </svg>\n",
              "      </button>\n",
              "      \n",
              "  <style>\n",
              "    .colab-df-container {\n",
              "      display:flex;\n",
              "      flex-wrap:wrap;\n",
              "      gap: 12px;\n",
              "    }\n",
              "\n",
              "    .colab-df-convert {\n",
              "      background-color: #E8F0FE;\n",
              "      border: none;\n",
              "      border-radius: 50%;\n",
              "      cursor: pointer;\n",
              "      display: none;\n",
              "      fill: #1967D2;\n",
              "      height: 32px;\n",
              "      padding: 0 0 0 0;\n",
              "      width: 32px;\n",
              "    }\n",
              "\n",
              "    .colab-df-convert:hover {\n",
              "      background-color: #E2EBFA;\n",
              "      box-shadow: 0px 1px 2px rgba(60, 64, 67, 0.3), 0px 1px 3px 1px rgba(60, 64, 67, 0.15);\n",
              "      fill: #174EA6;\n",
              "    }\n",
              "\n",
              "    [theme=dark] .colab-df-convert {\n",
              "      background-color: #3B4455;\n",
              "      fill: #D2E3FC;\n",
              "    }\n",
              "\n",
              "    [theme=dark] .colab-df-convert:hover {\n",
              "      background-color: #434B5C;\n",
              "      box-shadow: 0px 1px 3px 1px rgba(0, 0, 0, 0.15);\n",
              "      filter: drop-shadow(0px 1px 2px rgba(0, 0, 0, 0.3));\n",
              "      fill: #FFFFFF;\n",
              "    }\n",
              "  </style>\n",
              "\n",
              "      <script>\n",
              "        const buttonEl =\n",
              "          document.querySelector('#df-9d15c286-fb4e-4c8d-abc9-e6686005165d button.colab-df-convert');\n",
              "        buttonEl.style.display =\n",
              "          google.colab.kernel.accessAllowed ? 'block' : 'none';\n",
              "\n",
              "        async function convertToInteractive(key) {\n",
              "          const element = document.querySelector('#df-9d15c286-fb4e-4c8d-abc9-e6686005165d');\n",
              "          const dataTable =\n",
              "            await google.colab.kernel.invokeFunction('convertToInteractive',\n",
              "                                                     [key], {});\n",
              "          if (!dataTable) return;\n",
              "\n",
              "          const docLinkHtml = 'Like what you see? Visit the ' +\n",
              "            '<a target=\"_blank\" href=https://colab.research.google.com/notebooks/data_table.ipynb>data table notebook</a>'\n",
              "            + ' to learn more about interactive tables.';\n",
              "          element.innerHTML = '';\n",
              "          dataTable['output_type'] = 'display_data';\n",
              "          await google.colab.output.renderOutput(dataTable, element);\n",
              "          const docLink = document.createElement('div');\n",
              "          docLink.innerHTML = docLinkHtml;\n",
              "          element.appendChild(docLink);\n",
              "        }\n",
              "      </script>\n",
              "    </div>\n",
              "  </div>\n",
              "  "
            ]
          },
          "metadata": {},
          "execution_count": 34
        }
      ],
      "source": [
        "telecom_data.loc[telecom_data['sentiment'] == 'complains']"
      ]
    },
    {
      "cell_type": "code",
      "execution_count": 35,
      "id": "mzcAxUKKFegE",
      "metadata": {
        "id": "mzcAxUKKFegE"
      },
      "outputs": [],
      "source": [
        "telecom_data = telecom_data.drop(index=1698, axis=1).reset_index(drop=True)"
      ]
    },
    {
      "cell_type": "code",
      "execution_count": 36,
      "id": "1d7uNXIuDH6S",
      "metadata": {
        "colab": {
          "base_uri": "https://localhost:8080/"
        },
        "id": "1d7uNXIuDH6S",
        "outputId": "0f08234e-f29e-4245-fe09-c264c03963cc"
      },
      "outputs": [
        {
          "output_type": "execute_result",
          "data": {
            "text/plain": [
              "-1    4649\n",
              "0     3567\n",
              "1      565\n",
              "Name: sentiment, dtype: int64"
            ]
          },
          "metadata": {},
          "execution_count": 36
        }
      ],
      "source": [
        "telecom_data['sentiment'].value_counts()"
      ]
    },
    {
      "cell_type": "code",
      "execution_count": 37,
      "id": "a31719f0",
      "metadata": {
        "colab": {
          "base_uri": "https://localhost:8080/"
        },
        "id": "a31719f0",
        "outputId": "9eb99702-ae55-4b26-9085-ff226d78a9e0"
      },
      "outputs": [
        {
          "output_type": "execute_result",
          "data": {
            "text/plain": [
              "11"
            ]
          },
          "metadata": {},
          "execution_count": 37
        }
      ],
      "source": [
        "telecom_data.duplicated().sum()"
      ]
    },
    {
      "cell_type": "markdown",
      "id": "8e404be6",
      "metadata": {
        "id": "8e404be6"
      },
      "source": [
        "# 3. Data Processing"
      ]
    },
    {
      "cell_type": "markdown",
      "id": "9477d5a2-beed-415c-918e-f654cc4d8b6a",
      "metadata": {
        "id": "9477d5a2-beed-415c-918e-f654cc4d8b6a"
      },
      "source": [
        "## 3.1 Remove duplicate"
      ]
    },
    {
      "cell_type": "code",
      "execution_count": 38,
      "id": "f77c54ce-2747-4fb8-b313-b71d089dfda8",
      "metadata": {
        "id": "f77c54ce-2747-4fb8-b313-b71d089dfda8"
      },
      "outputs": [],
      "source": [
        "telecom_data.drop_duplicates(subset=['comment'], keep='first', inplace=True)"
      ]
    },
    {
      "cell_type": "markdown",
      "id": "25f007f0-8e54-4d09-9e36-b961734e21c2",
      "metadata": {
        "id": "25f007f0-8e54-4d09-9e36-b961734e21c2"
      },
      "source": [
        "## 3.2 Remove null values"
      ]
    },
    {
      "cell_type": "code",
      "execution_count": 39,
      "id": "c5400514-a45c-4c03-b87e-d7b78d8ea862",
      "metadata": {
        "id": "c5400514-a45c-4c03-b87e-d7b78d8ea862"
      },
      "outputs": [],
      "source": [
        "telecom_data.dropna(subset=['sentiment', 'comment'], inplace=True)"
      ]
    },
    {
      "cell_type": "markdown",
      "id": "09794f53-b209-4962-8596-0fed6e7d5368",
      "metadata": {
        "id": "09794f53-b209-4962-8596-0fed6e7d5368"
      },
      "source": [
        "## check the dataset status"
      ]
    },
    {
      "cell_type": "code",
      "execution_count": 40,
      "id": "ab33ff06-817b-46e5-a1a2-0f3e7cb50753",
      "metadata": {
        "id": "ab33ff06-817b-46e5-a1a2-0f3e7cb50753",
        "tags": [],
        "colab": {
          "base_uri": "https://localhost:8080/"
        },
        "outputId": "f713d174-d7d7-4b0c-f2c1-17d4e96305b8"
      },
      "outputs": [
        {
          "output_type": "execute_result",
          "data": {
            "text/plain": [
              "0"
            ]
          },
          "metadata": {},
          "execution_count": 40
        }
      ],
      "source": [
        "telecom_data.duplicated().sum()"
      ]
    },
    {
      "cell_type": "code",
      "execution_count": 41,
      "id": "7e482bf4-f690-4122-b743-de6a80f8980f",
      "metadata": {
        "id": "7e482bf4-f690-4122-b743-de6a80f8980f",
        "colab": {
          "base_uri": "https://localhost:8080/"
        },
        "outputId": "68070444-3472-4be9-9ab7-054c09afc565"
      },
      "outputs": [
        {
          "output_type": "execute_result",
          "data": {
            "text/plain": [
              "date         0\n",
              "comment      0\n",
              "platform     0\n",
              "sentiment    0\n",
              "dtype: int64"
            ]
          },
          "metadata": {},
          "execution_count": 41
        }
      ],
      "source": [
        "telecom_data.isna().sum()"
      ]
    },
    {
      "cell_type": "code",
      "execution_count": 42,
      "id": "896115c1-1386-4f8a-9149-82a7a3ae404a",
      "metadata": {
        "id": "896115c1-1386-4f8a-9149-82a7a3ae404a",
        "tags": [],
        "colab": {
          "base_uri": "https://localhost:8080/"
        },
        "outputId": "ee2e0e19-1da5-45a6-811a-7712476b204b"
      },
      "outputs": [
        {
          "output_type": "execute_result",
          "data": {
            "text/plain": [
              "date         8767\n",
              "comment      8767\n",
              "platform     8767\n",
              "sentiment    8767\n",
              "dtype: int64"
            ]
          },
          "metadata": {},
          "execution_count": 42
        }
      ],
      "source": [
        "telecom_data.count()"
      ]
    },
    {
      "cell_type": "code",
      "execution_count": 43,
      "id": "40787d2d-738b-490c-98d2-f1e25a664d77",
      "metadata": {
        "id": "40787d2d-738b-490c-98d2-f1e25a664d77",
        "tags": [],
        "colab": {
          "base_uri": "https://localhost:8080/",
          "height": 296
        },
        "outputId": "0777b2c6-3ed9-481e-f0e2-d597b88099ce"
      },
      "outputs": [
        {
          "output_type": "execute_result",
          "data": {
            "text/plain": [
              "<Axes: xlabel='sentiment', ylabel='count'>"
            ]
          },
          "metadata": {},
          "execution_count": 43
        },
        {
          "output_type": "display_data",
          "data": {
            "text/plain": [
              "<Figure size 432x288 with 1 Axes>"
            ],
            "image/png": "[encoded data removed]"
          },
          "metadata": {
            "needs_background": "light"
          }
        }
      ],
      "source": [
        "sns.countplot(x=\"sentiment\", data=telecom_data)"
      ]
    },
    {
      "cell_type": "code",
      "execution_count": 44,
      "id": "c049013f-6dc5-4aad-8077-ff3ac7c59168",
      "metadata": {
        "id": "c049013f-6dc5-4aad-8077-ff3ac7c59168",
        "tags": [],
        "colab": {
          "base_uri": "https://localhost:8080/"
        },
        "outputId": "a35165db-b4ba-485b-a6e8-ceee22851c9a"
      },
      "outputs": [
        {
          "output_type": "stream",
          "name": "stdout",
          "text": [
            "<class 'pandas.core.frame.DataFrame'>\n",
            "Int64Index: 8767 entries, 0 to 8788\n",
            "Data columns (total 4 columns):\n",
            " #   Column     Non-Null Count  Dtype \n",
            "---  ------     --------------  ----- \n",
            " 0   date       8767 non-null   object\n",
            " 1   comment    8767 non-null   object\n",
            " 2   platform   8767 non-null   object\n",
            " 3   sentiment  8767 non-null   object\n",
            "dtypes: object(4)\n",
            "memory usage: 342.5+ KB\n"
          ]
        }
      ],
      "source": [
        "telecom_data.info()"
      ]
    },
    {
      "cell_type": "markdown",
      "id": "1504836d-3e15-4ab9-a821-9f3675da8ba7",
      "metadata": {
        "id": "1504836d-3e15-4ab9-a821-9f3675da8ba7"
      },
      "source": [
        "# 3.3 Cleaning"
      ]
    },
    {
      "cell_type": "code",
      "source": [
        "swahili_stopwords = [\n",
        "    'akasema', 'alikuwa', 'alisema', 'baada', 'basi', 'bila', 'cha', 'chini',\n",
        "    'hadi', 'hapo', 'hata', 'hivyo', 'hiyo', 'huku', 'huo', 'ila', 'ili',\n",
        "    'ilikuwa', 'juu', 'kama', 'karibu', 'katika', 'kila', 'kima', 'kisha',\n",
        "    'kubwa', 'kutoka', 'kuwa', 'kwa', 'kwamba', 'kwenda', 'kwenye', 'la',\n",
        "    'lakini', 'mara', 'mdogo', 'mimi', 'mkubwa', 'mmoja', 'moja', 'muda',\n",
        "    'mwenye', 'na', 'naye', 'ndani', 'ni', 'nini', 'nonkungu', 'pamoja', 'pia',\n",
        "    'sana', 'sasa', 'sauti', 'tafadhali', 'tena', 'tu', 'vile', 'wa', 'wakati',\n",
        "    'wake', 'walikuwa', 'wao', 'watu', 'wengine', 'wote', 'ya', 'hivi', 'huu',\n",
        "    'hii', 'yake', 'yangu', 'yao', 'yeye', 'yule', 'vya', 'za', 't', 'co',\n",
        "    'tz', 'au', 'tanzania', 'zaidi', 'zake', 'si','mm','ndo','hapa','je','hawa','nyie'\n",
        "]\n"
      ],
      "metadata": {
        "id": "AtLC5DIqBXgG"
      },
      "id": "AtLC5DIqBXgG",
      "execution_count": 45,
      "outputs": []
    },
    {
      "cell_type": "code",
      "execution_count": 46,
      "id": "502df416",
      "metadata": {
        "id": "502df416"
      },
      "outputs": [],
      "source": [
        "def clean_data_set(list_text):\n",
        "    new_list = []\n",
        "    #stopwords_df = pd.read_csv(\"swahili_stopwords.csv\", dtype=str, low_memory=False, encoding=\"utf-8\")\n",
        "    #stopwords_df = swahili_stopwords\n",
        "    #stopwords_list = list(stopwords_df['StopWords'])\n",
        "    \n",
        "    for x in list_text:\n",
        "        x = re.sub(r'@[\\w]+','', str(x)) # remove twitter handle\n",
        "        x = re.sub(r'\\w+:\\/{2}[\\d\\w-]+(\\.[\\d\\w-]+)*(?:(?:\\/[^\\s/]*))*', '', str(x)) # removes Url\n",
        "        x = re.sub(r'[^\\w\\s]',' ', str(x))    # Remove Panctuations /?!. \n",
        "        x = x.strip()                   # Remove leading and trailing spaces\n",
        "        x = re.sub(' +', ' ', x)        # Remove extra white spaces\n",
        "        x = re.sub('[^A-Za-z0-9]+', ' ', x)  # Remove special characters\n",
        "        x = x.lower()                   # Converts to lower case\n",
        "        x = ' '.join([word for word in x.split() if word not in swahili_stopwords]) # Removes stopwords\n",
        "        new_list.append(x)\n",
        "    return new_list"
      ]
    },
    {
      "cell_type": "code",
      "execution_count": 47,
      "id": "18371097",
      "metadata": {
        "id": "18371097"
      },
      "outputs": [],
      "source": [
        "telecom_data[\"clean_comment\"] = clean_data_set(telecom_data.comment.to_list())"
      ]
    },
    {
      "cell_type": "code",
      "execution_count": 48,
      "id": "f091dd4b",
      "metadata": {
        "colab": {
          "base_uri": "https://localhost:8080/",
          "height": 424
        },
        "id": "f091dd4b",
        "outputId": "1cfa9593-7034-4570-f53b-5c97bccccf8b"
      },
      "outputs": [
        {
          "output_type": "execute_result",
          "data": {
            "text/plain": [
              "                                                comment  \\\n",
              "0           Chezea songesha wew https://t.co/FfnSsIkZGU   \n",
              "1     Tafuta hela sana ili usilalamikie mabadiliko y...   \n",
              "2     Hivi huu mtandao wa Tigo una tatizo au simu ya...   \n",
              "3     @DaktariWaWatoto Tamtam bando ni ðŸ”¥ ila kuin...   \n",
              "4     @VodacomTanzania @ImranHussein84 Tatizo kifuru...   \n",
              "...                                                 ...   \n",
              "8784  @LuisaUhuru Unastream kutumia mtandao gani\\nÃ°...   \n",
              "8785  Sasa mnasema mmebadilisha vifurushi naomba mni...   \n",
              "8786  @George_Ambangil @Tigo_TZ Sasa kama ad ww unal...   \n",
              "8787  @mafolebaraka @Haloteltz Bora wewe mi nikitumi...   \n",
              "8788  @beth_kasinga Weuh sivyo situation zina ni cha...   \n",
              "\n",
              "                                          clean_comment  \n",
              "0                                   chezea songesha wew  \n",
              "1     tafuta hela usilalamikie mabadiliko vifurushi ...  \n",
              "2     mtandao tigo una tatizo simu siku tatu leo mam...  \n",
              "3                     tamtam bando kuinunulia mpk tpesa  \n",
              "4     tatizo kifurushi internet nw akikai awali una ...  \n",
              "...                                                 ...  \n",
              "8784                     unastream kutumia mtandao gani  \n",
              "8785  mnasema mmebadilisha vifurushi naomba mnitajie...  \n",
              "8786  ad ww unalalamika vo nan niendelee kutumia mta...  \n",
              "8787  bora wewe mi nikitumiwa pesa halopesa haiingii...  \n",
              "8788  weuh sivyo situation zina chapa but haziru tun...  \n",
              "\n",
              "[8767 rows x 2 columns]"
            ],
            "text/html": [
              "\n",
              "  <div id=\"df-1f366cd6-b077-4bde-b525-2252dfde498e\">\n",
              "    <div class=\"colab-df-container\">\n",
              "      <div>\n",
              "<style scoped>\n",
              "    .dataframe tbody tr th:only-of-type {\n",
              "        vertical-align: middle;\n",
              "    }\n",
              "\n",
              "    .dataframe tbody tr th {\n",
              "        vertical-align: top;\n",
              "    }\n",
              "\n",
              "    .dataframe thead th {\n",
              "        text-align: right;\n",
              "    }\n",
              "</style>\n",
              "<table border=\"1\" class=\"dataframe\">\n",
              "  <thead>\n",
              "    <tr style=\"text-align: right;\">\n",
              "      <th></th>\n",
              "      <th>comment</th>\n",
              "      <th>clean_comment</th>\n",
              "    </tr>\n",
              "  </thead>\n",
              "  <tbody>\n",
              "    <tr>\n",
              "      <th>0</th>\n",
              "      <td>Chezea songesha wew https://t.co/FfnSsIkZGU</td>\n",
              "      <td>chezea songesha wew</td>\n",
              "    </tr>\n",
              "    <tr>\n",
              "      <th>1</th>\n",
              "      <td>Tafuta hela sana ili usilalamikie mabadiliko y...</td>\n",
              "      <td>tafuta hela usilalamikie mabadiliko vifurushi ...</td>\n",
              "    </tr>\n",
              "    <tr>\n",
              "      <th>2</th>\n",
              "      <td>Hivi huu mtandao wa Tigo una tatizo au simu ya...</td>\n",
              "      <td>mtandao tigo una tatizo simu siku tatu leo mam...</td>\n",
              "    </tr>\n",
              "    <tr>\n",
              "      <th>3</th>\n",
              "      <td>@DaktariWaWatoto Tamtam bando ni ðŸ”¥ ila kuin...</td>\n",
              "      <td>tamtam bando kuinunulia mpk tpesa</td>\n",
              "    </tr>\n",
              "    <tr>\n",
              "      <th>4</th>\n",
              "      <td>@VodacomTanzania @ImranHussein84 Tatizo kifuru...</td>\n",
              "      <td>tatizo kifurushi internet nw akikai awali una ...</td>\n",
              "    </tr>\n",
              "    <tr>\n",
              "      <th>...</th>\n",
              "      <td>...</td>\n",
              "      <td>...</td>\n",
              "    </tr>\n",
              "    <tr>\n",
              "      <th>8784</th>\n",
              "      <td>@LuisaUhuru Unastream kutumia mtandao gani\\nÃ°...</td>\n",
              "      <td>unastream kutumia mtandao gani</td>\n",
              "    </tr>\n",
              "    <tr>\n",
              "      <th>8785</th>\n",
              "      <td>Sasa mnasema mmebadilisha vifurushi naomba mni...</td>\n",
              "      <td>mnasema mmebadilisha vifurushi naomba mnitajie...</td>\n",
              "    </tr>\n",
              "    <tr>\n",
              "      <th>8786</th>\n",
              "      <td>@George_Ambangil @Tigo_TZ Sasa kama ad ww unal...</td>\n",
              "      <td>ad ww unalalamika vo nan niendelee kutumia mta...</td>\n",
              "    </tr>\n",
              "    <tr>\n",
              "      <th>8787</th>\n",
              "      <td>@mafolebaraka @Haloteltz Bora wewe mi nikitumi...</td>\n",
              "      <td>bora wewe mi nikitumiwa pesa halopesa haiingii...</td>\n",
              "    </tr>\n",
              "    <tr>\n",
              "      <th>8788</th>\n",
              "      <td>@beth_kasinga Weuh sivyo situation zina ni cha...</td>\n",
              "      <td>weuh sivyo situation zina chapa but haziru tun...</td>\n",
              "    </tr>\n",
              "  </tbody>\n",
              "</table>\n",
              "<p>8767 rows × 2 columns</p>\n",
              "</div>\n",
              "      <button class=\"colab-df-convert\" onclick=\"convertToInteractive('df-1f366cd6-b077-4bde-b525-2252dfde498e')\"\n",
              "              title=\"Convert this dataframe to an interactive table.\"\n",
              "              style=\"display:none;\">\n",
              "        \n",
              "  <svg xmlns=\"http://www.w3.org/2000/svg\" height=\"24px\"viewBox=\"0 0 24 24\"\n",
              "       width=\"24px\">\n",
              "    <path d=\"M0 0h24v24H0V0z\" fill=\"none\"/>\n",
              "    <path d=\"M18.56 5.44l.94 2.06.94-2.06 2.06-.94-2.06-.94-.94-2.06-.94 2.06-2.06.94zm-11 1L8.5 8.5l.94-2.06 2.06-.94-2.06-.94L8.5 2.5l-.94 2.06-2.06.94zm10 10l.94 2.06.94-2.06 2.06-.94-2.06-.94-.94-2.06-.94 2.06-2.06.94z\"/><path d=\"M17.41 7.96l-1.37-1.37c-.4-.4-.92-.59-1.43-.59-.52 0-1.04.2-1.43.59L10.3 9.45l-7.72 7.72c-.78.78-.78 2.05 0 2.83L4 21.41c.39.39.9.59 1.41.59.51 0 1.02-.2 1.41-.59l7.78-7.78 2.81-2.81c.8-.78.8-2.07 0-2.86zM5.41 20L4 18.59l7.72-7.72 1.47 1.35L5.41 20z\"/>\n",
              "  </svg>\n",
              "      </button>\n",
              "      \n",
              "  <style>\n",
              "    .colab-df-container {\n",
              "      display:flex;\n",
              "      flex-wrap:wrap;\n",
              "      gap: 12px;\n",
              "    }\n",
              "\n",
              "    .colab-df-convert {\n",
              "      background-color: #E8F0FE;\n",
              "      border: none;\n",
              "      border-radius: 50%;\n",
              "      cursor: pointer;\n",
              "      display: none;\n",
              "      fill: #1967D2;\n",
              "      height: 32px;\n",
              "      padding: 0 0 0 0;\n",
              "      width: 32px;\n",
              "    }\n",
              "\n",
              "    .colab-df-convert:hover {\n",
              "      background-color: #E2EBFA;\n",
              "      box-shadow: 0px 1px 2px rgba(60, 64, 67, 0.3), 0px 1px 3px 1px rgba(60, 64, 67, 0.15);\n",
              "      fill: #174EA6;\n",
              "    }\n",
              "\n",
              "    [theme=dark] .colab-df-convert {\n",
              "      background-color: #3B4455;\n",
              "      fill: #D2E3FC;\n",
              "    }\n",
              "\n",
              "    [theme=dark] .colab-df-convert:hover {\n",
              "      background-color: #434B5C;\n",
              "      box-shadow: 0px 1px 3px 1px rgba(0, 0, 0, 0.15);\n",
              "      filter: drop-shadow(0px 1px 2px rgba(0, 0, 0, 0.3));\n",
              "      fill: #FFFFFF;\n",
              "    }\n",
              "  </style>\n",
              "\n",
              "      <script>\n",
              "        const buttonEl =\n",
              "          document.querySelector('#df-1f366cd6-b077-4bde-b525-2252dfde498e button.colab-df-convert');\n",
              "        buttonEl.style.display =\n",
              "          google.colab.kernel.accessAllowed ? 'block' : 'none';\n",
              "\n",
              "        async function convertToInteractive(key) {\n",
              "          const element = document.querySelector('#df-1f366cd6-b077-4bde-b525-2252dfde498e');\n",
              "          const dataTable =\n",
              "            await google.colab.kernel.invokeFunction('convertToInteractive',\n",
              "                                                     [key], {});\n",
              "          if (!dataTable) return;\n",
              "\n",
              "          const docLinkHtml = 'Like what you see? Visit the ' +\n",
              "            '<a target=\"_blank\" href=https://colab.research.google.com/notebooks/data_table.ipynb>data table notebook</a>'\n",
              "            + ' to learn more about interactive tables.';\n",
              "          element.innerHTML = '';\n",
              "          dataTable['output_type'] = 'display_data';\n",
              "          await google.colab.output.renderOutput(dataTable, element);\n",
              "          const docLink = document.createElement('div');\n",
              "          docLink.innerHTML = docLinkHtml;\n",
              "          element.appendChild(docLink);\n",
              "        }\n",
              "      </script>\n",
              "    </div>\n",
              "  </div>\n",
              "  "
            ]
          },
          "metadata": {},
          "execution_count": 48
        }
      ],
      "source": [
        "telecom_data[['comment', 'clean_comment']]"
      ]
    },
    {
      "cell_type": "code",
      "execution_count": 49,
      "id": "741fcaff-a255-4550-b67a-66c4f98ee554",
      "metadata": {
        "id": "741fcaff-a255-4550-b67a-66c4f98ee554"
      },
      "outputs": [],
      "source": [
        "telecom_data.to_csv(\"clean_telecom_data.csv\", index=False)"
      ]
    },
    {
      "cell_type": "markdown",
      "id": "9a6832cc-0073-4961-a61b-849ab161be0d",
      "metadata": {
        "id": "9a6832cc-0073-4961-a61b-849ab161be0d"
      },
      "source": [
        "# 4 Modeling"
      ]
    },
    {
      "cell_type": "code",
      "execution_count": 50,
      "id": "9704a336-7ffb-4d4f-887b-3b330467b6d8",
      "metadata": {
        "id": "9704a336-7ffb-4d4f-887b-3b330467b6d8"
      },
      "outputs": [],
      "source": [
        "clean_telecom_data = pd.read_csv(\"clean_telecom_data.csv\")"
      ]
    },
    {
      "cell_type": "code",
      "execution_count": 51,
      "id": "9OFUbpUQiYH1",
      "metadata": {
        "id": "9OFUbpUQiYH1"
      },
      "outputs": [],
      "source": [
        "path = 'models'\n",
        "isExisting = os.path.exists(path)\n",
        "if not isExisting:\n",
        "  os.mkdir(path)"
      ]
    },
    {
      "cell_type": "code",
      "execution_count": 52,
      "id": "3ae365d4-3fab-42df-b324-8925143e4b5c",
      "metadata": {
        "colab": {
          "base_uri": "https://localhost:8080/",
          "height": 424
        },
        "id": "3ae365d4-3fab-42df-b324-8925143e4b5c",
        "outputId": "bd762130-886e-497b-e112-6f5408b7dc84",
        "tags": []
      },
      "outputs": [
        {
          "output_type": "execute_result",
          "data": {
            "text/plain": [
              "                                          clean_comment sentiment\n",
              "0                                   chezea songesha wew         1\n",
              "1     tafuta hela usilalamikie mabadiliko vifurushi ...         1\n",
              "2     mtandao tigo una tatizo simu siku tatu leo mam...        -1\n",
              "3                     tamtam bando kuinunulia mpk tpesa         1\n",
              "4     tatizo kifurushi internet nw akikai awali una ...        -1\n",
              "...                                                 ...       ...\n",
              "8784                     unastream kutumia mtandao gani         0\n",
              "8785  mnasema mmebadilisha vifurushi naomba mnitajie...        -1\n",
              "8786  ad ww unalalamika vo nan niendelee kutumia mta...        -1\n",
              "8787  bora wewe mi nikitumiwa pesa halopesa haiingii...        -1\n",
              "8788  weuh sivyo situation zina chapa but haziru tun...         0\n",
              "\n",
              "[8767 rows x 2 columns]"
            ],
            "text/html": [
              "\n",
              "  <div id=\"df-dccd3e40-5891-45f7-adc2-ed2989c3cf48\">\n",
              "    <div class=\"colab-df-container\">\n",
              "      <div>\n",
              "<style scoped>\n",
              "    .dataframe tbody tr th:only-of-type {\n",
              "        vertical-align: middle;\n",
              "    }\n",
              "\n",
              "    .dataframe tbody tr th {\n",
              "        vertical-align: top;\n",
              "    }\n",
              "\n",
              "    .dataframe thead th {\n",
              "        text-align: right;\n",
              "    }\n",
              "</style>\n",
              "<table border=\"1\" class=\"dataframe\">\n",
              "  <thead>\n",
              "    <tr style=\"text-align: right;\">\n",
              "      <th></th>\n",
              "      <th>clean_comment</th>\n",
              "      <th>sentiment</th>\n",
              "    </tr>\n",
              "  </thead>\n",
              "  <tbody>\n",
              "    <tr>\n",
              "      <th>0</th>\n",
              "      <td>chezea songesha wew</td>\n",
              "      <td>1</td>\n",
              "    </tr>\n",
              "    <tr>\n",
              "      <th>1</th>\n",
              "      <td>tafuta hela usilalamikie mabadiliko vifurushi ...</td>\n",
              "      <td>1</td>\n",
              "    </tr>\n",
              "    <tr>\n",
              "      <th>2</th>\n",
              "      <td>mtandao tigo una tatizo simu siku tatu leo mam...</td>\n",
              "      <td>-1</td>\n",
              "    </tr>\n",
              "    <tr>\n",
              "      <th>3</th>\n",
              "      <td>tamtam bando kuinunulia mpk tpesa</td>\n",
              "      <td>1</td>\n",
              "    </tr>\n",
              "    <tr>\n",
              "      <th>4</th>\n",
              "      <td>tatizo kifurushi internet nw akikai awali una ...</td>\n",
              "      <td>-1</td>\n",
              "    </tr>\n",
              "    <tr>\n",
              "      <th>...</th>\n",
              "      <td>...</td>\n",
              "      <td>...</td>\n",
              "    </tr>\n",
              "    <tr>\n",
              "      <th>8784</th>\n",
              "      <td>unastream kutumia mtandao gani</td>\n",
              "      <td>0</td>\n",
              "    </tr>\n",
              "    <tr>\n",
              "      <th>8785</th>\n",
              "      <td>mnasema mmebadilisha vifurushi naomba mnitajie...</td>\n",
              "      <td>-1</td>\n",
              "    </tr>\n",
              "    <tr>\n",
              "      <th>8786</th>\n",
              "      <td>ad ww unalalamika vo nan niendelee kutumia mta...</td>\n",
              "      <td>-1</td>\n",
              "    </tr>\n",
              "    <tr>\n",
              "      <th>8787</th>\n",
              "      <td>bora wewe mi nikitumiwa pesa halopesa haiingii...</td>\n",
              "      <td>-1</td>\n",
              "    </tr>\n",
              "    <tr>\n",
              "      <th>8788</th>\n",
              "      <td>weuh sivyo situation zina chapa but haziru tun...</td>\n",
              "      <td>0</td>\n",
              "    </tr>\n",
              "  </tbody>\n",
              "</table>\n",
              "<p>8767 rows × 2 columns</p>\n",
              "</div>\n",
              "      <button class=\"colab-df-convert\" onclick=\"convertToInteractive('df-dccd3e40-5891-45f7-adc2-ed2989c3cf48')\"\n",
              "              title=\"Convert this dataframe to an interactive table.\"\n",
              "              style=\"display:none;\">\n",
              "        \n",
              "  <svg xmlns=\"http://www.w3.org/2000/svg\" height=\"24px\"viewBox=\"0 0 24 24\"\n",
              "       width=\"24px\">\n",
              "    <path d=\"M0 0h24v24H0V0z\" fill=\"none\"/>\n",
              "    <path d=\"M18.56 5.44l.94 2.06.94-2.06 2.06-.94-2.06-.94-.94-2.06-.94 2.06-2.06.94zm-11 1L8.5 8.5l.94-2.06 2.06-.94-2.06-.94L8.5 2.5l-.94 2.06-2.06.94zm10 10l.94 2.06.94-2.06 2.06-.94-2.06-.94-.94-2.06-.94 2.06-2.06.94z\"/><path d=\"M17.41 7.96l-1.37-1.37c-.4-.4-.92-.59-1.43-.59-.52 0-1.04.2-1.43.59L10.3 9.45l-7.72 7.72c-.78.78-.78 2.05 0 2.83L4 21.41c.39.39.9.59 1.41.59.51 0 1.02-.2 1.41-.59l7.78-7.78 2.81-2.81c.8-.78.8-2.07 0-2.86zM5.41 20L4 18.59l7.72-7.72 1.47 1.35L5.41 20z\"/>\n",
              "  </svg>\n",
              "      </button>\n",
              "      \n",
              "  <style>\n",
              "    .colab-df-container {\n",
              "      display:flex;\n",
              "      flex-wrap:wrap;\n",
              "      gap: 12px;\n",
              "    }\n",
              "\n",
              "    .colab-df-convert {\n",
              "      background-color: #E8F0FE;\n",
              "      border: none;\n",
              "      border-radius: 50%;\n",
              "      cursor: pointer;\n",
              "      display: none;\n",
              "      fill: #1967D2;\n",
              "      height: 32px;\n",
              "      padding: 0 0 0 0;\n",
              "      width: 32px;\n",
              "    }\n",
              "\n",
              "    .colab-df-convert:hover {\n",
              "      background-color: #E2EBFA;\n",
              "      box-shadow: 0px 1px 2px rgba(60, 64, 67, 0.3), 0px 1px 3px 1px rgba(60, 64, 67, 0.15);\n",
              "      fill: #174EA6;\n",
              "    }\n",
              "\n",
              "    [theme=dark] .colab-df-convert {\n",
              "      background-color: #3B4455;\n",
              "      fill: #D2E3FC;\n",
              "    }\n",
              "\n",
              "    [theme=dark] .colab-df-convert:hover {\n",
              "      background-color: #434B5C;\n",
              "      box-shadow: 0px 1px 3px 1px rgba(0, 0, 0, 0.15);\n",
              "      filter: drop-shadow(0px 1px 2px rgba(0, 0, 0, 0.3));\n",
              "      fill: #FFFFFF;\n",
              "    }\n",
              "  </style>\n",
              "\n",
              "      <script>\n",
              "        const buttonEl =\n",
              "          document.querySelector('#df-dccd3e40-5891-45f7-adc2-ed2989c3cf48 button.colab-df-convert');\n",
              "        buttonEl.style.display =\n",
              "          google.colab.kernel.accessAllowed ? 'block' : 'none';\n",
              "\n",
              "        async function convertToInteractive(key) {\n",
              "          const element = document.querySelector('#df-dccd3e40-5891-45f7-adc2-ed2989c3cf48');\n",
              "          const dataTable =\n",
              "            await google.colab.kernel.invokeFunction('convertToInteractive',\n",
              "                                                     [key], {});\n",
              "          if (!dataTable) return;\n",
              "\n",
              "          const docLinkHtml = 'Like what you see? Visit the ' +\n",
              "            '<a target=\"_blank\" href=https://colab.research.google.com/notebooks/data_table.ipynb>data table notebook</a>'\n",
              "            + ' to learn more about interactive tables.';\n",
              "          element.innerHTML = '';\n",
              "          dataTable['output_type'] = 'display_data';\n",
              "          await google.colab.output.renderOutput(dataTable, element);\n",
              "          const docLink = document.createElement('div');\n",
              "          docLink.innerHTML = docLinkHtml;\n",
              "          element.appendChild(docLink);\n",
              "        }\n",
              "      </script>\n",
              "    </div>\n",
              "  </div>\n",
              "  "
            ]
          },
          "metadata": {},
          "execution_count": 52
        }
      ],
      "source": [
        "telecom_data[[\"clean_comment\", 'sentiment']]"
      ]
    },
    {
      "cell_type": "code",
      "source": [
        "labels = map(lambda x: dict(enumerate(telecom_data['sentiment']))[x], telecom_data['sentiment'])\n",
        "#labels = map(lambda x: dict(enumerate(data['target_names']))[x], data['target'])"
      ],
      "metadata": {
        "id": "ObSpWEYS2u-d"
      },
      "id": "ObSpWEYS2u-d",
      "execution_count": 53,
      "outputs": []
    },
    {
      "cell_type": "code",
      "execution_count": 54,
      "id": "d1904e89-92f5-4f53-87a3-a5a2e2dc2e97",
      "metadata": {
        "id": "d1904e89-92f5-4f53-87a3-a5a2e2dc2e97"
      },
      "outputs": [],
      "source": [
        "# Split datasate into training and test chunks with a ratio of 8:0 respective\n",
        "X_train, X_test, y_train, y_test = train_test_split(clean_telecom_data[\"clean_comment\"], clean_telecom_data[\"sentiment\"], test_size=0.2, random_state=42, shuffle=True, stratify=None)"
      ]
    },
    {
      "cell_type": "code",
      "execution_count": 55,
      "id": "2016dfa9-7e8c-4108-be71-d73dcea5416f",
      "metadata": {
        "colab": {
          "base_uri": "https://localhost:8080/"
        },
        "id": "2016dfa9-7e8c-4108-be71-d73dcea5416f",
        "outputId": "f3736634-ef5d-409b-e0f7-cbd2d67c4d42"
      },
      "outputs": [
        {
          "output_type": "stream",
          "name": "stdout",
          "text": [
            "Training sample size =  7013\n"
          ]
        }
      ],
      "source": [
        "print(\"Training sample size = \", X_train.shape[0])"
      ]
    },
    {
      "cell_type": "code",
      "execution_count": 56,
      "id": "8b05cc4e-0b2f-4c0e-9b7d-b6ce5a62e189",
      "metadata": {
        "colab": {
          "base_uri": "https://localhost:8080/"
        },
        "id": "8b05cc4e-0b2f-4c0e-9b7d-b6ce5a62e189",
        "outputId": "ec5faea1-0ce2-44fd-f01a-4f43a574ac2a"
      },
      "outputs": [
        {
          "output_type": "stream",
          "name": "stdout",
          "text": [
            "Testing sample size =  1754\n"
          ]
        }
      ],
      "source": [
        "print(\"Testing sample size = \", X_test.shape[0])"
      ]
    },
    {
      "cell_type": "code",
      "execution_count": 57,
      "id": "ZEc3m2eoMVn2",
      "metadata": {
        "colab": {
          "base_uri": "https://localhost:8080/"
        },
        "id": "ZEc3m2eoMVn2",
        "outputId": "71d0803f-cfa8-41d5-9610-ae8fa68ae18b"
      },
      "outputs": [
        {
          "output_type": "execute_result",
          "data": {
            "text/plain": [
              "date             8767\n",
              "comment          8767\n",
              "platform         8767\n",
              "sentiment        8767\n",
              "clean_comment    8767\n",
              "dtype: int64"
            ]
          },
          "metadata": {},
          "execution_count": 57
        }
      ],
      "source": [
        "telecom_data.count()"
      ]
    },
    {
      "cell_type": "markdown",
      "id": "1691e079-5b0b-4738-adbe-bb4c93a1f8be",
      "metadata": {
        "id": "1691e079-5b0b-4738-adbe-bb4c93a1f8be"
      },
      "source": [
        "# 4.1 SUPPORT VECTOR MACHINE (SVM)"
      ]
    },
    {
      "cell_type": "code",
      "execution_count": 58,
      "id": "909fa7e5-6a58-4e14-be1c-bc08040d3337",
      "metadata": {
        "id": "909fa7e5-6a58-4e14-be1c-bc08040d3337"
      },
      "outputs": [],
      "source": [
        "# Initialize a vectorization and modelling pipeline\n",
        "svm_pipeline = Pipeline([\n",
        "     ('vect', CountVectorizer(ngram_range=(1,1))),\n",
        "     ('tfidf', TfidfTransformer()),\n",
        "     ('clf', SVC(kernel = 'sigmoid', random_state=0, gamma='scale', C=1.2, probability=True)), #tunned svm\n",
        " ])"
      ]
    },
    {
      "cell_type": "code",
      "execution_count": 59,
      "id": "b049b5ff-62b9-44ef-8ced-4bd34ed9ae8a",
      "metadata": {
        "colab": {
          "base_uri": "https://localhost:8080/",
          "height": 161
        },
        "id": "b049b5ff-62b9-44ef-8ced-4bd34ed9ae8a",
        "outputId": "23424df2-8135-494a-a22f-20007253e4c2"
      },
      "outputs": [
        {
          "output_type": "execute_result",
          "data": {
            "text/plain": [
              "Pipeline(steps=[('vect', CountVectorizer()), ('tfidf', TfidfTransformer()),\n",
              "                ('clf',\n",
              "                 SVC(C=1.2, kernel='sigmoid', probability=True,\n",
              "                     random_state=0))])"
            ],
            "text/html": [
              "<style>#sk-container-id-1 {color: black;background-color: white;}#sk-container-id-1 pre{padding: 0;}#sk-container-id-1 div.sk-toggleable {background-color: white;}#sk-container-id-1 label.sk-toggleable__label {cursor: pointer;display: block;width: 100%;margin-bottom: 0;padding: 0.3em;box-sizing: border-box;text-align: center;}#sk-container-id-1 label.sk-toggleable__label-arrow:before {content: \"▸\";float: left;margin-right: 0.25em;color: #696969;}#sk-container-id-1 label.sk-toggleable__label-arrow:hover:before {color: black;}#sk-container-id-1 div.sk-estimator:hover label.sk-toggleable__label-arrow:before {color: black;}#sk-container-id-1 div.sk-toggleable__content {max-height: 0;max-width: 0;overflow: hidden;text-align: left;background-color: #f0f8ff;}#sk-container-id-1 div.sk-toggleable__content pre {margin: 0.2em;color: black;border-radius: 0.25em;background-color: #f0f8ff;}#sk-container-id-1 input.sk-toggleable__control:checked~div.sk-toggleable__content {max-height: 200px;max-width: 100%;overflow: auto;}#sk-container-id-1 input.sk-toggleable__control:checked~label.sk-toggleable__label-arrow:before {content: \"▾\";}#sk-container-id-1 div.sk-estimator input.sk-toggleable__control:checked~label.sk-toggleable__label {background-color: #d4ebff;}#sk-container-id-1 div.sk-label input.sk-toggleable__control:checked~label.sk-toggleable__label {background-color: #d4ebff;}#sk-container-id-1 input.sk-hidden--visually {border: 0;clip: rect(1px 1px 1px 1px);clip: rect(1px, 1px, 1px, 1px);height: 1px;margin: -1px;overflow: hidden;padding: 0;position: absolute;width: 1px;}#sk-container-id-1 div.sk-estimator {font-family: monospace;background-color: #f0f8ff;border: 1px dotted black;border-radius: 0.25em;box-sizing: border-box;margin-bottom: 0.5em;}#sk-container-id-1 div.sk-estimator:hover {background-color: #d4ebff;}#sk-container-id-1 div.sk-parallel-item::after {content: \"\";width: 100%;border-bottom: 1px solid gray;flex-grow: 1;}#sk-container-id-1 div.sk-label:hover label.sk-toggleable__label {background-color: #d4ebff;}#sk-container-id-1 div.sk-serial::before {content: \"\";position: absolute;border-left: 1px solid gray;box-sizing: border-box;top: 0;bottom: 0;left: 50%;z-index: 0;}#sk-container-id-1 div.sk-serial {display: flex;flex-direction: column;align-items: center;background-color: white;padding-right: 0.2em;padding-left: 0.2em;position: relative;}#sk-container-id-1 div.sk-item {position: relative;z-index: 1;}#sk-container-id-1 div.sk-parallel {display: flex;align-items: stretch;justify-content: center;background-color: white;position: relative;}#sk-container-id-1 div.sk-item::before, #sk-container-id-1 div.sk-parallel-item::before {content: \"\";position: absolute;border-left: 1px solid gray;box-sizing: border-box;top: 0;bottom: 0;left: 50%;z-index: -1;}#sk-container-id-1 div.sk-parallel-item {display: flex;flex-direction: column;z-index: 1;position: relative;background-color: white;}#sk-container-id-1 div.sk-parallel-item:first-child::after {align-self: flex-end;width: 50%;}#sk-container-id-1 div.sk-parallel-item:last-child::after {align-self: flex-start;width: 50%;}#sk-container-id-1 div.sk-parallel-item:only-child::after {width: 0;}#sk-container-id-1 div.sk-dashed-wrapped {border: 1px dashed gray;margin: 0 0.4em 0.5em 0.4em;box-sizing: border-box;padding-bottom: 0.4em;background-color: white;}#sk-container-id-1 div.sk-label label {font-family: monospace;font-weight: bold;display: inline-block;line-height: 1.2em;}#sk-container-id-1 div.sk-label-container {text-align: center;}#sk-container-id-1 div.sk-container {/* jupyter's `normalize.less` sets `[hidden] { display: none; }` but bootstrap.min.css set `[hidden] { display: none !important; }` so we also need the `!important` here to be able to override the default hidden behavior on the sphinx rendered scikit-learn.org. See: https://github.com/scikit-learn/scikit-learn/issues/21755 */display: inline-block !important;position: relative;}#sk-container-id-1 div.sk-text-repr-fallback {display: none;}</style><div id=\"sk-container-id-1\" class=\"sk-top-container\"><div class=\"sk-text-repr-fallback\"><pre>Pipeline(steps=[(&#x27;vect&#x27;, CountVectorizer()), (&#x27;tfidf&#x27;, TfidfTransformer()),\n",
              "                (&#x27;clf&#x27;,\n",
              "                 SVC(C=1.2, kernel=&#x27;sigmoid&#x27;, probability=True,\n",
              "                     random_state=0))])</pre><b>In a Jupyter environment, please rerun this cell to show the HTML representation or trust the notebook. <br />On GitHub, the HTML representation is unable to render, please try loading this page with nbviewer.org.</b></div><div class=\"sk-container\" hidden><div class=\"sk-item sk-dashed-wrapped\"><div class=\"sk-label-container\"><div class=\"sk-label sk-toggleable\"><input class=\"sk-toggleable__control sk-hidden--visually\" id=\"sk-estimator-id-1\" type=\"checkbox\" ><label for=\"sk-estimator-id-1\" class=\"sk-toggleable__label sk-toggleable__label-arrow\">Pipeline</label><div class=\"sk-toggleable__content\"><pre>Pipeline(steps=[(&#x27;vect&#x27;, CountVectorizer()), (&#x27;tfidf&#x27;, TfidfTransformer()),\n",
              "                (&#x27;clf&#x27;,\n",
              "                 SVC(C=1.2, kernel=&#x27;sigmoid&#x27;, probability=True,\n",
              "                     random_state=0))])</pre></div></div></div><div class=\"sk-serial\"><div class=\"sk-item\"><div class=\"sk-estimator sk-toggleable\"><input class=\"sk-toggleable__control sk-hidden--visually\" id=\"sk-estimator-id-2\" type=\"checkbox\" ><label for=\"sk-estimator-id-2\" class=\"sk-toggleable__label sk-toggleable__label-arrow\">CountVectorizer</label><div class=\"sk-toggleable__content\"><pre>CountVectorizer()</pre></div></div></div><div class=\"sk-item\"><div class=\"sk-estimator sk-toggleable\"><input class=\"sk-toggleable__control sk-hidden--visually\" id=\"sk-estimator-id-3\" type=\"checkbox\" ><label for=\"sk-estimator-id-3\" class=\"sk-toggleable__label sk-toggleable__label-arrow\">TfidfTransformer</label><div class=\"sk-toggleable__content\"><pre>TfidfTransformer()</pre></div></div></div><div class=\"sk-item\"><div class=\"sk-estimator sk-toggleable\"><input class=\"sk-toggleable__control sk-hidden--visually\" id=\"sk-estimator-id-4\" type=\"checkbox\" ><label for=\"sk-estimator-id-4\" class=\"sk-toggleable__label sk-toggleable__label-arrow\">SVC</label><div class=\"sk-toggleable__content\"><pre>SVC(C=1.2, kernel=&#x27;sigmoid&#x27;, probability=True, random_state=0)</pre></div></div></div></div></div></div></div>"
            ]
          },
          "metadata": {},
          "execution_count": 59
        }
      ],
      "source": [
        "# SVM Algorithm training X_train, X_test, y_train, y_test\n",
        "svm_model = svm_pipeline.fit(X_train.values.astype('U'), y_train.values.astype('int64'))\n",
        "svm_model"
      ]
    },
    {
      "cell_type": "code",
      "execution_count": 60,
      "id": "po6ebUJoNlFe",
      "metadata": {
        "colab": {
          "base_uri": "https://localhost:8080/"
        },
        "id": "po6ebUJoNlFe",
        "outputId": "952c5981-7739-4e47-ae01-583e84d152ad"
      },
      "outputs": [
        {
          "output_type": "execute_result",
          "data": {
            "text/plain": [
              "array([-1,  0,  1])"
            ]
          },
          "metadata": {},
          "execution_count": 60
        }
      ],
      "source": [
        "y_pred = svm_model.predict(X_test.values.astype('U'))\n",
        "svm_model.classes_"
      ]
    },
    {
      "cell_type": "code",
      "execution_count": 61,
      "id": "a6a70991-ba0a-4902-aea8-a90c96782a69",
      "metadata": {
        "colab": {
          "base_uri": "https://localhost:8080/"
        },
        "id": "a6a70991-ba0a-4902-aea8-a90c96782a69",
        "outputId": "b793fe2e-c86e-4761-a6d0-4781aa1e0d5b",
        "tags": []
      },
      "outputs": [
        {
          "output_type": "stream",
          "name": "stdout",
          "text": [
            "[[727 238   1]\n",
            " [289 393   0]\n",
            " [ 57  46   3]]\n"
          ]
        }
      ],
      "source": [
        "cm = confusion_matrix(y_test, y_pred, labels=svm_model.classes_)\n",
        "print(cm)"
      ]
    },
    {
      "cell_type": "code",
      "execution_count": 62,
      "id": "717a475c-4695-423a-b02e-536085d007a9",
      "metadata": {
        "colab": {
          "base_uri": "https://localhost:8080/",
          "height": 296
        },
        "id": "717a475c-4695-423a-b02e-536085d007a9",
        "outputId": "89d5871a-8f4d-4e8d-d24c-c685a5026f03",
        "tags": []
      },
      "outputs": [
        {
          "output_type": "stream",
          "name": "stdout",
          "text": [
            "<sklearn.metrics._plot.confusion_matrix.ConfusionMatrixDisplay object at 0x7f1a30fd87c0>\n"
          ]
        },
        {
          "output_type": "display_data",
          "data": {
            "text/plain": [
              "<Figure size 432x288 with 2 Axes>"
            ],
            "image/png": "[encoded data removed]"
          },
          "metadata": {
            "needs_background": "light"
          }
        }
      ],
      "source": [
        "cm_dsp=ConfusionMatrixDisplay(confusion_matrix=cm, display_labels=['Negatives', 'Neutral', 'Positive'])\n",
        "print(cm_dsp.plot())"
      ]
    },
    {
      "cell_type": "code",
      "execution_count": 63,
      "id": "c9351292-53b9-499c-92af-d155a3c22aca",
      "metadata": {
        "colab": {
          "base_uri": "https://localhost:8080/"
        },
        "id": "c9351292-53b9-499c-92af-d155a3c22aca",
        "outputId": "5b2e36e6-1588-4e4f-f9c3-a2e53cb5f42c",
        "tags": []
      },
      "outputs": [
        {
          "output_type": "stream",
          "name": "stdout",
          "text": [
            "Model Score: 0.6402508551881414\n",
            "Model Score: 64.03%\n",
            "\n",
            "Accuracy: 0.6402508551881414\n",
            "Accuracy: 64.03%\n",
            "\n",
            "F1-score: 0.4486688515679483\n",
            "F1-score: 44.87%\n",
            "\n",
            "CPU times and Wall time: \n",
            "CPU times: user 3.37 s, sys: 10.7 ms, total: 3.38 s\n",
            "Wall time: 3.71 s\n"
          ]
        }
      ],
      "source": [
        "%%time\n",
        "\n",
        "#predicting \n",
        "y_pred = svm_model.predict(X_test.values.astype('U'))\n",
        "\n",
        "model_score = svm_model.score(X_test.values.astype('U'), y_test.values.astype('int64'))\n",
        "print(f'Model Score: {model_score}')\n",
        "print(f'Model Score: {model_score*100:.2f}%')\n",
        "accuracy = accuracy_score(y_test, y_pred)\n",
        "print()\n",
        "print(f\"Accuracy: {accuracy}\")\n",
        "print(f\"Accuracy: {accuracy*100:.2f}%\")\n",
        "print()\n",
        "f1 = f1_score(y_test, y_pred, average='macro')\n",
        "print(f\"F1-score: {f1}\")\n",
        "print(f\"F1-score: {f1*100:.2f}%\")\n",
        "print()\n",
        "print(\"CPU times and Wall time: \")"
      ]
    },
    {
      "cell_type": "code",
      "execution_count": 64,
      "id": "3f69f227-fe8f-4713-9648-f517c517ad8b",
      "metadata": {
        "colab": {
          "base_uri": "https://localhost:8080/"
        },
        "id": "3f69f227-fe8f-4713-9648-f517c517ad8b",
        "outputId": "00891f04-ee07-4b09-eba5-ae4ff617ff5e"
      },
      "outputs": [
        {
          "output_type": "execute_result",
          "data": {
            "text/plain": [
              "['models/SVM_model_score_64.03.pkl']"
            ]
          },
          "metadata": {},
          "execution_count": 64
        }
      ],
      "source": [
        "# Save to file / directory\n",
        "joblib_file = \"models/SVM_model_score_\"+ str(round(accuracy*100,2))+\".pkl\"\n",
        "joblib.dump(svm_model, joblib_file)"
      ]
    },
    {
      "cell_type": "markdown",
      "id": "c2634a08-ffe0-4637-9271-cf8c89dc9482",
      "metadata": {
        "id": "c2634a08-ffe0-4637-9271-cf8c89dc9482"
      },
      "source": [
        "## 4.2 RANDOM FOREST"
      ]
    },
    {
      "cell_type": "code",
      "execution_count": 65,
      "id": "11d1e899-afab-4bf6-b8f0-0f12851f8aeb",
      "metadata": {
        "id": "11d1e899-afab-4bf6-b8f0-0f12851f8aeb"
      },
      "outputs": [],
      "source": [
        "# Initialize a vectorization and modelling pipeline\n",
        "rf_pipeline = Pipeline([\n",
        "     ('vect', CountVectorizer(ngram_range=(1,1))),\n",
        "     ('tfidf', TfidfTransformer()),\n",
        "     ('clf', RandomForestClassifier()),\n",
        " ])"
      ]
    },
    {
      "cell_type": "code",
      "execution_count": 66,
      "id": "5b119691-4c4f-4fc8-b57a-a57ebfd4b774",
      "metadata": {
        "colab": {
          "base_uri": "https://localhost:8080/",
          "height": 161
        },
        "id": "5b119691-4c4f-4fc8-b57a-a57ebfd4b774",
        "outputId": "bcd97b7a-1278-4668-831f-94ff5410759e"
      },
      "outputs": [
        {
          "output_type": "execute_result",
          "data": {
            "text/plain": [
              "Pipeline(steps=[('vect', CountVectorizer()), ('tfidf', TfidfTransformer()),\n",
              "                ('clf', RandomForestClassifier())])"
            ],
            "text/html": [
              "<style>#sk-container-id-2 {color: black;background-color: white;}#sk-container-id-2 pre{padding: 0;}#sk-container-id-2 div.sk-toggleable {background-color: white;}#sk-container-id-2 label.sk-toggleable__label {cursor: pointer;display: block;width: 100%;margin-bottom: 0;padding: 0.3em;box-sizing: border-box;text-align: center;}#sk-container-id-2 label.sk-toggleable__label-arrow:before {content: \"▸\";float: left;margin-right: 0.25em;color: #696969;}#sk-container-id-2 label.sk-toggleable__label-arrow:hover:before {color: black;}#sk-container-id-2 div.sk-estimator:hover label.sk-toggleable__label-arrow:before {color: black;}#sk-container-id-2 div.sk-toggleable__content {max-height: 0;max-width: 0;overflow: hidden;text-align: left;background-color: #f0f8ff;}#sk-container-id-2 div.sk-toggleable__content pre {margin: 0.2em;color: black;border-radius: 0.25em;background-color: #f0f8ff;}#sk-container-id-2 input.sk-toggleable__control:checked~div.sk-toggleable__content {max-height: 200px;max-width: 100%;overflow: auto;}#sk-container-id-2 input.sk-toggleable__control:checked~label.sk-toggleable__label-arrow:before {content: \"▾\";}#sk-container-id-2 div.sk-estimator input.sk-toggleable__control:checked~label.sk-toggleable__label {background-color: #d4ebff;}#sk-container-id-2 div.sk-label input.sk-toggleable__control:checked~label.sk-toggleable__label {background-color: #d4ebff;}#sk-container-id-2 input.sk-hidden--visually {border: 0;clip: rect(1px 1px 1px 1px);clip: rect(1px, 1px, 1px, 1px);height: 1px;margin: -1px;overflow: hidden;padding: 0;position: absolute;width: 1px;}#sk-container-id-2 div.sk-estimator {font-family: monospace;background-color: #f0f8ff;border: 1px dotted black;border-radius: 0.25em;box-sizing: border-box;margin-bottom: 0.5em;}#sk-container-id-2 div.sk-estimator:hover {background-color: #d4ebff;}#sk-container-id-2 div.sk-parallel-item::after {content: \"\";width: 100%;border-bottom: 1px solid gray;flex-grow: 1;}#sk-container-id-2 div.sk-label:hover label.sk-toggleable__label {background-color: #d4ebff;}#sk-container-id-2 div.sk-serial::before {content: \"\";position: absolute;border-left: 1px solid gray;box-sizing: border-box;top: 0;bottom: 0;left: 50%;z-index: 0;}#sk-container-id-2 div.sk-serial {display: flex;flex-direction: column;align-items: center;background-color: white;padding-right: 0.2em;padding-left: 0.2em;position: relative;}#sk-container-id-2 div.sk-item {position: relative;z-index: 1;}#sk-container-id-2 div.sk-parallel {display: flex;align-items: stretch;justify-content: center;background-color: white;position: relative;}#sk-container-id-2 div.sk-item::before, #sk-container-id-2 div.sk-parallel-item::before {content: \"\";position: absolute;border-left: 1px solid gray;box-sizing: border-box;top: 0;bottom: 0;left: 50%;z-index: -1;}#sk-container-id-2 div.sk-parallel-item {display: flex;flex-direction: column;z-index: 1;position: relative;background-color: white;}#sk-container-id-2 div.sk-parallel-item:first-child::after {align-self: flex-end;width: 50%;}#sk-container-id-2 div.sk-parallel-item:last-child::after {align-self: flex-start;width: 50%;}#sk-container-id-2 div.sk-parallel-item:only-child::after {width: 0;}#sk-container-id-2 div.sk-dashed-wrapped {border: 1px dashed gray;margin: 0 0.4em 0.5em 0.4em;box-sizing: border-box;padding-bottom: 0.4em;background-color: white;}#sk-container-id-2 div.sk-label label {font-family: monospace;font-weight: bold;display: inline-block;line-height: 1.2em;}#sk-container-id-2 div.sk-label-container {text-align: center;}#sk-container-id-2 div.sk-container {/* jupyter's `normalize.less` sets `[hidden] { display: none; }` but bootstrap.min.css set `[hidden] { display: none !important; }` so we also need the `!important` here to be able to override the default hidden behavior on the sphinx rendered scikit-learn.org. See: https://github.com/scikit-learn/scikit-learn/issues/21755 */display: inline-block !important;position: relative;}#sk-container-id-2 div.sk-text-repr-fallback {display: none;}</style><div id=\"sk-container-id-2\" class=\"sk-top-container\"><div class=\"sk-text-repr-fallback\"><pre>Pipeline(steps=[(&#x27;vect&#x27;, CountVectorizer()), (&#x27;tfidf&#x27;, TfidfTransformer()),\n",
              "                (&#x27;clf&#x27;, RandomForestClassifier())])</pre><b>In a Jupyter environment, please rerun this cell to show the HTML representation or trust the notebook. <br />On GitHub, the HTML representation is unable to render, please try loading this page with nbviewer.org.</b></div><div class=\"sk-container\" hidden><div class=\"sk-item sk-dashed-wrapped\"><div class=\"sk-label-container\"><div class=\"sk-label sk-toggleable\"><input class=\"sk-toggleable__control sk-hidden--visually\" id=\"sk-estimator-id-5\" type=\"checkbox\" ><label for=\"sk-estimator-id-5\" class=\"sk-toggleable__label sk-toggleable__label-arrow\">Pipeline</label><div class=\"sk-toggleable__content\"><pre>Pipeline(steps=[(&#x27;vect&#x27;, CountVectorizer()), (&#x27;tfidf&#x27;, TfidfTransformer()),\n",
              "                (&#x27;clf&#x27;, RandomForestClassifier())])</pre></div></div></div><div class=\"sk-serial\"><div class=\"sk-item\"><div class=\"sk-estimator sk-toggleable\"><input class=\"sk-toggleable__control sk-hidden--visually\" id=\"sk-estimator-id-6\" type=\"checkbox\" ><label for=\"sk-estimator-id-6\" class=\"sk-toggleable__label sk-toggleable__label-arrow\">CountVectorizer</label><div class=\"sk-toggleable__content\"><pre>CountVectorizer()</pre></div></div></div><div class=\"sk-item\"><div class=\"sk-estimator sk-toggleable\"><input class=\"sk-toggleable__control sk-hidden--visually\" id=\"sk-estimator-id-7\" type=\"checkbox\" ><label for=\"sk-estimator-id-7\" class=\"sk-toggleable__label sk-toggleable__label-arrow\">TfidfTransformer</label><div class=\"sk-toggleable__content\"><pre>TfidfTransformer()</pre></div></div></div><div class=\"sk-item\"><div class=\"sk-estimator sk-toggleable\"><input class=\"sk-toggleable__control sk-hidden--visually\" id=\"sk-estimator-id-8\" type=\"checkbox\" ><label for=\"sk-estimator-id-8\" class=\"sk-toggleable__label sk-toggleable__label-arrow\">RandomForestClassifier</label><div class=\"sk-toggleable__content\"><pre>RandomForestClassifier()</pre></div></div></div></div></div></div></div>"
            ]
          },
          "metadata": {},
          "execution_count": 66
        }
      ],
      "source": [
        "# RANDOM FOREST Algorithm training X_train, X_test, y_train, y_test\n",
        "rf_model = rf_pipeline.fit(X_train.values.astype('U'), y_train.values.astype('int64'))\n",
        "rf_model"
      ]
    },
    {
      "cell_type": "code",
      "execution_count": 67,
      "id": "5391641b-0a41-4586-abed-43888d19aa79",
      "metadata": {
        "colab": {
          "base_uri": "https://localhost:8080/"
        },
        "id": "5391641b-0a41-4586-abed-43888d19aa79",
        "outputId": "a333dda1-22b3-4580-c34a-cf5d90cfe7bf",
        "tags": []
      },
      "outputs": [
        {
          "output_type": "execute_result",
          "data": {
            "text/plain": [
              "array([-1,  0,  1])"
            ]
          },
          "metadata": {},
          "execution_count": 67
        }
      ],
      "source": [
        "y_pred = rf_model.predict(X_test.values.astype('U'))\n",
        "rf_model.classes_"
      ]
    },
    {
      "cell_type": "code",
      "execution_count": 68,
      "id": "0b0f795b-29a3-4964-877b-5be5ece0afea",
      "metadata": {
        "colab": {
          "base_uri": "https://localhost:8080/"
        },
        "id": "0b0f795b-29a3-4964-877b-5be5ece0afea",
        "outputId": "78fd2b59-1439-4e2a-d7bb-63dacd5dea56",
        "tags": []
      },
      "outputs": [
        {
          "output_type": "stream",
          "name": "stdout",
          "text": [
            "[[731 235   0]\n",
            " [310 371   1]\n",
            " [ 62  39   5]]\n"
          ]
        }
      ],
      "source": [
        "cm = confusion_matrix(y_test, y_pred, labels=rf_model.classes_)\n",
        "print(cm)"
      ]
    },
    {
      "cell_type": "code",
      "execution_count": 69,
      "id": "4f55fa3c-f3ea-46d5-b19c-a31daf880e47",
      "metadata": {
        "colab": {
          "base_uri": "https://localhost:8080/",
          "height": 296
        },
        "id": "4f55fa3c-f3ea-46d5-b19c-a31daf880e47",
        "outputId": "19dc6674-577c-4ab3-eea3-22ba76f67254",
        "tags": []
      },
      "outputs": [
        {
          "output_type": "execute_result",
          "data": {
            "text/plain": [
              "<sklearn.metrics._plot.confusion_matrix.ConfusionMatrixDisplay at 0x7f1a30e28ca0>"
            ]
          },
          "metadata": {},
          "execution_count": 69
        },
        {
          "output_type": "display_data",
          "data": {
            "text/plain": [
              "<Figure size 432x288 with 2 Axes>"
            ],
            "image/png": "[encoded data removed]"
          },
          "metadata": {
            "needs_background": "light"
          }
        }
      ],
      "source": [
        "cm_dsp=ConfusionMatrixDisplay(confusion_matrix=cm, display_labels=['Negatives', 'Neutral', 'Positive'])\n",
        "cm_dsp.plot()"
      ]
    },
    {
      "cell_type": "code",
      "execution_count": 70,
      "id": "aac0325f-5ca9-4562-bd85-66b322aad82a",
      "metadata": {
        "colab": {
          "base_uri": "https://localhost:8080/"
        },
        "id": "aac0325f-5ca9-4562-bd85-66b322aad82a",
        "outputId": "0052700b-281a-4262-fd33-b10d1a6cc539"
      },
      "outputs": [
        {
          "output_type": "stream",
          "name": "stdout",
          "text": [
            "Model Score: 0.6311288483466363\n",
            "Model Score: 63.11%\n",
            "\n",
            "Accuracy: 0.6311288483466363\n",
            "Accuracy: 63.11%\n",
            "\n",
            "F1-score: 0.4516877538500517\n",
            "F1-score: 45.17%\n",
            "\n",
            "CPU times and Wall time: \n",
            "CPU times: user 395 ms, sys: 1.92 ms, total: 397 ms\n",
            "Wall time: 404 ms\n"
          ]
        }
      ],
      "source": [
        "%%time\n",
        "\n",
        "#predicting \n",
        "y_pred = rf_model.predict(X_test.values.astype('U'))\n",
        "\n",
        "model_score = rf_model.score(X_test.values.astype('U'), y_test.values.astype('int64'))\n",
        "print(f'Model Score: {model_score}')\n",
        "print(f'Model Score: {model_score*100:.2f}%')\n",
        "accuracy = accuracy_score(y_test, y_pred)\n",
        "print()\n",
        "print(f\"Accuracy: {accuracy}\")\n",
        "print(f\"Accuracy: {accuracy*100:.2f}%\")\n",
        "print()\n",
        "f1 = f1_score(y_test, y_pred, average='macro')\n",
        "print(f\"F1-score: {f1}\")\n",
        "print(f\"F1-score: {f1*100:.2f}%\")\n",
        "print()\n",
        "print(\"CPU times and Wall time: \")"
      ]
    },
    {
      "cell_type": "code",
      "execution_count": 71,
      "id": "3f1f9c66-134b-402e-8eae-e8e08a286904",
      "metadata": {
        "colab": {
          "base_uri": "https://localhost:8080/"
        },
        "id": "3f1f9c66-134b-402e-8eae-e8e08a286904",
        "outputId": "e38659ea-0a85-4960-f723-c76a3953f1b4"
      },
      "outputs": [
        {
          "output_type": "execute_result",
          "data": {
            "text/plain": [
              "['models/Randomforest_model_score_63.11.pkl']"
            ]
          },
          "metadata": {},
          "execution_count": 71
        }
      ],
      "source": [
        "# Save to file / directory\n",
        "joblib_file = \"models/Randomforest_model_score_\"+ str(round(accuracy*100,2))+\".pkl\"\n",
        "joblib.dump(rf_model, joblib_file)"
      ]
    },
    {
      "cell_type": "markdown",
      "id": "d40724ff-ac2d-49ca-8e6f-2e993fbc4540",
      "metadata": {
        "id": "d40724ff-ac2d-49ca-8e6f-2e993fbc4540"
      },
      "source": [
        "# 4.3 DECISION TREE CLASSIFIER"
      ]
    },
    {
      "cell_type": "code",
      "execution_count": 72,
      "id": "c2458729-8dd9-4ff1-b03a-2c8eb91c6c0d",
      "metadata": {
        "id": "c2458729-8dd9-4ff1-b03a-2c8eb91c6c0d"
      },
      "outputs": [],
      "source": [
        "# Initialize a vectorization and modelling pipeline\n",
        "dt_pipeline = Pipeline([\n",
        "     ('vect', CountVectorizer(ngram_range=(1,1))),\n",
        "     ('tfidf', TfidfTransformer()),\n",
        "     ('clf', DecisionTreeClassifier()),\n",
        " ])"
      ]
    },
    {
      "cell_type": "code",
      "execution_count": 73,
      "id": "c8ea1f6f-3613-46b7-a78f-824c14699ed9",
      "metadata": {
        "colab": {
          "base_uri": "https://localhost:8080/",
          "height": 161
        },
        "id": "c8ea1f6f-3613-46b7-a78f-824c14699ed9",
        "outputId": "017cb7e8-f70d-46dd-e023-eb97d685e335"
      },
      "outputs": [
        {
          "output_type": "execute_result",
          "data": {
            "text/plain": [
              "Pipeline(steps=[('vect', CountVectorizer()), ('tfidf', TfidfTransformer()),\n",
              "                ('clf', DecisionTreeClassifier())])"
            ],
            "text/html": [
              "<style>#sk-container-id-3 {color: black;background-color: white;}#sk-container-id-3 pre{padding: 0;}#sk-container-id-3 div.sk-toggleable {background-color: white;}#sk-container-id-3 label.sk-toggleable__label {cursor: pointer;display: block;width: 100%;margin-bottom: 0;padding: 0.3em;box-sizing: border-box;text-align: center;}#sk-container-id-3 label.sk-toggleable__label-arrow:before {content: \"▸\";float: left;margin-right: 0.25em;color: #696969;}#sk-container-id-3 label.sk-toggleable__label-arrow:hover:before {color: black;}#sk-container-id-3 div.sk-estimator:hover label.sk-toggleable__label-arrow:before {color: black;}#sk-container-id-3 div.sk-toggleable__content {max-height: 0;max-width: 0;overflow: hidden;text-align: left;background-color: #f0f8ff;}#sk-container-id-3 div.sk-toggleable__content pre {margin: 0.2em;color: black;border-radius: 0.25em;background-color: #f0f8ff;}#sk-container-id-3 input.sk-toggleable__control:checked~div.sk-toggleable__content {max-height: 200px;max-width: 100%;overflow: auto;}#sk-container-id-3 input.sk-toggleable__control:checked~label.sk-toggleable__label-arrow:before {content: \"▾\";}#sk-container-id-3 div.sk-estimator input.sk-toggleable__control:checked~label.sk-toggleable__label {background-color: #d4ebff;}#sk-container-id-3 div.sk-label input.sk-toggleable__control:checked~label.sk-toggleable__label {background-color: #d4ebff;}#sk-container-id-3 input.sk-hidden--visually {border: 0;clip: rect(1px 1px 1px 1px);clip: rect(1px, 1px, 1px, 1px);height: 1px;margin: -1px;overflow: hidden;padding: 0;position: absolute;width: 1px;}#sk-container-id-3 div.sk-estimator {font-family: monospace;background-color: #f0f8ff;border: 1px dotted black;border-radius: 0.25em;box-sizing: border-box;margin-bottom: 0.5em;}#sk-container-id-3 div.sk-estimator:hover {background-color: #d4ebff;}#sk-container-id-3 div.sk-parallel-item::after {content: \"\";width: 100%;border-bottom: 1px solid gray;flex-grow: 1;}#sk-container-id-3 div.sk-label:hover label.sk-toggleable__label {background-color: #d4ebff;}#sk-container-id-3 div.sk-serial::before {content: \"\";position: absolute;border-left: 1px solid gray;box-sizing: border-box;top: 0;bottom: 0;left: 50%;z-index: 0;}#sk-container-id-3 div.sk-serial {display: flex;flex-direction: column;align-items: center;background-color: white;padding-right: 0.2em;padding-left: 0.2em;position: relative;}#sk-container-id-3 div.sk-item {position: relative;z-index: 1;}#sk-container-id-3 div.sk-parallel {display: flex;align-items: stretch;justify-content: center;background-color: white;position: relative;}#sk-container-id-3 div.sk-item::before, #sk-container-id-3 div.sk-parallel-item::before {content: \"\";position: absolute;border-left: 1px solid gray;box-sizing: border-box;top: 0;bottom: 0;left: 50%;z-index: -1;}#sk-container-id-3 div.sk-parallel-item {display: flex;flex-direction: column;z-index: 1;position: relative;background-color: white;}#sk-container-id-3 div.sk-parallel-item:first-child::after {align-self: flex-end;width: 50%;}#sk-container-id-3 div.sk-parallel-item:last-child::after {align-self: flex-start;width: 50%;}#sk-container-id-3 div.sk-parallel-item:only-child::after {width: 0;}#sk-container-id-3 div.sk-dashed-wrapped {border: 1px dashed gray;margin: 0 0.4em 0.5em 0.4em;box-sizing: border-box;padding-bottom: 0.4em;background-color: white;}#sk-container-id-3 div.sk-label label {font-family: monospace;font-weight: bold;display: inline-block;line-height: 1.2em;}#sk-container-id-3 div.sk-label-container {text-align: center;}#sk-container-id-3 div.sk-container {/* jupyter's `normalize.less` sets `[hidden] { display: none; }` but bootstrap.min.css set `[hidden] { display: none !important; }` so we also need the `!important` here to be able to override the default hidden behavior on the sphinx rendered scikit-learn.org. See: https://github.com/scikit-learn/scikit-learn/issues/21755 */display: inline-block !important;position: relative;}#sk-container-id-3 div.sk-text-repr-fallback {display: none;}</style><div id=\"sk-container-id-3\" class=\"sk-top-container\"><div class=\"sk-text-repr-fallback\"><pre>Pipeline(steps=[(&#x27;vect&#x27;, CountVectorizer()), (&#x27;tfidf&#x27;, TfidfTransformer()),\n",
              "                (&#x27;clf&#x27;, DecisionTreeClassifier())])</pre><b>In a Jupyter environment, please rerun this cell to show the HTML representation or trust the notebook. <br />On GitHub, the HTML representation is unable to render, please try loading this page with nbviewer.org.</b></div><div class=\"sk-container\" hidden><div class=\"sk-item sk-dashed-wrapped\"><div class=\"sk-label-container\"><div class=\"sk-label sk-toggleable\"><input class=\"sk-toggleable__control sk-hidden--visually\" id=\"sk-estimator-id-9\" type=\"checkbox\" ><label for=\"sk-estimator-id-9\" class=\"sk-toggleable__label sk-toggleable__label-arrow\">Pipeline</label><div class=\"sk-toggleable__content\"><pre>Pipeline(steps=[(&#x27;vect&#x27;, CountVectorizer()), (&#x27;tfidf&#x27;, TfidfTransformer()),\n",
              "                (&#x27;clf&#x27;, DecisionTreeClassifier())])</pre></div></div></div><div class=\"sk-serial\"><div class=\"sk-item\"><div class=\"sk-estimator sk-toggleable\"><input class=\"sk-toggleable__control sk-hidden--visually\" id=\"sk-estimator-id-10\" type=\"checkbox\" ><label for=\"sk-estimator-id-10\" class=\"sk-toggleable__label sk-toggleable__label-arrow\">CountVectorizer</label><div class=\"sk-toggleable__content\"><pre>CountVectorizer()</pre></div></div></div><div class=\"sk-item\"><div class=\"sk-estimator sk-toggleable\"><input class=\"sk-toggleable__control sk-hidden--visually\" id=\"sk-estimator-id-11\" type=\"checkbox\" ><label for=\"sk-estimator-id-11\" class=\"sk-toggleable__label sk-toggleable__label-arrow\">TfidfTransformer</label><div class=\"sk-toggleable__content\"><pre>TfidfTransformer()</pre></div></div></div><div class=\"sk-item\"><div class=\"sk-estimator sk-toggleable\"><input class=\"sk-toggleable__control sk-hidden--visually\" id=\"sk-estimator-id-12\" type=\"checkbox\" ><label for=\"sk-estimator-id-12\" class=\"sk-toggleable__label sk-toggleable__label-arrow\">DecisionTreeClassifier</label><div class=\"sk-toggleable__content\"><pre>DecisionTreeClassifier()</pre></div></div></div></div></div></div></div>"
            ]
          },
          "metadata": {},
          "execution_count": 73
        }
      ],
      "source": [
        "# Algorithm training X_train, X_test, y_train, y_test\n",
        "dt_model = dt_pipeline.fit(X_train.values.astype('U'), y_train.values.astype('int64'))\n",
        "dt_model"
      ]
    },
    {
      "cell_type": "code",
      "execution_count": 74,
      "id": "642dd071-dc7f-42f3-8775-f133e1417b24",
      "metadata": {
        "colab": {
          "base_uri": "https://localhost:8080/"
        },
        "id": "642dd071-dc7f-42f3-8775-f133e1417b24",
        "outputId": "46d708ab-cb69-4b16-a574-f44600c92780",
        "tags": []
      },
      "outputs": [
        {
          "output_type": "execute_result",
          "data": {
            "text/plain": [
              "array([-1,  0,  1])"
            ]
          },
          "metadata": {},
          "execution_count": 74
        }
      ],
      "source": [
        "y_pred = dt_model.predict(X_test.values.astype('U'))\n",
        "dt_model.classes_"
      ]
    },
    {
      "cell_type": "code",
      "execution_count": 75,
      "id": "c516ab2a-4bb9-4f95-92c3-8c69e539af9f",
      "metadata": {
        "colab": {
          "base_uri": "https://localhost:8080/"
        },
        "id": "c516ab2a-4bb9-4f95-92c3-8c69e539af9f",
        "outputId": "0f20d005-e34a-4063-bf9c-77a1c846d39a",
        "tags": []
      },
      "outputs": [
        {
          "output_type": "stream",
          "name": "stdout",
          "text": [
            "[[588 331  47]\n",
            " [275 384  23]\n",
            " [ 56  40  10]]\n"
          ]
        }
      ],
      "source": [
        "cm = confusion_matrix(y_test, y_pred, labels=dt_model.classes_)\n",
        "print(cm)"
      ]
    },
    {
      "cell_type": "code",
      "execution_count": 76,
      "id": "f2870031-8ae3-430b-a96d-5dc442357ff5",
      "metadata": {
        "colab": {
          "base_uri": "https://localhost:8080/",
          "height": 296
        },
        "id": "f2870031-8ae3-430b-a96d-5dc442357ff5",
        "outputId": "71c5dc2f-affb-4799-9674-582f1bfac766",
        "tags": []
      },
      "outputs": [
        {
          "output_type": "execute_result",
          "data": {
            "text/plain": [
              "<sklearn.metrics._plot.confusion_matrix.ConfusionMatrixDisplay at 0x7f1a30e28cd0>"
            ]
          },
          "metadata": {},
          "execution_count": 76
        },
        {
          "output_type": "display_data",
          "data": {
            "text/plain": [
              "<Figure size 432x288 with 2 Axes>"
            ],
            "image/png": "[encoded data removed]"
          },
          "metadata": {
            "needs_background": "light"
          }
        }
      ],
      "source": [
        "cm_dsp=ConfusionMatrixDisplay(confusion_matrix=cm, display_labels=['Negatives', 'Neutral', 'Positive'])\n",
        "cm_dsp.plot()"
      ]
    },
    {
      "cell_type": "code",
      "execution_count": 77,
      "id": "f3fac5a9-e0d7-4f9b-95bf-0b7654577b14",
      "metadata": {
        "colab": {
          "base_uri": "https://localhost:8080/"
        },
        "id": "f3fac5a9-e0d7-4f9b-95bf-0b7654577b14",
        "outputId": "8706b877-ce3a-4b29-e777-232547fcf37c",
        "tags": []
      },
      "outputs": [
        {
          "output_type": "stream",
          "name": "stdout",
          "text": [
            "Model Score: 0.5598631698973774\n",
            "Model Score: 55.99%\n",
            "\n",
            "Accuracy: 0.5598631698973774\n",
            "Accuracy: 55.99%\n",
            "\n",
            "F1-score: 0.42194877495246036\n",
            "F1-score: 42.19%\n",
            "\n",
            "CPU times and Wall time: \n",
            "CPU times: user 124 ms, sys: 978 µs, total: 125 ms\n",
            "Wall time: 143 ms\n"
          ]
        }
      ],
      "source": [
        "%%time\n",
        "\n",
        "#predicting \n",
        "y_pred = dt_model.predict(X_test.values.astype('U'))\n",
        "\n",
        "model_score = dt_model.score(X_test.values.astype('U'), y_test.values.astype('int64'))\n",
        "print(f'Model Score: {model_score}')\n",
        "print(f'Model Score: {model_score*100:.2f}%')\n",
        "accuracy = accuracy_score(y_test, y_pred)\n",
        "print()\n",
        "print(f\"Accuracy: {accuracy}\")\n",
        "print(f\"Accuracy: {accuracy*100:.2f}%\")\n",
        "print()\n",
        "f1 = f1_score(y_test, y_pred, average='macro')\n",
        "print(f\"F1-score: {f1}\")\n",
        "print(f\"F1-score: {f1*100:.2f}%\")\n",
        "print()\n",
        "print(\"CPU times and Wall time: \")"
      ]
    },
    {
      "cell_type": "code",
      "execution_count": 78,
      "id": "3ceaae73-dcb2-4f0e-b525-dcd753896cbc",
      "metadata": {
        "colab": {
          "base_uri": "https://localhost:8080/"
        },
        "id": "3ceaae73-dcb2-4f0e-b525-dcd753896cbc",
        "outputId": "353b1ce8-a336-4998-eae3-6f2f03622b27"
      },
      "outputs": [
        {
          "output_type": "execute_result",
          "data": {
            "text/plain": [
              "['models/DecisionTreeClassifier_model_score_55.99.pkl']"
            ]
          },
          "metadata": {},
          "execution_count": 78
        }
      ],
      "source": [
        "# Save to file / directory\n",
        "joblib_file = \"models/DecisionTreeClassifier_model_score_\"+ str(round(accuracy*100,2))+\".pkl\"\n",
        "joblib.dump(dt_model, joblib_file)"
      ]
    },
    {
      "cell_type": "markdown",
      "id": "4042fb67-1afd-47de-9ca2-fe20ae287819",
      "metadata": {
        "id": "4042fb67-1afd-47de-9ca2-fe20ae287819"
      },
      "source": [
        "# 4.4 KNEIGHBORS CLASSIFIER"
      ]
    },
    {
      "cell_type": "code",
      "execution_count": 79,
      "id": "801fbd7b-d730-4809-a7b6-f909cfaf07e0",
      "metadata": {
        "id": "801fbd7b-d730-4809-a7b6-f909cfaf07e0"
      },
      "outputs": [],
      "source": [
        "# Initialize a vectorization and modelling pipeline\n",
        "kn_pipeline = Pipeline([\n",
        "     ('vect', CountVectorizer(ngram_range=(1,1))),\n",
        "     ('tfidf', TfidfTransformer()),\n",
        "     ('clf', KNeighborsClassifier()), \n",
        " ])"
      ]
    },
    {
      "cell_type": "code",
      "execution_count": 80,
      "id": "9c1877bb-f512-4b4b-9d07-3513a033d20c",
      "metadata": {
        "colab": {
          "base_uri": "https://localhost:8080/",
          "height": 161
        },
        "id": "9c1877bb-f512-4b4b-9d07-3513a033d20c",
        "outputId": "85fc2faa-3f7e-4780-e795-2283be739b90"
      },
      "outputs": [
        {
          "output_type": "execute_result",
          "data": {
            "text/plain": [
              "Pipeline(steps=[('vect', CountVectorizer()), ('tfidf', TfidfTransformer()),\n",
              "                ('clf', KNeighborsClassifier())])"
            ],
            "text/html": [
              "<style>#sk-container-id-4 {color: black;background-color: white;}#sk-container-id-4 pre{padding: 0;}#sk-container-id-4 div.sk-toggleable {background-color: white;}#sk-container-id-4 label.sk-toggleable__label {cursor: pointer;display: block;width: 100%;margin-bottom: 0;padding: 0.3em;box-sizing: border-box;text-align: center;}#sk-container-id-4 label.sk-toggleable__label-arrow:before {content: \"▸\";float: left;margin-right: 0.25em;color: #696969;}#sk-container-id-4 label.sk-toggleable__label-arrow:hover:before {color: black;}#sk-container-id-4 div.sk-estimator:hover label.sk-toggleable__label-arrow:before {color: black;}#sk-container-id-4 div.sk-toggleable__content {max-height: 0;max-width: 0;overflow: hidden;text-align: left;background-color: #f0f8ff;}#sk-container-id-4 div.sk-toggleable__content pre {margin: 0.2em;color: black;border-radius: 0.25em;background-color: #f0f8ff;}#sk-container-id-4 input.sk-toggleable__control:checked~div.sk-toggleable__content {max-height: 200px;max-width: 100%;overflow: auto;}#sk-container-id-4 input.sk-toggleable__control:checked~label.sk-toggleable__label-arrow:before {content: \"▾\";}#sk-container-id-4 div.sk-estimator input.sk-toggleable__control:checked~label.sk-toggleable__label {background-color: #d4ebff;}#sk-container-id-4 div.sk-label input.sk-toggleable__control:checked~label.sk-toggleable__label {background-color: #d4ebff;}#sk-container-id-4 input.sk-hidden--visually {border: 0;clip: rect(1px 1px 1px 1px);clip: rect(1px, 1px, 1px, 1px);height: 1px;margin: -1px;overflow: hidden;padding: 0;position: absolute;width: 1px;}#sk-container-id-4 div.sk-estimator {font-family: monospace;background-color: #f0f8ff;border: 1px dotted black;border-radius: 0.25em;box-sizing: border-box;margin-bottom: 0.5em;}#sk-container-id-4 div.sk-estimator:hover {background-color: #d4ebff;}#sk-container-id-4 div.sk-parallel-item::after {content: \"\";width: 100%;border-bottom: 1px solid gray;flex-grow: 1;}#sk-container-id-4 div.sk-label:hover label.sk-toggleable__label {background-color: #d4ebff;}#sk-container-id-4 div.sk-serial::before {content: \"\";position: absolute;border-left: 1px solid gray;box-sizing: border-box;top: 0;bottom: 0;left: 50%;z-index: 0;}#sk-container-id-4 div.sk-serial {display: flex;flex-direction: column;align-items: center;background-color: white;padding-right: 0.2em;padding-left: 0.2em;position: relative;}#sk-container-id-4 div.sk-item {position: relative;z-index: 1;}#sk-container-id-4 div.sk-parallel {display: flex;align-items: stretch;justify-content: center;background-color: white;position: relative;}#sk-container-id-4 div.sk-item::before, #sk-container-id-4 div.sk-parallel-item::before {content: \"\";position: absolute;border-left: 1px solid gray;box-sizing: border-box;top: 0;bottom: 0;left: 50%;z-index: -1;}#sk-container-id-4 div.sk-parallel-item {display: flex;flex-direction: column;z-index: 1;position: relative;background-color: white;}#sk-container-id-4 div.sk-parallel-item:first-child::after {align-self: flex-end;width: 50%;}#sk-container-id-4 div.sk-parallel-item:last-child::after {align-self: flex-start;width: 50%;}#sk-container-id-4 div.sk-parallel-item:only-child::after {width: 0;}#sk-container-id-4 div.sk-dashed-wrapped {border: 1px dashed gray;margin: 0 0.4em 0.5em 0.4em;box-sizing: border-box;padding-bottom: 0.4em;background-color: white;}#sk-container-id-4 div.sk-label label {font-family: monospace;font-weight: bold;display: inline-block;line-height: 1.2em;}#sk-container-id-4 div.sk-label-container {text-align: center;}#sk-container-id-4 div.sk-container {/* jupyter's `normalize.less` sets `[hidden] { display: none; }` but bootstrap.min.css set `[hidden] { display: none !important; }` so we also need the `!important` here to be able to override the default hidden behavior on the sphinx rendered scikit-learn.org. See: https://github.com/scikit-learn/scikit-learn/issues/21755 */display: inline-block !important;position: relative;}#sk-container-id-4 div.sk-text-repr-fallback {display: none;}</style><div id=\"sk-container-id-4\" class=\"sk-top-container\"><div class=\"sk-text-repr-fallback\"><pre>Pipeline(steps=[(&#x27;vect&#x27;, CountVectorizer()), (&#x27;tfidf&#x27;, TfidfTransformer()),\n",
              "                (&#x27;clf&#x27;, KNeighborsClassifier())])</pre><b>In a Jupyter environment, please rerun this cell to show the HTML representation or trust the notebook. <br />On GitHub, the HTML representation is unable to render, please try loading this page with nbviewer.org.</b></div><div class=\"sk-container\" hidden><div class=\"sk-item sk-dashed-wrapped\"><div class=\"sk-label-container\"><div class=\"sk-label sk-toggleable\"><input class=\"sk-toggleable__control sk-hidden--visually\" id=\"sk-estimator-id-13\" type=\"checkbox\" ><label for=\"sk-estimator-id-13\" class=\"sk-toggleable__label sk-toggleable__label-arrow\">Pipeline</label><div class=\"sk-toggleable__content\"><pre>Pipeline(steps=[(&#x27;vect&#x27;, CountVectorizer()), (&#x27;tfidf&#x27;, TfidfTransformer()),\n",
              "                (&#x27;clf&#x27;, KNeighborsClassifier())])</pre></div></div></div><div class=\"sk-serial\"><div class=\"sk-item\"><div class=\"sk-estimator sk-toggleable\"><input class=\"sk-toggleable__control sk-hidden--visually\" id=\"sk-estimator-id-14\" type=\"checkbox\" ><label for=\"sk-estimator-id-14\" class=\"sk-toggleable__label sk-toggleable__label-arrow\">CountVectorizer</label><div class=\"sk-toggleable__content\"><pre>CountVectorizer()</pre></div></div></div><div class=\"sk-item\"><div class=\"sk-estimator sk-toggleable\"><input class=\"sk-toggleable__control sk-hidden--visually\" id=\"sk-estimator-id-15\" type=\"checkbox\" ><label for=\"sk-estimator-id-15\" class=\"sk-toggleable__label sk-toggleable__label-arrow\">TfidfTransformer</label><div class=\"sk-toggleable__content\"><pre>TfidfTransformer()</pre></div></div></div><div class=\"sk-item\"><div class=\"sk-estimator sk-toggleable\"><input class=\"sk-toggleable__control sk-hidden--visually\" id=\"sk-estimator-id-16\" type=\"checkbox\" ><label for=\"sk-estimator-id-16\" class=\"sk-toggleable__label sk-toggleable__label-arrow\">KNeighborsClassifier</label><div class=\"sk-toggleable__content\"><pre>KNeighborsClassifier()</pre></div></div></div></div></div></div></div>"
            ]
          },
          "metadata": {},
          "execution_count": 80
        }
      ],
      "source": [
        "# Algorithm training X_train, X_test, y_train, y_test\n",
        "kn_model = kn_pipeline.fit(X_train.values.astype('U'), y_train.values.astype('int64'))\n",
        "kn_model"
      ]
    },
    {
      "cell_type": "code",
      "execution_count": 81,
      "id": "a0caeba5-6674-4e06-82f7-81fc199f0e75",
      "metadata": {
        "colab": {
          "base_uri": "https://localhost:8080/"
        },
        "id": "a0caeba5-6674-4e06-82f7-81fc199f0e75",
        "outputId": "dd08fa30-f2f4-45bf-c7ed-383a20c8abd5",
        "tags": []
      },
      "outputs": [
        {
          "output_type": "execute_result",
          "data": {
            "text/plain": [
              "array([-1,  0,  1])"
            ]
          },
          "metadata": {},
          "execution_count": 81
        }
      ],
      "source": [
        "y_pred = kn_model.predict(X_test.values.astype('U'))\n",
        "kn_model.classes_"
      ]
    },
    {
      "cell_type": "code",
      "execution_count": 82,
      "id": "e64de012-a9ef-4b92-bf1a-5dd7d72ce4f3",
      "metadata": {
        "colab": {
          "base_uri": "https://localhost:8080/"
        },
        "id": "e64de012-a9ef-4b92-bf1a-5dd7d72ce4f3",
        "outputId": "2038a5b4-88cb-4f07-f1ad-ecf425848793",
        "tags": []
      },
      "outputs": [
        {
          "output_type": "stream",
          "name": "stdout",
          "text": [
            "[[615 345   6]\n",
            " [266 415   1]\n",
            " [ 53  50   3]]\n"
          ]
        }
      ],
      "source": [
        "cm = confusion_matrix(y_test, y_pred, labels=kn_model.classes_)\n",
        "print(cm)"
      ]
    },
    {
      "cell_type": "code",
      "execution_count": 83,
      "id": "8a6e17da-90f0-44e5-a488-4710405d3dc7",
      "metadata": {
        "colab": {
          "base_uri": "https://localhost:8080/",
          "height": 296
        },
        "id": "8a6e17da-90f0-44e5-a488-4710405d3dc7",
        "outputId": "e55e59f9-7bce-4cb1-df31-e5e8719456ce",
        "tags": []
      },
      "outputs": [
        {
          "output_type": "execute_result",
          "data": {
            "text/plain": [
              "<sklearn.metrics._plot.confusion_matrix.ConfusionMatrixDisplay at 0x7f1a2e46aaf0>"
            ]
          },
          "metadata": {},
          "execution_count": 83
        },
        {
          "output_type": "display_data",
          "data": {
            "text/plain": [
              "<Figure size 432x288 with 2 Axes>"
            ],
            "image/png": "[encoded data removed]"
          },
          "metadata": {
            "needs_background": "light"
          }
        }
      ],
      "source": [
        "cm_dsp=ConfusionMatrixDisplay(confusion_matrix=cm, display_labels=['Negatives', 'Neutral', 'Positive'])\n",
        "cm_dsp.plot()"
      ]
    },
    {
      "cell_type": "code",
      "execution_count": 84,
      "id": "2fc917b0-4651-44d4-945d-ba7ec803e476",
      "metadata": {
        "colab": {
          "base_uri": "https://localhost:8080/"
        },
        "id": "2fc917b0-4651-44d4-945d-ba7ec803e476",
        "outputId": "421d6728-520b-4e6e-b7e5-c640c8615c3c",
        "tags": []
      },
      "outputs": [
        {
          "output_type": "stream",
          "name": "stdout",
          "text": [
            "Model Score: 0.5889395667046751\n",
            "Model Score: 58.89%\n",
            "\n",
            "Accuracy: 0.5889395667046751\n",
            "Accuracy: 58.89%\n",
            "\n",
            "F1-score: 0.4184642756933936\n",
            "F1-score: 41.85%\n",
            "\n",
            "CPU times and Wall time: \n",
            "CPU times: user 10.4 s, sys: 15.5 ms, total: 10.4 s\n",
            "Wall time: 5.51 s\n"
          ]
        }
      ],
      "source": [
        "%%time\n",
        "\n",
        "#predicting \n",
        "y_pred = kn_model.predict(X_test.values.astype('U'))\n",
        "\n",
        "model_score = kn_model.score(X_test.values.astype('U'), y_test.values.astype('int64'))\n",
        "print(f'Model Score: {model_score}')\n",
        "print(f'Model Score: {model_score*100:.2f}%')\n",
        "accuracy = accuracy_score(y_test, y_pred)\n",
        "print()\n",
        "print(f\"Accuracy: {accuracy}\")\n",
        "print(f\"Accuracy: {accuracy*100:.2f}%\")\n",
        "print()\n",
        "f1 = f1_score(y_test, y_pred, average='macro')\n",
        "print(f\"F1-score: {f1}\")\n",
        "print(f\"F1-score: {f1*100:.2f}%\")\n",
        "print()\n",
        "print(\"CPU times and Wall time: \")"
      ]
    },
    {
      "cell_type": "code",
      "execution_count": 85,
      "id": "311caeee-63a8-41e6-9fa5-ffc65c10a83f",
      "metadata": {
        "colab": {
          "base_uri": "https://localhost:8080/"
        },
        "id": "311caeee-63a8-41e6-9fa5-ffc65c10a83f",
        "outputId": "e0845d6c-32ab-4a8e-d713-0559d195e2bc"
      },
      "outputs": [
        {
          "output_type": "execute_result",
          "data": {
            "text/plain": [
              "['models/KNeighborsClassifier_model_score_58.89.pkl']"
            ]
          },
          "metadata": {},
          "execution_count": 85
        }
      ],
      "source": [
        "# Save to file / directory\n",
        "joblib_file = \"models/KNeighborsClassifier_model_score_\"+ str(round(accuracy*100,2))+\".pkl\"\n",
        "joblib.dump(kn_model, joblib_file)"
      ]
    },
    {
      "cell_type": "markdown",
      "id": "c7e1b176-06c5-4d4b-acf1-a7444721a029",
      "metadata": {
        "id": "c7e1b176-06c5-4d4b-acf1-a7444721a029"
      },
      "source": [
        "# 4.5 LOGISTIC REGRESSION "
      ]
    },
    {
      "cell_type": "code",
      "execution_count": 86,
      "id": "3d78a162-5fca-4e8f-b7f4-9b7ad0def044",
      "metadata": {
        "id": "3d78a162-5fca-4e8f-b7f4-9b7ad0def044"
      },
      "outputs": [],
      "source": [
        "# Initialize a vectorization and modelling pipeline\n",
        "lr_pipeline = Pipeline([\n",
        "     ('vect', CountVectorizer(ngram_range=(1,5))),\n",
        "     ('tfidf', TfidfTransformer()),\n",
        "     ('clf', LogisticRegression()), \n",
        " ])"
      ]
    },
    {
      "cell_type": "code",
      "execution_count": 87,
      "id": "cb85080c-7c8c-4fee-83f4-9a769d2730ca",
      "metadata": {
        "colab": {
          "base_uri": "https://localhost:8080/",
          "height": 161
        },
        "id": "cb85080c-7c8c-4fee-83f4-9a769d2730ca",
        "outputId": "7385f9d8-e893-490d-84a0-e945249cc84c"
      },
      "outputs": [
        {
          "output_type": "execute_result",
          "data": {
            "text/plain": [
              "Pipeline(steps=[('vect', CountVectorizer(ngram_range=(1, 5))),\n",
              "                ('tfidf', TfidfTransformer()), ('clf', LogisticRegression())])"
            ],
            "text/html": [
              "<style>#sk-container-id-5 {color: black;background-color: white;}#sk-container-id-5 pre{padding: 0;}#sk-container-id-5 div.sk-toggleable {background-color: white;}#sk-container-id-5 label.sk-toggleable__label {cursor: pointer;display: block;width: 100%;margin-bottom: 0;padding: 0.3em;box-sizing: border-box;text-align: center;}#sk-container-id-5 label.sk-toggleable__label-arrow:before {content: \"▸\";float: left;margin-right: 0.25em;color: #696969;}#sk-container-id-5 label.sk-toggleable__label-arrow:hover:before {color: black;}#sk-container-id-5 div.sk-estimator:hover label.sk-toggleable__label-arrow:before {color: black;}#sk-container-id-5 div.sk-toggleable__content {max-height: 0;max-width: 0;overflow: hidden;text-align: left;background-color: #f0f8ff;}#sk-container-id-5 div.sk-toggleable__content pre {margin: 0.2em;color: black;border-radius: 0.25em;background-color: #f0f8ff;}#sk-container-id-5 input.sk-toggleable__control:checked~div.sk-toggleable__content {max-height: 200px;max-width: 100%;overflow: auto;}#sk-container-id-5 input.sk-toggleable__control:checked~label.sk-toggleable__label-arrow:before {content: \"▾\";}#sk-container-id-5 div.sk-estimator input.sk-toggleable__control:checked~label.sk-toggleable__label {background-color: #d4ebff;}#sk-container-id-5 div.sk-label input.sk-toggleable__control:checked~label.sk-toggleable__label {background-color: #d4ebff;}#sk-container-id-5 input.sk-hidden--visually {border: 0;clip: rect(1px 1px 1px 1px);clip: rect(1px, 1px, 1px, 1px);height: 1px;margin: -1px;overflow: hidden;padding: 0;position: absolute;width: 1px;}#sk-container-id-5 div.sk-estimator {font-family: monospace;background-color: #f0f8ff;border: 1px dotted black;border-radius: 0.25em;box-sizing: border-box;margin-bottom: 0.5em;}#sk-container-id-5 div.sk-estimator:hover {background-color: #d4ebff;}#sk-container-id-5 div.sk-parallel-item::after {content: \"\";width: 100%;border-bottom: 1px solid gray;flex-grow: 1;}#sk-container-id-5 div.sk-label:hover label.sk-toggleable__label {background-color: #d4ebff;}#sk-container-id-5 div.sk-serial::before {content: \"\";position: absolute;border-left: 1px solid gray;box-sizing: border-box;top: 0;bottom: 0;left: 50%;z-index: 0;}#sk-container-id-5 div.sk-serial {display: flex;flex-direction: column;align-items: center;background-color: white;padding-right: 0.2em;padding-left: 0.2em;position: relative;}#sk-container-id-5 div.sk-item {position: relative;z-index: 1;}#sk-container-id-5 div.sk-parallel {display: flex;align-items: stretch;justify-content: center;background-color: white;position: relative;}#sk-container-id-5 div.sk-item::before, #sk-container-id-5 div.sk-parallel-item::before {content: \"\";position: absolute;border-left: 1px solid gray;box-sizing: border-box;top: 0;bottom: 0;left: 50%;z-index: -1;}#sk-container-id-5 div.sk-parallel-item {display: flex;flex-direction: column;z-index: 1;position: relative;background-color: white;}#sk-container-id-5 div.sk-parallel-item:first-child::after {align-self: flex-end;width: 50%;}#sk-container-id-5 div.sk-parallel-item:last-child::after {align-self: flex-start;width: 50%;}#sk-container-id-5 div.sk-parallel-item:only-child::after {width: 0;}#sk-container-id-5 div.sk-dashed-wrapped {border: 1px dashed gray;margin: 0 0.4em 0.5em 0.4em;box-sizing: border-box;padding-bottom: 0.4em;background-color: white;}#sk-container-id-5 div.sk-label label {font-family: monospace;font-weight: bold;display: inline-block;line-height: 1.2em;}#sk-container-id-5 div.sk-label-container {text-align: center;}#sk-container-id-5 div.sk-container {/* jupyter's `normalize.less` sets `[hidden] { display: none; }` but bootstrap.min.css set `[hidden] { display: none !important; }` so we also need the `!important` here to be able to override the default hidden behavior on the sphinx rendered scikit-learn.org. See: https://github.com/scikit-learn/scikit-learn/issues/21755 */display: inline-block !important;position: relative;}#sk-container-id-5 div.sk-text-repr-fallback {display: none;}</style><div id=\"sk-container-id-5\" class=\"sk-top-container\"><div class=\"sk-text-repr-fallback\"><pre>Pipeline(steps=[(&#x27;vect&#x27;, CountVectorizer(ngram_range=(1, 5))),\n",
              "                (&#x27;tfidf&#x27;, TfidfTransformer()), (&#x27;clf&#x27;, LogisticRegression())])</pre><b>In a Jupyter environment, please rerun this cell to show the HTML representation or trust the notebook. <br />On GitHub, the HTML representation is unable to render, please try loading this page with nbviewer.org.</b></div><div class=\"sk-container\" hidden><div class=\"sk-item sk-dashed-wrapped\"><div class=\"sk-label-container\"><div class=\"sk-label sk-toggleable\"><input class=\"sk-toggleable__control sk-hidden--visually\" id=\"sk-estimator-id-17\" type=\"checkbox\" ><label for=\"sk-estimator-id-17\" class=\"sk-toggleable__label sk-toggleable__label-arrow\">Pipeline</label><div class=\"sk-toggleable__content\"><pre>Pipeline(steps=[(&#x27;vect&#x27;, CountVectorizer(ngram_range=(1, 5))),\n",
              "                (&#x27;tfidf&#x27;, TfidfTransformer()), (&#x27;clf&#x27;, LogisticRegression())])</pre></div></div></div><div class=\"sk-serial\"><div class=\"sk-item\"><div class=\"sk-estimator sk-toggleable\"><input class=\"sk-toggleable__control sk-hidden--visually\" id=\"sk-estimator-id-18\" type=\"checkbox\" ><label for=\"sk-estimator-id-18\" class=\"sk-toggleable__label sk-toggleable__label-arrow\">CountVectorizer</label><div class=\"sk-toggleable__content\"><pre>CountVectorizer(ngram_range=(1, 5))</pre></div></div></div><div class=\"sk-item\"><div class=\"sk-estimator sk-toggleable\"><input class=\"sk-toggleable__control sk-hidden--visually\" id=\"sk-estimator-id-19\" type=\"checkbox\" ><label for=\"sk-estimator-id-19\" class=\"sk-toggleable__label sk-toggleable__label-arrow\">TfidfTransformer</label><div class=\"sk-toggleable__content\"><pre>TfidfTransformer()</pre></div></div></div><div class=\"sk-item\"><div class=\"sk-estimator sk-toggleable\"><input class=\"sk-toggleable__control sk-hidden--visually\" id=\"sk-estimator-id-20\" type=\"checkbox\" ><label for=\"sk-estimator-id-20\" class=\"sk-toggleable__label sk-toggleable__label-arrow\">LogisticRegression</label><div class=\"sk-toggleable__content\"><pre>LogisticRegression()</pre></div></div></div></div></div></div></div>"
            ]
          },
          "metadata": {},
          "execution_count": 87
        }
      ],
      "source": [
        "# Algorithm training X_train, X_test, y_train, y_test\n",
        "lr_model = lr_pipeline.fit(X_train.values.astype('U'), y_train.values.astype('int64'))\n",
        "lr_model"
      ]
    },
    {
      "cell_type": "code",
      "execution_count": 88,
      "id": "fa8b27dc-2d1a-4a5e-be0e-48d5bf3701e0",
      "metadata": {
        "colab": {
          "base_uri": "https://localhost:8080/"
        },
        "id": "fa8b27dc-2d1a-4a5e-be0e-48d5bf3701e0",
        "outputId": "11012771-6b70-4bdf-c85d-c74c1f73dbb1"
      },
      "outputs": [
        {
          "output_type": "execute_result",
          "data": {
            "text/plain": [
              "array([-1,  0,  1])"
            ]
          },
          "metadata": {},
          "execution_count": 88
        }
      ],
      "source": [
        "y_pred = lr_model.predict(X_test.values.astype('U'))\n",
        "lr_model.classes_"
      ]
    },
    {
      "cell_type": "code",
      "execution_count": 89,
      "id": "535cde6c-3579-438e-bd10-432affb6b948",
      "metadata": {
        "colab": {
          "base_uri": "https://localhost:8080/"
        },
        "id": "535cde6c-3579-438e-bd10-432affb6b948",
        "outputId": "42b7859d-b39a-4671-b1ea-e783ee9fa4c1",
        "tags": []
      },
      "outputs": [
        {
          "output_type": "stream",
          "name": "stdout",
          "text": [
            "[[782 184   0]\n",
            " [303 379   0]\n",
            " [ 72  34   0]]\n"
          ]
        }
      ],
      "source": [
        "cm = confusion_matrix(y_test, y_pred, labels=lr_model.classes_)\n",
        "print(cm)"
      ]
    },
    {
      "cell_type": "code",
      "execution_count": 90,
      "id": "82844cb8-dda7-4348-8a23-cbf8e5df33f6",
      "metadata": {
        "colab": {
          "base_uri": "https://localhost:8080/",
          "height": 296
        },
        "id": "82844cb8-dda7-4348-8a23-cbf8e5df33f6",
        "outputId": "8a3da86d-8651-4a36-dc85-4eb0e31b1ad5",
        "tags": []
      },
      "outputs": [
        {
          "output_type": "execute_result",
          "data": {
            "text/plain": [
              "<sklearn.metrics._plot.confusion_matrix.ConfusionMatrixDisplay at 0x7f1a33a425b0>"
            ]
          },
          "metadata": {},
          "execution_count": 90
        },
        {
          "output_type": "display_data",
          "data": {
            "text/plain": [
              "<Figure size 432x288 with 2 Axes>"
            ],
            "image/png": "[encoded data removed]"
          },
          "metadata": {
            "needs_background": "light"
          }
        }
      ],
      "source": [
        "cm_dsp=ConfusionMatrixDisplay(confusion_matrix=cm, display_labels=['Negatives', 'Neutral', 'Positive'])\n",
        "cm_dsp.plot()"
      ]
    },
    {
      "cell_type": "code",
      "execution_count": 91,
      "id": "e69d986b-1336-4ab2-9750-8c490e6ee0bc",
      "metadata": {
        "colab": {
          "base_uri": "https://localhost:8080/"
        },
        "id": "e69d986b-1336-4ab2-9750-8c490e6ee0bc",
        "outputId": "7b0663a5-dde9-4382-90aa-ec4c9677fc60",
        "tags": []
      },
      "outputs": [
        {
          "output_type": "stream",
          "name": "stdout",
          "text": [
            "Model Score: 0.6619156214367161\n",
            "Model Score: 66.19%\n",
            "\n",
            "Accuracy: 0.6619156214367161\n",
            "Accuracy: 66.19%\n",
            "\n",
            "F1-score: 0.4431146222215183\n",
            "F1-score: 44.31%\n",
            "\n",
            "CPU times and Wall time: \n",
            "CPU times: user 228 ms, sys: 0 ns, total: 228 ms\n",
            "Wall time: 228 ms\n"
          ]
        }
      ],
      "source": [
        "%%time\n",
        "\n",
        "#predicting \n",
        "y_pred = lr_model.predict(X_test.values.astype('U'))\n",
        "\n",
        "model_score = lr_model.score(X_test.values.astype('U'), y_test.values.astype('int64'))\n",
        "print(f'Model Score: {model_score}')\n",
        "print(f'Model Score: {model_score*100:.2f}%')\n",
        "accuracy = accuracy_score(y_test, y_pred)\n",
        "print()\n",
        "print(f\"Accuracy: {accuracy}\")\n",
        "print(f\"Accuracy: {accuracy*100:.2f}%\")\n",
        "print()\n",
        "f1 = f1_score(y_test, y_pred, average='macro')\n",
        "print(f\"F1-score: {f1}\")\n",
        "print(f\"F1-score: {f1*100:.2f}%\")\n",
        "print()\n",
        "print(\"CPU times and Wall time: \")"
      ]
    },
    {
      "cell_type": "code",
      "execution_count": 92,
      "id": "c339c5a7-424f-4f4d-ae17-6321bd13a317",
      "metadata": {
        "colab": {
          "base_uri": "https://localhost:8080/"
        },
        "id": "c339c5a7-424f-4f4d-ae17-6321bd13a317",
        "outputId": "f408e4b2-3ee7-4ca5-97b7-31a6945307ea"
      },
      "outputs": [
        {
          "output_type": "execute_result",
          "data": {
            "text/plain": [
              "['models/Logistic regression_model_score_66.19.pkl']"
            ]
          },
          "metadata": {},
          "execution_count": 92
        }
      ],
      "source": [
        "# Save to file / directory\n",
        "joblib_file = \"models/Logistic regression_model_score_\"+ str(round(accuracy*100,2))+\".pkl\"\n",
        "joblib.dump(kn_model, joblib_file)"
      ]
    },
    {
      "cell_type": "markdown",
      "id": "0c97d430-6c91-41cb-91b0-e929668f38b3",
      "metadata": {
        "id": "0c97d430-6c91-41cb-91b0-e929668f38b3"
      },
      "source": [
        "# 4.6 GRADIENT BOOSTING CLASSIFIER"
      ]
    },
    {
      "cell_type": "code",
      "execution_count": 93,
      "id": "b6df35e1-bcf3-4397-badb-491f992f95c8",
      "metadata": {
        "id": "b6df35e1-bcf3-4397-badb-491f992f95c8"
      },
      "outputs": [],
      "source": [
        "# Initialize a vectorization and modelling pipeline\n",
        "gd_pipeline = Pipeline([\n",
        "     ('vect', CountVectorizer(ngram_range=(1,1))),\n",
        "     ('tfidf', TfidfTransformer()),\n",
        "     ('clf', GradientBoostingClassifier()), \n",
        " ])"
      ]
    },
    {
      "cell_type": "code",
      "execution_count": 94,
      "id": "00c75729-2b87-49a9-95d5-ea22932a36b3",
      "metadata": {
        "colab": {
          "base_uri": "https://localhost:8080/",
          "height": 161
        },
        "id": "00c75729-2b87-49a9-95d5-ea22932a36b3",
        "outputId": "3fd0db98-b8be-410a-ac46-c38b4dc1d259"
      },
      "outputs": [
        {
          "output_type": "execute_result",
          "data": {
            "text/plain": [
              "Pipeline(steps=[('vect', CountVectorizer()), ('tfidf', TfidfTransformer()),\n",
              "                ('clf', GradientBoostingClassifier())])"
            ],
            "text/html": [
              "<style>#sk-container-id-6 {color: black;background-color: white;}#sk-container-id-6 pre{padding: 0;}#sk-container-id-6 div.sk-toggleable {background-color: white;}#sk-container-id-6 label.sk-toggleable__label {cursor: pointer;display: block;width: 100%;margin-bottom: 0;padding: 0.3em;box-sizing: border-box;text-align: center;}#sk-container-id-6 label.sk-toggleable__label-arrow:before {content: \"▸\";float: left;margin-right: 0.25em;color: #696969;}#sk-container-id-6 label.sk-toggleable__label-arrow:hover:before {color: black;}#sk-container-id-6 div.sk-estimator:hover label.sk-toggleable__label-arrow:before {color: black;}#sk-container-id-6 div.sk-toggleable__content {max-height: 0;max-width: 0;overflow: hidden;text-align: left;background-color: #f0f8ff;}#sk-container-id-6 div.sk-toggleable__content pre {margin: 0.2em;color: black;border-radius: 0.25em;background-color: #f0f8ff;}#sk-container-id-6 input.sk-toggleable__control:checked~div.sk-toggleable__content {max-height: 200px;max-width: 100%;overflow: auto;}#sk-container-id-6 input.sk-toggleable__control:checked~label.sk-toggleable__label-arrow:before {content: \"▾\";}#sk-container-id-6 div.sk-estimator input.sk-toggleable__control:checked~label.sk-toggleable__label {background-color: #d4ebff;}#sk-container-id-6 div.sk-label input.sk-toggleable__control:checked~label.sk-toggleable__label {background-color: #d4ebff;}#sk-container-id-6 input.sk-hidden--visually {border: 0;clip: rect(1px 1px 1px 1px);clip: rect(1px, 1px, 1px, 1px);height: 1px;margin: -1px;overflow: hidden;padding: 0;position: absolute;width: 1px;}#sk-container-id-6 div.sk-estimator {font-family: monospace;background-color: #f0f8ff;border: 1px dotted black;border-radius: 0.25em;box-sizing: border-box;margin-bottom: 0.5em;}#sk-container-id-6 div.sk-estimator:hover {background-color: #d4ebff;}#sk-container-id-6 div.sk-parallel-item::after {content: \"\";width: 100%;border-bottom: 1px solid gray;flex-grow: 1;}#sk-container-id-6 div.sk-label:hover label.sk-toggleable__label {background-color: #d4ebff;}#sk-container-id-6 div.sk-serial::before {content: \"\";position: absolute;border-left: 1px solid gray;box-sizing: border-box;top: 0;bottom: 0;left: 50%;z-index: 0;}#sk-container-id-6 div.sk-serial {display: flex;flex-direction: column;align-items: center;background-color: white;padding-right: 0.2em;padding-left: 0.2em;position: relative;}#sk-container-id-6 div.sk-item {position: relative;z-index: 1;}#sk-container-id-6 div.sk-parallel {display: flex;align-items: stretch;justify-content: center;background-color: white;position: relative;}#sk-container-id-6 div.sk-item::before, #sk-container-id-6 div.sk-parallel-item::before {content: \"\";position: absolute;border-left: 1px solid gray;box-sizing: border-box;top: 0;bottom: 0;left: 50%;z-index: -1;}#sk-container-id-6 div.sk-parallel-item {display: flex;flex-direction: column;z-index: 1;position: relative;background-color: white;}#sk-container-id-6 div.sk-parallel-item:first-child::after {align-self: flex-end;width: 50%;}#sk-container-id-6 div.sk-parallel-item:last-child::after {align-self: flex-start;width: 50%;}#sk-container-id-6 div.sk-parallel-item:only-child::after {width: 0;}#sk-container-id-6 div.sk-dashed-wrapped {border: 1px dashed gray;margin: 0 0.4em 0.5em 0.4em;box-sizing: border-box;padding-bottom: 0.4em;background-color: white;}#sk-container-id-6 div.sk-label label {font-family: monospace;font-weight: bold;display: inline-block;line-height: 1.2em;}#sk-container-id-6 div.sk-label-container {text-align: center;}#sk-container-id-6 div.sk-container {/* jupyter's `normalize.less` sets `[hidden] { display: none; }` but bootstrap.min.css set `[hidden] { display: none !important; }` so we also need the `!important` here to be able to override the default hidden behavior on the sphinx rendered scikit-learn.org. See: https://github.com/scikit-learn/scikit-learn/issues/21755 */display: inline-block !important;position: relative;}#sk-container-id-6 div.sk-text-repr-fallback {display: none;}</style><div id=\"sk-container-id-6\" class=\"sk-top-container\"><div class=\"sk-text-repr-fallback\"><pre>Pipeline(steps=[(&#x27;vect&#x27;, CountVectorizer()), (&#x27;tfidf&#x27;, TfidfTransformer()),\n",
              "                (&#x27;clf&#x27;, GradientBoostingClassifier())])</pre><b>In a Jupyter environment, please rerun this cell to show the HTML representation or trust the notebook. <br />On GitHub, the HTML representation is unable to render, please try loading this page with nbviewer.org.</b></div><div class=\"sk-container\" hidden><div class=\"sk-item sk-dashed-wrapped\"><div class=\"sk-label-container\"><div class=\"sk-label sk-toggleable\"><input class=\"sk-toggleable__control sk-hidden--visually\" id=\"sk-estimator-id-21\" type=\"checkbox\" ><label for=\"sk-estimator-id-21\" class=\"sk-toggleable__label sk-toggleable__label-arrow\">Pipeline</label><div class=\"sk-toggleable__content\"><pre>Pipeline(steps=[(&#x27;vect&#x27;, CountVectorizer()), (&#x27;tfidf&#x27;, TfidfTransformer()),\n",
              "                (&#x27;clf&#x27;, GradientBoostingClassifier())])</pre></div></div></div><div class=\"sk-serial\"><div class=\"sk-item\"><div class=\"sk-estimator sk-toggleable\"><input class=\"sk-toggleable__control sk-hidden--visually\" id=\"sk-estimator-id-22\" type=\"checkbox\" ><label for=\"sk-estimator-id-22\" class=\"sk-toggleable__label sk-toggleable__label-arrow\">CountVectorizer</label><div class=\"sk-toggleable__content\"><pre>CountVectorizer()</pre></div></div></div><div class=\"sk-item\"><div class=\"sk-estimator sk-toggleable\"><input class=\"sk-toggleable__control sk-hidden--visually\" id=\"sk-estimator-id-23\" type=\"checkbox\" ><label for=\"sk-estimator-id-23\" class=\"sk-toggleable__label sk-toggleable__label-arrow\">TfidfTransformer</label><div class=\"sk-toggleable__content\"><pre>TfidfTransformer()</pre></div></div></div><div class=\"sk-item\"><div class=\"sk-estimator sk-toggleable\"><input class=\"sk-toggleable__control sk-hidden--visually\" id=\"sk-estimator-id-24\" type=\"checkbox\" ><label for=\"sk-estimator-id-24\" class=\"sk-toggleable__label sk-toggleable__label-arrow\">GradientBoostingClassifier</label><div class=\"sk-toggleable__content\"><pre>GradientBoostingClassifier()</pre></div></div></div></div></div></div></div>"
            ]
          },
          "metadata": {},
          "execution_count": 94
        }
      ],
      "source": [
        "# Algorithm training X_train, X_test, y_train, y_test\n",
        "gd_model = gd_pipeline.fit(X_train.values.astype('U'), y_train.values.astype('int64'))\n",
        "gd_model"
      ]
    },
    {
      "cell_type": "code",
      "execution_count": 95,
      "id": "48bc3d8e-c29e-4ea2-8935-bb52c35c44df",
      "metadata": {
        "colab": {
          "base_uri": "https://localhost:8080/"
        },
        "id": "48bc3d8e-c29e-4ea2-8935-bb52c35c44df",
        "outputId": "a667cd01-70ff-48be-c6f0-413c4f4f626f",
        "tags": []
      },
      "outputs": [
        {
          "output_type": "execute_result",
          "data": {
            "text/plain": [
              "array([-1,  0,  1])"
            ]
          },
          "metadata": {},
          "execution_count": 95
        }
      ],
      "source": [
        "y_pred = gd_model.predict(X_test.values.astype('U'))\n",
        "gd_model.classes_"
      ]
    },
    {
      "cell_type": "code",
      "execution_count": 96,
      "id": "7f9e1ea1-b79a-4bb5-8fa4-e0aeda1650ef",
      "metadata": {
        "colab": {
          "base_uri": "https://localhost:8080/"
        },
        "id": "7f9e1ea1-b79a-4bb5-8fa4-e0aeda1650ef",
        "outputId": "539e1d1e-5013-4ff8-e80b-6e1a9a668a18",
        "tags": []
      },
      "outputs": [
        {
          "output_type": "stream",
          "name": "stdout",
          "text": [
            "[[776 184   6]\n",
            " [356 322   4]\n",
            " [ 69  31   6]]\n"
          ]
        }
      ],
      "source": [
        "cm = confusion_matrix(y_test, y_pred, labels=gd_model.classes_)\n",
        "print(cm)"
      ]
    },
    {
      "cell_type": "code",
      "execution_count": 97,
      "id": "655ba664-3b1e-4b3c-9e4c-4c2274600797",
      "metadata": {
        "colab": {
          "base_uri": "https://localhost:8080/",
          "height": 296
        },
        "id": "655ba664-3b1e-4b3c-9e4c-4c2274600797",
        "outputId": "79de0343-6070-42ff-97c6-cb228517bcc7",
        "tags": []
      },
      "outputs": [
        {
          "output_type": "execute_result",
          "data": {
            "text/plain": [
              "<sklearn.metrics._plot.confusion_matrix.ConfusionMatrixDisplay at 0x7f1a21ccc340>"
            ]
          },
          "metadata": {},
          "execution_count": 97
        },
        {
          "output_type": "display_data",
          "data": {
            "text/plain": [
              "<Figure size 432x288 with 2 Axes>"
            ],
            "image/png": "[encoded data removed]"
          },
          "metadata": {
            "needs_background": "light"
          }
        }
      ],
      "source": [
        "cm_dsp=ConfusionMatrixDisplay(confusion_matrix=cm, display_labels=['Negatives', 'Neutral', 'Positive'])\n",
        "cm_dsp.plot()"
      ]
    },
    {
      "cell_type": "code",
      "execution_count": 98,
      "id": "abf2f754-8bfe-49ab-9af4-de6dcc5edb15",
      "metadata": {
        "colab": {
          "base_uri": "https://localhost:8080/"
        },
        "id": "abf2f754-8bfe-49ab-9af4-de6dcc5edb15",
        "outputId": "b2d1b9f0-8bb7-4fa2-9cf2-9c6de31d66f1",
        "tags": []
      },
      "outputs": [
        {
          "output_type": "stream",
          "name": "stdout",
          "text": [
            "Model Score: 0.629418472063854\n",
            "Model Score: 62.94%\n",
            "\n",
            "Accuracy: 0.629418472063854\n",
            "Accuracy: 62.94%\n",
            "\n",
            "F1-score: 0.44762001686861286\n",
            "F1-score: 44.76%\n",
            "\n",
            "CPU times and Wall time: \n",
            "CPU times: user 99.7 ms, sys: 1.12 ms, total: 101 ms\n",
            "Wall time: 101 ms\n"
          ]
        }
      ],
      "source": [
        "%%time\n",
        "\n",
        "#predicting \n",
        "y_pred = gd_model.predict(X_test.values.astype('U'))\n",
        "\n",
        "model_score = gd_model.score(X_test.values.astype('U'), y_test.values.astype('int64'))\n",
        "print(f'Model Score: {model_score}')\n",
        "print(f'Model Score: {model_score*100:.2f}%')\n",
        "accuracy = accuracy_score(y_test, y_pred)\n",
        "print()\n",
        "print(f\"Accuracy: {accuracy}\")\n",
        "print(f\"Accuracy: {accuracy*100:.2f}%\")\n",
        "print()\n",
        "f1 = f1_score(y_test, y_pred, average='macro')\n",
        "print(f\"F1-score: {f1}\")\n",
        "print(f\"F1-score: {f1*100:.2f}%\")\n",
        "print()\n",
        "print(\"CPU times and Wall time: \")"
      ]
    },
    {
      "cell_type": "code",
      "execution_count": 99,
      "id": "e64ad1f8-c324-44bc-9d33-0e1832f65fc2",
      "metadata": {
        "colab": {
          "base_uri": "https://localhost:8080/"
        },
        "id": "e64ad1f8-c324-44bc-9d33-0e1832f65fc2",
        "outputId": "3528e134-66cc-4c64-d34a-4ee926d34868"
      },
      "outputs": [
        {
          "output_type": "execute_result",
          "data": {
            "text/plain": [
              "['models/GradientBoostingClassifier_model_score_62.94.pkl']"
            ]
          },
          "metadata": {},
          "execution_count": 99
        }
      ],
      "source": [
        "# Save to file / directory\n",
        "joblib_file = \"models/GradientBoostingClassifier_model_score_\"+ str(round(accuracy*100,2))+\".pkl\"\n",
        "joblib.dump(gd_model, joblib_file)"
      ]
    },
    {
      "cell_type": "markdown",
      "id": "f1279b11-ca8c-49f2-bc3a-5a06ba504561",
      "metadata": {
        "id": "f1279b11-ca8c-49f2-bc3a-5a06ba504561"
      },
      "source": [
        "# 4.7 MULTINOMIALNB"
      ]
    },
    {
      "cell_type": "code",
      "execution_count": 100,
      "id": "468d1350-14b9-4c4d-a658-41aa3d86958a",
      "metadata": {
        "id": "468d1350-14b9-4c4d-a658-41aa3d86958a"
      },
      "outputs": [],
      "source": [
        "# Initialize a vectorization and modelling pipeline\n",
        "mnb_pipeline = Pipeline([\n",
        "     ('vect', CountVectorizer(ngram_range=(1,1))),\n",
        "     ('tfidf', TfidfTransformer()),\n",
        "     ('clf', MultinomialNB()), \n",
        " ])"
      ]
    },
    {
      "cell_type": "code",
      "execution_count": 101,
      "id": "eafbdaca-81c0-49a0-aab9-aeeca501e44c",
      "metadata": {
        "colab": {
          "base_uri": "https://localhost:8080/",
          "height": 161
        },
        "id": "eafbdaca-81c0-49a0-aab9-aeeca501e44c",
        "outputId": "1679be16-70cd-4c77-95e7-913feb7c9f40"
      },
      "outputs": [
        {
          "output_type": "execute_result",
          "data": {
            "text/plain": [
              "Pipeline(steps=[('vect', CountVectorizer()), ('tfidf', TfidfTransformer()),\n",
              "                ('clf', MultinomialNB())])"
            ],
            "text/html": [
              "<style>#sk-container-id-7 {color: black;background-color: white;}#sk-container-id-7 pre{padding: 0;}#sk-container-id-7 div.sk-toggleable {background-color: white;}#sk-container-id-7 label.sk-toggleable__label {cursor: pointer;display: block;width: 100%;margin-bottom: 0;padding: 0.3em;box-sizing: border-box;text-align: center;}#sk-container-id-7 label.sk-toggleable__label-arrow:before {content: \"▸\";float: left;margin-right: 0.25em;color: #696969;}#sk-container-id-7 label.sk-toggleable__label-arrow:hover:before {color: black;}#sk-container-id-7 div.sk-estimator:hover label.sk-toggleable__label-arrow:before {color: black;}#sk-container-id-7 div.sk-toggleable__content {max-height: 0;max-width: 0;overflow: hidden;text-align: left;background-color: #f0f8ff;}#sk-container-id-7 div.sk-toggleable__content pre {margin: 0.2em;color: black;border-radius: 0.25em;background-color: #f0f8ff;}#sk-container-id-7 input.sk-toggleable__control:checked~div.sk-toggleable__content {max-height: 200px;max-width: 100%;overflow: auto;}#sk-container-id-7 input.sk-toggleable__control:checked~label.sk-toggleable__label-arrow:before {content: \"▾\";}#sk-container-id-7 div.sk-estimator input.sk-toggleable__control:checked~label.sk-toggleable__label {background-color: #d4ebff;}#sk-container-id-7 div.sk-label input.sk-toggleable__control:checked~label.sk-toggleable__label {background-color: #d4ebff;}#sk-container-id-7 input.sk-hidden--visually {border: 0;clip: rect(1px 1px 1px 1px);clip: rect(1px, 1px, 1px, 1px);height: 1px;margin: -1px;overflow: hidden;padding: 0;position: absolute;width: 1px;}#sk-container-id-7 div.sk-estimator {font-family: monospace;background-color: #f0f8ff;border: 1px dotted black;border-radius: 0.25em;box-sizing: border-box;margin-bottom: 0.5em;}#sk-container-id-7 div.sk-estimator:hover {background-color: #d4ebff;}#sk-container-id-7 div.sk-parallel-item::after {content: \"\";width: 100%;border-bottom: 1px solid gray;flex-grow: 1;}#sk-container-id-7 div.sk-label:hover label.sk-toggleable__label {background-color: #d4ebff;}#sk-container-id-7 div.sk-serial::before {content: \"\";position: absolute;border-left: 1px solid gray;box-sizing: border-box;top: 0;bottom: 0;left: 50%;z-index: 0;}#sk-container-id-7 div.sk-serial {display: flex;flex-direction: column;align-items: center;background-color: white;padding-right: 0.2em;padding-left: 0.2em;position: relative;}#sk-container-id-7 div.sk-item {position: relative;z-index: 1;}#sk-container-id-7 div.sk-parallel {display: flex;align-items: stretch;justify-content: center;background-color: white;position: relative;}#sk-container-id-7 div.sk-item::before, #sk-container-id-7 div.sk-parallel-item::before {content: \"\";position: absolute;border-left: 1px solid gray;box-sizing: border-box;top: 0;bottom: 0;left: 50%;z-index: -1;}#sk-container-id-7 div.sk-parallel-item {display: flex;flex-direction: column;z-index: 1;position: relative;background-color: white;}#sk-container-id-7 div.sk-parallel-item:first-child::after {align-self: flex-end;width: 50%;}#sk-container-id-7 div.sk-parallel-item:last-child::after {align-self: flex-start;width: 50%;}#sk-container-id-7 div.sk-parallel-item:only-child::after {width: 0;}#sk-container-id-7 div.sk-dashed-wrapped {border: 1px dashed gray;margin: 0 0.4em 0.5em 0.4em;box-sizing: border-box;padding-bottom: 0.4em;background-color: white;}#sk-container-id-7 div.sk-label label {font-family: monospace;font-weight: bold;display: inline-block;line-height: 1.2em;}#sk-container-id-7 div.sk-label-container {text-align: center;}#sk-container-id-7 div.sk-container {/* jupyter's `normalize.less` sets `[hidden] { display: none; }` but bootstrap.min.css set `[hidden] { display: none !important; }` so we also need the `!important` here to be able to override the default hidden behavior on the sphinx rendered scikit-learn.org. See: https://github.com/scikit-learn/scikit-learn/issues/21755 */display: inline-block !important;position: relative;}#sk-container-id-7 div.sk-text-repr-fallback {display: none;}</style><div id=\"sk-container-id-7\" class=\"sk-top-container\"><div class=\"sk-text-repr-fallback\"><pre>Pipeline(steps=[(&#x27;vect&#x27;, CountVectorizer()), (&#x27;tfidf&#x27;, TfidfTransformer()),\n",
              "                (&#x27;clf&#x27;, MultinomialNB())])</pre><b>In a Jupyter environment, please rerun this cell to show the HTML representation or trust the notebook. <br />On GitHub, the HTML representation is unable to render, please try loading this page with nbviewer.org.</b></div><div class=\"sk-container\" hidden><div class=\"sk-item sk-dashed-wrapped\"><div class=\"sk-label-container\"><div class=\"sk-label sk-toggleable\"><input class=\"sk-toggleable__control sk-hidden--visually\" id=\"sk-estimator-id-25\" type=\"checkbox\" ><label for=\"sk-estimator-id-25\" class=\"sk-toggleable__label sk-toggleable__label-arrow\">Pipeline</label><div class=\"sk-toggleable__content\"><pre>Pipeline(steps=[(&#x27;vect&#x27;, CountVectorizer()), (&#x27;tfidf&#x27;, TfidfTransformer()),\n",
              "                (&#x27;clf&#x27;, MultinomialNB())])</pre></div></div></div><div class=\"sk-serial\"><div class=\"sk-item\"><div class=\"sk-estimator sk-toggleable\"><input class=\"sk-toggleable__control sk-hidden--visually\" id=\"sk-estimator-id-26\" type=\"checkbox\" ><label for=\"sk-estimator-id-26\" class=\"sk-toggleable__label sk-toggleable__label-arrow\">CountVectorizer</label><div class=\"sk-toggleable__content\"><pre>CountVectorizer()</pre></div></div></div><div class=\"sk-item\"><div class=\"sk-estimator sk-toggleable\"><input class=\"sk-toggleable__control sk-hidden--visually\" id=\"sk-estimator-id-27\" type=\"checkbox\" ><label for=\"sk-estimator-id-27\" class=\"sk-toggleable__label sk-toggleable__label-arrow\">TfidfTransformer</label><div class=\"sk-toggleable__content\"><pre>TfidfTransformer()</pre></div></div></div><div class=\"sk-item\"><div class=\"sk-estimator sk-toggleable\"><input class=\"sk-toggleable__control sk-hidden--visually\" id=\"sk-estimator-id-28\" type=\"checkbox\" ><label for=\"sk-estimator-id-28\" class=\"sk-toggleable__label sk-toggleable__label-arrow\">MultinomialNB</label><div class=\"sk-toggleable__content\"><pre>MultinomialNB()</pre></div></div></div></div></div></div></div>"
            ]
          },
          "metadata": {},
          "execution_count": 101
        }
      ],
      "source": [
        "# Algorithm training X_train, X_test, y_train, y_test\n",
        "mnb_model = mnb_pipeline.fit(X_train.values.astype('U'), y_train.values.astype('int64'))\n",
        "mnb_model"
      ]
    },
    {
      "cell_type": "code",
      "execution_count": 102,
      "id": "76d0eb39-cf85-487f-b645-af359d94885a",
      "metadata": {
        "colab": {
          "base_uri": "https://localhost:8080/"
        },
        "id": "76d0eb39-cf85-487f-b645-af359d94885a",
        "outputId": "5c6b8e69-2a7b-4538-842a-e3f65e1a0c2b",
        "tags": []
      },
      "outputs": [
        {
          "output_type": "execute_result",
          "data": {
            "text/plain": [
              "array([-1,  0,  1])"
            ]
          },
          "metadata": {},
          "execution_count": 102
        }
      ],
      "source": [
        "y_pred = mnb_model.predict(X_test.values.astype('U'))\n",
        "mnb_model.classes_"
      ]
    },
    {
      "cell_type": "code",
      "execution_count": 103,
      "id": "954f54b8-87e9-4562-b211-840aa018a6e5",
      "metadata": {
        "colab": {
          "base_uri": "https://localhost:8080/"
        },
        "id": "954f54b8-87e9-4562-b211-840aa018a6e5",
        "outputId": "c54a6385-53b5-46e1-a774-249a1e43fbdb",
        "tags": []
      },
      "outputs": [
        {
          "output_type": "stream",
          "name": "stdout",
          "text": [
            "[[845 121   0]\n",
            " [397 285   0]\n",
            " [ 80  26   0]]\n"
          ]
        }
      ],
      "source": [
        "cm = confusion_matrix(y_test, y_pred, labels=mnb_model.classes_)\n",
        "print(cm)"
      ]
    },
    {
      "cell_type": "code",
      "execution_count": 104,
      "id": "c3fbd10b-374d-4b18-a80d-97177e004798",
      "metadata": {
        "colab": {
          "base_uri": "https://localhost:8080/",
          "height": 296
        },
        "id": "c3fbd10b-374d-4b18-a80d-97177e004798",
        "outputId": "c44c1052-a4db-44b5-972a-1515d609ec47",
        "tags": []
      },
      "outputs": [
        {
          "output_type": "execute_result",
          "data": {
            "text/plain": [
              "<sklearn.metrics._plot.confusion_matrix.ConfusionMatrixDisplay at 0x7f1a2ca1a070>"
            ]
          },
          "metadata": {},
          "execution_count": 104
        },
        {
          "output_type": "display_data",
          "data": {
            "text/plain": [
              "<Figure size 432x288 with 2 Axes>"
            ],
            "image/png": "[encoded data removed]"
          },
          "metadata": {
            "needs_background": "light"
          }
        }
      ],
      "source": [
        "cm_dsp=ConfusionMatrixDisplay(confusion_matrix=cm, display_labels=['Negatives', 'Neutral', 'Positive'])\n",
        "cm_dsp.plot()"
      ]
    },
    {
      "cell_type": "code",
      "execution_count": 105,
      "id": "fed5fe5e-9f36-465e-9c03-e1101142e923",
      "metadata": {
        "colab": {
          "base_uri": "https://localhost:8080/"
        },
        "id": "fed5fe5e-9f36-465e-9c03-e1101142e923",
        "outputId": "336853d5-9b98-4401-ea80-4cb1aff2820c",
        "tags": []
      },
      "outputs": [
        {
          "output_type": "stream",
          "name": "stdout",
          "text": [
            "Model Score: 0.6442417331812998\n",
            "Model Score: 64.42%\n",
            "\n",
            "Accuracy: 0.6442417331812998\n",
            "Accuracy: 64.42%\n",
            "\n",
            "F1-score: 0.4167686741744192\n",
            "F1-score: 41.68%\n",
            "\n",
            "CPU times and Wall time: \n",
            "CPU times: user 117 ms, sys: 0 ns, total: 117 ms\n",
            "Wall time: 117 ms\n"
          ]
        }
      ],
      "source": [
        "%%time\n",
        "\n",
        "#predicting \n",
        "y_pred = mnb_model.predict(X_test.values.astype('U'))\n",
        "\n",
        "model_score = mnb_model.score(X_test.values.astype('U'), y_test.values.astype('int64'))\n",
        "print(f'Model Score: {model_score}')\n",
        "print(f'Model Score: {model_score*100:.2f}%')\n",
        "accuracy = accuracy_score(y_test, y_pred)\n",
        "print()\n",
        "print(f\"Accuracy: {accuracy}\")\n",
        "print(f\"Accuracy: {accuracy*100:.2f}%\")\n",
        "print()\n",
        "f1 = f1_score(y_test, y_pred, average='macro')\n",
        "print(f\"F1-score: {f1}\")\n",
        "print(f\"F1-score: {f1*100:.2f}%\")\n",
        "print()\n",
        "print(\"CPU times and Wall time: \")"
      ]
    },
    {
      "cell_type": "code",
      "execution_count": 106,
      "id": "8de6463d-a132-4e7a-8f76-612a41ba7dda",
      "metadata": {
        "colab": {
          "base_uri": "https://localhost:8080/"
        },
        "id": "8de6463d-a132-4e7a-8f76-612a41ba7dda",
        "outputId": "607afc44-c517-4bf2-c2df-ec8b3cde7862"
      },
      "outputs": [
        {
          "output_type": "execute_result",
          "data": {
            "text/plain": [
              "['models/MultinomialNB_model_score_64.42.pkl']"
            ]
          },
          "metadata": {},
          "execution_count": 106
        }
      ],
      "source": [
        "# Save to file / directory\n",
        "joblib_file = \"models/MultinomialNB_model_score_\"+ str(round(accuracy*100,2))+\".pkl\"\n",
        "joblib.dump(mnb_model, joblib_file)"
      ]
    },
    {
      "cell_type": "markdown",
      "id": "72f4dc47-a243-454c-983f-dd0e1f229e1c",
      "metadata": {
        "id": "72f4dc47-a243-454c-983f-dd0e1f229e1c"
      },
      "source": [
        "# 4.8 XGBoost classifier"
      ]
    },
    {
      "cell_type": "code",
      "source": [
        "xgb_pipeline = Pipeline([\n",
        "     ('vect', CountVectorizer(ngram_range=(1,1))),\n",
        "     ('tfidf', TfidfTransformer()),\n",
        "     ('clf', xgb.XGBClassifier(learning_rate=0.001,\n",
        "                            max_depth = 1, \n",
        "                           n_estimators = 100,)),\n",
        " ])"
      ],
      "metadata": {
        "id": "9ggq332ctWGr"
      },
      "id": "9ggq332ctWGr",
      "execution_count": 107,
      "outputs": []
    },
    {
      "cell_type": "code",
      "execution_count": 108,
      "id": "AdLdPLiYSl-4",
      "metadata": {
        "id": "AdLdPLiYSl-4"
      },
      "outputs": [],
      "source": [
        "Xg_train = X_train.values.astype('U')\n",
        "Xg_test = X_test.values.astype('U')\n",
        "yg_train = y_train\n",
        "yg_test= y_test"
      ]
    },
    {
      "cell_type": "code",
      "source": [
        "le = LabelEncoder()\n",
        "yg_train = le.fit_transform(yg_train)"
      ],
      "metadata": {
        "id": "_gpSsUp6uAiM"
      },
      "id": "_gpSsUp6uAiM",
      "execution_count": 109,
      "outputs": []
    },
    {
      "cell_type": "code",
      "execution_count": 110,
      "id": "6PJiOiVk_2UL",
      "metadata": {
        "id": "6PJiOiVk_2UL"
      },
      "outputs": [],
      "source": [
        "xgbmodel = xgb_pipeline.fit(Xg_train, yg_train)"
      ]
    },
    {
      "cell_type": "code",
      "execution_count": 111,
      "id": "C3ojoofqgDUE",
      "metadata": {
        "colab": {
          "base_uri": "https://localhost:8080/"
        },
        "id": "C3ojoofqgDUE",
        "outputId": "c36ff34e-ccf1-428e-cefd-aadd514b7a43"
      },
      "outputs": [
        {
          "output_type": "execute_result",
          "data": {
            "text/plain": [
              "array([0, 1, 2])"
            ]
          },
          "metadata": {},
          "execution_count": 111
        }
      ],
      "source": [
        "yg_pred = xgbmodel.predict(Xg_test)\n",
        "xgbmodel.classes_"
      ]
    },
    {
      "cell_type": "code",
      "execution_count": 112,
      "id": "ReibGchsf8z7",
      "metadata": {
        "colab": {
          "base_uri": "https://localhost:8080/"
        },
        "id": "ReibGchsf8z7",
        "outputId": "df723c82-41ab-40b2-8dcf-03f05ef06535"
      },
      "outputs": [
        {
          "output_type": "stream",
          "name": "stdout",
          "text": [
            "[[682   0   0]\n",
            " [106   0   0]\n",
            " [  0   0   0]]\n"
          ]
        }
      ],
      "source": [
        "cm = confusion_matrix(yg_test, yg_pred, labels=xgbmodel.classes_)\n",
        "print(cm)\n"
      ]
    },
    {
      "cell_type": "code",
      "execution_count": 113,
      "id": "IP3Oqn97gCns",
      "metadata": {
        "colab": {
          "base_uri": "https://localhost:8080/",
          "height": 279
        },
        "id": "IP3Oqn97gCns",
        "outputId": "7b7deefc-c4b0-41a1-ba4e-57bbc90179e1"
      },
      "outputs": [
        {
          "output_type": "display_data",
          "data": {
            "text/plain": [
              "<Figure size 432x288 with 2 Axes>"
            ],
            "image/png": "[encoded data removed]"
          },
          "metadata": {
            "needs_background": "light"
          }
        }
      ],
      "source": [
        "cm_dsp=ConfusionMatrixDisplay(confusion_matrix=cm, display_labels=['Negatives', 'Neutral', 'Positive'])\n",
        "cm_dsp.plot()\n",
        "plt.show()"
      ]
    },
    {
      "cell_type": "code",
      "execution_count": 114,
      "id": "OPQITAUjg_8q",
      "metadata": {
        "colab": {
          "base_uri": "https://localhost:8080/"
        },
        "id": "OPQITAUjg_8q",
        "outputId": "78e400b0-65a1-4246-eae9-33f7d5290730"
      },
      "outputs": [
        {
          "output_type": "stream",
          "name": "stdout",
          "text": [
            "Model Score: 0.3888255416191562\n",
            "Model Score: 38.88%\n",
            "\n",
            "Accuracy: 0.3888255416191562\n",
            "Accuracy: 38.88%\n",
            "\n",
            "F1-score: 0.1866447728516694\n",
            "F1-score: 18.66%\n",
            "\n",
            "CPU times and Wall time: \n",
            "CPU times: user 60.2 ms, sys: 217 µs, total: 60.4 ms\n",
            "Wall time: 51.6 ms\n"
          ]
        }
      ],
      "source": [
        "%%time\n",
        "model_score = xgbmodel.score(X_test.values.astype('U'), y_test.values.astype('int64'))\n",
        "print(f'Model Score: {model_score}')\n",
        "print(f'Model Score: {model_score*100:.2f}%')\n",
        "accuracy = accuracy_score(yg_test, yg_pred)\n",
        "print()\n",
        "print(f\"Accuracy: {accuracy}\")\n",
        "print(f\"Accuracy: {accuracy*100:.2f}%\")\n",
        "print()\n",
        "f1 = f1_score(yg_test, yg_pred, average='macro')\n",
        "print(f\"F1-score: {f1}\")\n",
        "print(f\"F1-score: {f1*100:.2f}%\")\n",
        "print()\n",
        "print(\"CPU times and Wall time: \")"
      ]
    },
    {
      "cell_type": "code",
      "execution_count": 115,
      "id": "rz1ePbZNA1oz",
      "metadata": {
        "colab": {
          "base_uri": "https://localhost:8080/"
        },
        "id": "rz1ePbZNA1oz",
        "outputId": "b5cf30be-5140-4b6e-a461-ef7725067f1a"
      },
      "outputs": [
        {
          "output_type": "execute_result",
          "data": {
            "text/plain": [
              "['models/XGB_model_score_38.88.pkl']"
            ]
          },
          "metadata": {},
          "execution_count": 115
        }
      ],
      "source": [
        "# Save to file / directory\n",
        "joblib_file = \"models/XGB_model_score_\"+ str(round(accuracy*100,2))+\".pkl\"\n",
        "joblib.dump(xgbmodel, joblib_file)"
      ]
    },
    {
      "cell_type": "markdown",
      "id": "d49d1454-1ec4-4993-b713-33d64a26b030",
      "metadata": {
        "id": "d49d1454-1ec4-4993-b713-33d64a26b030"
      },
      "source": [
        "# 4.9 LightGBM classifier"
      ]
    },
    {
      "cell_type": "code",
      "execution_count": 116,
      "id": "ac989ca7-f347-4ecc-85be-dd60fe859eb8",
      "metadata": {
        "id": "ac989ca7-f347-4ecc-85be-dd60fe859eb8",
        "tags": []
      },
      "outputs": [],
      "source": [
        "lgbm_pipeline = Pipeline([\n",
        "     ('vect', CountVectorizer(ngram_range=(1,1))),\n",
        "     ('tfidf', TfidfTransformer()),\n",
        "     ('clf', LGBMClassifier()),  \n",
        "     ])"
      ]
    },
    {
      "cell_type": "code",
      "execution_count": 117,
      "id": "dd8fe1a4-98d3-4b99-a49c-dcd7aa192428",
      "metadata": {
        "id": "dd8fe1a4-98d3-4b99-a49c-dcd7aa192428",
        "tags": [],
        "colab": {
          "base_uri": "https://localhost:8080/",
          "height": 161
        },
        "outputId": "59ad9b7e-7015-4a94-dda5-1d52393124a3"
      },
      "outputs": [
        {
          "output_type": "execute_result",
          "data": {
            "text/plain": [
              "Pipeline(steps=[('vect', CountVectorizer()), ('tfidf', TfidfTransformer()),\n",
              "                ('clf', LGBMClassifier())])"
            ],
            "text/html": [
              "<style>#sk-container-id-8 {color: black;background-color: white;}#sk-container-id-8 pre{padding: 0;}#sk-container-id-8 div.sk-toggleable {background-color: white;}#sk-container-id-8 label.sk-toggleable__label {cursor: pointer;display: block;width: 100%;margin-bottom: 0;padding: 0.3em;box-sizing: border-box;text-align: center;}#sk-container-id-8 label.sk-toggleable__label-arrow:before {content: \"▸\";float: left;margin-right: 0.25em;color: #696969;}#sk-container-id-8 label.sk-toggleable__label-arrow:hover:before {color: black;}#sk-container-id-8 div.sk-estimator:hover label.sk-toggleable__label-arrow:before {color: black;}#sk-container-id-8 div.sk-toggleable__content {max-height: 0;max-width: 0;overflow: hidden;text-align: left;background-color: #f0f8ff;}#sk-container-id-8 div.sk-toggleable__content pre {margin: 0.2em;color: black;border-radius: 0.25em;background-color: #f0f8ff;}#sk-container-id-8 input.sk-toggleable__control:checked~div.sk-toggleable__content {max-height: 200px;max-width: 100%;overflow: auto;}#sk-container-id-8 input.sk-toggleable__control:checked~label.sk-toggleable__label-arrow:before {content: \"▾\";}#sk-container-id-8 div.sk-estimator input.sk-toggleable__control:checked~label.sk-toggleable__label {background-color: #d4ebff;}#sk-container-id-8 div.sk-label input.sk-toggleable__control:checked~label.sk-toggleable__label {background-color: #d4ebff;}#sk-container-id-8 input.sk-hidden--visually {border: 0;clip: rect(1px 1px 1px 1px);clip: rect(1px, 1px, 1px, 1px);height: 1px;margin: -1px;overflow: hidden;padding: 0;position: absolute;width: 1px;}#sk-container-id-8 div.sk-estimator {font-family: monospace;background-color: #f0f8ff;border: 1px dotted black;border-radius: 0.25em;box-sizing: border-box;margin-bottom: 0.5em;}#sk-container-id-8 div.sk-estimator:hover {background-color: #d4ebff;}#sk-container-id-8 div.sk-parallel-item::after {content: \"\";width: 100%;border-bottom: 1px solid gray;flex-grow: 1;}#sk-container-id-8 div.sk-label:hover label.sk-toggleable__label {background-color: #d4ebff;}#sk-container-id-8 div.sk-serial::before {content: \"\";position: absolute;border-left: 1px solid gray;box-sizing: border-box;top: 0;bottom: 0;left: 50%;z-index: 0;}#sk-container-id-8 div.sk-serial {display: flex;flex-direction: column;align-items: center;background-color: white;padding-right: 0.2em;padding-left: 0.2em;position: relative;}#sk-container-id-8 div.sk-item {position: relative;z-index: 1;}#sk-container-id-8 div.sk-parallel {display: flex;align-items: stretch;justify-content: center;background-color: white;position: relative;}#sk-container-id-8 div.sk-item::before, #sk-container-id-8 div.sk-parallel-item::before {content: \"\";position: absolute;border-left: 1px solid gray;box-sizing: border-box;top: 0;bottom: 0;left: 50%;z-index: -1;}#sk-container-id-8 div.sk-parallel-item {display: flex;flex-direction: column;z-index: 1;position: relative;background-color: white;}#sk-container-id-8 div.sk-parallel-item:first-child::after {align-self: flex-end;width: 50%;}#sk-container-id-8 div.sk-parallel-item:last-child::after {align-self: flex-start;width: 50%;}#sk-container-id-8 div.sk-parallel-item:only-child::after {width: 0;}#sk-container-id-8 div.sk-dashed-wrapped {border: 1px dashed gray;margin: 0 0.4em 0.5em 0.4em;box-sizing: border-box;padding-bottom: 0.4em;background-color: white;}#sk-container-id-8 div.sk-label label {font-family: monospace;font-weight: bold;display: inline-block;line-height: 1.2em;}#sk-container-id-8 div.sk-label-container {text-align: center;}#sk-container-id-8 div.sk-container {/* jupyter's `normalize.less` sets `[hidden] { display: none; }` but bootstrap.min.css set `[hidden] { display: none !important; }` so we also need the `!important` here to be able to override the default hidden behavior on the sphinx rendered scikit-learn.org. See: https://github.com/scikit-learn/scikit-learn/issues/21755 */display: inline-block !important;position: relative;}#sk-container-id-8 div.sk-text-repr-fallback {display: none;}</style><div id=\"sk-container-id-8\" class=\"sk-top-container\"><div class=\"sk-text-repr-fallback\"><pre>Pipeline(steps=[(&#x27;vect&#x27;, CountVectorizer()), (&#x27;tfidf&#x27;, TfidfTransformer()),\n",
              "                (&#x27;clf&#x27;, LGBMClassifier())])</pre><b>In a Jupyter environment, please rerun this cell to show the HTML representation or trust the notebook. <br />On GitHub, the HTML representation is unable to render, please try loading this page with nbviewer.org.</b></div><div class=\"sk-container\" hidden><div class=\"sk-item sk-dashed-wrapped\"><div class=\"sk-label-container\"><div class=\"sk-label sk-toggleable\"><input class=\"sk-toggleable__control sk-hidden--visually\" id=\"sk-estimator-id-29\" type=\"checkbox\" ><label for=\"sk-estimator-id-29\" class=\"sk-toggleable__label sk-toggleable__label-arrow\">Pipeline</label><div class=\"sk-toggleable__content\"><pre>Pipeline(steps=[(&#x27;vect&#x27;, CountVectorizer()), (&#x27;tfidf&#x27;, TfidfTransformer()),\n",
              "                (&#x27;clf&#x27;, LGBMClassifier())])</pre></div></div></div><div class=\"sk-serial\"><div class=\"sk-item\"><div class=\"sk-estimator sk-toggleable\"><input class=\"sk-toggleable__control sk-hidden--visually\" id=\"sk-estimator-id-30\" type=\"checkbox\" ><label for=\"sk-estimator-id-30\" class=\"sk-toggleable__label sk-toggleable__label-arrow\">CountVectorizer</label><div class=\"sk-toggleable__content\"><pre>CountVectorizer()</pre></div></div></div><div class=\"sk-item\"><div class=\"sk-estimator sk-toggleable\"><input class=\"sk-toggleable__control sk-hidden--visually\" id=\"sk-estimator-id-31\" type=\"checkbox\" ><label for=\"sk-estimator-id-31\" class=\"sk-toggleable__label sk-toggleable__label-arrow\">TfidfTransformer</label><div class=\"sk-toggleable__content\"><pre>TfidfTransformer()</pre></div></div></div><div class=\"sk-item\"><div class=\"sk-estimator sk-toggleable\"><input class=\"sk-toggleable__control sk-hidden--visually\" id=\"sk-estimator-id-32\" type=\"checkbox\" ><label for=\"sk-estimator-id-32\" class=\"sk-toggleable__label sk-toggleable__label-arrow\">LGBMClassifier</label><div class=\"sk-toggleable__content\"><pre>LGBMClassifier()</pre></div></div></div></div></div></div></div>"
            ]
          },
          "metadata": {},
          "execution_count": 117
        }
      ],
      "source": [
        "# Algorithm training X_train, X_test, y_train, y_test\n",
        "lgbm_model = lgbm_pipeline.fit(X_train.values.astype('U'), y_train.values.astype('int64'))\n",
        "lgbm_model"
      ]
    },
    {
      "cell_type": "code",
      "execution_count": 118,
      "id": "6592d454-0ee5-4ee0-85bf-7d5d78c61d4f",
      "metadata": {
        "id": "6592d454-0ee5-4ee0-85bf-7d5d78c61d4f",
        "tags": [],
        "colab": {
          "base_uri": "https://localhost:8080/"
        },
        "outputId": "c945adc1-2af1-45cf-8356-db8319deabe0"
      },
      "outputs": [
        {
          "output_type": "execute_result",
          "data": {
            "text/plain": [
              "array([-1,  0,  1])"
            ]
          },
          "metadata": {},
          "execution_count": 118
        }
      ],
      "source": [
        "y_pred = lgbm_model.predict(X_test.values.astype('U'))\n",
        "lgbm_model.classes_"
      ]
    },
    {
      "cell_type": "code",
      "execution_count": 119,
      "id": "66982c9d-fc73-45a2-8397-f9f64445b3b3",
      "metadata": {
        "id": "66982c9d-fc73-45a2-8397-f9f64445b3b3",
        "tags": [],
        "colab": {
          "base_uri": "https://localhost:8080/"
        },
        "outputId": "1f024f53-0634-43e5-a230-955a49dee9b6"
      },
      "outputs": [
        {
          "output_type": "stream",
          "name": "stdout",
          "text": [
            "[[685 272   9]\n",
            " [261 413   8]\n",
            " [ 49  44  13]]\n"
          ]
        }
      ],
      "source": [
        "cm = confusion_matrix(y_test, y_pred, labels=lgbm_model.classes_)\n",
        "print(cm)"
      ]
    },
    {
      "cell_type": "code",
      "execution_count": 120,
      "id": "43113ca4-4520-4681-8b2a-a6b1cef6d740",
      "metadata": {
        "id": "43113ca4-4520-4681-8b2a-a6b1cef6d740",
        "tags": [],
        "colab": {
          "base_uri": "https://localhost:8080/",
          "height": 296
        },
        "outputId": "185da77a-b282-4741-93f4-8dfa8640a847"
      },
      "outputs": [
        {
          "output_type": "execute_result",
          "data": {
            "text/plain": [
              "<sklearn.metrics._plot.confusion_matrix.ConfusionMatrixDisplay at 0x7f1a2c5b1490>"
            ]
          },
          "metadata": {},
          "execution_count": 120
        },
        {
          "output_type": "display_data",
          "data": {
            "text/plain": [
              "<Figure size 432x288 with 2 Axes>"
            ],
            "image/png": "[encoded data removed]"
          },
          "metadata": {
            "needs_background": "light"
          }
        }
      ],
      "source": [
        "cm_dsp=ConfusionMatrixDisplay(confusion_matrix=cm, display_labels=['Negatives', 'Neutral', 'Positive'])\n",
        "cm_dsp.plot()"
      ]
    },
    {
      "cell_type": "code",
      "execution_count": 121,
      "id": "9b3de1a3-1715-48cc-8c6c-b78c78e7ba6e",
      "metadata": {
        "id": "9b3de1a3-1715-48cc-8c6c-b78c78e7ba6e",
        "tags": [],
        "colab": {
          "base_uri": "https://localhost:8080/"
        },
        "outputId": "1bb179a4-90fe-4b83-dc40-32c8e99d804b"
      },
      "outputs": [
        {
          "output_type": "stream",
          "name": "stdout",
          "text": [
            "Model Score: 0.6334093500570125\n",
            "Model Score: 63.34%\n",
            "\n",
            "Accuracy: 0.6334093500570125\n",
            "Accuracy: 63.34%\n",
            "\n",
            "F1-score: 0.49173334909063615\n",
            "F1-score: 49.17%\n",
            "\n",
            "CPU times and Wall time: \n",
            "CPU times: user 255 ms, sys: 279 µs, total: 255 ms\n",
            "Wall time: 160 ms\n"
          ]
        }
      ],
      "source": [
        "%%time\n",
        "\n",
        "#predicting \n",
        "y_pred = lgbm_model.predict(X_test.values.astype('U'))\n",
        "\n",
        "model_score = lgbm_model.score(X_test.values.astype('U'), y_test.values.astype('int64'))\n",
        "print(f'Model Score: {model_score}')\n",
        "print(f'Model Score: {model_score*100:.2f}%')\n",
        "accuracy = accuracy_score(y_test, y_pred)\n",
        "print()\n",
        "print(f\"Accuracy: {accuracy}\")\n",
        "print(f\"Accuracy: {accuracy*100:.2f}%\")\n",
        "print()\n",
        "f1 = f1_score(y_test, y_pred, average='macro')\n",
        "print(f\"F1-score: {f1}\")\n",
        "print(f\"F1-score: {f1*100:.2f}%\")\n",
        "print()\n",
        "print(\"CPU times and Wall time: \")"
      ]
    },
    {
      "cell_type": "code",
      "execution_count": 122,
      "id": "1c2fc598-371b-4b08-b52b-aeb765c9ab15",
      "metadata": {
        "id": "1c2fc598-371b-4b08-b52b-aeb765c9ab15",
        "tags": [],
        "colab": {
          "base_uri": "https://localhost:8080/"
        },
        "outputId": "9759d7a8-cf0b-4c16-f852-3595e4fad172"
      },
      "outputs": [
        {
          "output_type": "execute_result",
          "data": {
            "text/plain": [
              "['models/LGBMClassifier_model_score_63.34.pkl']"
            ]
          },
          "metadata": {},
          "execution_count": 122
        }
      ],
      "source": [
        "# Save to file / directory\n",
        "joblib_file = \"models/LGBMClassifier_model_score_\"+ str(round(accuracy*100,2))+\".pkl\"\n",
        "joblib.dump(lgbm_model, joblib_file)"
      ]
    },
    {
      "cell_type": "markdown",
      "id": "cd4039e1-4ee3-43c1-a989-44d1c7aea5ff",
      "metadata": {
        "id": "cd4039e1-4ee3-43c1-a989-44d1c7aea5ff"
      },
      "source": [
        "# 4.10 CatBoost classifier"
      ]
    },
    {
      "cell_type": "code",
      "execution_count": 123,
      "id": "2f210c39-ccbb-4abc-83b9-29ce97acca6f",
      "metadata": {
        "id": "2f210c39-ccbb-4abc-83b9-29ce97acca6f",
        "tags": []
      },
      "outputs": [],
      "source": [
        "ctb_pipeline = Pipeline([\n",
        "     ('vect', CountVectorizer(ngram_range=(1,1))),\n",
        "     ('tfidf', TfidfTransformer()),\n",
        "     ('clf', CatBoostClassifier()), \n",
        " ])"
      ]
    },
    {
      "cell_type": "code",
      "execution_count": 124,
      "id": "b7afda62-ad92-4738-b1e9-8936b18b05a5",
      "metadata": {
        "id": "b7afda62-ad92-4738-b1e9-8936b18b05a5",
        "tags": [],
        "colab": {
          "base_uri": "https://localhost:8080/",
          "height": 1000
        },
        "outputId": "32225308-8925-446f-87aa-b71bdfd4445f"
      },
      "outputs": [
        {
          "output_type": "stream",
          "name": "stdout",
          "text": [
            "Learning rate set to 0.087391\n",
            "0:\tlearn: 1.0685808\ttotal: 480ms\tremaining: 7m 59s\n",
            "1:\tlearn: 1.0434654\ttotal: 731ms\tremaining: 6m 4s\n",
            "2:\tlearn: 1.0210969\ttotal: 999ms\tremaining: 5m 31s\n",
            "3:\tlearn: 1.0004893\ttotal: 1.26s\tremaining: 5m 13s\n",
            "4:\tlearn: 0.9840040\ttotal: 1.51s\tremaining: 5m\n",
            "5:\tlearn: 0.9689331\ttotal: 1.77s\tremaining: 4m 52s\n",
            "6:\tlearn: 0.9555937\ttotal: 2.02s\tremaining: 4m 47s\n",
            "7:\tlearn: 0.9428873\ttotal: 2.29s\tremaining: 4m 43s\n",
            "8:\tlearn: 0.9312752\ttotal: 2.54s\tremaining: 4m 39s\n",
            "9:\tlearn: 0.9226538\ttotal: 2.97s\tremaining: 4m 54s\n",
            "10:\tlearn: 0.9137327\ttotal: 4.31s\tremaining: 6m 27s\n",
            "11:\tlearn: 0.9063436\ttotal: 4.77s\tremaining: 6m 32s\n",
            "12:\tlearn: 0.8991590\ttotal: 5.22s\tremaining: 6m 36s\n",
            "13:\tlearn: 0.8925933\ttotal: 5.68s\tremaining: 6m 40s\n",
            "14:\tlearn: 0.8878152\ttotal: 5.94s\tremaining: 6m 30s\n",
            "15:\tlearn: 0.8826980\ttotal: 6.21s\tremaining: 6m 22s\n",
            "16:\tlearn: 0.8779936\ttotal: 6.47s\tremaining: 6m 14s\n",
            "17:\tlearn: 0.8741163\ttotal: 6.73s\tremaining: 6m 7s\n",
            "18:\tlearn: 0.8710106\ttotal: 6.98s\tremaining: 6m\n",
            "19:\tlearn: 0.8674041\ttotal: 7.25s\tremaining: 5m 55s\n",
            "20:\tlearn: 0.8640615\ttotal: 7.5s\tremaining: 5m 49s\n",
            "21:\tlearn: 0.8616555\ttotal: 7.76s\tremaining: 5m 44s\n",
            "22:\tlearn: 0.8598246\ttotal: 8.01s\tremaining: 5m 40s\n",
            "23:\tlearn: 0.8576720\ttotal: 8.28s\tremaining: 5m 36s\n",
            "24:\tlearn: 0.8551930\ttotal: 8.54s\tremaining: 5m 33s\n",
            "25:\tlearn: 0.8528990\ttotal: 8.79s\tremaining: 5m 29s\n",
            "26:\tlearn: 0.8508921\ttotal: 9.05s\tremaining: 5m 26s\n",
            "27:\tlearn: 0.8490867\ttotal: 9.32s\tremaining: 5m 23s\n",
            "28:\tlearn: 0.8473399\ttotal: 9.57s\tremaining: 5m 20s\n",
            "29:\tlearn: 0.8464497\ttotal: 9.83s\tremaining: 5m 17s\n",
            "30:\tlearn: 0.8449266\ttotal: 10.1s\tremaining: 5m 15s\n",
            "31:\tlearn: 0.8437286\ttotal: 10.3s\tremaining: 5m 13s\n",
            "32:\tlearn: 0.8428766\ttotal: 10.6s\tremaining: 5m 10s\n",
            "33:\tlearn: 0.8414917\ttotal: 10.9s\tremaining: 5m 8s\n",
            "34:\tlearn: 0.8398265\ttotal: 11.1s\tremaining: 5m 6s\n",
            "35:\tlearn: 0.8390583\ttotal: 11.5s\tremaining: 5m 8s\n",
            "36:\tlearn: 0.8378506\ttotal: 12s\tremaining: 5m 13s\n",
            "37:\tlearn: 0.8370481\ttotal: 12.3s\tremaining: 5m 11s\n",
            "38:\tlearn: 0.8362339\ttotal: 12.6s\tremaining: 5m 9s\n",
            "39:\tlearn: 0.8354704\ttotal: 12.8s\tremaining: 5m 7s\n",
            "40:\tlearn: 0.8347271\ttotal: 13.1s\tremaining: 5m 5s\n",
            "41:\tlearn: 0.8339294\ttotal: 13.3s\tremaining: 5m 4s\n",
            "42:\tlearn: 0.8331802\ttotal: 13.6s\tremaining: 5m 2s\n",
            "43:\tlearn: 0.8325843\ttotal: 13.8s\tremaining: 5m\n",
            "44:\tlearn: 0.8317615\ttotal: 14.1s\tremaining: 4m 59s\n",
            "45:\tlearn: 0.8310770\ttotal: 14.4s\tremaining: 4m 58s\n",
            "46:\tlearn: 0.8302939\ttotal: 14.6s\tremaining: 4m 56s\n",
            "47:\tlearn: 0.8294837\ttotal: 14.9s\tremaining: 4m 55s\n",
            "48:\tlearn: 0.8289477\ttotal: 15.1s\tremaining: 4m 53s\n",
            "49:\tlearn: 0.8281658\ttotal: 15.4s\tremaining: 4m 52s\n",
            "50:\tlearn: 0.8273534\ttotal: 15.7s\tremaining: 4m 51s\n",
            "51:\tlearn: 0.8265055\ttotal: 16.1s\tremaining: 4m 52s\n",
            "52:\tlearn: 0.8257941\ttotal: 16.5s\tremaining: 4m 54s\n",
            "53:\tlearn: 0.8250976\ttotal: 17s\tremaining: 4m 57s\n",
            "54:\tlearn: 0.8244966\ttotal: 17.4s\tremaining: 4m 59s\n",
            "55:\tlearn: 0.8237149\ttotal: 17.9s\tremaining: 5m 1s\n",
            "56:\tlearn: 0.8233214\ttotal: 18.3s\tremaining: 5m 3s\n",
            "57:\tlearn: 0.8230098\ttotal: 18.7s\tremaining: 5m 3s\n",
            "58:\tlearn: 0.8225060\ttotal: 18.9s\tremaining: 5m 2s\n",
            "59:\tlearn: 0.8218670\ttotal: 19.2s\tremaining: 5m\n",
            "60:\tlearn: 0.8213458\ttotal: 19.5s\tremaining: 4m 59s\n",
            "61:\tlearn: 0.8205402\ttotal: 19.7s\tremaining: 4m 58s\n",
            "62:\tlearn: 0.8197190\ttotal: 20s\tremaining: 4m 57s\n",
            "63:\tlearn: 0.8191390\ttotal: 20.2s\tremaining: 4m 56s\n",
            "64:\tlearn: 0.8184634\ttotal: 20.5s\tremaining: 4m 55s\n",
            "65:\tlearn: 0.8179218\ttotal: 21.2s\tremaining: 4m 59s\n",
            "66:\tlearn: 0.8174387\ttotal: 21.4s\tremaining: 4m 58s\n",
            "67:\tlearn: 0.8168635\ttotal: 21.7s\tremaining: 4m 57s\n",
            "68:\tlearn: 0.8164997\ttotal: 21.9s\tremaining: 4m 56s\n",
            "69:\tlearn: 0.8159515\ttotal: 22.2s\tremaining: 4m 55s\n",
            "70:\tlearn: 0.8153872\ttotal: 22.5s\tremaining: 4m 53s\n",
            "71:\tlearn: 0.8151147\ttotal: 22.7s\tremaining: 4m 52s\n",
            "72:\tlearn: 0.8149175\ttotal: 23s\tremaining: 4m 51s\n",
            "73:\tlearn: 0.8141833\ttotal: 23.2s\tremaining: 4m 50s\n",
            "74:\tlearn: 0.8136599\ttotal: 23.5s\tremaining: 4m 49s\n",
            "75:\tlearn: 0.8134761\ttotal: 23.7s\tremaining: 4m 48s\n",
            "76:\tlearn: 0.8128442\ttotal: 24s\tremaining: 4m 47s\n",
            "77:\tlearn: 0.8124517\ttotal: 24.3s\tremaining: 4m 46s\n",
            "78:\tlearn: 0.8118358\ttotal: 24.5s\tremaining: 4m 45s\n",
            "79:\tlearn: 0.8113052\ttotal: 24.8s\tremaining: 4m 45s\n",
            "80:\tlearn: 0.8108135\ttotal: 25s\tremaining: 4m 44s\n",
            "81:\tlearn: 0.8104414\ttotal: 25.3s\tremaining: 4m 43s\n",
            "82:\tlearn: 0.8101326\ttotal: 25.5s\tremaining: 4m 42s\n",
            "83:\tlearn: 0.8096040\ttotal: 25.8s\tremaining: 4m 41s\n",
            "84:\tlearn: 0.8090146\ttotal: 26.1s\tremaining: 4m 40s\n",
            "85:\tlearn: 0.8086230\ttotal: 26.3s\tremaining: 4m 39s\n",
            "86:\tlearn: 0.8082296\ttotal: 26.6s\tremaining: 4m 39s\n",
            "87:\tlearn: 0.8079143\ttotal: 26.9s\tremaining: 4m 38s\n",
            "88:\tlearn: 0.8076922\ttotal: 27.1s\tremaining: 4m 37s\n",
            "89:\tlearn: 0.8071266\ttotal: 27.4s\tremaining: 4m 36s\n",
            "90:\tlearn: 0.8066511\ttotal: 27.6s\tremaining: 4m 35s\n",
            "91:\tlearn: 0.8062218\ttotal: 27.9s\tremaining: 4m 35s\n",
            "92:\tlearn: 0.8057630\ttotal: 28.2s\tremaining: 4m 34s\n",
            "93:\tlearn: 0.8051451\ttotal: 28.4s\tremaining: 4m 33s\n",
            "94:\tlearn: 0.8046813\ttotal: 28.8s\tremaining: 4m 34s\n",
            "95:\tlearn: 0.8041738\ttotal: 29.2s\tremaining: 4m 35s\n",
            "96:\tlearn: 0.8038808\ttotal: 29.7s\tremaining: 4m 36s\n",
            "97:\tlearn: 0.8037024\ttotal: 30.1s\tremaining: 4m 37s\n",
            "98:\tlearn: 0.8031984\ttotal: 30.6s\tremaining: 4m 38s\n",
            "99:\tlearn: 0.8028828\ttotal: 31s\tremaining: 4m 39s\n",
            "100:\tlearn: 0.8023774\ttotal: 31.4s\tremaining: 4m 39s\n",
            "101:\tlearn: 0.8019741\ttotal: 31.7s\tremaining: 4m 38s\n",
            "102:\tlearn: 0.8014721\ttotal: 31.9s\tremaining: 4m 38s\n",
            "103:\tlearn: 0.8011980\ttotal: 32.2s\tremaining: 4m 37s\n",
            "104:\tlearn: 0.8007628\ttotal: 32.4s\tremaining: 4m 36s\n",
            "105:\tlearn: 0.8002311\ttotal: 32.7s\tremaining: 4m 35s\n",
            "106:\tlearn: 0.7997560\ttotal: 33s\tremaining: 4m 35s\n",
            "107:\tlearn: 0.7994533\ttotal: 33.2s\tremaining: 4m 34s\n",
            "108:\tlearn: 0.7990994\ttotal: 33.5s\tremaining: 4m 33s\n",
            "109:\tlearn: 0.7984958\ttotal: 33.7s\tremaining: 4m 32s\n",
            "110:\tlearn: 0.7979408\ttotal: 34s\tremaining: 4m 32s\n",
            "111:\tlearn: 0.7975868\ttotal: 34.2s\tremaining: 4m 31s\n",
            "112:\tlearn: 0.7972043\ttotal: 34.5s\tremaining: 4m 30s\n",
            "113:\tlearn: 0.7969143\ttotal: 34.8s\tremaining: 4m 30s\n",
            "114:\tlearn: 0.7964979\ttotal: 35s\tremaining: 4m 29s\n",
            "115:\tlearn: 0.7960156\ttotal: 35.3s\tremaining: 4m 28s\n",
            "116:\tlearn: 0.7955140\ttotal: 35.5s\tremaining: 4m 28s\n",
            "117:\tlearn: 0.7951767\ttotal: 35.8s\tremaining: 4m 27s\n",
            "118:\tlearn: 0.7947681\ttotal: 36.1s\tremaining: 4m 27s\n",
            "119:\tlearn: 0.7944294\ttotal: 36.3s\tremaining: 4m 26s\n",
            "120:\tlearn: 0.7940748\ttotal: 36.6s\tremaining: 4m 25s\n",
            "121:\tlearn: 0.7936615\ttotal: 36.8s\tremaining: 4m 25s\n",
            "122:\tlearn: 0.7932834\ttotal: 37.1s\tremaining: 4m 24s\n",
            "123:\tlearn: 0.7925134\ttotal: 37.4s\tremaining: 4m 23s\n",
            "124:\tlearn: 0.7920076\ttotal: 37.6s\tremaining: 4m 23s\n",
            "125:\tlearn: 0.7917010\ttotal: 37.9s\tremaining: 4m 22s\n",
            "126:\tlearn: 0.7915335\ttotal: 38.1s\tremaining: 4m 22s\n",
            "127:\tlearn: 0.7913111\ttotal: 38.4s\tremaining: 4m 21s\n",
            "128:\tlearn: 0.7911381\ttotal: 38.7s\tremaining: 4m 20s\n",
            "129:\tlearn: 0.7906962\ttotal: 38.9s\tremaining: 4m 20s\n",
            "130:\tlearn: 0.7904555\ttotal: 39.2s\tremaining: 4m 19s\n",
            "131:\tlearn: 0.7900754\ttotal: 39.4s\tremaining: 4m 19s\n",
            "132:\tlearn: 0.7896750\ttotal: 39.7s\tremaining: 4m 18s\n",
            "133:\tlearn: 0.7892164\ttotal: 39.9s\tremaining: 4m 18s\n",
            "134:\tlearn: 0.7887737\ttotal: 40.2s\tremaining: 4m 17s\n",
            "135:\tlearn: 0.7883262\ttotal: 40.5s\tremaining: 4m 17s\n",
            "136:\tlearn: 0.7880494\ttotal: 40.7s\tremaining: 4m 16s\n",
            "137:\tlearn: 0.7876292\ttotal: 41s\tremaining: 4m 15s\n",
            "138:\tlearn: 0.7872426\ttotal: 41.2s\tremaining: 4m 15s\n",
            "139:\tlearn: 0.7868991\ttotal: 41.6s\tremaining: 4m 15s\n",
            "140:\tlearn: 0.7865304\ttotal: 42s\tremaining: 4m 15s\n",
            "141:\tlearn: 0.7862022\ttotal: 42.4s\tremaining: 4m 16s\n",
            "142:\tlearn: 0.7857311\ttotal: 42.9s\tremaining: 4m 17s\n",
            "143:\tlearn: 0.7854160\ttotal: 43.3s\tremaining: 4m 17s\n",
            "144:\tlearn: 0.7851172\ttotal: 43.8s\tremaining: 4m 18s\n",
            "145:\tlearn: 0.7846845\ttotal: 44.2s\tremaining: 4m 18s\n",
            "146:\tlearn: 0.7842906\ttotal: 44.5s\tremaining: 4m 18s\n",
            "147:\tlearn: 0.7837342\ttotal: 44.8s\tremaining: 4m 17s\n",
            "148:\tlearn: 0.7835293\ttotal: 45s\tremaining: 4m 17s\n",
            "149:\tlearn: 0.7829702\ttotal: 45.3s\tremaining: 4m 16s\n",
            "150:\tlearn: 0.7827015\ttotal: 45.5s\tremaining: 4m 16s\n",
            "151:\tlearn: 0.7824445\ttotal: 45.8s\tremaining: 4m 15s\n",
            "152:\tlearn: 0.7820872\ttotal: 46.1s\tremaining: 4m 14s\n",
            "153:\tlearn: 0.7817112\ttotal: 46.3s\tremaining: 4m 14s\n",
            "154:\tlearn: 0.7813802\ttotal: 46.6s\tremaining: 4m 13s\n",
            "155:\tlearn: 0.7808515\ttotal: 46.8s\tremaining: 4m 13s\n",
            "156:\tlearn: 0.7807011\ttotal: 47.1s\tremaining: 4m 12s\n",
            "157:\tlearn: 0.7803878\ttotal: 47.4s\tremaining: 4m 12s\n",
            "158:\tlearn: 0.7801001\ttotal: 47.6s\tremaining: 4m 11s\n",
            "159:\tlearn: 0.7796404\ttotal: 47.9s\tremaining: 4m 11s\n",
            "160:\tlearn: 0.7792166\ttotal: 48.1s\tremaining: 4m 10s\n",
            "161:\tlearn: 0.7788885\ttotal: 48.4s\tremaining: 4m 10s\n",
            "162:\tlearn: 0.7785259\ttotal: 48.7s\tremaining: 4m 9s\n",
            "163:\tlearn: 0.7781763\ttotal: 48.9s\tremaining: 4m 9s\n",
            "164:\tlearn: 0.7776763\ttotal: 49.2s\tremaining: 4m 8s\n",
            "165:\tlearn: 0.7773002\ttotal: 49.4s\tremaining: 4m 8s\n",
            "166:\tlearn: 0.7770387\ttotal: 49.7s\tremaining: 4m 7s\n",
            "167:\tlearn: 0.7765672\ttotal: 50s\tremaining: 4m 7s\n",
            "168:\tlearn: 0.7762454\ttotal: 50.2s\tremaining: 4m 6s\n",
            "169:\tlearn: 0.7757017\ttotal: 50.5s\tremaining: 4m 6s\n",
            "170:\tlearn: 0.7753198\ttotal: 50.7s\tremaining: 4m 6s\n",
            "171:\tlearn: 0.7750722\ttotal: 51s\tremaining: 4m 5s\n",
            "172:\tlearn: 0.7747945\ttotal: 51.3s\tremaining: 4m 5s\n",
            "173:\tlearn: 0.7743761\ttotal: 51.5s\tremaining: 4m 4s\n",
            "174:\tlearn: 0.7741260\ttotal: 51.8s\tremaining: 4m 4s\n",
            "175:\tlearn: 0.7737922\ttotal: 52s\tremaining: 4m 3s\n",
            "176:\tlearn: 0.7735286\ttotal: 52.3s\tremaining: 4m 3s\n",
            "177:\tlearn: 0.7731175\ttotal: 52.6s\tremaining: 4m 2s\n",
            "178:\tlearn: 0.7727709\ttotal: 52.8s\tremaining: 4m 2s\n",
            "179:\tlearn: 0.7725403\ttotal: 53.1s\tremaining: 4m 1s\n",
            "180:\tlearn: 0.7723458\ttotal: 53.4s\tremaining: 4m 1s\n",
            "181:\tlearn: 0.7720167\ttotal: 53.6s\tremaining: 4m\n",
            "182:\tlearn: 0.7716611\ttotal: 53.9s\tremaining: 4m\n",
            "183:\tlearn: 0.7712327\ttotal: 54.1s\tremaining: 4m\n",
            "184:\tlearn: 0.7709423\ttotal: 54.5s\tremaining: 3m 59s\n",
            "185:\tlearn: 0.7705610\ttotal: 54.9s\tremaining: 4m\n",
            "186:\tlearn: 0.7702347\ttotal: 55.4s\tremaining: 4m\n",
            "187:\tlearn: 0.7698832\ttotal: 55.8s\tremaining: 4m 1s\n",
            "188:\tlearn: 0.7695567\ttotal: 56.3s\tremaining: 4m 1s\n",
            "189:\tlearn: 0.7691244\ttotal: 56.7s\tremaining: 4m 1s\n",
            "190:\tlearn: 0.7689064\ttotal: 57.1s\tremaining: 4m 1s\n",
            "191:\tlearn: 0.7684233\ttotal: 57.4s\tremaining: 4m 1s\n",
            "192:\tlearn: 0.7680651\ttotal: 57.6s\tremaining: 4m\n",
            "193:\tlearn: 0.7678813\ttotal: 57.9s\tremaining: 4m\n",
            "194:\tlearn: 0.7675284\ttotal: 58.2s\tremaining: 4m\n",
            "195:\tlearn: 0.7673713\ttotal: 58.4s\tremaining: 3m 59s\n",
            "196:\tlearn: 0.7669738\ttotal: 58.7s\tremaining: 3m 59s\n",
            "197:\tlearn: 0.7666073\ttotal: 58.9s\tremaining: 3m 58s\n",
            "198:\tlearn: 0.7662962\ttotal: 59.2s\tremaining: 3m 58s\n",
            "199:\tlearn: 0.7661047\ttotal: 59.5s\tremaining: 3m 57s\n",
            "200:\tlearn: 0.7657833\ttotal: 59.7s\tremaining: 3m 57s\n",
            "201:\tlearn: 0.7653486\ttotal: 60s\tremaining: 3m 56s\n",
            "202:\tlearn: 0.7652052\ttotal: 1m\tremaining: 3m 56s\n",
            "203:\tlearn: 0.7649274\ttotal: 1m\tremaining: 3m 56s\n",
            "204:\tlearn: 0.7647816\ttotal: 1m\tremaining: 3m 55s\n",
            "205:\tlearn: 0.7646067\ttotal: 1m 1s\tremaining: 3m 55s\n",
            "206:\tlearn: 0.7641692\ttotal: 1m 1s\tremaining: 3m 54s\n",
            "207:\tlearn: 0.7638473\ttotal: 1m 1s\tremaining: 3m 54s\n",
            "208:\tlearn: 0.7636334\ttotal: 1m 1s\tremaining: 3m 53s\n",
            "209:\tlearn: 0.7632871\ttotal: 1m 2s\tremaining: 3m 53s\n",
            "210:\tlearn: 0.7629156\ttotal: 1m 2s\tremaining: 3m 52s\n",
            "211:\tlearn: 0.7626353\ttotal: 1m 2s\tremaining: 3m 52s\n",
            "212:\tlearn: 0.7623079\ttotal: 1m 2s\tremaining: 3m 52s\n",
            "213:\tlearn: 0.7621282\ttotal: 1m 3s\tremaining: 3m 51s\n",
            "214:\tlearn: 0.7619506\ttotal: 1m 3s\tremaining: 3m 51s\n",
            "215:\tlearn: 0.7616890\ttotal: 1m 3s\tremaining: 3m 50s\n",
            "216:\tlearn: 0.7614341\ttotal: 1m 3s\tremaining: 3m 50s\n",
            "217:\tlearn: 0.7612923\ttotal: 1m 4s\tremaining: 3m 50s\n",
            "218:\tlearn: 0.7611481\ttotal: 1m 4s\tremaining: 3m 49s\n",
            "219:\tlearn: 0.7608764\ttotal: 1m 4s\tremaining: 3m 49s\n",
            "220:\tlearn: 0.7606598\ttotal: 1m 4s\tremaining: 3m 48s\n",
            "221:\tlearn: 0.7601759\ttotal: 1m 5s\tremaining: 3m 48s\n",
            "222:\tlearn: 0.7599864\ttotal: 1m 5s\tremaining: 3m 47s\n",
            "223:\tlearn: 0.7598436\ttotal: 1m 5s\tremaining: 3m 47s\n",
            "224:\tlearn: 0.7596588\ttotal: 1m 5s\tremaining: 3m 47s\n",
            "225:\tlearn: 0.7594452\ttotal: 1m 6s\tremaining: 3m 46s\n",
            "226:\tlearn: 0.7591140\ttotal: 1m 6s\tremaining: 3m 46s\n",
            "227:\tlearn: 0.7588312\ttotal: 1m 6s\tremaining: 3m 45s\n",
            "228:\tlearn: 0.7585476\ttotal: 1m 6s\tremaining: 3m 45s\n",
            "229:\tlearn: 0.7582483\ttotal: 1m 7s\tremaining: 3m 45s\n",
            "230:\tlearn: 0.7579648\ttotal: 1m 7s\tremaining: 3m 45s\n",
            "231:\tlearn: 0.7576790\ttotal: 1m 8s\tremaining: 3m 45s\n",
            "232:\tlearn: 0.7575147\ttotal: 1m 8s\tremaining: 3m 46s\n",
            "233:\tlearn: 0.7572538\ttotal: 1m 9s\tremaining: 3m 46s\n",
            "234:\tlearn: 0.7569546\ttotal: 1m 9s\tremaining: 3m 46s\n",
            "235:\tlearn: 0.7567495\ttotal: 1m 9s\tremaining: 3m 46s\n",
            "236:\tlearn: 0.7565545\ttotal: 1m 10s\tremaining: 3m 46s\n",
            "237:\tlearn: 0.7562757\ttotal: 1m 10s\tremaining: 3m 45s\n",
            "238:\tlearn: 0.7559141\ttotal: 1m 10s\tremaining: 3m 45s\n",
            "239:\tlearn: 0.7557677\ttotal: 1m 10s\tremaining: 3m 44s\n",
            "240:\tlearn: 0.7555901\ttotal: 1m 11s\tremaining: 3m 44s\n",
            "241:\tlearn: 0.7553805\ttotal: 1m 11s\tremaining: 3m 43s\n",
            "242:\tlearn: 0.7552182\ttotal: 1m 11s\tremaining: 3m 43s\n",
            "243:\tlearn: 0.7550654\ttotal: 1m 12s\tremaining: 3m 43s\n",
            "244:\tlearn: 0.7548904\ttotal: 1m 12s\tremaining: 3m 42s\n",
            "245:\tlearn: 0.7546184\ttotal: 1m 12s\tremaining: 3m 42s\n",
            "246:\tlearn: 0.7544815\ttotal: 1m 12s\tremaining: 3m 41s\n",
            "247:\tlearn: 0.7542571\ttotal: 1m 13s\tremaining: 3m 41s\n",
            "248:\tlearn: 0.7539954\ttotal: 1m 13s\tremaining: 3m 41s\n",
            "249:\tlearn: 0.7537115\ttotal: 1m 13s\tremaining: 3m 40s\n",
            "250:\tlearn: 0.7535616\ttotal: 1m 13s\tremaining: 3m 40s\n",
            "251:\tlearn: 0.7533819\ttotal: 1m 14s\tremaining: 3m 39s\n",
            "252:\tlearn: 0.7530959\ttotal: 1m 14s\tremaining: 3m 39s\n",
            "253:\tlearn: 0.7529695\ttotal: 1m 14s\tremaining: 3m 39s\n",
            "254:\tlearn: 0.7528376\ttotal: 1m 14s\tremaining: 3m 38s\n",
            "255:\tlearn: 0.7526478\ttotal: 1m 15s\tremaining: 3m 38s\n",
            "256:\tlearn: 0.7522030\ttotal: 1m 15s\tremaining: 3m 37s\n",
            "257:\tlearn: 0.7520550\ttotal: 1m 15s\tremaining: 3m 37s\n",
            "258:\tlearn: 0.7519075\ttotal: 1m 15s\tremaining: 3m 37s\n",
            "259:\tlearn: 0.7516707\ttotal: 1m 16s\tremaining: 3m 36s\n",
            "260:\tlearn: 0.7514813\ttotal: 1m 16s\tremaining: 3m 36s\n",
            "261:\tlearn: 0.7513718\ttotal: 1m 16s\tremaining: 3m 35s\n",
            "262:\tlearn: 0.7512425\ttotal: 1m 16s\tremaining: 3m 35s\n",
            "263:\tlearn: 0.7510874\ttotal: 1m 17s\tremaining: 3m 35s\n",
            "264:\tlearn: 0.7508967\ttotal: 1m 17s\tremaining: 3m 34s\n",
            "265:\tlearn: 0.7505833\ttotal: 1m 17s\tremaining: 3m 34s\n",
            "266:\tlearn: 0.7503995\ttotal: 1m 18s\tremaining: 3m 34s\n",
            "267:\tlearn: 0.7501791\ttotal: 1m 18s\tremaining: 3m 33s\n",
            "268:\tlearn: 0.7500603\ttotal: 1m 18s\tremaining: 3m 33s\n",
            "269:\tlearn: 0.7498398\ttotal: 1m 18s\tremaining: 3m 32s\n",
            "270:\tlearn: 0.7496070\ttotal: 1m 19s\tremaining: 3m 32s\n",
            "271:\tlearn: 0.7495064\ttotal: 1m 19s\tremaining: 3m 32s\n",
            "272:\tlearn: 0.7494156\ttotal: 1m 19s\tremaining: 3m 31s\n",
            "273:\tlearn: 0.7493137\ttotal: 1m 19s\tremaining: 3m 31s\n",
            "274:\tlearn: 0.7491544\ttotal: 1m 20s\tremaining: 3m 31s\n",
            "275:\tlearn: 0.7488732\ttotal: 1m 20s\tremaining: 3m 31s\n",
            "276:\tlearn: 0.7486038\ttotal: 1m 21s\tremaining: 3m 31s\n",
            "277:\tlearn: 0.7484142\ttotal: 1m 21s\tremaining: 3m 32s\n",
            "278:\tlearn: 0.7482335\ttotal: 1m 22s\tremaining: 3m 32s\n",
            "279:\tlearn: 0.7480783\ttotal: 1m 22s\tremaining: 3m 32s\n",
            "280:\tlearn: 0.7478108\ttotal: 1m 22s\tremaining: 3m 31s\n",
            "281:\tlearn: 0.7476281\ttotal: 1m 23s\tremaining: 3m 31s\n",
            "282:\tlearn: 0.7474591\ttotal: 1m 23s\tremaining: 3m 31s\n",
            "283:\tlearn: 0.7472704\ttotal: 1m 23s\tremaining: 3m 30s\n",
            "284:\tlearn: 0.7470406\ttotal: 1m 23s\tremaining: 3m 30s\n",
            "285:\tlearn: 0.7468261\ttotal: 1m 24s\tremaining: 3m 29s\n",
            "286:\tlearn: 0.7466222\ttotal: 1m 24s\tremaining: 3m 29s\n",
            "287:\tlearn: 0.7464058\ttotal: 1m 24s\tremaining: 3m 29s\n",
            "288:\tlearn: 0.7462634\ttotal: 1m 24s\tremaining: 3m 28s\n",
            "289:\tlearn: 0.7460628\ttotal: 1m 25s\tremaining: 3m 28s\n",
            "290:\tlearn: 0.7459202\ttotal: 1m 25s\tremaining: 3m 27s\n",
            "291:\tlearn: 0.7457507\ttotal: 1m 25s\tremaining: 3m 27s\n",
            "292:\tlearn: 0.7454905\ttotal: 1m 25s\tremaining: 3m 27s\n",
            "293:\tlearn: 0.7452534\ttotal: 1m 26s\tremaining: 3m 26s\n",
            "294:\tlearn: 0.7450366\ttotal: 1m 26s\tremaining: 3m 26s\n",
            "295:\tlearn: 0.7448859\ttotal: 1m 26s\tremaining: 3m 26s\n",
            "296:\tlearn: 0.7445787\ttotal: 1m 26s\tremaining: 3m 25s\n",
            "297:\tlearn: 0.7444456\ttotal: 1m 27s\tremaining: 3m 25s\n",
            "298:\tlearn: 0.7443378\ttotal: 1m 27s\tremaining: 3m 24s\n",
            "299:\tlearn: 0.7442545\ttotal: 1m 27s\tremaining: 3m 24s\n",
            "300:\tlearn: 0.7440889\ttotal: 1m 27s\tremaining: 3m 24s\n",
            "301:\tlearn: 0.7438432\ttotal: 1m 28s\tremaining: 3m 23s\n",
            "302:\tlearn: 0.7436467\ttotal: 1m 28s\tremaining: 3m 23s\n",
            "303:\tlearn: 0.7434685\ttotal: 1m 28s\tremaining: 3m 23s\n",
            "304:\tlearn: 0.7432556\ttotal: 1m 28s\tremaining: 3m 22s\n",
            "305:\tlearn: 0.7431215\ttotal: 1m 29s\tremaining: 3m 22s\n",
            "306:\tlearn: 0.7427931\ttotal: 1m 29s\tremaining: 3m 22s\n",
            "307:\tlearn: 0.7426567\ttotal: 1m 29s\tremaining: 3m 21s\n",
            "308:\tlearn: 0.7424374\ttotal: 1m 30s\tremaining: 3m 21s\n",
            "309:\tlearn: 0.7421173\ttotal: 1m 30s\tremaining: 3m 20s\n",
            "310:\tlearn: 0.7419769\ttotal: 1m 30s\tremaining: 3m 20s\n",
            "311:\tlearn: 0.7418223\ttotal: 1m 30s\tremaining: 3m 20s\n",
            "312:\tlearn: 0.7416395\ttotal: 1m 31s\tremaining: 3m 19s\n",
            "313:\tlearn: 0.7414628\ttotal: 1m 31s\tremaining: 3m 19s\n",
            "314:\tlearn: 0.7412485\ttotal: 1m 31s\tremaining: 3m 19s\n",
            "315:\tlearn: 0.7409990\ttotal: 1m 31s\tremaining: 3m 18s\n",
            "316:\tlearn: 0.7408096\ttotal: 1m 32s\tremaining: 3m 18s\n",
            "317:\tlearn: 0.7406151\ttotal: 1m 32s\tremaining: 3m 18s\n",
            "318:\tlearn: 0.7405468\ttotal: 1m 32s\tremaining: 3m 17s\n",
            "319:\tlearn: 0.7403064\ttotal: 1m 33s\tremaining: 3m 17s\n",
            "320:\tlearn: 0.7400929\ttotal: 1m 33s\tremaining: 3m 17s\n",
            "321:\tlearn: 0.7399661\ttotal: 1m 33s\tremaining: 3m 17s\n",
            "322:\tlearn: 0.7398392\ttotal: 1m 34s\tremaining: 3m 17s\n",
            "323:\tlearn: 0.7396941\ttotal: 1m 34s\tremaining: 3m 17s\n",
            "324:\tlearn: 0.7395661\ttotal: 1m 35s\tremaining: 3m 17s\n",
            "325:\tlearn: 0.7393888\ttotal: 1m 35s\tremaining: 3m 17s\n",
            "326:\tlearn: 0.7392114\ttotal: 1m 35s\tremaining: 3m 17s\n",
            "327:\tlearn: 0.7390666\ttotal: 1m 36s\tremaining: 3m 16s\n",
            "328:\tlearn: 0.7389455\ttotal: 1m 36s\tremaining: 3m 16s\n",
            "329:\tlearn: 0.7388640\ttotal: 1m 36s\tremaining: 3m 16s\n",
            "330:\tlearn: 0.7387187\ttotal: 1m 36s\tremaining: 3m 15s\n",
            "331:\tlearn: 0.7384969\ttotal: 1m 37s\tremaining: 3m 15s\n",
            "332:\tlearn: 0.7383512\ttotal: 1m 37s\tremaining: 3m 15s\n",
            "333:\tlearn: 0.7382908\ttotal: 1m 37s\tremaining: 3m 14s\n",
            "334:\tlearn: 0.7382407\ttotal: 1m 37s\tremaining: 3m 14s\n",
            "335:\tlearn: 0.7381333\ttotal: 1m 38s\tremaining: 3m 13s\n",
            "336:\tlearn: 0.7379678\ttotal: 1m 38s\tremaining: 3m 13s\n",
            "337:\tlearn: 0.7377889\ttotal: 1m 38s\tremaining: 3m 13s\n",
            "338:\tlearn: 0.7376111\ttotal: 1m 38s\tremaining: 3m 12s\n",
            "339:\tlearn: 0.7375352\ttotal: 1m 39s\tremaining: 3m 12s\n",
            "340:\tlearn: 0.7373755\ttotal: 1m 39s\tremaining: 3m 12s\n",
            "341:\tlearn: 0.7371114\ttotal: 1m 39s\tremaining: 3m 11s\n",
            "342:\tlearn: 0.7370353\ttotal: 1m 39s\tremaining: 3m 11s\n",
            "343:\tlearn: 0.7368929\ttotal: 1m 40s\tremaining: 3m 11s\n",
            "344:\tlearn: 0.7366968\ttotal: 1m 40s\tremaining: 3m 10s\n",
            "345:\tlearn: 0.7365883\ttotal: 1m 40s\tremaining: 3m 10s\n",
            "346:\tlearn: 0.7363523\ttotal: 1m 40s\tremaining: 3m 10s\n",
            "347:\tlearn: 0.7361569\ttotal: 1m 41s\tremaining: 3m 9s\n",
            "348:\tlearn: 0.7359030\ttotal: 1m 41s\tremaining: 3m 9s\n",
            "349:\tlearn: 0.7357824\ttotal: 1m 41s\tremaining: 3m 9s\n",
            "350:\tlearn: 0.7355914\ttotal: 1m 42s\tremaining: 3m 8s\n",
            "351:\tlearn: 0.7354326\ttotal: 1m 42s\tremaining: 3m 8s\n",
            "352:\tlearn: 0.7353137\ttotal: 1m 42s\tremaining: 3m 7s\n",
            "353:\tlearn: 0.7351897\ttotal: 1m 42s\tremaining: 3m 7s\n",
            "354:\tlearn: 0.7350959\ttotal: 1m 43s\tremaining: 3m 7s\n",
            "355:\tlearn: 0.7349756\ttotal: 1m 43s\tremaining: 3m 6s\n",
            "356:\tlearn: 0.7347612\ttotal: 1m 43s\tremaining: 3m 6s\n",
            "357:\tlearn: 0.7346137\ttotal: 1m 43s\tremaining: 3m 6s\n",
            "358:\tlearn: 0.7344948\ttotal: 1m 44s\tremaining: 3m 5s\n",
            "359:\tlearn: 0.7343404\ttotal: 1m 44s\tremaining: 3m 5s\n",
            "360:\tlearn: 0.7339453\ttotal: 1m 44s\tremaining: 3m 5s\n",
            "361:\tlearn: 0.7337971\ttotal: 1m 44s\tremaining: 3m 4s\n",
            "362:\tlearn: 0.7335989\ttotal: 1m 45s\tremaining: 3m 4s\n",
            "363:\tlearn: 0.7335296\ttotal: 1m 45s\tremaining: 3m 4s\n",
            "364:\tlearn: 0.7332474\ttotal: 1m 45s\tremaining: 3m 4s\n",
            "365:\tlearn: 0.7331768\ttotal: 1m 46s\tremaining: 3m 4s\n",
            "366:\tlearn: 0.7330393\ttotal: 1m 46s\tremaining: 3m 3s\n",
            "367:\tlearn: 0.7326982\ttotal: 1m 47s\tremaining: 3m 3s\n",
            "368:\tlearn: 0.7325567\ttotal: 1m 47s\tremaining: 3m 3s\n",
            "369:\tlearn: 0.7324678\ttotal: 1m 48s\tremaining: 3m 3s\n",
            "370:\tlearn: 0.7323647\ttotal: 1m 48s\tremaining: 3m 3s\n",
            "371:\tlearn: 0.7322858\ttotal: 1m 48s\tremaining: 3m 3s\n",
            "372:\tlearn: 0.7319925\ttotal: 1m 48s\tremaining: 3m 3s\n",
            "373:\tlearn: 0.7318324\ttotal: 1m 49s\tremaining: 3m 2s\n",
            "374:\tlearn: 0.7317066\ttotal: 1m 49s\tremaining: 3m 2s\n",
            "375:\tlearn: 0.7316004\ttotal: 1m 49s\tremaining: 3m 1s\n",
            "376:\tlearn: 0.7314476\ttotal: 1m 50s\tremaining: 3m 2s\n",
            "377:\tlearn: 0.7312075\ttotal: 1m 50s\tremaining: 3m 2s\n",
            "378:\tlearn: 0.7310985\ttotal: 1m 51s\tremaining: 3m 1s\n",
            "379:\tlearn: 0.7309038\ttotal: 1m 51s\tremaining: 3m 1s\n",
            "380:\tlearn: 0.7307743\ttotal: 1m 51s\tremaining: 3m 1s\n",
            "381:\tlearn: 0.7306454\ttotal: 1m 51s\tremaining: 3m\n",
            "382:\tlearn: 0.7304759\ttotal: 1m 52s\tremaining: 3m\n",
            "383:\tlearn: 0.7302213\ttotal: 1m 52s\tremaining: 3m\n",
            "384:\tlearn: 0.7301071\ttotal: 1m 52s\tremaining: 2m 59s\n",
            "385:\tlearn: 0.7299546\ttotal: 1m 52s\tremaining: 2m 59s\n",
            "386:\tlearn: 0.7298419\ttotal: 1m 53s\tremaining: 2m 59s\n",
            "387:\tlearn: 0.7297201\ttotal: 1m 53s\tremaining: 2m 58s\n",
            "388:\tlearn: 0.7296067\ttotal: 1m 53s\tremaining: 2m 58s\n",
            "389:\tlearn: 0.7295459\ttotal: 1m 53s\tremaining: 2m 58s\n",
            "390:\tlearn: 0.7294264\ttotal: 1m 54s\tremaining: 2m 57s\n",
            "391:\tlearn: 0.7292536\ttotal: 1m 54s\tremaining: 2m 57s\n",
            "392:\tlearn: 0.7291427\ttotal: 1m 54s\tremaining: 2m 57s\n",
            "393:\tlearn: 0.7290209\ttotal: 1m 54s\tremaining: 2m 56s\n",
            "394:\tlearn: 0.7289004\ttotal: 1m 55s\tremaining: 2m 56s\n",
            "395:\tlearn: 0.7287487\ttotal: 1m 55s\tremaining: 2m 56s\n",
            "396:\tlearn: 0.7286276\ttotal: 1m 55s\tremaining: 2m 55s\n",
            "397:\tlearn: 0.7284996\ttotal: 1m 56s\tremaining: 2m 55s\n",
            "398:\tlearn: 0.7282684\ttotal: 1m 56s\tremaining: 2m 55s\n",
            "399:\tlearn: 0.7281759\ttotal: 1m 57s\tremaining: 2m 55s\n",
            "400:\tlearn: 0.7280757\ttotal: 1m 57s\tremaining: 2m 55s\n",
            "401:\tlearn: 0.7279821\ttotal: 1m 58s\tremaining: 2m 55s\n",
            "402:\tlearn: 0.7276202\ttotal: 1m 58s\tremaining: 2m 55s\n",
            "403:\tlearn: 0.7274454\ttotal: 1m 59s\tremaining: 2m 56s\n",
            "404:\tlearn: 0.7273202\ttotal: 2m\tremaining: 2m 56s\n",
            "405:\tlearn: 0.7271019\ttotal: 2m 1s\tremaining: 2m 57s\n",
            "406:\tlearn: 0.7270016\ttotal: 2m 2s\tremaining: 2m 58s\n",
            "407:\tlearn: 0.7268823\ttotal: 2m 2s\tremaining: 2m 58s\n",
            "408:\tlearn: 0.7266362\ttotal: 2m 3s\tremaining: 2m 58s\n",
            "409:\tlearn: 0.7264848\ttotal: 2m 3s\tremaining: 2m 58s\n",
            "410:\tlearn: 0.7262910\ttotal: 2m 4s\tremaining: 2m 58s\n",
            "411:\tlearn: 0.7260855\ttotal: 2m 5s\tremaining: 2m 58s\n",
            "412:\tlearn: 0.7259217\ttotal: 2m 5s\tremaining: 2m 58s\n",
            "413:\tlearn: 0.7258098\ttotal: 2m 5s\tremaining: 2m 57s\n",
            "414:\tlearn: 0.7256801\ttotal: 2m 5s\tremaining: 2m 57s\n",
            "415:\tlearn: 0.7256181\ttotal: 2m 6s\tremaining: 2m 57s\n",
            "416:\tlearn: 0.7254606\ttotal: 2m 6s\tremaining: 2m 56s\n",
            "417:\tlearn: 0.7254060\ttotal: 2m 6s\tremaining: 2m 56s\n",
            "418:\tlearn: 0.7252737\ttotal: 2m 6s\tremaining: 2m 56s\n",
            "419:\tlearn: 0.7251234\ttotal: 2m 7s\tremaining: 2m 55s\n",
            "420:\tlearn: 0.7249313\ttotal: 2m 7s\tremaining: 2m 55s\n",
            "421:\tlearn: 0.7246356\ttotal: 2m 7s\tremaining: 2m 54s\n",
            "422:\tlearn: 0.7244174\ttotal: 2m 7s\tremaining: 2m 54s\n",
            "423:\tlearn: 0.7242832\ttotal: 2m 8s\tremaining: 2m 54s\n",
            "424:\tlearn: 0.7240870\ttotal: 2m 8s\tremaining: 2m 53s\n",
            "425:\tlearn: 0.7240034\ttotal: 2m 8s\tremaining: 2m 53s\n",
            "426:\tlearn: 0.7237882\ttotal: 2m 9s\tremaining: 2m 53s\n",
            "427:\tlearn: 0.7234353\ttotal: 2m 9s\tremaining: 2m 52s\n",
            "428:\tlearn: 0.7232916\ttotal: 2m 9s\tremaining: 2m 52s\n",
            "429:\tlearn: 0.7232350\ttotal: 2m 9s\tremaining: 2m 52s\n",
            "430:\tlearn: 0.7230241\ttotal: 2m 10s\tremaining: 2m 51s\n",
            "431:\tlearn: 0.7226797\ttotal: 2m 10s\tremaining: 2m 51s\n",
            "432:\tlearn: 0.7225036\ttotal: 2m 10s\tremaining: 2m 50s\n",
            "433:\tlearn: 0.7224015\ttotal: 2m 10s\tremaining: 2m 50s\n",
            "434:\tlearn: 0.7222644\ttotal: 2m 11s\tremaining: 2m 50s\n",
            "435:\tlearn: 0.7219663\ttotal: 2m 11s\tremaining: 2m 49s\n",
            "436:\tlearn: 0.7218187\ttotal: 2m 11s\tremaining: 2m 49s\n",
            "437:\tlearn: 0.7216681\ttotal: 2m 12s\tremaining: 2m 49s\n",
            "438:\tlearn: 0.7215195\ttotal: 2m 12s\tremaining: 2m 49s\n",
            "439:\tlearn: 0.7212879\ttotal: 2m 13s\tremaining: 2m 49s\n",
            "440:\tlearn: 0.7210344\ttotal: 2m 13s\tremaining: 2m 49s\n",
            "441:\tlearn: 0.7208734\ttotal: 2m 14s\tremaining: 2m 49s\n",
            "442:\tlearn: 0.7205162\ttotal: 2m 14s\tremaining: 2m 48s\n",
            "443:\tlearn: 0.7203887\ttotal: 2m 14s\tremaining: 2m 48s\n",
            "444:\tlearn: 0.7202574\ttotal: 2m 14s\tremaining: 2m 48s\n",
            "445:\tlearn: 0.7201313\ttotal: 2m 15s\tremaining: 2m 47s\n",
            "446:\tlearn: 0.7200654\ttotal: 2m 15s\tremaining: 2m 47s\n",
            "447:\tlearn: 0.7199980\ttotal: 2m 15s\tremaining: 2m 47s\n",
            "448:\tlearn: 0.7198902\ttotal: 2m 15s\tremaining: 2m 46s\n",
            "449:\tlearn: 0.7197091\ttotal: 2m 16s\tremaining: 2m 46s\n",
            "450:\tlearn: 0.7196077\ttotal: 2m 16s\tremaining: 2m 46s\n",
            "451:\tlearn: 0.7194768\ttotal: 2m 16s\tremaining: 2m 45s\n",
            "452:\tlearn: 0.7193532\ttotal: 2m 16s\tremaining: 2m 45s\n",
            "453:\tlearn: 0.7192559\ttotal: 2m 17s\tremaining: 2m 45s\n",
            "454:\tlearn: 0.7191727\ttotal: 2m 17s\tremaining: 2m 44s\n",
            "455:\tlearn: 0.7189552\ttotal: 2m 17s\tremaining: 2m 44s\n",
            "456:\tlearn: 0.7187510\ttotal: 2m 18s\tremaining: 2m 44s\n",
            "457:\tlearn: 0.7185759\ttotal: 2m 18s\tremaining: 2m 43s\n",
            "458:\tlearn: 0.7185028\ttotal: 2m 18s\tremaining: 2m 43s\n",
            "459:\tlearn: 0.7183317\ttotal: 2m 18s\tremaining: 2m 42s\n",
            "460:\tlearn: 0.7182278\ttotal: 2m 19s\tremaining: 2m 42s\n",
            "461:\tlearn: 0.7180858\ttotal: 2m 19s\tremaining: 2m 42s\n",
            "462:\tlearn: 0.7179213\ttotal: 2m 19s\tremaining: 2m 41s\n",
            "463:\tlearn: 0.7178575\ttotal: 2m 19s\tremaining: 2m 41s\n",
            "464:\tlearn: 0.7177238\ttotal: 2m 20s\tremaining: 2m 41s\n",
            "465:\tlearn: 0.7176498\ttotal: 2m 20s\tremaining: 2m 40s\n",
            "466:\tlearn: 0.7174379\ttotal: 2m 20s\tremaining: 2m 40s\n",
            "467:\tlearn: 0.7173514\ttotal: 2m 20s\tremaining: 2m 40s\n",
            "468:\tlearn: 0.7172288\ttotal: 2m 21s\tremaining: 2m 39s\n",
            "469:\tlearn: 0.7170216\ttotal: 2m 21s\tremaining: 2m 39s\n",
            "470:\tlearn: 0.7169080\ttotal: 2m 21s\tremaining: 2m 39s\n",
            "471:\tlearn: 0.7168399\ttotal: 2m 21s\tremaining: 2m 38s\n",
            "472:\tlearn: 0.7167403\ttotal: 2m 22s\tremaining: 2m 38s\n",
            "473:\tlearn: 0.7166136\ttotal: 2m 22s\tremaining: 2m 38s\n",
            "474:\tlearn: 0.7164676\ttotal: 2m 22s\tremaining: 2m 37s\n",
            "475:\tlearn: 0.7162650\ttotal: 2m 23s\tremaining: 2m 37s\n",
            "476:\tlearn: 0.7160650\ttotal: 2m 23s\tremaining: 2m 37s\n",
            "477:\tlearn: 0.7159685\ttotal: 2m 23s\tremaining: 2m 36s\n",
            "478:\tlearn: 0.7158508\ttotal: 2m 23s\tremaining: 2m 36s\n",
            "479:\tlearn: 0.7157574\ttotal: 2m 24s\tremaining: 2m 36s\n",
            "480:\tlearn: 0.7155860\ttotal: 2m 24s\tremaining: 2m 35s\n",
            "481:\tlearn: 0.7154686\ttotal: 2m 24s\tremaining: 2m 35s\n",
            "482:\tlearn: 0.7153838\ttotal: 2m 25s\tremaining: 2m 35s\n",
            "483:\tlearn: 0.7152645\ttotal: 2m 25s\tremaining: 2m 35s\n",
            "484:\tlearn: 0.7151182\ttotal: 2m 26s\tremaining: 2m 35s\n",
            "485:\tlearn: 0.7149369\ttotal: 2m 26s\tremaining: 2m 35s\n",
            "486:\tlearn: 0.7147650\ttotal: 2m 27s\tremaining: 2m 34s\n",
            "487:\tlearn: 0.7146845\ttotal: 2m 27s\tremaining: 2m 34s\n",
            "488:\tlearn: 0.7146248\ttotal: 2m 27s\tremaining: 2m 34s\n",
            "489:\tlearn: 0.7145255\ttotal: 2m 28s\tremaining: 2m 34s\n",
            "490:\tlearn: 0.7143911\ttotal: 2m 28s\tremaining: 2m 33s\n",
            "491:\tlearn: 0.7142623\ttotal: 2m 29s\tremaining: 2m 33s\n",
            "492:\tlearn: 0.7141943\ttotal: 2m 29s\tremaining: 2m 33s\n",
            "493:\tlearn: 0.7141004\ttotal: 2m 30s\tremaining: 2m 33s\n",
            "494:\tlearn: 0.7139599\ttotal: 2m 30s\tremaining: 2m 33s\n",
            "495:\tlearn: 0.7137911\ttotal: 2m 31s\tremaining: 2m 33s\n",
            "496:\tlearn: 0.7137053\ttotal: 2m 31s\tremaining: 2m 33s\n",
            "497:\tlearn: 0.7135994\ttotal: 2m 32s\tremaining: 2m 33s\n",
            "498:\tlearn: 0.7134961\ttotal: 2m 32s\tremaining: 2m 33s\n",
            "499:\tlearn: 0.7133980\ttotal: 2m 32s\tremaining: 2m 32s\n",
            "500:\tlearn: 0.7132415\ttotal: 2m 33s\tremaining: 2m 32s\n",
            "501:\tlearn: 0.7131595\ttotal: 2m 33s\tremaining: 2m 32s\n",
            "502:\tlearn: 0.7130434\ttotal: 2m 33s\tremaining: 2m 31s\n",
            "503:\tlearn: 0.7129728\ttotal: 2m 33s\tremaining: 2m 31s\n",
            "504:\tlearn: 0.7128105\ttotal: 2m 34s\tremaining: 2m 31s\n",
            "505:\tlearn: 0.7126919\ttotal: 2m 34s\tremaining: 2m 30s\n",
            "506:\tlearn: 0.7126135\ttotal: 2m 34s\tremaining: 2m 30s\n",
            "507:\tlearn: 0.7125057\ttotal: 2m 34s\tremaining: 2m 29s\n",
            "508:\tlearn: 0.7123650\ttotal: 2m 35s\tremaining: 2m 29s\n",
            "509:\tlearn: 0.7121583\ttotal: 2m 35s\tremaining: 2m 29s\n",
            "510:\tlearn: 0.7120650\ttotal: 2m 35s\tremaining: 2m 28s\n",
            "511:\tlearn: 0.7117528\ttotal: 2m 35s\tremaining: 2m 28s\n",
            "512:\tlearn: 0.7115602\ttotal: 2m 36s\tremaining: 2m 28s\n",
            "513:\tlearn: 0.7114204\ttotal: 2m 36s\tremaining: 2m 27s\n",
            "514:\tlearn: 0.7112591\ttotal: 2m 36s\tremaining: 2m 27s\n",
            "515:\tlearn: 0.7111455\ttotal: 2m 37s\tremaining: 2m 27s\n",
            "516:\tlearn: 0.7110477\ttotal: 2m 37s\tremaining: 2m 27s\n",
            "517:\tlearn: 0.7109361\ttotal: 2m 37s\tremaining: 2m 26s\n",
            "518:\tlearn: 0.7108207\ttotal: 2m 38s\tremaining: 2m 26s\n",
            "519:\tlearn: 0.7107292\ttotal: 2m 38s\tremaining: 2m 26s\n",
            "520:\tlearn: 0.7106131\ttotal: 2m 39s\tremaining: 2m 26s\n",
            "521:\tlearn: 0.7105470\ttotal: 2m 39s\tremaining: 2m 26s\n",
            "522:\tlearn: 0.7104025\ttotal: 2m 40s\tremaining: 2m 26s\n",
            "523:\tlearn: 0.7102861\ttotal: 2m 40s\tremaining: 2m 25s\n",
            "524:\tlearn: 0.7100559\ttotal: 2m 40s\tremaining: 2m 25s\n",
            "525:\tlearn: 0.7099811\ttotal: 2m 40s\tremaining: 2m 24s\n",
            "526:\tlearn: 0.7098312\ttotal: 2m 41s\tremaining: 2m 24s\n",
            "527:\tlearn: 0.7097309\ttotal: 2m 41s\tremaining: 2m 24s\n",
            "528:\tlearn: 0.7096445\ttotal: 2m 41s\tremaining: 2m 23s\n",
            "529:\tlearn: 0.7095707\ttotal: 2m 41s\tremaining: 2m 23s\n",
            "530:\tlearn: 0.7094762\ttotal: 2m 42s\tremaining: 2m 23s\n",
            "531:\tlearn: 0.7093367\ttotal: 2m 42s\tremaining: 2m 22s\n",
            "532:\tlearn: 0.7092406\ttotal: 2m 42s\tremaining: 2m 22s\n",
            "533:\tlearn: 0.7091316\ttotal: 2m 42s\tremaining: 2m 22s\n",
            "534:\tlearn: 0.7090270\ttotal: 2m 43s\tremaining: 2m 21s\n",
            "535:\tlearn: 0.7089622\ttotal: 2m 43s\tremaining: 2m 21s\n",
            "536:\tlearn: 0.7087214\ttotal: 2m 43s\tremaining: 2m 21s\n",
            "537:\tlearn: 0.7085969\ttotal: 2m 44s\tremaining: 2m 20s\n",
            "538:\tlearn: 0.7084781\ttotal: 2m 44s\tremaining: 2m 20s\n",
            "539:\tlearn: 0.7083605\ttotal: 2m 44s\tremaining: 2m 20s\n",
            "540:\tlearn: 0.7082425\ttotal: 2m 44s\tremaining: 2m 19s\n",
            "541:\tlearn: 0.7081621\ttotal: 2m 45s\tremaining: 2m 19s\n",
            "542:\tlearn: 0.7080664\ttotal: 2m 45s\tremaining: 2m 19s\n",
            "543:\tlearn: 0.7079403\ttotal: 2m 45s\tremaining: 2m 18s\n",
            "544:\tlearn: 0.7076963\ttotal: 2m 45s\tremaining: 2m 18s\n",
            "545:\tlearn: 0.7076101\ttotal: 2m 46s\tremaining: 2m 18s\n",
            "546:\tlearn: 0.7074911\ttotal: 2m 46s\tremaining: 2m 17s\n",
            "547:\tlearn: 0.7073889\ttotal: 2m 46s\tremaining: 2m 17s\n",
            "548:\tlearn: 0.7072868\ttotal: 2m 46s\tremaining: 2m 17s\n",
            "549:\tlearn: 0.7072225\ttotal: 2m 47s\tremaining: 2m 16s\n",
            "550:\tlearn: 0.7071523\ttotal: 2m 47s\tremaining: 2m 16s\n",
            "551:\tlearn: 0.7070741\ttotal: 2m 47s\tremaining: 2m 16s\n",
            "552:\tlearn: 0.7069827\ttotal: 2m 48s\tremaining: 2m 15s\n",
            "553:\tlearn: 0.7068748\ttotal: 2m 48s\tremaining: 2m 15s\n",
            "554:\tlearn: 0.7066876\ttotal: 2m 48s\tremaining: 2m 15s\n",
            "555:\tlearn: 0.7064960\ttotal: 2m 48s\tremaining: 2m 14s\n",
            "556:\tlearn: 0.7063353\ttotal: 2m 49s\tremaining: 2m 14s\n",
            "557:\tlearn: 0.7062584\ttotal: 2m 49s\tremaining: 2m 14s\n",
            "558:\tlearn: 0.7061657\ttotal: 2m 49s\tremaining: 2m 13s\n",
            "559:\tlearn: 0.7060820\ttotal: 2m 49s\tremaining: 2m 13s\n",
            "560:\tlearn: 0.7059455\ttotal: 2m 50s\tremaining: 2m 13s\n",
            "561:\tlearn: 0.7058559\ttotal: 2m 50s\tremaining: 2m 13s\n",
            "562:\tlearn: 0.7057598\ttotal: 2m 51s\tremaining: 2m 12s\n",
            "563:\tlearn: 0.7056527\ttotal: 2m 51s\tremaining: 2m 12s\n",
            "564:\tlearn: 0.7055709\ttotal: 2m 51s\tremaining: 2m 12s\n",
            "565:\tlearn: 0.7054694\ttotal: 2m 52s\tremaining: 2m 12s\n",
            "566:\tlearn: 0.7053406\ttotal: 2m 52s\tremaining: 2m 12s\n",
            "567:\tlearn: 0.7052075\ttotal: 2m 53s\tremaining: 2m 11s\n",
            "568:\tlearn: 0.7051223\ttotal: 2m 53s\tremaining: 2m 11s\n",
            "569:\tlearn: 0.7050316\ttotal: 2m 53s\tremaining: 2m 11s\n",
            "570:\tlearn: 0.7049697\ttotal: 2m 53s\tremaining: 2m 10s\n",
            "571:\tlearn: 0.7048032\ttotal: 2m 54s\tremaining: 2m 10s\n",
            "572:\tlearn: 0.7047119\ttotal: 2m 54s\tremaining: 2m 10s\n",
            "573:\tlearn: 0.7046175\ttotal: 2m 54s\tremaining: 2m 9s\n",
            "574:\tlearn: 0.7044977\ttotal: 2m 54s\tremaining: 2m 9s\n",
            "575:\tlearn: 0.7042641\ttotal: 2m 55s\tremaining: 2m 9s\n",
            "576:\tlearn: 0.7040771\ttotal: 2m 55s\tremaining: 2m 8s\n",
            "577:\tlearn: 0.7040293\ttotal: 2m 55s\tremaining: 2m 8s\n",
            "578:\tlearn: 0.7039567\ttotal: 2m 56s\tremaining: 2m 7s\n",
            "579:\tlearn: 0.7037504\ttotal: 2m 56s\tremaining: 2m 7s\n",
            "580:\tlearn: 0.7037114\ttotal: 2m 56s\tremaining: 2m 7s\n",
            "581:\tlearn: 0.7036242\ttotal: 2m 56s\tremaining: 2m 7s\n",
            "582:\tlearn: 0.7034384\ttotal: 2m 57s\tremaining: 2m 6s\n",
            "583:\tlearn: 0.7032481\ttotal: 2m 57s\tremaining: 2m 6s\n",
            "584:\tlearn: 0.7031613\ttotal: 2m 57s\tremaining: 2m 6s\n",
            "585:\tlearn: 0.7030587\ttotal: 2m 57s\tremaining: 2m 5s\n",
            "586:\tlearn: 0.7029625\ttotal: 2m 58s\tremaining: 2m 5s\n",
            "587:\tlearn: 0.7028426\ttotal: 2m 58s\tremaining: 2m 5s\n",
            "588:\tlearn: 0.7027808\ttotal: 2m 58s\tremaining: 2m 4s\n",
            "589:\tlearn: 0.7026830\ttotal: 2m 58s\tremaining: 2m 4s\n",
            "590:\tlearn: 0.7024245\ttotal: 2m 59s\tremaining: 2m 4s\n",
            "591:\tlearn: 0.7022287\ttotal: 2m 59s\tremaining: 2m 3s\n",
            "592:\tlearn: 0.7021198\ttotal: 2m 59s\tremaining: 2m 3s\n",
            "593:\tlearn: 0.7020227\ttotal: 3m\tremaining: 2m 3s\n",
            "594:\tlearn: 0.7018692\ttotal: 3m\tremaining: 2m 2s\n",
            "595:\tlearn: 0.7017730\ttotal: 3m\tremaining: 2m 2s\n",
            "596:\tlearn: 0.7016711\ttotal: 3m\tremaining: 2m 2s\n",
            "597:\tlearn: 0.7015521\ttotal: 3m 1s\tremaining: 2m 1s\n",
            "598:\tlearn: 0.7014311\ttotal: 3m 1s\tremaining: 2m 1s\n",
            "599:\tlearn: 0.7012041\ttotal: 3m 1s\tremaining: 2m 1s\n",
            "600:\tlearn: 0.7010318\ttotal: 3m 1s\tremaining: 2m\n",
            "601:\tlearn: 0.7008753\ttotal: 3m 2s\tremaining: 2m\n",
            "602:\tlearn: 0.7007959\ttotal: 3m 2s\tremaining: 2m\n",
            "603:\tlearn: 0.7005810\ttotal: 3m 2s\tremaining: 1m 59s\n",
            "604:\tlearn: 0.7004841\ttotal: 3m 2s\tremaining: 1m 59s\n",
            "605:\tlearn: 0.7004130\ttotal: 3m 3s\tremaining: 1m 59s\n",
            "606:\tlearn: 0.7003217\ttotal: 3m 3s\tremaining: 1m 58s\n",
            "607:\tlearn: 0.7001654\ttotal: 3m 4s\tremaining: 1m 58s\n",
            "608:\tlearn: 0.7000202\ttotal: 3m 4s\tremaining: 1m 58s\n",
            "609:\tlearn: 0.6999391\ttotal: 3m 4s\tremaining: 1m 58s\n",
            "610:\tlearn: 0.6998740\ttotal: 3m 5s\tremaining: 1m 57s\n",
            "611:\tlearn: 0.6997542\ttotal: 3m 5s\tremaining: 1m 57s\n",
            "612:\tlearn: 0.6996567\ttotal: 3m 6s\tremaining: 1m 57s\n",
            "613:\tlearn: 0.6996005\ttotal: 3m 6s\tremaining: 1m 57s\n",
            "614:\tlearn: 0.6993706\ttotal: 3m 6s\tremaining: 1m 56s\n",
            "615:\tlearn: 0.6992719\ttotal: 3m 6s\tremaining: 1m 56s\n",
            "616:\tlearn: 0.6991822\ttotal: 3m 7s\tremaining: 1m 56s\n",
            "617:\tlearn: 0.6991019\ttotal: 3m 7s\tremaining: 1m 55s\n",
            "618:\tlearn: 0.6989011\ttotal: 3m 7s\tremaining: 1m 55s\n",
            "619:\tlearn: 0.6988454\ttotal: 3m 7s\tremaining: 1m 55s\n",
            "620:\tlearn: 0.6987777\ttotal: 3m 8s\tremaining: 1m 54s\n",
            "621:\tlearn: 0.6987131\ttotal: 3m 8s\tremaining: 1m 54s\n",
            "622:\tlearn: 0.6986048\ttotal: 3m 8s\tremaining: 1m 54s\n",
            "623:\tlearn: 0.6984805\ttotal: 3m 9s\tremaining: 1m 53s\n",
            "624:\tlearn: 0.6983178\ttotal: 3m 9s\tremaining: 1m 53s\n",
            "625:\tlearn: 0.6982169\ttotal: 3m 9s\tremaining: 1m 53s\n",
            "626:\tlearn: 0.6980744\ttotal: 3m 9s\tremaining: 1m 52s\n",
            "627:\tlearn: 0.6979792\ttotal: 3m 10s\tremaining: 1m 52s\n",
            "628:\tlearn: 0.6977019\ttotal: 3m 10s\tremaining: 1m 52s\n",
            "629:\tlearn: 0.6975597\ttotal: 3m 10s\tremaining: 1m 51s\n",
            "630:\tlearn: 0.6974940\ttotal: 3m 10s\tremaining: 1m 51s\n",
            "631:\tlearn: 0.6973948\ttotal: 3m 11s\tremaining: 1m 51s\n",
            "632:\tlearn: 0.6973159\ttotal: 3m 11s\tremaining: 1m 50s\n",
            "633:\tlearn: 0.6971322\ttotal: 3m 11s\tremaining: 1m 50s\n",
            "634:\tlearn: 0.6970275\ttotal: 3m 11s\tremaining: 1m 50s\n",
            "635:\tlearn: 0.6968759\ttotal: 3m 12s\tremaining: 1m 50s\n",
            "636:\tlearn: 0.6967684\ttotal: 3m 12s\tremaining: 1m 49s\n",
            "637:\tlearn: 0.6965841\ttotal: 3m 12s\tremaining: 1m 49s\n",
            "638:\tlearn: 0.6964575\ttotal: 3m 12s\tremaining: 1m 49s\n",
            "639:\tlearn: 0.6963261\ttotal: 3m 13s\tremaining: 1m 48s\n",
            "640:\tlearn: 0.6962473\ttotal: 3m 13s\tremaining: 1m 48s\n",
            "641:\tlearn: 0.6960604\ttotal: 3m 13s\tremaining: 1m 48s\n",
            "642:\tlearn: 0.6959822\ttotal: 3m 14s\tremaining: 1m 47s\n",
            "643:\tlearn: 0.6958281\ttotal: 3m 14s\tremaining: 1m 47s\n",
            "644:\tlearn: 0.6957224\ttotal: 3m 14s\tremaining: 1m 47s\n",
            "645:\tlearn: 0.6955789\ttotal: 3m 14s\tremaining: 1m 46s\n",
            "646:\tlearn: 0.6955038\ttotal: 3m 15s\tremaining: 1m 46s\n",
            "647:\tlearn: 0.6953272\ttotal: 3m 15s\tremaining: 1m 46s\n",
            "648:\tlearn: 0.6952036\ttotal: 3m 15s\tremaining: 1m 45s\n",
            "649:\tlearn: 0.6951312\ttotal: 3m 15s\tremaining: 1m 45s\n",
            "650:\tlearn: 0.6949845\ttotal: 3m 16s\tremaining: 1m 45s\n",
            "651:\tlearn: 0.6949191\ttotal: 3m 16s\tremaining: 1m 44s\n",
            "652:\tlearn: 0.6948568\ttotal: 3m 17s\tremaining: 1m 44s\n",
            "653:\tlearn: 0.6947402\ttotal: 3m 17s\tremaining: 1m 44s\n",
            "654:\tlearn: 0.6945672\ttotal: 3m 18s\tremaining: 1m 44s\n",
            "655:\tlearn: 0.6944788\ttotal: 3m 18s\tremaining: 1m 44s\n",
            "656:\tlearn: 0.6942775\ttotal: 3m 18s\tremaining: 1m 43s\n",
            "657:\tlearn: 0.6942474\ttotal: 3m 19s\tremaining: 1m 43s\n",
            "658:\tlearn: 0.6941099\ttotal: 3m 19s\tremaining: 1m 43s\n",
            "659:\tlearn: 0.6940212\ttotal: 3m 19s\tremaining: 1m 42s\n",
            "660:\tlearn: 0.6939004\ttotal: 3m 20s\tremaining: 1m 42s\n",
            "661:\tlearn: 0.6938284\ttotal: 3m 20s\tremaining: 1m 42s\n",
            "662:\tlearn: 0.6936649\ttotal: 3m 21s\tremaining: 1m 42s\n",
            "663:\tlearn: 0.6935123\ttotal: 3m 21s\tremaining: 1m 41s\n",
            "664:\tlearn: 0.6933259\ttotal: 3m 21s\tremaining: 1m 41s\n",
            "665:\tlearn: 0.6932092\ttotal: 3m 21s\tremaining: 1m 41s\n",
            "666:\tlearn: 0.6931325\ttotal: 3m 22s\tremaining: 1m 40s\n",
            "667:\tlearn: 0.6930341\ttotal: 3m 22s\tremaining: 1m 40s\n",
            "668:\tlearn: 0.6928752\ttotal: 3m 22s\tremaining: 1m 40s\n",
            "669:\tlearn: 0.6927574\ttotal: 3m 22s\tremaining: 1m 39s\n",
            "670:\tlearn: 0.6926481\ttotal: 3m 23s\tremaining: 1m 39s\n",
            "671:\tlearn: 0.6924930\ttotal: 3m 23s\tremaining: 1m 39s\n",
            "672:\tlearn: 0.6924119\ttotal: 3m 23s\tremaining: 1m 38s\n",
            "673:\tlearn: 0.6923451\ttotal: 3m 23s\tremaining: 1m 38s\n",
            "674:\tlearn: 0.6922306\ttotal: 3m 24s\tremaining: 1m 38s\n",
            "675:\tlearn: 0.6921166\ttotal: 3m 24s\tremaining: 1m 37s\n",
            "676:\tlearn: 0.6920782\ttotal: 3m 24s\tremaining: 1m 37s\n",
            "677:\tlearn: 0.6919602\ttotal: 3m 24s\tremaining: 1m 37s\n",
            "678:\tlearn: 0.6918766\ttotal: 3m 25s\tremaining: 1m 37s\n",
            "679:\tlearn: 0.6916802\ttotal: 3m 25s\tremaining: 1m 36s\n",
            "680:\tlearn: 0.6915755\ttotal: 3m 25s\tremaining: 1m 36s\n",
            "681:\tlearn: 0.6915283\ttotal: 3m 26s\tremaining: 1m 36s\n",
            "682:\tlearn: 0.6914511\ttotal: 3m 26s\tremaining: 1m 35s\n",
            "683:\tlearn: 0.6913862\ttotal: 3m 26s\tremaining: 1m 35s\n",
            "684:\tlearn: 0.6912612\ttotal: 3m 26s\tremaining: 1m 35s\n",
            "685:\tlearn: 0.6911867\ttotal: 3m 27s\tremaining: 1m 34s\n",
            "686:\tlearn: 0.6911169\ttotal: 3m 27s\tremaining: 1m 34s\n",
            "687:\tlearn: 0.6910653\ttotal: 3m 27s\tremaining: 1m 34s\n",
            "688:\tlearn: 0.6909878\ttotal: 3m 27s\tremaining: 1m 33s\n",
            "689:\tlearn: 0.6908851\ttotal: 3m 28s\tremaining: 1m 33s\n",
            "690:\tlearn: 0.6907887\ttotal: 3m 28s\tremaining: 1m 33s\n",
            "691:\tlearn: 0.6907218\ttotal: 3m 28s\tremaining: 1m 32s\n",
            "692:\tlearn: 0.6905972\ttotal: 3m 28s\tremaining: 1m 32s\n",
            "693:\tlearn: 0.6904613\ttotal: 3m 29s\tremaining: 1m 32s\n",
            "694:\tlearn: 0.6903922\ttotal: 3m 29s\tremaining: 1m 32s\n",
            "695:\tlearn: 0.6903278\ttotal: 3m 30s\tremaining: 1m 31s\n",
            "696:\tlearn: 0.6900947\ttotal: 3m 30s\tremaining: 1m 31s\n",
            "697:\tlearn: 0.6899784\ttotal: 3m 31s\tremaining: 1m 31s\n",
            "698:\tlearn: 0.6899366\ttotal: 3m 31s\tremaining: 1m 31s\n",
            "699:\tlearn: 0.6898492\ttotal: 3m 31s\tremaining: 1m 30s\n",
            "700:\tlearn: 0.6897657\ttotal: 3m 32s\tremaining: 1m 30s\n",
            "701:\tlearn: 0.6896430\ttotal: 3m 32s\tremaining: 1m 30s\n",
            "702:\tlearn: 0.6895096\ttotal: 3m 32s\tremaining: 1m 29s\n",
            "703:\tlearn: 0.6893906\ttotal: 3m 32s\tremaining: 1m 29s\n",
            "704:\tlearn: 0.6891240\ttotal: 3m 33s\tremaining: 1m 29s\n",
            "705:\tlearn: 0.6890136\ttotal: 3m 33s\tremaining: 1m 28s\n",
            "706:\tlearn: 0.6889083\ttotal: 3m 33s\tremaining: 1m 28s\n",
            "707:\tlearn: 0.6887906\ttotal: 3m 33s\tremaining: 1m 28s\n",
            "708:\tlearn: 0.6887246\ttotal: 3m 34s\tremaining: 1m 27s\n",
            "709:\tlearn: 0.6886323\ttotal: 3m 34s\tremaining: 1m 27s\n",
            "710:\tlearn: 0.6885577\ttotal: 3m 34s\tremaining: 1m 27s\n",
            "711:\tlearn: 0.6884538\ttotal: 3m 35s\tremaining: 1m 26s\n",
            "712:\tlearn: 0.6883263\ttotal: 3m 35s\tremaining: 1m 26s\n",
            "713:\tlearn: 0.6882328\ttotal: 3m 35s\tremaining: 1m 26s\n",
            "714:\tlearn: 0.6881366\ttotal: 3m 35s\tremaining: 1m 26s\n",
            "715:\tlearn: 0.6880685\ttotal: 3m 36s\tremaining: 1m 25s\n",
            "716:\tlearn: 0.6879722\ttotal: 3m 36s\tremaining: 1m 25s\n",
            "717:\tlearn: 0.6878613\ttotal: 3m 36s\tremaining: 1m 25s\n",
            "718:\tlearn: 0.6877920\ttotal: 3m 36s\tremaining: 1m 24s\n",
            "719:\tlearn: 0.6877247\ttotal: 3m 37s\tremaining: 1m 24s\n",
            "720:\tlearn: 0.6876331\ttotal: 3m 37s\tremaining: 1m 24s\n",
            "721:\tlearn: 0.6875251\ttotal: 3m 37s\tremaining: 1m 23s\n",
            "722:\tlearn: 0.6874383\ttotal: 3m 37s\tremaining: 1m 23s\n",
            "723:\tlearn: 0.6873858\ttotal: 3m 38s\tremaining: 1m 23s\n",
            "724:\tlearn: 0.6873400\ttotal: 3m 38s\tremaining: 1m 22s\n",
            "725:\tlearn: 0.6872580\ttotal: 3m 38s\tremaining: 1m 22s\n",
            "726:\tlearn: 0.6871186\ttotal: 3m 38s\tremaining: 1m 22s\n",
            "727:\tlearn: 0.6869475\ttotal: 3m 39s\tremaining: 1m 21s\n",
            "728:\tlearn: 0.6868488\ttotal: 3m 39s\tremaining: 1m 21s\n",
            "729:\tlearn: 0.6867811\ttotal: 3m 39s\tremaining: 1m 21s\n",
            "730:\tlearn: 0.6865521\ttotal: 3m 40s\tremaining: 1m 20s\n",
            "731:\tlearn: 0.6864617\ttotal: 3m 40s\tremaining: 1m 20s\n",
            "732:\tlearn: 0.6863635\ttotal: 3m 40s\tremaining: 1m 20s\n",
            "733:\tlearn: 0.6863147\ttotal: 3m 40s\tremaining: 1m 20s\n",
            "734:\tlearn: 0.6862134\ttotal: 3m 41s\tremaining: 1m 19s\n",
            "735:\tlearn: 0.6861531\ttotal: 3m 41s\tremaining: 1m 19s\n",
            "736:\tlearn: 0.6860213\ttotal: 3m 41s\tremaining: 1m 19s\n",
            "737:\tlearn: 0.6859078\ttotal: 3m 41s\tremaining: 1m 18s\n",
            "738:\tlearn: 0.6858330\ttotal: 3m 42s\tremaining: 1m 18s\n",
            "739:\tlearn: 0.6857365\ttotal: 3m 42s\tremaining: 1m 18s\n",
            "740:\tlearn: 0.6856694\ttotal: 3m 43s\tremaining: 1m 18s\n",
            "741:\tlearn: 0.6855932\ttotal: 3m 43s\tremaining: 1m 17s\n",
            "742:\tlearn: 0.6854659\ttotal: 3m 44s\tremaining: 1m 17s\n",
            "743:\tlearn: 0.6853816\ttotal: 3m 44s\tremaining: 1m 17s\n",
            "744:\tlearn: 0.6852033\ttotal: 3m 44s\tremaining: 1m 16s\n",
            "745:\tlearn: 0.6850882\ttotal: 3m 45s\tremaining: 1m 16s\n",
            "746:\tlearn: 0.6849909\ttotal: 3m 45s\tremaining: 1m 16s\n",
            "747:\tlearn: 0.6848659\ttotal: 3m 45s\tremaining: 1m 16s\n",
            "748:\tlearn: 0.6848247\ttotal: 3m 45s\tremaining: 1m 15s\n",
            "749:\tlearn: 0.6847011\ttotal: 3m 46s\tremaining: 1m 15s\n",
            "750:\tlearn: 0.6846309\ttotal: 3m 46s\tremaining: 1m 15s\n",
            "751:\tlearn: 0.6845283\ttotal: 3m 46s\tremaining: 1m 14s\n",
            "752:\tlearn: 0.6844171\ttotal: 3m 46s\tremaining: 1m 14s\n",
            "753:\tlearn: 0.6843146\ttotal: 3m 47s\tremaining: 1m 14s\n",
            "754:\tlearn: 0.6842411\ttotal: 3m 47s\tremaining: 1m 13s\n",
            "755:\tlearn: 0.6841544\ttotal: 3m 47s\tremaining: 1m 13s\n",
            "756:\tlearn: 0.6840135\ttotal: 3m 48s\tremaining: 1m 13s\n",
            "757:\tlearn: 0.6839587\ttotal: 3m 48s\tremaining: 1m 12s\n",
            "758:\tlearn: 0.6838766\ttotal: 3m 48s\tremaining: 1m 12s\n",
            "759:\tlearn: 0.6837671\ttotal: 3m 48s\tremaining: 1m 12s\n",
            "760:\tlearn: 0.6837139\ttotal: 3m 49s\tremaining: 1m 11s\n",
            "761:\tlearn: 0.6836327\ttotal: 3m 49s\tremaining: 1m 11s\n",
            "762:\tlearn: 0.6835374\ttotal: 3m 49s\tremaining: 1m 11s\n",
            "763:\tlearn: 0.6834240\ttotal: 3m 49s\tremaining: 1m 11s\n",
            "764:\tlearn: 0.6833263\ttotal: 3m 50s\tremaining: 1m 10s\n",
            "765:\tlearn: 0.6832340\ttotal: 3m 50s\tremaining: 1m 10s\n",
            "766:\tlearn: 0.6831408\ttotal: 3m 50s\tremaining: 1m 10s\n",
            "767:\tlearn: 0.6830684\ttotal: 3m 50s\tremaining: 1m 9s\n",
            "768:\tlearn: 0.6828232\ttotal: 3m 51s\tremaining: 1m 9s\n",
            "769:\tlearn: 0.6827421\ttotal: 3m 51s\tremaining: 1m 9s\n",
            "770:\tlearn: 0.6827103\ttotal: 3m 51s\tremaining: 1m 8s\n",
            "771:\tlearn: 0.6826003\ttotal: 3m 51s\tremaining: 1m 8s\n",
            "772:\tlearn: 0.6825197\ttotal: 3m 52s\tremaining: 1m 8s\n",
            "773:\tlearn: 0.6823979\ttotal: 3m 52s\tremaining: 1m 7s\n",
            "774:\tlearn: 0.6822772\ttotal: 3m 52s\tremaining: 1m 7s\n",
            "775:\tlearn: 0.6821858\ttotal: 3m 53s\tremaining: 1m 7s\n",
            "776:\tlearn: 0.6821053\ttotal: 3m 53s\tremaining: 1m 6s\n",
            "777:\tlearn: 0.6820145\ttotal: 3m 53s\tremaining: 1m 6s\n",
            "778:\tlearn: 0.6819160\ttotal: 3m 53s\tremaining: 1m 6s\n",
            "779:\tlearn: 0.6818262\ttotal: 3m 54s\tremaining: 1m 6s\n",
            "780:\tlearn: 0.6816540\ttotal: 3m 54s\tremaining: 1m 5s\n",
            "781:\tlearn: 0.6815973\ttotal: 3m 54s\tremaining: 1m 5s\n",
            "782:\tlearn: 0.6814662\ttotal: 3m 55s\tremaining: 1m 5s\n",
            "783:\tlearn: 0.6814129\ttotal: 3m 55s\tremaining: 1m 4s\n",
            "784:\tlearn: 0.6813042\ttotal: 3m 55s\tremaining: 1m 4s\n",
            "785:\tlearn: 0.6811582\ttotal: 3m 56s\tremaining: 1m 4s\n",
            "786:\tlearn: 0.6810862\ttotal: 3m 56s\tremaining: 1m 4s\n",
            "787:\tlearn: 0.6810079\ttotal: 3m 57s\tremaining: 1m 3s\n",
            "788:\tlearn: 0.6809489\ttotal: 3m 57s\tremaining: 1m 3s\n",
            "789:\tlearn: 0.6808434\ttotal: 3m 57s\tremaining: 1m 3s\n",
            "790:\tlearn: 0.6807455\ttotal: 3m 58s\tremaining: 1m 2s\n",
            "791:\tlearn: 0.6806427\ttotal: 3m 58s\tremaining: 1m 2s\n",
            "792:\tlearn: 0.6805778\ttotal: 3m 58s\tremaining: 1m 2s\n",
            "793:\tlearn: 0.6804569\ttotal: 3m 58s\tremaining: 1m 1s\n",
            "794:\tlearn: 0.6803058\ttotal: 3m 59s\tremaining: 1m 1s\n",
            "795:\tlearn: 0.6802208\ttotal: 3m 59s\tremaining: 1m 1s\n",
            "796:\tlearn: 0.6801586\ttotal: 3m 59s\tremaining: 1m 1s\n",
            "797:\tlearn: 0.6800476\ttotal: 3m 59s\tremaining: 1m\n",
            "798:\tlearn: 0.6799950\ttotal: 4m\tremaining: 1m\n",
            "799:\tlearn: 0.6798863\ttotal: 4m\tremaining: 1m\n",
            "800:\tlearn: 0.6797991\ttotal: 4m\tremaining: 59.8s\n",
            "801:\tlearn: 0.6797031\ttotal: 4m\tremaining: 59.5s\n",
            "802:\tlearn: 0.6796163\ttotal: 4m 1s\tremaining: 59.2s\n",
            "803:\tlearn: 0.6795213\ttotal: 4m 1s\tremaining: 58.9s\n",
            "804:\tlearn: 0.6794661\ttotal: 4m 1s\tremaining: 58.6s\n",
            "805:\tlearn: 0.6793969\ttotal: 4m 2s\tremaining: 58.3s\n",
            "806:\tlearn: 0.6793276\ttotal: 4m 2s\tremaining: 57.9s\n",
            "807:\tlearn: 0.6792485\ttotal: 4m 2s\tremaining: 57.6s\n",
            "808:\tlearn: 0.6791797\ttotal: 4m 2s\tremaining: 57.3s\n",
            "809:\tlearn: 0.6791065\ttotal: 4m 3s\tremaining: 57s\n",
            "810:\tlearn: 0.6790361\ttotal: 4m 3s\tremaining: 56.7s\n",
            "811:\tlearn: 0.6789730\ttotal: 4m 3s\tremaining: 56.4s\n",
            "812:\tlearn: 0.6789243\ttotal: 4m 3s\tremaining: 56.1s\n",
            "813:\tlearn: 0.6788768\ttotal: 4m 4s\tremaining: 55.8s\n",
            "814:\tlearn: 0.6788080\ttotal: 4m 4s\tremaining: 55.5s\n",
            "815:\tlearn: 0.6787391\ttotal: 4m 4s\tremaining: 55.2s\n",
            "816:\tlearn: 0.6786985\ttotal: 4m 4s\tremaining: 54.9s\n",
            "817:\tlearn: 0.6785932\ttotal: 4m 5s\tremaining: 54.5s\n",
            "818:\tlearn: 0.6784183\ttotal: 4m 5s\tremaining: 54.2s\n",
            "819:\tlearn: 0.6782547\ttotal: 4m 5s\tremaining: 53.9s\n",
            "820:\tlearn: 0.6781333\ttotal: 4m 5s\tremaining: 53.6s\n",
            "821:\tlearn: 0.6779972\ttotal: 4m 6s\tremaining: 53.3s\n",
            "822:\tlearn: 0.6778991\ttotal: 4m 6s\tremaining: 53s\n",
            "823:\tlearn: 0.6778421\ttotal: 4m 6s\tremaining: 52.7s\n",
            "824:\tlearn: 0.6777692\ttotal: 4m 7s\tremaining: 52.4s\n",
            "825:\tlearn: 0.6776793\ttotal: 4m 7s\tremaining: 52.1s\n",
            "826:\tlearn: 0.6776158\ttotal: 4m 7s\tremaining: 51.8s\n",
            "827:\tlearn: 0.6775388\ttotal: 4m 8s\tremaining: 51.5s\n",
            "828:\tlearn: 0.6774685\ttotal: 4m 8s\tremaining: 51.2s\n",
            "829:\tlearn: 0.6773797\ttotal: 4m 8s\tremaining: 51s\n",
            "830:\tlearn: 0.6772955\ttotal: 4m 9s\tremaining: 50.7s\n",
            "831:\tlearn: 0.6772398\ttotal: 4m 9s\tremaining: 50.4s\n",
            "832:\tlearn: 0.6771162\ttotal: 4m 10s\tremaining: 50.2s\n",
            "833:\tlearn: 0.6770660\ttotal: 4m 10s\tremaining: 49.9s\n",
            "834:\tlearn: 0.6769935\ttotal: 4m 10s\tremaining: 49.6s\n",
            "835:\tlearn: 0.6769093\ttotal: 4m 11s\tremaining: 49.2s\n",
            "836:\tlearn: 0.6768316\ttotal: 4m 11s\tremaining: 48.9s\n",
            "837:\tlearn: 0.6767802\ttotal: 4m 11s\tremaining: 48.6s\n",
            "838:\tlearn: 0.6766556\ttotal: 4m 11s\tremaining: 48.3s\n",
            "839:\tlearn: 0.6765759\ttotal: 4m 12s\tremaining: 48s\n",
            "840:\tlearn: 0.6763584\ttotal: 4m 12s\tremaining: 47.7s\n",
            "841:\tlearn: 0.6762970\ttotal: 4m 12s\tremaining: 47.4s\n",
            "842:\tlearn: 0.6761816\ttotal: 4m 12s\tremaining: 47.1s\n",
            "843:\tlearn: 0.6759978\ttotal: 4m 13s\tremaining: 46.8s\n",
            "844:\tlearn: 0.6759113\ttotal: 4m 13s\tremaining: 46.5s\n",
            "845:\tlearn: 0.6758491\ttotal: 4m 13s\tremaining: 46.2s\n",
            "846:\tlearn: 0.6757753\ttotal: 4m 13s\tremaining: 45.9s\n",
            "847:\tlearn: 0.6757268\ttotal: 4m 14s\tremaining: 45.6s\n",
            "848:\tlearn: 0.6756433\ttotal: 4m 14s\tremaining: 45.3s\n",
            "849:\tlearn: 0.6755534\ttotal: 4m 14s\tremaining: 45s\n",
            "850:\tlearn: 0.6754538\ttotal: 4m 15s\tremaining: 44.7s\n",
            "851:\tlearn: 0.6754125\ttotal: 4m 15s\tremaining: 44.4s\n",
            "852:\tlearn: 0.6753449\ttotal: 4m 16s\tremaining: 44.1s\n",
            "853:\tlearn: 0.6752626\ttotal: 4m 16s\tremaining: 43.9s\n",
            "854:\tlearn: 0.6751445\ttotal: 4m 17s\tremaining: 43.6s\n",
            "855:\tlearn: 0.6750375\ttotal: 4m 17s\tremaining: 43.3s\n",
            "856:\tlearn: 0.6749262\ttotal: 4m 17s\tremaining: 43s\n",
            "857:\tlearn: 0.6748709\ttotal: 4m 18s\tremaining: 42.7s\n",
            "858:\tlearn: 0.6747378\ttotal: 4m 18s\tremaining: 42.4s\n",
            "859:\tlearn: 0.6746226\ttotal: 4m 18s\tremaining: 42.1s\n",
            "860:\tlearn: 0.6745582\ttotal: 4m 18s\tremaining: 41.8s\n",
            "861:\tlearn: 0.6744381\ttotal: 4m 19s\tremaining: 41.5s\n",
            "862:\tlearn: 0.6743150\ttotal: 4m 19s\tremaining: 41.2s\n",
            "863:\tlearn: 0.6742328\ttotal: 4m 19s\tremaining: 40.9s\n",
            "864:\tlearn: 0.6740284\ttotal: 4m 20s\tremaining: 40.6s\n",
            "865:\tlearn: 0.6739603\ttotal: 4m 20s\tremaining: 40.3s\n",
            "866:\tlearn: 0.6737329\ttotal: 4m 20s\tremaining: 40s\n",
            "867:\tlearn: 0.6736593\ttotal: 4m 21s\tremaining: 39.7s\n",
            "868:\tlearn: 0.6735088\ttotal: 4m 21s\tremaining: 39.4s\n",
            "869:\tlearn: 0.6734628\ttotal: 4m 22s\tremaining: 39.2s\n",
            "870:\tlearn: 0.6733478\ttotal: 4m 22s\tremaining: 38.9s\n",
            "871:\tlearn: 0.6732887\ttotal: 4m 22s\tremaining: 38.6s\n",
            "872:\tlearn: 0.6732031\ttotal: 4m 23s\tremaining: 38.3s\n",
            "873:\tlearn: 0.6731553\ttotal: 4m 23s\tremaining: 38s\n",
            "874:\tlearn: 0.6731039\ttotal: 4m 23s\tremaining: 37.7s\n",
            "875:\tlearn: 0.6730426\ttotal: 4m 24s\tremaining: 37.4s\n",
            "876:\tlearn: 0.6728660\ttotal: 4m 24s\tremaining: 37.1s\n",
            "877:\tlearn: 0.6727921\ttotal: 4m 24s\tremaining: 36.8s\n",
            "878:\tlearn: 0.6725803\ttotal: 4m 24s\tremaining: 36.5s\n",
            "879:\tlearn: 0.6725326\ttotal: 4m 25s\tremaining: 36.2s\n",
            "880:\tlearn: 0.6724407\ttotal: 4m 25s\tremaining: 35.9s\n",
            "881:\tlearn: 0.6723534\ttotal: 4m 25s\tremaining: 35.5s\n",
            "882:\tlearn: 0.6722715\ttotal: 4m 25s\tremaining: 35.2s\n",
            "883:\tlearn: 0.6721913\ttotal: 4m 26s\tremaining: 34.9s\n",
            "884:\tlearn: 0.6721209\ttotal: 4m 26s\tremaining: 34.6s\n",
            "885:\tlearn: 0.6720457\ttotal: 4m 26s\tremaining: 34.3s\n",
            "886:\tlearn: 0.6719775\ttotal: 4m 27s\tremaining: 34s\n",
            "887:\tlearn: 0.6719117\ttotal: 4m 27s\tremaining: 33.7s\n",
            "888:\tlearn: 0.6718365\ttotal: 4m 27s\tremaining: 33.4s\n",
            "889:\tlearn: 0.6717423\ttotal: 4m 27s\tremaining: 33.1s\n",
            "890:\tlearn: 0.6716441\ttotal: 4m 28s\tremaining: 32.8s\n",
            "891:\tlearn: 0.6715617\ttotal: 4m 28s\tremaining: 32.5s\n",
            "892:\tlearn: 0.6715205\ttotal: 4m 28s\tremaining: 32.2s\n",
            "893:\tlearn: 0.6714675\ttotal: 4m 28s\tremaining: 31.9s\n",
            "894:\tlearn: 0.6714050\ttotal: 4m 29s\tremaining: 31.6s\n",
            "895:\tlearn: 0.6713074\ttotal: 4m 29s\tremaining: 31.3s\n",
            "896:\tlearn: 0.6712472\ttotal: 4m 29s\tremaining: 31s\n",
            "897:\tlearn: 0.6711110\ttotal: 4m 29s\tremaining: 30.7s\n",
            "898:\tlearn: 0.6710572\ttotal: 4m 30s\tremaining: 30.4s\n",
            "899:\tlearn: 0.6710136\ttotal: 4m 30s\tremaining: 30s\n",
            "900:\tlearn: 0.6709480\ttotal: 4m 30s\tremaining: 29.7s\n",
            "901:\tlearn: 0.6707503\ttotal: 4m 30s\tremaining: 29.4s\n",
            "902:\tlearn: 0.6706758\ttotal: 4m 31s\tremaining: 29.1s\n",
            "903:\tlearn: 0.6706397\ttotal: 4m 31s\tremaining: 28.8s\n",
            "904:\tlearn: 0.6705747\ttotal: 4m 31s\tremaining: 28.5s\n",
            "905:\tlearn: 0.6704908\ttotal: 4m 31s\tremaining: 28.2s\n",
            "906:\tlearn: 0.6704434\ttotal: 4m 32s\tremaining: 27.9s\n",
            "907:\tlearn: 0.6703671\ttotal: 4m 32s\tremaining: 27.6s\n",
            "908:\tlearn: 0.6702543\ttotal: 4m 32s\tremaining: 27.3s\n",
            "909:\tlearn: 0.6701055\ttotal: 4m 33s\tremaining: 27s\n",
            "910:\tlearn: 0.6700419\ttotal: 4m 33s\tremaining: 26.7s\n",
            "911:\tlearn: 0.6699618\ttotal: 4m 33s\tremaining: 26.4s\n",
            "912:\tlearn: 0.6698954\ttotal: 4m 34s\tremaining: 26.1s\n",
            "913:\tlearn: 0.6697953\ttotal: 4m 34s\tremaining: 25.8s\n",
            "914:\tlearn: 0.6696950\ttotal: 4m 35s\tremaining: 25.6s\n",
            "915:\tlearn: 0.6695900\ttotal: 4m 35s\tremaining: 25.3s\n",
            "916:\tlearn: 0.6694718\ttotal: 4m 36s\tremaining: 25s\n",
            "917:\tlearn: 0.6694147\ttotal: 4m 36s\tremaining: 24.7s\n",
            "918:\tlearn: 0.6692816\ttotal: 4m 36s\tremaining: 24.4s\n",
            "919:\tlearn: 0.6692228\ttotal: 4m 36s\tremaining: 24.1s\n",
            "920:\tlearn: 0.6691406\ttotal: 4m 37s\tremaining: 23.8s\n",
            "921:\tlearn: 0.6690728\ttotal: 4m 37s\tremaining: 23.5s\n",
            "922:\tlearn: 0.6690004\ttotal: 4m 37s\tremaining: 23.2s\n",
            "923:\tlearn: 0.6689690\ttotal: 4m 37s\tremaining: 22.9s\n",
            "924:\tlearn: 0.6688543\ttotal: 4m 38s\tremaining: 22.6s\n",
            "925:\tlearn: 0.6687684\ttotal: 4m 38s\tremaining: 22.2s\n",
            "926:\tlearn: 0.6686849\ttotal: 4m 38s\tremaining: 21.9s\n",
            "927:\tlearn: 0.6685946\ttotal: 4m 38s\tremaining: 21.6s\n",
            "928:\tlearn: 0.6684680\ttotal: 4m 39s\tremaining: 21.3s\n",
            "929:\tlearn: 0.6684161\ttotal: 4m 39s\tremaining: 21s\n",
            "930:\tlearn: 0.6683613\ttotal: 4m 39s\tremaining: 20.7s\n",
            "931:\tlearn: 0.6682900\ttotal: 4m 39s\tremaining: 20.4s\n",
            "932:\tlearn: 0.6682263\ttotal: 4m 40s\tremaining: 20.1s\n",
            "933:\tlearn: 0.6681783\ttotal: 4m 40s\tremaining: 19.8s\n",
            "934:\tlearn: 0.6680450\ttotal: 4m 40s\tremaining: 19.5s\n",
            "935:\tlearn: 0.6679807\ttotal: 4m 40s\tremaining: 19.2s\n",
            "936:\tlearn: 0.6679290\ttotal: 4m 41s\tremaining: 18.9s\n",
            "937:\tlearn: 0.6678752\ttotal: 4m 41s\tremaining: 18.6s\n",
            "938:\tlearn: 0.6677929\ttotal: 4m 41s\tremaining: 18.3s\n",
            "939:\tlearn: 0.6676762\ttotal: 4m 42s\tremaining: 18s\n",
            "940:\tlearn: 0.6675470\ttotal: 4m 42s\tremaining: 17.7s\n",
            "941:\tlearn: 0.6674541\ttotal: 4m 42s\tremaining: 17.4s\n",
            "942:\tlearn: 0.6673808\ttotal: 4m 42s\tremaining: 17.1s\n",
            "943:\tlearn: 0.6673196\ttotal: 4m 43s\tremaining: 16.8s\n",
            "944:\tlearn: 0.6672056\ttotal: 4m 43s\tremaining: 16.5s\n",
            "945:\tlearn: 0.6670696\ttotal: 4m 43s\tremaining: 16.2s\n",
            "946:\tlearn: 0.6670076\ttotal: 4m 43s\tremaining: 15.9s\n",
            "947:\tlearn: 0.6669575\ttotal: 4m 44s\tremaining: 15.6s\n",
            "948:\tlearn: 0.6668737\ttotal: 4m 44s\tremaining: 15.3s\n",
            "949:\tlearn: 0.6667894\ttotal: 4m 44s\tremaining: 15s\n",
            "950:\tlearn: 0.6666782\ttotal: 4m 44s\tremaining: 14.7s\n",
            "951:\tlearn: 0.6664813\ttotal: 4m 45s\tremaining: 14.4s\n",
            "952:\tlearn: 0.6663919\ttotal: 4m 45s\tremaining: 14.1s\n",
            "953:\tlearn: 0.6663330\ttotal: 4m 45s\tremaining: 13.8s\n",
            "954:\tlearn: 0.6662497\ttotal: 4m 46s\tremaining: 13.5s\n",
            "955:\tlearn: 0.6661402\ttotal: 4m 46s\tremaining: 13.2s\n",
            "956:\tlearn: 0.6660886\ttotal: 4m 46s\tremaining: 12.9s\n",
            "957:\tlearn: 0.6659932\ttotal: 4m 47s\tremaining: 12.6s\n",
            "958:\tlearn: 0.6659547\ttotal: 4m 47s\tremaining: 12.3s\n",
            "959:\tlearn: 0.6658874\ttotal: 4m 48s\tremaining: 12s\n",
            "960:\tlearn: 0.6658404\ttotal: 4m 48s\tremaining: 11.7s\n",
            "961:\tlearn: 0.6657870\ttotal: 4m 49s\tremaining: 11.4s\n",
            "962:\tlearn: 0.6655906\ttotal: 4m 49s\tremaining: 11.1s\n",
            "963:\tlearn: 0.6655115\ttotal: 4m 49s\tremaining: 10.8s\n",
            "964:\tlearn: 0.6654509\ttotal: 4m 49s\tremaining: 10.5s\n",
            "965:\tlearn: 0.6653600\ttotal: 4m 50s\tremaining: 10.2s\n",
            "966:\tlearn: 0.6652357\ttotal: 4m 50s\tremaining: 9.91s\n",
            "967:\tlearn: 0.6651293\ttotal: 4m 50s\tremaining: 9.61s\n",
            "968:\tlearn: 0.6650413\ttotal: 4m 50s\tremaining: 9.3s\n",
            "969:\tlearn: 0.6649045\ttotal: 4m 51s\tremaining: 9s\n",
            "970:\tlearn: 0.6647987\ttotal: 4m 51s\tremaining: 8.7s\n",
            "971:\tlearn: 0.6647393\ttotal: 4m 51s\tremaining: 8.4s\n",
            "972:\tlearn: 0.6646677\ttotal: 4m 51s\tremaining: 8.1s\n",
            "973:\tlearn: 0.6645987\ttotal: 4m 52s\tremaining: 7.8s\n",
            "974:\tlearn: 0.6644882\ttotal: 4m 52s\tremaining: 7.5s\n",
            "975:\tlearn: 0.6644339\ttotal: 4m 52s\tremaining: 7.2s\n",
            "976:\tlearn: 0.6642657\ttotal: 4m 52s\tremaining: 6.9s\n",
            "977:\tlearn: 0.6642077\ttotal: 4m 53s\tremaining: 6.59s\n",
            "978:\tlearn: 0.6640501\ttotal: 4m 53s\tremaining: 6.29s\n",
            "979:\tlearn: 0.6639405\ttotal: 4m 53s\tremaining: 5.99s\n",
            "980:\tlearn: 0.6637993\ttotal: 4m 53s\tremaining: 5.69s\n",
            "981:\tlearn: 0.6637279\ttotal: 4m 54s\tremaining: 5.39s\n",
            "982:\tlearn: 0.6636766\ttotal: 4m 54s\tremaining: 5.09s\n",
            "983:\tlearn: 0.6636186\ttotal: 4m 54s\tremaining: 4.79s\n",
            "984:\tlearn: 0.6635038\ttotal: 4m 55s\tremaining: 4.49s\n",
            "985:\tlearn: 0.6634179\ttotal: 4m 55s\tremaining: 4.19s\n",
            "986:\tlearn: 0.6633190\ttotal: 4m 55s\tremaining: 3.89s\n",
            "987:\tlearn: 0.6632784\ttotal: 4m 55s\tremaining: 3.59s\n",
            "988:\tlearn: 0.6632205\ttotal: 4m 56s\tremaining: 3.29s\n",
            "989:\tlearn: 0.6631497\ttotal: 4m 56s\tremaining: 2.99s\n",
            "990:\tlearn: 0.6630570\ttotal: 4m 56s\tremaining: 2.69s\n",
            "991:\tlearn: 0.6628972\ttotal: 4m 56s\tremaining: 2.39s\n",
            "992:\tlearn: 0.6628160\ttotal: 4m 57s\tremaining: 2.09s\n",
            "993:\tlearn: 0.6627433\ttotal: 4m 57s\tremaining: 1.79s\n",
            "994:\tlearn: 0.6626921\ttotal: 4m 57s\tremaining: 1.5s\n",
            "995:\tlearn: 0.6625539\ttotal: 4m 57s\tremaining: 1.2s\n",
            "996:\tlearn: 0.6624659\ttotal: 4m 58s\tremaining: 897ms\n",
            "997:\tlearn: 0.6624249\ttotal: 4m 58s\tremaining: 598ms\n",
            "998:\tlearn: 0.6623750\ttotal: 4m 58s\tremaining: 299ms\n",
            "999:\tlearn: 0.6622991\ttotal: 4m 59s\tremaining: 0us\n"
          ]
        },
        {
          "output_type": "execute_result",
          "data": {
            "text/plain": [
              "Pipeline(steps=[('vect', CountVectorizer()), ('tfidf', TfidfTransformer()),\n",
              "                ('clf',\n",
              "                 <catboost.core.CatBoostClassifier object at 0x7f1a2c39fa90>)])"
            ],
            "text/html": [
              "<style>#sk-container-id-9 {color: black;background-color: white;}#sk-container-id-9 pre{padding: 0;}#sk-container-id-9 div.sk-toggleable {background-color: white;}#sk-container-id-9 label.sk-toggleable__label {cursor: pointer;display: block;width: 100%;margin-bottom: 0;padding: 0.3em;box-sizing: border-box;text-align: center;}#sk-container-id-9 label.sk-toggleable__label-arrow:before {content: \"▸\";float: left;margin-right: 0.25em;color: #696969;}#sk-container-id-9 label.sk-toggleable__label-arrow:hover:before {color: black;}#sk-container-id-9 div.sk-estimator:hover label.sk-toggleable__label-arrow:before {color: black;}#sk-container-id-9 div.sk-toggleable__content {max-height: 0;max-width: 0;overflow: hidden;text-align: left;background-color: #f0f8ff;}#sk-container-id-9 div.sk-toggleable__content pre {margin: 0.2em;color: black;border-radius: 0.25em;background-color: #f0f8ff;}#sk-container-id-9 input.sk-toggleable__control:checked~div.sk-toggleable__content {max-height: 200px;max-width: 100%;overflow: auto;}#sk-container-id-9 input.sk-toggleable__control:checked~label.sk-toggleable__label-arrow:before {content: \"▾\";}#sk-container-id-9 div.sk-estimator input.sk-toggleable__control:checked~label.sk-toggleable__label {background-color: #d4ebff;}#sk-container-id-9 div.sk-label input.sk-toggleable__control:checked~label.sk-toggleable__label {background-color: #d4ebff;}#sk-container-id-9 input.sk-hidden--visually {border: 0;clip: rect(1px 1px 1px 1px);clip: rect(1px, 1px, 1px, 1px);height: 1px;margin: -1px;overflow: hidden;padding: 0;position: absolute;width: 1px;}#sk-container-id-9 div.sk-estimator {font-family: monospace;background-color: #f0f8ff;border: 1px dotted black;border-radius: 0.25em;box-sizing: border-box;margin-bottom: 0.5em;}#sk-container-id-9 div.sk-estimator:hover {background-color: #d4ebff;}#sk-container-id-9 div.sk-parallel-item::after {content: \"\";width: 100%;border-bottom: 1px solid gray;flex-grow: 1;}#sk-container-id-9 div.sk-label:hover label.sk-toggleable__label {background-color: #d4ebff;}#sk-container-id-9 div.sk-serial::before {content: \"\";position: absolute;border-left: 1px solid gray;box-sizing: border-box;top: 0;bottom: 0;left: 50%;z-index: 0;}#sk-container-id-9 div.sk-serial {display: flex;flex-direction: column;align-items: center;background-color: white;padding-right: 0.2em;padding-left: 0.2em;position: relative;}#sk-container-id-9 div.sk-item {position: relative;z-index: 1;}#sk-container-id-9 div.sk-parallel {display: flex;align-items: stretch;justify-content: center;background-color: white;position: relative;}#sk-container-id-9 div.sk-item::before, #sk-container-id-9 div.sk-parallel-item::before {content: \"\";position: absolute;border-left: 1px solid gray;box-sizing: border-box;top: 0;bottom: 0;left: 50%;z-index: -1;}#sk-container-id-9 div.sk-parallel-item {display: flex;flex-direction: column;z-index: 1;position: relative;background-color: white;}#sk-container-id-9 div.sk-parallel-item:first-child::after {align-self: flex-end;width: 50%;}#sk-container-id-9 div.sk-parallel-item:last-child::after {align-self: flex-start;width: 50%;}#sk-container-id-9 div.sk-parallel-item:only-child::after {width: 0;}#sk-container-id-9 div.sk-dashed-wrapped {border: 1px dashed gray;margin: 0 0.4em 0.5em 0.4em;box-sizing: border-box;padding-bottom: 0.4em;background-color: white;}#sk-container-id-9 div.sk-label label {font-family: monospace;font-weight: bold;display: inline-block;line-height: 1.2em;}#sk-container-id-9 div.sk-label-container {text-align: center;}#sk-container-id-9 div.sk-container {/* jupyter's `normalize.less` sets `[hidden] { display: none; }` but bootstrap.min.css set `[hidden] { display: none !important; }` so we also need the `!important` here to be able to override the default hidden behavior on the sphinx rendered scikit-learn.org. See: https://github.com/scikit-learn/scikit-learn/issues/21755 */display: inline-block !important;position: relative;}#sk-container-id-9 div.sk-text-repr-fallback {display: none;}</style><div id=\"sk-container-id-9\" class=\"sk-top-container\"><div class=\"sk-text-repr-fallback\"><pre>Pipeline(steps=[(&#x27;vect&#x27;, CountVectorizer()), (&#x27;tfidf&#x27;, TfidfTransformer()),\n",
              "                (&#x27;clf&#x27;,\n",
              "                 &lt;catboost.core.CatBoostClassifier object at 0x7f1a2c39fa90&gt;)])</pre><b>In a Jupyter environment, please rerun this cell to show the HTML representation or trust the notebook. <br />On GitHub, the HTML representation is unable to render, please try loading this page with nbviewer.org.</b></div><div class=\"sk-container\" hidden><div class=\"sk-item sk-dashed-wrapped\"><div class=\"sk-label-container\"><div class=\"sk-label sk-toggleable\"><input class=\"sk-toggleable__control sk-hidden--visually\" id=\"sk-estimator-id-33\" type=\"checkbox\" ><label for=\"sk-estimator-id-33\" class=\"sk-toggleable__label sk-toggleable__label-arrow\">Pipeline</label><div class=\"sk-toggleable__content\"><pre>Pipeline(steps=[(&#x27;vect&#x27;, CountVectorizer()), (&#x27;tfidf&#x27;, TfidfTransformer()),\n",
              "                (&#x27;clf&#x27;,\n",
              "                 &lt;catboost.core.CatBoostClassifier object at 0x7f1a2c39fa90&gt;)])</pre></div></div></div><div class=\"sk-serial\"><div class=\"sk-item\"><div class=\"sk-estimator sk-toggleable\"><input class=\"sk-toggleable__control sk-hidden--visually\" id=\"sk-estimator-id-34\" type=\"checkbox\" ><label for=\"sk-estimator-id-34\" class=\"sk-toggleable__label sk-toggleable__label-arrow\">CountVectorizer</label><div class=\"sk-toggleable__content\"><pre>CountVectorizer()</pre></div></div></div><div class=\"sk-item\"><div class=\"sk-estimator sk-toggleable\"><input class=\"sk-toggleable__control sk-hidden--visually\" id=\"sk-estimator-id-35\" type=\"checkbox\" ><label for=\"sk-estimator-id-35\" class=\"sk-toggleable__label sk-toggleable__label-arrow\">TfidfTransformer</label><div class=\"sk-toggleable__content\"><pre>TfidfTransformer()</pre></div></div></div><div class=\"sk-item\"><div class=\"sk-estimator sk-toggleable\"><input class=\"sk-toggleable__control sk-hidden--visually\" id=\"sk-estimator-id-36\" type=\"checkbox\" ><label for=\"sk-estimator-id-36\" class=\"sk-toggleable__label sk-toggleable__label-arrow\">CatBoostClassifier</label><div class=\"sk-toggleable__content\"><pre>&lt;catboost.core.CatBoostClassifier object at 0x7f1a2c39fa90&gt;</pre></div></div></div></div></div></div></div>"
            ]
          },
          "metadata": {},
          "execution_count": 124
        }
      ],
      "source": [
        "# Algorithm training X_train, X_test, y_train, y_test\n",
        "ctb_model = ctb_pipeline.fit(X_train.values.astype('U'), y_train.values.astype('int64'))\n",
        "ctb_model"
      ]
    },
    {
      "cell_type": "code",
      "execution_count": 125,
      "id": "0efb5ded-6bbd-479a-9c18-ed293a6c89bc",
      "metadata": {
        "id": "0efb5ded-6bbd-479a-9c18-ed293a6c89bc",
        "tags": [],
        "colab": {
          "base_uri": "https://localhost:8080/"
        },
        "outputId": "d2dc473e-49ea-49ae-cfbc-ff80036aca23"
      },
      "outputs": [
        {
          "output_type": "execute_result",
          "data": {
            "text/plain": [
              "array([-1,  0,  1])"
            ]
          },
          "metadata": {},
          "execution_count": 125
        }
      ],
      "source": [
        "y_pred = ctb_model.predict(X_test.values.astype('U'))\n",
        "ctb_model.classes_"
      ]
    },
    {
      "cell_type": "code",
      "execution_count": 126,
      "id": "f82aa16c-43dc-4ab5-ba09-7aaf634432ce",
      "metadata": {
        "id": "f82aa16c-43dc-4ab5-ba09-7aaf634432ce",
        "tags": [],
        "colab": {
          "base_uri": "https://localhost:8080/"
        },
        "outputId": "2996a3d6-c5c8-43b1-b3ba-70f3d7a92520"
      },
      "outputs": [
        {
          "output_type": "stream",
          "name": "stdout",
          "text": [
            "[[725 238   3]\n",
            " [303 379   0]\n",
            " [ 62  41   3]]\n"
          ]
        }
      ],
      "source": [
        "cm = confusion_matrix(y_test, y_pred, labels=ctb_model.classes_)\n",
        "print(cm)"
      ]
    },
    {
      "cell_type": "code",
      "execution_count": 127,
      "id": "4e58e88a-5ece-44a8-ad88-ce76db4bf3dc",
      "metadata": {
        "id": "4e58e88a-5ece-44a8-ad88-ce76db4bf3dc",
        "tags": [],
        "colab": {
          "base_uri": "https://localhost:8080/",
          "height": 296
        },
        "outputId": "42540895-c713-467b-eeed-8adfdd2d1735"
      },
      "outputs": [
        {
          "output_type": "execute_result",
          "data": {
            "text/plain": [
              "<sklearn.metrics._plot.confusion_matrix.ConfusionMatrixDisplay at 0x7f1a2c39fc40>"
            ]
          },
          "metadata": {},
          "execution_count": 127
        },
        {
          "output_type": "display_data",
          "data": {
            "text/plain": [
              "<Figure size 432x288 with 2 Axes>"
            ],
            "image/png": "[encoded data removed]"
          },
          "metadata": {
            "needs_background": "light"
          }
        }
      ],
      "source": [
        "cm_dsp=ConfusionMatrixDisplay(confusion_matrix=cm, display_labels=['Negatives', 'Neutral', 'Positive'])\n",
        "cm_dsp.plot()"
      ]
    },
    {
      "cell_type": "code",
      "execution_count": 128,
      "id": "9ea695b2-f0a5-4d10-a1df-4d10513d8c5f",
      "metadata": {
        "id": "9ea695b2-f0a5-4d10-a1df-4d10513d8c5f",
        "tags": [],
        "colab": {
          "base_uri": "https://localhost:8080/"
        },
        "outputId": "53dce558-69a7-40e8-9696-77182747a505"
      },
      "outputs": [
        {
          "output_type": "stream",
          "name": "stdout",
          "text": [
            "Model Score: 0.6311288483466363\n",
            "Model Score: 63.11%\n",
            "\n",
            "Accuracy: 0.6311288483466363\n",
            "Accuracy: 63.11%\n",
            "\n",
            "F1-score: 0.44149866288347034\n",
            "F1-score: 44.15%\n",
            "\n",
            "CPU times and Wall time: \n",
            "CPU times: user 334 ms, sys: 120 ms, total: 454 ms\n",
            "Wall time: 395 ms\n"
          ]
        }
      ],
      "source": [
        "%%time\n",
        "\n",
        "#predicting \n",
        "y_pred = ctb_model.predict(X_test.values.astype('U'))\n",
        "\n",
        "model_score = ctb_model.score(X_test.values.astype('U'), y_test.values.astype('int64'))\n",
        "print(f'Model Score: {model_score}')\n",
        "print(f'Model Score: {model_score*100:.2f}%')\n",
        "accuracy = accuracy_score(y_test, y_pred)\n",
        "print()\n",
        "print(f\"Accuracy: {accuracy}\")\n",
        "print(f\"Accuracy: {accuracy*100:.2f}%\")\n",
        "print()\n",
        "f1 = f1_score(y_test, y_pred, average='macro')\n",
        "print(f\"F1-score: {f1}\")\n",
        "print(f\"F1-score: {f1*100:.2f}%\")\n",
        "print()\n",
        "print(\"CPU times and Wall time: \")"
      ]
    },
    {
      "cell_type": "code",
      "execution_count": 129,
      "id": "f9e63415-8f73-425b-b5c7-e7bfba07b9bd",
      "metadata": {
        "id": "f9e63415-8f73-425b-b5c7-e7bfba07b9bd",
        "tags": [],
        "colab": {
          "base_uri": "https://localhost:8080/"
        },
        "outputId": "9f70043c-fc7c-493f-ee16-79548de7a556"
      },
      "outputs": [
        {
          "output_type": "execute_result",
          "data": {
            "text/plain": [
              "['models/CatBoostClassifier_model_score_63.11.pkl']"
            ]
          },
          "metadata": {},
          "execution_count": 129
        }
      ],
      "source": [
        "# Save to file / directory\n",
        "joblib_file = \"models/CatBoostClassifier_model_score_\"+ str(round(accuracy*100,2))+\".pkl\"\n",
        "joblib.dump(ctb_model, joblib_file)"
      ]
    }
  ],
  "metadata": {
    "colab": {
      "provenance": [],
      "include_colab_link": true
    },
    "kernelspec": {
      "display_name": "Python 3",
      "language": "python",
      "name": "python3"
    },
    "language_info": {
      "codemirror_mode": {
        "name": "ipython",
        "version": 3
      },
      "file_extension": ".py",
      "mimetype": "text/x-python",
      "name": "python",
      "nbconvert_exporter": "python",
      "pygments_lexer": "ipython3",
      "version": "3.11.2 (v3.11.2:878ead1ac1, Feb  7 2023, 10:02:41) [Clang 13.0.0 (clang-1300.0.29.30)]"
    },
    "vscode": {
      "interpreter": {
        "hash": "aee8b7b246df8f9039afb4144a1f6fd8d2ca17a180786b69acc140d282b71a49"
      }
    }
  },
  "nbformat": 4,
  "nbformat_minor": 5
}