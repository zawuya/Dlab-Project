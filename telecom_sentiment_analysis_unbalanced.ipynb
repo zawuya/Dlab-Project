{
  "cells": [
    {
      "cell_type": "markdown",
      "metadata": {
        "id": "view-in-github",
        "colab_type": "text"
      },
      "source": [
        "<a href=\"https://colab.research.google.com/github/zawuya/Dlab-Project/blob/master/telecom_sentiment_analysis_unbalanced.ipynb\" target=\"_parent\"><img src=\"https://colab.research.google.com/assets/colab-badge.svg\" alt=\"Open In Colab\"/></a>"
      ]
    },
    {
      "cell_type": "markdown",
      "metadata": {
        "id": "0s4yRY8cTILi"
      },
      "source": [
        "## Sentiment Analysis\n",
        "\n"
      ],
      "id": "0s4yRY8cTILi"
    },
    {
      "cell_type": "markdown",
      "metadata": {
        "id": "L8SOaK8tThNg"
      },
      "source": [
        "####Install Packages"
      ],
      "id": "L8SOaK8tThNg"
    },
    {
      "cell_type": "code",
      "execution_count": 121,
      "metadata": {
        "colab": {
          "base_uri": "https://localhost:8080/"
        },
        "id": "P7ubU-aKbWpT",
        "outputId": "477e4853-0f00-40ad-c1aa-3d3401b318ca"
      },
      "outputs": [
        {
          "output_type": "stream",
          "name": "stdout",
          "text": [
            "Looking in indexes: https://pypi.org/simple, https://us-python.pkg.dev/colab-wheels/public/simple/\n",
            "Requirement already satisfied: catboost in /usr/local/lib/python3.9/dist-packages (1.1.1)\n",
            "Requirement already satisfied: numpy>=1.16.0 in /usr/local/lib/python3.9/dist-packages (from catboost) (1.22.4)\n",
            "Requirement already satisfied: six in /usr/local/lib/python3.9/dist-packages (from catboost) (1.16.0)\n",
            "Requirement already satisfied: graphviz in /usr/local/lib/python3.9/dist-packages (from catboost) (0.20.1)\n",
            "Requirement already satisfied: matplotlib in /usr/local/lib/python3.9/dist-packages (from catboost) (3.7.1)\n",
            "Requirement already satisfied: scipy in /usr/local/lib/python3.9/dist-packages (from catboost) (1.10.1)\n",
            "Requirement already satisfied: pandas>=0.24.0 in /usr/local/lib/python3.9/dist-packages (from catboost) (1.4.4)\n",
            "Requirement already satisfied: plotly in /usr/local/lib/python3.9/dist-packages (from catboost) (5.13.1)\n",
            "Requirement already satisfied: python-dateutil>=2.8.1 in /usr/local/lib/python3.9/dist-packages (from pandas>=0.24.0->catboost) (2.8.2)\n",
            "Requirement already satisfied: pytz>=2020.1 in /usr/local/lib/python3.9/dist-packages (from pandas>=0.24.0->catboost) (2022.7.1)\n",
            "Requirement already satisfied: pillow>=6.2.0 in /usr/local/lib/python3.9/dist-packages (from matplotlib->catboost) (8.4.0)\n",
            "Requirement already satisfied: packaging>=20.0 in /usr/local/lib/python3.9/dist-packages (from matplotlib->catboost) (23.0)\n",
            "Requirement already satisfied: cycler>=0.10 in /usr/local/lib/python3.9/dist-packages (from matplotlib->catboost) (0.11.0)\n",
            "Requirement already satisfied: kiwisolver>=1.0.1 in /usr/local/lib/python3.9/dist-packages (from matplotlib->catboost) (1.4.4)\n",
            "Requirement already satisfied: pyparsing>=2.3.1 in /usr/local/lib/python3.9/dist-packages (from matplotlib->catboost) (3.0.9)\n",
            "Requirement already satisfied: contourpy>=1.0.1 in /usr/local/lib/python3.9/dist-packages (from matplotlib->catboost) (1.0.7)\n",
            "Requirement already satisfied: importlib-resources>=3.2.0 in /usr/local/lib/python3.9/dist-packages (from matplotlib->catboost) (5.12.0)\n",
            "Requirement already satisfied: fonttools>=4.22.0 in /usr/local/lib/python3.9/dist-packages (from matplotlib->catboost) (4.39.2)\n",
            "Requirement already satisfied: tenacity>=6.2.0 in /usr/local/lib/python3.9/dist-packages (from plotly->catboost) (8.2.2)\n",
            "Requirement already satisfied: zipp>=3.1.0 in /usr/local/lib/python3.9/dist-packages (from importlib-resources>=3.2.0->matplotlib->catboost) (3.15.0)\n"
          ]
        }
      ],
      "source": [
        "! pip install catboost"
      ],
      "id": "P7ubU-aKbWpT"
    },
    {
      "cell_type": "markdown",
      "metadata": {
        "id": "b39beb5a"
      },
      "source": [
        "### **Import important libraries**"
      ],
      "id": "b39beb5a"
    },
    {
      "cell_type": "code",
      "source": [
        "#Important libraries\n",
        "\n",
        "# For measuring classification performance\n",
        "from sklearn.metrics import accuracy_score, f1_score \n",
        "\n",
        "# For plotting bar graphs and charts.\n",
        "import seaborn as sns\n",
        "\n",
        " # Manipulation of big data sets\n",
        "import pandas as pd\n",
        "\n",
        "# For  multidimensional array object mathematical, logical, shape manipulation\n",
        "import numpy as np \n",
        "\n",
        "# Regular expression operations\n",
        "import re\n",
        "\n",
        "#OS for file operations\n",
        "import os\n",
        "\n",
        "# # Split arrays or matrices into random train and test subsets\n",
        "from sklearn.model_selection import train_test_split\n",
        "\n",
        "# Models\n",
        "#Multinomial classifier\n",
        "from sklearn.naive_bayes import MultinomialNB\n",
        "\n",
        "#Support Vector Machine Classifier\n",
        "from sklearn.svm import SVC\n",
        "\n",
        "#Random Forest Classifier\n",
        "from sklearn.ensemble import RandomForestClassifier\n",
        "\n",
        "#KNearest Neighbour Classifier\n",
        "from sklearn.neighbors import KNeighborsClassifier\n",
        "\n",
        "#Logistic Regression Classifier\n",
        "from sklearn.linear_model import LogisticRegression\n",
        "\n",
        "#Gradient Boosting Classifier\n",
        "from sklearn.ensemble import GradientBoostingClassifier\n",
        "\n",
        "#Decision Tree Classifier\n",
        "from sklearn.tree import DecisionTreeClassifier\n",
        "\n",
        "#XGB Classifier\n",
        "from xgboost import XGBClassifier\n",
        "\n",
        "#Light GBM Classifier\n",
        "from lightgbm import LGBMClassifier\n",
        "\n",
        "#CatBoost Classifier\n",
        "from catboost import CatBoostClassifier\n",
        "\n",
        "# saving models\n",
        "import joblib \n",
        "\n",
        "#counting data\n",
        "from collections import Counter \n",
        "#import collections\n",
        "\n",
        "#Sampling data\n",
        "import imblearn\n",
        "\n",
        "# over sampling library\n",
        "from imblearn.over_sampling import RandomOverSampler\n",
        "\n",
        "# Efficiency matrics\n",
        "from sklearn.metrics import confusion_matrix\n",
        "\n",
        "#Plotting graphs\n",
        "import matplotlib.pyplot as plt\n",
        "from sklearn.metrics import confusion_matrix, ConfusionMatrixDisplay\n",
        "\n",
        "# text transformers\n",
        "from sklearn.feature_extraction.text import CountVectorizer, TfidfTransformer\n",
        "\n",
        "# Packaging classification steps\n",
        "from sklearn.pipeline import Pipeline\n",
        "\n",
        "# Creating numerical data from categorical data\n",
        "from sklearn.preprocessing import LabelEncoder"
      ],
      "metadata": {
        "id": "nNBBfDLPE5Ag"
      },
      "id": "nNBBfDLPE5Ag",
      "execution_count": 122,
      "outputs": []
    },
    {
      "cell_type": "code",
      "execution_count": 123,
      "metadata": {
        "id": "15b58087-ac00-49b0-b48c-527ef1a7418e"
      },
      "outputs": [],
      "source": [
        "#Suppressing the warding messeges\n",
        "warnings.filterwarnings(\"ignore\")"
      ],
      "id": "15b58087-ac00-49b0-b48c-527ef1a7418e"
    },
    {
      "cell_type": "markdown",
      "metadata": {
        "id": "tJdQTZlVUfc0"
      },
      "source": [
        "###**Load Datasets**"
      ],
      "id": "tJdQTZlVUfc0"
    },
    {
      "cell_type": "code",
      "execution_count": 124,
      "metadata": {
        "id": "e228f74a"
      },
      "outputs": [],
      "source": [
        "#load dataset from a file\n",
        "telecom_data=pd.read_csv(\"telecom_TZ_sentiment_data.csv\", dtype=str)"
      ],
      "id": "e228f74a"
    },
    {
      "cell_type": "code",
      "execution_count": 125,
      "metadata": {
        "colab": {
          "base_uri": "https://localhost:8080/",
          "height": 206
        },
        "id": "e10f9d5d",
        "outputId": "23b3ea6e-21b2-4e1d-ef31-64731f5dd669"
      },
      "outputs": [
        {
          "output_type": "execute_result",
          "data": {
            "text/plain": [
              "                        date  \\\n",
              "0  2021-10-23 14:36:34+00:00   \n",
              "1  2021-09-28 15:37:16+00:00   \n",
              "2  2022-09-18 13:37:06+00:00   \n",
              "3  2021-04-08 18:34:13+00:00   \n",
              "4  2022-09-24 05:03:32+00:00   \n",
              "\n",
              "                                             comment platform sentiment  \n",
              "0        Chezea songesha wew https://t.co/FfnSsIkZGU  Twitter         1  \n",
              "1  Tafuta hela sana ili usilalamikie mabadiliko y...  Twitter         1  \n",
              "2  Hivi huu mtandao wa Tigo una tatizo au simu ya...  Twitter        -1  \n",
              "3  @DaktariWaWatoto Tamtam bando ni ðŸ”¥ ila kuin...  Twitter         1  \n",
              "4  @VodacomTanzania @ImranHussein84 Tatizo kifuru...  Twitter        -1  "
            ],
            "text/html": [
              "\n",
              "  <div id=\"df-53694e87-b056-407a-8a13-f091d56b298b\">\n",
              "    <div class=\"colab-df-container\">\n",
              "      <div>\n",
              "<style scoped>\n",
              "    .dataframe tbody tr th:only-of-type {\n",
              "        vertical-align: middle;\n",
              "    }\n",
              "\n",
              "    .dataframe tbody tr th {\n",
              "        vertical-align: top;\n",
              "    }\n",
              "\n",
              "    .dataframe thead th {\n",
              "        text-align: right;\n",
              "    }\n",
              "</style>\n",
              "<table border=\"1\" class=\"dataframe\">\n",
              "  <thead>\n",
              "    <tr style=\"text-align: right;\">\n",
              "      <th></th>\n",
              "      <th>date</th>\n",
              "      <th>comment</th>\n",
              "      <th>platform</th>\n",
              "      <th>sentiment</th>\n",
              "    </tr>\n",
              "  </thead>\n",
              "  <tbody>\n",
              "    <tr>\n",
              "      <th>0</th>\n",
              "      <td>2021-10-23 14:36:34+00:00</td>\n",
              "      <td>Chezea songesha wew https://t.co/FfnSsIkZGU</td>\n",
              "      <td>Twitter</td>\n",
              "      <td>1</td>\n",
              "    </tr>\n",
              "    <tr>\n",
              "      <th>1</th>\n",
              "      <td>2021-09-28 15:37:16+00:00</td>\n",
              "      <td>Tafuta hela sana ili usilalamikie mabadiliko y...</td>\n",
              "      <td>Twitter</td>\n",
              "      <td>1</td>\n",
              "    </tr>\n",
              "    <tr>\n",
              "      <th>2</th>\n",
              "      <td>2022-09-18 13:37:06+00:00</td>\n",
              "      <td>Hivi huu mtandao wa Tigo una tatizo au simu ya...</td>\n",
              "      <td>Twitter</td>\n",
              "      <td>-1</td>\n",
              "    </tr>\n",
              "    <tr>\n",
              "      <th>3</th>\n",
              "      <td>2021-04-08 18:34:13+00:00</td>\n",
              "      <td>@DaktariWaWatoto Tamtam bando ni ðŸ”¥ ila kuin...</td>\n",
              "      <td>Twitter</td>\n",
              "      <td>1</td>\n",
              "    </tr>\n",
              "    <tr>\n",
              "      <th>4</th>\n",
              "      <td>2022-09-24 05:03:32+00:00</td>\n",
              "      <td>@VodacomTanzania @ImranHussein84 Tatizo kifuru...</td>\n",
              "      <td>Twitter</td>\n",
              "      <td>-1</td>\n",
              "    </tr>\n",
              "  </tbody>\n",
              "</table>\n",
              "</div>\n",
              "      <button class=\"colab-df-convert\" onclick=\"convertToInteractive('df-53694e87-b056-407a-8a13-f091d56b298b')\"\n",
              "              title=\"Convert this dataframe to an interactive table.\"\n",
              "              style=\"display:none;\">\n",
              "        \n",
              "  <svg xmlns=\"http://www.w3.org/2000/svg\" height=\"24px\"viewBox=\"0 0 24 24\"\n",
              "       width=\"24px\">\n",
              "    <path d=\"M0 0h24v24H0V0z\" fill=\"none\"/>\n",
              "    <path d=\"M18.56 5.44l.94 2.06.94-2.06 2.06-.94-2.06-.94-.94-2.06-.94 2.06-2.06.94zm-11 1L8.5 8.5l.94-2.06 2.06-.94-2.06-.94L8.5 2.5l-.94 2.06-2.06.94zm10 10l.94 2.06.94-2.06 2.06-.94-2.06-.94-.94-2.06-.94 2.06-2.06.94z\"/><path d=\"M17.41 7.96l-1.37-1.37c-.4-.4-.92-.59-1.43-.59-.52 0-1.04.2-1.43.59L10.3 9.45l-7.72 7.72c-.78.78-.78 2.05 0 2.83L4 21.41c.39.39.9.59 1.41.59.51 0 1.02-.2 1.41-.59l7.78-7.78 2.81-2.81c.8-.78.8-2.07 0-2.86zM5.41 20L4 18.59l7.72-7.72 1.47 1.35L5.41 20z\"/>\n",
              "  </svg>\n",
              "      </button>\n",
              "      \n",
              "  <style>\n",
              "    .colab-df-container {\n",
              "      display:flex;\n",
              "      flex-wrap:wrap;\n",
              "      gap: 12px;\n",
              "    }\n",
              "\n",
              "    .colab-df-convert {\n",
              "      background-color: #E8F0FE;\n",
              "      border: none;\n",
              "      border-radius: 50%;\n",
              "      cursor: pointer;\n",
              "      display: none;\n",
              "      fill: #1967D2;\n",
              "      height: 32px;\n",
              "      padding: 0 0 0 0;\n",
              "      width: 32px;\n",
              "    }\n",
              "\n",
              "    .colab-df-convert:hover {\n",
              "      background-color: #E2EBFA;\n",
              "      box-shadow: 0px 1px 2px rgba(60, 64, 67, 0.3), 0px 1px 3px 1px rgba(60, 64, 67, 0.15);\n",
              "      fill: #174EA6;\n",
              "    }\n",
              "\n",
              "    [theme=dark] .colab-df-convert {\n",
              "      background-color: #3B4455;\n",
              "      fill: #D2E3FC;\n",
              "    }\n",
              "\n",
              "    [theme=dark] .colab-df-convert:hover {\n",
              "      background-color: #434B5C;\n",
              "      box-shadow: 0px 1px 3px 1px rgba(0, 0, 0, 0.15);\n",
              "      filter: drop-shadow(0px 1px 2px rgba(0, 0, 0, 0.3));\n",
              "      fill: #FFFFFF;\n",
              "    }\n",
              "  </style>\n",
              "\n",
              "      <script>\n",
              "        const buttonEl =\n",
              "          document.querySelector('#df-53694e87-b056-407a-8a13-f091d56b298b button.colab-df-convert');\n",
              "        buttonEl.style.display =\n",
              "          google.colab.kernel.accessAllowed ? 'block' : 'none';\n",
              "\n",
              "        async function convertToInteractive(key) {\n",
              "          const element = document.querySelector('#df-53694e87-b056-407a-8a13-f091d56b298b');\n",
              "          const dataTable =\n",
              "            await google.colab.kernel.invokeFunction('convertToInteractive',\n",
              "                                                     [key], {});\n",
              "          if (!dataTable) return;\n",
              "\n",
              "          const docLinkHtml = 'Like what you see? Visit the ' +\n",
              "            '<a target=\"_blank\" href=https://colab.research.google.com/notebooks/data_table.ipynb>data table notebook</a>'\n",
              "            + ' to learn more about interactive tables.';\n",
              "          element.innerHTML = '';\n",
              "          dataTable['output_type'] = 'display_data';\n",
              "          await google.colab.output.renderOutput(dataTable, element);\n",
              "          const docLink = document.createElement('div');\n",
              "          docLink.innerHTML = docLinkHtml;\n",
              "          element.appendChild(docLink);\n",
              "        }\n",
              "      </script>\n",
              "    </div>\n",
              "  </div>\n",
              "  "
            ]
          },
          "metadata": {},
          "execution_count": 125
        }
      ],
      "source": [
        "#Check the dataset contents five rows at the top \n",
        "telecom_data.head()"
      ],
      "id": "e10f9d5d"
    },
    {
      "cell_type": "markdown",
      "metadata": {
        "id": "CPjv9q9nU9hV"
      },
      "source": [
        "##*Feature Engineering*"
      ],
      "id": "CPjv9q9nU9hV"
    },
    {
      "cell_type": "markdown",
      "metadata": {
        "id": "649b7893"
      },
      "source": [
        "### 1.0 **Exploratory Data Analysis**"
      ],
      "id": "649b7893"
    },
    {
      "cell_type": "code",
      "execution_count": 126,
      "metadata": {
        "colab": {
          "base_uri": "https://localhost:8080/"
        },
        "id": "15b077e9",
        "outputId": "17b4e375-e2a8-4408-a1b9-bef5454576ee"
      },
      "outputs": [
        {
          "output_type": "stream",
          "name": "stdout",
          "text": [
            "<class 'pandas.core.frame.DataFrame'>\n",
            "RangeIndex: 8790 entries, 0 to 8789\n",
            "Data columns (total 4 columns):\n",
            " #   Column     Non-Null Count  Dtype \n",
            "---  ------     --------------  ----- \n",
            " 0   date       8789 non-null   object\n",
            " 1   comment    8789 non-null   object\n",
            " 2   platform   8788 non-null   object\n",
            " 3   sentiment  8782 non-null   object\n",
            "dtypes: object(4)\n",
            "memory usage: 274.8+ KB\n"
          ]
        }
      ],
      "source": [
        "#Displaying dataset structure and values \n",
        "telecom_data.info()"
      ],
      "id": "15b077e9"
    },
    {
      "cell_type": "code",
      "execution_count": 127,
      "metadata": {
        "colab": {
          "base_uri": "https://localhost:8080/"
        },
        "id": "XrR593tRC7B3",
        "outputId": "41960b23-1fc8-46e2-88e6-b7911a146861"
      },
      "outputs": [
        {
          "output_type": "execute_result",
          "data": {
            "text/plain": [
              "11"
            ]
          },
          "metadata": {},
          "execution_count": 127
        }
      ],
      "source": [
        "#check if there are any duplicates in the dataset in summary\n",
        "telecom_data.duplicated().sum()"
      ],
      "id": "XrR593tRC7B3"
    },
    {
      "cell_type": "code",
      "execution_count": 128,
      "metadata": {
        "colab": {
          "base_uri": "https://localhost:8080/",
          "height": 175
        },
        "id": "2QgtKWLm69lS",
        "outputId": "8afe9314-c038-4f97-ecdb-ae57c0ea3e3d"
      },
      "outputs": [
        {
          "output_type": "execute_result",
          "data": {
            "text/plain": [
              "                             date  \\\n",
              "count                        8789   \n",
              "unique                       8578   \n",
              "top     2022-01-07 16:34:48+00:00   \n",
              "freq                            2   \n",
              "\n",
              "                                                  comment platform sentiment  \n",
              "count                                                8789     8788      8782  \n",
              "unique                                               8775        3         4  \n",
              "top     @airtel_tanzania nawapenda sana huduma hii ya ...  Twitter        -1  \n",
              "freq                                                    2     8786      4649  "
            ],
            "text/html": [
              "\n",
              "  <div id=\"df-3ad55ffe-7baf-4c0b-96ec-f15beeefe6ef\">\n",
              "    <div class=\"colab-df-container\">\n",
              "      <div>\n",
              "<style scoped>\n",
              "    .dataframe tbody tr th:only-of-type {\n",
              "        vertical-align: middle;\n",
              "    }\n",
              "\n",
              "    .dataframe tbody tr th {\n",
              "        vertical-align: top;\n",
              "    }\n",
              "\n",
              "    .dataframe thead th {\n",
              "        text-align: right;\n",
              "    }\n",
              "</style>\n",
              "<table border=\"1\" class=\"dataframe\">\n",
              "  <thead>\n",
              "    <tr style=\"text-align: right;\">\n",
              "      <th></th>\n",
              "      <th>date</th>\n",
              "      <th>comment</th>\n",
              "      <th>platform</th>\n",
              "      <th>sentiment</th>\n",
              "    </tr>\n",
              "  </thead>\n",
              "  <tbody>\n",
              "    <tr>\n",
              "      <th>count</th>\n",
              "      <td>8789</td>\n",
              "      <td>8789</td>\n",
              "      <td>8788</td>\n",
              "      <td>8782</td>\n",
              "    </tr>\n",
              "    <tr>\n",
              "      <th>unique</th>\n",
              "      <td>8578</td>\n",
              "      <td>8775</td>\n",
              "      <td>3</td>\n",
              "      <td>4</td>\n",
              "    </tr>\n",
              "    <tr>\n",
              "      <th>top</th>\n",
              "      <td>2022-01-07 16:34:48+00:00</td>\n",
              "      <td>@airtel_tanzania nawapenda sana huduma hii ya ...</td>\n",
              "      <td>Twitter</td>\n",
              "      <td>-1</td>\n",
              "    </tr>\n",
              "    <tr>\n",
              "      <th>freq</th>\n",
              "      <td>2</td>\n",
              "      <td>2</td>\n",
              "      <td>8786</td>\n",
              "      <td>4649</td>\n",
              "    </tr>\n",
              "  </tbody>\n",
              "</table>\n",
              "</div>\n",
              "      <button class=\"colab-df-convert\" onclick=\"convertToInteractive('df-3ad55ffe-7baf-4c0b-96ec-f15beeefe6ef')\"\n",
              "              title=\"Convert this dataframe to an interactive table.\"\n",
              "              style=\"display:none;\">\n",
              "        \n",
              "  <svg xmlns=\"http://www.w3.org/2000/svg\" height=\"24px\"viewBox=\"0 0 24 24\"\n",
              "       width=\"24px\">\n",
              "    <path d=\"M0 0h24v24H0V0z\" fill=\"none\"/>\n",
              "    <path d=\"M18.56 5.44l.94 2.06.94-2.06 2.06-.94-2.06-.94-.94-2.06-.94 2.06-2.06.94zm-11 1L8.5 8.5l.94-2.06 2.06-.94-2.06-.94L8.5 2.5l-.94 2.06-2.06.94zm10 10l.94 2.06.94-2.06 2.06-.94-2.06-.94-.94-2.06-.94 2.06-2.06.94z\"/><path d=\"M17.41 7.96l-1.37-1.37c-.4-.4-.92-.59-1.43-.59-.52 0-1.04.2-1.43.59L10.3 9.45l-7.72 7.72c-.78.78-.78 2.05 0 2.83L4 21.41c.39.39.9.59 1.41.59.51 0 1.02-.2 1.41-.59l7.78-7.78 2.81-2.81c.8-.78.8-2.07 0-2.86zM5.41 20L4 18.59l7.72-7.72 1.47 1.35L5.41 20z\"/>\n",
              "  </svg>\n",
              "      </button>\n",
              "      \n",
              "  <style>\n",
              "    .colab-df-container {\n",
              "      display:flex;\n",
              "      flex-wrap:wrap;\n",
              "      gap: 12px;\n",
              "    }\n",
              "\n",
              "    .colab-df-convert {\n",
              "      background-color: #E8F0FE;\n",
              "      border: none;\n",
              "      border-radius: 50%;\n",
              "      cursor: pointer;\n",
              "      display: none;\n",
              "      fill: #1967D2;\n",
              "      height: 32px;\n",
              "      padding: 0 0 0 0;\n",
              "      width: 32px;\n",
              "    }\n",
              "\n",
              "    .colab-df-convert:hover {\n",
              "      background-color: #E2EBFA;\n",
              "      box-shadow: 0px 1px 2px rgba(60, 64, 67, 0.3), 0px 1px 3px 1px rgba(60, 64, 67, 0.15);\n",
              "      fill: #174EA6;\n",
              "    }\n",
              "\n",
              "    [theme=dark] .colab-df-convert {\n",
              "      background-color: #3B4455;\n",
              "      fill: #D2E3FC;\n",
              "    }\n",
              "\n",
              "    [theme=dark] .colab-df-convert:hover {\n",
              "      background-color: #434B5C;\n",
              "      box-shadow: 0px 1px 3px 1px rgba(0, 0, 0, 0.15);\n",
              "      filter: drop-shadow(0px 1px 2px rgba(0, 0, 0, 0.3));\n",
              "      fill: #FFFFFF;\n",
              "    }\n",
              "  </style>\n",
              "\n",
              "      <script>\n",
              "        const buttonEl =\n",
              "          document.querySelector('#df-3ad55ffe-7baf-4c0b-96ec-f15beeefe6ef button.colab-df-convert');\n",
              "        buttonEl.style.display =\n",
              "          google.colab.kernel.accessAllowed ? 'block' : 'none';\n",
              "\n",
              "        async function convertToInteractive(key) {\n",
              "          const element = document.querySelector('#df-3ad55ffe-7baf-4c0b-96ec-f15beeefe6ef');\n",
              "          const dataTable =\n",
              "            await google.colab.kernel.invokeFunction('convertToInteractive',\n",
              "                                                     [key], {});\n",
              "          if (!dataTable) return;\n",
              "\n",
              "          const docLinkHtml = 'Like what you see? Visit the ' +\n",
              "            '<a target=\"_blank\" href=https://colab.research.google.com/notebooks/data_table.ipynb>data table notebook</a>'\n",
              "            + ' to learn more about interactive tables.';\n",
              "          element.innerHTML = '';\n",
              "          dataTable['output_type'] = 'display_data';\n",
              "          await google.colab.output.renderOutput(dataTable, element);\n",
              "          const docLink = document.createElement('div');\n",
              "          docLink.innerHTML = docLinkHtml;\n",
              "          element.appendChild(docLink);\n",
              "        }\n",
              "      </script>\n",
              "    </div>\n",
              "  </div>\n",
              "  "
            ]
          },
          "metadata": {},
          "execution_count": 128
        }
      ],
      "source": [
        "# Observe the statistics variables in the dataset given\n",
        "telecom_data.describe()"
      ],
      "id": "2QgtKWLm69lS"
    },
    {
      "cell_type": "code",
      "execution_count": 129,
      "metadata": {
        "colab": {
          "base_uri": "https://localhost:8080/"
        },
        "id": "f1af075a",
        "outputId": "ede3a090-ce95-4af2-8d6e-50d8a9e7bc86",
        "scrolled": true
      },
      "outputs": [
        {
          "output_type": "execute_result",
          "data": {
            "text/plain": [
              "date         1\n",
              "comment      1\n",
              "platform     2\n",
              "sentiment    8\n",
              "dtype: int64"
            ]
          },
          "metadata": {},
          "execution_count": 129
        }
      ],
      "source": [
        "#check for any null values available in the dataset\n",
        "telecom_data.isna().sum()"
      ],
      "id": "f1af075a"
    },
    {
      "cell_type": "code",
      "execution_count": 130,
      "metadata": {
        "colab": {
          "base_uri": "https://localhost:8080/"
        },
        "id": "KSI9lbp-yLHg",
        "outputId": "240dda14-fa8c-4900-91d5-7016caf83303"
      },
      "outputs": [
        {
          "output_type": "execute_result",
          "data": {
            "text/plain": [
              "date         object\n",
              "comment      object\n",
              "platform     object\n",
              "sentiment    object\n",
              "dtype: object"
            ]
          },
          "metadata": {},
          "execution_count": 130
        }
      ],
      "source": [
        "#check for dataset datatypes\n",
        "telecom_data.dtypes"
      ],
      "id": "KSI9lbp-yLHg"
    },
    {
      "cell_type": "code",
      "execution_count": 131,
      "metadata": {
        "colab": {
          "base_uri": "https://localhost:8080/"
        },
        "id": "5bS9ioLEyafB",
        "outputId": "5f72b123-144b-4df4-8d7c-4e65a1242aff"
      },
      "outputs": [
        {
          "output_type": "execute_result",
          "data": {
            "text/plain": [
              "-1           4649\n",
              "0            3567\n",
              "1             565\n",
              "complains       1\n",
              "Name: sentiment, dtype: int64"
            ]
          },
          "metadata": {},
          "execution_count": 131
        }
      ],
      "source": [
        "#checking the sentiment values count and see if there are any irrevant data in the dataset\n",
        "telecom_data['sentiment'].value_counts()"
      ],
      "id": "5bS9ioLEyafB"
    },
    {
      "cell_type": "code",
      "execution_count": 132,
      "metadata": {
        "colab": {
          "base_uri": "https://localhost:8080/",
          "height": 81
        },
        "id": "AMi2koQBwky7",
        "outputId": "5e908cf0-1ee6-4aa5-8a8d-2a7a0373006e"
      },
      "outputs": [
        {
          "output_type": "execute_result",
          "data": {
            "text/plain": [
              "         date comment platform  sentiment\n",
              "1698  Twitter       0  network  complains"
            ],
            "text/html": [
              "\n",
              "  <div id=\"df-5adad3f2-fc7b-452f-93c4-be82247cbfc1\">\n",
              "    <div class=\"colab-df-container\">\n",
              "      <div>\n",
              "<style scoped>\n",
              "    .dataframe tbody tr th:only-of-type {\n",
              "        vertical-align: middle;\n",
              "    }\n",
              "\n",
              "    .dataframe tbody tr th {\n",
              "        vertical-align: top;\n",
              "    }\n",
              "\n",
              "    .dataframe thead th {\n",
              "        text-align: right;\n",
              "    }\n",
              "</style>\n",
              "<table border=\"1\" class=\"dataframe\">\n",
              "  <thead>\n",
              "    <tr style=\"text-align: right;\">\n",
              "      <th></th>\n",
              "      <th>date</th>\n",
              "      <th>comment</th>\n",
              "      <th>platform</th>\n",
              "      <th>sentiment</th>\n",
              "    </tr>\n",
              "  </thead>\n",
              "  <tbody>\n",
              "    <tr>\n",
              "      <th>1698</th>\n",
              "      <td>Twitter</td>\n",
              "      <td>0</td>\n",
              "      <td>network</td>\n",
              "      <td>complains</td>\n",
              "    </tr>\n",
              "  </tbody>\n",
              "</table>\n",
              "</div>\n",
              "      <button class=\"colab-df-convert\" onclick=\"convertToInteractive('df-5adad3f2-fc7b-452f-93c4-be82247cbfc1')\"\n",
              "              title=\"Convert this dataframe to an interactive table.\"\n",
              "              style=\"display:none;\">\n",
              "        \n",
              "  <svg xmlns=\"http://www.w3.org/2000/svg\" height=\"24px\"viewBox=\"0 0 24 24\"\n",
              "       width=\"24px\">\n",
              "    <path d=\"M0 0h24v24H0V0z\" fill=\"none\"/>\n",
              "    <path d=\"M18.56 5.44l.94 2.06.94-2.06 2.06-.94-2.06-.94-.94-2.06-.94 2.06-2.06.94zm-11 1L8.5 8.5l.94-2.06 2.06-.94-2.06-.94L8.5 2.5l-.94 2.06-2.06.94zm10 10l.94 2.06.94-2.06 2.06-.94-2.06-.94-.94-2.06-.94 2.06-2.06.94z\"/><path d=\"M17.41 7.96l-1.37-1.37c-.4-.4-.92-.59-1.43-.59-.52 0-1.04.2-1.43.59L10.3 9.45l-7.72 7.72c-.78.78-.78 2.05 0 2.83L4 21.41c.39.39.9.59 1.41.59.51 0 1.02-.2 1.41-.59l7.78-7.78 2.81-2.81c.8-.78.8-2.07 0-2.86zM5.41 20L4 18.59l7.72-7.72 1.47 1.35L5.41 20z\"/>\n",
              "  </svg>\n",
              "      </button>\n",
              "      \n",
              "  <style>\n",
              "    .colab-df-container {\n",
              "      display:flex;\n",
              "      flex-wrap:wrap;\n",
              "      gap: 12px;\n",
              "    }\n",
              "\n",
              "    .colab-df-convert {\n",
              "      background-color: #E8F0FE;\n",
              "      border: none;\n",
              "      border-radius: 50%;\n",
              "      cursor: pointer;\n",
              "      display: none;\n",
              "      fill: #1967D2;\n",
              "      height: 32px;\n",
              "      padding: 0 0 0 0;\n",
              "      width: 32px;\n",
              "    }\n",
              "\n",
              "    .colab-df-convert:hover {\n",
              "      background-color: #E2EBFA;\n",
              "      box-shadow: 0px 1px 2px rgba(60, 64, 67, 0.3), 0px 1px 3px 1px rgba(60, 64, 67, 0.15);\n",
              "      fill: #174EA6;\n",
              "    }\n",
              "\n",
              "    [theme=dark] .colab-df-convert {\n",
              "      background-color: #3B4455;\n",
              "      fill: #D2E3FC;\n",
              "    }\n",
              "\n",
              "    [theme=dark] .colab-df-convert:hover {\n",
              "      background-color: #434B5C;\n",
              "      box-shadow: 0px 1px 3px 1px rgba(0, 0, 0, 0.15);\n",
              "      filter: drop-shadow(0px 1px 2px rgba(0, 0, 0, 0.3));\n",
              "      fill: #FFFFFF;\n",
              "    }\n",
              "  </style>\n",
              "\n",
              "      <script>\n",
              "        const buttonEl =\n",
              "          document.querySelector('#df-5adad3f2-fc7b-452f-93c4-be82247cbfc1 button.colab-df-convert');\n",
              "        buttonEl.style.display =\n",
              "          google.colab.kernel.accessAllowed ? 'block' : 'none';\n",
              "\n",
              "        async function convertToInteractive(key) {\n",
              "          const element = document.querySelector('#df-5adad3f2-fc7b-452f-93c4-be82247cbfc1');\n",
              "          const dataTable =\n",
              "            await google.colab.kernel.invokeFunction('convertToInteractive',\n",
              "                                                     [key], {});\n",
              "          if (!dataTable) return;\n",
              "\n",
              "          const docLinkHtml = 'Like what you see? Visit the ' +\n",
              "            '<a target=\"_blank\" href=https://colab.research.google.com/notebooks/data_table.ipynb>data table notebook</a>'\n",
              "            + ' to learn more about interactive tables.';\n",
              "          element.innerHTML = '';\n",
              "          dataTable['output_type'] = 'display_data';\n",
              "          await google.colab.output.renderOutput(dataTable, element);\n",
              "          const docLink = document.createElement('div');\n",
              "          docLink.innerHTML = docLinkHtml;\n",
              "          element.appendChild(docLink);\n",
              "        }\n",
              "      </script>\n",
              "    </div>\n",
              "  </div>\n",
              "  "
            ]
          },
          "metadata": {},
          "execution_count": 132
        }
      ],
      "source": [
        "#searching for complains as sentiment datavalue which is irrevant in this case\n",
        "telecom_data.loc[telecom_data['sentiment'] == 'complains']"
      ],
      "id": "AMi2koQBwky7"
    },
    {
      "cell_type": "code",
      "execution_count": 133,
      "metadata": {
        "id": "mzcAxUKKFegE"
      },
      "outputs": [],
      "source": [
        "#removing the irrevant data values found in index id 1698\n",
        "telecom_data = telecom_data.drop(index=1698, axis=1).reset_index(drop=True)"
      ],
      "id": "mzcAxUKKFegE"
    },
    {
      "cell_type": "code",
      "execution_count": 134,
      "metadata": {
        "colab": {
          "base_uri": "https://localhost:8080/"
        },
        "id": "1d7uNXIuDH6S",
        "outputId": "52509882-c96e-44a4-99d6-833d40695fcf"
      },
      "outputs": [
        {
          "output_type": "execute_result",
          "data": {
            "text/plain": [
              "-1    4649\n",
              "0     3567\n",
              "1      565\n",
              "Name: sentiment, dtype: int64"
            ]
          },
          "metadata": {},
          "execution_count": 134
        }
      ],
      "source": [
        "#check if irrevant datavalue is cleared\n",
        "telecom_data['sentiment'].value_counts()"
      ],
      "id": "1d7uNXIuDH6S"
    },
    {
      "cell_type": "code",
      "execution_count": 135,
      "metadata": {
        "colab": {
          "base_uri": "https://localhost:8080/"
        },
        "id": "a31719f0",
        "outputId": "10d672fb-47cf-4298-9c78-afc249a63ed6"
      },
      "outputs": [
        {
          "output_type": "execute_result",
          "data": {
            "text/plain": [
              "11"
            ]
          },
          "metadata": {},
          "execution_count": 135
        }
      ],
      "source": [
        "#check for any duplicated vaklues in the dataset\n",
        "telecom_data.duplicated().sum()"
      ],
      "id": "a31719f0"
    },
    {
      "cell_type": "markdown",
      "metadata": {
        "id": "8e404be6"
      },
      "source": [
        "# 3. Data Processing"
      ],
      "id": "8e404be6"
    },
    {
      "cell_type": "markdown",
      "metadata": {
        "id": "9477d5a2-beed-415c-918e-f654cc4d8b6a"
      },
      "source": [
        "## 3.1 Remove duplicate"
      ],
      "id": "9477d5a2-beed-415c-918e-f654cc4d8b6a"
    },
    {
      "cell_type": "code",
      "execution_count": 136,
      "metadata": {
        "id": "f77c54ce-2747-4fb8-b313-b71d089dfda8"
      },
      "outputs": [],
      "source": [
        "#removing the duplicates data values in a dataset\n",
        "telecom_data.drop_duplicates(subset=['comment'], keep='first', inplace=True)"
      ],
      "id": "f77c54ce-2747-4fb8-b313-b71d089dfda8"
    },
    {
      "cell_type": "markdown",
      "metadata": {
        "id": "25f007f0-8e54-4d09-9e36-b961734e21c2"
      },
      "source": [
        "## 3.2 Remove null values"
      ],
      "id": "25f007f0-8e54-4d09-9e36-b961734e21c2"
    },
    {
      "cell_type": "code",
      "execution_count": 137,
      "metadata": {
        "id": "c5400514-a45c-4c03-b87e-d7b78d8ea862"
      },
      "outputs": [],
      "source": [
        "#Removing the null values in a dataset focusing sentiment and comments\n",
        "telecom_data.dropna(subset=['sentiment', 'comment'], inplace=True)"
      ],
      "id": "c5400514-a45c-4c03-b87e-d7b78d8ea862"
    },
    {
      "cell_type": "markdown",
      "metadata": {
        "id": "09794f53-b209-4962-8596-0fed6e7d5368"
      },
      "source": [
        "## check the dataset status"
      ],
      "id": "09794f53-b209-4962-8596-0fed6e7d5368"
    },
    {
      "cell_type": "code",
      "execution_count": 138,
      "metadata": {
        "colab": {
          "base_uri": "https://localhost:8080/"
        },
        "id": "ab33ff06-817b-46e5-a1a2-0f3e7cb50753",
        "outputId": "018a2902-9991-4a30-c488-ea5ff3a1f6a1"
      },
      "outputs": [
        {
          "output_type": "execute_result",
          "data": {
            "text/plain": [
              "0"
            ]
          },
          "metadata": {},
          "execution_count": 138
        }
      ],
      "source": [
        "#verify if the duplicated values ate cleared\n",
        "telecom_data.duplicated().sum()"
      ],
      "id": "ab33ff06-817b-46e5-a1a2-0f3e7cb50753"
    },
    {
      "cell_type": "code",
      "execution_count": 139,
      "metadata": {
        "colab": {
          "base_uri": "https://localhost:8080/"
        },
        "id": "7e482bf4-f690-4122-b743-de6a80f8980f",
        "outputId": "45b10842-7b82-4bed-cbc6-a8969cfcbe04"
      },
      "outputs": [
        {
          "output_type": "execute_result",
          "data": {
            "text/plain": [
              "date         0\n",
              "comment      0\n",
              "platform     0\n",
              "sentiment    0\n",
              "dtype: int64"
            ]
          },
          "metadata": {},
          "execution_count": 139
        }
      ],
      "source": [
        "#verify if nullvalues are cleared\n",
        "telecom_data.isna().sum()"
      ],
      "id": "7e482bf4-f690-4122-b743-de6a80f8980f"
    },
    {
      "cell_type": "code",
      "execution_count": 140,
      "metadata": {
        "colab": {
          "base_uri": "https://localhost:8080/"
        },
        "id": "896115c1-1386-4f8a-9149-82a7a3ae404a",
        "outputId": "b4510b91-97ae-43e4-9129-145094278a96"
      },
      "outputs": [
        {
          "output_type": "execute_result",
          "data": {
            "text/plain": [
              "date         8767\n",
              "comment      8767\n",
              "platform     8767\n",
              "sentiment    8767\n",
              "dtype: int64"
            ]
          },
          "metadata": {},
          "execution_count": 140
        }
      ],
      "source": [
        "#Counting the dataset values for each column\n",
        "telecom_data.count()"
      ],
      "id": "896115c1-1386-4f8a-9149-82a7a3ae404a"
    },
    {
      "cell_type": "code",
      "execution_count": 141,
      "metadata": {
        "colab": {
          "base_uri": "https://localhost:8080/",
          "height": 466
        },
        "id": "40787d2d-738b-490c-98d2-f1e25a664d77",
        "outputId": "2c8c7f54-d318-4ccd-f104-a1b61171a122"
      },
      "outputs": [
        {
          "output_type": "execute_result",
          "data": {
            "text/plain": [
              "<Axes: xlabel='sentiment', ylabel='count'>"
            ]
          },
          "metadata": {},
          "execution_count": 141
        },
        {
          "output_type": "display_data",
          "data": {
            "text/plain": [
              "<Figure size 640x480 with 1 Axes>"
            ],
            "image/png": "[encoded data removed]"
          },
          "metadata": {}
        }
      ],
      "source": [
        "#Visualizing sentiment distributions\n",
        "sns.countplot(x=\"sentiment\", data=telecom_data)"
      ],
      "id": "40787d2d-738b-490c-98d2-f1e25a664d77"
    },
    {
      "cell_type": "code",
      "execution_count": 142,
      "metadata": {
        "colab": {
          "base_uri": "https://localhost:8080/"
        },
        "id": "c049013f-6dc5-4aad-8077-ff3ac7c59168",
        "outputId": "6311a6bf-3a7f-4f7d-f47a-29de8fb88464"
      },
      "outputs": [
        {
          "output_type": "stream",
          "name": "stdout",
          "text": [
            "<class 'pandas.core.frame.DataFrame'>\n",
            "Int64Index: 8767 entries, 0 to 8788\n",
            "Data columns (total 4 columns):\n",
            " #   Column     Non-Null Count  Dtype \n",
            "---  ------     --------------  ----- \n",
            " 0   date       8767 non-null   object\n",
            " 1   comment    8767 non-null   object\n",
            " 2   platform   8767 non-null   object\n",
            " 3   sentiment  8767 non-null   object\n",
            "dtypes: object(4)\n",
            "memory usage: 342.5+ KB\n"
          ]
        }
      ],
      "source": [
        "#Displaying dataset structure \n",
        "telecom_data.info()"
      ],
      "id": "c049013f-6dc5-4aad-8077-ff3ac7c59168"
    },
    {
      "cell_type": "markdown",
      "metadata": {
        "id": "1504836d-3e15-4ab9-a821-9f3675da8ba7"
      },
      "source": [
        "# 3.3 Cleaning"
      ],
      "id": "1504836d-3e15-4ab9-a821-9f3675da8ba7"
    },
    {
      "cell_type": "code",
      "execution_count": 143,
      "metadata": {
        "id": "AtLC5DIqBXgG"
      },
      "outputs": [],
      "source": [
        "# This is a swahili dataset list\n",
        "swahili_stopwords = [\n",
        "    'akasema', 'alikuwa', 'alisema', 'baada', 'basi', 'bila', 'cha', 'chini',\n",
        "    'hadi', 'hapo', 'hata', 'hivyo', 'hiyo', 'huku', 'huo', 'ila', 'ili',\n",
        "    'ilikuwa', 'juu', 'kama', 'karibu', 'katika', 'kila', 'kima', 'kisha',\n",
        "    'kubwa', 'kutoka', 'kuwa', 'kwa', 'kwamba', 'kwenda', 'kwenye', 'la',\n",
        "    'lakini', 'mara', 'mdogo', 'mimi', 'mkubwa', 'mmoja', 'moja', 'muda',\n",
        "    'mwenye', 'na', 'naye', 'ndani', 'ni', 'nini', 'nonkungu', 'pamoja', 'pia',\n",
        "    'sana', 'sasa', 'sauti', 'tafadhali', 'tena', 'tu', 'vile', 'wa', 'wakati',\n",
        "    'wake', 'walikuwa', 'wao', 'watu', 'wengine', 'wote', 'ya', 'hivi', 'huu',\n",
        "    'hii', 'yake', 'yangu', 'yao', 'yeye', 'yule', 'vya', 'za', 't', 'co',\n",
        "    'tz', 'au', 'tanzania', 'zaidi', 'zake', 'si','mm','ndo','hapa','je','hawa','nyie'\n",
        "]\n"
      ],
      "id": "AtLC5DIqBXgG"
    },
    {
      "cell_type": "code",
      "execution_count": 144,
      "metadata": {
        "id": "502df416"
      },
      "outputs": [],
      "source": [
        "#Function to clean dataset for various observations\n",
        "def clean_data_set(list_text):\n",
        "    new_list = []\n",
        "    for x in list_text:\n",
        "        x = re.sub(r'@[\\w]+','', str(x)) # remove twitter handle\n",
        "        x = re.sub(r'\\w+:\\/{2}[\\d\\w-]+(\\.[\\d\\w-]+)*(?:(?:\\/[^\\s/]*))*', '', str(x)) # removes Url\n",
        "        x = re.sub(r'[^\\w\\s]',' ', str(x))    # Remove Panctuations /?!. \n",
        "        x = x.strip()                   # Remove leading and trailing spaces\n",
        "        x = re.sub(' +', ' ', x)        # Remove extra white spaces\n",
        "        x = re.sub('[^A-Za-z0-9]+', ' ', x)  # Remove special characters\n",
        "        x = x.lower()                   # Converts to lower case\n",
        "        x = ' '.join([word for word in x.split() if word not in swahili_stopwords]) # Removes stopwords\n",
        "        new_list.append(x)\n",
        "    return new_list"
      ],
      "id": "502df416"
    },
    {
      "cell_type": "code",
      "execution_count": 145,
      "metadata": {
        "id": "18371097"
      },
      "outputs": [],
      "source": [
        "# write the clean comment to a dataframe list\n",
        "telecom_data[\"clean_comment\"] = clean_data_set(telecom_data.comment.to_list())"
      ],
      "id": "18371097"
    },
    {
      "cell_type": "code",
      "execution_count": 146,
      "metadata": {
        "colab": {
          "base_uri": "https://localhost:8080/",
          "height": 424
        },
        "id": "f091dd4b",
        "outputId": "9a4d1c13-5eb1-4b88-b795-486e40d7f3d9"
      },
      "outputs": [
        {
          "output_type": "execute_result",
          "data": {
            "text/plain": [
              "                                                comment  \\\n",
              "0           Chezea songesha wew https://t.co/FfnSsIkZGU   \n",
              "1     Tafuta hela sana ili usilalamikie mabadiliko y...   \n",
              "2     Hivi huu mtandao wa Tigo una tatizo au simu ya...   \n",
              "3     @DaktariWaWatoto Tamtam bando ni ðŸ”¥ ila kuin...   \n",
              "4     @VodacomTanzania @ImranHussein84 Tatizo kifuru...   \n",
              "...                                                 ...   \n",
              "8784  @LuisaUhuru Unastream kutumia mtandao gani\\nÃ°...   \n",
              "8785  Sasa mnasema mmebadilisha vifurushi naomba mni...   \n",
              "8786  @George_Ambangil @Tigo_TZ Sasa kama ad ww unal...   \n",
              "8787  @mafolebaraka @Haloteltz Bora wewe mi nikitumi...   \n",
              "8788  @beth_kasinga Weuh sivyo situation zina ni cha...   \n",
              "\n",
              "                                          clean_comment  \n",
              "0                                   chezea songesha wew  \n",
              "1     tafuta hela usilalamikie mabadiliko vifurushi ...  \n",
              "2     mtandao tigo una tatizo simu siku tatu leo mam...  \n",
              "3                     tamtam bando kuinunulia mpk tpesa  \n",
              "4     tatizo kifurushi internet nw akikai awali una ...  \n",
              "...                                                 ...  \n",
              "8784                     unastream kutumia mtandao gani  \n",
              "8785  mnasema mmebadilisha vifurushi naomba mnitajie...  \n",
              "8786  ad ww unalalamika vo nan niendelee kutumia mta...  \n",
              "8787  bora wewe mi nikitumiwa pesa halopesa haiingii...  \n",
              "8788  weuh sivyo situation zina chapa but haziru tun...  \n",
              "\n",
              "[8767 rows x 2 columns]"
            ],
            "text/html": [
              "\n",
              "  <div id=\"df-d36e8b2c-4210-4f95-a411-076501e3bd25\">\n",
              "    <div class=\"colab-df-container\">\n",
              "      <div>\n",
              "<style scoped>\n",
              "    .dataframe tbody tr th:only-of-type {\n",
              "        vertical-align: middle;\n",
              "    }\n",
              "\n",
              "    .dataframe tbody tr th {\n",
              "        vertical-align: top;\n",
              "    }\n",
              "\n",
              "    .dataframe thead th {\n",
              "        text-align: right;\n",
              "    }\n",
              "</style>\n",
              "<table border=\"1\" class=\"dataframe\">\n",
              "  <thead>\n",
              "    <tr style=\"text-align: right;\">\n",
              "      <th></th>\n",
              "      <th>comment</th>\n",
              "      <th>clean_comment</th>\n",
              "    </tr>\n",
              "  </thead>\n",
              "  <tbody>\n",
              "    <tr>\n",
              "      <th>0</th>\n",
              "      <td>Chezea songesha wew https://t.co/FfnSsIkZGU</td>\n",
              "      <td>chezea songesha wew</td>\n",
              "    </tr>\n",
              "    <tr>\n",
              "      <th>1</th>\n",
              "      <td>Tafuta hela sana ili usilalamikie mabadiliko y...</td>\n",
              "      <td>tafuta hela usilalamikie mabadiliko vifurushi ...</td>\n",
              "    </tr>\n",
              "    <tr>\n",
              "      <th>2</th>\n",
              "      <td>Hivi huu mtandao wa Tigo una tatizo au simu ya...</td>\n",
              "      <td>mtandao tigo una tatizo simu siku tatu leo mam...</td>\n",
              "    </tr>\n",
              "    <tr>\n",
              "      <th>3</th>\n",
              "      <td>@DaktariWaWatoto Tamtam bando ni ðŸ”¥ ila kuin...</td>\n",
              "      <td>tamtam bando kuinunulia mpk tpesa</td>\n",
              "    </tr>\n",
              "    <tr>\n",
              "      <th>4</th>\n",
              "      <td>@VodacomTanzania @ImranHussein84 Tatizo kifuru...</td>\n",
              "      <td>tatizo kifurushi internet nw akikai awali una ...</td>\n",
              "    </tr>\n",
              "    <tr>\n",
              "      <th>...</th>\n",
              "      <td>...</td>\n",
              "      <td>...</td>\n",
              "    </tr>\n",
              "    <tr>\n",
              "      <th>8784</th>\n",
              "      <td>@LuisaUhuru Unastream kutumia mtandao gani\\nÃ°...</td>\n",
              "      <td>unastream kutumia mtandao gani</td>\n",
              "    </tr>\n",
              "    <tr>\n",
              "      <th>8785</th>\n",
              "      <td>Sasa mnasema mmebadilisha vifurushi naomba mni...</td>\n",
              "      <td>mnasema mmebadilisha vifurushi naomba mnitajie...</td>\n",
              "    </tr>\n",
              "    <tr>\n",
              "      <th>8786</th>\n",
              "      <td>@George_Ambangil @Tigo_TZ Sasa kama ad ww unal...</td>\n",
              "      <td>ad ww unalalamika vo nan niendelee kutumia mta...</td>\n",
              "    </tr>\n",
              "    <tr>\n",
              "      <th>8787</th>\n",
              "      <td>@mafolebaraka @Haloteltz Bora wewe mi nikitumi...</td>\n",
              "      <td>bora wewe mi nikitumiwa pesa halopesa haiingii...</td>\n",
              "    </tr>\n",
              "    <tr>\n",
              "      <th>8788</th>\n",
              "      <td>@beth_kasinga Weuh sivyo situation zina ni cha...</td>\n",
              "      <td>weuh sivyo situation zina chapa but haziru tun...</td>\n",
              "    </tr>\n",
              "  </tbody>\n",
              "</table>\n",
              "<p>8767 rows × 2 columns</p>\n",
              "</div>\n",
              "      <button class=\"colab-df-convert\" onclick=\"convertToInteractive('df-d36e8b2c-4210-4f95-a411-076501e3bd25')\"\n",
              "              title=\"Convert this dataframe to an interactive table.\"\n",
              "              style=\"display:none;\">\n",
              "        \n",
              "  <svg xmlns=\"http://www.w3.org/2000/svg\" height=\"24px\"viewBox=\"0 0 24 24\"\n",
              "       width=\"24px\">\n",
              "    <path d=\"M0 0h24v24H0V0z\" fill=\"none\"/>\n",
              "    <path d=\"M18.56 5.44l.94 2.06.94-2.06 2.06-.94-2.06-.94-.94-2.06-.94 2.06-2.06.94zm-11 1L8.5 8.5l.94-2.06 2.06-.94-2.06-.94L8.5 2.5l-.94 2.06-2.06.94zm10 10l.94 2.06.94-2.06 2.06-.94-2.06-.94-.94-2.06-.94 2.06-2.06.94z\"/><path d=\"M17.41 7.96l-1.37-1.37c-.4-.4-.92-.59-1.43-.59-.52 0-1.04.2-1.43.59L10.3 9.45l-7.72 7.72c-.78.78-.78 2.05 0 2.83L4 21.41c.39.39.9.59 1.41.59.51 0 1.02-.2 1.41-.59l7.78-7.78 2.81-2.81c.8-.78.8-2.07 0-2.86zM5.41 20L4 18.59l7.72-7.72 1.47 1.35L5.41 20z\"/>\n",
              "  </svg>\n",
              "      </button>\n",
              "      \n",
              "  <style>\n",
              "    .colab-df-container {\n",
              "      display:flex;\n",
              "      flex-wrap:wrap;\n",
              "      gap: 12px;\n",
              "    }\n",
              "\n",
              "    .colab-df-convert {\n",
              "      background-color: #E8F0FE;\n",
              "      border: none;\n",
              "      border-radius: 50%;\n",
              "      cursor: pointer;\n",
              "      display: none;\n",
              "      fill: #1967D2;\n",
              "      height: 32px;\n",
              "      padding: 0 0 0 0;\n",
              "      width: 32px;\n",
              "    }\n",
              "\n",
              "    .colab-df-convert:hover {\n",
              "      background-color: #E2EBFA;\n",
              "      box-shadow: 0px 1px 2px rgba(60, 64, 67, 0.3), 0px 1px 3px 1px rgba(60, 64, 67, 0.15);\n",
              "      fill: #174EA6;\n",
              "    }\n",
              "\n",
              "    [theme=dark] .colab-df-convert {\n",
              "      background-color: #3B4455;\n",
              "      fill: #D2E3FC;\n",
              "    }\n",
              "\n",
              "    [theme=dark] .colab-df-convert:hover {\n",
              "      background-color: #434B5C;\n",
              "      box-shadow: 0px 1px 3px 1px rgba(0, 0, 0, 0.15);\n",
              "      filter: drop-shadow(0px 1px 2px rgba(0, 0, 0, 0.3));\n",
              "      fill: #FFFFFF;\n",
              "    }\n",
              "  </style>\n",
              "\n",
              "      <script>\n",
              "        const buttonEl =\n",
              "          document.querySelector('#df-d36e8b2c-4210-4f95-a411-076501e3bd25 button.colab-df-convert');\n",
              "        buttonEl.style.display =\n",
              "          google.colab.kernel.accessAllowed ? 'block' : 'none';\n",
              "\n",
              "        async function convertToInteractive(key) {\n",
              "          const element = document.querySelector('#df-d36e8b2c-4210-4f95-a411-076501e3bd25');\n",
              "          const dataTable =\n",
              "            await google.colab.kernel.invokeFunction('convertToInteractive',\n",
              "                                                     [key], {});\n",
              "          if (!dataTable) return;\n",
              "\n",
              "          const docLinkHtml = 'Like what you see? Visit the ' +\n",
              "            '<a target=\"_blank\" href=https://colab.research.google.com/notebooks/data_table.ipynb>data table notebook</a>'\n",
              "            + ' to learn more about interactive tables.';\n",
              "          element.innerHTML = '';\n",
              "          dataTable['output_type'] = 'display_data';\n",
              "          await google.colab.output.renderOutput(dataTable, element);\n",
              "          const docLink = document.createElement('div');\n",
              "          docLink.innerHTML = docLinkHtml;\n",
              "          element.appendChild(docLink);\n",
              "        }\n",
              "      </script>\n",
              "    </div>\n",
              "  </div>\n",
              "  "
            ]
          },
          "metadata": {},
          "execution_count": 146
        }
      ],
      "source": [
        "#displaying the original comment and the clean comment side by side\n",
        "telecom_data[['comment', 'clean_comment']]"
      ],
      "id": "f091dd4b"
    },
    {
      "cell_type": "code",
      "execution_count": 147,
      "metadata": {
        "id": "741fcaff-a255-4550-b67a-66c4f98ee554"
      },
      "outputs": [],
      "source": [
        "#Saving the clean dataset to a file\n",
        "telecom_data.to_csv(\"clean_telecom_data.csv\", index=False)"
      ],
      "id": "741fcaff-a255-4550-b67a-66c4f98ee554"
    },
    {
      "cell_type": "markdown",
      "metadata": {
        "id": "9a6832cc-0073-4961-a61b-849ab161be0d"
      },
      "source": [
        "# 4 Modeling"
      ],
      "id": "9a6832cc-0073-4961-a61b-849ab161be0d"
    },
    {
      "cell_type": "code",
      "execution_count": 148,
      "metadata": {
        "id": "9704a336-7ffb-4d4f-887b-3b330467b6d8"
      },
      "outputs": [],
      "source": [
        "#Reading clean dataset \n",
        "clean_telecom_data = pd.read_csv(\"clean_telecom_data.csv\")"
      ],
      "id": "9704a336-7ffb-4d4f-887b-3b330467b6d8"
    },
    {
      "cell_type": "code",
      "execution_count": 149,
      "metadata": {
        "id": "9OFUbpUQiYH1"
      },
      "outputs": [],
      "source": [
        "#This is a procedure to check path and create a folder to store model\n",
        "path = 'models'\n",
        "isExisting = os.path.exists(path)\n",
        "if not isExisting:\n",
        "  os.mkdir(path)"
      ],
      "id": "9OFUbpUQiYH1"
    },
    {
      "cell_type": "code",
      "execution_count": 150,
      "metadata": {
        "colab": {
          "base_uri": "https://localhost:8080/",
          "height": 424
        },
        "id": "3ae365d4-3fab-42df-b324-8925143e4b5c",
        "outputId": "8322c2b1-3f1b-4547-d68e-9602708e5a35"
      },
      "outputs": [
        {
          "output_type": "execute_result",
          "data": {
            "text/plain": [
              "                                          clean_comment sentiment\n",
              "0                                   chezea songesha wew         1\n",
              "1     tafuta hela usilalamikie mabadiliko vifurushi ...         1\n",
              "2     mtandao tigo una tatizo simu siku tatu leo mam...        -1\n",
              "3                     tamtam bando kuinunulia mpk tpesa         1\n",
              "4     tatizo kifurushi internet nw akikai awali una ...        -1\n",
              "...                                                 ...       ...\n",
              "8784                     unastream kutumia mtandao gani         0\n",
              "8785  mnasema mmebadilisha vifurushi naomba mnitajie...        -1\n",
              "8786  ad ww unalalamika vo nan niendelee kutumia mta...        -1\n",
              "8787  bora wewe mi nikitumiwa pesa halopesa haiingii...        -1\n",
              "8788  weuh sivyo situation zina chapa but haziru tun...         0\n",
              "\n",
              "[8767 rows x 2 columns]"
            ],
            "text/html": [
              "\n",
              "  <div id=\"df-f4301d08-bae9-453f-8731-fef80322c725\">\n",
              "    <div class=\"colab-df-container\">\n",
              "      <div>\n",
              "<style scoped>\n",
              "    .dataframe tbody tr th:only-of-type {\n",
              "        vertical-align: middle;\n",
              "    }\n",
              "\n",
              "    .dataframe tbody tr th {\n",
              "        vertical-align: top;\n",
              "    }\n",
              "\n",
              "    .dataframe thead th {\n",
              "        text-align: right;\n",
              "    }\n",
              "</style>\n",
              "<table border=\"1\" class=\"dataframe\">\n",
              "  <thead>\n",
              "    <tr style=\"text-align: right;\">\n",
              "      <th></th>\n",
              "      <th>clean_comment</th>\n",
              "      <th>sentiment</th>\n",
              "    </tr>\n",
              "  </thead>\n",
              "  <tbody>\n",
              "    <tr>\n",
              "      <th>0</th>\n",
              "      <td>chezea songesha wew</td>\n",
              "      <td>1</td>\n",
              "    </tr>\n",
              "    <tr>\n",
              "      <th>1</th>\n",
              "      <td>tafuta hela usilalamikie mabadiliko vifurushi ...</td>\n",
              "      <td>1</td>\n",
              "    </tr>\n",
              "    <tr>\n",
              "      <th>2</th>\n",
              "      <td>mtandao tigo una tatizo simu siku tatu leo mam...</td>\n",
              "      <td>-1</td>\n",
              "    </tr>\n",
              "    <tr>\n",
              "      <th>3</th>\n",
              "      <td>tamtam bando kuinunulia mpk tpesa</td>\n",
              "      <td>1</td>\n",
              "    </tr>\n",
              "    <tr>\n",
              "      <th>4</th>\n",
              "      <td>tatizo kifurushi internet nw akikai awali una ...</td>\n",
              "      <td>-1</td>\n",
              "    </tr>\n",
              "    <tr>\n",
              "      <th>...</th>\n",
              "      <td>...</td>\n",
              "      <td>...</td>\n",
              "    </tr>\n",
              "    <tr>\n",
              "      <th>8784</th>\n",
              "      <td>unastream kutumia mtandao gani</td>\n",
              "      <td>0</td>\n",
              "    </tr>\n",
              "    <tr>\n",
              "      <th>8785</th>\n",
              "      <td>mnasema mmebadilisha vifurushi naomba mnitajie...</td>\n",
              "      <td>-1</td>\n",
              "    </tr>\n",
              "    <tr>\n",
              "      <th>8786</th>\n",
              "      <td>ad ww unalalamika vo nan niendelee kutumia mta...</td>\n",
              "      <td>-1</td>\n",
              "    </tr>\n",
              "    <tr>\n",
              "      <th>8787</th>\n",
              "      <td>bora wewe mi nikitumiwa pesa halopesa haiingii...</td>\n",
              "      <td>-1</td>\n",
              "    </tr>\n",
              "    <tr>\n",
              "      <th>8788</th>\n",
              "      <td>weuh sivyo situation zina chapa but haziru tun...</td>\n",
              "      <td>0</td>\n",
              "    </tr>\n",
              "  </tbody>\n",
              "</table>\n",
              "<p>8767 rows × 2 columns</p>\n",
              "</div>\n",
              "      <button class=\"colab-df-convert\" onclick=\"convertToInteractive('df-f4301d08-bae9-453f-8731-fef80322c725')\"\n",
              "              title=\"Convert this dataframe to an interactive table.\"\n",
              "              style=\"display:none;\">\n",
              "        \n",
              "  <svg xmlns=\"http://www.w3.org/2000/svg\" height=\"24px\"viewBox=\"0 0 24 24\"\n",
              "       width=\"24px\">\n",
              "    <path d=\"M0 0h24v24H0V0z\" fill=\"none\"/>\n",
              "    <path d=\"M18.56 5.44l.94 2.06.94-2.06 2.06-.94-2.06-.94-.94-2.06-.94 2.06-2.06.94zm-11 1L8.5 8.5l.94-2.06 2.06-.94-2.06-.94L8.5 2.5l-.94 2.06-2.06.94zm10 10l.94 2.06.94-2.06 2.06-.94-2.06-.94-.94-2.06-.94 2.06-2.06.94z\"/><path d=\"M17.41 7.96l-1.37-1.37c-.4-.4-.92-.59-1.43-.59-.52 0-1.04.2-1.43.59L10.3 9.45l-7.72 7.72c-.78.78-.78 2.05 0 2.83L4 21.41c.39.39.9.59 1.41.59.51 0 1.02-.2 1.41-.59l7.78-7.78 2.81-2.81c.8-.78.8-2.07 0-2.86zM5.41 20L4 18.59l7.72-7.72 1.47 1.35L5.41 20z\"/>\n",
              "  </svg>\n",
              "      </button>\n",
              "      \n",
              "  <style>\n",
              "    .colab-df-container {\n",
              "      display:flex;\n",
              "      flex-wrap:wrap;\n",
              "      gap: 12px;\n",
              "    }\n",
              "\n",
              "    .colab-df-convert {\n",
              "      background-color: #E8F0FE;\n",
              "      border: none;\n",
              "      border-radius: 50%;\n",
              "      cursor: pointer;\n",
              "      display: none;\n",
              "      fill: #1967D2;\n",
              "      height: 32px;\n",
              "      padding: 0 0 0 0;\n",
              "      width: 32px;\n",
              "    }\n",
              "\n",
              "    .colab-df-convert:hover {\n",
              "      background-color: #E2EBFA;\n",
              "      box-shadow: 0px 1px 2px rgba(60, 64, 67, 0.3), 0px 1px 3px 1px rgba(60, 64, 67, 0.15);\n",
              "      fill: #174EA6;\n",
              "    }\n",
              "\n",
              "    [theme=dark] .colab-df-convert {\n",
              "      background-color: #3B4455;\n",
              "      fill: #D2E3FC;\n",
              "    }\n",
              "\n",
              "    [theme=dark] .colab-df-convert:hover {\n",
              "      background-color: #434B5C;\n",
              "      box-shadow: 0px 1px 3px 1px rgba(0, 0, 0, 0.15);\n",
              "      filter: drop-shadow(0px 1px 2px rgba(0, 0, 0, 0.3));\n",
              "      fill: #FFFFFF;\n",
              "    }\n",
              "  </style>\n",
              "\n",
              "      <script>\n",
              "        const buttonEl =\n",
              "          document.querySelector('#df-f4301d08-bae9-453f-8731-fef80322c725 button.colab-df-convert');\n",
              "        buttonEl.style.display =\n",
              "          google.colab.kernel.accessAllowed ? 'block' : 'none';\n",
              "\n",
              "        async function convertToInteractive(key) {\n",
              "          const element = document.querySelector('#df-f4301d08-bae9-453f-8731-fef80322c725');\n",
              "          const dataTable =\n",
              "            await google.colab.kernel.invokeFunction('convertToInteractive',\n",
              "                                                     [key], {});\n",
              "          if (!dataTable) return;\n",
              "\n",
              "          const docLinkHtml = 'Like what you see? Visit the ' +\n",
              "            '<a target=\"_blank\" href=https://colab.research.google.com/notebooks/data_table.ipynb>data table notebook</a>'\n",
              "            + ' to learn more about interactive tables.';\n",
              "          element.innerHTML = '';\n",
              "          dataTable['output_type'] = 'display_data';\n",
              "          await google.colab.output.renderOutput(dataTable, element);\n",
              "          const docLink = document.createElement('div');\n",
              "          docLink.innerHTML = docLinkHtml;\n",
              "          element.appendChild(docLink);\n",
              "        }\n",
              "      </script>\n",
              "    </div>\n",
              "  </div>\n",
              "  "
            ]
          },
          "metadata": {},
          "execution_count": 150
        }
      ],
      "source": [
        "#displaying the clean comment and sentiment data values\n",
        "telecom_data[[\"clean_comment\", 'sentiment']]"
      ],
      "id": "3ae365d4-3fab-42df-b324-8925143e4b5c"
    },
    {
      "cell_type": "code",
      "execution_count": 151,
      "metadata": {
        "id": "ObSpWEYS2u-d"
      },
      "outputs": [],
      "source": [
        "#labels = map(lambda x: dict(enumerate(data['target_names']))[x], data['target'])\n",
        "labels = map(lambda x: dict(enumerate(telecom_data['sentiment']))[x], telecom_data['sentiment'])"
      ],
      "id": "ObSpWEYS2u-d"
    },
    {
      "cell_type": "code",
      "execution_count": 152,
      "metadata": {
        "id": "sfAvzb8wgRfC"
      },
      "outputs": [],
      "source": [
        "#Assigning dataset to x and y values\n",
        "x = telecom_data.drop('sentiment', axis='columns')\n",
        "y = telecom_data['sentiment']"
      ],
      "id": "sfAvzb8wgRfC"
    },
    {
      "cell_type": "code",
      "execution_count": 153,
      "metadata": {
        "id": "d1904e89-92f5-4f53-87a3-a5a2e2dc2e97"
      },
      "outputs": [],
      "source": [
        "# Split datasate into training and test chunks with a ratio of 8:0 respective\n",
        "X_train, X_test, y_train, y_test = train_test_split(clean_telecom_data[\"clean_comment\"], clean_telecom_data[\"sentiment\"], test_size=0.2, random_state=42, shuffle=True, stratify=y)"
      ],
      "id": "d1904e89-92f5-4f53-87a3-a5a2e2dc2e97"
    },
    {
      "cell_type": "code",
      "execution_count": 154,
      "metadata": {
        "colab": {
          "base_uri": "https://localhost:8080/"
        },
        "id": "2016dfa9-7e8c-4108-be71-d73dcea5416f",
        "outputId": "b7d87c4a-5305-4862-a054-81e9cbe68b1c"
      },
      "outputs": [
        {
          "output_type": "stream",
          "name": "stdout",
          "text": [
            "Training sample size =  7013\n",
            "Testing sample size =  1754\n"
          ]
        }
      ],
      "source": [
        "#checking the training and testing sample sizes\n",
        "print(\"Training sample size = \", X_train.shape[0])\n",
        "print(\"Testing sample size = \", X_test.shape[0])"
      ],
      "id": "2016dfa9-7e8c-4108-be71-d73dcea5416f"
    },
    {
      "cell_type": "code",
      "execution_count": 155,
      "metadata": {
        "colab": {
          "base_uri": "https://localhost:8080/"
        },
        "id": "ZEc3m2eoMVn2",
        "outputId": "73b7e70a-eb8b-40e0-9d32-47c701b5cdca"
      },
      "outputs": [
        {
          "output_type": "execute_result",
          "data": {
            "text/plain": [
              "date             8767\n",
              "comment          8767\n",
              "platform         8767\n",
              "sentiment        8767\n",
              "clean_comment    8767\n",
              "dtype: int64"
            ]
          },
          "metadata": {},
          "execution_count": 155
        }
      ],
      "source": [
        "# check the datsize after cleaning process\n",
        "telecom_data.count()"
      ],
      "id": "ZEc3m2eoMVn2"
    },
    {
      "cell_type": "markdown",
      "metadata": {
        "id": "1691e079-5b0b-4738-adbe-bb4c93a1f8be"
      },
      "source": [
        "# 4.1 SUPPORT VECTOR MACHINE (SVM)"
      ],
      "id": "1691e079-5b0b-4738-adbe-bb4c93a1f8be"
    },
    {
      "cell_type": "code",
      "execution_count": 156,
      "metadata": {
        "id": "909fa7e5-6a58-4e14-be1c-bc08040d3337"
      },
      "outputs": [],
      "source": [
        "# creating classifier model pipeline\n",
        "svm_pipeline = Pipeline([\n",
        "     ('vect', CountVectorizer(ngram_range=(1,2))),\n",
        "     ('tfidf', TfidfTransformer()),\n",
        "     ('clf', SVC(kernel = 'sigmoid', random_state=0, gamma='scale', C=1.2, probability=True)), #tunned svm\n",
        " ])"
      ],
      "id": "909fa7e5-6a58-4e14-be1c-bc08040d3337"
    },
    {
      "cell_type": "code",
      "execution_count": 157,
      "metadata": {
        "colab": {
          "base_uri": "https://localhost:8080/",
          "height": 161
        },
        "id": "b049b5ff-62b9-44ef-8ced-4bd34ed9ae8a",
        "outputId": "0eee7681-e9b1-44d8-eb6d-5b5eec4893e4"
      },
      "outputs": [
        {
          "output_type": "execute_result",
          "data": {
            "text/plain": [
              "Pipeline(steps=[('vect', CountVectorizer(ngram_range=(1, 2))),\n",
              "                ('tfidf', TfidfTransformer()),\n",
              "                ('clf',\n",
              "                 SVC(C=1.2, kernel='sigmoid', probability=True,\n",
              "                     random_state=0))])"
            ],
            "text/html": [
              "<style>#sk-container-id-10 {color: black;background-color: white;}#sk-container-id-10 pre{padding: 0;}#sk-container-id-10 div.sk-toggleable {background-color: white;}#sk-container-id-10 label.sk-toggleable__label {cursor: pointer;display: block;width: 100%;margin-bottom: 0;padding: 0.3em;box-sizing: border-box;text-align: center;}#sk-container-id-10 label.sk-toggleable__label-arrow:before {content: \"▸\";float: left;margin-right: 0.25em;color: #696969;}#sk-container-id-10 label.sk-toggleable__label-arrow:hover:before {color: black;}#sk-container-id-10 div.sk-estimator:hover label.sk-toggleable__label-arrow:before {color: black;}#sk-container-id-10 div.sk-toggleable__content {max-height: 0;max-width: 0;overflow: hidden;text-align: left;background-color: #f0f8ff;}#sk-container-id-10 div.sk-toggleable__content pre {margin: 0.2em;color: black;border-radius: 0.25em;background-color: #f0f8ff;}#sk-container-id-10 input.sk-toggleable__control:checked~div.sk-toggleable__content {max-height: 200px;max-width: 100%;overflow: auto;}#sk-container-id-10 input.sk-toggleable__control:checked~label.sk-toggleable__label-arrow:before {content: \"▾\";}#sk-container-id-10 div.sk-estimator input.sk-toggleable__control:checked~label.sk-toggleable__label {background-color: #d4ebff;}#sk-container-id-10 div.sk-label input.sk-toggleable__control:checked~label.sk-toggleable__label {background-color: #d4ebff;}#sk-container-id-10 input.sk-hidden--visually {border: 0;clip: rect(1px 1px 1px 1px);clip: rect(1px, 1px, 1px, 1px);height: 1px;margin: -1px;overflow: hidden;padding: 0;position: absolute;width: 1px;}#sk-container-id-10 div.sk-estimator {font-family: monospace;background-color: #f0f8ff;border: 1px dotted black;border-radius: 0.25em;box-sizing: border-box;margin-bottom: 0.5em;}#sk-container-id-10 div.sk-estimator:hover {background-color: #d4ebff;}#sk-container-id-10 div.sk-parallel-item::after {content: \"\";width: 100%;border-bottom: 1px solid gray;flex-grow: 1;}#sk-container-id-10 div.sk-label:hover label.sk-toggleable__label {background-color: #d4ebff;}#sk-container-id-10 div.sk-serial::before {content: \"\";position: absolute;border-left: 1px solid gray;box-sizing: border-box;top: 0;bottom: 0;left: 50%;z-index: 0;}#sk-container-id-10 div.sk-serial {display: flex;flex-direction: column;align-items: center;background-color: white;padding-right: 0.2em;padding-left: 0.2em;position: relative;}#sk-container-id-10 div.sk-item {position: relative;z-index: 1;}#sk-container-id-10 div.sk-parallel {display: flex;align-items: stretch;justify-content: center;background-color: white;position: relative;}#sk-container-id-10 div.sk-item::before, #sk-container-id-10 div.sk-parallel-item::before {content: \"\";position: absolute;border-left: 1px solid gray;box-sizing: border-box;top: 0;bottom: 0;left: 50%;z-index: -1;}#sk-container-id-10 div.sk-parallel-item {display: flex;flex-direction: column;z-index: 1;position: relative;background-color: white;}#sk-container-id-10 div.sk-parallel-item:first-child::after {align-self: flex-end;width: 50%;}#sk-container-id-10 div.sk-parallel-item:last-child::after {align-self: flex-start;width: 50%;}#sk-container-id-10 div.sk-parallel-item:only-child::after {width: 0;}#sk-container-id-10 div.sk-dashed-wrapped {border: 1px dashed gray;margin: 0 0.4em 0.5em 0.4em;box-sizing: border-box;padding-bottom: 0.4em;background-color: white;}#sk-container-id-10 div.sk-label label {font-family: monospace;font-weight: bold;display: inline-block;line-height: 1.2em;}#sk-container-id-10 div.sk-label-container {text-align: center;}#sk-container-id-10 div.sk-container {/* jupyter's `normalize.less` sets `[hidden] { display: none; }` but bootstrap.min.css set `[hidden] { display: none !important; }` so we also need the `!important` here to be able to override the default hidden behavior on the sphinx rendered scikit-learn.org. See: https://github.com/scikit-learn/scikit-learn/issues/21755 */display: inline-block !important;position: relative;}#sk-container-id-10 div.sk-text-repr-fallback {display: none;}</style><div id=\"sk-container-id-10\" class=\"sk-top-container\"><div class=\"sk-text-repr-fallback\"><pre>Pipeline(steps=[(&#x27;vect&#x27;, CountVectorizer(ngram_range=(1, 2))),\n",
              "                (&#x27;tfidf&#x27;, TfidfTransformer()),\n",
              "                (&#x27;clf&#x27;,\n",
              "                 SVC(C=1.2, kernel=&#x27;sigmoid&#x27;, probability=True,\n",
              "                     random_state=0))])</pre><b>In a Jupyter environment, please rerun this cell to show the HTML representation or trust the notebook. <br />On GitHub, the HTML representation is unable to render, please try loading this page with nbviewer.org.</b></div><div class=\"sk-container\" hidden><div class=\"sk-item sk-dashed-wrapped\"><div class=\"sk-label-container\"><div class=\"sk-label sk-toggleable\"><input class=\"sk-toggleable__control sk-hidden--visually\" id=\"sk-estimator-id-37\" type=\"checkbox\" ><label for=\"sk-estimator-id-37\" class=\"sk-toggleable__label sk-toggleable__label-arrow\">Pipeline</label><div class=\"sk-toggleable__content\"><pre>Pipeline(steps=[(&#x27;vect&#x27;, CountVectorizer(ngram_range=(1, 2))),\n",
              "                (&#x27;tfidf&#x27;, TfidfTransformer()),\n",
              "                (&#x27;clf&#x27;,\n",
              "                 SVC(C=1.2, kernel=&#x27;sigmoid&#x27;, probability=True,\n",
              "                     random_state=0))])</pre></div></div></div><div class=\"sk-serial\"><div class=\"sk-item\"><div class=\"sk-estimator sk-toggleable\"><input class=\"sk-toggleable__control sk-hidden--visually\" id=\"sk-estimator-id-38\" type=\"checkbox\" ><label for=\"sk-estimator-id-38\" class=\"sk-toggleable__label sk-toggleable__label-arrow\">CountVectorizer</label><div class=\"sk-toggleable__content\"><pre>CountVectorizer(ngram_range=(1, 2))</pre></div></div></div><div class=\"sk-item\"><div class=\"sk-estimator sk-toggleable\"><input class=\"sk-toggleable__control sk-hidden--visually\" id=\"sk-estimator-id-39\" type=\"checkbox\" ><label for=\"sk-estimator-id-39\" class=\"sk-toggleable__label sk-toggleable__label-arrow\">TfidfTransformer</label><div class=\"sk-toggleable__content\"><pre>TfidfTransformer()</pre></div></div></div><div class=\"sk-item\"><div class=\"sk-estimator sk-toggleable\"><input class=\"sk-toggleable__control sk-hidden--visually\" id=\"sk-estimator-id-40\" type=\"checkbox\" ><label for=\"sk-estimator-id-40\" class=\"sk-toggleable__label sk-toggleable__label-arrow\">SVC</label><div class=\"sk-toggleable__content\"><pre>SVC(C=1.2, kernel=&#x27;sigmoid&#x27;, probability=True, random_state=0)</pre></div></div></div></div></div></div></div>"
            ]
          },
          "metadata": {},
          "execution_count": 157
        }
      ],
      "source": [
        "# model training X_train, X_test, y_train, y_test\n",
        "svm_model = svm_pipeline.fit(X_train.values.astype('U'), y_train.values.astype('int64'))\n",
        "svm_model"
      ],
      "id": "b049b5ff-62b9-44ef-8ced-4bd34ed9ae8a"
    },
    {
      "cell_type": "code",
      "execution_count": 158,
      "metadata": {
        "colab": {
          "base_uri": "https://localhost:8080/"
        },
        "id": "po6ebUJoNlFe",
        "outputId": "eaf48dc6-a42c-4868-d5b5-38ccbcedb7ff"
      },
      "outputs": [
        {
          "output_type": "execute_result",
          "data": {
            "text/plain": [
              "array([-1,  0,  1])"
            ]
          },
          "metadata": {},
          "execution_count": 158
        }
      ],
      "source": [
        "#Model prediction and class generation\n",
        "y_pred = svm_model.predict(X_test.values.astype('U'))\n",
        "svm_model.classes_"
      ],
      "id": "po6ebUJoNlFe"
    },
    {
      "cell_type": "code",
      "execution_count": 159,
      "metadata": {
        "colab": {
          "base_uri": "https://localhost:8080/"
        },
        "id": "a6a70991-ba0a-4902-aea8-a90c96782a69",
        "outputId": "ec1529fe-ea1e-4d86-a153-bc5b12e9ef60"
      },
      "outputs": [
        {
          "output_type": "stream",
          "name": "stdout",
          "text": [
            "[[720 207   2]\n",
            " [275 437   0]\n",
            " [ 58  50   5]]\n"
          ]
        }
      ],
      "source": [
        "#Creating and printing confusion matrix\n",
        "cm = confusion_matrix(y_test, y_pred, labels=svm_model.classes_)\n",
        "print(cm)"
      ],
      "id": "a6a70991-ba0a-4902-aea8-a90c96782a69"
    },
    {
      "cell_type": "code",
      "execution_count": 160,
      "metadata": {
        "colab": {
          "base_uri": "https://localhost:8080/",
          "height": 466
        },
        "id": "717a475c-4695-423a-b02e-536085d007a9",
        "outputId": "e0a6ae41-62e2-4fa2-d4bf-dc780b5018c8"
      },
      "outputs": [
        {
          "output_type": "stream",
          "name": "stdout",
          "text": [
            "<sklearn.metrics._plot.confusion_matrix.ConfusionMatrixDisplay object at 0x7f32fabbfd30>\n"
          ]
        },
        {
          "output_type": "display_data",
          "data": {
            "text/plain": [
              "<Figure size 640x480 with 2 Axes>"
            ],
            "image/png": "[encoded data removed]"
          },
          "metadata": {}
        }
      ],
      "source": [
        "# Visualization of the confusion matrix\n",
        "cm_dsp=ConfusionMatrixDisplay(confusion_matrix=cm, display_labels=['Negatives', 'Neutral', 'Positive'])\n",
        "print(cm_dsp.plot())"
      ],
      "id": "717a475c-4695-423a-b02e-536085d007a9"
    },
    {
      "cell_type": "code",
      "source": [
        "%%time\n",
        "\n",
        "#predicting \n",
        "y_pred = svm_model.predict(X_test.values.astype('U'))\n",
        "\n",
        "# Generating a model performance scores\n",
        "model_score = svm_model.score(X_test.values.astype('U'), y_test.values.astype('int64'))\n",
        "print(f'Model Score: {model_score:.4f}')\n",
        "#Accurracy acore\n",
        "accuracy = accuracy_score(y_test, y_pred)\n",
        "print()\n",
        "print(f\"Accuracy: {accuracy:.4f}\")\n",
        "#F1 Score\n",
        "f1 = f1_score(y_test, y_pred, average='weighted')\n",
        "print(f\"F1-score: {f1:.4f}\")\n",
        "#CPU and wall time\n",
        "print(\"CPU times and Wall time: \")"
      ],
      "metadata": {
        "colab": {
          "base_uri": "https://localhost:8080/"
        },
        "id": "nPMcQmCc1izY",
        "outputId": "9710a158-bdc7-4c96-b370-cafd2d7fbe03"
      },
      "id": "nPMcQmCc1izY",
      "execution_count": 161,
      "outputs": [
        {
          "output_type": "stream",
          "name": "stdout",
          "text": [
            "Model Score: 0.6625\n",
            "\n",
            "Accuracy: 0.6625\n",
            "F1-score: 0.6425\n",
            "CPU times and Wall time: \n",
            "CPU times: user 4.5 s, sys: 15.8 ms, total: 4.52 s\n",
            "Wall time: 4.6 s\n"
          ]
        }
      ]
    },
    {
      "cell_type": "code",
      "execution_count": 162,
      "metadata": {
        "colab": {
          "base_uri": "https://localhost:8080/"
        },
        "id": "3f69f227-fe8f-4713-9648-f517c517ad8b",
        "outputId": "736eb67b-7560-4837-e247-5f5ec39ba3e3"
      },
      "outputs": [
        {
          "output_type": "execute_result",
          "data": {
            "text/plain": [
              "['models/SVM_model_score_66.25.pkl']"
            ]
          },
          "metadata": {},
          "execution_count": 162
        }
      ],
      "source": [
        "# Save to file / directory\n",
        "joblib_file = \"models/SVM_model_score_\"+ str(round(accuracy*100,2))+\".pkl\"\n",
        "joblib.dump(svm_model, joblib_file)"
      ],
      "id": "3f69f227-fe8f-4713-9648-f517c517ad8b"
    },
    {
      "cell_type": "markdown",
      "metadata": {
        "id": "c2634a08-ffe0-4637-9271-cf8c89dc9482"
      },
      "source": [
        "## 4.2 RANDOM FOREST"
      ],
      "id": "c2634a08-ffe0-4637-9271-cf8c89dc9482"
    },
    {
      "cell_type": "code",
      "execution_count": 163,
      "metadata": {
        "id": "11d1e899-afab-4bf6-b8f0-0f12851f8aeb"
      },
      "outputs": [],
      "source": [
        "# Creating classifier model pipeline\n",
        "rf_pipeline = Pipeline([\n",
        "     ('vect', CountVectorizer(ngram_range=(1,2))),\n",
        "     ('tfidf', TfidfTransformer()),\n",
        "     ('clf', RandomForestClassifier()),\n",
        " ])"
      ],
      "id": "11d1e899-afab-4bf6-b8f0-0f12851f8aeb"
    },
    {
      "cell_type": "code",
      "execution_count": 164,
      "metadata": {
        "colab": {
          "base_uri": "https://localhost:8080/",
          "height": 161
        },
        "id": "5b119691-4c4f-4fc8-b57a-a57ebfd4b774",
        "outputId": "44819961-72b6-4410-ee56-045693c42187"
      },
      "outputs": [
        {
          "output_type": "execute_result",
          "data": {
            "text/plain": [
              "Pipeline(steps=[('vect', CountVectorizer(ngram_range=(1, 2))),\n",
              "                ('tfidf', TfidfTransformer()),\n",
              "                ('clf', RandomForestClassifier())])"
            ],
            "text/html": [
              "<style>#sk-container-id-11 {color: black;background-color: white;}#sk-container-id-11 pre{padding: 0;}#sk-container-id-11 div.sk-toggleable {background-color: white;}#sk-container-id-11 label.sk-toggleable__label {cursor: pointer;display: block;width: 100%;margin-bottom: 0;padding: 0.3em;box-sizing: border-box;text-align: center;}#sk-container-id-11 label.sk-toggleable__label-arrow:before {content: \"▸\";float: left;margin-right: 0.25em;color: #696969;}#sk-container-id-11 label.sk-toggleable__label-arrow:hover:before {color: black;}#sk-container-id-11 div.sk-estimator:hover label.sk-toggleable__label-arrow:before {color: black;}#sk-container-id-11 div.sk-toggleable__content {max-height: 0;max-width: 0;overflow: hidden;text-align: left;background-color: #f0f8ff;}#sk-container-id-11 div.sk-toggleable__content pre {margin: 0.2em;color: black;border-radius: 0.25em;background-color: #f0f8ff;}#sk-container-id-11 input.sk-toggleable__control:checked~div.sk-toggleable__content {max-height: 200px;max-width: 100%;overflow: auto;}#sk-container-id-11 input.sk-toggleable__control:checked~label.sk-toggleable__label-arrow:before {content: \"▾\";}#sk-container-id-11 div.sk-estimator input.sk-toggleable__control:checked~label.sk-toggleable__label {background-color: #d4ebff;}#sk-container-id-11 div.sk-label input.sk-toggleable__control:checked~label.sk-toggleable__label {background-color: #d4ebff;}#sk-container-id-11 input.sk-hidden--visually {border: 0;clip: rect(1px 1px 1px 1px);clip: rect(1px, 1px, 1px, 1px);height: 1px;margin: -1px;overflow: hidden;padding: 0;position: absolute;width: 1px;}#sk-container-id-11 div.sk-estimator {font-family: monospace;background-color: #f0f8ff;border: 1px dotted black;border-radius: 0.25em;box-sizing: border-box;margin-bottom: 0.5em;}#sk-container-id-11 div.sk-estimator:hover {background-color: #d4ebff;}#sk-container-id-11 div.sk-parallel-item::after {content: \"\";width: 100%;border-bottom: 1px solid gray;flex-grow: 1;}#sk-container-id-11 div.sk-label:hover label.sk-toggleable__label {background-color: #d4ebff;}#sk-container-id-11 div.sk-serial::before {content: \"\";position: absolute;border-left: 1px solid gray;box-sizing: border-box;top: 0;bottom: 0;left: 50%;z-index: 0;}#sk-container-id-11 div.sk-serial {display: flex;flex-direction: column;align-items: center;background-color: white;padding-right: 0.2em;padding-left: 0.2em;position: relative;}#sk-container-id-11 div.sk-item {position: relative;z-index: 1;}#sk-container-id-11 div.sk-parallel {display: flex;align-items: stretch;justify-content: center;background-color: white;position: relative;}#sk-container-id-11 div.sk-item::before, #sk-container-id-11 div.sk-parallel-item::before {content: \"\";position: absolute;border-left: 1px solid gray;box-sizing: border-box;top: 0;bottom: 0;left: 50%;z-index: -1;}#sk-container-id-11 div.sk-parallel-item {display: flex;flex-direction: column;z-index: 1;position: relative;background-color: white;}#sk-container-id-11 div.sk-parallel-item:first-child::after {align-self: flex-end;width: 50%;}#sk-container-id-11 div.sk-parallel-item:last-child::after {align-self: flex-start;width: 50%;}#sk-container-id-11 div.sk-parallel-item:only-child::after {width: 0;}#sk-container-id-11 div.sk-dashed-wrapped {border: 1px dashed gray;margin: 0 0.4em 0.5em 0.4em;box-sizing: border-box;padding-bottom: 0.4em;background-color: white;}#sk-container-id-11 div.sk-label label {font-family: monospace;font-weight: bold;display: inline-block;line-height: 1.2em;}#sk-container-id-11 div.sk-label-container {text-align: center;}#sk-container-id-11 div.sk-container {/* jupyter's `normalize.less` sets `[hidden] { display: none; }` but bootstrap.min.css set `[hidden] { display: none !important; }` so we also need the `!important` here to be able to override the default hidden behavior on the sphinx rendered scikit-learn.org. See: https://github.com/scikit-learn/scikit-learn/issues/21755 */display: inline-block !important;position: relative;}#sk-container-id-11 div.sk-text-repr-fallback {display: none;}</style><div id=\"sk-container-id-11\" class=\"sk-top-container\"><div class=\"sk-text-repr-fallback\"><pre>Pipeline(steps=[(&#x27;vect&#x27;, CountVectorizer(ngram_range=(1, 2))),\n",
              "                (&#x27;tfidf&#x27;, TfidfTransformer()),\n",
              "                (&#x27;clf&#x27;, RandomForestClassifier())])</pre><b>In a Jupyter environment, please rerun this cell to show the HTML representation or trust the notebook. <br />On GitHub, the HTML representation is unable to render, please try loading this page with nbviewer.org.</b></div><div class=\"sk-container\" hidden><div class=\"sk-item sk-dashed-wrapped\"><div class=\"sk-label-container\"><div class=\"sk-label sk-toggleable\"><input class=\"sk-toggleable__control sk-hidden--visually\" id=\"sk-estimator-id-41\" type=\"checkbox\" ><label for=\"sk-estimator-id-41\" class=\"sk-toggleable__label sk-toggleable__label-arrow\">Pipeline</label><div class=\"sk-toggleable__content\"><pre>Pipeline(steps=[(&#x27;vect&#x27;, CountVectorizer(ngram_range=(1, 2))),\n",
              "                (&#x27;tfidf&#x27;, TfidfTransformer()),\n",
              "                (&#x27;clf&#x27;, RandomForestClassifier())])</pre></div></div></div><div class=\"sk-serial\"><div class=\"sk-item\"><div class=\"sk-estimator sk-toggleable\"><input class=\"sk-toggleable__control sk-hidden--visually\" id=\"sk-estimator-id-42\" type=\"checkbox\" ><label for=\"sk-estimator-id-42\" class=\"sk-toggleable__label sk-toggleable__label-arrow\">CountVectorizer</label><div class=\"sk-toggleable__content\"><pre>CountVectorizer(ngram_range=(1, 2))</pre></div></div></div><div class=\"sk-item\"><div class=\"sk-estimator sk-toggleable\"><input class=\"sk-toggleable__control sk-hidden--visually\" id=\"sk-estimator-id-43\" type=\"checkbox\" ><label for=\"sk-estimator-id-43\" class=\"sk-toggleable__label sk-toggleable__label-arrow\">TfidfTransformer</label><div class=\"sk-toggleable__content\"><pre>TfidfTransformer()</pre></div></div></div><div class=\"sk-item\"><div class=\"sk-estimator sk-toggleable\"><input class=\"sk-toggleable__control sk-hidden--visually\" id=\"sk-estimator-id-44\" type=\"checkbox\" ><label for=\"sk-estimator-id-44\" class=\"sk-toggleable__label sk-toggleable__label-arrow\">RandomForestClassifier</label><div class=\"sk-toggleable__content\"><pre>RandomForestClassifier()</pre></div></div></div></div></div></div></div>"
            ]
          },
          "metadata": {},
          "execution_count": 164
        }
      ],
      "source": [
        "# Model training X_train, X_test, y_train, y_test\n",
        "rf_model = rf_pipeline.fit(X_train.values.astype('U'), y_train.values.astype('int64'))\n",
        "rf_model"
      ],
      "id": "5b119691-4c4f-4fc8-b57a-a57ebfd4b774"
    },
    {
      "cell_type": "code",
      "execution_count": 165,
      "metadata": {
        "colab": {
          "base_uri": "https://localhost:8080/"
        },
        "id": "5391641b-0a41-4586-abed-43888d19aa79",
        "outputId": "4bc25f39-013d-47f5-96a9-a9170101f339"
      },
      "outputs": [
        {
          "output_type": "execute_result",
          "data": {
            "text/plain": [
              "array([-1,  0,  1])"
            ]
          },
          "metadata": {},
          "execution_count": 165
        }
      ],
      "source": [
        "#Model prediction and class generation\n",
        "y_pred = rf_model.predict(X_test.values.astype('U'))\n",
        "rf_model.classes_"
      ],
      "id": "5391641b-0a41-4586-abed-43888d19aa79"
    },
    {
      "cell_type": "code",
      "execution_count": 166,
      "metadata": {
        "colab": {
          "base_uri": "https://localhost:8080/"
        },
        "id": "0b0f795b-29a3-4964-877b-5be5ece0afea",
        "outputId": "d4bb672d-d3b8-4781-df40-29add1de07f9"
      },
      "outputs": [
        {
          "output_type": "stream",
          "name": "stdout",
          "text": [
            "[[674 252   3]\n",
            " [257 454   1]\n",
            " [ 65  43   5]]\n"
          ]
        }
      ],
      "source": [
        "#Creating and printing Confusion matrix\n",
        "cm = confusion_matrix(y_test, y_pred, labels=rf_model.classes_)\n",
        "print(cm)"
      ],
      "id": "0b0f795b-29a3-4964-877b-5be5ece0afea"
    },
    {
      "cell_type": "code",
      "execution_count": 167,
      "metadata": {
        "colab": {
          "base_uri": "https://localhost:8080/",
          "height": 466
        },
        "id": "4f55fa3c-f3ea-46d5-b19c-a31daf880e47",
        "outputId": "02d4c3e4-9813-4818-9d4a-f6d730a434d6"
      },
      "outputs": [
        {
          "output_type": "execute_result",
          "data": {
            "text/plain": [
              "<sklearn.metrics._plot.confusion_matrix.ConfusionMatrixDisplay at 0x7f32f73e1cd0>"
            ]
          },
          "metadata": {},
          "execution_count": 167
        },
        {
          "output_type": "display_data",
          "data": {
            "text/plain": [
              "<Figure size 640x480 with 2 Axes>"
            ],
            "image/png": "[encoded data removed]"
          },
          "metadata": {}
        }
      ],
      "source": [
        "# Visualization of the confusion matrix\n",
        "cm_dsp=ConfusionMatrixDisplay(confusion_matrix=cm, display_labels=['Negatives', 'Neutral', 'Positive'])\n",
        "cm_dsp.plot()"
      ],
      "id": "4f55fa3c-f3ea-46d5-b19c-a31daf880e47"
    },
    {
      "cell_type": "code",
      "execution_count": 168,
      "metadata": {
        "colab": {
          "base_uri": "https://localhost:8080/"
        },
        "id": "aac0325f-5ca9-4562-bd85-66b322aad82a",
        "outputId": "133f633d-580f-40d3-c9d0-eca3b9c567e1"
      },
      "outputs": [
        {
          "output_type": "stream",
          "name": "stdout",
          "text": [
            "Model Score: 0.6460\n",
            "\n",
            "Accuracy: 0.6460\n",
            "F1-score: 0.6285\n",
            "CPU times and Wall time: \n",
            "CPU times: user 532 ms, sys: 2.02 ms, total: 534 ms\n",
            "Wall time: 538 ms\n"
          ]
        }
      ],
      "source": [
        "%%time\n",
        "\n",
        "#predicting \n",
        "y_pred = rf_model.predict(X_test.values.astype('U'))\n",
        "\n",
        "# Generating a model performance scores\n",
        "model_score = rf_model.score(X_test.values.astype('U'), y_test.values.astype('int64'))\n",
        "print(f'Model Score: {model_score:.4f}')\n",
        "#Accurracy acore\n",
        "accuracy = accuracy_score(y_test, y_pred)\n",
        "print()\n",
        "print(f\"Accuracy: {accuracy:.4f}\")\n",
        "#F1 Score\n",
        "f1 = f1_score(y_test, y_pred, average='weighted')\n",
        "print(f\"F1-score: {f1:.4f}\")\n",
        "#CPU and wall time\n",
        "print(\"CPU times and Wall time: \")"
      ],
      "id": "aac0325f-5ca9-4562-bd85-66b322aad82a"
    },
    {
      "cell_type": "code",
      "execution_count": 169,
      "metadata": {
        "colab": {
          "base_uri": "https://localhost:8080/"
        },
        "id": "3f1f9c66-134b-402e-8eae-e8e08a286904",
        "outputId": "721c76e1-d85d-4d2a-b5e4-ed3385068003"
      },
      "outputs": [
        {
          "output_type": "execute_result",
          "data": {
            "text/plain": [
              "['models/Randomforest_model_score_64.6.pkl']"
            ]
          },
          "metadata": {},
          "execution_count": 169
        }
      ],
      "source": [
        "# Save to file / directory\n",
        "joblib_file = \"models/Randomforest_model_score_\"+ str(round(accuracy*100,2))+\".pkl\"\n",
        "joblib.dump(rf_model, joblib_file)"
      ],
      "id": "3f1f9c66-134b-402e-8eae-e8e08a286904"
    },
    {
      "cell_type": "markdown",
      "metadata": {
        "id": "d40724ff-ac2d-49ca-8e6f-2e993fbc4540"
      },
      "source": [
        "# 4.3 DECISION TREE CLASSIFIER"
      ],
      "id": "d40724ff-ac2d-49ca-8e6f-2e993fbc4540"
    },
    {
      "cell_type": "code",
      "execution_count": 170,
      "metadata": {
        "id": "c2458729-8dd9-4ff1-b03a-2c8eb91c6c0d"
      },
      "outputs": [],
      "source": [
        "# Creating classifier model pipeline\n",
        "dt_pipeline = Pipeline([\n",
        "     ('vect', CountVectorizer(ngram_range=(1,2))),\n",
        "     ('tfidf', TfidfTransformer()),\n",
        "     ('clf', DecisionTreeClassifier()),\n",
        " ])"
      ],
      "id": "c2458729-8dd9-4ff1-b03a-2c8eb91c6c0d"
    },
    {
      "cell_type": "code",
      "execution_count": 171,
      "metadata": {
        "colab": {
          "base_uri": "https://localhost:8080/",
          "height": 161
        },
        "id": "c8ea1f6f-3613-46b7-a78f-824c14699ed9",
        "outputId": "f2ed23f2-b7b7-4189-d075-b04983dfcd02"
      },
      "outputs": [
        {
          "output_type": "execute_result",
          "data": {
            "text/plain": [
              "Pipeline(steps=[('vect', CountVectorizer(ngram_range=(1, 2))),\n",
              "                ('tfidf', TfidfTransformer()),\n",
              "                ('clf', DecisionTreeClassifier())])"
            ],
            "text/html": [
              "<style>#sk-container-id-12 {color: black;background-color: white;}#sk-container-id-12 pre{padding: 0;}#sk-container-id-12 div.sk-toggleable {background-color: white;}#sk-container-id-12 label.sk-toggleable__label {cursor: pointer;display: block;width: 100%;margin-bottom: 0;padding: 0.3em;box-sizing: border-box;text-align: center;}#sk-container-id-12 label.sk-toggleable__label-arrow:before {content: \"▸\";float: left;margin-right: 0.25em;color: #696969;}#sk-container-id-12 label.sk-toggleable__label-arrow:hover:before {color: black;}#sk-container-id-12 div.sk-estimator:hover label.sk-toggleable__label-arrow:before {color: black;}#sk-container-id-12 div.sk-toggleable__content {max-height: 0;max-width: 0;overflow: hidden;text-align: left;background-color: #f0f8ff;}#sk-container-id-12 div.sk-toggleable__content pre {margin: 0.2em;color: black;border-radius: 0.25em;background-color: #f0f8ff;}#sk-container-id-12 input.sk-toggleable__control:checked~div.sk-toggleable__content {max-height: 200px;max-width: 100%;overflow: auto;}#sk-container-id-12 input.sk-toggleable__control:checked~label.sk-toggleable__label-arrow:before {content: \"▾\";}#sk-container-id-12 div.sk-estimator input.sk-toggleable__control:checked~label.sk-toggleable__label {background-color: #d4ebff;}#sk-container-id-12 div.sk-label input.sk-toggleable__control:checked~label.sk-toggleable__label {background-color: #d4ebff;}#sk-container-id-12 input.sk-hidden--visually {border: 0;clip: rect(1px 1px 1px 1px);clip: rect(1px, 1px, 1px, 1px);height: 1px;margin: -1px;overflow: hidden;padding: 0;position: absolute;width: 1px;}#sk-container-id-12 div.sk-estimator {font-family: monospace;background-color: #f0f8ff;border: 1px dotted black;border-radius: 0.25em;box-sizing: border-box;margin-bottom: 0.5em;}#sk-container-id-12 div.sk-estimator:hover {background-color: #d4ebff;}#sk-container-id-12 div.sk-parallel-item::after {content: \"\";width: 100%;border-bottom: 1px solid gray;flex-grow: 1;}#sk-container-id-12 div.sk-label:hover label.sk-toggleable__label {background-color: #d4ebff;}#sk-container-id-12 div.sk-serial::before {content: \"\";position: absolute;border-left: 1px solid gray;box-sizing: border-box;top: 0;bottom: 0;left: 50%;z-index: 0;}#sk-container-id-12 div.sk-serial {display: flex;flex-direction: column;align-items: center;background-color: white;padding-right: 0.2em;padding-left: 0.2em;position: relative;}#sk-container-id-12 div.sk-item {position: relative;z-index: 1;}#sk-container-id-12 div.sk-parallel {display: flex;align-items: stretch;justify-content: center;background-color: white;position: relative;}#sk-container-id-12 div.sk-item::before, #sk-container-id-12 div.sk-parallel-item::before {content: \"\";position: absolute;border-left: 1px solid gray;box-sizing: border-box;top: 0;bottom: 0;left: 50%;z-index: -1;}#sk-container-id-12 div.sk-parallel-item {display: flex;flex-direction: column;z-index: 1;position: relative;background-color: white;}#sk-container-id-12 div.sk-parallel-item:first-child::after {align-self: flex-end;width: 50%;}#sk-container-id-12 div.sk-parallel-item:last-child::after {align-self: flex-start;width: 50%;}#sk-container-id-12 div.sk-parallel-item:only-child::after {width: 0;}#sk-container-id-12 div.sk-dashed-wrapped {border: 1px dashed gray;margin: 0 0.4em 0.5em 0.4em;box-sizing: border-box;padding-bottom: 0.4em;background-color: white;}#sk-container-id-12 div.sk-label label {font-family: monospace;font-weight: bold;display: inline-block;line-height: 1.2em;}#sk-container-id-12 div.sk-label-container {text-align: center;}#sk-container-id-12 div.sk-container {/* jupyter's `normalize.less` sets `[hidden] { display: none; }` but bootstrap.min.css set `[hidden] { display: none !important; }` so we also need the `!important` here to be able to override the default hidden behavior on the sphinx rendered scikit-learn.org. See: https://github.com/scikit-learn/scikit-learn/issues/21755 */display: inline-block !important;position: relative;}#sk-container-id-12 div.sk-text-repr-fallback {display: none;}</style><div id=\"sk-container-id-12\" class=\"sk-top-container\"><div class=\"sk-text-repr-fallback\"><pre>Pipeline(steps=[(&#x27;vect&#x27;, CountVectorizer(ngram_range=(1, 2))),\n",
              "                (&#x27;tfidf&#x27;, TfidfTransformer()),\n",
              "                (&#x27;clf&#x27;, DecisionTreeClassifier())])</pre><b>In a Jupyter environment, please rerun this cell to show the HTML representation or trust the notebook. <br />On GitHub, the HTML representation is unable to render, please try loading this page with nbviewer.org.</b></div><div class=\"sk-container\" hidden><div class=\"sk-item sk-dashed-wrapped\"><div class=\"sk-label-container\"><div class=\"sk-label sk-toggleable\"><input class=\"sk-toggleable__control sk-hidden--visually\" id=\"sk-estimator-id-45\" type=\"checkbox\" ><label for=\"sk-estimator-id-45\" class=\"sk-toggleable__label sk-toggleable__label-arrow\">Pipeline</label><div class=\"sk-toggleable__content\"><pre>Pipeline(steps=[(&#x27;vect&#x27;, CountVectorizer(ngram_range=(1, 2))),\n",
              "                (&#x27;tfidf&#x27;, TfidfTransformer()),\n",
              "                (&#x27;clf&#x27;, DecisionTreeClassifier())])</pre></div></div></div><div class=\"sk-serial\"><div class=\"sk-item\"><div class=\"sk-estimator sk-toggleable\"><input class=\"sk-toggleable__control sk-hidden--visually\" id=\"sk-estimator-id-46\" type=\"checkbox\" ><label for=\"sk-estimator-id-46\" class=\"sk-toggleable__label sk-toggleable__label-arrow\">CountVectorizer</label><div class=\"sk-toggleable__content\"><pre>CountVectorizer(ngram_range=(1, 2))</pre></div></div></div><div class=\"sk-item\"><div class=\"sk-estimator sk-toggleable\"><input class=\"sk-toggleable__control sk-hidden--visually\" id=\"sk-estimator-id-47\" type=\"checkbox\" ><label for=\"sk-estimator-id-47\" class=\"sk-toggleable__label sk-toggleable__label-arrow\">TfidfTransformer</label><div class=\"sk-toggleable__content\"><pre>TfidfTransformer()</pre></div></div></div><div class=\"sk-item\"><div class=\"sk-estimator sk-toggleable\"><input class=\"sk-toggleable__control sk-hidden--visually\" id=\"sk-estimator-id-48\" type=\"checkbox\" ><label for=\"sk-estimator-id-48\" class=\"sk-toggleable__label sk-toggleable__label-arrow\">DecisionTreeClassifier</label><div class=\"sk-toggleable__content\"><pre>DecisionTreeClassifier()</pre></div></div></div></div></div></div></div>"
            ]
          },
          "metadata": {},
          "execution_count": 171
        }
      ],
      "source": [
        "# Algorithm training X_train, X_test, y_train, y_test\n",
        "dt_model = dt_pipeline.fit(X_train.values.astype('U'), y_train.values.astype('int64'))\n",
        "dt_model"
      ],
      "id": "c8ea1f6f-3613-46b7-a78f-824c14699ed9"
    },
    {
      "cell_type": "code",
      "execution_count": 172,
      "metadata": {
        "colab": {
          "base_uri": "https://localhost:8080/"
        },
        "id": "642dd071-dc7f-42f3-8775-f133e1417b24",
        "outputId": "5ce6d5fb-19e8-43fd-ccba-bb3e30a389ba"
      },
      "outputs": [
        {
          "output_type": "execute_result",
          "data": {
            "text/plain": [
              "array([-1,  0,  1])"
            ]
          },
          "metadata": {},
          "execution_count": 172
        }
      ],
      "source": [
        "#Model prediction and class generation\n",
        "y_pred = dt_model.predict(X_test.values.astype('U'))\n",
        "dt_model.classes_"
      ],
      "id": "642dd071-dc7f-42f3-8775-f133e1417b24"
    },
    {
      "cell_type": "code",
      "execution_count": 173,
      "metadata": {
        "colab": {
          "base_uri": "https://localhost:8080/"
        },
        "id": "c516ab2a-4bb9-4f95-92c3-8c69e539af9f",
        "outputId": "513202db-ae1f-4af1-f763-65a2aeda90bc"
      },
      "outputs": [
        {
          "output_type": "stream",
          "name": "stdout",
          "text": [
            "[[543 357  29]\n",
            " [307 376  29]\n",
            " [ 50  51  12]]\n"
          ]
        }
      ],
      "source": [
        "#Creating and printing confusion matrix\n",
        "cm = confusion_matrix(y_test, y_pred, labels=dt_model.classes_)\n",
        "print(cm)"
      ],
      "id": "c516ab2a-4bb9-4f95-92c3-8c69e539af9f"
    },
    {
      "cell_type": "code",
      "execution_count": 174,
      "metadata": {
        "colab": {
          "base_uri": "https://localhost:8080/",
          "height": 466
        },
        "id": "f2870031-8ae3-430b-a96d-5dc442357ff5",
        "outputId": "e0125bc9-19b0-4395-f08e-fac7087208c5"
      },
      "outputs": [
        {
          "output_type": "execute_result",
          "data": {
            "text/plain": [
              "<sklearn.metrics._plot.confusion_matrix.ConfusionMatrixDisplay at 0x7f32f73e1b20>"
            ]
          },
          "metadata": {},
          "execution_count": 174
        },
        {
          "output_type": "display_data",
          "data": {
            "text/plain": [
              "<Figure size 640x480 with 2 Axes>"
            ],
            "image/png": "[encoded data removed]"
          },
          "metadata": {}
        }
      ],
      "source": [
        "# Visualization of the confusion matrix\n",
        "cm_dsp=ConfusionMatrixDisplay(confusion_matrix=cm, display_labels=['Negatives', 'Neutral', 'Positive'])\n",
        "cm_dsp.plot()"
      ],
      "id": "f2870031-8ae3-430b-a96d-5dc442357ff5"
    },
    {
      "cell_type": "code",
      "source": [
        "%%time\n",
        "\n",
        "#predicting \n",
        "y_pred = dt_model.predict(X_test.values.astype('U'))\n",
        "\n",
        "# Generating a model performance scores\n",
        "model_score = dt_model.score(X_test.values.astype('U'), y_test.values.astype('int64'))\n",
        "print(f'Model Score: {model_score:.4f}')\n",
        "#Accurracy acore\n",
        "accuracy = accuracy_score(y_test, y_pred)\n",
        "print()\n",
        "print(f\"Accuracy: {accuracy:.4f}\")\n",
        "#F1 Score\n",
        "f1 = f1_score(y_test, y_pred, average='weighted')\n",
        "print(f\"F1-score: {f1:.4f}\")\n",
        "#CPU and wall time\n",
        "print(\"CPU times and Wall time: \")"
      ],
      "metadata": {
        "colab": {
          "base_uri": "https://localhost:8080/"
        },
        "id": "iuIbpsjq0-xp",
        "outputId": "e8b533db-2369-4888-82c4-05ff71edd4c4"
      },
      "id": "iuIbpsjq0-xp",
      "execution_count": 175,
      "outputs": [
        {
          "output_type": "stream",
          "name": "stdout",
          "text": [
            "Model Score: 0.5308\n",
            "\n",
            "Accuracy: 0.5308\n",
            "F1-score: 0.5270\n",
            "CPU times and Wall time: \n",
            "CPU times: user 140 ms, sys: 15 µs, total: 140 ms\n",
            "Wall time: 140 ms\n"
          ]
        }
      ]
    },
    {
      "cell_type": "code",
      "execution_count": 176,
      "metadata": {
        "colab": {
          "base_uri": "https://localhost:8080/"
        },
        "id": "3ceaae73-dcb2-4f0e-b525-dcd753896cbc",
        "outputId": "38e7c11b-1acc-4b8f-c83a-6ed3a14166ce"
      },
      "outputs": [
        {
          "output_type": "execute_result",
          "data": {
            "text/plain": [
              "['models/DecisionTreeClassifier_model_score_53.08.pkl']"
            ]
          },
          "metadata": {},
          "execution_count": 176
        }
      ],
      "source": [
        "# Save to file / directory\n",
        "joblib_file = \"models/DecisionTreeClassifier_model_score_\"+ str(round(accuracy*100,2))+\".pkl\"\n",
        "joblib.dump(dt_model, joblib_file)"
      ],
      "id": "3ceaae73-dcb2-4f0e-b525-dcd753896cbc"
    },
    {
      "cell_type": "markdown",
      "metadata": {
        "id": "4042fb67-1afd-47de-9ca2-fe20ae287819"
      },
      "source": [
        "# 4.4 KNEIGHBORS CLASSIFIER"
      ],
      "id": "4042fb67-1afd-47de-9ca2-fe20ae287819"
    },
    {
      "cell_type": "code",
      "execution_count": 177,
      "metadata": {
        "id": "801fbd7b-d730-4809-a7b6-f909cfaf07e0"
      },
      "outputs": [],
      "source": [
        "# creating classifier modell pipeline\n",
        "kn_pipeline = Pipeline([\n",
        "     ('vect', CountVectorizer(ngram_range=(1,2))),\n",
        "     ('tfidf', TfidfTransformer()),\n",
        "     ('clf', KNeighborsClassifier()), \n",
        " ])"
      ],
      "id": "801fbd7b-d730-4809-a7b6-f909cfaf07e0"
    },
    {
      "cell_type": "code",
      "execution_count": 178,
      "metadata": {
        "colab": {
          "base_uri": "https://localhost:8080/",
          "height": 161
        },
        "id": "9c1877bb-f512-4b4b-9d07-3513a033d20c",
        "outputId": "73432fe5-813c-490b-e6a9-1e4a826c6135"
      },
      "outputs": [
        {
          "output_type": "execute_result",
          "data": {
            "text/plain": [
              "Pipeline(steps=[('vect', CountVectorizer(ngram_range=(1, 2))),\n",
              "                ('tfidf', TfidfTransformer()),\n",
              "                ('clf', KNeighborsClassifier())])"
            ],
            "text/html": [
              "<style>#sk-container-id-13 {color: black;background-color: white;}#sk-container-id-13 pre{padding: 0;}#sk-container-id-13 div.sk-toggleable {background-color: white;}#sk-container-id-13 label.sk-toggleable__label {cursor: pointer;display: block;width: 100%;margin-bottom: 0;padding: 0.3em;box-sizing: border-box;text-align: center;}#sk-container-id-13 label.sk-toggleable__label-arrow:before {content: \"▸\";float: left;margin-right: 0.25em;color: #696969;}#sk-container-id-13 label.sk-toggleable__label-arrow:hover:before {color: black;}#sk-container-id-13 div.sk-estimator:hover label.sk-toggleable__label-arrow:before {color: black;}#sk-container-id-13 div.sk-toggleable__content {max-height: 0;max-width: 0;overflow: hidden;text-align: left;background-color: #f0f8ff;}#sk-container-id-13 div.sk-toggleable__content pre {margin: 0.2em;color: black;border-radius: 0.25em;background-color: #f0f8ff;}#sk-container-id-13 input.sk-toggleable__control:checked~div.sk-toggleable__content {max-height: 200px;max-width: 100%;overflow: auto;}#sk-container-id-13 input.sk-toggleable__control:checked~label.sk-toggleable__label-arrow:before {content: \"▾\";}#sk-container-id-13 div.sk-estimator input.sk-toggleable__control:checked~label.sk-toggleable__label {background-color: #d4ebff;}#sk-container-id-13 div.sk-label input.sk-toggleable__control:checked~label.sk-toggleable__label {background-color: #d4ebff;}#sk-container-id-13 input.sk-hidden--visually {border: 0;clip: rect(1px 1px 1px 1px);clip: rect(1px, 1px, 1px, 1px);height: 1px;margin: -1px;overflow: hidden;padding: 0;position: absolute;width: 1px;}#sk-container-id-13 div.sk-estimator {font-family: monospace;background-color: #f0f8ff;border: 1px dotted black;border-radius: 0.25em;box-sizing: border-box;margin-bottom: 0.5em;}#sk-container-id-13 div.sk-estimator:hover {background-color: #d4ebff;}#sk-container-id-13 div.sk-parallel-item::after {content: \"\";width: 100%;border-bottom: 1px solid gray;flex-grow: 1;}#sk-container-id-13 div.sk-label:hover label.sk-toggleable__label {background-color: #d4ebff;}#sk-container-id-13 div.sk-serial::before {content: \"\";position: absolute;border-left: 1px solid gray;box-sizing: border-box;top: 0;bottom: 0;left: 50%;z-index: 0;}#sk-container-id-13 div.sk-serial {display: flex;flex-direction: column;align-items: center;background-color: white;padding-right: 0.2em;padding-left: 0.2em;position: relative;}#sk-container-id-13 div.sk-item {position: relative;z-index: 1;}#sk-container-id-13 div.sk-parallel {display: flex;align-items: stretch;justify-content: center;background-color: white;position: relative;}#sk-container-id-13 div.sk-item::before, #sk-container-id-13 div.sk-parallel-item::before {content: \"\";position: absolute;border-left: 1px solid gray;box-sizing: border-box;top: 0;bottom: 0;left: 50%;z-index: -1;}#sk-container-id-13 div.sk-parallel-item {display: flex;flex-direction: column;z-index: 1;position: relative;background-color: white;}#sk-container-id-13 div.sk-parallel-item:first-child::after {align-self: flex-end;width: 50%;}#sk-container-id-13 div.sk-parallel-item:last-child::after {align-self: flex-start;width: 50%;}#sk-container-id-13 div.sk-parallel-item:only-child::after {width: 0;}#sk-container-id-13 div.sk-dashed-wrapped {border: 1px dashed gray;margin: 0 0.4em 0.5em 0.4em;box-sizing: border-box;padding-bottom: 0.4em;background-color: white;}#sk-container-id-13 div.sk-label label {font-family: monospace;font-weight: bold;display: inline-block;line-height: 1.2em;}#sk-container-id-13 div.sk-label-container {text-align: center;}#sk-container-id-13 div.sk-container {/* jupyter's `normalize.less` sets `[hidden] { display: none; }` but bootstrap.min.css set `[hidden] { display: none !important; }` so we also need the `!important` here to be able to override the default hidden behavior on the sphinx rendered scikit-learn.org. See: https://github.com/scikit-learn/scikit-learn/issues/21755 */display: inline-block !important;position: relative;}#sk-container-id-13 div.sk-text-repr-fallback {display: none;}</style><div id=\"sk-container-id-13\" class=\"sk-top-container\"><div class=\"sk-text-repr-fallback\"><pre>Pipeline(steps=[(&#x27;vect&#x27;, CountVectorizer(ngram_range=(1, 2))),\n",
              "                (&#x27;tfidf&#x27;, TfidfTransformer()),\n",
              "                (&#x27;clf&#x27;, KNeighborsClassifier())])</pre><b>In a Jupyter environment, please rerun this cell to show the HTML representation or trust the notebook. <br />On GitHub, the HTML representation is unable to render, please try loading this page with nbviewer.org.</b></div><div class=\"sk-container\" hidden><div class=\"sk-item sk-dashed-wrapped\"><div class=\"sk-label-container\"><div class=\"sk-label sk-toggleable\"><input class=\"sk-toggleable__control sk-hidden--visually\" id=\"sk-estimator-id-49\" type=\"checkbox\" ><label for=\"sk-estimator-id-49\" class=\"sk-toggleable__label sk-toggleable__label-arrow\">Pipeline</label><div class=\"sk-toggleable__content\"><pre>Pipeline(steps=[(&#x27;vect&#x27;, CountVectorizer(ngram_range=(1, 2))),\n",
              "                (&#x27;tfidf&#x27;, TfidfTransformer()),\n",
              "                (&#x27;clf&#x27;, KNeighborsClassifier())])</pre></div></div></div><div class=\"sk-serial\"><div class=\"sk-item\"><div class=\"sk-estimator sk-toggleable\"><input class=\"sk-toggleable__control sk-hidden--visually\" id=\"sk-estimator-id-50\" type=\"checkbox\" ><label for=\"sk-estimator-id-50\" class=\"sk-toggleable__label sk-toggleable__label-arrow\">CountVectorizer</label><div class=\"sk-toggleable__content\"><pre>CountVectorizer(ngram_range=(1, 2))</pre></div></div></div><div class=\"sk-item\"><div class=\"sk-estimator sk-toggleable\"><input class=\"sk-toggleable__control sk-hidden--visually\" id=\"sk-estimator-id-51\" type=\"checkbox\" ><label for=\"sk-estimator-id-51\" class=\"sk-toggleable__label sk-toggleable__label-arrow\">TfidfTransformer</label><div class=\"sk-toggleable__content\"><pre>TfidfTransformer()</pre></div></div></div><div class=\"sk-item\"><div class=\"sk-estimator sk-toggleable\"><input class=\"sk-toggleable__control sk-hidden--visually\" id=\"sk-estimator-id-52\" type=\"checkbox\" ><label for=\"sk-estimator-id-52\" class=\"sk-toggleable__label sk-toggleable__label-arrow\">KNeighborsClassifier</label><div class=\"sk-toggleable__content\"><pre>KNeighborsClassifier()</pre></div></div></div></div></div></div></div>"
            ]
          },
          "metadata": {},
          "execution_count": 178
        }
      ],
      "source": [
        "# Algorithm training X_train, X_test, y_train, y_test\n",
        "kn_model = kn_pipeline.fit(X_train.values.astype('U'), y_train.values.astype('int64'))\n",
        "kn_model"
      ],
      "id": "9c1877bb-f512-4b4b-9d07-3513a033d20c"
    },
    {
      "cell_type": "code",
      "execution_count": 179,
      "metadata": {
        "colab": {
          "base_uri": "https://localhost:8080/"
        },
        "id": "a0caeba5-6674-4e06-82f7-81fc199f0e75",
        "outputId": "3f3afc7d-e78d-4956-a812-ffe72fd17190"
      },
      "outputs": [
        {
          "output_type": "execute_result",
          "data": {
            "text/plain": [
              "array([-1,  0,  1])"
            ]
          },
          "metadata": {},
          "execution_count": 179
        }
      ],
      "source": [
        "#Model prediction and class generation\n",
        "y_pred = kn_model.predict(X_test.values.astype('U'))\n",
        "kn_model.classes_"
      ],
      "id": "a0caeba5-6674-4e06-82f7-81fc199f0e75"
    },
    {
      "cell_type": "code",
      "execution_count": 180,
      "metadata": {
        "colab": {
          "base_uri": "https://localhost:8080/"
        },
        "id": "e64de012-a9ef-4b92-bf1a-5dd7d72ce4f3",
        "outputId": "31914329-ef56-4cfd-e9ec-705ab3943280"
      },
      "outputs": [
        {
          "output_type": "stream",
          "name": "stdout",
          "text": [
            "[[574 353   2]\n",
            " [208 504   0]\n",
            " [ 49  62   2]]\n"
          ]
        }
      ],
      "source": [
        "#creating and printing confusion matrix\n",
        "cm = confusion_matrix(y_test, y_pred, labels=kn_model.classes_)\n",
        "print(cm)"
      ],
      "id": "e64de012-a9ef-4b92-bf1a-5dd7d72ce4f3"
    },
    {
      "cell_type": "code",
      "execution_count": 181,
      "metadata": {
        "colab": {
          "base_uri": "https://localhost:8080/",
          "height": 466
        },
        "id": "8a6e17da-90f0-44e5-a488-4710405d3dc7",
        "outputId": "ce36b611-1a69-46ed-9629-e1b6e6c01532"
      },
      "outputs": [
        {
          "output_type": "execute_result",
          "data": {
            "text/plain": [
              "<sklearn.metrics._plot.confusion_matrix.ConfusionMatrixDisplay at 0x7f32f59eaf40>"
            ]
          },
          "metadata": {},
          "execution_count": 181
        },
        {
          "output_type": "display_data",
          "data": {
            "text/plain": [
              "<Figure size 640x480 with 2 Axes>"
            ],
            "image/png": "[encoded data removed]"
          },
          "metadata": {}
        }
      ],
      "source": [
        "# Visualization of the confusion matrix\n",
        "cm_dsp=ConfusionMatrixDisplay(confusion_matrix=cm, display_labels=['Negatives', 'Neutral', 'Positive'])\n",
        "cm_dsp.plot()"
      ],
      "id": "8a6e17da-90f0-44e5-a488-4710405d3dc7"
    },
    {
      "cell_type": "code",
      "source": [
        "%%time\n",
        "\n",
        "#predicting \n",
        "y_pred = kn_model.predict(X_test.values.astype('U'))\n",
        "\n",
        "# Generating a model performance scores\n",
        "model_score = kn_model.score(X_test.values.astype('U'), y_test.values.astype('int64'))\n",
        "print(f'Model Score: {model_score:.4f}')\n",
        "#Accurracy acore\n",
        "accuracy = accuracy_score(y_test, y_pred)\n",
        "print()\n",
        "print(f\"Accuracy: {accuracy:.4f}\")\n",
        "#F1 Score\n",
        "f1 = f1_score(y_test, y_pred, average='weighted')\n",
        "print(f\"F1-score: {f1:.4f}\")\n",
        "#CPU and wall time\n",
        "print(\"CPU times and Wall time: \")"
      ],
      "metadata": {
        "colab": {
          "base_uri": "https://localhost:8080/"
        },
        "id": "mIo5LTTN10KA",
        "outputId": "20a7851a-909f-4e4b-aa52-08740955f6b1"
      },
      "id": "mIo5LTTN10KA",
      "execution_count": 182,
      "outputs": [
        {
          "output_type": "stream",
          "name": "stdout",
          "text": [
            "Model Score: 0.6157\n",
            "\n",
            "Accuracy: 0.6157\n",
            "F1-score: 0.5986\n",
            "CPU times and Wall time: \n",
            "CPU times: user 18.6 s, sys: 23.1 ms, total: 18.6 s\n",
            "Wall time: 10 s\n"
          ]
        }
      ]
    },
    {
      "cell_type": "code",
      "execution_count": 183,
      "metadata": {
        "colab": {
          "base_uri": "https://localhost:8080/"
        },
        "id": "311caeee-63a8-41e6-9fa5-ffc65c10a83f",
        "outputId": "3e7f344e-a940-4a20-a085-17fad00532f1"
      },
      "outputs": [
        {
          "output_type": "execute_result",
          "data": {
            "text/plain": [
              "['models/KNeighborsClassifier_model_score_61.57.pkl']"
            ]
          },
          "metadata": {},
          "execution_count": 183
        }
      ],
      "source": [
        "# Save to file / directory\n",
        "joblib_file = \"models/KNeighborsClassifier_model_score_\"+ str(round(accuracy*100,2))+\".pkl\"\n",
        "joblib.dump(kn_model, joblib_file)"
      ],
      "id": "311caeee-63a8-41e6-9fa5-ffc65c10a83f"
    },
    {
      "cell_type": "markdown",
      "metadata": {
        "id": "c7e1b176-06c5-4d4b-acf1-a7444721a029"
      },
      "source": [
        "# 4.5 LOGISTIC REGRESSION "
      ],
      "id": "c7e1b176-06c5-4d4b-acf1-a7444721a029"
    },
    {
      "cell_type": "code",
      "execution_count": 184,
      "metadata": {
        "id": "3d78a162-5fca-4e8f-b7f4-9b7ad0def044"
      },
      "outputs": [],
      "source": [
        "# Creating classifier modell pipeline\n",
        "lr_pipeline = Pipeline([\n",
        "     ('vect', CountVectorizer(ngram_range=(1,2))),\n",
        "     ('tfidf', TfidfTransformer()),\n",
        "     ('clf', LogisticRegression()), \n",
        " ])"
      ],
      "id": "3d78a162-5fca-4e8f-b7f4-9b7ad0def044"
    },
    {
      "cell_type": "code",
      "execution_count": 185,
      "metadata": {
        "colab": {
          "base_uri": "https://localhost:8080/",
          "height": 161
        },
        "id": "cb85080c-7c8c-4fee-83f4-9a769d2730ca",
        "outputId": "0cac575d-719e-4c08-de1f-904626e14024"
      },
      "outputs": [
        {
          "output_type": "execute_result",
          "data": {
            "text/plain": [
              "Pipeline(steps=[('vect', CountVectorizer(ngram_range=(1, 2))),\n",
              "                ('tfidf', TfidfTransformer()), ('clf', LogisticRegression())])"
            ],
            "text/html": [
              "<style>#sk-container-id-14 {color: black;background-color: white;}#sk-container-id-14 pre{padding: 0;}#sk-container-id-14 div.sk-toggleable {background-color: white;}#sk-container-id-14 label.sk-toggleable__label {cursor: pointer;display: block;width: 100%;margin-bottom: 0;padding: 0.3em;box-sizing: border-box;text-align: center;}#sk-container-id-14 label.sk-toggleable__label-arrow:before {content: \"▸\";float: left;margin-right: 0.25em;color: #696969;}#sk-container-id-14 label.sk-toggleable__label-arrow:hover:before {color: black;}#sk-container-id-14 div.sk-estimator:hover label.sk-toggleable__label-arrow:before {color: black;}#sk-container-id-14 div.sk-toggleable__content {max-height: 0;max-width: 0;overflow: hidden;text-align: left;background-color: #f0f8ff;}#sk-container-id-14 div.sk-toggleable__content pre {margin: 0.2em;color: black;border-radius: 0.25em;background-color: #f0f8ff;}#sk-container-id-14 input.sk-toggleable__control:checked~div.sk-toggleable__content {max-height: 200px;max-width: 100%;overflow: auto;}#sk-container-id-14 input.sk-toggleable__control:checked~label.sk-toggleable__label-arrow:before {content: \"▾\";}#sk-container-id-14 div.sk-estimator input.sk-toggleable__control:checked~label.sk-toggleable__label {background-color: #d4ebff;}#sk-container-id-14 div.sk-label input.sk-toggleable__control:checked~label.sk-toggleable__label {background-color: #d4ebff;}#sk-container-id-14 input.sk-hidden--visually {border: 0;clip: rect(1px 1px 1px 1px);clip: rect(1px, 1px, 1px, 1px);height: 1px;margin: -1px;overflow: hidden;padding: 0;position: absolute;width: 1px;}#sk-container-id-14 div.sk-estimator {font-family: monospace;background-color: #f0f8ff;border: 1px dotted black;border-radius: 0.25em;box-sizing: border-box;margin-bottom: 0.5em;}#sk-container-id-14 div.sk-estimator:hover {background-color: #d4ebff;}#sk-container-id-14 div.sk-parallel-item::after {content: \"\";width: 100%;border-bottom: 1px solid gray;flex-grow: 1;}#sk-container-id-14 div.sk-label:hover label.sk-toggleable__label {background-color: #d4ebff;}#sk-container-id-14 div.sk-serial::before {content: \"\";position: absolute;border-left: 1px solid gray;box-sizing: border-box;top: 0;bottom: 0;left: 50%;z-index: 0;}#sk-container-id-14 div.sk-serial {display: flex;flex-direction: column;align-items: center;background-color: white;padding-right: 0.2em;padding-left: 0.2em;position: relative;}#sk-container-id-14 div.sk-item {position: relative;z-index: 1;}#sk-container-id-14 div.sk-parallel {display: flex;align-items: stretch;justify-content: center;background-color: white;position: relative;}#sk-container-id-14 div.sk-item::before, #sk-container-id-14 div.sk-parallel-item::before {content: \"\";position: absolute;border-left: 1px solid gray;box-sizing: border-box;top: 0;bottom: 0;left: 50%;z-index: -1;}#sk-container-id-14 div.sk-parallel-item {display: flex;flex-direction: column;z-index: 1;position: relative;background-color: white;}#sk-container-id-14 div.sk-parallel-item:first-child::after {align-self: flex-end;width: 50%;}#sk-container-id-14 div.sk-parallel-item:last-child::after {align-self: flex-start;width: 50%;}#sk-container-id-14 div.sk-parallel-item:only-child::after {width: 0;}#sk-container-id-14 div.sk-dashed-wrapped {border: 1px dashed gray;margin: 0 0.4em 0.5em 0.4em;box-sizing: border-box;padding-bottom: 0.4em;background-color: white;}#sk-container-id-14 div.sk-label label {font-family: monospace;font-weight: bold;display: inline-block;line-height: 1.2em;}#sk-container-id-14 div.sk-label-container {text-align: center;}#sk-container-id-14 div.sk-container {/* jupyter's `normalize.less` sets `[hidden] { display: none; }` but bootstrap.min.css set `[hidden] { display: none !important; }` so we also need the `!important` here to be able to override the default hidden behavior on the sphinx rendered scikit-learn.org. See: https://github.com/scikit-learn/scikit-learn/issues/21755 */display: inline-block !important;position: relative;}#sk-container-id-14 div.sk-text-repr-fallback {display: none;}</style><div id=\"sk-container-id-14\" class=\"sk-top-container\"><div class=\"sk-text-repr-fallback\"><pre>Pipeline(steps=[(&#x27;vect&#x27;, CountVectorizer(ngram_range=(1, 2))),\n",
              "                (&#x27;tfidf&#x27;, TfidfTransformer()), (&#x27;clf&#x27;, LogisticRegression())])</pre><b>In a Jupyter environment, please rerun this cell to show the HTML representation or trust the notebook. <br />On GitHub, the HTML representation is unable to render, please try loading this page with nbviewer.org.</b></div><div class=\"sk-container\" hidden><div class=\"sk-item sk-dashed-wrapped\"><div class=\"sk-label-container\"><div class=\"sk-label sk-toggleable\"><input class=\"sk-toggleable__control sk-hidden--visually\" id=\"sk-estimator-id-53\" type=\"checkbox\" ><label for=\"sk-estimator-id-53\" class=\"sk-toggleable__label sk-toggleable__label-arrow\">Pipeline</label><div class=\"sk-toggleable__content\"><pre>Pipeline(steps=[(&#x27;vect&#x27;, CountVectorizer(ngram_range=(1, 2))),\n",
              "                (&#x27;tfidf&#x27;, TfidfTransformer()), (&#x27;clf&#x27;, LogisticRegression())])</pre></div></div></div><div class=\"sk-serial\"><div class=\"sk-item\"><div class=\"sk-estimator sk-toggleable\"><input class=\"sk-toggleable__control sk-hidden--visually\" id=\"sk-estimator-id-54\" type=\"checkbox\" ><label for=\"sk-estimator-id-54\" class=\"sk-toggleable__label sk-toggleable__label-arrow\">CountVectorizer</label><div class=\"sk-toggleable__content\"><pre>CountVectorizer(ngram_range=(1, 2))</pre></div></div></div><div class=\"sk-item\"><div class=\"sk-estimator sk-toggleable\"><input class=\"sk-toggleable__control sk-hidden--visually\" id=\"sk-estimator-id-55\" type=\"checkbox\" ><label for=\"sk-estimator-id-55\" class=\"sk-toggleable__label sk-toggleable__label-arrow\">TfidfTransformer</label><div class=\"sk-toggleable__content\"><pre>TfidfTransformer()</pre></div></div></div><div class=\"sk-item\"><div class=\"sk-estimator sk-toggleable\"><input class=\"sk-toggleable__control sk-hidden--visually\" id=\"sk-estimator-id-56\" type=\"checkbox\" ><label for=\"sk-estimator-id-56\" class=\"sk-toggleable__label sk-toggleable__label-arrow\">LogisticRegression</label><div class=\"sk-toggleable__content\"><pre>LogisticRegression()</pre></div></div></div></div></div></div></div>"
            ]
          },
          "metadata": {},
          "execution_count": 185
        }
      ],
      "source": [
        "# Algorithm training X_train, X_test, y_train, y_test\n",
        "lr_model = lr_pipeline.fit(X_train.values.astype('U'), y_train.values.astype('int64'))\n",
        "lr_model"
      ],
      "id": "cb85080c-7c8c-4fee-83f4-9a769d2730ca"
    },
    {
      "cell_type": "code",
      "execution_count": 186,
      "metadata": {
        "colab": {
          "base_uri": "https://localhost:8080/"
        },
        "id": "fa8b27dc-2d1a-4a5e-be0e-48d5bf3701e0",
        "outputId": "f8b3eab9-8ccc-4689-dab7-45f45e62b59d"
      },
      "outputs": [
        {
          "output_type": "execute_result",
          "data": {
            "text/plain": [
              "array([-1,  0,  1])"
            ]
          },
          "metadata": {},
          "execution_count": 186
        }
      ],
      "source": [
        "#Model prediction and class generation\n",
        "y_pred = lr_model.predict(X_test.values.astype('U'))\n",
        "lr_model.classes_"
      ],
      "id": "fa8b27dc-2d1a-4a5e-be0e-48d5bf3701e0"
    },
    {
      "cell_type": "code",
      "execution_count": 187,
      "metadata": {
        "colab": {
          "base_uri": "https://localhost:8080/"
        },
        "id": "535cde6c-3579-438e-bd10-432affb6b948",
        "outputId": "eb18b748-340d-4972-b7c0-90cf81927297"
      },
      "outputs": [
        {
          "output_type": "stream",
          "name": "stdout",
          "text": [
            "[[746 183   0]\n",
            " [288 424   0]\n",
            " [ 66  46   1]]\n"
          ]
        }
      ],
      "source": [
        "#Creating and printing confusion matrix\n",
        "cm = confusion_matrix(y_test, y_pred, labels=lr_model.classes_)\n",
        "print(cm)"
      ],
      "id": "535cde6c-3579-438e-bd10-432affb6b948"
    },
    {
      "cell_type": "code",
      "execution_count": 188,
      "metadata": {
        "colab": {
          "base_uri": "https://localhost:8080/",
          "height": 466
        },
        "id": "82844cb8-dda7-4348-8a23-cbf8e5df33f6",
        "outputId": "b7b51615-3f68-497d-fa96-ee37ffdcda48"
      },
      "outputs": [
        {
          "output_type": "execute_result",
          "data": {
            "text/plain": [
              "<sklearn.metrics._plot.confusion_matrix.ConfusionMatrixDisplay at 0x7f32feeeefa0>"
            ]
          },
          "metadata": {},
          "execution_count": 188
        },
        {
          "output_type": "display_data",
          "data": {
            "text/plain": [
              "<Figure size 640x480 with 2 Axes>"
            ],
            "image/png": "[encoded data removed]"
          },
          "metadata": {}
        }
      ],
      "source": [
        "# Visualization of the confusion matrix\n",
        "cm_dsp=ConfusionMatrixDisplay(confusion_matrix=cm, display_labels=['Negatives', 'Neutral', 'Positive'])\n",
        "cm_dsp.plot()"
      ],
      "id": "82844cb8-dda7-4348-8a23-cbf8e5df33f6"
    },
    {
      "cell_type": "code",
      "source": [
        "%%time\n",
        "\n",
        "#model predicting \n",
        "y_pred = lr_model.predict(X_test.values.astype('U'))\n",
        "\n",
        "# Generating a model performance scores\n",
        "model_score = lr_model.score(X_test.values.astype('U'), y_test.values.astype('int64'))\n",
        "print(f'Model Score: {model_score:.4f}')\n",
        "#Accurracy acore\n",
        "accuracy = accuracy_score(y_test, y_pred)\n",
        "print()\n",
        "print(f\"Accuracy: {accuracy:.4f}\")\n",
        "#F1 Score\n",
        "f1 = f1_score(y_test, y_pred, average='weighted')\n",
        "print(f\"F1-score: {f1:.4f}\")\n",
        "#CPU and wall time\n",
        "print(\"CPU times and Wall time: \")"
      ],
      "metadata": {
        "colab": {
          "base_uri": "https://localhost:8080/"
        },
        "id": "ArlplE362D7R",
        "outputId": "48a6b34c-4ca3-4640-bba2-f6224eb448d6"
      },
      "id": "ArlplE362D7R",
      "execution_count": 189,
      "outputs": [
        {
          "output_type": "stream",
          "name": "stdout",
          "text": [
            "Model Score: 0.6676\n",
            "\n",
            "Accuracy: 0.6676\n",
            "F1-score: 0.6428\n",
            "CPU times and Wall time: \n",
            "CPU times: user 139 ms, sys: 1.01 ms, total: 140 ms\n",
            "Wall time: 143 ms\n"
          ]
        }
      ]
    },
    {
      "cell_type": "code",
      "execution_count": 190,
      "metadata": {
        "colab": {
          "base_uri": "https://localhost:8080/"
        },
        "id": "c339c5a7-424f-4f4d-ae17-6321bd13a317",
        "outputId": "1dcbe1d5-777b-4e52-8692-f0b480917f3e"
      },
      "outputs": [
        {
          "output_type": "execute_result",
          "data": {
            "text/plain": [
              "['models/Logistic regression_model_score_66.76.pkl']"
            ]
          },
          "metadata": {},
          "execution_count": 190
        }
      ],
      "source": [
        "# Save to file / directory\n",
        "joblib_file = \"models/Logistic regression_model_score_\"+ str(round(accuracy*100,2))+\".pkl\"\n",
        "joblib.dump(kn_model, joblib_file)"
      ],
      "id": "c339c5a7-424f-4f4d-ae17-6321bd13a317"
    },
    {
      "cell_type": "markdown",
      "metadata": {
        "id": "0c97d430-6c91-41cb-91b0-e929668f38b3"
      },
      "source": [
        "# 4.6 GRADIENT BOOSTING CLASSIFIER"
      ],
      "id": "0c97d430-6c91-41cb-91b0-e929668f38b3"
    },
    {
      "cell_type": "code",
      "execution_count": 191,
      "metadata": {
        "id": "b6df35e1-bcf3-4397-badb-491f992f95c8"
      },
      "outputs": [],
      "source": [
        "# Creating classifier model pipeline\n",
        "gd_pipeline = Pipeline([\n",
        "     ('vect', CountVectorizer(ngram_range=(1,2))),\n",
        "     ('tfidf', TfidfTransformer()),\n",
        "     ('clf', GradientBoostingClassifier()), \n",
        " ])"
      ],
      "id": "b6df35e1-bcf3-4397-badb-491f992f95c8"
    },
    {
      "cell_type": "code",
      "execution_count": 192,
      "metadata": {
        "colab": {
          "base_uri": "https://localhost:8080/",
          "height": 161
        },
        "id": "00c75729-2b87-49a9-95d5-ea22932a36b3",
        "outputId": "91d11b97-a871-4555-df4c-8414ed884af2"
      },
      "outputs": [
        {
          "output_type": "execute_result",
          "data": {
            "text/plain": [
              "Pipeline(steps=[('vect', CountVectorizer(ngram_range=(1, 2))),\n",
              "                ('tfidf', TfidfTransformer()),\n",
              "                ('clf', GradientBoostingClassifier())])"
            ],
            "text/html": [
              "<style>#sk-container-id-15 {color: black;background-color: white;}#sk-container-id-15 pre{padding: 0;}#sk-container-id-15 div.sk-toggleable {background-color: white;}#sk-container-id-15 label.sk-toggleable__label {cursor: pointer;display: block;width: 100%;margin-bottom: 0;padding: 0.3em;box-sizing: border-box;text-align: center;}#sk-container-id-15 label.sk-toggleable__label-arrow:before {content: \"▸\";float: left;margin-right: 0.25em;color: #696969;}#sk-container-id-15 label.sk-toggleable__label-arrow:hover:before {color: black;}#sk-container-id-15 div.sk-estimator:hover label.sk-toggleable__label-arrow:before {color: black;}#sk-container-id-15 div.sk-toggleable__content {max-height: 0;max-width: 0;overflow: hidden;text-align: left;background-color: #f0f8ff;}#sk-container-id-15 div.sk-toggleable__content pre {margin: 0.2em;color: black;border-radius: 0.25em;background-color: #f0f8ff;}#sk-container-id-15 input.sk-toggleable__control:checked~div.sk-toggleable__content {max-height: 200px;max-width: 100%;overflow: auto;}#sk-container-id-15 input.sk-toggleable__control:checked~label.sk-toggleable__label-arrow:before {content: \"▾\";}#sk-container-id-15 div.sk-estimator input.sk-toggleable__control:checked~label.sk-toggleable__label {background-color: #d4ebff;}#sk-container-id-15 div.sk-label input.sk-toggleable__control:checked~label.sk-toggleable__label {background-color: #d4ebff;}#sk-container-id-15 input.sk-hidden--visually {border: 0;clip: rect(1px 1px 1px 1px);clip: rect(1px, 1px, 1px, 1px);height: 1px;margin: -1px;overflow: hidden;padding: 0;position: absolute;width: 1px;}#sk-container-id-15 div.sk-estimator {font-family: monospace;background-color: #f0f8ff;border: 1px dotted black;border-radius: 0.25em;box-sizing: border-box;margin-bottom: 0.5em;}#sk-container-id-15 div.sk-estimator:hover {background-color: #d4ebff;}#sk-container-id-15 div.sk-parallel-item::after {content: \"\";width: 100%;border-bottom: 1px solid gray;flex-grow: 1;}#sk-container-id-15 div.sk-label:hover label.sk-toggleable__label {background-color: #d4ebff;}#sk-container-id-15 div.sk-serial::before {content: \"\";position: absolute;border-left: 1px solid gray;box-sizing: border-box;top: 0;bottom: 0;left: 50%;z-index: 0;}#sk-container-id-15 div.sk-serial {display: flex;flex-direction: column;align-items: center;background-color: white;padding-right: 0.2em;padding-left: 0.2em;position: relative;}#sk-container-id-15 div.sk-item {position: relative;z-index: 1;}#sk-container-id-15 div.sk-parallel {display: flex;align-items: stretch;justify-content: center;background-color: white;position: relative;}#sk-container-id-15 div.sk-item::before, #sk-container-id-15 div.sk-parallel-item::before {content: \"\";position: absolute;border-left: 1px solid gray;box-sizing: border-box;top: 0;bottom: 0;left: 50%;z-index: -1;}#sk-container-id-15 div.sk-parallel-item {display: flex;flex-direction: column;z-index: 1;position: relative;background-color: white;}#sk-container-id-15 div.sk-parallel-item:first-child::after {align-self: flex-end;width: 50%;}#sk-container-id-15 div.sk-parallel-item:last-child::after {align-self: flex-start;width: 50%;}#sk-container-id-15 div.sk-parallel-item:only-child::after {width: 0;}#sk-container-id-15 div.sk-dashed-wrapped {border: 1px dashed gray;margin: 0 0.4em 0.5em 0.4em;box-sizing: border-box;padding-bottom: 0.4em;background-color: white;}#sk-container-id-15 div.sk-label label {font-family: monospace;font-weight: bold;display: inline-block;line-height: 1.2em;}#sk-container-id-15 div.sk-label-container {text-align: center;}#sk-container-id-15 div.sk-container {/* jupyter's `normalize.less` sets `[hidden] { display: none; }` but bootstrap.min.css set `[hidden] { display: none !important; }` so we also need the `!important` here to be able to override the default hidden behavior on the sphinx rendered scikit-learn.org. See: https://github.com/scikit-learn/scikit-learn/issues/21755 */display: inline-block !important;position: relative;}#sk-container-id-15 div.sk-text-repr-fallback {display: none;}</style><div id=\"sk-container-id-15\" class=\"sk-top-container\"><div class=\"sk-text-repr-fallback\"><pre>Pipeline(steps=[(&#x27;vect&#x27;, CountVectorizer(ngram_range=(1, 2))),\n",
              "                (&#x27;tfidf&#x27;, TfidfTransformer()),\n",
              "                (&#x27;clf&#x27;, GradientBoostingClassifier())])</pre><b>In a Jupyter environment, please rerun this cell to show the HTML representation or trust the notebook. <br />On GitHub, the HTML representation is unable to render, please try loading this page with nbviewer.org.</b></div><div class=\"sk-container\" hidden><div class=\"sk-item sk-dashed-wrapped\"><div class=\"sk-label-container\"><div class=\"sk-label sk-toggleable\"><input class=\"sk-toggleable__control sk-hidden--visually\" id=\"sk-estimator-id-57\" type=\"checkbox\" ><label for=\"sk-estimator-id-57\" class=\"sk-toggleable__label sk-toggleable__label-arrow\">Pipeline</label><div class=\"sk-toggleable__content\"><pre>Pipeline(steps=[(&#x27;vect&#x27;, CountVectorizer(ngram_range=(1, 2))),\n",
              "                (&#x27;tfidf&#x27;, TfidfTransformer()),\n",
              "                (&#x27;clf&#x27;, GradientBoostingClassifier())])</pre></div></div></div><div class=\"sk-serial\"><div class=\"sk-item\"><div class=\"sk-estimator sk-toggleable\"><input class=\"sk-toggleable__control sk-hidden--visually\" id=\"sk-estimator-id-58\" type=\"checkbox\" ><label for=\"sk-estimator-id-58\" class=\"sk-toggleable__label sk-toggleable__label-arrow\">CountVectorizer</label><div class=\"sk-toggleable__content\"><pre>CountVectorizer(ngram_range=(1, 2))</pre></div></div></div><div class=\"sk-item\"><div class=\"sk-estimator sk-toggleable\"><input class=\"sk-toggleable__control sk-hidden--visually\" id=\"sk-estimator-id-59\" type=\"checkbox\" ><label for=\"sk-estimator-id-59\" class=\"sk-toggleable__label sk-toggleable__label-arrow\">TfidfTransformer</label><div class=\"sk-toggleable__content\"><pre>TfidfTransformer()</pre></div></div></div><div class=\"sk-item\"><div class=\"sk-estimator sk-toggleable\"><input class=\"sk-toggleable__control sk-hidden--visually\" id=\"sk-estimator-id-60\" type=\"checkbox\" ><label for=\"sk-estimator-id-60\" class=\"sk-toggleable__label sk-toggleable__label-arrow\">GradientBoostingClassifier</label><div class=\"sk-toggleable__content\"><pre>GradientBoostingClassifier()</pre></div></div></div></div></div></div></div>"
            ]
          },
          "metadata": {},
          "execution_count": 192
        }
      ],
      "source": [
        "# Algorithm training X_train, X_test, y_train, y_test\n",
        "gd_model = gd_pipeline.fit(X_train.values.astype('U'), y_train.values.astype('int64'))\n",
        "gd_model"
      ],
      "id": "00c75729-2b87-49a9-95d5-ea22932a36b3"
    },
    {
      "cell_type": "code",
      "execution_count": 193,
      "metadata": {
        "colab": {
          "base_uri": "https://localhost:8080/"
        },
        "id": "48bc3d8e-c29e-4ea2-8935-bb52c35c44df",
        "outputId": "8a38182d-5d6f-4c88-93c0-ae3d0cfebdff"
      },
      "outputs": [
        {
          "output_type": "execute_result",
          "data": {
            "text/plain": [
              "array([-1,  0,  1])"
            ]
          },
          "metadata": {},
          "execution_count": 193
        }
      ],
      "source": [
        "#Model prediction and class generation\n",
        "y_pred = gd_model.predict(X_test.values.astype('U'))\n",
        "gd_model.classes_"
      ],
      "id": "48bc3d8e-c29e-4ea2-8935-bb52c35c44df"
    },
    {
      "cell_type": "code",
      "execution_count": 194,
      "metadata": {
        "colab": {
          "base_uri": "https://localhost:8080/"
        },
        "id": "7f9e1ea1-b79a-4bb5-8fa4-e0aeda1650ef",
        "outputId": "1bc35d98-3bb4-4427-a489-b58a42dff028"
      },
      "outputs": [
        {
          "output_type": "stream",
          "name": "stdout",
          "text": [
            "[[712 212   5]\n",
            " [332 375   5]\n",
            " [ 72  34   7]]\n"
          ]
        }
      ],
      "source": [
        "#Creating and printing Confusion matrix  \n",
        "cm = confusion_matrix(y_test, y_pred, labels=gd_model.classes_)\n",
        "print(cm)"
      ],
      "id": "7f9e1ea1-b79a-4bb5-8fa4-e0aeda1650ef"
    },
    {
      "cell_type": "code",
      "execution_count": 195,
      "metadata": {
        "colab": {
          "base_uri": "https://localhost:8080/",
          "height": 466
        },
        "id": "655ba664-3b1e-4b3c-9e4c-4c2274600797",
        "outputId": "484628ec-d0b5-4498-cc68-377ae890638a"
      },
      "outputs": [
        {
          "output_type": "execute_result",
          "data": {
            "text/plain": [
              "<sklearn.metrics._plot.confusion_matrix.ConfusionMatrixDisplay at 0x7f32f49aa8b0>"
            ]
          },
          "metadata": {},
          "execution_count": 195
        },
        {
          "output_type": "display_data",
          "data": {
            "text/plain": [
              "<Figure size 640x480 with 2 Axes>"
            ],
            "image/png": "[encoded data removed]"
          },
          "metadata": {}
        }
      ],
      "source": [
        "# Visualization of the confusion matrix\n",
        "cm_dsp=ConfusionMatrixDisplay(confusion_matrix=cm, display_labels=['Negatives', 'Neutral', 'Positive'])\n",
        "cm_dsp.plot()"
      ],
      "id": "655ba664-3b1e-4b3c-9e4c-4c2274600797"
    },
    {
      "cell_type": "code",
      "source": [
        "%%time\n",
        "\n",
        "#predicting \n",
        "y_pred = gd_model.predict(X_test.values.astype('U'))\n",
        "\n",
        "# Generating a model performance scores\n",
        "model_score = gd_model.score(X_test.values.astype('U'), y_test.values.astype('int64'))\n",
        "print(f'Model Score: {model_score:.4f}')\n",
        "#Accurracy acore\n",
        "accuracy = accuracy_score(y_test, y_pred)\n",
        "print()\n",
        "print(f\"Accuracy: {accuracy:.4f}\")\n",
        "#F1 Score\n",
        "f1 = f1_score(y_test, y_pred, average='weighted')\n",
        "print(f\"F1-score: {f1:.4f}\")\n",
        "#CPU and wall time\n",
        "print(\"CPU times and Wall time: \")"
      ],
      "metadata": {
        "colab": {
          "base_uri": "https://localhost:8080/"
        },
        "id": "ZezGS0Rr2PMB",
        "outputId": "61538c0f-4a48-47fc-b337-66b25500d58b"
      },
      "id": "ZezGS0Rr2PMB",
      "execution_count": 196,
      "outputs": [
        {
          "output_type": "stream",
          "name": "stdout",
          "text": [
            "Model Score: 0.6237\n",
            "\n",
            "Accuracy: 0.6237\n",
            "F1-score: 0.6041\n",
            "CPU times and Wall time: \n",
            "CPU times: user 248 ms, sys: 1.93 ms, total: 250 ms\n",
            "Wall time: 259 ms\n"
          ]
        }
      ]
    },
    {
      "cell_type": "code",
      "execution_count": 197,
      "metadata": {
        "colab": {
          "base_uri": "https://localhost:8080/"
        },
        "id": "e64ad1f8-c324-44bc-9d33-0e1832f65fc2",
        "outputId": "793a7fda-ba01-4ef1-a1eb-f6f524201210"
      },
      "outputs": [
        {
          "output_type": "execute_result",
          "data": {
            "text/plain": [
              "['models/GradientBoostingClassifier_model_score_62.37.pkl']"
            ]
          },
          "metadata": {},
          "execution_count": 197
        }
      ],
      "source": [
        "# Save to file / directory\n",
        "joblib_file = \"models/GradientBoostingClassifier_model_score_\"+ str(round(accuracy*100,2))+\".pkl\"\n",
        "joblib.dump(gd_model, joblib_file)"
      ],
      "id": "e64ad1f8-c324-44bc-9d33-0e1832f65fc2"
    },
    {
      "cell_type": "markdown",
      "metadata": {
        "id": "f1279b11-ca8c-49f2-bc3a-5a06ba504561"
      },
      "source": [
        "# 4.7 MULTINOMIALNB"
      ],
      "id": "f1279b11-ca8c-49f2-bc3a-5a06ba504561"
    },
    {
      "cell_type": "code",
      "execution_count": 198,
      "metadata": {
        "id": "468d1350-14b9-4c4d-a658-41aa3d86958a"
      },
      "outputs": [],
      "source": [
        "#Creating classifier model pipeline\n",
        "mnb_pipeline = Pipeline([\n",
        "     ('vect', CountVectorizer(ngram_range=(1,2))),\n",
        "     ('tfidf', TfidfTransformer()),\n",
        "     ('clf', MultinomialNB()), \n",
        " ])"
      ],
      "id": "468d1350-14b9-4c4d-a658-41aa3d86958a"
    },
    {
      "cell_type": "code",
      "execution_count": 199,
      "metadata": {
        "colab": {
          "base_uri": "https://localhost:8080/",
          "height": 161
        },
        "id": "eafbdaca-81c0-49a0-aab9-aeeca501e44c",
        "outputId": "7d926b60-28ce-496c-d1fb-34164094e10f"
      },
      "outputs": [
        {
          "output_type": "execute_result",
          "data": {
            "text/plain": [
              "Pipeline(steps=[('vect', CountVectorizer(ngram_range=(1, 2))),\n",
              "                ('tfidf', TfidfTransformer()), ('clf', MultinomialNB())])"
            ],
            "text/html": [
              "<style>#sk-container-id-16 {color: black;background-color: white;}#sk-container-id-16 pre{padding: 0;}#sk-container-id-16 div.sk-toggleable {background-color: white;}#sk-container-id-16 label.sk-toggleable__label {cursor: pointer;display: block;width: 100%;margin-bottom: 0;padding: 0.3em;box-sizing: border-box;text-align: center;}#sk-container-id-16 label.sk-toggleable__label-arrow:before {content: \"▸\";float: left;margin-right: 0.25em;color: #696969;}#sk-container-id-16 label.sk-toggleable__label-arrow:hover:before {color: black;}#sk-container-id-16 div.sk-estimator:hover label.sk-toggleable__label-arrow:before {color: black;}#sk-container-id-16 div.sk-toggleable__content {max-height: 0;max-width: 0;overflow: hidden;text-align: left;background-color: #f0f8ff;}#sk-container-id-16 div.sk-toggleable__content pre {margin: 0.2em;color: black;border-radius: 0.25em;background-color: #f0f8ff;}#sk-container-id-16 input.sk-toggleable__control:checked~div.sk-toggleable__content {max-height: 200px;max-width: 100%;overflow: auto;}#sk-container-id-16 input.sk-toggleable__control:checked~label.sk-toggleable__label-arrow:before {content: \"▾\";}#sk-container-id-16 div.sk-estimator input.sk-toggleable__control:checked~label.sk-toggleable__label {background-color: #d4ebff;}#sk-container-id-16 div.sk-label input.sk-toggleable__control:checked~label.sk-toggleable__label {background-color: #d4ebff;}#sk-container-id-16 input.sk-hidden--visually {border: 0;clip: rect(1px 1px 1px 1px);clip: rect(1px, 1px, 1px, 1px);height: 1px;margin: -1px;overflow: hidden;padding: 0;position: absolute;width: 1px;}#sk-container-id-16 div.sk-estimator {font-family: monospace;background-color: #f0f8ff;border: 1px dotted black;border-radius: 0.25em;box-sizing: border-box;margin-bottom: 0.5em;}#sk-container-id-16 div.sk-estimator:hover {background-color: #d4ebff;}#sk-container-id-16 div.sk-parallel-item::after {content: \"\";width: 100%;border-bottom: 1px solid gray;flex-grow: 1;}#sk-container-id-16 div.sk-label:hover label.sk-toggleable__label {background-color: #d4ebff;}#sk-container-id-16 div.sk-serial::before {content: \"\";position: absolute;border-left: 1px solid gray;box-sizing: border-box;top: 0;bottom: 0;left: 50%;z-index: 0;}#sk-container-id-16 div.sk-serial {display: flex;flex-direction: column;align-items: center;background-color: white;padding-right: 0.2em;padding-left: 0.2em;position: relative;}#sk-container-id-16 div.sk-item {position: relative;z-index: 1;}#sk-container-id-16 div.sk-parallel {display: flex;align-items: stretch;justify-content: center;background-color: white;position: relative;}#sk-container-id-16 div.sk-item::before, #sk-container-id-16 div.sk-parallel-item::before {content: \"\";position: absolute;border-left: 1px solid gray;box-sizing: border-box;top: 0;bottom: 0;left: 50%;z-index: -1;}#sk-container-id-16 div.sk-parallel-item {display: flex;flex-direction: column;z-index: 1;position: relative;background-color: white;}#sk-container-id-16 div.sk-parallel-item:first-child::after {align-self: flex-end;width: 50%;}#sk-container-id-16 div.sk-parallel-item:last-child::after {align-self: flex-start;width: 50%;}#sk-container-id-16 div.sk-parallel-item:only-child::after {width: 0;}#sk-container-id-16 div.sk-dashed-wrapped {border: 1px dashed gray;margin: 0 0.4em 0.5em 0.4em;box-sizing: border-box;padding-bottom: 0.4em;background-color: white;}#sk-container-id-16 div.sk-label label {font-family: monospace;font-weight: bold;display: inline-block;line-height: 1.2em;}#sk-container-id-16 div.sk-label-container {text-align: center;}#sk-container-id-16 div.sk-container {/* jupyter's `normalize.less` sets `[hidden] { display: none; }` but bootstrap.min.css set `[hidden] { display: none !important; }` so we also need the `!important` here to be able to override the default hidden behavior on the sphinx rendered scikit-learn.org. See: https://github.com/scikit-learn/scikit-learn/issues/21755 */display: inline-block !important;position: relative;}#sk-container-id-16 div.sk-text-repr-fallback {display: none;}</style><div id=\"sk-container-id-16\" class=\"sk-top-container\"><div class=\"sk-text-repr-fallback\"><pre>Pipeline(steps=[(&#x27;vect&#x27;, CountVectorizer(ngram_range=(1, 2))),\n",
              "                (&#x27;tfidf&#x27;, TfidfTransformer()), (&#x27;clf&#x27;, MultinomialNB())])</pre><b>In a Jupyter environment, please rerun this cell to show the HTML representation or trust the notebook. <br />On GitHub, the HTML representation is unable to render, please try loading this page with nbviewer.org.</b></div><div class=\"sk-container\" hidden><div class=\"sk-item sk-dashed-wrapped\"><div class=\"sk-label-container\"><div class=\"sk-label sk-toggleable\"><input class=\"sk-toggleable__control sk-hidden--visually\" id=\"sk-estimator-id-61\" type=\"checkbox\" ><label for=\"sk-estimator-id-61\" class=\"sk-toggleable__label sk-toggleable__label-arrow\">Pipeline</label><div class=\"sk-toggleable__content\"><pre>Pipeline(steps=[(&#x27;vect&#x27;, CountVectorizer(ngram_range=(1, 2))),\n",
              "                (&#x27;tfidf&#x27;, TfidfTransformer()), (&#x27;clf&#x27;, MultinomialNB())])</pre></div></div></div><div class=\"sk-serial\"><div class=\"sk-item\"><div class=\"sk-estimator sk-toggleable\"><input class=\"sk-toggleable__control sk-hidden--visually\" id=\"sk-estimator-id-62\" type=\"checkbox\" ><label for=\"sk-estimator-id-62\" class=\"sk-toggleable__label sk-toggleable__label-arrow\">CountVectorizer</label><div class=\"sk-toggleable__content\"><pre>CountVectorizer(ngram_range=(1, 2))</pre></div></div></div><div class=\"sk-item\"><div class=\"sk-estimator sk-toggleable\"><input class=\"sk-toggleable__control sk-hidden--visually\" id=\"sk-estimator-id-63\" type=\"checkbox\" ><label for=\"sk-estimator-id-63\" class=\"sk-toggleable__label sk-toggleable__label-arrow\">TfidfTransformer</label><div class=\"sk-toggleable__content\"><pre>TfidfTransformer()</pre></div></div></div><div class=\"sk-item\"><div class=\"sk-estimator sk-toggleable\"><input class=\"sk-toggleable__control sk-hidden--visually\" id=\"sk-estimator-id-64\" type=\"checkbox\" ><label for=\"sk-estimator-id-64\" class=\"sk-toggleable__label sk-toggleable__label-arrow\">MultinomialNB</label><div class=\"sk-toggleable__content\"><pre>MultinomialNB()</pre></div></div></div></div></div></div></div>"
            ]
          },
          "metadata": {},
          "execution_count": 199
        }
      ],
      "source": [
        "# Algorithm training X_train, X_test, y_train, y_test\n",
        "mnb_model = mnb_pipeline.fit(X_train.values.astype('U'), y_train.values.astype('int64'))\n",
        "mnb_model"
      ],
      "id": "eafbdaca-81c0-49a0-aab9-aeeca501e44c"
    },
    {
      "cell_type": "code",
      "execution_count": 200,
      "metadata": {
        "colab": {
          "base_uri": "https://localhost:8080/"
        },
        "id": "76d0eb39-cf85-487f-b645-af359d94885a",
        "outputId": "49d2684b-84ab-4e03-b4d6-267cc40794c8"
      },
      "outputs": [
        {
          "output_type": "execute_result",
          "data": {
            "text/plain": [
              "array([-1,  0,  1])"
            ]
          },
          "metadata": {},
          "execution_count": 200
        }
      ],
      "source": [
        "#Model predition and class generation\n",
        "y_pred = mnb_model.predict(X_test.values.astype('U'))\n",
        "mnb_model.classes_"
      ],
      "id": "76d0eb39-cf85-487f-b645-af359d94885a"
    },
    {
      "cell_type": "code",
      "execution_count": 201,
      "metadata": {
        "colab": {
          "base_uri": "https://localhost:8080/"
        },
        "id": "954f54b8-87e9-4562-b211-840aa018a6e5",
        "outputId": "87508946-976f-4e94-b430-a21a7af3cd94"
      },
      "outputs": [
        {
          "output_type": "stream",
          "name": "stdout",
          "text": [
            "[[838  91   0]\n",
            " [432 280   0]\n",
            " [ 91  22   0]]\n"
          ]
        }
      ],
      "source": [
        "#creating and printing confusion matrix\n",
        "cm = confusion_matrix(y_test, y_pred, labels=mnb_model.classes_)\n",
        "print(cm)"
      ],
      "id": "954f54b8-87e9-4562-b211-840aa018a6e5"
    },
    {
      "cell_type": "code",
      "execution_count": 202,
      "metadata": {
        "colab": {
          "base_uri": "https://localhost:8080/",
          "height": 466
        },
        "id": "c3fbd10b-374d-4b18-a80d-97177e004798",
        "outputId": "79702302-b246-4969-8440-a4ce8c476728"
      },
      "outputs": [
        {
          "output_type": "execute_result",
          "data": {
            "text/plain": [
              "<sklearn.metrics._plot.confusion_matrix.ConfusionMatrixDisplay at 0x7f32f3a403a0>"
            ]
          },
          "metadata": {},
          "execution_count": 202
        },
        {
          "output_type": "display_data",
          "data": {
            "text/plain": [
              "<Figure size 640x480 with 2 Axes>"
            ],
            "image/png": "[encoded data removed]"
          },
          "metadata": {}
        }
      ],
      "source": [
        "# Visualization of the confusion matrix\n",
        "cm_dsp=ConfusionMatrixDisplay(confusion_matrix=cm, display_labels=['Negatives', 'Neutral', 'Positive'])\n",
        "cm_dsp.plot()"
      ],
      "id": "c3fbd10b-374d-4b18-a80d-97177e004798"
    },
    {
      "cell_type": "code",
      "source": [
        "%%time\n",
        "\n",
        "#predicting \n",
        "y_pred = mnb_model.predict(X_test.values.astype('U'))\n",
        "\n",
        "# Generating a model performance scores\n",
        "model_score = mnb_model.score(X_test.values.astype('U'), y_test.values.astype('int64'))\n",
        "print(f'Model Score: {model_score:.4f}')\n",
        "#Accurracy acore\n",
        "accuracy = accuracy_score(y_test, y_pred)\n",
        "print()\n",
        "print(f\"Accuracy: {accuracy:.4f}\")\n",
        "#F1 Score\n",
        "f1 = f1_score(y_test, y_pred, average='weighted')\n",
        "print(f\"F1-score: {f1:.4f}\")\n",
        "#CPU and wall time\n",
        "print(\"CPU times and Wall time: \")"
      ],
      "metadata": {
        "colab": {
          "base_uri": "https://localhost:8080/"
        },
        "id": "579LD8VC2f0g",
        "outputId": "8c3d8081-a472-44cd-c00a-9883fe3520de"
      },
      "id": "579LD8VC2f0g",
      "execution_count": 203,
      "outputs": [
        {
          "output_type": "stream",
          "name": "stdout",
          "text": [
            "Model Score: 0.6374\n",
            "\n",
            "Accuracy: 0.6374\n",
            "F1-score: 0.5934\n",
            "CPU times and Wall time: \n",
            "CPU times: user 140 ms, sys: 1 ms, total: 141 ms\n",
            "Wall time: 141 ms\n"
          ]
        }
      ]
    },
    {
      "cell_type": "code",
      "execution_count": 204,
      "metadata": {
        "colab": {
          "base_uri": "https://localhost:8080/"
        },
        "id": "8de6463d-a132-4e7a-8f76-612a41ba7dda",
        "outputId": "e603ed75-5dc3-45ad-8d0f-0b3de69006ad"
      },
      "outputs": [
        {
          "output_type": "execute_result",
          "data": {
            "text/plain": [
              "['models/MultinomialNB_model_score_63.74.pkl']"
            ]
          },
          "metadata": {},
          "execution_count": 204
        }
      ],
      "source": [
        "# Save to file / directory\n",
        "joblib_file = \"models/MultinomialNB_model_score_\"+ str(round(accuracy*100,2))+\".pkl\"\n",
        "joblib.dump(mnb_model, joblib_file)"
      ],
      "id": "8de6463d-a132-4e7a-8f76-612a41ba7dda"
    },
    {
      "cell_type": "markdown",
      "metadata": {
        "id": "72f4dc47-a243-454c-983f-dd0e1f229e1c"
      },
      "source": [
        "# 4.8 XGBoost classifier"
      ],
      "id": "72f4dc47-a243-454c-983f-dd0e1f229e1c"
    },
    {
      "cell_type": "code",
      "execution_count": 205,
      "metadata": {
        "id": "9ggq332ctWGr"
      },
      "outputs": [],
      "source": [
        "#creating model classifier pipeline\n",
        "xgb_pipeline = Pipeline([\n",
        "     ('vect', CountVectorizer(ngram_range=(1,2))),\n",
        "     ('tfidf', TfidfTransformer()),\n",
        "     ('clf', xgb.XGBClassifier(learning_rate=0.001,\n",
        "                            max_depth = 1, \n",
        "                           n_estimators = 100,)),\n",
        " ])"
      ],
      "id": "9ggq332ctWGr"
    },
    {
      "cell_type": "code",
      "execution_count": 206,
      "metadata": {
        "id": "AdLdPLiYSl-4"
      },
      "outputs": [],
      "source": [
        "#Assign values to xg labels \n",
        "Xg_train = X_train.values.astype('U')\n",
        "Xg_test = X_test.values.astype('U')\n",
        "yg_train = y_train\n",
        "yg_test= y_test"
      ],
      "id": "AdLdPLiYSl-4"
    },
    {
      "cell_type": "code",
      "execution_count": 207,
      "metadata": {
        "id": "_gpSsUp6uAiM"
      },
      "outputs": [],
      "source": [
        "#Performing label encoding process\n",
        "le = LabelEncoder()\n",
        "yg_train = le.fit_transform(yg_train)"
      ],
      "id": "_gpSsUp6uAiM"
    },
    {
      "cell_type": "code",
      "execution_count": 208,
      "metadata": {
        "id": "6PJiOiVk_2UL"
      },
      "outputs": [],
      "source": [
        "#Training a model\n",
        "xgbmodel = xgb_pipeline.fit(Xg_train, yg_train)"
      ],
      "id": "6PJiOiVk_2UL"
    },
    {
      "cell_type": "code",
      "execution_count": 209,
      "metadata": {
        "colab": {
          "base_uri": "https://localhost:8080/"
        },
        "id": "C3ojoofqgDUE",
        "outputId": "3ca85c00-dde8-4086-f788-9cc46b02b1a0"
      },
      "outputs": [
        {
          "output_type": "execute_result",
          "data": {
            "text/plain": [
              "array([0, 1, 2])"
            ]
          },
          "metadata": {},
          "execution_count": 209
        }
      ],
      "source": [
        "#Model prediction and generating classes \n",
        "yg_pred = xgbmodel.predict(Xg_test)\n",
        "xgbmodel.classes_"
      ],
      "id": "C3ojoofqgDUE"
    },
    {
      "cell_type": "code",
      "execution_count": 210,
      "metadata": {
        "colab": {
          "base_uri": "https://localhost:8080/"
        },
        "id": "ReibGchsf8z7",
        "outputId": "d86416e1-7380-4dec-d360-e3bcaaae7536"
      },
      "outputs": [
        {
          "output_type": "stream",
          "name": "stdout",
          "text": [
            "[[661  51   0]\n",
            " [106   6   1]\n",
            " [  0   0   0]]\n"
          ]
        }
      ],
      "source": [
        "#Creating Confusion Matrix\n",
        "cm = confusion_matrix(yg_test, yg_pred, labels=xgbmodel.classes_)\n",
        "print(cm)\n"
      ],
      "id": "ReibGchsf8z7"
    },
    {
      "cell_type": "code",
      "execution_count": 211,
      "metadata": {
        "colab": {
          "base_uri": "https://localhost:8080/",
          "height": 449
        },
        "id": "IP3Oqn97gCns",
        "outputId": "07b0b36d-61a8-41f4-c7ce-1605e4e04d82"
      },
      "outputs": [
        {
          "output_type": "display_data",
          "data": {
            "text/plain": [
              "<Figure size 640x480 with 2 Axes>"
            ],
            "image/png": "[encoded data removed]"
          },
          "metadata": {}
        }
      ],
      "source": [
        "# Visualization of the confusion matrix\n",
        "cm_dsp=ConfusionMatrixDisplay(confusion_matrix=cm, display_labels=['Negatives', 'Neutral', 'Positive'])\n",
        "cm_dsp.plot()\n",
        "plt.show()"
      ],
      "id": "IP3Oqn97gCns"
    },
    {
      "cell_type": "code",
      "source": [
        "%%time\n",
        "\n",
        "#predicting \n",
        "y_pred = xgbmodel.predict(X_test.values.astype('U'))\n",
        "\n",
        "# Generating a model performance scores\n",
        "model_score = xgbmodel.score(X_test.values.astype('U'), y_test.values.astype('int64'))\n",
        "print(f'Model Score: {model_score:.4f}')\n",
        "#Accurracy acore\n",
        "accuracy = accuracy_score(y_test, y_pred)\n",
        "print()\n",
        "print(f\"Accuracy: {accuracy:.4f}\")\n",
        "#F1 Score\n",
        "f1 = f1_score(y_test, y_pred, average='weighted')\n",
        "print(f\"F1-score: {f1:.4f}\")\n",
        "#CPU and wall time\n",
        "print(\"CPU times and Wall time: \")"
      ],
      "metadata": {
        "colab": {
          "base_uri": "https://localhost:8080/"
        },
        "id": "PavoA9702quR",
        "outputId": "0fdf6ee6-7bb6-4f57-d4c1-7684907ec1fa"
      },
      "id": "PavoA9702quR",
      "execution_count": 212,
      "outputs": [
        {
          "output_type": "stream",
          "name": "stdout",
          "text": [
            "Model Score: 0.3803\n",
            "\n",
            "Accuracy: 0.3803\n",
            "F1-score: 0.2299\n",
            "CPU times and Wall time: \n",
            "CPU times: user 336 ms, sys: 3.96 ms, total: 340 ms\n",
            "Wall time: 321 ms\n"
          ]
        }
      ]
    },
    {
      "cell_type": "code",
      "execution_count": 214,
      "metadata": {
        "colab": {
          "base_uri": "https://localhost:8080/"
        },
        "id": "rz1ePbZNA1oz",
        "outputId": "bd982b4d-8982-4d40-e123-50452712ecbe"
      },
      "outputs": [
        {
          "output_type": "execute_result",
          "data": {
            "text/plain": [
              "['models/XGB_model_score_38.03.pkl']"
            ]
          },
          "metadata": {},
          "execution_count": 214
        }
      ],
      "source": [
        "# Save to file / directory\n",
        "joblib_file = \"models/XGB_model_score_\"+ str(round(accuracy*100,2))+\".pkl\"\n",
        "joblib.dump(xgbmodel, joblib_file)"
      ],
      "id": "rz1ePbZNA1oz"
    },
    {
      "cell_type": "markdown",
      "metadata": {
        "id": "d49d1454-1ec4-4993-b713-33d64a26b030"
      },
      "source": [
        "# 4.9 LightGBM classifier"
      ],
      "id": "d49d1454-1ec4-4993-b713-33d64a26b030"
    },
    {
      "cell_type": "code",
      "execution_count": 215,
      "metadata": {
        "id": "ac989ca7-f347-4ecc-85be-dd60fe859eb8"
      },
      "outputs": [],
      "source": [
        "#creating Model Classifier pipeline\n",
        "lgbm_pipeline = Pipeline([\n",
        "     ('vect', CountVectorizer(ngram_range=(1,2))),\n",
        "     ('tfidf', TfidfTransformer()),\n",
        "     ('clf', LGBMClassifier()),  \n",
        "     ])"
      ],
      "id": "ac989ca7-f347-4ecc-85be-dd60fe859eb8"
    },
    {
      "cell_type": "code",
      "execution_count": 216,
      "metadata": {
        "colab": {
          "base_uri": "https://localhost:8080/",
          "height": 161
        },
        "id": "dd8fe1a4-98d3-4b99-a49c-dcd7aa192428",
        "outputId": "e2d562de-f9f8-42d8-f7a2-775a57972b89"
      },
      "outputs": [
        {
          "output_type": "execute_result",
          "data": {
            "text/plain": [
              "Pipeline(steps=[('vect', CountVectorizer(ngram_range=(1, 2))),\n",
              "                ('tfidf', TfidfTransformer()), ('clf', LGBMClassifier())])"
            ],
            "text/html": [
              "<style>#sk-container-id-17 {color: black;background-color: white;}#sk-container-id-17 pre{padding: 0;}#sk-container-id-17 div.sk-toggleable {background-color: white;}#sk-container-id-17 label.sk-toggleable__label {cursor: pointer;display: block;width: 100%;margin-bottom: 0;padding: 0.3em;box-sizing: border-box;text-align: center;}#sk-container-id-17 label.sk-toggleable__label-arrow:before {content: \"▸\";float: left;margin-right: 0.25em;color: #696969;}#sk-container-id-17 label.sk-toggleable__label-arrow:hover:before {color: black;}#sk-container-id-17 div.sk-estimator:hover label.sk-toggleable__label-arrow:before {color: black;}#sk-container-id-17 div.sk-toggleable__content {max-height: 0;max-width: 0;overflow: hidden;text-align: left;background-color: #f0f8ff;}#sk-container-id-17 div.sk-toggleable__content pre {margin: 0.2em;color: black;border-radius: 0.25em;background-color: #f0f8ff;}#sk-container-id-17 input.sk-toggleable__control:checked~div.sk-toggleable__content {max-height: 200px;max-width: 100%;overflow: auto;}#sk-container-id-17 input.sk-toggleable__control:checked~label.sk-toggleable__label-arrow:before {content: \"▾\";}#sk-container-id-17 div.sk-estimator input.sk-toggleable__control:checked~label.sk-toggleable__label {background-color: #d4ebff;}#sk-container-id-17 div.sk-label input.sk-toggleable__control:checked~label.sk-toggleable__label {background-color: #d4ebff;}#sk-container-id-17 input.sk-hidden--visually {border: 0;clip: rect(1px 1px 1px 1px);clip: rect(1px, 1px, 1px, 1px);height: 1px;margin: -1px;overflow: hidden;padding: 0;position: absolute;width: 1px;}#sk-container-id-17 div.sk-estimator {font-family: monospace;background-color: #f0f8ff;border: 1px dotted black;border-radius: 0.25em;box-sizing: border-box;margin-bottom: 0.5em;}#sk-container-id-17 div.sk-estimator:hover {background-color: #d4ebff;}#sk-container-id-17 div.sk-parallel-item::after {content: \"\";width: 100%;border-bottom: 1px solid gray;flex-grow: 1;}#sk-container-id-17 div.sk-label:hover label.sk-toggleable__label {background-color: #d4ebff;}#sk-container-id-17 div.sk-serial::before {content: \"\";position: absolute;border-left: 1px solid gray;box-sizing: border-box;top: 0;bottom: 0;left: 50%;z-index: 0;}#sk-container-id-17 div.sk-serial {display: flex;flex-direction: column;align-items: center;background-color: white;padding-right: 0.2em;padding-left: 0.2em;position: relative;}#sk-container-id-17 div.sk-item {position: relative;z-index: 1;}#sk-container-id-17 div.sk-parallel {display: flex;align-items: stretch;justify-content: center;background-color: white;position: relative;}#sk-container-id-17 div.sk-item::before, #sk-container-id-17 div.sk-parallel-item::before {content: \"\";position: absolute;border-left: 1px solid gray;box-sizing: border-box;top: 0;bottom: 0;left: 50%;z-index: -1;}#sk-container-id-17 div.sk-parallel-item {display: flex;flex-direction: column;z-index: 1;position: relative;background-color: white;}#sk-container-id-17 div.sk-parallel-item:first-child::after {align-self: flex-end;width: 50%;}#sk-container-id-17 div.sk-parallel-item:last-child::after {align-self: flex-start;width: 50%;}#sk-container-id-17 div.sk-parallel-item:only-child::after {width: 0;}#sk-container-id-17 div.sk-dashed-wrapped {border: 1px dashed gray;margin: 0 0.4em 0.5em 0.4em;box-sizing: border-box;padding-bottom: 0.4em;background-color: white;}#sk-container-id-17 div.sk-label label {font-family: monospace;font-weight: bold;display: inline-block;line-height: 1.2em;}#sk-container-id-17 div.sk-label-container {text-align: center;}#sk-container-id-17 div.sk-container {/* jupyter's `normalize.less` sets `[hidden] { display: none; }` but bootstrap.min.css set `[hidden] { display: none !important; }` so we also need the `!important` here to be able to override the default hidden behavior on the sphinx rendered scikit-learn.org. See: https://github.com/scikit-learn/scikit-learn/issues/21755 */display: inline-block !important;position: relative;}#sk-container-id-17 div.sk-text-repr-fallback {display: none;}</style><div id=\"sk-container-id-17\" class=\"sk-top-container\"><div class=\"sk-text-repr-fallback\"><pre>Pipeline(steps=[(&#x27;vect&#x27;, CountVectorizer(ngram_range=(1, 2))),\n",
              "                (&#x27;tfidf&#x27;, TfidfTransformer()), (&#x27;clf&#x27;, LGBMClassifier())])</pre><b>In a Jupyter environment, please rerun this cell to show the HTML representation or trust the notebook. <br />On GitHub, the HTML representation is unable to render, please try loading this page with nbviewer.org.</b></div><div class=\"sk-container\" hidden><div class=\"sk-item sk-dashed-wrapped\"><div class=\"sk-label-container\"><div class=\"sk-label sk-toggleable\"><input class=\"sk-toggleable__control sk-hidden--visually\" id=\"sk-estimator-id-65\" type=\"checkbox\" ><label for=\"sk-estimator-id-65\" class=\"sk-toggleable__label sk-toggleable__label-arrow\">Pipeline</label><div class=\"sk-toggleable__content\"><pre>Pipeline(steps=[(&#x27;vect&#x27;, CountVectorizer(ngram_range=(1, 2))),\n",
              "                (&#x27;tfidf&#x27;, TfidfTransformer()), (&#x27;clf&#x27;, LGBMClassifier())])</pre></div></div></div><div class=\"sk-serial\"><div class=\"sk-item\"><div class=\"sk-estimator sk-toggleable\"><input class=\"sk-toggleable__control sk-hidden--visually\" id=\"sk-estimator-id-66\" type=\"checkbox\" ><label for=\"sk-estimator-id-66\" class=\"sk-toggleable__label sk-toggleable__label-arrow\">CountVectorizer</label><div class=\"sk-toggleable__content\"><pre>CountVectorizer(ngram_range=(1, 2))</pre></div></div></div><div class=\"sk-item\"><div class=\"sk-estimator sk-toggleable\"><input class=\"sk-toggleable__control sk-hidden--visually\" id=\"sk-estimator-id-67\" type=\"checkbox\" ><label for=\"sk-estimator-id-67\" class=\"sk-toggleable__label sk-toggleable__label-arrow\">TfidfTransformer</label><div class=\"sk-toggleable__content\"><pre>TfidfTransformer()</pre></div></div></div><div class=\"sk-item\"><div class=\"sk-estimator sk-toggleable\"><input class=\"sk-toggleable__control sk-hidden--visually\" id=\"sk-estimator-id-68\" type=\"checkbox\" ><label for=\"sk-estimator-id-68\" class=\"sk-toggleable__label sk-toggleable__label-arrow\">LGBMClassifier</label><div class=\"sk-toggleable__content\"><pre>LGBMClassifier()</pre></div></div></div></div></div></div></div>"
            ]
          },
          "metadata": {},
          "execution_count": 216
        }
      ],
      "source": [
        "# Algorithm training X_train, X_test, y_train, y_test\n",
        "lgbm_model = lgbm_pipeline.fit(X_train.values.astype('U'), y_train.values.astype('int64'))\n",
        "lgbm_model"
      ],
      "id": "dd8fe1a4-98d3-4b99-a49c-dcd7aa192428"
    },
    {
      "cell_type": "code",
      "execution_count": 217,
      "metadata": {
        "colab": {
          "base_uri": "https://localhost:8080/"
        },
        "id": "6592d454-0ee5-4ee0-85bf-7d5d78c61d4f",
        "outputId": "d46f936f-ec6d-43d2-89ee-2e5c6b4826e0"
      },
      "outputs": [
        {
          "output_type": "execute_result",
          "data": {
            "text/plain": [
              "array([-1,  0,  1])"
            ]
          },
          "metadata": {},
          "execution_count": 217
        }
      ],
      "source": [
        "# Model prediction using test data\n",
        "y_pred = lgbm_model.predict(X_test.values.astype('U'))\n",
        "lgbm_model.classes_"
      ],
      "id": "6592d454-0ee5-4ee0-85bf-7d5d78c61d4f"
    },
    {
      "cell_type": "code",
      "execution_count": 218,
      "metadata": {
        "colab": {
          "base_uri": "https://localhost:8080/"
        },
        "id": "66982c9d-fc73-45a2-8397-f9f64445b3b3",
        "outputId": "c6d26b31-4c8f-4aa9-df62-429873e98e2a"
      },
      "outputs": [
        {
          "output_type": "stream",
          "name": "stdout",
          "text": [
            "[[642 272  15]\n",
            " [251 455   6]\n",
            " [ 56  51   6]]\n"
          ]
        }
      ],
      "source": [
        "# Creating a Confusion Matrix\n",
        "cm = confusion_matrix(y_test, y_pred, labels=lgbm_model.classes_)\n",
        "print(cm)"
      ],
      "id": "66982c9d-fc73-45a2-8397-f9f64445b3b3"
    },
    {
      "cell_type": "code",
      "execution_count": 219,
      "metadata": {
        "colab": {
          "base_uri": "https://localhost:8080/",
          "height": 466
        },
        "id": "43113ca4-4520-4681-8b2a-a6b1cef6d740",
        "outputId": "79d74a53-2f23-44b7-b782-c0a80408e998"
      },
      "outputs": [
        {
          "output_type": "execute_result",
          "data": {
            "text/plain": [
              "<sklearn.metrics._plot.confusion_matrix.ConfusionMatrixDisplay at 0x7f32f3a5c820>"
            ]
          },
          "metadata": {},
          "execution_count": 219
        },
        {
          "output_type": "display_data",
          "data": {
            "text/plain": [
              "<Figure size 640x480 with 2 Axes>"
            ],
            "image/png": "[encoded data removed]"
          },
          "metadata": {}
        }
      ],
      "source": [
        "# Visualization of the confusion matrix\n",
        "cm_dsp=ConfusionMatrixDisplay(confusion_matrix=cm, display_labels=['Negatives', 'Neutral', 'Positive'])\n",
        "cm_dsp.plot()"
      ],
      "id": "43113ca4-4520-4681-8b2a-a6b1cef6d740"
    },
    {
      "cell_type": "code",
      "source": [
        "%%time\n",
        "\n",
        "#predicting \n",
        "y_pred = lgbm_model.predict(X_test.values.astype('U'))\n",
        "\n",
        "# Generating a model performance scores\n",
        "model_score = lgbm_model.score(X_test.values.astype('U'), y_test.values.astype('int64'))\n",
        "print(f'Model Score: {model_score:.4f}')\n",
        "#Accurracy acore\n",
        "accuracy = accuracy_score(y_test, y_pred)\n",
        "print()\n",
        "print(f\"Accuracy: {accuracy:.4f}\")\n",
        "#F1 Score\n",
        "f1 = f1_score(y_test, y_pred, average='weighted')\n",
        "print(f\"F1-score: {f1:.4f}\")\n",
        "#CPU and wall time\n",
        "print(\"CPU times and Wall time: \")"
      ],
      "metadata": {
        "colab": {
          "base_uri": "https://localhost:8080/"
        },
        "id": "iZdy6Idu3vKg",
        "outputId": "001582cf-278a-4d93-9b22-f2ae4ca1c960"
      },
      "id": "iZdy6Idu3vKg",
      "execution_count": 220,
      "outputs": [
        {
          "output_type": "stream",
          "name": "stdout",
          "text": [
            "Model Score: 0.6288\n",
            "\n",
            "Accuracy: 0.6288\n",
            "F1-score: 0.6156\n",
            "CPU times and Wall time: \n",
            "CPU times: user 317 ms, sys: 0 ns, total: 317 ms\n",
            "Wall time: 237 ms\n"
          ]
        }
      ]
    },
    {
      "cell_type": "code",
      "execution_count": 221,
      "metadata": {
        "colab": {
          "base_uri": "https://localhost:8080/"
        },
        "id": "1c2fc598-371b-4b08-b52b-aeb765c9ab15",
        "outputId": "73354e2c-8ffe-41a1-bdac-aa14a4147f3e"
      },
      "outputs": [
        {
          "output_type": "execute_result",
          "data": {
            "text/plain": [
              "['models/LGBMClassifier_model_score_62.88.pkl']"
            ]
          },
          "metadata": {},
          "execution_count": 221
        }
      ],
      "source": [
        "# Save to file / directory\n",
        "joblib_file = \"models/LGBMClassifier_model_score_\"+ str(round(accuracy*100,2))+\".pkl\"\n",
        "joblib.dump(lgbm_model, joblib_file)"
      ],
      "id": "1c2fc598-371b-4b08-b52b-aeb765c9ab15"
    },
    {
      "cell_type": "markdown",
      "metadata": {
        "id": "cd4039e1-4ee3-43c1-a989-44d1c7aea5ff"
      },
      "source": [
        "# 4.10 CatBoost classifier"
      ],
      "id": "cd4039e1-4ee3-43c1-a989-44d1c7aea5ff"
    },
    {
      "cell_type": "code",
      "execution_count": 222,
      "metadata": {
        "id": "2f210c39-ccbb-4abc-83b9-29ce97acca6f"
      },
      "outputs": [],
      "source": [
        "#creating a model classifier pipeline \n",
        "ctb_pipeline = Pipeline([\n",
        "     ('vect', CountVectorizer(ngram_range=(1,2))),\n",
        "     ('tfidf', TfidfTransformer()),\n",
        "     ('clf', CatBoostClassifier()), \n",
        " ])"
      ],
      "id": "2f210c39-ccbb-4abc-83b9-29ce97acca6f"
    },
    {
      "cell_type": "code",
      "execution_count": 223,
      "metadata": {
        "colab": {
          "base_uri": "https://localhost:8080/",
          "height": 1000
        },
        "id": "b7afda62-ad92-4738-b1e9-8936b18b05a5",
        "outputId": "4bfcda78-8d20-4ac2-be79-d70ba4b0f5af"
      },
      "outputs": [
        {
          "output_type": "stream",
          "name": "stdout",
          "text": [
            "Learning rate set to 0.087391\n",
            "0:\tlearn: 1.0672837\ttotal: 1.16s\tremaining: 19m 19s\n",
            "1:\tlearn: 1.0403657\ttotal: 1.78s\tremaining: 14m 48s\n",
            "2:\tlearn: 1.0184771\ttotal: 2.4s\tremaining: 13m 16s\n",
            "3:\tlearn: 0.9989683\ttotal: 3.04s\tremaining: 12m 36s\n",
            "4:\tlearn: 0.9820461\ttotal: 3.65s\tremaining: 12m 5s\n",
            "5:\tlearn: 0.9674065\ttotal: 4.59s\tremaining: 12m 40s\n",
            "6:\tlearn: 0.9539904\ttotal: 5.68s\tremaining: 13m 25s\n",
            "7:\tlearn: 0.9427619\ttotal: 6.66s\tremaining: 13m 45s\n",
            "8:\tlearn: 0.9326669\ttotal: 7.34s\tremaining: 13m 28s\n",
            "9:\tlearn: 0.9228225\ttotal: 7.98s\tremaining: 13m 9s\n",
            "10:\tlearn: 0.9150751\ttotal: 8.59s\tremaining: 12m 52s\n",
            "11:\tlearn: 0.9078543\ttotal: 9.24s\tremaining: 12m 40s\n",
            "12:\tlearn: 0.9008156\ttotal: 9.85s\tremaining: 12m 28s\n",
            "13:\tlearn: 0.8947563\ttotal: 10.5s\tremaining: 12m 17s\n",
            "14:\tlearn: 0.8893723\ttotal: 11.1s\tremaining: 12m 8s\n",
            "15:\tlearn: 0.8845770\ttotal: 11.7s\tremaining: 12m 1s\n",
            "16:\tlearn: 0.8798974\ttotal: 12.4s\tremaining: 11m 54s\n",
            "17:\tlearn: 0.8759625\ttotal: 13s\tremaining: 11m 48s\n",
            "18:\tlearn: 0.8715805\ttotal: 13.6s\tremaining: 11m 43s\n",
            "19:\tlearn: 0.8687525\ttotal: 14.3s\tremaining: 11m 39s\n",
            "20:\tlearn: 0.8657607\ttotal: 14.9s\tremaining: 11m 34s\n",
            "21:\tlearn: 0.8630680\ttotal: 15.5s\tremaining: 11m 30s\n",
            "22:\tlearn: 0.8601306\ttotal: 16.2s\tremaining: 11m 29s\n",
            "23:\tlearn: 0.8574524\ttotal: 16.9s\tremaining: 11m 28s\n",
            "24:\tlearn: 0.8556379\ttotal: 18s\tremaining: 11m 42s\n",
            "25:\tlearn: 0.8534717\ttotal: 19s\tremaining: 11m 52s\n",
            "26:\tlearn: 0.8516608\ttotal: 19.9s\tremaining: 11m 55s\n",
            "27:\tlearn: 0.8497018\ttotal: 20.5s\tremaining: 11m 52s\n",
            "28:\tlearn: 0.8480736\ttotal: 21.2s\tremaining: 11m 48s\n",
            "29:\tlearn: 0.8470653\ttotal: 21.8s\tremaining: 11m 44s\n",
            "30:\tlearn: 0.8454644\ttotal: 22.4s\tremaining: 11m 40s\n",
            "31:\tlearn: 0.8443500\ttotal: 23s\tremaining: 11m 37s\n",
            "32:\tlearn: 0.8434029\ttotal: 23.7s\tremaining: 11m 34s\n",
            "33:\tlearn: 0.8425823\ttotal: 24.3s\tremaining: 11m 30s\n",
            "34:\tlearn: 0.8409414\ttotal: 24.9s\tremaining: 11m 27s\n",
            "35:\tlearn: 0.8399911\ttotal: 25.6s\tremaining: 11m 24s\n",
            "36:\tlearn: 0.8388924\ttotal: 26.2s\tremaining: 11m 21s\n",
            "37:\tlearn: 0.8373596\ttotal: 26.8s\tremaining: 11m 18s\n",
            "38:\tlearn: 0.8366360\ttotal: 27.5s\tremaining: 11m 16s\n",
            "39:\tlearn: 0.8358367\ttotal: 28.1s\tremaining: 11m 14s\n",
            "40:\tlearn: 0.8347921\ttotal: 28.7s\tremaining: 11m 12s\n",
            "41:\tlearn: 0.8338627\ttotal: 29.4s\tremaining: 11m 9s\n",
            "42:\tlearn: 0.8331741\ttotal: 30.2s\tremaining: 11m 11s\n",
            "43:\tlearn: 0.8322406\ttotal: 31.3s\tremaining: 11m 19s\n",
            "44:\tlearn: 0.8314262\ttotal: 32.3s\tremaining: 11m 25s\n",
            "45:\tlearn: 0.8303289\ttotal: 33s\tremaining: 11m 24s\n",
            "46:\tlearn: 0.8296937\ttotal: 33.6s\tremaining: 11m 21s\n",
            "47:\tlearn: 0.8289012\ttotal: 34.2s\tremaining: 11m 19s\n",
            "48:\tlearn: 0.8282688\ttotal: 34.9s\tremaining: 11m 17s\n",
            "49:\tlearn: 0.8276426\ttotal: 35.5s\tremaining: 11m 14s\n",
            "50:\tlearn: 0.8269096\ttotal: 36.1s\tremaining: 11m 12s\n",
            "51:\tlearn: 0.8265338\ttotal: 36.7s\tremaining: 11m 9s\n",
            "52:\tlearn: 0.8260993\ttotal: 37.4s\tremaining: 11m 7s\n",
            "53:\tlearn: 0.8256107\ttotal: 38s\tremaining: 11m 5s\n",
            "54:\tlearn: 0.8251069\ttotal: 38.6s\tremaining: 11m 3s\n",
            "55:\tlearn: 0.8245196\ttotal: 39.2s\tremaining: 11m 1s\n",
            "56:\tlearn: 0.8237933\ttotal: 39.9s\tremaining: 10m 59s\n",
            "57:\tlearn: 0.8231087\ttotal: 40.5s\tremaining: 10m 57s\n",
            "58:\tlearn: 0.8226645\ttotal: 41.1s\tremaining: 10m 55s\n",
            "59:\tlearn: 0.8220043\ttotal: 41.7s\tremaining: 10m 53s\n",
            "60:\tlearn: 0.8212203\ttotal: 42.3s\tremaining: 10m 51s\n",
            "61:\tlearn: 0.8205830\ttotal: 43.2s\tremaining: 10m 53s\n",
            "62:\tlearn: 0.8198878\ttotal: 44.2s\tremaining: 10m 57s\n",
            "63:\tlearn: 0.8194311\ttotal: 45.3s\tremaining: 11m 2s\n",
            "64:\tlearn: 0.8188663\ttotal: 46s\tremaining: 11m 1s\n",
            "65:\tlearn: 0.8184967\ttotal: 46.6s\tremaining: 10m 59s\n",
            "66:\tlearn: 0.8178214\ttotal: 47.2s\tremaining: 10m 57s\n",
            "67:\tlearn: 0.8171414\ttotal: 47.8s\tremaining: 10m 55s\n",
            "68:\tlearn: 0.8165315\ttotal: 48.5s\tremaining: 10m 53s\n",
            "69:\tlearn: 0.8159886\ttotal: 49.1s\tremaining: 10m 52s\n",
            "70:\tlearn: 0.8155329\ttotal: 49.7s\tremaining: 10m 50s\n",
            "71:\tlearn: 0.8150993\ttotal: 50.4s\tremaining: 10m 48s\n",
            "72:\tlearn: 0.8145607\ttotal: 51s\tremaining: 10m 47s\n",
            "73:\tlearn: 0.8140932\ttotal: 51.6s\tremaining: 10m 45s\n",
            "74:\tlearn: 0.8134640\ttotal: 52.2s\tremaining: 10m 44s\n",
            "75:\tlearn: 0.8131153\ttotal: 52.8s\tremaining: 10m 42s\n",
            "76:\tlearn: 0.8125439\ttotal: 53.5s\tremaining: 10m 40s\n",
            "77:\tlearn: 0.8122887\ttotal: 54.1s\tremaining: 10m 39s\n",
            "78:\tlearn: 0.8118632\ttotal: 54.7s\tremaining: 10m 38s\n",
            "79:\tlearn: 0.8114883\ttotal: 55.4s\tremaining: 10m 36s\n",
            "80:\tlearn: 0.8109079\ttotal: 56.4s\tremaining: 10m 39s\n",
            "81:\tlearn: 0.8104892\ttotal: 57.5s\tremaining: 10m 43s\n",
            "82:\tlearn: 0.8100242\ttotal: 58.3s\tremaining: 10m 44s\n",
            "83:\tlearn: 0.8098075\ttotal: 59s\tremaining: 10m 42s\n",
            "84:\tlearn: 0.8092022\ttotal: 59.6s\tremaining: 10m 41s\n",
            "85:\tlearn: 0.8089156\ttotal: 1m\tremaining: 10m 40s\n",
            "86:\tlearn: 0.8086040\ttotal: 1m\tremaining: 10m 38s\n",
            "87:\tlearn: 0.8082148\ttotal: 1m 1s\tremaining: 10m 36s\n",
            "88:\tlearn: 0.8078821\ttotal: 1m 2s\tremaining: 10m 35s\n",
            "89:\tlearn: 0.8074464\ttotal: 1m 2s\tremaining: 10m 34s\n",
            "90:\tlearn: 0.8071270\ttotal: 1m 3s\tremaining: 10m 32s\n",
            "91:\tlearn: 0.8068451\ttotal: 1m 3s\tremaining: 10m 31s\n",
            "92:\tlearn: 0.8064622\ttotal: 1m 4s\tremaining: 10m 29s\n",
            "93:\tlearn: 0.8060676\ttotal: 1m 5s\tremaining: 10m 28s\n",
            "94:\tlearn: 0.8058810\ttotal: 1m 5s\tremaining: 10m 26s\n",
            "95:\tlearn: 0.8051569\ttotal: 1m 6s\tremaining: 10m 25s\n",
            "96:\tlearn: 0.8044746\ttotal: 1m 7s\tremaining: 10m 24s\n",
            "97:\tlearn: 0.8042843\ttotal: 1m 7s\tremaining: 10m 22s\n",
            "98:\tlearn: 0.8040079\ttotal: 1m 8s\tremaining: 10m 22s\n",
            "99:\tlearn: 0.8035548\ttotal: 1m 9s\tremaining: 10m 24s\n",
            "100:\tlearn: 0.8031679\ttotal: 1m 10s\tremaining: 10m 26s\n",
            "101:\tlearn: 0.8026174\ttotal: 1m 11s\tremaining: 10m 27s\n",
            "102:\tlearn: 0.8021215\ttotal: 1m 11s\tremaining: 10m 26s\n",
            "103:\tlearn: 0.8017697\ttotal: 1m 12s\tremaining: 10m 24s\n",
            "104:\tlearn: 0.8013129\ttotal: 1m 13s\tremaining: 10m 23s\n",
            "105:\tlearn: 0.8008310\ttotal: 1m 13s\tremaining: 10m 22s\n",
            "106:\tlearn: 0.8006013\ttotal: 1m 14s\tremaining: 10m 20s\n",
            "107:\tlearn: 0.8000371\ttotal: 1m 15s\tremaining: 10m 19s\n",
            "108:\tlearn: 0.7994898\ttotal: 1m 15s\tremaining: 10m 18s\n",
            "109:\tlearn: 0.7992990\ttotal: 1m 16s\tremaining: 10m 17s\n",
            "110:\tlearn: 0.7990099\ttotal: 1m 16s\tremaining: 10m 15s\n",
            "111:\tlearn: 0.7987877\ttotal: 1m 17s\tremaining: 10m 14s\n",
            "112:\tlearn: 0.7983418\ttotal: 1m 18s\tremaining: 10m 13s\n",
            "113:\tlearn: 0.7979168\ttotal: 1m 18s\tremaining: 10m 12s\n",
            "114:\tlearn: 0.7973402\ttotal: 1m 19s\tremaining: 10m 10s\n",
            "115:\tlearn: 0.7970857\ttotal: 1m 20s\tremaining: 10m 9s\n",
            "116:\tlearn: 0.7963462\ttotal: 1m 20s\tremaining: 10m 8s\n",
            "117:\tlearn: 0.7958878\ttotal: 1m 21s\tremaining: 10m 7s\n",
            "118:\tlearn: 0.7957508\ttotal: 1m 22s\tremaining: 10m 9s\n",
            "119:\tlearn: 0.7952843\ttotal: 1m 23s\tremaining: 10m 11s\n",
            "120:\tlearn: 0.7949617\ttotal: 1m 24s\tremaining: 10m 12s\n",
            "121:\tlearn: 0.7944726\ttotal: 1m 24s\tremaining: 10m 10s\n",
            "122:\tlearn: 0.7940664\ttotal: 1m 25s\tremaining: 10m 9s\n",
            "123:\tlearn: 0.7938147\ttotal: 1m 26s\tremaining: 10m 8s\n",
            "124:\tlearn: 0.7935277\ttotal: 1m 26s\tremaining: 10m 7s\n",
            "125:\tlearn: 0.7929405\ttotal: 1m 27s\tremaining: 10m 5s\n",
            "126:\tlearn: 0.7926818\ttotal: 1m 27s\tremaining: 10m 4s\n",
            "127:\tlearn: 0.7923335\ttotal: 1m 28s\tremaining: 10m 3s\n",
            "128:\tlearn: 0.7919562\ttotal: 1m 29s\tremaining: 10m 2s\n",
            "129:\tlearn: 0.7918565\ttotal: 1m 29s\tremaining: 10m 1s\n",
            "130:\tlearn: 0.7913473\ttotal: 1m 30s\tremaining: 10m\n",
            "131:\tlearn: 0.7909134\ttotal: 1m 31s\tremaining: 9m 58s\n",
            "132:\tlearn: 0.7903934\ttotal: 1m 31s\tremaining: 9m 57s\n",
            "133:\tlearn: 0.7901653\ttotal: 1m 32s\tremaining: 9m 56s\n",
            "134:\tlearn: 0.7897431\ttotal: 1m 32s\tremaining: 9m 55s\n",
            "135:\tlearn: 0.7891609\ttotal: 1m 33s\tremaining: 9m 54s\n",
            "136:\tlearn: 0.7889149\ttotal: 1m 34s\tremaining: 9m 54s\n",
            "137:\tlearn: 0.7885771\ttotal: 1m 35s\tremaining: 9m 55s\n",
            "138:\tlearn: 0.7881693\ttotal: 1m 36s\tremaining: 9m 57s\n",
            "139:\tlearn: 0.7876734\ttotal: 1m 37s\tremaining: 9m 57s\n",
            "140:\tlearn: 0.7872777\ttotal: 1m 37s\tremaining: 9m 55s\n",
            "141:\tlearn: 0.7867706\ttotal: 1m 38s\tremaining: 9m 54s\n",
            "142:\tlearn: 0.7862876\ttotal: 1m 39s\tremaining: 9m 53s\n",
            "143:\tlearn: 0.7860114\ttotal: 1m 39s\tremaining: 9m 52s\n",
            "144:\tlearn: 0.7858158\ttotal: 1m 40s\tremaining: 9m 51s\n",
            "145:\tlearn: 0.7853967\ttotal: 1m 40s\tremaining: 9m 50s\n",
            "146:\tlearn: 0.7850016\ttotal: 1m 41s\tremaining: 9m 49s\n",
            "147:\tlearn: 0.7844887\ttotal: 1m 42s\tremaining: 9m 48s\n",
            "148:\tlearn: 0.7839183\ttotal: 1m 42s\tremaining: 9m 47s\n",
            "149:\tlearn: 0.7833317\ttotal: 1m 43s\tremaining: 9m 46s\n",
            "150:\tlearn: 0.7828766\ttotal: 1m 44s\tremaining: 9m 45s\n",
            "151:\tlearn: 0.7826074\ttotal: 1m 44s\tremaining: 9m 44s\n",
            "152:\tlearn: 0.7822372\ttotal: 1m 45s\tremaining: 9m 43s\n",
            "153:\tlearn: 0.7817481\ttotal: 1m 45s\tremaining: 9m 42s\n",
            "154:\tlearn: 0.7812047\ttotal: 1m 46s\tremaining: 9m 41s\n",
            "155:\tlearn: 0.7808163\ttotal: 1m 47s\tremaining: 9m 41s\n",
            "156:\tlearn: 0.7804021\ttotal: 1m 48s\tremaining: 9m 42s\n",
            "157:\tlearn: 0.7798292\ttotal: 1m 49s\tremaining: 9m 43s\n",
            "158:\tlearn: 0.7794764\ttotal: 1m 50s\tremaining: 9m 42s\n",
            "159:\tlearn: 0.7790907\ttotal: 1m 50s\tremaining: 9m 41s\n",
            "160:\tlearn: 0.7787211\ttotal: 1m 51s\tremaining: 9m 40s\n",
            "161:\tlearn: 0.7784110\ttotal: 1m 52s\tremaining: 9m 39s\n",
            "162:\tlearn: 0.7781573\ttotal: 1m 52s\tremaining: 9m 38s\n",
            "163:\tlearn: 0.7779055\ttotal: 1m 53s\tremaining: 9m 37s\n",
            "164:\tlearn: 0.7776008\ttotal: 1m 53s\tremaining: 9m 36s\n",
            "165:\tlearn: 0.7772920\ttotal: 1m 54s\tremaining: 9m 35s\n",
            "166:\tlearn: 0.7770527\ttotal: 1m 55s\tremaining: 9m 34s\n",
            "167:\tlearn: 0.7767003\ttotal: 1m 55s\tremaining: 9m 33s\n",
            "168:\tlearn: 0.7763968\ttotal: 1m 56s\tremaining: 9m 32s\n",
            "169:\tlearn: 0.7761364\ttotal: 1m 57s\tremaining: 9m 31s\n",
            "170:\tlearn: 0.7759111\ttotal: 1m 57s\tremaining: 9m 30s\n",
            "171:\tlearn: 0.7755232\ttotal: 1m 58s\tremaining: 9m 29s\n",
            "172:\tlearn: 0.7752046\ttotal: 1m 58s\tremaining: 9m 28s\n",
            "173:\tlearn: 0.7749624\ttotal: 1m 59s\tremaining: 9m 27s\n",
            "174:\tlearn: 0.7744002\ttotal: 2m\tremaining: 9m 27s\n",
            "175:\tlearn: 0.7739692\ttotal: 2m 1s\tremaining: 9m 29s\n",
            "176:\tlearn: 0.7736059\ttotal: 2m 2s\tremaining: 9m 29s\n",
            "177:\tlearn: 0.7729401\ttotal: 2m 3s\tremaining: 9m 28s\n",
            "178:\tlearn: 0.7725475\ttotal: 2m 3s\tremaining: 9m 27s\n",
            "179:\tlearn: 0.7722904\ttotal: 2m 4s\tremaining: 9m 26s\n",
            "180:\tlearn: 0.7720765\ttotal: 2m 5s\tremaining: 9m 25s\n",
            "181:\tlearn: 0.7718381\ttotal: 2m 5s\tremaining: 9m 25s\n",
            "182:\tlearn: 0.7714791\ttotal: 2m 6s\tremaining: 9m 23s\n",
            "183:\tlearn: 0.7711785\ttotal: 2m 6s\tremaining: 9m 22s\n",
            "184:\tlearn: 0.7709426\ttotal: 2m 7s\tremaining: 9m 22s\n",
            "185:\tlearn: 0.7706349\ttotal: 2m 8s\tremaining: 9m 21s\n",
            "186:\tlearn: 0.7704759\ttotal: 2m 8s\tremaining: 9m 20s\n",
            "187:\tlearn: 0.7699415\ttotal: 2m 9s\tremaining: 9m 19s\n",
            "188:\tlearn: 0.7694745\ttotal: 2m 10s\tremaining: 9m 18s\n",
            "189:\tlearn: 0.7690034\ttotal: 2m 10s\tremaining: 9m 17s\n",
            "190:\tlearn: 0.7687563\ttotal: 2m 11s\tremaining: 9m 16s\n",
            "191:\tlearn: 0.7685784\ttotal: 2m 11s\tremaining: 9m 15s\n",
            "192:\tlearn: 0.7684125\ttotal: 2m 12s\tremaining: 9m 14s\n",
            "193:\tlearn: 0.7681936\ttotal: 2m 13s\tremaining: 9m 15s\n",
            "194:\tlearn: 0.7680166\ttotal: 2m 14s\tremaining: 9m 16s\n",
            "195:\tlearn: 0.7676320\ttotal: 2m 15s\tremaining: 9m 16s\n",
            "196:\tlearn: 0.7673582\ttotal: 2m 16s\tremaining: 9m 15s\n",
            "197:\tlearn: 0.7671995\ttotal: 2m 16s\tremaining: 9m 14s\n",
            "198:\tlearn: 0.7670472\ttotal: 2m 17s\tremaining: 9m 13s\n",
            "199:\tlearn: 0.7667595\ttotal: 2m 18s\tremaining: 9m 12s\n",
            "200:\tlearn: 0.7663312\ttotal: 2m 18s\tremaining: 9m 11s\n",
            "201:\tlearn: 0.7660232\ttotal: 2m 19s\tremaining: 9m 10s\n",
            "202:\tlearn: 0.7658661\ttotal: 2m 19s\tremaining: 9m 9s\n",
            "203:\tlearn: 0.7656059\ttotal: 2m 20s\tremaining: 9m 8s\n",
            "204:\tlearn: 0.7651848\ttotal: 2m 21s\tremaining: 9m 7s\n",
            "205:\tlearn: 0.7648812\ttotal: 2m 21s\tremaining: 9m 6s\n",
            "206:\tlearn: 0.7647328\ttotal: 2m 22s\tremaining: 9m 5s\n",
            "207:\tlearn: 0.7645707\ttotal: 2m 23s\tremaining: 9m 4s\n",
            "208:\tlearn: 0.7643305\ttotal: 2m 23s\tremaining: 9m 3s\n",
            "209:\tlearn: 0.7640570\ttotal: 2m 24s\tremaining: 9m 3s\n",
            "210:\tlearn: 0.7638560\ttotal: 2m 24s\tremaining: 9m 2s\n",
            "211:\tlearn: 0.7635992\ttotal: 2m 25s\tremaining: 9m 1s\n",
            "212:\tlearn: 0.7633262\ttotal: 2m 26s\tremaining: 9m 2s\n",
            "213:\tlearn: 0.7630219\ttotal: 2m 27s\tremaining: 9m 3s\n",
            "214:\tlearn: 0.7628090\ttotal: 2m 28s\tremaining: 9m 2s\n",
            "215:\tlearn: 0.7625548\ttotal: 2m 29s\tremaining: 9m 1s\n",
            "216:\tlearn: 0.7623572\ttotal: 2m 29s\tremaining: 9m\n",
            "217:\tlearn: 0.7621383\ttotal: 2m 30s\tremaining: 8m 59s\n",
            "218:\tlearn: 0.7619238\ttotal: 2m 31s\tremaining: 8m 58s\n",
            "219:\tlearn: 0.7616121\ttotal: 2m 31s\tremaining: 8m 57s\n",
            "220:\tlearn: 0.7614044\ttotal: 2m 32s\tremaining: 8m 57s\n",
            "221:\tlearn: 0.7611933\ttotal: 2m 32s\tremaining: 8m 56s\n",
            "222:\tlearn: 0.7609367\ttotal: 2m 33s\tremaining: 8m 55s\n",
            "223:\tlearn: 0.7607819\ttotal: 2m 34s\tremaining: 8m 54s\n",
            "224:\tlearn: 0.7605450\ttotal: 2m 34s\tremaining: 8m 53s\n",
            "225:\tlearn: 0.7603699\ttotal: 2m 35s\tremaining: 8m 52s\n",
            "226:\tlearn: 0.7600958\ttotal: 2m 36s\tremaining: 8m 51s\n",
            "227:\tlearn: 0.7598267\ttotal: 2m 36s\tremaining: 8m 50s\n",
            "228:\tlearn: 0.7593932\ttotal: 2m 37s\tremaining: 8m 49s\n",
            "229:\tlearn: 0.7592354\ttotal: 2m 38s\tremaining: 8m 48s\n",
            "230:\tlearn: 0.7590600\ttotal: 2m 38s\tremaining: 8m 49s\n",
            "231:\tlearn: 0.7587575\ttotal: 2m 40s\tremaining: 8m 49s\n",
            "232:\tlearn: 0.7584735\ttotal: 2m 40s\tremaining: 8m 49s\n",
            "233:\tlearn: 0.7582026\ttotal: 2m 41s\tremaining: 8m 49s\n",
            "234:\tlearn: 0.7579302\ttotal: 2m 42s\tremaining: 8m 48s\n",
            "235:\tlearn: 0.7577183\ttotal: 2m 42s\tremaining: 8m 47s\n",
            "236:\tlearn: 0.7574357\ttotal: 2m 43s\tremaining: 8m 46s\n",
            "237:\tlearn: 0.7571823\ttotal: 2m 44s\tremaining: 8m 45s\n",
            "238:\tlearn: 0.7570248\ttotal: 2m 44s\tremaining: 8m 44s\n",
            "239:\tlearn: 0.7566347\ttotal: 2m 45s\tremaining: 8m 43s\n",
            "240:\tlearn: 0.7564970\ttotal: 2m 45s\tremaining: 8m 42s\n",
            "241:\tlearn: 0.7563464\ttotal: 2m 46s\tremaining: 8m 41s\n",
            "242:\tlearn: 0.7562382\ttotal: 2m 47s\tremaining: 8m 40s\n",
            "243:\tlearn: 0.7560249\ttotal: 2m 47s\tremaining: 8m 39s\n",
            "244:\tlearn: 0.7558026\ttotal: 2m 48s\tremaining: 8m 39s\n",
            "245:\tlearn: 0.7556213\ttotal: 2m 49s\tremaining: 8m 38s\n",
            "246:\tlearn: 0.7553841\ttotal: 2m 49s\tremaining: 8m 37s\n",
            "247:\tlearn: 0.7551881\ttotal: 2m 50s\tremaining: 8m 36s\n",
            "248:\tlearn: 0.7549783\ttotal: 2m 51s\tremaining: 8m 35s\n",
            "249:\tlearn: 0.7549086\ttotal: 2m 52s\tremaining: 8m 36s\n",
            "250:\tlearn: 0.7545941\ttotal: 2m 53s\tremaining: 8m 36s\n",
            "251:\tlearn: 0.7542075\ttotal: 2m 53s\tremaining: 8m 36s\n",
            "252:\tlearn: 0.7539965\ttotal: 2m 54s\tremaining: 8m 35s\n",
            "253:\tlearn: 0.7537988\ttotal: 2m 55s\tremaining: 8m 34s\n",
            "254:\tlearn: 0.7536133\ttotal: 2m 55s\tremaining: 8m 33s\n",
            "255:\tlearn: 0.7532020\ttotal: 2m 56s\tremaining: 8m 32s\n",
            "256:\tlearn: 0.7529612\ttotal: 2m 57s\tremaining: 8m 31s\n",
            "257:\tlearn: 0.7526403\ttotal: 2m 57s\tremaining: 8m 30s\n",
            "258:\tlearn: 0.7523980\ttotal: 2m 58s\tremaining: 8m 30s\n",
            "259:\tlearn: 0.7521479\ttotal: 2m 58s\tremaining: 8m 29s\n",
            "260:\tlearn: 0.7518729\ttotal: 2m 59s\tremaining: 8m 28s\n",
            "261:\tlearn: 0.7517583\ttotal: 3m\tremaining: 8m 27s\n",
            "262:\tlearn: 0.7515911\ttotal: 3m\tremaining: 8m 26s\n",
            "263:\tlearn: 0.7513053\ttotal: 3m 1s\tremaining: 8m 25s\n",
            "264:\tlearn: 0.7511313\ttotal: 3m 2s\tremaining: 8m 24s\n",
            "265:\tlearn: 0.7507057\ttotal: 3m 2s\tremaining: 8m 24s\n",
            "266:\tlearn: 0.7502880\ttotal: 3m 3s\tremaining: 8m 23s\n",
            "267:\tlearn: 0.7501600\ttotal: 3m 4s\tremaining: 8m 23s\n",
            "268:\tlearn: 0.7500037\ttotal: 3m 5s\tremaining: 8m 23s\n",
            "269:\tlearn: 0.7498086\ttotal: 3m 6s\tremaining: 8m 23s\n",
            "270:\tlearn: 0.7496055\ttotal: 3m 6s\tremaining: 8m 22s\n",
            "271:\tlearn: 0.7493554\ttotal: 3m 7s\tremaining: 8m 21s\n",
            "272:\tlearn: 0.7491211\ttotal: 3m 8s\tremaining: 8m 21s\n",
            "273:\tlearn: 0.7489330\ttotal: 3m 8s\tremaining: 8m 20s\n",
            "274:\tlearn: 0.7485307\ttotal: 3m 9s\tremaining: 8m 19s\n",
            "275:\tlearn: 0.7484374\ttotal: 3m 10s\tremaining: 8m 18s\n",
            "276:\tlearn: 0.7482743\ttotal: 3m 10s\tremaining: 8m 17s\n",
            "277:\tlearn: 0.7480829\ttotal: 3m 11s\tremaining: 8m 16s\n",
            "278:\tlearn: 0.7479343\ttotal: 3m 11s\tremaining: 8m 16s\n",
            "279:\tlearn: 0.7477692\ttotal: 3m 12s\tremaining: 8m 15s\n",
            "280:\tlearn: 0.7473764\ttotal: 3m 13s\tremaining: 8m 14s\n",
            "281:\tlearn: 0.7472049\ttotal: 3m 13s\tremaining: 8m 13s\n",
            "282:\tlearn: 0.7469937\ttotal: 3m 14s\tremaining: 8m 12s\n",
            "283:\tlearn: 0.7467525\ttotal: 3m 15s\tremaining: 8m 11s\n",
            "284:\tlearn: 0.7465970\ttotal: 3m 15s\tremaining: 8m 10s\n",
            "285:\tlearn: 0.7463505\ttotal: 3m 16s\tremaining: 8m 10s\n",
            "286:\tlearn: 0.7461816\ttotal: 3m 17s\tremaining: 8m 10s\n",
            "287:\tlearn: 0.7460754\ttotal: 3m 18s\tremaining: 8m 10s\n",
            "288:\tlearn: 0.7459594\ttotal: 3m 19s\tremaining: 8m 10s\n",
            "289:\tlearn: 0.7457797\ttotal: 3m 19s\tremaining: 8m 9s\n",
            "290:\tlearn: 0.7456295\ttotal: 3m 20s\tremaining: 8m 8s\n",
            "291:\tlearn: 0.7454629\ttotal: 3m 21s\tremaining: 8m 7s\n",
            "292:\tlearn: 0.7452734\ttotal: 3m 21s\tremaining: 8m 6s\n",
            "293:\tlearn: 0.7450155\ttotal: 3m 22s\tremaining: 8m 6s\n",
            "294:\tlearn: 0.7449324\ttotal: 3m 23s\tremaining: 8m 5s\n",
            "295:\tlearn: 0.7447858\ttotal: 3m 23s\tremaining: 8m 4s\n",
            "296:\tlearn: 0.7446278\ttotal: 3m 24s\tremaining: 8m 3s\n",
            "297:\tlearn: 0.7443228\ttotal: 3m 24s\tremaining: 8m 2s\n",
            "298:\tlearn: 0.7442360\ttotal: 3m 25s\tremaining: 8m 1s\n",
            "299:\tlearn: 0.7439216\ttotal: 3m 26s\tremaining: 8m 1s\n",
            "300:\tlearn: 0.7437801\ttotal: 3m 26s\tremaining: 8m\n",
            "301:\tlearn: 0.7436519\ttotal: 3m 27s\tremaining: 7m 59s\n",
            "302:\tlearn: 0.7433597\ttotal: 3m 28s\tremaining: 7m 58s\n",
            "303:\tlearn: 0.7430949\ttotal: 3m 28s\tremaining: 7m 58s\n",
            "304:\tlearn: 0.7429483\ttotal: 3m 30s\tremaining: 7m 58s\n",
            "305:\tlearn: 0.7428095\ttotal: 3m 31s\tremaining: 7m 58s\n",
            "306:\tlearn: 0.7425497\ttotal: 3m 32s\tremaining: 7m 59s\n",
            "307:\tlearn: 0.7422212\ttotal: 3m 33s\tremaining: 7m 59s\n",
            "308:\tlearn: 0.7420552\ttotal: 3m 34s\tremaining: 7m 58s\n",
            "309:\tlearn: 0.7419247\ttotal: 3m 34s\tremaining: 7m 58s\n",
            "310:\tlearn: 0.7417638\ttotal: 3m 35s\tremaining: 7m 57s\n",
            "311:\tlearn: 0.7415710\ttotal: 3m 36s\tremaining: 7m 56s\n",
            "312:\tlearn: 0.7414412\ttotal: 3m 36s\tremaining: 7m 55s\n",
            "313:\tlearn: 0.7411936\ttotal: 3m 37s\tremaining: 7m 54s\n",
            "314:\tlearn: 0.7410888\ttotal: 3m 37s\tremaining: 7m 53s\n",
            "315:\tlearn: 0.7407444\ttotal: 3m 38s\tremaining: 7m 52s\n",
            "316:\tlearn: 0.7405990\ttotal: 3m 39s\tremaining: 7m 53s\n",
            "317:\tlearn: 0.7403872\ttotal: 3m 40s\tremaining: 7m 52s\n",
            "318:\tlearn: 0.7402203\ttotal: 3m 40s\tremaining: 7m 51s\n",
            "319:\tlearn: 0.7400671\ttotal: 3m 41s\tremaining: 7m 50s\n",
            "320:\tlearn: 0.7398961\ttotal: 3m 42s\tremaining: 7m 49s\n",
            "321:\tlearn: 0.7397106\ttotal: 3m 42s\tremaining: 7m 48s\n",
            "322:\tlearn: 0.7395246\ttotal: 3m 43s\tremaining: 7m 48s\n",
            "323:\tlearn: 0.7390801\ttotal: 3m 44s\tremaining: 7m 47s\n",
            "324:\tlearn: 0.7388187\ttotal: 3m 45s\tremaining: 7m 47s\n",
            "325:\tlearn: 0.7386774\ttotal: 3m 46s\tremaining: 7m 47s\n",
            "326:\tlearn: 0.7384172\ttotal: 3m 46s\tremaining: 7m 47s\n",
            "327:\tlearn: 0.7382532\ttotal: 3m 47s\tremaining: 7m 46s\n",
            "328:\tlearn: 0.7380549\ttotal: 3m 48s\tremaining: 7m 45s\n",
            "329:\tlearn: 0.7378641\ttotal: 3m 48s\tremaining: 7m 44s\n",
            "330:\tlearn: 0.7375994\ttotal: 3m 49s\tremaining: 7m 43s\n",
            "331:\tlearn: 0.7375105\ttotal: 3m 50s\tremaining: 7m 42s\n",
            "332:\tlearn: 0.7373800\ttotal: 3m 50s\tremaining: 7m 42s\n",
            "333:\tlearn: 0.7372332\ttotal: 3m 51s\tremaining: 7m 41s\n",
            "334:\tlearn: 0.7370994\ttotal: 3m 51s\tremaining: 7m 40s\n",
            "335:\tlearn: 0.7368823\ttotal: 3m 52s\tremaining: 7m 39s\n",
            "336:\tlearn: 0.7367537\ttotal: 3m 53s\tremaining: 7m 38s\n",
            "337:\tlearn: 0.7365038\ttotal: 3m 53s\tremaining: 7m 38s\n",
            "338:\tlearn: 0.7362688\ttotal: 3m 54s\tremaining: 7m 37s\n",
            "339:\tlearn: 0.7361175\ttotal: 3m 55s\tremaining: 7m 36s\n",
            "340:\tlearn: 0.7359703\ttotal: 3m 55s\tremaining: 7m 35s\n",
            "341:\tlearn: 0.7357793\ttotal: 3m 56s\tremaining: 7m 34s\n",
            "342:\tlearn: 0.7356708\ttotal: 3m 57s\tremaining: 7m 34s\n",
            "343:\tlearn: 0.7355709\ttotal: 3m 58s\tremaining: 7m 34s\n",
            "344:\tlearn: 0.7354360\ttotal: 3m 59s\tremaining: 7m 34s\n",
            "345:\tlearn: 0.7353624\ttotal: 4m\tremaining: 7m 33s\n",
            "346:\tlearn: 0.7352231\ttotal: 4m\tremaining: 7m 32s\n",
            "347:\tlearn: 0.7350547\ttotal: 4m 1s\tremaining: 7m 32s\n",
            "348:\tlearn: 0.7349387\ttotal: 4m 1s\tremaining: 7m 31s\n",
            "349:\tlearn: 0.7348210\ttotal: 4m 2s\tremaining: 7m 30s\n",
            "350:\tlearn: 0.7345515\ttotal: 4m 3s\tremaining: 7m 29s\n",
            "351:\tlearn: 0.7343729\ttotal: 4m 3s\tremaining: 7m 28s\n",
            "352:\tlearn: 0.7342814\ttotal: 4m 4s\tremaining: 7m 27s\n",
            "353:\tlearn: 0.7341043\ttotal: 4m 5s\tremaining: 7m 27s\n",
            "354:\tlearn: 0.7339522\ttotal: 4m 5s\tremaining: 7m 26s\n",
            "355:\tlearn: 0.7337767\ttotal: 4m 6s\tremaining: 7m 25s\n",
            "356:\tlearn: 0.7335540\ttotal: 4m 6s\tremaining: 7m 24s\n",
            "357:\tlearn: 0.7333693\ttotal: 4m 7s\tremaining: 7m 23s\n",
            "358:\tlearn: 0.7332229\ttotal: 4m 8s\tremaining: 7m 23s\n",
            "359:\tlearn: 0.7329655\ttotal: 4m 8s\tremaining: 7m 22s\n",
            "360:\tlearn: 0.7327859\ttotal: 4m 9s\tremaining: 7m 21s\n",
            "361:\tlearn: 0.7326302\ttotal: 4m 10s\tremaining: 7m 21s\n",
            "362:\tlearn: 0.7323995\ttotal: 4m 11s\tremaining: 7m 21s\n",
            "363:\tlearn: 0.7322378\ttotal: 4m 12s\tremaining: 7m 21s\n",
            "364:\tlearn: 0.7320667\ttotal: 4m 13s\tremaining: 7m 20s\n",
            "365:\tlearn: 0.7319469\ttotal: 4m 13s\tremaining: 7m 19s\n",
            "366:\tlearn: 0.7318346\ttotal: 4m 14s\tremaining: 7m 18s\n",
            "367:\tlearn: 0.7316142\ttotal: 4m 14s\tremaining: 7m 17s\n",
            "368:\tlearn: 0.7313492\ttotal: 4m 15s\tremaining: 7m 17s\n",
            "369:\tlearn: 0.7311933\ttotal: 4m 16s\tremaining: 7m 16s\n",
            "370:\tlearn: 0.7310482\ttotal: 4m 16s\tremaining: 7m 15s\n",
            "371:\tlearn: 0.7309778\ttotal: 4m 17s\tremaining: 7m 14s\n",
            "372:\tlearn: 0.7308362\ttotal: 4m 18s\tremaining: 7m 13s\n",
            "373:\tlearn: 0.7305176\ttotal: 4m 18s\tremaining: 7m 12s\n",
            "374:\tlearn: 0.7303389\ttotal: 4m 19s\tremaining: 7m 12s\n",
            "375:\tlearn: 0.7301135\ttotal: 4m 19s\tremaining: 7m 11s\n",
            "376:\tlearn: 0.7300051\ttotal: 4m 20s\tremaining: 7m 10s\n",
            "377:\tlearn: 0.7298112\ttotal: 4m 21s\tremaining: 7m 9s\n",
            "378:\tlearn: 0.7294270\ttotal: 4m 21s\tremaining: 7m 8s\n",
            "379:\tlearn: 0.7292285\ttotal: 4m 22s\tremaining: 7m 8s\n",
            "380:\tlearn: 0.7290755\ttotal: 4m 23s\tremaining: 7m 7s\n",
            "381:\tlearn: 0.7289762\ttotal: 4m 24s\tremaining: 7m 7s\n",
            "382:\tlearn: 0.7288058\ttotal: 4m 25s\tremaining: 7m 7s\n",
            "383:\tlearn: 0.7286787\ttotal: 4m 26s\tremaining: 7m 6s\n",
            "384:\tlearn: 0.7285019\ttotal: 4m 26s\tremaining: 7m 6s\n",
            "385:\tlearn: 0.7283263\ttotal: 4m 27s\tremaining: 7m 5s\n",
            "386:\tlearn: 0.7281093\ttotal: 4m 27s\tremaining: 7m 4s\n",
            "387:\tlearn: 0.7278619\ttotal: 4m 28s\tremaining: 7m 3s\n",
            "388:\tlearn: 0.7277200\ttotal: 4m 29s\tremaining: 7m 2s\n",
            "389:\tlearn: 0.7275404\ttotal: 4m 29s\tremaining: 7m 2s\n",
            "390:\tlearn: 0.7273766\ttotal: 4m 30s\tremaining: 7m 1s\n",
            "391:\tlearn: 0.7271825\ttotal: 4m 31s\tremaining: 7m\n",
            "392:\tlearn: 0.7269742\ttotal: 4m 31s\tremaining: 6m 59s\n",
            "393:\tlearn: 0.7267851\ttotal: 4m 32s\tremaining: 6m 58s\n",
            "394:\tlearn: 0.7265744\ttotal: 4m 32s\tremaining: 6m 58s\n",
            "395:\tlearn: 0.7263570\ttotal: 4m 33s\tremaining: 6m 57s\n",
            "396:\tlearn: 0.7261890\ttotal: 4m 34s\tremaining: 6m 56s\n",
            "397:\tlearn: 0.7259439\ttotal: 4m 34s\tremaining: 6m 55s\n",
            "398:\tlearn: 0.7258412\ttotal: 4m 35s\tremaining: 6m 55s\n",
            "399:\tlearn: 0.7256410\ttotal: 4m 36s\tremaining: 6m 54s\n",
            "400:\tlearn: 0.7255353\ttotal: 4m 37s\tremaining: 6m 54s\n",
            "401:\tlearn: 0.7254137\ttotal: 4m 38s\tremaining: 6m 54s\n",
            "402:\tlearn: 0.7252195\ttotal: 4m 39s\tremaining: 6m 53s\n",
            "403:\tlearn: 0.7250363\ttotal: 4m 39s\tremaining: 6m 52s\n",
            "404:\tlearn: 0.7249521\ttotal: 4m 40s\tremaining: 6m 51s\n",
            "405:\tlearn: 0.7248538\ttotal: 4m 40s\tremaining: 6m 51s\n",
            "406:\tlearn: 0.7246878\ttotal: 4m 41s\tremaining: 6m 50s\n",
            "407:\tlearn: 0.7245882\ttotal: 4m 42s\tremaining: 6m 49s\n",
            "408:\tlearn: 0.7243452\ttotal: 4m 42s\tremaining: 6m 48s\n",
            "409:\tlearn: 0.7242366\ttotal: 4m 43s\tremaining: 6m 47s\n",
            "410:\tlearn: 0.7241384\ttotal: 4m 44s\tremaining: 6m 47s\n",
            "411:\tlearn: 0.7240255\ttotal: 4m 44s\tremaining: 6m 46s\n",
            "412:\tlearn: 0.7238095\ttotal: 4m 45s\tremaining: 6m 45s\n",
            "413:\tlearn: 0.7236357\ttotal: 4m 45s\tremaining: 6m 44s\n",
            "414:\tlearn: 0.7234869\ttotal: 4m 46s\tremaining: 6m 43s\n",
            "415:\tlearn: 0.7233349\ttotal: 4m 47s\tremaining: 6m 43s\n",
            "416:\tlearn: 0.7232315\ttotal: 4m 47s\tremaining: 6m 42s\n",
            "417:\tlearn: 0.7230254\ttotal: 4m 48s\tremaining: 6m 41s\n",
            "418:\tlearn: 0.7229162\ttotal: 4m 49s\tremaining: 6m 41s\n",
            "419:\tlearn: 0.7227348\ttotal: 4m 50s\tremaining: 6m 41s\n",
            "420:\tlearn: 0.7225363\ttotal: 4m 51s\tremaining: 6m 40s\n",
            "421:\tlearn: 0.7223933\ttotal: 4m 52s\tremaining: 6m 39s\n",
            "422:\tlearn: 0.7222258\ttotal: 4m 52s\tremaining: 6m 39s\n",
            "423:\tlearn: 0.7220195\ttotal: 4m 53s\tremaining: 6m 38s\n",
            "424:\tlearn: 0.7218374\ttotal: 4m 53s\tremaining: 6m 37s\n",
            "425:\tlearn: 0.7216563\ttotal: 4m 54s\tremaining: 6m 36s\n",
            "426:\tlearn: 0.7215292\ttotal: 4m 55s\tremaining: 6m 36s\n",
            "427:\tlearn: 0.7214257\ttotal: 4m 55s\tremaining: 6m 35s\n",
            "428:\tlearn: 0.7212337\ttotal: 4m 56s\tremaining: 6m 34s\n",
            "429:\tlearn: 0.7210530\ttotal: 4m 57s\tremaining: 6m 33s\n",
            "430:\tlearn: 0.7209080\ttotal: 4m 57s\tremaining: 6m 32s\n",
            "431:\tlearn: 0.7207705\ttotal: 4m 58s\tremaining: 6m 32s\n",
            "432:\tlearn: 0.7206052\ttotal: 4m 58s\tremaining: 6m 31s\n",
            "433:\tlearn: 0.7205075\ttotal: 4m 59s\tremaining: 6m 30s\n",
            "434:\tlearn: 0.7203408\ttotal: 5m\tremaining: 6m 29s\n",
            "435:\tlearn: 0.7202381\ttotal: 5m\tremaining: 6m 29s\n",
            "436:\tlearn: 0.7200572\ttotal: 5m 1s\tremaining: 6m 28s\n",
            "437:\tlearn: 0.7199386\ttotal: 5m 2s\tremaining: 6m 28s\n",
            "438:\tlearn: 0.7198348\ttotal: 5m 3s\tremaining: 6m 28s\n",
            "439:\tlearn: 0.7196729\ttotal: 5m 4s\tremaining: 6m 27s\n",
            "440:\tlearn: 0.7195116\ttotal: 5m 5s\tremaining: 6m 26s\n",
            "441:\tlearn: 0.7193791\ttotal: 5m 5s\tremaining: 6m 25s\n",
            "442:\tlearn: 0.7193020\ttotal: 5m 6s\tremaining: 6m 25s\n",
            "443:\tlearn: 0.7191740\ttotal: 5m 6s\tremaining: 6m 24s\n",
            "444:\tlearn: 0.7190179\ttotal: 5m 7s\tremaining: 6m 23s\n",
            "445:\tlearn: 0.7188947\ttotal: 5m 8s\tremaining: 6m 22s\n",
            "446:\tlearn: 0.7187670\ttotal: 5m 8s\tremaining: 6m 21s\n",
            "447:\tlearn: 0.7186628\ttotal: 5m 9s\tremaining: 6m 21s\n",
            "448:\tlearn: 0.7185458\ttotal: 5m 10s\tremaining: 6m 20s\n",
            "449:\tlearn: 0.7184053\ttotal: 5m 10s\tremaining: 6m 19s\n",
            "450:\tlearn: 0.7180402\ttotal: 5m 11s\tremaining: 6m 18s\n",
            "451:\tlearn: 0.7178868\ttotal: 5m 11s\tremaining: 6m 18s\n",
            "452:\tlearn: 0.7177071\ttotal: 5m 12s\tremaining: 6m 17s\n",
            "453:\tlearn: 0.7175407\ttotal: 5m 13s\tremaining: 6m 16s\n",
            "454:\tlearn: 0.7174192\ttotal: 5m 13s\tremaining: 6m 15s\n",
            "455:\tlearn: 0.7173060\ttotal: 5m 14s\tremaining: 6m 15s\n",
            "456:\tlearn: 0.7172205\ttotal: 5m 15s\tremaining: 6m 15s\n",
            "457:\tlearn: 0.7171462\ttotal: 5m 16s\tremaining: 6m 14s\n",
            "458:\tlearn: 0.7168912\ttotal: 5m 17s\tremaining: 6m 14s\n",
            "459:\tlearn: 0.7168053\ttotal: 5m 18s\tremaining: 6m 13s\n",
            "460:\tlearn: 0.7166562\ttotal: 5m 18s\tremaining: 6m 12s\n",
            "461:\tlearn: 0.7165235\ttotal: 5m 19s\tremaining: 6m 11s\n",
            "462:\tlearn: 0.7163941\ttotal: 5m 19s\tremaining: 6m 11s\n",
            "463:\tlearn: 0.7162657\ttotal: 5m 20s\tremaining: 6m 10s\n",
            "464:\tlearn: 0.7161864\ttotal: 5m 21s\tremaining: 6m 9s\n",
            "465:\tlearn: 0.7160880\ttotal: 5m 21s\tremaining: 6m 8s\n",
            "466:\tlearn: 0.7159898\ttotal: 5m 22s\tremaining: 6m 7s\n",
            "467:\tlearn: 0.7157465\ttotal: 5m 22s\tremaining: 6m 7s\n",
            "468:\tlearn: 0.7156701\ttotal: 5m 23s\tremaining: 6m 6s\n",
            "469:\tlearn: 0.7155536\ttotal: 5m 24s\tremaining: 6m 5s\n",
            "470:\tlearn: 0.7154344\ttotal: 5m 24s\tremaining: 6m 4s\n",
            "471:\tlearn: 0.7152878\ttotal: 5m 25s\tremaining: 6m 4s\n",
            "472:\tlearn: 0.7152095\ttotal: 5m 26s\tremaining: 6m 3s\n",
            "473:\tlearn: 0.7150974\ttotal: 5m 26s\tremaining: 6m 2s\n",
            "474:\tlearn: 0.7150174\ttotal: 5m 27s\tremaining: 6m 2s\n",
            "475:\tlearn: 0.7149121\ttotal: 5m 28s\tremaining: 6m 2s\n",
            "476:\tlearn: 0.7147558\ttotal: 5m 29s\tremaining: 6m 1s\n",
            "477:\tlearn: 0.7146546\ttotal: 5m 30s\tremaining: 6m\n",
            "478:\tlearn: 0.7145709\ttotal: 5m 30s\tremaining: 5m 59s\n",
            "479:\tlearn: 0.7144444\ttotal: 5m 31s\tremaining: 5m 59s\n",
            "480:\tlearn: 0.7143475\ttotal: 5m 32s\tremaining: 5m 58s\n",
            "481:\tlearn: 0.7141760\ttotal: 5m 32s\tremaining: 5m 57s\n",
            "482:\tlearn: 0.7139090\ttotal: 5m 33s\tremaining: 5m 56s\n",
            "483:\tlearn: 0.7137465\ttotal: 5m 34s\tremaining: 5m 56s\n",
            "484:\tlearn: 0.7136646\ttotal: 5m 34s\tremaining: 5m 55s\n",
            "485:\tlearn: 0.7135683\ttotal: 5m 35s\tremaining: 5m 54s\n",
            "486:\tlearn: 0.7134294\ttotal: 5m 35s\tremaining: 5m 53s\n",
            "487:\tlearn: 0.7133255\ttotal: 5m 36s\tremaining: 5m 53s\n",
            "488:\tlearn: 0.7131990\ttotal: 5m 37s\tremaining: 5m 52s\n",
            "489:\tlearn: 0.7131412\ttotal: 5m 37s\tremaining: 5m 51s\n",
            "490:\tlearn: 0.7129285\ttotal: 5m 38s\tremaining: 5m 50s\n",
            "491:\tlearn: 0.7127824\ttotal: 5m 39s\tremaining: 5m 50s\n",
            "492:\tlearn: 0.7126886\ttotal: 5m 39s\tremaining: 5m 49s\n",
            "493:\tlearn: 0.7125814\ttotal: 5m 40s\tremaining: 5m 49s\n",
            "494:\tlearn: 0.7124596\ttotal: 5m 41s\tremaining: 5m 48s\n",
            "495:\tlearn: 0.7123609\ttotal: 5m 42s\tremaining: 5m 48s\n",
            "496:\tlearn: 0.7122566\ttotal: 5m 43s\tremaining: 5m 47s\n",
            "497:\tlearn: 0.7119738\ttotal: 5m 43s\tremaining: 5m 46s\n",
            "498:\tlearn: 0.7117826\ttotal: 5m 44s\tremaining: 5m 45s\n",
            "499:\tlearn: 0.7116486\ttotal: 5m 45s\tremaining: 5m 45s\n",
            "500:\tlearn: 0.7115325\ttotal: 5m 45s\tremaining: 5m 44s\n",
            "501:\tlearn: 0.7113738\ttotal: 5m 46s\tremaining: 5m 43s\n",
            "502:\tlearn: 0.7112623\ttotal: 5m 47s\tremaining: 5m 42s\n",
            "503:\tlearn: 0.7110269\ttotal: 5m 47s\tremaining: 5m 42s\n",
            "504:\tlearn: 0.7108430\ttotal: 5m 48s\tremaining: 5m 41s\n",
            "505:\tlearn: 0.7107302\ttotal: 5m 48s\tremaining: 5m 40s\n",
            "506:\tlearn: 0.7106209\ttotal: 5m 49s\tremaining: 5m 39s\n",
            "507:\tlearn: 0.7105280\ttotal: 5m 50s\tremaining: 5m 39s\n",
            "508:\tlearn: 0.7104078\ttotal: 5m 50s\tremaining: 5m 38s\n",
            "509:\tlearn: 0.7102649\ttotal: 5m 51s\tremaining: 5m 37s\n",
            "510:\tlearn: 0.7101817\ttotal: 5m 52s\tremaining: 5m 36s\n",
            "511:\tlearn: 0.7100040\ttotal: 5m 52s\tremaining: 5m 36s\n",
            "512:\tlearn: 0.7099049\ttotal: 5m 53s\tremaining: 5m 35s\n",
            "513:\tlearn: 0.7097827\ttotal: 5m 55s\tremaining: 5m 35s\n",
            "514:\tlearn: 0.7096503\ttotal: 5m 55s\tremaining: 5m 34s\n",
            "515:\tlearn: 0.7095127\ttotal: 5m 56s\tremaining: 5m 34s\n",
            "516:\tlearn: 0.7093994\ttotal: 5m 56s\tremaining: 5m 33s\n",
            "517:\tlearn: 0.7093201\ttotal: 5m 57s\tremaining: 5m 32s\n",
            "518:\tlearn: 0.7091667\ttotal: 5m 58s\tremaining: 5m 31s\n",
            "519:\tlearn: 0.7090161\ttotal: 5m 58s\tremaining: 5m 31s\n",
            "520:\tlearn: 0.7089377\ttotal: 5m 59s\tremaining: 5m 30s\n",
            "521:\tlearn: 0.7086869\ttotal: 6m\tremaining: 5m 29s\n",
            "522:\tlearn: 0.7085592\ttotal: 6m\tremaining: 5m 28s\n",
            "523:\tlearn: 0.7083604\ttotal: 6m 1s\tremaining: 5m 28s\n",
            "524:\tlearn: 0.7082708\ttotal: 6m 1s\tremaining: 5m 27s\n",
            "525:\tlearn: 0.7081384\ttotal: 6m 2s\tremaining: 5m 26s\n",
            "526:\tlearn: 0.7079985\ttotal: 6m 3s\tremaining: 5m 25s\n",
            "527:\tlearn: 0.7078854\ttotal: 6m 3s\tremaining: 5m 25s\n",
            "528:\tlearn: 0.7077959\ttotal: 6m 4s\tremaining: 5m 24s\n",
            "529:\tlearn: 0.7076095\ttotal: 6m 5s\tremaining: 5m 23s\n",
            "530:\tlearn: 0.7075090\ttotal: 6m 5s\tremaining: 5m 23s\n",
            "531:\tlearn: 0.7073389\ttotal: 6m 7s\tremaining: 5m 22s\n",
            "532:\tlearn: 0.7072447\ttotal: 6m 8s\tremaining: 5m 22s\n",
            "533:\tlearn: 0.7069050\ttotal: 6m 8s\tremaining: 5m 21s\n",
            "534:\tlearn: 0.7068066\ttotal: 6m 9s\tremaining: 5m 20s\n",
            "535:\tlearn: 0.7066793\ttotal: 6m 9s\tremaining: 5m 20s\n",
            "536:\tlearn: 0.7065068\ttotal: 6m 10s\tremaining: 5m 19s\n",
            "537:\tlearn: 0.7063403\ttotal: 6m 11s\tremaining: 5m 18s\n",
            "538:\tlearn: 0.7062628\ttotal: 6m 11s\tremaining: 5m 17s\n",
            "539:\tlearn: 0.7060782\ttotal: 6m 12s\tremaining: 5m 17s\n",
            "540:\tlearn: 0.7059555\ttotal: 6m 13s\tremaining: 5m 16s\n",
            "541:\tlearn: 0.7058354\ttotal: 6m 13s\tremaining: 5m 15s\n",
            "542:\tlearn: 0.7056273\ttotal: 6m 14s\tremaining: 5m 15s\n",
            "543:\tlearn: 0.7054043\ttotal: 6m 14s\tremaining: 5m 14s\n",
            "544:\tlearn: 0.7052946\ttotal: 6m 15s\tremaining: 5m 13s\n",
            "545:\tlearn: 0.7051958\ttotal: 6m 16s\tremaining: 5m 12s\n",
            "546:\tlearn: 0.7050861\ttotal: 6m 16s\tremaining: 5m 12s\n",
            "547:\tlearn: 0.7049332\ttotal: 6m 17s\tremaining: 5m 11s\n",
            "548:\tlearn: 0.7047771\ttotal: 6m 18s\tremaining: 5m 10s\n",
            "549:\tlearn: 0.7046666\ttotal: 6m 19s\tremaining: 5m 10s\n",
            "550:\tlearn: 0.7045385\ttotal: 6m 20s\tremaining: 5m 9s\n",
            "551:\tlearn: 0.7044749\ttotal: 6m 21s\tremaining: 5m 9s\n",
            "552:\tlearn: 0.7043277\ttotal: 6m 21s\tremaining: 5m 8s\n",
            "553:\tlearn: 0.7042349\ttotal: 6m 22s\tremaining: 5m 7s\n",
            "554:\tlearn: 0.7041647\ttotal: 6m 22s\tremaining: 5m 7s\n",
            "555:\tlearn: 0.7040982\ttotal: 6m 23s\tremaining: 5m 6s\n",
            "556:\tlearn: 0.7039544\ttotal: 6m 24s\tremaining: 5m 5s\n",
            "557:\tlearn: 0.7038380\ttotal: 6m 24s\tremaining: 5m 4s\n",
            "558:\tlearn: 0.7037360\ttotal: 6m 25s\tremaining: 5m 4s\n",
            "559:\tlearn: 0.7036114\ttotal: 6m 26s\tremaining: 5m 3s\n",
            "560:\tlearn: 0.7035233\ttotal: 6m 26s\tremaining: 5m 2s\n",
            "561:\tlearn: 0.7032594\ttotal: 6m 27s\tremaining: 5m 1s\n",
            "562:\tlearn: 0.7031479\ttotal: 6m 28s\tremaining: 5m 1s\n",
            "563:\tlearn: 0.7030906\ttotal: 6m 28s\tremaining: 5m\n",
            "564:\tlearn: 0.7029185\ttotal: 6m 29s\tremaining: 4m 59s\n",
            "565:\tlearn: 0.7027214\ttotal: 6m 29s\tremaining: 4m 58s\n",
            "566:\tlearn: 0.7026554\ttotal: 6m 30s\tremaining: 4m 58s\n",
            "567:\tlearn: 0.7025387\ttotal: 6m 31s\tremaining: 4m 57s\n",
            "568:\tlearn: 0.7023371\ttotal: 6m 32s\tremaining: 4m 57s\n",
            "569:\tlearn: 0.7022124\ttotal: 6m 33s\tremaining: 4m 56s\n",
            "570:\tlearn: 0.7020871\ttotal: 6m 34s\tremaining: 4m 56s\n",
            "571:\tlearn: 0.7019855\ttotal: 6m 34s\tremaining: 4m 55s\n",
            "572:\tlearn: 0.7017977\ttotal: 6m 35s\tremaining: 4m 54s\n",
            "573:\tlearn: 0.7016821\ttotal: 6m 36s\tremaining: 4m 53s\n",
            "574:\tlearn: 0.7016325\ttotal: 6m 36s\tremaining: 4m 53s\n",
            "575:\tlearn: 0.7014914\ttotal: 6m 37s\tremaining: 4m 52s\n",
            "576:\tlearn: 0.7014009\ttotal: 6m 37s\tremaining: 4m 51s\n",
            "577:\tlearn: 0.7013223\ttotal: 6m 38s\tremaining: 4m 50s\n",
            "578:\tlearn: 0.7012134\ttotal: 6m 39s\tremaining: 4m 50s\n",
            "579:\tlearn: 0.7011129\ttotal: 6m 39s\tremaining: 4m 49s\n",
            "580:\tlearn: 0.7010337\ttotal: 6m 40s\tremaining: 4m 48s\n",
            "581:\tlearn: 0.7008468\ttotal: 6m 41s\tremaining: 4m 48s\n",
            "582:\tlearn: 0.7007188\ttotal: 6m 41s\tremaining: 4m 47s\n",
            "583:\tlearn: 0.7006373\ttotal: 6m 42s\tremaining: 4m 46s\n",
            "584:\tlearn: 0.7004437\ttotal: 6m 42s\tremaining: 4m 45s\n",
            "585:\tlearn: 0.7003799\ttotal: 6m 43s\tremaining: 4m 45s\n",
            "586:\tlearn: 0.7002740\ttotal: 6m 44s\tremaining: 4m 44s\n",
            "587:\tlearn: 0.7001945\ttotal: 6m 45s\tremaining: 4m 44s\n",
            "588:\tlearn: 0.6999956\ttotal: 6m 46s\tremaining: 4m 43s\n",
            "589:\tlearn: 0.6998901\ttotal: 6m 47s\tremaining: 4m 42s\n",
            "590:\tlearn: 0.6997752\ttotal: 6m 47s\tremaining: 4m 42s\n",
            "591:\tlearn: 0.6997027\ttotal: 6m 48s\tremaining: 4m 41s\n",
            "592:\tlearn: 0.6996379\ttotal: 6m 48s\tremaining: 4m 40s\n",
            "593:\tlearn: 0.6994739\ttotal: 6m 49s\tremaining: 4m 39s\n",
            "594:\tlearn: 0.6994334\ttotal: 6m 50s\tremaining: 4m 39s\n",
            "595:\tlearn: 0.6993537\ttotal: 6m 50s\tremaining: 4m 38s\n",
            "596:\tlearn: 0.6991530\ttotal: 6m 51s\tremaining: 4m 37s\n",
            "597:\tlearn: 0.6989946\ttotal: 6m 52s\tremaining: 4m 37s\n",
            "598:\tlearn: 0.6988713\ttotal: 6m 52s\tremaining: 4m 36s\n",
            "599:\tlearn: 0.6987656\ttotal: 6m 53s\tremaining: 4m 35s\n",
            "600:\tlearn: 0.6986587\ttotal: 6m 53s\tremaining: 4m 34s\n",
            "601:\tlearn: 0.6985905\ttotal: 6m 54s\tremaining: 4m 34s\n",
            "602:\tlearn: 0.6984679\ttotal: 6m 55s\tremaining: 4m 33s\n",
            "603:\tlearn: 0.6983512\ttotal: 6m 55s\tremaining: 4m 32s\n",
            "604:\tlearn: 0.6980956\ttotal: 6m 56s\tremaining: 4m 31s\n",
            "605:\tlearn: 0.6979814\ttotal: 6m 57s\tremaining: 4m 31s\n",
            "606:\tlearn: 0.6979009\ttotal: 6m 58s\tremaining: 4m 31s\n",
            "607:\tlearn: 0.6977714\ttotal: 6m 59s\tremaining: 4m 30s\n",
            "608:\tlearn: 0.6976640\ttotal: 7m\tremaining: 4m 29s\n",
            "609:\tlearn: 0.6973147\ttotal: 7m\tremaining: 4m 28s\n",
            "610:\tlearn: 0.6972225\ttotal: 7m 1s\tremaining: 4m 28s\n",
            "611:\tlearn: 0.6971435\ttotal: 7m 1s\tremaining: 4m 27s\n",
            "612:\tlearn: 0.6969862\ttotal: 7m 2s\tremaining: 4m 26s\n",
            "613:\tlearn: 0.6968467\ttotal: 7m 3s\tremaining: 4m 26s\n",
            "614:\tlearn: 0.6967801\ttotal: 7m 3s\tremaining: 4m 25s\n",
            "615:\tlearn: 0.6967037\ttotal: 7m 4s\tremaining: 4m 24s\n",
            "616:\tlearn: 0.6966265\ttotal: 7m 5s\tremaining: 4m 23s\n",
            "617:\tlearn: 0.6965190\ttotal: 7m 5s\tremaining: 4m 23s\n",
            "618:\tlearn: 0.6963682\ttotal: 7m 6s\tremaining: 4m 22s\n",
            "619:\tlearn: 0.6962881\ttotal: 7m 6s\tremaining: 4m 21s\n",
            "620:\tlearn: 0.6961980\ttotal: 7m 7s\tremaining: 4m 20s\n",
            "621:\tlearn: 0.6961383\ttotal: 7m 8s\tremaining: 4m 20s\n",
            "622:\tlearn: 0.6960308\ttotal: 7m 8s\tremaining: 4m 19s\n",
            "623:\tlearn: 0.6959219\ttotal: 7m 9s\tremaining: 4m 18s\n",
            "624:\tlearn: 0.6958331\ttotal: 7m 10s\tremaining: 4m 18s\n",
            "625:\tlearn: 0.6957671\ttotal: 7m 11s\tremaining: 4m 17s\n",
            "626:\tlearn: 0.6956871\ttotal: 7m 12s\tremaining: 4m 17s\n",
            "627:\tlearn: 0.6956092\ttotal: 7m 12s\tremaining: 4m 16s\n",
            "628:\tlearn: 0.6954971\ttotal: 7m 13s\tremaining: 4m 15s\n",
            "629:\tlearn: 0.6954050\ttotal: 7m 14s\tremaining: 4m 15s\n",
            "630:\tlearn: 0.6952027\ttotal: 7m 14s\tremaining: 4m 14s\n",
            "631:\tlearn: 0.6950960\ttotal: 7m 15s\tremaining: 4m 13s\n",
            "632:\tlearn: 0.6950097\ttotal: 7m 16s\tremaining: 4m 12s\n",
            "633:\tlearn: 0.6948526\ttotal: 7m 16s\tremaining: 4m 12s\n",
            "634:\tlearn: 0.6947081\ttotal: 7m 17s\tremaining: 4m 11s\n",
            "635:\tlearn: 0.6944837\ttotal: 7m 18s\tremaining: 4m 10s\n",
            "636:\tlearn: 0.6943921\ttotal: 7m 18s\tremaining: 4m 9s\n",
            "637:\tlearn: 0.6942817\ttotal: 7m 19s\tremaining: 4m 9s\n",
            "638:\tlearn: 0.6942130\ttotal: 7m 19s\tremaining: 4m 8s\n",
            "639:\tlearn: 0.6941221\ttotal: 7m 20s\tremaining: 4m 7s\n",
            "640:\tlearn: 0.6940188\ttotal: 7m 21s\tremaining: 4m 7s\n",
            "641:\tlearn: 0.6939054\ttotal: 7m 21s\tremaining: 4m 6s\n",
            "642:\tlearn: 0.6938055\ttotal: 7m 22s\tremaining: 4m 5s\n",
            "643:\tlearn: 0.6937247\ttotal: 7m 23s\tremaining: 4m 5s\n",
            "644:\tlearn: 0.6935530\ttotal: 7m 24s\tremaining: 4m 4s\n",
            "645:\tlearn: 0.6934451\ttotal: 7m 25s\tremaining: 4m 4s\n",
            "646:\tlearn: 0.6933526\ttotal: 7m 26s\tremaining: 4m 3s\n",
            "647:\tlearn: 0.6932754\ttotal: 7m 27s\tremaining: 4m 3s\n",
            "648:\tlearn: 0.6931902\ttotal: 7m 28s\tremaining: 4m 2s\n",
            "649:\tlearn: 0.6929450\ttotal: 7m 29s\tremaining: 4m 1s\n",
            "650:\tlearn: 0.6928079\ttotal: 7m 29s\tremaining: 4m 1s\n",
            "651:\tlearn: 0.6927252\ttotal: 7m 30s\tremaining: 4m\n",
            "652:\tlearn: 0.6926304\ttotal: 7m 30s\tremaining: 3m 59s\n",
            "653:\tlearn: 0.6924861\ttotal: 7m 31s\tremaining: 3m 58s\n",
            "654:\tlearn: 0.6923990\ttotal: 7m 32s\tremaining: 3m 58s\n",
            "655:\tlearn: 0.6923102\ttotal: 7m 32s\tremaining: 3m 57s\n",
            "656:\tlearn: 0.6922068\ttotal: 7m 33s\tremaining: 3m 56s\n",
            "657:\tlearn: 0.6920559\ttotal: 7m 34s\tremaining: 3m 55s\n",
            "658:\tlearn: 0.6919880\ttotal: 7m 34s\tremaining: 3m 55s\n",
            "659:\tlearn: 0.6918793\ttotal: 7m 35s\tremaining: 3m 54s\n",
            "660:\tlearn: 0.6918111\ttotal: 7m 35s\tremaining: 3m 53s\n",
            "661:\tlearn: 0.6917465\ttotal: 7m 36s\tremaining: 3m 53s\n",
            "662:\tlearn: 0.6916835\ttotal: 7m 37s\tremaining: 3m 52s\n",
            "663:\tlearn: 0.6915851\ttotal: 7m 37s\tremaining: 3m 51s\n",
            "664:\tlearn: 0.6915161\ttotal: 7m 38s\tremaining: 3m 51s\n",
            "665:\tlearn: 0.6913547\ttotal: 7m 40s\tremaining: 3m 50s\n",
            "666:\tlearn: 0.6911689\ttotal: 7m 40s\tremaining: 3m 50s\n",
            "667:\tlearn: 0.6910780\ttotal: 7m 41s\tremaining: 3m 49s\n",
            "668:\tlearn: 0.6909635\ttotal: 7m 42s\tremaining: 3m 48s\n",
            "669:\tlearn: 0.6908456\ttotal: 7m 42s\tremaining: 3m 47s\n",
            "670:\tlearn: 0.6907385\ttotal: 7m 43s\tremaining: 3m 47s\n",
            "671:\tlearn: 0.6906764\ttotal: 7m 43s\tremaining: 3m 46s\n",
            "672:\tlearn: 0.6905983\ttotal: 7m 44s\tremaining: 3m 45s\n",
            "673:\tlearn: 0.6904977\ttotal: 7m 45s\tremaining: 3m 44s\n",
            "674:\tlearn: 0.6903186\ttotal: 7m 45s\tremaining: 3m 44s\n",
            "675:\tlearn: 0.6902225\ttotal: 7m 46s\tremaining: 3m 43s\n",
            "676:\tlearn: 0.6901138\ttotal: 7m 47s\tremaining: 3m 42s\n",
            "677:\tlearn: 0.6900220\ttotal: 7m 47s\tremaining: 3m 42s\n",
            "678:\tlearn: 0.6899484\ttotal: 7m 48s\tremaining: 3m 41s\n",
            "679:\tlearn: 0.6898392\ttotal: 7m 48s\tremaining: 3m 40s\n",
            "680:\tlearn: 0.6897230\ttotal: 7m 49s\tremaining: 3m 39s\n",
            "681:\tlearn: 0.6896062\ttotal: 7m 50s\tremaining: 3m 39s\n",
            "682:\tlearn: 0.6895103\ttotal: 7m 51s\tremaining: 3m 38s\n",
            "683:\tlearn: 0.6892793\ttotal: 7m 52s\tremaining: 3m 38s\n",
            "684:\tlearn: 0.6891928\ttotal: 7m 53s\tremaining: 3m 37s\n",
            "685:\tlearn: 0.6890606\ttotal: 7m 53s\tremaining: 3m 36s\n",
            "686:\tlearn: 0.6889684\ttotal: 7m 54s\tremaining: 3m 36s\n",
            "687:\tlearn: 0.6888795\ttotal: 7m 55s\tremaining: 3m 35s\n",
            "688:\tlearn: 0.6887982\ttotal: 7m 55s\tremaining: 3m 34s\n",
            "689:\tlearn: 0.6886793\ttotal: 7m 56s\tremaining: 3m 34s\n",
            "690:\tlearn: 0.6886140\ttotal: 7m 56s\tremaining: 3m 33s\n",
            "691:\tlearn: 0.6885035\ttotal: 7m 57s\tremaining: 3m 32s\n",
            "692:\tlearn: 0.6883835\ttotal: 7m 58s\tremaining: 3m 31s\n",
            "693:\tlearn: 0.6882955\ttotal: 7m 58s\tremaining: 3m 31s\n",
            "694:\tlearn: 0.6881849\ttotal: 7m 59s\tremaining: 3m 30s\n",
            "695:\tlearn: 0.6880950\ttotal: 8m\tremaining: 3m 29s\n",
            "696:\tlearn: 0.6880239\ttotal: 8m\tremaining: 3m 28s\n",
            "697:\tlearn: 0.6879152\ttotal: 8m 1s\tremaining: 3m 28s\n",
            "698:\tlearn: 0.6878326\ttotal: 8m 1s\tremaining: 3m 27s\n",
            "699:\tlearn: 0.6876605\ttotal: 8m 2s\tremaining: 3m 26s\n",
            "700:\tlearn: 0.6875149\ttotal: 8m 3s\tremaining: 3m 26s\n",
            "701:\tlearn: 0.6874434\ttotal: 8m 4s\tremaining: 3m 25s\n",
            "702:\tlearn: 0.6873634\ttotal: 8m 5s\tremaining: 3m 24s\n",
            "703:\tlearn: 0.6871989\ttotal: 8m 6s\tremaining: 3m 24s\n",
            "704:\tlearn: 0.6870905\ttotal: 8m 6s\tremaining: 3m 23s\n",
            "705:\tlearn: 0.6870076\ttotal: 8m 7s\tremaining: 3m 22s\n",
            "706:\tlearn: 0.6868960\ttotal: 8m 8s\tremaining: 3m 22s\n",
            "707:\tlearn: 0.6868279\ttotal: 8m 8s\tremaining: 3m 21s\n",
            "708:\tlearn: 0.6867691\ttotal: 8m 9s\tremaining: 3m 20s\n",
            "709:\tlearn: 0.6866506\ttotal: 8m 9s\tremaining: 3m 20s\n",
            "710:\tlearn: 0.6864980\ttotal: 8m 10s\tremaining: 3m 19s\n",
            "711:\tlearn: 0.6864237\ttotal: 8m 11s\tremaining: 3m 18s\n",
            "712:\tlearn: 0.6863703\ttotal: 8m 11s\tremaining: 3m 17s\n",
            "713:\tlearn: 0.6862854\ttotal: 8m 12s\tremaining: 3m 17s\n",
            "714:\tlearn: 0.6861807\ttotal: 8m 13s\tremaining: 3m 16s\n",
            "715:\tlearn: 0.6860054\ttotal: 8m 13s\tremaining: 3m 15s\n",
            "716:\tlearn: 0.6859366\ttotal: 8m 14s\tremaining: 3m 15s\n",
            "717:\tlearn: 0.6858727\ttotal: 8m 14s\tremaining: 3m 14s\n",
            "718:\tlearn: 0.6857763\ttotal: 8m 15s\tremaining: 3m 13s\n",
            "719:\tlearn: 0.6856650\ttotal: 8m 16s\tremaining: 3m 12s\n",
            "720:\tlearn: 0.6855601\ttotal: 8m 17s\tremaining: 3m 12s\n",
            "721:\tlearn: 0.6854017\ttotal: 8m 18s\tremaining: 3m 11s\n",
            "722:\tlearn: 0.6852564\ttotal: 8m 19s\tremaining: 3m 11s\n",
            "723:\tlearn: 0.6851939\ttotal: 8m 19s\tremaining: 3m 10s\n",
            "724:\tlearn: 0.6850677\ttotal: 8m 20s\tremaining: 3m 9s\n",
            "725:\tlearn: 0.6849891\ttotal: 8m 21s\tremaining: 3m 9s\n",
            "726:\tlearn: 0.6848220\ttotal: 8m 21s\tremaining: 3m 8s\n",
            "727:\tlearn: 0.6847605\ttotal: 8m 22s\tremaining: 3m 7s\n",
            "728:\tlearn: 0.6846682\ttotal: 8m 22s\tremaining: 3m 6s\n",
            "729:\tlearn: 0.6844575\ttotal: 8m 23s\tremaining: 3m 6s\n",
            "730:\tlearn: 0.6842885\ttotal: 8m 24s\tremaining: 3m 5s\n",
            "731:\tlearn: 0.6842185\ttotal: 8m 24s\tremaining: 3m 4s\n",
            "732:\tlearn: 0.6841395\ttotal: 8m 25s\tremaining: 3m 4s\n",
            "733:\tlearn: 0.6840532\ttotal: 8m 26s\tremaining: 3m 3s\n",
            "734:\tlearn: 0.6839345\ttotal: 8m 26s\tremaining: 3m 2s\n",
            "735:\tlearn: 0.6837875\ttotal: 8m 27s\tremaining: 3m 1s\n",
            "736:\tlearn: 0.6836525\ttotal: 8m 28s\tremaining: 3m 1s\n",
            "737:\tlearn: 0.6835699\ttotal: 8m 28s\tremaining: 3m\n",
            "738:\tlearn: 0.6834752\ttotal: 8m 29s\tremaining: 2m 59s\n",
            "739:\tlearn: 0.6834154\ttotal: 8m 30s\tremaining: 2m 59s\n",
            "740:\tlearn: 0.6833510\ttotal: 8m 31s\tremaining: 2m 58s\n",
            "741:\tlearn: 0.6832554\ttotal: 8m 32s\tremaining: 2m 58s\n",
            "742:\tlearn: 0.6831437\ttotal: 8m 32s\tremaining: 2m 57s\n",
            "743:\tlearn: 0.6830467\ttotal: 8m 33s\tremaining: 2m 56s\n",
            "744:\tlearn: 0.6829350\ttotal: 8m 34s\tremaining: 2m 55s\n",
            "745:\tlearn: 0.6828230\ttotal: 8m 34s\tremaining: 2m 55s\n",
            "746:\tlearn: 0.6827259\ttotal: 8m 35s\tremaining: 2m 54s\n",
            "747:\tlearn: 0.6826336\ttotal: 8m 36s\tremaining: 2m 53s\n",
            "748:\tlearn: 0.6825632\ttotal: 8m 36s\tremaining: 2m 53s\n",
            "749:\tlearn: 0.6824508\ttotal: 8m 37s\tremaining: 2m 52s\n",
            "750:\tlearn: 0.6823238\ttotal: 8m 37s\tremaining: 2m 51s\n",
            "751:\tlearn: 0.6821878\ttotal: 8m 38s\tremaining: 2m 51s\n",
            "752:\tlearn: 0.6820546\ttotal: 8m 39s\tremaining: 2m 50s\n",
            "753:\tlearn: 0.6819916\ttotal: 8m 39s\tremaining: 2m 49s\n",
            "754:\tlearn: 0.6818661\ttotal: 8m 40s\tremaining: 2m 48s\n",
            "755:\tlearn: 0.6817356\ttotal: 8m 41s\tremaining: 2m 48s\n",
            "756:\tlearn: 0.6816795\ttotal: 8m 41s\tremaining: 2m 47s\n",
            "757:\tlearn: 0.6816111\ttotal: 8m 42s\tremaining: 2m 46s\n",
            "758:\tlearn: 0.6815161\ttotal: 8m 43s\tremaining: 2m 46s\n",
            "759:\tlearn: 0.6814627\ttotal: 8m 44s\tremaining: 2m 45s\n",
            "760:\tlearn: 0.6813013\ttotal: 8m 45s\tremaining: 2m 44s\n",
            "761:\tlearn: 0.6812202\ttotal: 8m 45s\tremaining: 2m 44s\n",
            "762:\tlearn: 0.6811446\ttotal: 8m 46s\tremaining: 2m 43s\n",
            "763:\tlearn: 0.6810444\ttotal: 8m 47s\tremaining: 2m 42s\n",
            "764:\tlearn: 0.6809540\ttotal: 8m 47s\tremaining: 2m 42s\n",
            "765:\tlearn: 0.6808053\ttotal: 8m 48s\tremaining: 2m 41s\n",
            "766:\tlearn: 0.6807198\ttotal: 8m 49s\tremaining: 2m 40s\n",
            "767:\tlearn: 0.6806508\ttotal: 8m 49s\tremaining: 2m 40s\n",
            "768:\tlearn: 0.6806128\ttotal: 8m 50s\tremaining: 2m 39s\n",
            "769:\tlearn: 0.6805292\ttotal: 8m 50s\tremaining: 2m 38s\n",
            "770:\tlearn: 0.6804619\ttotal: 8m 51s\tremaining: 2m 37s\n",
            "771:\tlearn: 0.6803949\ttotal: 8m 52s\tremaining: 2m 37s\n",
            "772:\tlearn: 0.6803027\ttotal: 8m 52s\tremaining: 2m 36s\n",
            "773:\tlearn: 0.6801769\ttotal: 8m 53s\tremaining: 2m 35s\n",
            "774:\tlearn: 0.6800407\ttotal: 8m 54s\tremaining: 2m 35s\n",
            "775:\tlearn: 0.6799107\ttotal: 8m 54s\tremaining: 2m 34s\n",
            "776:\tlearn: 0.6798500\ttotal: 8m 56s\tremaining: 2m 33s\n",
            "777:\tlearn: 0.6797518\ttotal: 8m 57s\tremaining: 2m 33s\n",
            "778:\tlearn: 0.6794047\ttotal: 8m 57s\tremaining: 2m 32s\n",
            "779:\tlearn: 0.6793008\ttotal: 8m 58s\tremaining: 2m 31s\n",
            "780:\tlearn: 0.6791979\ttotal: 8m 58s\tremaining: 2m 31s\n",
            "781:\tlearn: 0.6791465\ttotal: 8m 59s\tremaining: 2m 30s\n",
            "782:\tlearn: 0.6790073\ttotal: 9m\tremaining: 2m 29s\n",
            "783:\tlearn: 0.6788039\ttotal: 9m\tremaining: 2m 29s\n",
            "784:\tlearn: 0.6787182\ttotal: 9m 1s\tremaining: 2m 28s\n",
            "785:\tlearn: 0.6786499\ttotal: 9m 2s\tremaining: 2m 27s\n",
            "786:\tlearn: 0.6785688\ttotal: 9m 2s\tremaining: 2m 26s\n",
            "787:\tlearn: 0.6784182\ttotal: 9m 3s\tremaining: 2m 26s\n",
            "788:\tlearn: 0.6783516\ttotal: 9m 3s\tremaining: 2m 25s\n",
            "789:\tlearn: 0.6782586\ttotal: 9m 4s\tremaining: 2m 24s\n",
            "790:\tlearn: 0.6782033\ttotal: 9m 5s\tremaining: 2m 24s\n",
            "791:\tlearn: 0.6781152\ttotal: 9m 5s\tremaining: 2m 23s\n",
            "792:\tlearn: 0.6780529\ttotal: 9m 6s\tremaining: 2m 22s\n",
            "793:\tlearn: 0.6778987\ttotal: 9m 7s\tremaining: 2m 21s\n",
            "794:\tlearn: 0.6777971\ttotal: 9m 7s\tremaining: 2m 21s\n",
            "795:\tlearn: 0.6776904\ttotal: 9m 9s\tremaining: 2m 20s\n",
            "796:\tlearn: 0.6775552\ttotal: 9m 10s\tremaining: 2m 20s\n",
            "797:\tlearn: 0.6774494\ttotal: 9m 10s\tremaining: 2m 19s\n",
            "798:\tlearn: 0.6773278\ttotal: 9m 11s\tremaining: 2m 18s\n",
            "799:\tlearn: 0.6772415\ttotal: 9m 11s\tremaining: 2m 17s\n",
            "800:\tlearn: 0.6771749\ttotal: 9m 12s\tremaining: 2m 17s\n",
            "801:\tlearn: 0.6770888\ttotal: 9m 13s\tremaining: 2m 16s\n",
            "802:\tlearn: 0.6770043\ttotal: 9m 13s\tremaining: 2m 15s\n",
            "803:\tlearn: 0.6768992\ttotal: 9m 14s\tremaining: 2m 15s\n",
            "804:\tlearn: 0.6767512\ttotal: 9m 15s\tremaining: 2m 14s\n",
            "805:\tlearn: 0.6766404\ttotal: 9m 15s\tremaining: 2m 13s\n",
            "806:\tlearn: 0.6765441\ttotal: 9m 16s\tremaining: 2m 13s\n",
            "807:\tlearn: 0.6764493\ttotal: 9m 16s\tremaining: 2m 12s\n",
            "808:\tlearn: 0.6763723\ttotal: 9m 17s\tremaining: 2m 11s\n",
            "809:\tlearn: 0.6763006\ttotal: 9m 18s\tremaining: 2m 10s\n",
            "810:\tlearn: 0.6761895\ttotal: 9m 18s\tremaining: 2m 10s\n",
            "811:\tlearn: 0.6761559\ttotal: 9m 19s\tremaining: 2m 9s\n",
            "812:\tlearn: 0.6760085\ttotal: 9m 20s\tremaining: 2m 8s\n",
            "813:\tlearn: 0.6758956\ttotal: 9m 21s\tremaining: 2m 8s\n",
            "814:\tlearn: 0.6757398\ttotal: 9m 22s\tremaining: 2m 7s\n",
            "815:\tlearn: 0.6756393\ttotal: 9m 23s\tremaining: 2m 6s\n",
            "816:\tlearn: 0.6755587\ttotal: 9m 23s\tremaining: 2m 6s\n",
            "817:\tlearn: 0.6754263\ttotal: 9m 24s\tremaining: 2m 5s\n",
            "818:\tlearn: 0.6753086\ttotal: 9m 24s\tremaining: 2m 4s\n",
            "819:\tlearn: 0.6752068\ttotal: 9m 25s\tremaining: 2m 4s\n",
            "820:\tlearn: 0.6750961\ttotal: 9m 26s\tremaining: 2m 3s\n",
            "821:\tlearn: 0.6749982\ttotal: 9m 26s\tremaining: 2m 2s\n",
            "822:\tlearn: 0.6748968\ttotal: 9m 27s\tremaining: 2m 2s\n",
            "823:\tlearn: 0.6748092\ttotal: 9m 28s\tremaining: 2m 1s\n",
            "824:\tlearn: 0.6747351\ttotal: 9m 28s\tremaining: 2m\n",
            "825:\tlearn: 0.6746469\ttotal: 9m 29s\tremaining: 1m 59s\n",
            "826:\tlearn: 0.6745911\ttotal: 9m 29s\tremaining: 1m 59s\n",
            "827:\tlearn: 0.6745031\ttotal: 9m 30s\tremaining: 1m 58s\n",
            "828:\tlearn: 0.6743575\ttotal: 9m 31s\tremaining: 1m 57s\n",
            "829:\tlearn: 0.6743046\ttotal: 9m 31s\tremaining: 1m 57s\n",
            "830:\tlearn: 0.6742063\ttotal: 9m 32s\tremaining: 1m 56s\n",
            "831:\tlearn: 0.6741227\ttotal: 9m 33s\tremaining: 1m 55s\n",
            "832:\tlearn: 0.6740069\ttotal: 9m 34s\tremaining: 1m 55s\n",
            "833:\tlearn: 0.6739324\ttotal: 9m 35s\tremaining: 1m 54s\n",
            "834:\tlearn: 0.6738533\ttotal: 9m 36s\tremaining: 1m 53s\n",
            "835:\tlearn: 0.6737604\ttotal: 9m 36s\tremaining: 1m 53s\n",
            "836:\tlearn: 0.6736832\ttotal: 9m 37s\tremaining: 1m 52s\n",
            "837:\tlearn: 0.6734442\ttotal: 9m 37s\tremaining: 1m 51s\n",
            "838:\tlearn: 0.6733418\ttotal: 9m 38s\tremaining: 1m 51s\n",
            "839:\tlearn: 0.6732162\ttotal: 9m 39s\tremaining: 1m 50s\n",
            "840:\tlearn: 0.6731086\ttotal: 9m 39s\tremaining: 1m 49s\n",
            "841:\tlearn: 0.6729707\ttotal: 9m 40s\tremaining: 1m 48s\n",
            "842:\tlearn: 0.6727086\ttotal: 9m 41s\tremaining: 1m 48s\n",
            "843:\tlearn: 0.6726247\ttotal: 9m 41s\tremaining: 1m 47s\n",
            "844:\tlearn: 0.6725689\ttotal: 9m 42s\tremaining: 1m 46s\n",
            "845:\tlearn: 0.6724707\ttotal: 9m 42s\tremaining: 1m 46s\n",
            "846:\tlearn: 0.6723379\ttotal: 9m 43s\tremaining: 1m 45s\n",
            "847:\tlearn: 0.6722863\ttotal: 9m 44s\tremaining: 1m 44s\n",
            "848:\tlearn: 0.6721215\ttotal: 9m 44s\tremaining: 1m 44s\n",
            "849:\tlearn: 0.6720306\ttotal: 9m 45s\tremaining: 1m 43s\n",
            "850:\tlearn: 0.6719399\ttotal: 9m 46s\tremaining: 1m 42s\n",
            "851:\tlearn: 0.6718398\ttotal: 9m 47s\tremaining: 1m 42s\n",
            "852:\tlearn: 0.6717569\ttotal: 9m 48s\tremaining: 1m 41s\n",
            "853:\tlearn: 0.6716652\ttotal: 9m 49s\tremaining: 1m 40s\n",
            "854:\tlearn: 0.6715504\ttotal: 9m 49s\tremaining: 1m 40s\n",
            "855:\tlearn: 0.6714656\ttotal: 9m 50s\tremaining: 1m 39s\n",
            "856:\tlearn: 0.6713962\ttotal: 9m 50s\tremaining: 1m 38s\n",
            "857:\tlearn: 0.6713436\ttotal: 9m 51s\tremaining: 1m 37s\n",
            "858:\tlearn: 0.6712578\ttotal: 9m 52s\tremaining: 1m 37s\n",
            "859:\tlearn: 0.6711345\ttotal: 9m 52s\tremaining: 1m 36s\n",
            "860:\tlearn: 0.6709904\ttotal: 9m 53s\tremaining: 1m 35s\n",
            "861:\tlearn: 0.6709109\ttotal: 9m 54s\tremaining: 1m 35s\n",
            "862:\tlearn: 0.6708220\ttotal: 9m 54s\tremaining: 1m 34s\n",
            "863:\tlearn: 0.6707492\ttotal: 9m 55s\tremaining: 1m 33s\n",
            "864:\tlearn: 0.6706808\ttotal: 9m 55s\tremaining: 1m 33s\n",
            "865:\tlearn: 0.6706344\ttotal: 9m 56s\tremaining: 1m 32s\n",
            "866:\tlearn: 0.6705219\ttotal: 9m 57s\tremaining: 1m 31s\n",
            "867:\tlearn: 0.6704663\ttotal: 9m 57s\tremaining: 1m 30s\n",
            "868:\tlearn: 0.6703862\ttotal: 9m 58s\tremaining: 1m 30s\n",
            "869:\tlearn: 0.6702922\ttotal: 9m 59s\tremaining: 1m 29s\n",
            "870:\tlearn: 0.6702264\ttotal: 10m\tremaining: 1m 28s\n",
            "871:\tlearn: 0.6701416\ttotal: 10m 1s\tremaining: 1m 28s\n",
            "872:\tlearn: 0.6700605\ttotal: 10m 2s\tremaining: 1m 27s\n",
            "873:\tlearn: 0.6700148\ttotal: 10m 2s\tremaining: 1m 26s\n",
            "874:\tlearn: 0.6698877\ttotal: 10m 3s\tremaining: 1m 26s\n",
            "875:\tlearn: 0.6698401\ttotal: 10m 3s\tremaining: 1m 25s\n",
            "876:\tlearn: 0.6697504\ttotal: 10m 4s\tremaining: 1m 24s\n",
            "877:\tlearn: 0.6695993\ttotal: 10m 5s\tremaining: 1m 24s\n",
            "878:\tlearn: 0.6694831\ttotal: 10m 5s\tremaining: 1m 23s\n",
            "879:\tlearn: 0.6694086\ttotal: 10m 6s\tremaining: 1m 22s\n",
            "880:\tlearn: 0.6693594\ttotal: 10m 7s\tremaining: 1m 22s\n",
            "881:\tlearn: 0.6692671\ttotal: 10m 7s\tremaining: 1m 21s\n",
            "882:\tlearn: 0.6691941\ttotal: 10m 8s\tremaining: 1m 20s\n",
            "883:\tlearn: 0.6691224\ttotal: 10m 8s\tremaining: 1m 19s\n",
            "884:\tlearn: 0.6690323\ttotal: 10m 9s\tremaining: 1m 19s\n",
            "885:\tlearn: 0.6688659\ttotal: 10m 10s\tremaining: 1m 18s\n",
            "886:\tlearn: 0.6687865\ttotal: 10m 10s\tremaining: 1m 17s\n",
            "887:\tlearn: 0.6686945\ttotal: 10m 11s\tremaining: 1m 17s\n",
            "888:\tlearn: 0.6686137\ttotal: 10m 12s\tremaining: 1m 16s\n",
            "889:\tlearn: 0.6685320\ttotal: 10m 13s\tremaining: 1m 15s\n",
            "890:\tlearn: 0.6684473\ttotal: 10m 14s\tremaining: 1m 15s\n",
            "891:\tlearn: 0.6683633\ttotal: 10m 15s\tremaining: 1m 14s\n",
            "892:\tlearn: 0.6682218\ttotal: 10m 15s\tremaining: 1m 13s\n",
            "893:\tlearn: 0.6681175\ttotal: 10m 16s\tremaining: 1m 13s\n",
            "894:\tlearn: 0.6680311\ttotal: 10m 16s\tremaining: 1m 12s\n",
            "895:\tlearn: 0.6679568\ttotal: 10m 17s\tremaining: 1m 11s\n",
            "896:\tlearn: 0.6678475\ttotal: 10m 18s\tremaining: 1m 10s\n",
            "897:\tlearn: 0.6677203\ttotal: 10m 18s\tremaining: 1m 10s\n",
            "898:\tlearn: 0.6676061\ttotal: 10m 19s\tremaining: 1m 9s\n",
            "899:\tlearn: 0.6675383\ttotal: 10m 20s\tremaining: 1m 8s\n",
            "900:\tlearn: 0.6674952\ttotal: 10m 20s\tremaining: 1m 8s\n",
            "901:\tlearn: 0.6674136\ttotal: 10m 21s\tremaining: 1m 7s\n",
            "902:\tlearn: 0.6673223\ttotal: 10m 21s\tremaining: 1m 6s\n",
            "903:\tlearn: 0.6672218\ttotal: 10m 22s\tremaining: 1m 6s\n",
            "904:\tlearn: 0.6671389\ttotal: 10m 23s\tremaining: 1m 5s\n",
            "905:\tlearn: 0.6670876\ttotal: 10m 23s\tremaining: 1m 4s\n",
            "906:\tlearn: 0.6670200\ttotal: 10m 24s\tremaining: 1m 4s\n",
            "907:\tlearn: 0.6669632\ttotal: 10m 25s\tremaining: 1m 3s\n",
            "908:\tlearn: 0.6669206\ttotal: 10m 26s\tremaining: 1m 2s\n",
            "909:\tlearn: 0.6668421\ttotal: 10m 27s\tremaining: 1m 2s\n",
            "910:\tlearn: 0.6667654\ttotal: 10m 28s\tremaining: 1m 1s\n",
            "911:\tlearn: 0.6667081\ttotal: 10m 28s\tremaining: 1m\n",
            "912:\tlearn: 0.6666634\ttotal: 10m 29s\tremaining: 60s\n",
            "913:\tlearn: 0.6665821\ttotal: 10m 29s\tremaining: 59.3s\n",
            "914:\tlearn: 0.6665078\ttotal: 10m 30s\tremaining: 58.6s\n",
            "915:\tlearn: 0.6663823\ttotal: 10m 31s\tremaining: 57.9s\n",
            "916:\tlearn: 0.6663137\ttotal: 10m 31s\tremaining: 57.2s\n",
            "917:\tlearn: 0.6662261\ttotal: 10m 32s\tremaining: 56.5s\n",
            "918:\tlearn: 0.6660959\ttotal: 10m 33s\tremaining: 55.8s\n",
            "919:\tlearn: 0.6660535\ttotal: 10m 33s\tremaining: 55.1s\n",
            "920:\tlearn: 0.6659776\ttotal: 10m 34s\tremaining: 54.4s\n",
            "921:\tlearn: 0.6658144\ttotal: 10m 34s\tremaining: 53.7s\n",
            "922:\tlearn: 0.6657329\ttotal: 10m 35s\tremaining: 53s\n",
            "923:\tlearn: 0.6656610\ttotal: 10m 36s\tremaining: 52.3s\n",
            "924:\tlearn: 0.6655060\ttotal: 10m 36s\tremaining: 51.6s\n",
            "925:\tlearn: 0.6654115\ttotal: 10m 37s\tremaining: 50.9s\n",
            "926:\tlearn: 0.6653131\ttotal: 10m 38s\tremaining: 50.3s\n",
            "927:\tlearn: 0.6651865\ttotal: 10m 39s\tremaining: 49.6s\n",
            "928:\tlearn: 0.6651377\ttotal: 10m 40s\tremaining: 48.9s\n",
            "929:\tlearn: 0.6650538\ttotal: 10m 40s\tremaining: 48.2s\n",
            "930:\tlearn: 0.6649462\ttotal: 10m 41s\tremaining: 47.5s\n",
            "931:\tlearn: 0.6647622\ttotal: 10m 42s\tremaining: 46.9s\n",
            "932:\tlearn: 0.6646657\ttotal: 10m 42s\tremaining: 46.2s\n",
            "933:\tlearn: 0.6645888\ttotal: 10m 43s\tremaining: 45.5s\n",
            "934:\tlearn: 0.6645228\ttotal: 10m 44s\tremaining: 44.8s\n",
            "935:\tlearn: 0.6644321\ttotal: 10m 44s\tremaining: 44.1s\n",
            "936:\tlearn: 0.6643674\ttotal: 10m 45s\tremaining: 43.4s\n",
            "937:\tlearn: 0.6642763\ttotal: 10m 45s\tremaining: 42.7s\n",
            "938:\tlearn: 0.6642110\ttotal: 10m 46s\tremaining: 42s\n",
            "939:\tlearn: 0.6641413\ttotal: 10m 47s\tremaining: 41.3s\n",
            "940:\tlearn: 0.6641027\ttotal: 10m 47s\tremaining: 40.6s\n",
            "941:\tlearn: 0.6639034\ttotal: 10m 48s\tremaining: 39.9s\n",
            "942:\tlearn: 0.6638517\ttotal: 10m 49s\tremaining: 39.2s\n",
            "943:\tlearn: 0.6637914\ttotal: 10m 49s\tremaining: 38.5s\n",
            "944:\tlearn: 0.6637046\ttotal: 10m 50s\tremaining: 37.9s\n",
            "945:\tlearn: 0.6636568\ttotal: 10m 51s\tremaining: 37.2s\n",
            "946:\tlearn: 0.6635149\ttotal: 10m 52s\tremaining: 36.5s\n",
            "947:\tlearn: 0.6634050\ttotal: 10m 53s\tremaining: 35.8s\n",
            "948:\tlearn: 0.6633318\ttotal: 10m 53s\tremaining: 35.1s\n",
            "949:\tlearn: 0.6632423\ttotal: 10m 54s\tremaining: 34.4s\n",
            "950:\tlearn: 0.6631610\ttotal: 10m 55s\tremaining: 33.8s\n",
            "951:\tlearn: 0.6629691\ttotal: 10m 55s\tremaining: 33.1s\n",
            "952:\tlearn: 0.6628526\ttotal: 10m 56s\tremaining: 32.4s\n",
            "953:\tlearn: 0.6627503\ttotal: 10m 56s\tremaining: 31.7s\n",
            "954:\tlearn: 0.6626591\ttotal: 10m 57s\tremaining: 31s\n",
            "955:\tlearn: 0.6625092\ttotal: 10m 58s\tremaining: 30.3s\n",
            "956:\tlearn: 0.6623945\ttotal: 10m 58s\tremaining: 29.6s\n",
            "957:\tlearn: 0.6623069\ttotal: 10m 59s\tremaining: 28.9s\n",
            "958:\tlearn: 0.6622305\ttotal: 11m\tremaining: 28.2s\n",
            "959:\tlearn: 0.6621403\ttotal: 11m\tremaining: 27.5s\n",
            "960:\tlearn: 0.6618976\ttotal: 11m 1s\tremaining: 26.8s\n",
            "961:\tlearn: 0.6618175\ttotal: 11m 1s\tremaining: 26.1s\n",
            "962:\tlearn: 0.6617250\ttotal: 11m 2s\tremaining: 25.5s\n",
            "963:\tlearn: 0.6616527\ttotal: 11m 3s\tremaining: 24.8s\n",
            "964:\tlearn: 0.6615825\ttotal: 11m 4s\tremaining: 24.1s\n",
            "965:\tlearn: 0.6615021\ttotal: 11m 5s\tremaining: 23.4s\n",
            "966:\tlearn: 0.6614336\ttotal: 11m 6s\tremaining: 22.7s\n",
            "967:\tlearn: 0.6613127\ttotal: 11m 6s\tremaining: 22s\n",
            "968:\tlearn: 0.6612291\ttotal: 11m 7s\tremaining: 21.4s\n",
            "969:\tlearn: 0.6611509\ttotal: 11m 8s\tremaining: 20.7s\n",
            "970:\tlearn: 0.6610625\ttotal: 11m 8s\tremaining: 20s\n",
            "971:\tlearn: 0.6609619\ttotal: 11m 9s\tremaining: 19.3s\n",
            "972:\tlearn: 0.6608990\ttotal: 11m 9s\tremaining: 18.6s\n",
            "973:\tlearn: 0.6607696\ttotal: 11m 10s\tremaining: 17.9s\n",
            "974:\tlearn: 0.6607015\ttotal: 11m 11s\tremaining: 17.2s\n",
            "975:\tlearn: 0.6606181\ttotal: 11m 11s\tremaining: 16.5s\n",
            "976:\tlearn: 0.6605525\ttotal: 11m 12s\tremaining: 15.8s\n",
            "977:\tlearn: 0.6604724\ttotal: 11m 13s\tremaining: 15.1s\n",
            "978:\tlearn: 0.6603709\ttotal: 11m 13s\tremaining: 14.4s\n",
            "979:\tlearn: 0.6603202\ttotal: 11m 14s\tremaining: 13.8s\n",
            "980:\tlearn: 0.6602266\ttotal: 11m 14s\tremaining: 13.1s\n",
            "981:\tlearn: 0.6601303\ttotal: 11m 15s\tremaining: 12.4s\n",
            "982:\tlearn: 0.6600360\ttotal: 11m 16s\tremaining: 11.7s\n",
            "983:\tlearn: 0.6599692\ttotal: 11m 17s\tremaining: 11s\n",
            "984:\tlearn: 0.6599011\ttotal: 11m 18s\tremaining: 10.3s\n",
            "985:\tlearn: 0.6598316\ttotal: 11m 19s\tremaining: 9.65s\n",
            "986:\tlearn: 0.6597653\ttotal: 11m 20s\tremaining: 8.96s\n",
            "987:\tlearn: 0.6596933\ttotal: 11m 21s\tremaining: 8.28s\n",
            "988:\tlearn: 0.6596250\ttotal: 11m 22s\tremaining: 7.59s\n",
            "989:\tlearn: 0.6595847\ttotal: 11m 22s\tremaining: 6.9s\n",
            "990:\tlearn: 0.6594803\ttotal: 11m 23s\tremaining: 6.21s\n",
            "991:\tlearn: 0.6594319\ttotal: 11m 24s\tremaining: 5.52s\n",
            "992:\tlearn: 0.6593547\ttotal: 11m 24s\tremaining: 4.83s\n",
            "993:\tlearn: 0.6592159\ttotal: 11m 25s\tremaining: 4.14s\n",
            "994:\tlearn: 0.6591439\ttotal: 11m 25s\tremaining: 3.45s\n",
            "995:\tlearn: 0.6590696\ttotal: 11m 26s\tremaining: 2.76s\n",
            "996:\tlearn: 0.6589736\ttotal: 11m 27s\tremaining: 2.07s\n",
            "997:\tlearn: 0.6589027\ttotal: 11m 27s\tremaining: 1.38s\n",
            "998:\tlearn: 0.6588581\ttotal: 11m 28s\tremaining: 689ms\n",
            "999:\tlearn: 0.6587858\ttotal: 11m 29s\tremaining: 0us\n"
          ]
        },
        {
          "output_type": "execute_result",
          "data": {
            "text/plain": [
              "Pipeline(steps=[('vect', CountVectorizer(ngram_range=(1, 2))),\n",
              "                ('tfidf', TfidfTransformer()),\n",
              "                ('clf',\n",
              "                 <catboost.core.CatBoostClassifier object at 0x7f32f3044ac0>)])"
            ],
            "text/html": [
              "<style>#sk-container-id-18 {color: black;background-color: white;}#sk-container-id-18 pre{padding: 0;}#sk-container-id-18 div.sk-toggleable {background-color: white;}#sk-container-id-18 label.sk-toggleable__label {cursor: pointer;display: block;width: 100%;margin-bottom: 0;padding: 0.3em;box-sizing: border-box;text-align: center;}#sk-container-id-18 label.sk-toggleable__label-arrow:before {content: \"▸\";float: left;margin-right: 0.25em;color: #696969;}#sk-container-id-18 label.sk-toggleable__label-arrow:hover:before {color: black;}#sk-container-id-18 div.sk-estimator:hover label.sk-toggleable__label-arrow:before {color: black;}#sk-container-id-18 div.sk-toggleable__content {max-height: 0;max-width: 0;overflow: hidden;text-align: left;background-color: #f0f8ff;}#sk-container-id-18 div.sk-toggleable__content pre {margin: 0.2em;color: black;border-radius: 0.25em;background-color: #f0f8ff;}#sk-container-id-18 input.sk-toggleable__control:checked~div.sk-toggleable__content {max-height: 200px;max-width: 100%;overflow: auto;}#sk-container-id-18 input.sk-toggleable__control:checked~label.sk-toggleable__label-arrow:before {content: \"▾\";}#sk-container-id-18 div.sk-estimator input.sk-toggleable__control:checked~label.sk-toggleable__label {background-color: #d4ebff;}#sk-container-id-18 div.sk-label input.sk-toggleable__control:checked~label.sk-toggleable__label {background-color: #d4ebff;}#sk-container-id-18 input.sk-hidden--visually {border: 0;clip: rect(1px 1px 1px 1px);clip: rect(1px, 1px, 1px, 1px);height: 1px;margin: -1px;overflow: hidden;padding: 0;position: absolute;width: 1px;}#sk-container-id-18 div.sk-estimator {font-family: monospace;background-color: #f0f8ff;border: 1px dotted black;border-radius: 0.25em;box-sizing: border-box;margin-bottom: 0.5em;}#sk-container-id-18 div.sk-estimator:hover {background-color: #d4ebff;}#sk-container-id-18 div.sk-parallel-item::after {content: \"\";width: 100%;border-bottom: 1px solid gray;flex-grow: 1;}#sk-container-id-18 div.sk-label:hover label.sk-toggleable__label {background-color: #d4ebff;}#sk-container-id-18 div.sk-serial::before {content: \"\";position: absolute;border-left: 1px solid gray;box-sizing: border-box;top: 0;bottom: 0;left: 50%;z-index: 0;}#sk-container-id-18 div.sk-serial {display: flex;flex-direction: column;align-items: center;background-color: white;padding-right: 0.2em;padding-left: 0.2em;position: relative;}#sk-container-id-18 div.sk-item {position: relative;z-index: 1;}#sk-container-id-18 div.sk-parallel {display: flex;align-items: stretch;justify-content: center;background-color: white;position: relative;}#sk-container-id-18 div.sk-item::before, #sk-container-id-18 div.sk-parallel-item::before {content: \"\";position: absolute;border-left: 1px solid gray;box-sizing: border-box;top: 0;bottom: 0;left: 50%;z-index: -1;}#sk-container-id-18 div.sk-parallel-item {display: flex;flex-direction: column;z-index: 1;position: relative;background-color: white;}#sk-container-id-18 div.sk-parallel-item:first-child::after {align-self: flex-end;width: 50%;}#sk-container-id-18 div.sk-parallel-item:last-child::after {align-self: flex-start;width: 50%;}#sk-container-id-18 div.sk-parallel-item:only-child::after {width: 0;}#sk-container-id-18 div.sk-dashed-wrapped {border: 1px dashed gray;margin: 0 0.4em 0.5em 0.4em;box-sizing: border-box;padding-bottom: 0.4em;background-color: white;}#sk-container-id-18 div.sk-label label {font-family: monospace;font-weight: bold;display: inline-block;line-height: 1.2em;}#sk-container-id-18 div.sk-label-container {text-align: center;}#sk-container-id-18 div.sk-container {/* jupyter's `normalize.less` sets `[hidden] { display: none; }` but bootstrap.min.css set `[hidden] { display: none !important; }` so we also need the `!important` here to be able to override the default hidden behavior on the sphinx rendered scikit-learn.org. See: https://github.com/scikit-learn/scikit-learn/issues/21755 */display: inline-block !important;position: relative;}#sk-container-id-18 div.sk-text-repr-fallback {display: none;}</style><div id=\"sk-container-id-18\" class=\"sk-top-container\"><div class=\"sk-text-repr-fallback\"><pre>Pipeline(steps=[(&#x27;vect&#x27;, CountVectorizer(ngram_range=(1, 2))),\n",
              "                (&#x27;tfidf&#x27;, TfidfTransformer()),\n",
              "                (&#x27;clf&#x27;,\n",
              "                 &lt;catboost.core.CatBoostClassifier object at 0x7f32f3044ac0&gt;)])</pre><b>In a Jupyter environment, please rerun this cell to show the HTML representation or trust the notebook. <br />On GitHub, the HTML representation is unable to render, please try loading this page with nbviewer.org.</b></div><div class=\"sk-container\" hidden><div class=\"sk-item sk-dashed-wrapped\"><div class=\"sk-label-container\"><div class=\"sk-label sk-toggleable\"><input class=\"sk-toggleable__control sk-hidden--visually\" id=\"sk-estimator-id-69\" type=\"checkbox\" ><label for=\"sk-estimator-id-69\" class=\"sk-toggleable__label sk-toggleable__label-arrow\">Pipeline</label><div class=\"sk-toggleable__content\"><pre>Pipeline(steps=[(&#x27;vect&#x27;, CountVectorizer(ngram_range=(1, 2))),\n",
              "                (&#x27;tfidf&#x27;, TfidfTransformer()),\n",
              "                (&#x27;clf&#x27;,\n",
              "                 &lt;catboost.core.CatBoostClassifier object at 0x7f32f3044ac0&gt;)])</pre></div></div></div><div class=\"sk-serial\"><div class=\"sk-item\"><div class=\"sk-estimator sk-toggleable\"><input class=\"sk-toggleable__control sk-hidden--visually\" id=\"sk-estimator-id-70\" type=\"checkbox\" ><label for=\"sk-estimator-id-70\" class=\"sk-toggleable__label sk-toggleable__label-arrow\">CountVectorizer</label><div class=\"sk-toggleable__content\"><pre>CountVectorizer(ngram_range=(1, 2))</pre></div></div></div><div class=\"sk-item\"><div class=\"sk-estimator sk-toggleable\"><input class=\"sk-toggleable__control sk-hidden--visually\" id=\"sk-estimator-id-71\" type=\"checkbox\" ><label for=\"sk-estimator-id-71\" class=\"sk-toggleable__label sk-toggleable__label-arrow\">TfidfTransformer</label><div class=\"sk-toggleable__content\"><pre>TfidfTransformer()</pre></div></div></div><div class=\"sk-item\"><div class=\"sk-estimator sk-toggleable\"><input class=\"sk-toggleable__control sk-hidden--visually\" id=\"sk-estimator-id-72\" type=\"checkbox\" ><label for=\"sk-estimator-id-72\" class=\"sk-toggleable__label sk-toggleable__label-arrow\">CatBoostClassifier</label><div class=\"sk-toggleable__content\"><pre>&lt;catboost.core.CatBoostClassifier object at 0x7f32f3044ac0&gt;</pre></div></div></div></div></div></div></div>"
            ]
          },
          "metadata": {},
          "execution_count": 223
        }
      ],
      "source": [
        "# Algorithm training X_train, X_test, y_train, y_test\n",
        "ctb_model = ctb_pipeline.fit(X_train.values.astype('U'), y_train.values.astype('int64'))\n",
        "ctb_model"
      ],
      "id": "b7afda62-ad92-4738-b1e9-8936b18b05a5"
    },
    {
      "cell_type": "code",
      "execution_count": 224,
      "metadata": {
        "colab": {
          "base_uri": "https://localhost:8080/"
        },
        "id": "0efb5ded-6bbd-479a-9c18-ed293a6c89bc",
        "outputId": "642d3a3d-53e8-4359-a8b3-aab33b586bbc"
      },
      "outputs": [
        {
          "output_type": "execute_result",
          "data": {
            "text/plain": [
              "array([-1,  0,  1])"
            ]
          },
          "metadata": {},
          "execution_count": 224
        }
      ],
      "source": [
        "#predicting and generating classes\n",
        "y_pred = ctb_model.predict(X_test.values.astype('U'))\n",
        "ctb_model.classes_"
      ],
      "id": "0efb5ded-6bbd-479a-9c18-ed293a6c89bc"
    },
    {
      "cell_type": "code",
      "execution_count": 225,
      "metadata": {
        "colab": {
          "base_uri": "https://localhost:8080/"
        },
        "id": "f82aa16c-43dc-4ab5-ba09-7aaf634432ce",
        "outputId": "49cf8a1b-aea9-4b54-b7ac-e6c79ca8373d"
      },
      "outputs": [
        {
          "output_type": "stream",
          "name": "stdout",
          "text": [
            "[[639 289   1]\n",
            " [251 460   1]\n",
            " [ 59  50   4]]\n"
          ]
        }
      ],
      "source": [
        "#printing the confusion matrix\n",
        "cm = confusion_matrix(y_test, y_pred, labels=ctb_model.classes_)\n",
        "print(cm)"
      ],
      "id": "f82aa16c-43dc-4ab5-ba09-7aaf634432ce"
    },
    {
      "cell_type": "code",
      "execution_count": 226,
      "metadata": {
        "colab": {
          "base_uri": "https://localhost:8080/",
          "height": 466
        },
        "id": "4e58e88a-5ece-44a8-ad88-ce76db4bf3dc",
        "outputId": "0ebd8534-520e-4589-c8de-a2834e1cc93e"
      },
      "outputs": [
        {
          "output_type": "execute_result",
          "data": {
            "text/plain": [
              "<sklearn.metrics._plot.confusion_matrix.ConfusionMatrixDisplay at 0x7f32f3044b50>"
            ]
          },
          "metadata": {},
          "execution_count": 226
        },
        {
          "output_type": "display_data",
          "data": {
            "text/plain": [
              "<Figure size 640x480 with 2 Axes>"
            ],
            "image/png": "[encoded data removed]"
          },
          "metadata": {}
        }
      ],
      "source": [
        "# Visualization of the confusion matrix\n",
        "cm_dsp=ConfusionMatrixDisplay(confusion_matrix=cm, display_labels=['Negatives', 'Neutral', 'Positive'])\n",
        "cm_dsp.plot()"
      ],
      "id": "4e58e88a-5ece-44a8-ad88-ce76db4bf3dc"
    },
    {
      "cell_type": "code",
      "source": [
        "%%time\n",
        "\n",
        "#predicting \n",
        "y_pred = ctb_model.predict(X_test.values.astype('U'))\n",
        "\n",
        "# Generating a model performance scores\n",
        "model_score = ctb_model.score(X_test.values.astype('U'), y_test.values.astype('int64'))\n",
        "print(f'Model Score: {model_score:.4f}')\n",
        "#Accurracy acore\n",
        "accuracy = accuracy_score(y_test, y_pred)\n",
        "print()\n",
        "print(f\"Accuracy: {accuracy:.4f}\")\n",
        "#F1 Score\n",
        "f1 = f1_score(y_test, y_pred, average='weighted')\n",
        "print(f\"F1-score: {f1:.4f}\")\n",
        "#CPU and wall time\n",
        "print(\"CPU times and Wall time: \")"
      ],
      "metadata": {
        "colab": {
          "base_uri": "https://localhost:8080/"
        },
        "id": "C_UdkCM-3-at",
        "outputId": "1ebc6264-2a42-432e-fb97-6caa27f1b753"
      },
      "id": "C_UdkCM-3-at",
      "execution_count": 227,
      "outputs": [
        {
          "output_type": "stream",
          "name": "stdout",
          "text": [
            "Model Score: 0.6288\n",
            "\n",
            "Accuracy: 0.6288\n",
            "F1-score: 0.6119\n",
            "CPU times and Wall time: \n",
            "CPU times: user 654 ms, sys: 33.9 ms, total: 688 ms\n",
            "Wall time: 704 ms\n"
          ]
        }
      ]
    },
    {
      "cell_type": "code",
      "execution_count": 228,
      "metadata": {
        "colab": {
          "base_uri": "https://localhost:8080/"
        },
        "id": "f9e63415-8f73-425b-b5c7-e7bfba07b9bd",
        "outputId": "7c50cdef-4f98-4d8a-d5c6-c64c4e6d6042"
      },
      "outputs": [
        {
          "output_type": "execute_result",
          "data": {
            "text/plain": [
              "['models/CatBoostClassifier_model_score_62.88.pkl']"
            ]
          },
          "metadata": {},
          "execution_count": 228
        }
      ],
      "source": [
        "# Save to file / directory\n",
        "joblib_file = \"models/CatBoostClassifier_model_score_\"+ str(round(accuracy*100,2))+\".pkl\"\n",
        "joblib.dump(ctb_model, joblib_file)"
      ],
      "id": "f9e63415-8f73-425b-b5c7-e7bfba07b9bd"
    }
  ],
  "metadata": {
    "colab": {
      "provenance": [],
      "include_colab_link": true
    },
    "kernelspec": {
      "display_name": "Python 3",
      "language": "python",
      "name": "python3"
    },
    "language_info": {
      "codemirror_mode": {
        "name": "ipython",
        "version": 3
      },
      "file_extension": ".py",
      "mimetype": "text/x-python",
      "name": "python",
      "nbconvert_exporter": "python",
      "pygments_lexer": "ipython3",
      "version": "3.11.2 (v3.11.2:878ead1ac1, Feb  7 2023, 10:02:41) [Clang 13.0.0 (clang-1300.0.29.30)]"
    },
    "vscode": {
      "interpreter": {
        "hash": "aee8b7b246df8f9039afb4144a1f6fd8d2ca17a180786b69acc140d282b71a49"
      }
    }
  },
  "nbformat": 4,
  "nbformat_minor": 5
}